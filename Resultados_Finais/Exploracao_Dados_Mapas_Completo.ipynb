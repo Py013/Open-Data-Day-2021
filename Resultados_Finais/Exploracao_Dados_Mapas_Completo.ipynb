{
 "cells": [
  {
   "cell_type": "markdown",
   "metadata": {},
   "source": [
    "### Bibliotecas"
   ]
  },
  {
   "cell_type": "code",
   "execution_count": 1,
   "metadata": {},
   "outputs": [],
   "source": [
    "#Pandas\n",
    "import pandas as pd \n",
    "\n",
    "#Folium \n",
    "import folium \n",
    "\n",
    "# Adicionando os registros no mapa de calor:\n",
    "from folium import plugins\n",
    "\n",
    "#Numpy (Computação Científica)\n",
    "import numpy as np\n",
    "\n",
    "#Visualização\n",
    "import seaborn as sns"
   ]
  },
  {
   "cell_type": "markdown",
   "metadata": {},
   "source": [
    "### Carga dos Dados "
   ]
  },
  {
   "cell_type": "code",
   "execution_count": 9,
   "metadata": {},
   "outputs": [
    {
     "data": {
      "text/plain": [
       "(1347, 29)"
      ]
     },
     "execution_count": 9,
     "metadata": {},
     "output_type": "execute_result"
    }
   ],
   "source": [
    "# Carga de dados no dataset inicial \n",
    "df_vacinas = pd.read_excel(\n",
    "    \"../Base_Mapas/Base_Vacinas_Tratadas_Mapas.xlsx\"\n",
    "    , sheet_name=0, na_values = ['', ' ']\n",
    "    , dtype  = {'CODMUN7': np.int64, 'ano': np.int32, 'Estado': 'category'\n",
    "        , 'CV_SCR1 (1 ano)': np.float32, 'CV_SCR2 (15 meses)': np.float32, 'Poprural': np.float32\n",
    "        , 'PopUrb': np.float32, 'RDPC': np.float32, 'PEA': np.float32, 'PEA_A': np.float32\n",
    "        , 'IDHM': np.float32, 'IDHM_E': np.float32, 'IDHM_L': np.float32, 'IDHM_R': np.float32\n",
    "        , 'T_ANALF18M': np.float32, 'T_MED18M': np.float32,'T_SUPER25M': np.float32, 'T_AGUA': np.float32\n",
    "        , 'T_BANAGUA': np.float32, 'T_DENS': np.float32, 'T_LIXO': np.float32\n",
    "        , 'T_LUZ': np.float32,'AGUA_ESGOTO': np.float32, 'POPDOMCHEFMULHERES': np.float32, 'DENSDEMOG2010': np.float32\n",
    "        , 'PERC_NV_7CPN': np.float32,'CoberturaAB': np.float32\n",
    "})\n",
    "\n",
    "df_vacinas.rename(columns={'Estado': 'UF', 'ano':'ANO','Nome': 'MUNICIPIO', 'CV_SCR1 (1 ano)': 'CV_SCR1'\n",
    "                          , 'CV_SCR2 (15 meses)': 'CV_SCR2', 'Poprural': 'POPRURAL', 'PopUrb': 'POPURB'\n",
    "                          , 'CoberturaAB': 'COBERTURA_AB'}, inplace=True)\n",
    "\n",
    "df_vacinas.shape"
   ]
  },
  {
   "cell_type": "code",
   "execution_count": 15,
   "metadata": {},
   "outputs": [],
   "source": [
    "# Carga de dados de localização de muncipios\n",
    "\n",
    "df_estados = pd.read_csv('../Base_Mapas/estados.csv', sep = ',', encoding = 'utf-8', low_memory=False, decimal='.')\n",
    "\n",
    "df_municipios = pd.read_csv('../Base_Mapas/municipios.csv', sep = ',', encoding = 'utf-8', low_memory=False, decimal='.')\n",
    "\n",
    "\n",
    "df_estados.rename(columns={'codigo_uf': 'CODIGO_UF', 'uf':'UF','nome': 'ESTADO', 'latitude': 'LATITUDE'\n",
    "                          , 'longitude': 'LONGITUDE'}, inplace=True)"
   ]
  },
  {
   "cell_type": "code",
   "execution_count": 4,
   "metadata": {},
   "outputs": [
    {
     "data": {
      "text/html": [
       "<div>\n",
       "<style scoped>\n",
       "    .dataframe tbody tr th:only-of-type {\n",
       "        vertical-align: middle;\n",
       "    }\n",
       "\n",
       "    .dataframe tbody tr th {\n",
       "        vertical-align: top;\n",
       "    }\n",
       "\n",
       "    .dataframe thead th {\n",
       "        text-align: right;\n",
       "    }\n",
       "</style>\n",
       "<table border=\"1\" class=\"dataframe\">\n",
       "  <thead>\n",
       "    <tr style=\"text-align: right;\">\n",
       "      <th></th>\n",
       "      <th>COD</th>\n",
       "      <th>CODMUN7</th>\n",
       "      <th>UF</th>\n",
       "      <th>ANO</th>\n",
       "      <th>MUNICIPIO</th>\n",
       "      <th>CV_SCR1</th>\n",
       "      <th>CV_SCR2</th>\n",
       "      <th>POPRURAL</th>\n",
       "      <th>POPURB</th>\n",
       "      <th>RDPC</th>\n",
       "      <th>...</th>\n",
       "      <th>T_AGUA</th>\n",
       "      <th>T_BANAGUA</th>\n",
       "      <th>T_DENS</th>\n",
       "      <th>T_LIXO</th>\n",
       "      <th>T_LUZ</th>\n",
       "      <th>AGUA_ESGOTO</th>\n",
       "      <th>POPDOMCHEFMULHERES</th>\n",
       "      <th>DENSDEMOG2010</th>\n",
       "      <th>PERC_NV_7CPN</th>\n",
       "      <th>COBERTURA_AB</th>\n",
       "    </tr>\n",
       "  </thead>\n",
       "  <tbody>\n",
       "    <tr>\n",
       "      <th>0</th>\n",
       "      <td>110001</td>\n",
       "      <td>1100015</td>\n",
       "      <td>Rondônia</td>\n",
       "      <td>2016</td>\n",
       "      <td>Alta Floresta D'Oeste</td>\n",
       "      <td>96.449997</td>\n",
       "      <td>92.080002</td>\n",
       "      <td>42.73</td>\n",
       "      <td>57.270000</td>\n",
       "      <td>476.989990</td>\n",
       "      <td>...</td>\n",
       "      <td>93.690002</td>\n",
       "      <td>80.199997</td>\n",
       "      <td>22.58</td>\n",
       "      <td>94.050003</td>\n",
       "      <td>93.980003</td>\n",
       "      <td>9.31</td>\n",
       "      <td>26.920000</td>\n",
       "      <td>3.45</td>\n",
       "      <td>67.180000</td>\n",
       "      <td>80.930000</td>\n",
       "    </tr>\n",
       "    <tr>\n",
       "      <th>1</th>\n",
       "      <td>110002</td>\n",
       "      <td>1100023</td>\n",
       "      <td>Rondônia</td>\n",
       "      <td>2016</td>\n",
       "      <td>Ariquemes</td>\n",
       "      <td>98.919998</td>\n",
       "      <td>89.519997</td>\n",
       "      <td>15.30</td>\n",
       "      <td>84.699997</td>\n",
       "      <td>689.950012</td>\n",
       "      <td>...</td>\n",
       "      <td>98.540001</td>\n",
       "      <td>85.349998</td>\n",
       "      <td>27.15</td>\n",
       "      <td>96.720001</td>\n",
       "      <td>98.580002</td>\n",
       "      <td>11.40</td>\n",
       "      <td>32.630001</td>\n",
       "      <td>20.41</td>\n",
       "      <td>72.620003</td>\n",
       "      <td>61.919998</td>\n",
       "    </tr>\n",
       "  </tbody>\n",
       "</table>\n",
       "<p>2 rows × 29 columns</p>\n",
       "</div>"
      ],
      "text/plain": [
       "      COD  CODMUN7        UF   ANO              MUNICIPIO    CV_SCR1  \\\n",
       "0  110001  1100015  Rondônia  2016  Alta Floresta D'Oeste  96.449997   \n",
       "1  110002  1100023  Rondônia  2016              Ariquemes  98.919998   \n",
       "\n",
       "     CV_SCR2  POPRURAL     POPURB        RDPC      ...          T_AGUA  \\\n",
       "0  92.080002     42.73  57.270000  476.989990      ...       93.690002   \n",
       "1  89.519997     15.30  84.699997  689.950012      ...       98.540001   \n",
       "\n",
       "   T_BANAGUA  T_DENS     T_LIXO      T_LUZ  AGUA_ESGOTO  POPDOMCHEFMULHERES  \\\n",
       "0  80.199997   22.58  94.050003  93.980003         9.31           26.920000   \n",
       "1  85.349998   27.15  96.720001  98.580002        11.40           32.630001   \n",
       "\n",
       "   DENSDEMOG2010  PERC_NV_7CPN  COBERTURA_AB  \n",
       "0           3.45     67.180000     80.930000  \n",
       "1          20.41     72.620003     61.919998  \n",
       "\n",
       "[2 rows x 29 columns]"
      ]
     },
     "execution_count": 4,
     "metadata": {},
     "output_type": "execute_result"
    }
   ],
   "source": [
    "df_vacinas.head(2)"
   ]
  },
  {
   "cell_type": "code",
   "execution_count": 10,
   "metadata": {},
   "outputs": [
    {
     "data": {
      "text/html": [
       "<div style=\"width:100%;\"><div style=\"position:relative;width:100%;height:0;padding-bottom:60%;\"><span style=\"color:#565656\">Make this Notebook Trusted to load map: File -> Trust Notebook</span><iframe src=\"about:blank\" style=\"position:absolute;width:100%;height:100%;left:0;top:0;border:none !important;\" data-html=%3C%21DOCTYPE%20html%3E%0A%3Chead%3E%20%20%20%20%0A%20%20%20%20%3Cmeta%20http-equiv%3D%22content-type%22%20content%3D%22text/html%3B%20charset%3DUTF-8%22%20/%3E%0A%20%20%20%20%0A%20%20%20%20%20%20%20%20%3Cscript%3E%0A%20%20%20%20%20%20%20%20%20%20%20%20L_NO_TOUCH%20%3D%20false%3B%0A%20%20%20%20%20%20%20%20%20%20%20%20L_DISABLE_3D%20%3D%20false%3B%0A%20%20%20%20%20%20%20%20%3C/script%3E%0A%20%20%20%20%0A%20%20%20%20%3Cstyle%3Ehtml%2C%20body%20%7Bwidth%3A%20100%25%3Bheight%3A%20100%25%3Bmargin%3A%200%3Bpadding%3A%200%3B%7D%3C/style%3E%0A%20%20%20%20%3Cstyle%3E%23map%20%7Bposition%3Aabsolute%3Btop%3A0%3Bbottom%3A0%3Bright%3A0%3Bleft%3A0%3B%7D%3C/style%3E%0A%20%20%20%20%3Cscript%20src%3D%22https%3A//cdn.jsdelivr.net/npm/leaflet%401.6.0/dist/leaflet.js%22%3E%3C/script%3E%0A%20%20%20%20%3Cscript%20src%3D%22https%3A//code.jquery.com/jquery-1.12.4.min.js%22%3E%3C/script%3E%0A%20%20%20%20%3Cscript%20src%3D%22https%3A//maxcdn.bootstrapcdn.com/bootstrap/3.2.0/js/bootstrap.min.js%22%3E%3C/script%3E%0A%20%20%20%20%3Cscript%20src%3D%22https%3A//cdnjs.cloudflare.com/ajax/libs/Leaflet.awesome-markers/2.0.2/leaflet.awesome-markers.js%22%3E%3C/script%3E%0A%20%20%20%20%3Clink%20rel%3D%22stylesheet%22%20href%3D%22https%3A//cdn.jsdelivr.net/npm/leaflet%401.6.0/dist/leaflet.css%22/%3E%0A%20%20%20%20%3Clink%20rel%3D%22stylesheet%22%20href%3D%22https%3A//maxcdn.bootstrapcdn.com/bootstrap/3.2.0/css/bootstrap.min.css%22/%3E%0A%20%20%20%20%3Clink%20rel%3D%22stylesheet%22%20href%3D%22https%3A//maxcdn.bootstrapcdn.com/bootstrap/3.2.0/css/bootstrap-theme.min.css%22/%3E%0A%20%20%20%20%3Clink%20rel%3D%22stylesheet%22%20href%3D%22https%3A//maxcdn.bootstrapcdn.com/font-awesome/4.6.3/css/font-awesome.min.css%22/%3E%0A%20%20%20%20%3Clink%20rel%3D%22stylesheet%22%20href%3D%22https%3A//cdnjs.cloudflare.com/ajax/libs/Leaflet.awesome-markers/2.0.2/leaflet.awesome-markers.css%22/%3E%0A%20%20%20%20%3Clink%20rel%3D%22stylesheet%22%20href%3D%22https%3A//cdn.jsdelivr.net/gh/python-visualization/folium/folium/templates/leaflet.awesome.rotate.min.css%22/%3E%0A%20%20%20%20%0A%20%20%20%20%20%20%20%20%20%20%20%20%3Cmeta%20name%3D%22viewport%22%20content%3D%22width%3Ddevice-width%2C%0A%20%20%20%20%20%20%20%20%20%20%20%20%20%20%20%20initial-scale%3D1.0%2C%20maximum-scale%3D1.0%2C%20user-scalable%3Dno%22%20/%3E%0A%20%20%20%20%20%20%20%20%20%20%20%20%3Cstyle%3E%0A%20%20%20%20%20%20%20%20%20%20%20%20%20%20%20%20%23map_78bed96b8e9a43b6b2fbe5f9c13410c7%20%7B%0A%20%20%20%20%20%20%20%20%20%20%20%20%20%20%20%20%20%20%20%20position%3A%20relative%3B%0A%20%20%20%20%20%20%20%20%20%20%20%20%20%20%20%20%20%20%20%20width%3A%20100.0%25%3B%0A%20%20%20%20%20%20%20%20%20%20%20%20%20%20%20%20%20%20%20%20height%3A%20100.0%25%3B%0A%20%20%20%20%20%20%20%20%20%20%20%20%20%20%20%20%20%20%20%20left%3A%200.0%25%3B%0A%20%20%20%20%20%20%20%20%20%20%20%20%20%20%20%20%20%20%20%20top%3A%200.0%25%3B%0A%20%20%20%20%20%20%20%20%20%20%20%20%20%20%20%20%7D%0A%20%20%20%20%20%20%20%20%20%20%20%20%3C/style%3E%0A%20%20%20%20%20%20%20%20%0A%3C/head%3E%0A%3Cbody%3E%20%20%20%20%0A%20%20%20%20%0A%20%20%20%20%20%20%20%20%20%20%20%20%3Cdiv%20class%3D%22folium-map%22%20id%3D%22map_78bed96b8e9a43b6b2fbe5f9c13410c7%22%20%3E%3C/div%3E%0A%20%20%20%20%20%20%20%20%0A%3C/body%3E%0A%3Cscript%3E%20%20%20%20%0A%20%20%20%20%0A%20%20%20%20%20%20%20%20%20%20%20%20var%20map_78bed96b8e9a43b6b2fbe5f9c13410c7%20%3D%20L.map%28%0A%20%20%20%20%20%20%20%20%20%20%20%20%20%20%20%20%22map_78bed96b8e9a43b6b2fbe5f9c13410c7%22%2C%0A%20%20%20%20%20%20%20%20%20%20%20%20%20%20%20%20%7B%0A%20%20%20%20%20%20%20%20%20%20%20%20%20%20%20%20%20%20%20%20center%3A%20%5B-15.788497%2C%20-47.879873%5D%2C%0A%20%20%20%20%20%20%20%20%20%20%20%20%20%20%20%20%20%20%20%20crs%3A%20L.CRS.EPSG3857%2C%0A%20%20%20%20%20%20%20%20%20%20%20%20%20%20%20%20%20%20%20%20zoom%3A%204.5%2C%0A%20%20%20%20%20%20%20%20%20%20%20%20%20%20%20%20%20%20%20%20zoomControl%3A%20true%2C%0A%20%20%20%20%20%20%20%20%20%20%20%20%20%20%20%20%20%20%20%20preferCanvas%3A%20false%2C%0A%20%20%20%20%20%20%20%20%20%20%20%20%20%20%20%20%7D%0A%20%20%20%20%20%20%20%20%20%20%20%20%29%3B%0A%0A%20%20%20%20%20%20%20%20%20%20%20%20%0A%0A%20%20%20%20%20%20%20%20%0A%20%20%20%20%0A%20%20%20%20%20%20%20%20%20%20%20%20var%20tile_layer_2d1e75bcb5cd4dc599e980ee60aac52c%20%3D%20L.tileLayer%28%0A%20%20%20%20%20%20%20%20%20%20%20%20%20%20%20%20%22https%3A//%7Bs%7D.tile.openstreetmap.org/%7Bz%7D/%7Bx%7D/%7By%7D.png%22%2C%0A%20%20%20%20%20%20%20%20%20%20%20%20%20%20%20%20%7B%22attribution%22%3A%20%22Data%20by%20%5Cu0026copy%3B%20%5Cu003ca%20href%3D%5C%22http%3A//openstreetmap.org%5C%22%5Cu003eOpenStreetMap%5Cu003c/a%5Cu003e%2C%20under%20%5Cu003ca%20href%3D%5C%22http%3A//www.openstreetmap.org/copyright%5C%22%5Cu003eODbL%5Cu003c/a%5Cu003e.%22%2C%20%22detectRetina%22%3A%20false%2C%20%22maxNativeZoom%22%3A%2018%2C%20%22maxZoom%22%3A%2018%2C%20%22minZoom%22%3A%200%2C%20%22noWrap%22%3A%20false%2C%20%22opacity%22%3A%201%2C%20%22subdomains%22%3A%20%22abc%22%2C%20%22tms%22%3A%20false%7D%0A%20%20%20%20%20%20%20%20%20%20%20%20%29.addTo%28map_78bed96b8e9a43b6b2fbe5f9c13410c7%29%3B%0A%20%20%20%20%20%20%20%20%0A%3C/script%3E onload=\"this.contentDocument.open();this.contentDocument.write(    decodeURIComponent(this.getAttribute('data-html')));this.contentDocument.close();\" allowfullscreen webkitallowfullscreen mozallowfullscreen></iframe></div></div>"
      ],
      "text/plain": [
       "<folium.folium.Map at 0x2454ae63048>"
      ]
     },
     "execution_count": 10,
     "metadata": {},
     "output_type": "execute_result"
    }
   ],
   "source": [
    "# Renderizando o mapa\n",
    "mapa = folium.Map(location=[-15.788497,-47.879873],zoom_start=4.5)\n",
    "mapa"
   ]
  },
  {
   "cell_type": "code",
   "execution_count": 17,
   "metadata": {},
   "outputs": [
    {
     "data": {
      "text/html": [
       "<div>\n",
       "<style scoped>\n",
       "    .dataframe tbody tr th:only-of-type {\n",
       "        vertical-align: middle;\n",
       "    }\n",
       "\n",
       "    .dataframe tbody tr th {\n",
       "        vertical-align: top;\n",
       "    }\n",
       "\n",
       "    .dataframe thead th {\n",
       "        text-align: right;\n",
       "    }\n",
       "</style>\n",
       "<table border=\"1\" class=\"dataframe\">\n",
       "  <thead>\n",
       "    <tr style=\"text-align: right;\">\n",
       "      <th></th>\n",
       "      <th>COD</th>\n",
       "      <th>CODMUN7</th>\n",
       "      <th>UF_x</th>\n",
       "      <th>ANO</th>\n",
       "      <th>MUNICIPIO</th>\n",
       "      <th>CV_SCR1</th>\n",
       "      <th>CV_SCR2</th>\n",
       "      <th>POPRURAL</th>\n",
       "      <th>POPURB</th>\n",
       "      <th>RDPC</th>\n",
       "      <th>...</th>\n",
       "      <th>AGUA_ESGOTO</th>\n",
       "      <th>POPDOMCHEFMULHERES</th>\n",
       "      <th>DENSDEMOG2010</th>\n",
       "      <th>PERC_NV_7CPN</th>\n",
       "      <th>COBERTURA_AB</th>\n",
       "      <th>CODIGO_UF</th>\n",
       "      <th>UF_y</th>\n",
       "      <th>ESTADO</th>\n",
       "      <th>LATITUDE</th>\n",
       "      <th>LONGITUDE</th>\n",
       "    </tr>\n",
       "  </thead>\n",
       "  <tbody>\n",
       "    <tr>\n",
       "      <th>0</th>\n",
       "      <td>110001</td>\n",
       "      <td>1100015</td>\n",
       "      <td>Rondônia</td>\n",
       "      <td>2016</td>\n",
       "      <td>Alta Floresta D'Oeste</td>\n",
       "      <td>96.449997</td>\n",
       "      <td>92.080002</td>\n",
       "      <td>42.73</td>\n",
       "      <td>57.270000</td>\n",
       "      <td>476.989990</td>\n",
       "      <td>...</td>\n",
       "      <td>9.31</td>\n",
       "      <td>26.920000</td>\n",
       "      <td>3.45</td>\n",
       "      <td>67.180000</td>\n",
       "      <td>80.930000</td>\n",
       "      <td>11</td>\n",
       "      <td>RO</td>\n",
       "      <td>Rondônia</td>\n",
       "      <td>-10.83</td>\n",
       "      <td>-63.34</td>\n",
       "    </tr>\n",
       "    <tr>\n",
       "      <th>1</th>\n",
       "      <td>110002</td>\n",
       "      <td>1100023</td>\n",
       "      <td>Rondônia</td>\n",
       "      <td>2016</td>\n",
       "      <td>Ariquemes</td>\n",
       "      <td>98.919998</td>\n",
       "      <td>89.519997</td>\n",
       "      <td>15.30</td>\n",
       "      <td>84.699997</td>\n",
       "      <td>689.950012</td>\n",
       "      <td>...</td>\n",
       "      <td>11.40</td>\n",
       "      <td>32.630001</td>\n",
       "      <td>20.41</td>\n",
       "      <td>72.620003</td>\n",
       "      <td>61.919998</td>\n",
       "      <td>11</td>\n",
       "      <td>RO</td>\n",
       "      <td>Rondônia</td>\n",
       "      <td>-10.83</td>\n",
       "      <td>-63.34</td>\n",
       "    </tr>\n",
       "  </tbody>\n",
       "</table>\n",
       "<p>2 rows × 34 columns</p>\n",
       "</div>"
      ],
      "text/plain": [
       "      COD  CODMUN7      UF_x   ANO              MUNICIPIO    CV_SCR1  \\\n",
       "0  110001  1100015  Rondônia  2016  Alta Floresta D'Oeste  96.449997   \n",
       "1  110002  1100023  Rondônia  2016              Ariquemes  98.919998   \n",
       "\n",
       "     CV_SCR2  POPRURAL     POPURB        RDPC    ...      AGUA_ESGOTO  \\\n",
       "0  92.080002     42.73  57.270000  476.989990    ...             9.31   \n",
       "1  89.519997     15.30  84.699997  689.950012    ...            11.40   \n",
       "\n",
       "   POPDOMCHEFMULHERES  DENSDEMOG2010  PERC_NV_7CPN  COBERTURA_AB  CODIGO_UF  \\\n",
       "0           26.920000           3.45     67.180000     80.930000         11   \n",
       "1           32.630001          20.41     72.620003     61.919998         11   \n",
       "\n",
       "   UF_y    ESTADO  LATITUDE  LONGITUDE  \n",
       "0    RO  Rondônia    -10.83     -63.34  \n",
       "1    RO  Rondônia    -10.83     -63.34  \n",
       "\n",
       "[2 rows x 34 columns]"
      ]
     },
     "execution_count": 17,
     "metadata": {},
     "output_type": "execute_result"
    }
   ],
   "source": [
    "# Merge dataset vacinas e geolocalização\n",
    "df_plot_estados = pd.merge(df_vacinas, df_estados, how='left', left_on='UF', right_on='ESTADO')\n",
    "df_plot_estados.head(2)"
   ]
  },
  {
   "cell_type": "code",
   "execution_count": 20,
   "metadata": {},
   "outputs": [],
   "source": [
    "# Renderizando o mapa\n",
    "mapa = folium.Map(location=[-15.788497,-47.879873],zoom_start=4.4,tiles='Stamen Toner')"
   ]
  },
  {
   "cell_type": "code",
   "execution_count": 18,
   "metadata": {},
   "outputs": [],
   "source": [
    "# Extraindo as coordenadas\n",
    "coordenadas=[]\n",
    "for lat,lng in zip(df_plot_estados.LATITUDE.values,df_plot_estados.LONGITUDE.values):\n",
    "       coordenadas.append([lat,lng])"
   ]
  },
  {
   "cell_type": "code",
   "execution_count": 19,
   "metadata": {},
   "outputs": [
    {
     "data": {
      "text/html": [
       "<div style=\"width:100%;\"><div style=\"position:relative;width:100%;height:0;padding-bottom:60%;\"><span style=\"color:#565656\">Make this Notebook Trusted to load map: File -> Trust Notebook</span><iframe src=\"about:blank\" style=\"position:absolute;width:100%;height:100%;left:0;top:0;border:none !important;\" data-html=%3C%21DOCTYPE%20html%3E%0A%3Chead%3E%20%20%20%20%0A%20%20%20%20%3Cmeta%20http-equiv%3D%22content-type%22%20content%3D%22text/html%3B%20charset%3DUTF-8%22%20/%3E%0A%20%20%20%20%0A%20%20%20%20%20%20%20%20%3Cscript%3E%0A%20%20%20%20%20%20%20%20%20%20%20%20L_NO_TOUCH%20%3D%20false%3B%0A%20%20%20%20%20%20%20%20%20%20%20%20L_DISABLE_3D%20%3D%20false%3B%0A%20%20%20%20%20%20%20%20%3C/script%3E%0A%20%20%20%20%0A%20%20%20%20%3Cstyle%3Ehtml%2C%20body%20%7Bwidth%3A%20100%25%3Bheight%3A%20100%25%3Bmargin%3A%200%3Bpadding%3A%200%3B%7D%3C/style%3E%0A%20%20%20%20%3Cstyle%3E%23map%20%7Bposition%3Aabsolute%3Btop%3A0%3Bbottom%3A0%3Bright%3A0%3Bleft%3A0%3B%7D%3C/style%3E%0A%20%20%20%20%3Cscript%20src%3D%22https%3A//cdn.jsdelivr.net/npm/leaflet%401.6.0/dist/leaflet.js%22%3E%3C/script%3E%0A%20%20%20%20%3Cscript%20src%3D%22https%3A//code.jquery.com/jquery-1.12.4.min.js%22%3E%3C/script%3E%0A%20%20%20%20%3Cscript%20src%3D%22https%3A//maxcdn.bootstrapcdn.com/bootstrap/3.2.0/js/bootstrap.min.js%22%3E%3C/script%3E%0A%20%20%20%20%3Cscript%20src%3D%22https%3A//cdnjs.cloudflare.com/ajax/libs/Leaflet.awesome-markers/2.0.2/leaflet.awesome-markers.js%22%3E%3C/script%3E%0A%20%20%20%20%3Clink%20rel%3D%22stylesheet%22%20href%3D%22https%3A//cdn.jsdelivr.net/npm/leaflet%401.6.0/dist/leaflet.css%22/%3E%0A%20%20%20%20%3Clink%20rel%3D%22stylesheet%22%20href%3D%22https%3A//maxcdn.bootstrapcdn.com/bootstrap/3.2.0/css/bootstrap.min.css%22/%3E%0A%20%20%20%20%3Clink%20rel%3D%22stylesheet%22%20href%3D%22https%3A//maxcdn.bootstrapcdn.com/bootstrap/3.2.0/css/bootstrap-theme.min.css%22/%3E%0A%20%20%20%20%3Clink%20rel%3D%22stylesheet%22%20href%3D%22https%3A//maxcdn.bootstrapcdn.com/font-awesome/4.6.3/css/font-awesome.min.css%22/%3E%0A%20%20%20%20%3Clink%20rel%3D%22stylesheet%22%20href%3D%22https%3A//cdnjs.cloudflare.com/ajax/libs/Leaflet.awesome-markers/2.0.2/leaflet.awesome-markers.css%22/%3E%0A%20%20%20%20%3Clink%20rel%3D%22stylesheet%22%20href%3D%22https%3A//cdn.jsdelivr.net/gh/python-visualization/folium/folium/templates/leaflet.awesome.rotate.min.css%22/%3E%0A%20%20%20%20%0A%20%20%20%20%20%20%20%20%20%20%20%20%3Cmeta%20name%3D%22viewport%22%20content%3D%22width%3Ddevice-width%2C%0A%20%20%20%20%20%20%20%20%20%20%20%20%20%20%20%20initial-scale%3D1.0%2C%20maximum-scale%3D1.0%2C%20user-scalable%3Dno%22%20/%3E%0A%20%20%20%20%20%20%20%20%20%20%20%20%3Cstyle%3E%0A%20%20%20%20%20%20%20%20%20%20%20%20%20%20%20%20%23map_78bed96b8e9a43b6b2fbe5f9c13410c7%20%7B%0A%20%20%20%20%20%20%20%20%20%20%20%20%20%20%20%20%20%20%20%20position%3A%20relative%3B%0A%20%20%20%20%20%20%20%20%20%20%20%20%20%20%20%20%20%20%20%20width%3A%20100.0%25%3B%0A%20%20%20%20%20%20%20%20%20%20%20%20%20%20%20%20%20%20%20%20height%3A%20100.0%25%3B%0A%20%20%20%20%20%20%20%20%20%20%20%20%20%20%20%20%20%20%20%20left%3A%200.0%25%3B%0A%20%20%20%20%20%20%20%20%20%20%20%20%20%20%20%20%20%20%20%20top%3A%200.0%25%3B%0A%20%20%20%20%20%20%20%20%20%20%20%20%20%20%20%20%7D%0A%20%20%20%20%20%20%20%20%20%20%20%20%3C/style%3E%0A%20%20%20%20%20%20%20%20%0A%20%20%20%20%3Cscript%20src%3D%22https%3A//cdn.jsdelivr.net/gh/python-visualization/folium%40master/folium/templates/leaflet_heat.min.js%22%3E%3C/script%3E%0A%3C/head%3E%0A%3Cbody%3E%20%20%20%20%0A%20%20%20%20%0A%20%20%20%20%20%20%20%20%20%20%20%20%3Cdiv%20class%3D%22folium-map%22%20id%3D%22map_78bed96b8e9a43b6b2fbe5f9c13410c7%22%20%3E%3C/div%3E%0A%20%20%20%20%20%20%20%20%0A%3C/body%3E%0A%3Cscript%3E%20%20%20%20%0A%20%20%20%20%0A%20%20%20%20%20%20%20%20%20%20%20%20var%20map_78bed96b8e9a43b6b2fbe5f9c13410c7%20%3D%20L.map%28%0A%20%20%20%20%20%20%20%20%20%20%20%20%20%20%20%20%22map_78bed96b8e9a43b6b2fbe5f9c13410c7%22%2C%0A%20%20%20%20%20%20%20%20%20%20%20%20%20%20%20%20%7B%0A%20%20%20%20%20%20%20%20%20%20%20%20%20%20%20%20%20%20%20%20center%3A%20%5B-15.788497%2C%20-47.879873%5D%2C%0A%20%20%20%20%20%20%20%20%20%20%20%20%20%20%20%20%20%20%20%20crs%3A%20L.CRS.EPSG3857%2C%0A%20%20%20%20%20%20%20%20%20%20%20%20%20%20%20%20%20%20%20%20zoom%3A%204.5%2C%0A%20%20%20%20%20%20%20%20%20%20%20%20%20%20%20%20%20%20%20%20zoomControl%3A%20true%2C%0A%20%20%20%20%20%20%20%20%20%20%20%20%20%20%20%20%20%20%20%20preferCanvas%3A%20false%2C%0A%20%20%20%20%20%20%20%20%20%20%20%20%20%20%20%20%7D%0A%20%20%20%20%20%20%20%20%20%20%20%20%29%3B%0A%0A%20%20%20%20%20%20%20%20%20%20%20%20%0A%0A%20%20%20%20%20%20%20%20%0A%20%20%20%20%0A%20%20%20%20%20%20%20%20%20%20%20%20var%20tile_layer_2d1e75bcb5cd4dc599e980ee60aac52c%20%3D%20L.tileLayer%28%0A%20%20%20%20%20%20%20%20%20%20%20%20%20%20%20%20%22https%3A//%7Bs%7D.tile.openstreetmap.org/%7Bz%7D/%7Bx%7D/%7By%7D.png%22%2C%0A%20%20%20%20%20%20%20%20%20%20%20%20%20%20%20%20%7B%22attribution%22%3A%20%22Data%20by%20%5Cu0026copy%3B%20%5Cu003ca%20href%3D%5C%22http%3A//openstreetmap.org%5C%22%5Cu003eOpenStreetMap%5Cu003c/a%5Cu003e%2C%20under%20%5Cu003ca%20href%3D%5C%22http%3A//www.openstreetmap.org/copyright%5C%22%5Cu003eODbL%5Cu003c/a%5Cu003e.%22%2C%20%22detectRetina%22%3A%20false%2C%20%22maxNativeZoom%22%3A%2018%2C%20%22maxZoom%22%3A%2018%2C%20%22minZoom%22%3A%200%2C%20%22noWrap%22%3A%20false%2C%20%22opacity%22%3A%201%2C%20%22subdomains%22%3A%20%22abc%22%2C%20%22tms%22%3A%20false%7D%0A%20%20%20%20%20%20%20%20%20%20%20%20%29.addTo%28map_78bed96b8e9a43b6b2fbe5f9c13410c7%29%3B%0A%20%20%20%20%20%20%20%20%0A%20%20%20%20%0A%20%20%20%20%20%20%20%20%20%20%20%20var%20heat_map_03181c1f7b5847399424469675b3435f%20%3D%20L.heatLayer%28%0A%20%20%20%20%20%20%20%20%20%20%20%20%20%20%20%20%5B%5B-10.83%2C%20-63.34%5D%2C%20%5B-10.83%2C%20-63.34%5D%2C%20%5B-10.83%2C%20-63.34%5D%2C%20%5B-10.83%2C%20-63.34%5D%2C%20%5B-10.83%2C%20-63.34%5D%2C%20%5B-10.83%2C%20-63.34%5D%2C%20%5B-10.83%2C%20-63.34%5D%2C%20%5B-10.83%2C%20-63.34%5D%2C%20%5B-10.83%2C%20-63.34%5D%2C%20%5B-10.83%2C%20-63.34%5D%2C%20%5B-10.83%2C%20-63.34%5D%2C%20%5B-10.83%2C%20-63.34%5D%2C%20%5B-10.83%2C%20-63.34%5D%2C%20%5B-10.83%2C%20-63.34%5D%2C%20%5B-10.83%2C%20-63.34%5D%2C%20%5B-10.83%2C%20-63.34%5D%2C%20%5B-10.83%2C%20-63.34%5D%2C%20%5B-10.83%2C%20-63.34%5D%2C%20%5B-10.83%2C%20-63.34%5D%2C%20%5B-10.83%2C%20-63.34%5D%2C%20%5B-10.83%2C%20-63.34%5D%2C%20%5B-10.83%2C%20-63.34%5D%2C%20%5B-10.83%2C%20-63.34%5D%2C%20%5B-10.83%2C%20-63.34%5D%2C%20%5B-10.83%2C%20-63.34%5D%2C%20%5B-10.83%2C%20-63.34%5D%2C%20%5B-10.83%2C%20-63.34%5D%2C%20%5B-10.83%2C%20-63.34%5D%2C%20%5B-10.83%2C%20-63.34%5D%2C%20%5B-10.83%2C%20-63.34%5D%2C%20%5B-10.83%2C%20-63.34%5D%2C%20%5B-10.83%2C%20-63.34%5D%2C%20%5B-10.83%2C%20-63.34%5D%2C%20%5B-10.83%2C%20-63.34%5D%2C%20%5B-10.83%2C%20-63.34%5D%2C%20%5B-10.83%2C%20-63.34%5D%2C%20%5B-10.83%2C%20-63.34%5D%2C%20%5B-10.83%2C%20-63.34%5D%2C%20%5B-10.83%2C%20-63.34%5D%2C%20%5B-10.83%2C%20-63.34%5D%2C%20%5B-10.83%2C%20-63.34%5D%2C%20%5B-10.83%2C%20-63.34%5D%2C%20%5B-10.83%2C%20-63.34%5D%2C%20%5B-10.83%2C%20-63.34%5D%2C%20%5B-10.83%2C%20-63.34%5D%2C%20%5B-10.83%2C%20-63.34%5D%2C%20%5B-10.83%2C%20-63.34%5D%2C%20%5B-10.83%2C%20-63.34%5D%2C%20%5B-10.83%2C%20-63.34%5D%2C%20%5B-10.83%2C%20-63.34%5D%2C%20%5B-10.83%2C%20-63.34%5D%2C%20%5B-10.83%2C%20-63.34%5D%2C%20%5B-8.77%2C%20-70.55%5D%2C%20%5B-8.77%2C%20-70.55%5D%2C%20%5B-8.77%2C%20-70.55%5D%2C%20%5B-8.77%2C%20-70.55%5D%2C%20%5B-8.77%2C%20-70.55%5D%2C%20%5B-8.77%2C%20-70.55%5D%2C%20%5B-8.77%2C%20-70.55%5D%2C%20%5B-8.77%2C%20-70.55%5D%2C%20%5B-8.77%2C%20-70.55%5D%2C%20%5B-8.77%2C%20-70.55%5D%2C%20%5B-8.77%2C%20-70.55%5D%2C%20%5B-8.77%2C%20-70.55%5D%2C%20%5B-8.77%2C%20-70.55%5D%2C%20%5B-8.77%2C%20-70.55%5D%2C%20%5B-8.77%2C%20-70.55%5D%2C%20%5B-8.77%2C%20-70.55%5D%2C%20%5B-8.77%2C%20-70.55%5D%2C%20%5B-8.77%2C%20-70.55%5D%2C%20%5B-8.77%2C%20-70.55%5D%2C%20%5B-8.77%2C%20-70.55%5D%2C%20%5B-8.77%2C%20-70.55%5D%2C%20%5B-8.77%2C%20-70.55%5D%2C%20%5B-3.47%2C%20-65.1%5D%2C%20%5B-3.47%2C%20-65.1%5D%2C%20%5B-3.47%2C%20-65.1%5D%2C%20%5B-3.47%2C%20-65.1%5D%2C%20%5B-3.47%2C%20-65.1%5D%2C%20%5B-3.47%2C%20-65.1%5D%2C%20%5B-3.47%2C%20-65.1%5D%2C%20%5B-3.47%2C%20-65.1%5D%2C%20%5B-3.47%2C%20-65.1%5D%2C%20%5B-3.47%2C%20-65.1%5D%2C%20%5B-3.47%2C%20-65.1%5D%2C%20%5B-3.47%2C%20-65.1%5D%2C%20%5B-3.47%2C%20-65.1%5D%2C%20%5B-3.47%2C%20-65.1%5D%2C%20%5B-3.47%2C%20-65.1%5D%2C%20%5B-3.47%2C%20-65.1%5D%2C%20%5B-3.47%2C%20-65.1%5D%2C%20%5B-3.47%2C%20-65.1%5D%2C%20%5B-3.47%2C%20-65.1%5D%2C%20%5B-3.47%2C%20-65.1%5D%2C%20%5B-3.47%2C%20-65.1%5D%2C%20%5B-3.47%2C%20-65.1%5D%2C%20%5B-3.47%2C%20-65.1%5D%2C%20%5B-3.47%2C%20-65.1%5D%2C%20%5B-3.47%2C%20-65.1%5D%2C%20%5B-3.47%2C%20-65.1%5D%2C%20%5B-3.47%2C%20-65.1%5D%2C%20%5B-3.47%2C%20-65.1%5D%2C%20%5B-3.47%2C%20-65.1%5D%2C%20%5B-3.47%2C%20-65.1%5D%2C%20%5B-3.47%2C%20-65.1%5D%2C%20%5B-3.47%2C%20-65.1%5D%2C%20%5B-3.47%2C%20-65.1%5D%2C%20%5B-3.47%2C%20-65.1%5D%2C%20%5B-3.47%2C%20-65.1%5D%2C%20%5B-3.47%2C%20-65.1%5D%2C%20%5B-3.47%2C%20-65.1%5D%2C%20%5B-3.47%2C%20-65.1%5D%2C%20%5B-3.47%2C%20-65.1%5D%2C%20%5B-3.47%2C%20-65.1%5D%2C%20%5B-3.47%2C%20-65.1%5D%2C%20%5B-3.47%2C%20-65.1%5D%2C%20%5B-3.47%2C%20-65.1%5D%2C%20%5B-3.47%2C%20-65.1%5D%2C%20%5B-3.47%2C%20-65.1%5D%2C%20%5B-3.47%2C%20-65.1%5D%2C%20%5B-3.47%2C%20-65.1%5D%2C%20%5B-3.47%2C%20-65.1%5D%2C%20%5B-3.47%2C%20-65.1%5D%2C%20%5B-3.47%2C%20-65.1%5D%2C%20%5B-3.47%2C%20-65.1%5D%2C%20%5B-3.47%2C%20-65.1%5D%2C%20%5B-3.47%2C%20-65.1%5D%2C%20%5B-3.47%2C%20-65.1%5D%2C%20%5B-3.47%2C%20-65.1%5D%2C%20%5B-3.47%2C%20-65.1%5D%2C%20%5B-3.47%2C%20-65.1%5D%2C%20%5B-3.47%2C%20-65.1%5D%2C%20%5B-3.47%2C%20-65.1%5D%2C%20%5B-3.47%2C%20-65.1%5D%2C%20%5B-3.47%2C%20-65.1%5D%2C%20%5B-3.47%2C%20-65.1%5D%2C%20%5B1.99%2C%20-61.33%5D%2C%20%5B1.99%2C%20-61.33%5D%2C%20%5B1.99%2C%20-61.33%5D%2C%20%5B1.99%2C%20-61.33%5D%2C%20%5B1.99%2C%20-61.33%5D%2C%20%5B1.99%2C%20-61.33%5D%2C%20%5B1.99%2C%20-61.33%5D%2C%20%5B1.99%2C%20-61.33%5D%2C%20%5B1.99%2C%20-61.33%5D%2C%20%5B1.99%2C%20-61.33%5D%2C%20%5B1.99%2C%20-61.33%5D%2C%20%5B1.99%2C%20-61.33%5D%2C%20%5B1.99%2C%20-61.33%5D%2C%20%5B1.99%2C%20-61.33%5D%2C%20%5B1.99%2C%20-61.33%5D%2C%20%5B-3.79%2C%20-52.48%5D%2C%20%5B-3.79%2C%20-52.48%5D%2C%20%5B-3.79%2C%20-52.48%5D%2C%20%5B-3.79%2C%20-52.48%5D%2C%20%5B-3.79%2C%20-52.48%5D%2C%20%5B-3.79%2C%20-52.48%5D%2C%20%5B-3.79%2C%20-52.48%5D%2C%20%5B-3.79%2C%20-52.48%5D%2C%20%5B-3.79%2C%20-52.48%5D%2C%20%5B-3.79%2C%20-52.48%5D%2C%20%5B-3.79%2C%20-52.48%5D%2C%20%5B-3.79%2C%20-52.48%5D%2C%20%5B-3.79%2C%20-52.48%5D%2C%20%5B-3.79%2C%20-52.48%5D%2C%20%5B-3.79%2C%20-52.48%5D%2C%20%5B-3.79%2C%20-52.48%5D%2C%20%5B-3.79%2C%20-52.48%5D%2C%20%5B-3.79%2C%20-52.48%5D%2C%20%5B-3.79%2C%20-52.48%5D%2C%20%5B-3.79%2C%20-52.48%5D%2C%20%5B-3.79%2C%20-52.48%5D%2C%20%5B-3.79%2C%20-52.48%5D%2C%20%5B-3.79%2C%20-52.48%5D%2C%20%5B-3.79%2C%20-52.48%5D%2C%20%5B-3.79%2C%20-52.48%5D%2C%20%5B-3.79%2C%20-52.48%5D%2C%20%5B-3.79%2C%20-52.48%5D%2C%20%5B-3.79%2C%20-52.48%5D%2C%20%5B-3.79%2C%20-52.48%5D%2C%20%5B-3.79%2C%20-52.48%5D%2C%20%5B-3.79%2C%20-52.48%5D%2C%20%5B-3.79%2C%20-52.48%5D%2C%20%5B-3.79%2C%20-52.48%5D%2C%20%5B-3.79%2C%20-52.48%5D%2C%20%5B-3.79%2C%20-52.48%5D%2C%20%5B-3.79%2C%20-52.48%5D%2C%20%5B-3.79%2C%20-52.48%5D%2C%20%5B-3.79%2C%20-52.48%5D%2C%20%5B-3.79%2C%20-52.48%5D%2C%20%5B-3.79%2C%20-52.48%5D%2C%20%5B-3.79%2C%20-52.48%5D%2C%20%5B-3.79%2C%20-52.48%5D%2C%20%5B-3.79%2C%20-52.48%5D%2C%20%5B-3.79%2C%20-52.48%5D%2C%20%5B-3.79%2C%20-52.48%5D%2C%20%5B-3.79%2C%20-52.48%5D%2C%20%5B-3.79%2C%20-52.48%5D%2C%20%5B-3.79%2C%20-52.48%5D%2C%20%5B-3.79%2C%20-52.48%5D%2C%20%5B-3.79%2C%20-52.48%5D%2C%20%5B-3.79%2C%20-52.48%5D%2C%20%5B-3.79%2C%20-52.48%5D%2C%20%5B-3.79%2C%20-52.48%5D%2C%20%5B-3.79%2C%20-52.48%5D%2C%20%5B-3.79%2C%20-52.48%5D%2C%20%5B-3.79%2C%20-52.48%5D%2C%20%5B-3.79%2C%20-52.48%5D%2C%20%5B-3.79%2C%20-52.48%5D%2C%20%5B-3.79%2C%20-52.48%5D%2C%20%5B-3.79%2C%20-52.48%5D%2C%20%5B-3.79%2C%20-52.48%5D%2C%20%5B-3.79%2C%20-52.48%5D%2C%20%5B-3.79%2C%20-52.48%5D%2C%20%5B-3.79%2C%20-52.48%5D%2C%20%5B-3.79%2C%20-52.48%5D%2C%20%5B-3.79%2C%20-52.48%5D%2C%20%5B-3.79%2C%20-52.48%5D%2C%20%5B-3.79%2C%20-52.48%5D%2C%20%5B-3.79%2C%20-52.48%5D%2C%20%5B-3.79%2C%20-52.48%5D%2C%20%5B-3.79%2C%20-52.48%5D%2C%20%5B-3.79%2C%20-52.48%5D%2C%20%5B-3.79%2C%20-52.48%5D%2C%20%5B-3.79%2C%20-52.48%5D%2C%20%5B-3.79%2C%20-52.48%5D%2C%20%5B-3.79%2C%20-52.48%5D%2C%20%5B-3.79%2C%20-52.48%5D%2C%20%5B-3.79%2C%20-52.48%5D%2C%20%5B-3.79%2C%20-52.48%5D%2C%20%5B-3.79%2C%20-52.48%5D%2C%20%5B-3.79%2C%20-52.48%5D%2C%20%5B-3.79%2C%20-52.48%5D%2C%20%5B-3.79%2C%20-52.48%5D%2C%20%5B-3.79%2C%20-52.48%5D%2C%20%5B-3.79%2C%20-52.48%5D%2C%20%5B-3.79%2C%20-52.48%5D%2C%20%5B-3.79%2C%20-52.48%5D%2C%20%5B-3.79%2C%20-52.48%5D%2C%20%5B-3.79%2C%20-52.48%5D%2C%20%5B-3.79%2C%20-52.48%5D%2C%20%5B-3.79%2C%20-52.48%5D%2C%20%5B-3.79%2C%20-52.48%5D%2C%20%5B-3.79%2C%20-52.48%5D%2C%20%5B-3.79%2C%20-52.48%5D%2C%20%5B-3.79%2C%20-52.48%5D%2C%20%5B-3.79%2C%20-52.48%5D%2C%20%5B-3.79%2C%20-52.48%5D%2C%20%5B-3.79%2C%20-52.48%5D%2C%20%5B-3.79%2C%20-52.48%5D%2C%20%5B-3.79%2C%20-52.48%5D%2C%20%5B-3.79%2C%20-52.48%5D%2C%20%5B-3.79%2C%20-52.48%5D%2C%20%5B-3.79%2C%20-52.48%5D%2C%20%5B-3.79%2C%20-52.48%5D%2C%20%5B-3.79%2C%20-52.48%5D%2C%20%5B-3.79%2C%20-52.48%5D%2C%20%5B-3.79%2C%20-52.48%5D%2C%20%5B-3.79%2C%20-52.48%5D%2C%20%5B-3.79%2C%20-52.48%5D%2C%20%5B-3.79%2C%20-52.48%5D%2C%20%5B-3.79%2C%20-52.48%5D%2C%20%5B-3.79%2C%20-52.48%5D%2C%20%5B-3.79%2C%20-52.48%5D%2C%20%5B-3.79%2C%20-52.48%5D%2C%20%5B-3.79%2C%20-52.48%5D%2C%20%5B-3.79%2C%20-52.48%5D%2C%20%5B-3.79%2C%20-52.48%5D%2C%20%5B-3.79%2C%20-52.48%5D%2C%20%5B-3.79%2C%20-52.48%5D%2C%20%5B-3.79%2C%20-52.48%5D%2C%20%5B-3.79%2C%20-52.48%5D%2C%20%5B-3.79%2C%20-52.48%5D%2C%20%5B-3.79%2C%20-52.48%5D%2C%20%5B-3.79%2C%20-52.48%5D%2C%20%5B-3.79%2C%20-52.48%5D%2C%20%5B-3.79%2C%20-52.48%5D%2C%20%5B-3.79%2C%20-52.48%5D%2C%20%5B-3.79%2C%20-52.48%5D%2C%20%5B-3.79%2C%20-52.48%5D%2C%20%5B-3.79%2C%20-52.48%5D%2C%20%5B-3.79%2C%20-52.48%5D%2C%20%5B-3.79%2C%20-52.48%5D%2C%20%5B-3.79%2C%20-52.48%5D%2C%20%5B-3.79%2C%20-52.48%5D%2C%20%5B-3.79%2C%20-52.48%5D%2C%20%5B-3.79%2C%20-52.48%5D%2C%20%5B-3.79%2C%20-52.48%5D%2C%20%5B-3.79%2C%20-52.48%5D%2C%20%5B-3.79%2C%20-52.48%5D%2C%20%5B-3.79%2C%20-52.48%5D%2C%20%5B-3.79%2C%20-52.48%5D%2C%20%5B-3.79%2C%20-52.48%5D%2C%20%5B-3.79%2C%20-52.48%5D%2C%20%5B1.41%2C%20-51.77%5D%2C%20%5B1.41%2C%20-51.77%5D%2C%20%5B1.41%2C%20-51.77%5D%2C%20%5B1.41%2C%20-51.77%5D%2C%20%5B1.41%2C%20-51.77%5D%2C%20%5B1.41%2C%20-51.77%5D%2C%20%5B1.41%2C%20-51.77%5D%2C%20%5B1.41%2C%20-51.77%5D%2C%20%5B1.41%2C%20-51.77%5D%2C%20%5B1.41%2C%20-51.77%5D%2C%20%5B1.41%2C%20-51.77%5D%2C%20%5B1.41%2C%20-51.77%5D%2C%20%5B1.41%2C%20-51.77%5D%2C%20%5B1.41%2C%20-51.77%5D%2C%20%5B1.41%2C%20-51.77%5D%2C%20%5B1.41%2C%20-51.77%5D%2C%20%5B-9.46%2C%20-48.26%5D%2C%20%5B-9.46%2C%20-48.26%5D%2C%20%5B-9.46%2C%20-48.26%5D%2C%20%5B-9.46%2C%20-48.26%5D%2C%20%5B-9.46%2C%20-48.26%5D%2C%20%5B-9.46%2C%20-48.26%5D%2C%20%5B-9.46%2C%20-48.26%5D%2C%20%5B-9.46%2C%20-48.26%5D%2C%20%5B-9.46%2C%20-48.26%5D%2C%20%5B-9.46%2C%20-48.26%5D%2C%20%5B-9.46%2C%20-48.26%5D%2C%20%5B-9.46%2C%20-48.26%5D%2C%20%5B-9.46%2C%20-48.26%5D%2C%20%5B-9.46%2C%20-48.26%5D%2C%20%5B-9.46%2C%20-48.26%5D%2C%20%5B-9.46%2C%20-48.26%5D%2C%20%5B-9.46%2C%20-48.26%5D%2C%20%5B-9.46%2C%20-48.26%5D%2C%20%5B-9.46%2C%20-48.26%5D%2C%20%5B-9.46%2C%20-48.26%5D%2C%20%5B-9.46%2C%20-48.26%5D%2C%20%5B-9.46%2C%20-48.26%5D%2C%20%5B-9.46%2C%20-48.26%5D%2C%20%5B-9.46%2C%20-48.26%5D%2C%20%5B-9.46%2C%20-48.26%5D%2C%20%5B-9.46%2C%20-48.26%5D%2C%20%5B-9.46%2C%20-48.26%5D%2C%20%5B-9.46%2C%20-48.26%5D%2C%20%5B-9.46%2C%20-48.26%5D%2C%20%5B-9.46%2C%20-48.26%5D%2C%20%5B-9.46%2C%20-48.26%5D%2C%20%5B-9.46%2C%20-48.26%5D%2C%20%5B-9.46%2C%20-48.26%5D%2C%20%5B-9.46%2C%20-48.26%5D%2C%20%5B-9.46%2C%20-48.26%5D%2C%20%5B-9.46%2C%20-48.26%5D%2C%20%5B-9.46%2C%20-48.26%5D%2C%20%5B-9.46%2C%20-48.26%5D%2C%20%5B-9.46%2C%20-48.26%5D%2C%20%5B-9.46%2C%20-48.26%5D%2C%20%5B-9.46%2C%20-48.26%5D%2C%20%5B-9.46%2C%20-48.26%5D%2C%20%5B-9.46%2C%20-48.26%5D%2C%20%5B-9.46%2C%20-48.26%5D%2C%20%5B-9.46%2C%20-48.26%5D%2C%20%5B-9.46%2C%20-48.26%5D%2C%20%5B-9.46%2C%20-48.26%5D%2C%20%5B-9.46%2C%20-48.26%5D%2C%20%5B-9.46%2C%20-48.26%5D%2C%20%5B-9.46%2C%20-48.26%5D%2C%20%5B-9.46%2C%20-48.26%5D%2C%20%5B-9.46%2C%20-48.26%5D%2C%20%5B-9.46%2C%20-48.26%5D%2C%20%5B-9.46%2C%20-48.26%5D%2C%20%5B-9.46%2C%20-48.26%5D%2C%20%5B-9.46%2C%20-48.26%5D%2C%20%5B-9.46%2C%20-48.26%5D%2C%20%5B-9.46%2C%20-48.26%5D%2C%20%5B-9.46%2C%20-48.26%5D%2C%20%5B-9.46%2C%20-48.26%5D%2C%20%5B-9.46%2C%20-48.26%5D%2C%20%5B-9.46%2C%20-48.26%5D%2C%20%5B-9.46%2C%20-48.26%5D%2C%20%5B-9.46%2C%20-48.26%5D%2C%20%5B-9.46%2C%20-48.26%5D%2C%20%5B-9.46%2C%20-48.26%5D%2C%20%5B-9.46%2C%20-48.26%5D%2C%20%5B-9.46%2C%20-48.26%5D%2C%20%5B-9.46%2C%20-48.26%5D%2C%20%5B-9.46%2C%20-48.26%5D%2C%20%5B-9.46%2C%20-48.26%5D%2C%20%5B-9.46%2C%20-48.26%5D%2C%20%5B-9.46%2C%20-48.26%5D%2C%20%5B-9.46%2C%20-48.26%5D%2C%20%5B-9.46%2C%20-48.26%5D%2C%20%5B-9.46%2C%20-48.26%5D%2C%20%5B-9.46%2C%20-48.26%5D%2C%20%5B-9.46%2C%20-48.26%5D%2C%20%5B-9.46%2C%20-48.26%5D%2C%20%5B-9.46%2C%20-48.26%5D%2C%20%5B-9.46%2C%20-48.26%5D%2C%20%5B-9.46%2C%20-48.26%5D%2C%20%5B-9.46%2C%20-48.26%5D%2C%20%5B-9.46%2C%20-48.26%5D%2C%20%5B-9.46%2C%20-48.26%5D%2C%20%5B-9.46%2C%20-48.26%5D%2C%20%5B-9.46%2C%20-48.26%5D%2C%20%5B-9.46%2C%20-48.26%5D%2C%20%5B-9.46%2C%20-48.26%5D%2C%20%5B-9.46%2C%20-48.26%5D%2C%20%5B-9.46%2C%20-48.26%5D%2C%20%5B-9.46%2C%20-48.26%5D%2C%20%5B-9.46%2C%20-48.26%5D%2C%20%5B-9.46%2C%20-48.26%5D%2C%20%5B-9.46%2C%20-48.26%5D%2C%20%5B-9.46%2C%20-48.26%5D%2C%20%5B-9.46%2C%20-48.26%5D%2C%20%5B-9.46%2C%20-48.26%5D%2C%20%5B-9.46%2C%20-48.26%5D%2C%20%5B-9.46%2C%20-48.26%5D%2C%20%5B-9.46%2C%20-48.26%5D%2C%20%5B-9.46%2C%20-48.26%5D%2C%20%5B-9.46%2C%20-48.26%5D%2C%20%5B-9.46%2C%20-48.26%5D%2C%20%5B-9.46%2C%20-48.26%5D%2C%20%5B-9.46%2C%20-48.26%5D%2C%20%5B-9.46%2C%20-48.26%5D%2C%20%5B-9.46%2C%20-48.26%5D%2C%20%5B-9.46%2C%20-48.26%5D%2C%20%5B-9.46%2C%20-48.26%5D%2C%20%5B-9.46%2C%20-48.26%5D%2C%20%5B-9.46%2C%20-48.26%5D%2C%20%5B-9.46%2C%20-48.26%5D%2C%20%5B-9.46%2C%20-48.26%5D%2C%20%5B-9.46%2C%20-48.26%5D%2C%20%5B-9.46%2C%20-48.26%5D%2C%20%5B-9.46%2C%20-48.26%5D%2C%20%5B-9.46%2C%20-48.26%5D%2C%20%5B-9.46%2C%20-48.26%5D%2C%20%5B-9.46%2C%20-48.26%5D%2C%20%5B-9.46%2C%20-48.26%5D%2C%20%5B-9.46%2C%20-48.26%5D%2C%20%5B-9.46%2C%20-48.26%5D%2C%20%5B-9.46%2C%20-48.26%5D%2C%20%5B-9.46%2C%20-48.26%5D%2C%20%5B-9.46%2C%20-48.26%5D%2C%20%5B-9.46%2C%20-48.26%5D%2C%20%5B-9.46%2C%20-48.26%5D%2C%20%5B-9.46%2C%20-48.26%5D%2C%20%5B-9.46%2C%20-48.26%5D%2C%20%5B-9.46%2C%20-48.26%5D%2C%20%5B-9.46%2C%20-48.26%5D%2C%20%5B-9.46%2C%20-48.26%5D%2C%20%5B-9.46%2C%20-48.26%5D%2C%20%5B-9.46%2C%20-48.26%5D%2C%20%5B-9.46%2C%20-48.26%5D%2C%20%5B-9.46%2C%20-48.26%5D%2C%20%5B-9.46%2C%20-48.26%5D%2C%20%5B-9.46%2C%20-48.26%5D%2C%20%5B-10.83%2C%20-63.34%5D%2C%20%5B-10.83%2C%20-63.34%5D%2C%20%5B-10.83%2C%20-63.34%5D%2C%20%5B-10.83%2C%20-63.34%5D%2C%20%5B-10.83%2C%20-63.34%5D%2C%20%5B-10.83%2C%20-63.34%5D%2C%20%5B-10.83%2C%20-63.34%5D%2C%20%5B-10.83%2C%20-63.34%5D%2C%20%5B-10.83%2C%20-63.34%5D%2C%20%5B-10.83%2C%20-63.34%5D%2C%20%5B-10.83%2C%20-63.34%5D%2C%20%5B-10.83%2C%20-63.34%5D%2C%20%5B-10.83%2C%20-63.34%5D%2C%20%5B-10.83%2C%20-63.34%5D%2C%20%5B-10.83%2C%20-63.34%5D%2C%20%5B-10.83%2C%20-63.34%5D%2C%20%5B-10.83%2C%20-63.34%5D%2C%20%5B-10.83%2C%20-63.34%5D%2C%20%5B-10.83%2C%20-63.34%5D%2C%20%5B-10.83%2C%20-63.34%5D%2C%20%5B-10.83%2C%20-63.34%5D%2C%20%5B-10.83%2C%20-63.34%5D%2C%20%5B-10.83%2C%20-63.34%5D%2C%20%5B-10.83%2C%20-63.34%5D%2C%20%5B-10.83%2C%20-63.34%5D%2C%20%5B-10.83%2C%20-63.34%5D%2C%20%5B-10.83%2C%20-63.34%5D%2C%20%5B-10.83%2C%20-63.34%5D%2C%20%5B-10.83%2C%20-63.34%5D%2C%20%5B-10.83%2C%20-63.34%5D%2C%20%5B-10.83%2C%20-63.34%5D%2C%20%5B-10.83%2C%20-63.34%5D%2C%20%5B-10.83%2C%20-63.34%5D%2C%20%5B-10.83%2C%20-63.34%5D%2C%20%5B-10.83%2C%20-63.34%5D%2C%20%5B-10.83%2C%20-63.34%5D%2C%20%5B-10.83%2C%20-63.34%5D%2C%20%5B-10.83%2C%20-63.34%5D%2C%20%5B-10.83%2C%20-63.34%5D%2C%20%5B-10.83%2C%20-63.34%5D%2C%20%5B-10.83%2C%20-63.34%5D%2C%20%5B-10.83%2C%20-63.34%5D%2C%20%5B-10.83%2C%20-63.34%5D%2C%20%5B-10.83%2C%20-63.34%5D%2C%20%5B-10.83%2C%20-63.34%5D%2C%20%5B-10.83%2C%20-63.34%5D%2C%20%5B-10.83%2C%20-63.34%5D%2C%20%5B-10.83%2C%20-63.34%5D%2C%20%5B-10.83%2C%20-63.34%5D%2C%20%5B-10.83%2C%20-63.34%5D%2C%20%5B-10.83%2C%20-63.34%5D%2C%20%5B-10.83%2C%20-63.34%5D%2C%20%5B-8.77%2C%20-70.55%5D%2C%20%5B-8.77%2C%20-70.55%5D%2C%20%5B-8.77%2C%20-70.55%5D%2C%20%5B-8.77%2C%20-70.55%5D%2C%20%5B-8.77%2C%20-70.55%5D%2C%20%5B-8.77%2C%20-70.55%5D%2C%20%5B-8.77%2C%20-70.55%5D%2C%20%5B-8.77%2C%20-70.55%5D%2C%20%5B-8.77%2C%20-70.55%5D%2C%20%5B-8.77%2C%20-70.55%5D%2C%20%5B-8.77%2C%20-70.55%5D%2C%20%5B-8.77%2C%20-70.55%5D%2C%20%5B-8.77%2C%20-70.55%5D%2C%20%5B-8.77%2C%20-70.55%5D%2C%20%5B-8.77%2C%20-70.55%5D%2C%20%5B-8.77%2C%20-70.55%5D%2C%20%5B-8.77%2C%20-70.55%5D%2C%20%5B-8.77%2C%20-70.55%5D%2C%20%5B-8.77%2C%20-70.55%5D%2C%20%5B-8.77%2C%20-70.55%5D%2C%20%5B-8.77%2C%20-70.55%5D%2C%20%5B-8.77%2C%20-70.55%5D%2C%20%5B-3.47%2C%20-65.1%5D%2C%20%5B-3.47%2C%20-65.1%5D%2C%20%5B-3.47%2C%20-65.1%5D%2C%20%5B-3.47%2C%20-65.1%5D%2C%20%5B-3.47%2C%20-65.1%5D%2C%20%5B-3.47%2C%20-65.1%5D%2C%20%5B-3.47%2C%20-65.1%5D%2C%20%5B-3.47%2C%20-65.1%5D%2C%20%5B-3.47%2C%20-65.1%5D%2C%20%5B-3.47%2C%20-65.1%5D%2C%20%5B-3.47%2C%20-65.1%5D%2C%20%5B-3.47%2C%20-65.1%5D%2C%20%5B-3.47%2C%20-65.1%5D%2C%20%5B-3.47%2C%20-65.1%5D%2C%20%5B-3.47%2C%20-65.1%5D%2C%20%5B-3.47%2C%20-65.1%5D%2C%20%5B-3.47%2C%20-65.1%5D%2C%20%5B-3.47%2C%20-65.1%5D%2C%20%5B-3.47%2C%20-65.1%5D%2C%20%5B-3.47%2C%20-65.1%5D%2C%20%5B-3.47%2C%20-65.1%5D%2C%20%5B-3.47%2C%20-65.1%5D%2C%20%5B-3.47%2C%20-65.1%5D%2C%20%5B-3.47%2C%20-65.1%5D%2C%20%5B-3.47%2C%20-65.1%5D%2C%20%5B-3.47%2C%20-65.1%5D%2C%20%5B-3.47%2C%20-65.1%5D%2C%20%5B-3.47%2C%20-65.1%5D%2C%20%5B-3.47%2C%20-65.1%5D%2C%20%5B-3.47%2C%20-65.1%5D%2C%20%5B-3.47%2C%20-65.1%5D%2C%20%5B-3.47%2C%20-65.1%5D%2C%20%5B-3.47%2C%20-65.1%5D%2C%20%5B-3.47%2C%20-65.1%5D%2C%20%5B-3.47%2C%20-65.1%5D%2C%20%5B-3.47%2C%20-65.1%5D%2C%20%5B-3.47%2C%20-65.1%5D%2C%20%5B-3.47%2C%20-65.1%5D%2C%20%5B-3.47%2C%20-65.1%5D%2C%20%5B-3.47%2C%20-65.1%5D%2C%20%5B-3.47%2C%20-65.1%5D%2C%20%5B-3.47%2C%20-65.1%5D%2C%20%5B-3.47%2C%20-65.1%5D%2C%20%5B-3.47%2C%20-65.1%5D%2C%20%5B-3.47%2C%20-65.1%5D%2C%20%5B-3.47%2C%20-65.1%5D%2C%20%5B-3.47%2C%20-65.1%5D%2C%20%5B-3.47%2C%20-65.1%5D%2C%20%5B-3.47%2C%20-65.1%5D%2C%20%5B-3.47%2C%20-65.1%5D%2C%20%5B-3.47%2C%20-65.1%5D%2C%20%5B-3.47%2C%20-65.1%5D%2C%20%5B-3.47%2C%20-65.1%5D%2C%20%5B-3.47%2C%20-65.1%5D%2C%20%5B-3.47%2C%20-65.1%5D%2C%20%5B-3.47%2C%20-65.1%5D%2C%20%5B-3.47%2C%20-65.1%5D%2C%20%5B-3.47%2C%20-65.1%5D%2C%20%5B-3.47%2C%20-65.1%5D%2C%20%5B-3.47%2C%20-65.1%5D%2C%20%5B-3.47%2C%20-65.1%5D%2C%20%5B-3.47%2C%20-65.1%5D%2C%20%5B1.99%2C%20-61.33%5D%2C%20%5B1.99%2C%20-61.33%5D%2C%20%5B1.99%2C%20-61.33%5D%2C%20%5B1.99%2C%20-61.33%5D%2C%20%5B1.99%2C%20-61.33%5D%2C%20%5B1.99%2C%20-61.33%5D%2C%20%5B1.99%2C%20-61.33%5D%2C%20%5B1.99%2C%20-61.33%5D%2C%20%5B1.99%2C%20-61.33%5D%2C%20%5B1.99%2C%20-61.33%5D%2C%20%5B1.99%2C%20-61.33%5D%2C%20%5B1.99%2C%20-61.33%5D%2C%20%5B1.99%2C%20-61.33%5D%2C%20%5B1.99%2C%20-61.33%5D%2C%20%5B1.99%2C%20-61.33%5D%2C%20%5B-3.79%2C%20-52.48%5D%2C%20%5B-3.79%2C%20-52.48%5D%2C%20%5B-3.79%2C%20-52.48%5D%2C%20%5B-3.79%2C%20-52.48%5D%2C%20%5B-3.79%2C%20-52.48%5D%2C%20%5B-3.79%2C%20-52.48%5D%2C%20%5B-3.79%2C%20-52.48%5D%2C%20%5B-3.79%2C%20-52.48%5D%2C%20%5B-3.79%2C%20-52.48%5D%2C%20%5B-3.79%2C%20-52.48%5D%2C%20%5B-3.79%2C%20-52.48%5D%2C%20%5B-3.79%2C%20-52.48%5D%2C%20%5B-3.79%2C%20-52.48%5D%2C%20%5B-3.79%2C%20-52.48%5D%2C%20%5B-3.79%2C%20-52.48%5D%2C%20%5B-3.79%2C%20-52.48%5D%2C%20%5B-3.79%2C%20-52.48%5D%2C%20%5B-3.79%2C%20-52.48%5D%2C%20%5B-3.79%2C%20-52.48%5D%2C%20%5B-3.79%2C%20-52.48%5D%2C%20%5B-3.79%2C%20-52.48%5D%2C%20%5B-3.79%2C%20-52.48%5D%2C%20%5B-3.79%2C%20-52.48%5D%2C%20%5B-3.79%2C%20-52.48%5D%2C%20%5B-3.79%2C%20-52.48%5D%2C%20%5B-3.79%2C%20-52.48%5D%2C%20%5B-3.79%2C%20-52.48%5D%2C%20%5B-3.79%2C%20-52.48%5D%2C%20%5B-3.79%2C%20-52.48%5D%2C%20%5B-3.79%2C%20-52.48%5D%2C%20%5B-3.79%2C%20-52.48%5D%2C%20%5B-3.79%2C%20-52.48%5D%2C%20%5B-3.79%2C%20-52.48%5D%2C%20%5B-3.79%2C%20-52.48%5D%2C%20%5B-3.79%2C%20-52.48%5D%2C%20%5B-3.79%2C%20-52.48%5D%2C%20%5B-3.79%2C%20-52.48%5D%2C%20%5B-3.79%2C%20-52.48%5D%2C%20%5B-3.79%2C%20-52.48%5D%2C%20%5B-3.79%2C%20-52.48%5D%2C%20%5B-3.79%2C%20-52.48%5D%2C%20%5B-3.79%2C%20-52.48%5D%2C%20%5B-3.79%2C%20-52.48%5D%2C%20%5B-3.79%2C%20-52.48%5D%2C%20%5B-3.79%2C%20-52.48%5D%2C%20%5B-3.79%2C%20-52.48%5D%2C%20%5B-3.79%2C%20-52.48%5D%2C%20%5B-3.79%2C%20-52.48%5D%2C%20%5B-3.79%2C%20-52.48%5D%2C%20%5B-3.79%2C%20-52.48%5D%2C%20%5B-3.79%2C%20-52.48%5D%2C%20%5B-3.79%2C%20-52.48%5D%2C%20%5B-3.79%2C%20-52.48%5D%2C%20%5B-3.79%2C%20-52.48%5D%2C%20%5B-3.79%2C%20-52.48%5D%2C%20%5B-3.79%2C%20-52.48%5D%2C%20%5B-3.79%2C%20-52.48%5D%2C%20%5B-3.79%2C%20-52.48%5D%2C%20%5B-3.79%2C%20-52.48%5D%2C%20%5B-3.79%2C%20-52.48%5D%2C%20%5B-3.79%2C%20-52.48%5D%2C%20%5B-3.79%2C%20-52.48%5D%2C%20%5B-3.79%2C%20-52.48%5D%2C%20%5B-3.79%2C%20-52.48%5D%2C%20%5B-3.79%2C%20-52.48%5D%2C%20%5B-3.79%2C%20-52.48%5D%2C%20%5B-3.79%2C%20-52.48%5D%2C%20%5B-3.79%2C%20-52.48%5D%2C%20%5B-3.79%2C%20-52.48%5D%2C%20%5B-3.79%2C%20-52.48%5D%2C%20%5B-3.79%2C%20-52.48%5D%2C%20%5B-3.79%2C%20-52.48%5D%2C%20%5B-3.79%2C%20-52.48%5D%2C%20%5B-3.79%2C%20-52.48%5D%2C%20%5B-3.79%2C%20-52.48%5D%2C%20%5B-3.79%2C%20-52.48%5D%2C%20%5B-3.79%2C%20-52.48%5D%2C%20%5B-3.79%2C%20-52.48%5D%2C%20%5B-3.79%2C%20-52.48%5D%2C%20%5B-3.79%2C%20-52.48%5D%2C%20%5B-3.79%2C%20-52.48%5D%2C%20%5B-3.79%2C%20-52.48%5D%2C%20%5B-3.79%2C%20-52.48%5D%2C%20%5B-3.79%2C%20-52.48%5D%2C%20%5B-3.79%2C%20-52.48%5D%2C%20%5B-3.79%2C%20-52.48%5D%2C%20%5B-3.79%2C%20-52.48%5D%2C%20%5B-3.79%2C%20-52.48%5D%2C%20%5B-3.79%2C%20-52.48%5D%2C%20%5B-3.79%2C%20-52.48%5D%2C%20%5B-3.79%2C%20-52.48%5D%2C%20%5B-3.79%2C%20-52.48%5D%2C%20%5B-3.79%2C%20-52.48%5D%2C%20%5B-3.79%2C%20-52.48%5D%2C%20%5B-3.79%2C%20-52.48%5D%2C%20%5B-3.79%2C%20-52.48%5D%2C%20%5B-3.79%2C%20-52.48%5D%2C%20%5B-3.79%2C%20-52.48%5D%2C%20%5B-3.79%2C%20-52.48%5D%2C%20%5B-3.79%2C%20-52.48%5D%2C%20%5B-3.79%2C%20-52.48%5D%2C%20%5B-3.79%2C%20-52.48%5D%2C%20%5B-3.79%2C%20-52.48%5D%2C%20%5B-3.79%2C%20-52.48%5D%2C%20%5B-3.79%2C%20-52.48%5D%2C%20%5B-3.79%2C%20-52.48%5D%2C%20%5B-3.79%2C%20-52.48%5D%2C%20%5B-3.79%2C%20-52.48%5D%2C%20%5B-3.79%2C%20-52.48%5D%2C%20%5B-3.79%2C%20-52.48%5D%2C%20%5B-3.79%2C%20-52.48%5D%2C%20%5B-3.79%2C%20-52.48%5D%2C%20%5B-3.79%2C%20-52.48%5D%2C%20%5B-3.79%2C%20-52.48%5D%2C%20%5B-3.79%2C%20-52.48%5D%2C%20%5B-3.79%2C%20-52.48%5D%2C%20%5B-3.79%2C%20-52.48%5D%2C%20%5B-3.79%2C%20-52.48%5D%2C%20%5B-3.79%2C%20-52.48%5D%2C%20%5B-3.79%2C%20-52.48%5D%2C%20%5B-3.79%2C%20-52.48%5D%2C%20%5B-3.79%2C%20-52.48%5D%2C%20%5B-3.79%2C%20-52.48%5D%2C%20%5B-3.79%2C%20-52.48%5D%2C%20%5B-3.79%2C%20-52.48%5D%2C%20%5B-3.79%2C%20-52.48%5D%2C%20%5B-3.79%2C%20-52.48%5D%2C%20%5B-3.79%2C%20-52.48%5D%2C%20%5B-3.79%2C%20-52.48%5D%2C%20%5B-3.79%2C%20-52.48%5D%2C%20%5B-3.79%2C%20-52.48%5D%2C%20%5B-3.79%2C%20-52.48%5D%2C%20%5B-3.79%2C%20-52.48%5D%2C%20%5B-3.79%2C%20-52.48%5D%2C%20%5B-3.79%2C%20-52.48%5D%2C%20%5B-3.79%2C%20-52.48%5D%2C%20%5B-3.79%2C%20-52.48%5D%2C%20%5B-3.79%2C%20-52.48%5D%2C%20%5B-3.79%2C%20-52.48%5D%2C%20%5B-3.79%2C%20-52.48%5D%2C%20%5B-3.79%2C%20-52.48%5D%2C%20%5B-3.79%2C%20-52.48%5D%2C%20%5B-3.79%2C%20-52.48%5D%2C%20%5B1.41%2C%20-51.77%5D%2C%20%5B1.41%2C%20-51.77%5D%2C%20%5B1.41%2C%20-51.77%5D%2C%20%5B1.41%2C%20-51.77%5D%2C%20%5B1.41%2C%20-51.77%5D%2C%20%5B1.41%2C%20-51.77%5D%2C%20%5B1.41%2C%20-51.77%5D%2C%20%5B1.41%2C%20-51.77%5D%2C%20%5B1.41%2C%20-51.77%5D%2C%20%5B1.41%2C%20-51.77%5D%2C%20%5B1.41%2C%20-51.77%5D%2C%20%5B1.41%2C%20-51.77%5D%2C%20%5B1.41%2C%20-51.77%5D%2C%20%5B1.41%2C%20-51.77%5D%2C%20%5B1.41%2C%20-51.77%5D%2C%20%5B1.41%2C%20-51.77%5D%2C%20%5B-9.46%2C%20-48.26%5D%2C%20%5B-9.46%2C%20-48.26%5D%2C%20%5B-9.46%2C%20-48.26%5D%2C%20%5B-9.46%2C%20-48.26%5D%2C%20%5B-9.46%2C%20-48.26%5D%2C%20%5B-9.46%2C%20-48.26%5D%2C%20%5B-9.46%2C%20-48.26%5D%2C%20%5B-9.46%2C%20-48.26%5D%2C%20%5B-9.46%2C%20-48.26%5D%2C%20%5B-9.46%2C%20-48.26%5D%2C%20%5B-9.46%2C%20-48.26%5D%2C%20%5B-9.46%2C%20-48.26%5D%2C%20%5B-9.46%2C%20-48.26%5D%2C%20%5B-9.46%2C%20-48.26%5D%2C%20%5B-9.46%2C%20-48.26%5D%2C%20%5B-9.46%2C%20-48.26%5D%2C%20%5B-9.46%2C%20-48.26%5D%2C%20%5B-9.46%2C%20-48.26%5D%2C%20%5B-9.46%2C%20-48.26%5D%2C%20%5B-9.46%2C%20-48.26%5D%2C%20%5B-9.46%2C%20-48.26%5D%2C%20%5B-9.46%2C%20-48.26%5D%2C%20%5B-9.46%2C%20-48.26%5D%2C%20%5B-9.46%2C%20-48.26%5D%2C%20%5B-9.46%2C%20-48.26%5D%2C%20%5B-9.46%2C%20-48.26%5D%2C%20%5B-9.46%2C%20-48.26%5D%2C%20%5B-9.46%2C%20-48.26%5D%2C%20%5B-9.46%2C%20-48.26%5D%2C%20%5B-9.46%2C%20-48.26%5D%2C%20%5B-9.46%2C%20-48.26%5D%2C%20%5B-9.46%2C%20-48.26%5D%2C%20%5B-9.46%2C%20-48.26%5D%2C%20%5B-9.46%2C%20-48.26%5D%2C%20%5B-9.46%2C%20-48.26%5D%2C%20%5B-9.46%2C%20-48.26%5D%2C%20%5B-9.46%2C%20-48.26%5D%2C%20%5B-9.46%2C%20-48.26%5D%2C%20%5B-9.46%2C%20-48.26%5D%2C%20%5B-9.46%2C%20-48.26%5D%2C%20%5B-9.46%2C%20-48.26%5D%2C%20%5B-9.46%2C%20-48.26%5D%2C%20%5B-9.46%2C%20-48.26%5D%2C%20%5B-9.46%2C%20-48.26%5D%2C%20%5B-9.46%2C%20-48.26%5D%2C%20%5B-9.46%2C%20-48.26%5D%2C%20%5B-9.46%2C%20-48.26%5D%2C%20%5B-9.46%2C%20-48.26%5D%2C%20%5B-9.46%2C%20-48.26%5D%2C%20%5B-9.46%2C%20-48.26%5D%2C%20%5B-9.46%2C%20-48.26%5D%2C%20%5B-9.46%2C%20-48.26%5D%2C%20%5B-9.46%2C%20-48.26%5D%2C%20%5B-9.46%2C%20-48.26%5D%2C%20%5B-9.46%2C%20-48.26%5D%2C%20%5B-9.46%2C%20-48.26%5D%2C%20%5B-9.46%2C%20-48.26%5D%2C%20%5B-9.46%2C%20-48.26%5D%2C%20%5B-9.46%2C%20-48.26%5D%2C%20%5B-9.46%2C%20-48.26%5D%2C%20%5B-9.46%2C%20-48.26%5D%2C%20%5B-9.46%2C%20-48.26%5D%2C%20%5B-9.46%2C%20-48.26%5D%2C%20%5B-9.46%2C%20-48.26%5D%2C%20%5B-9.46%2C%20-48.26%5D%2C%20%5B-9.46%2C%20-48.26%5D%2C%20%5B-9.46%2C%20-48.26%5D%2C%20%5B-9.46%2C%20-48.26%5D%2C%20%5B-9.46%2C%20-48.26%5D%2C%20%5B-9.46%2C%20-48.26%5D%2C%20%5B-9.46%2C%20-48.26%5D%2C%20%5B-9.46%2C%20-48.26%5D%2C%20%5B-9.46%2C%20-48.26%5D%2C%20%5B-9.46%2C%20-48.26%5D%2C%20%5B-9.46%2C%20-48.26%5D%2C%20%5B-9.46%2C%20-48.26%5D%2C%20%5B-9.46%2C%20-48.26%5D%2C%20%5B-9.46%2C%20-48.26%5D%2C%20%5B-9.46%2C%20-48.26%5D%2C%20%5B-9.46%2C%20-48.26%5D%2C%20%5B-9.46%2C%20-48.26%5D%2C%20%5B-9.46%2C%20-48.26%5D%2C%20%5B-9.46%2C%20-48.26%5D%2C%20%5B-9.46%2C%20-48.26%5D%2C%20%5B-9.46%2C%20-48.26%5D%2C%20%5B-9.46%2C%20-48.26%5D%2C%20%5B-9.46%2C%20-48.26%5D%2C%20%5B-9.46%2C%20-48.26%5D%2C%20%5B-9.46%2C%20-48.26%5D%2C%20%5B-9.46%2C%20-48.26%5D%2C%20%5B-9.46%2C%20-48.26%5D%2C%20%5B-9.46%2C%20-48.26%5D%2C%20%5B-9.46%2C%20-48.26%5D%2C%20%5B-9.46%2C%20-48.26%5D%2C%20%5B-9.46%2C%20-48.26%5D%2C%20%5B-9.46%2C%20-48.26%5D%2C%20%5B-9.46%2C%20-48.26%5D%2C%20%5B-9.46%2C%20-48.26%5D%2C%20%5B-9.46%2C%20-48.26%5D%2C%20%5B-9.46%2C%20-48.26%5D%2C%20%5B-9.46%2C%20-48.26%5D%2C%20%5B-9.46%2C%20-48.26%5D%2C%20%5B-9.46%2C%20-48.26%5D%2C%20%5B-9.46%2C%20-48.26%5D%2C%20%5B-9.46%2C%20-48.26%5D%2C%20%5B-9.46%2C%20-48.26%5D%2C%20%5B-9.46%2C%20-48.26%5D%2C%20%5B-9.46%2C%20-48.26%5D%2C%20%5B-9.46%2C%20-48.26%5D%2C%20%5B-9.46%2C%20-48.26%5D%2C%20%5B-9.46%2C%20-48.26%5D%2C%20%5B-9.46%2C%20-48.26%5D%2C%20%5B-9.46%2C%20-48.26%5D%2C%20%5B-9.46%2C%20-48.26%5D%2C%20%5B-9.46%2C%20-48.26%5D%2C%20%5B-9.46%2C%20-48.26%5D%2C%20%5B-9.46%2C%20-48.26%5D%2C%20%5B-9.46%2C%20-48.26%5D%2C%20%5B-9.46%2C%20-48.26%5D%2C%20%5B-9.46%2C%20-48.26%5D%2C%20%5B-9.46%2C%20-48.26%5D%2C%20%5B-9.46%2C%20-48.26%5D%2C%20%5B-9.46%2C%20-48.26%5D%2C%20%5B-9.46%2C%20-48.26%5D%2C%20%5B-9.46%2C%20-48.26%5D%2C%20%5B-9.46%2C%20-48.26%5D%2C%20%5B-9.46%2C%20-48.26%5D%2C%20%5B-9.46%2C%20-48.26%5D%2C%20%5B-9.46%2C%20-48.26%5D%2C%20%5B-9.46%2C%20-48.26%5D%2C%20%5B-9.46%2C%20-48.26%5D%2C%20%5B-9.46%2C%20-48.26%5D%2C%20%5B-9.46%2C%20-48.26%5D%2C%20%5B-9.46%2C%20-48.26%5D%2C%20%5B-9.46%2C%20-48.26%5D%2C%20%5B-9.46%2C%20-48.26%5D%2C%20%5B-9.46%2C%20-48.26%5D%2C%20%5B-9.46%2C%20-48.26%5D%2C%20%5B-9.46%2C%20-48.26%5D%2C%20%5B-10.83%2C%20-63.34%5D%2C%20%5B-10.83%2C%20-63.34%5D%2C%20%5B-10.83%2C%20-63.34%5D%2C%20%5B-10.83%2C%20-63.34%5D%2C%20%5B-10.83%2C%20-63.34%5D%2C%20%5B-10.83%2C%20-63.34%5D%2C%20%5B-10.83%2C%20-63.34%5D%2C%20%5B-10.83%2C%20-63.34%5D%2C%20%5B-10.83%2C%20-63.34%5D%2C%20%5B-10.83%2C%20-63.34%5D%2C%20%5B-10.83%2C%20-63.34%5D%2C%20%5B-10.83%2C%20-63.34%5D%2C%20%5B-10.83%2C%20-63.34%5D%2C%20%5B-10.83%2C%20-63.34%5D%2C%20%5B-10.83%2C%20-63.34%5D%2C%20%5B-10.83%2C%20-63.34%5D%2C%20%5B-10.83%2C%20-63.34%5D%2C%20%5B-10.83%2C%20-63.34%5D%2C%20%5B-10.83%2C%20-63.34%5D%2C%20%5B-10.83%2C%20-63.34%5D%2C%20%5B-10.83%2C%20-63.34%5D%2C%20%5B-10.83%2C%20-63.34%5D%2C%20%5B-10.83%2C%20-63.34%5D%2C%20%5B-10.83%2C%20-63.34%5D%2C%20%5B-10.83%2C%20-63.34%5D%2C%20%5B-10.83%2C%20-63.34%5D%2C%20%5B-10.83%2C%20-63.34%5D%2C%20%5B-10.83%2C%20-63.34%5D%2C%20%5B-10.83%2C%20-63.34%5D%2C%20%5B-10.83%2C%20-63.34%5D%2C%20%5B-10.83%2C%20-63.34%5D%2C%20%5B-10.83%2C%20-63.34%5D%2C%20%5B-10.83%2C%20-63.34%5D%2C%20%5B-10.83%2C%20-63.34%5D%2C%20%5B-10.83%2C%20-63.34%5D%2C%20%5B-10.83%2C%20-63.34%5D%2C%20%5B-10.83%2C%20-63.34%5D%2C%20%5B-10.83%2C%20-63.34%5D%2C%20%5B-10.83%2C%20-63.34%5D%2C%20%5B-10.83%2C%20-63.34%5D%2C%20%5B-10.83%2C%20-63.34%5D%2C%20%5B-10.83%2C%20-63.34%5D%2C%20%5B-10.83%2C%20-63.34%5D%2C%20%5B-10.83%2C%20-63.34%5D%2C%20%5B-10.83%2C%20-63.34%5D%2C%20%5B-10.83%2C%20-63.34%5D%2C%20%5B-10.83%2C%20-63.34%5D%2C%20%5B-10.83%2C%20-63.34%5D%2C%20%5B-10.83%2C%20-63.34%5D%2C%20%5B-10.83%2C%20-63.34%5D%2C%20%5B-10.83%2C%20-63.34%5D%2C%20%5B-10.83%2C%20-63.34%5D%2C%20%5B-8.77%2C%20-70.55%5D%2C%20%5B-8.77%2C%20-70.55%5D%2C%20%5B-8.77%2C%20-70.55%5D%2C%20%5B-8.77%2C%20-70.55%5D%2C%20%5B-8.77%2C%20-70.55%5D%2C%20%5B-8.77%2C%20-70.55%5D%2C%20%5B-8.77%2C%20-70.55%5D%2C%20%5B-8.77%2C%20-70.55%5D%2C%20%5B-8.77%2C%20-70.55%5D%2C%20%5B-8.77%2C%20-70.55%5D%2C%20%5B-8.77%2C%20-70.55%5D%2C%20%5B-8.77%2C%20-70.55%5D%2C%20%5B-8.77%2C%20-70.55%5D%2C%20%5B-8.77%2C%20-70.55%5D%2C%20%5B-8.77%2C%20-70.55%5D%2C%20%5B-8.77%2C%20-70.55%5D%2C%20%5B-8.77%2C%20-70.55%5D%2C%20%5B-8.77%2C%20-70.55%5D%2C%20%5B-8.77%2C%20-70.55%5D%2C%20%5B-8.77%2C%20-70.55%5D%2C%20%5B-8.77%2C%20-70.55%5D%2C%20%5B-8.77%2C%20-70.55%5D%2C%20%5B-3.47%2C%20-65.1%5D%2C%20%5B-3.47%2C%20-65.1%5D%2C%20%5B-3.47%2C%20-65.1%5D%2C%20%5B-3.47%2C%20-65.1%5D%2C%20%5B-3.47%2C%20-65.1%5D%2C%20%5B-3.47%2C%20-65.1%5D%2C%20%5B-3.47%2C%20-65.1%5D%2C%20%5B-3.47%2C%20-65.1%5D%2C%20%5B-3.47%2C%20-65.1%5D%2C%20%5B-3.47%2C%20-65.1%5D%2C%20%5B-3.47%2C%20-65.1%5D%2C%20%5B-3.47%2C%20-65.1%5D%2C%20%5B-3.47%2C%20-65.1%5D%2C%20%5B-3.47%2C%20-65.1%5D%2C%20%5B-3.47%2C%20-65.1%5D%2C%20%5B-3.47%2C%20-65.1%5D%2C%20%5B-3.47%2C%20-65.1%5D%2C%20%5B-3.47%2C%20-65.1%5D%2C%20%5B-3.47%2C%20-65.1%5D%2C%20%5B-3.47%2C%20-65.1%5D%2C%20%5B-3.47%2C%20-65.1%5D%2C%20%5B-3.47%2C%20-65.1%5D%2C%20%5B-3.47%2C%20-65.1%5D%2C%20%5B-3.47%2C%20-65.1%5D%2C%20%5B-3.47%2C%20-65.1%5D%2C%20%5B-3.47%2C%20-65.1%5D%2C%20%5B-3.47%2C%20-65.1%5D%2C%20%5B-3.47%2C%20-65.1%5D%2C%20%5B-3.47%2C%20-65.1%5D%2C%20%5B-3.47%2C%20-65.1%5D%2C%20%5B-3.47%2C%20-65.1%5D%2C%20%5B-3.47%2C%20-65.1%5D%2C%20%5B-3.47%2C%20-65.1%5D%2C%20%5B-3.47%2C%20-65.1%5D%2C%20%5B-3.47%2C%20-65.1%5D%2C%20%5B-3.47%2C%20-65.1%5D%2C%20%5B-3.47%2C%20-65.1%5D%2C%20%5B-3.47%2C%20-65.1%5D%2C%20%5B-3.47%2C%20-65.1%5D%2C%20%5B-3.47%2C%20-65.1%5D%2C%20%5B-3.47%2C%20-65.1%5D%2C%20%5B-3.47%2C%20-65.1%5D%2C%20%5B-3.47%2C%20-65.1%5D%2C%20%5B-3.47%2C%20-65.1%5D%2C%20%5B-3.47%2C%20-65.1%5D%2C%20%5B-3.47%2C%20-65.1%5D%2C%20%5B-3.47%2C%20-65.1%5D%2C%20%5B-3.47%2C%20-65.1%5D%2C%20%5B-3.47%2C%20-65.1%5D%2C%20%5B-3.47%2C%20-65.1%5D%2C%20%5B-3.47%2C%20-65.1%5D%2C%20%5B-3.47%2C%20-65.1%5D%2C%20%5B-3.47%2C%20-65.1%5D%2C%20%5B-3.47%2C%20-65.1%5D%2C%20%5B-3.47%2C%20-65.1%5D%2C%20%5B-3.47%2C%20-65.1%5D%2C%20%5B-3.47%2C%20-65.1%5D%2C%20%5B-3.47%2C%20-65.1%5D%2C%20%5B-3.47%2C%20-65.1%5D%2C%20%5B-3.47%2C%20-65.1%5D%2C%20%5B-3.47%2C%20-65.1%5D%2C%20%5B-3.47%2C%20-65.1%5D%2C%20%5B1.99%2C%20-61.33%5D%2C%20%5B1.99%2C%20-61.33%5D%2C%20%5B1.99%2C%20-61.33%5D%2C%20%5B1.99%2C%20-61.33%5D%2C%20%5B1.99%2C%20-61.33%5D%2C%20%5B1.99%2C%20-61.33%5D%2C%20%5B1.99%2C%20-61.33%5D%2C%20%5B1.99%2C%20-61.33%5D%2C%20%5B1.99%2C%20-61.33%5D%2C%20%5B1.99%2C%20-61.33%5D%2C%20%5B1.99%2C%20-61.33%5D%2C%20%5B1.99%2C%20-61.33%5D%2C%20%5B1.99%2C%20-61.33%5D%2C%20%5B1.99%2C%20-61.33%5D%2C%20%5B1.99%2C%20-61.33%5D%2C%20%5B-3.79%2C%20-52.48%5D%2C%20%5B-3.79%2C%20-52.48%5D%2C%20%5B-3.79%2C%20-52.48%5D%2C%20%5B-3.79%2C%20-52.48%5D%2C%20%5B-3.79%2C%20-52.48%5D%2C%20%5B-3.79%2C%20-52.48%5D%2C%20%5B-3.79%2C%20-52.48%5D%2C%20%5B-3.79%2C%20-52.48%5D%2C%20%5B-3.79%2C%20-52.48%5D%2C%20%5B-3.79%2C%20-52.48%5D%2C%20%5B-3.79%2C%20-52.48%5D%2C%20%5B-3.79%2C%20-52.48%5D%2C%20%5B-3.79%2C%20-52.48%5D%2C%20%5B-3.79%2C%20-52.48%5D%2C%20%5B-3.79%2C%20-52.48%5D%2C%20%5B-3.79%2C%20-52.48%5D%2C%20%5B-3.79%2C%20-52.48%5D%2C%20%5B-3.79%2C%20-52.48%5D%2C%20%5B-3.79%2C%20-52.48%5D%2C%20%5B-3.79%2C%20-52.48%5D%2C%20%5B-3.79%2C%20-52.48%5D%2C%20%5B-3.79%2C%20-52.48%5D%2C%20%5B-3.79%2C%20-52.48%5D%2C%20%5B-3.79%2C%20-52.48%5D%2C%20%5B-3.79%2C%20-52.48%5D%2C%20%5B-3.79%2C%20-52.48%5D%2C%20%5B-3.79%2C%20-52.48%5D%2C%20%5B-3.79%2C%20-52.48%5D%2C%20%5B-3.79%2C%20-52.48%5D%2C%20%5B-3.79%2C%20-52.48%5D%2C%20%5B-3.79%2C%20-52.48%5D%2C%20%5B-3.79%2C%20-52.48%5D%2C%20%5B-3.79%2C%20-52.48%5D%2C%20%5B-3.79%2C%20-52.48%5D%2C%20%5B-3.79%2C%20-52.48%5D%2C%20%5B-3.79%2C%20-52.48%5D%2C%20%5B-3.79%2C%20-52.48%5D%2C%20%5B-3.79%2C%20-52.48%5D%2C%20%5B-3.79%2C%20-52.48%5D%2C%20%5B-3.79%2C%20-52.48%5D%2C%20%5B-3.79%2C%20-52.48%5D%2C%20%5B-3.79%2C%20-52.48%5D%2C%20%5B-3.79%2C%20-52.48%5D%2C%20%5B-3.79%2C%20-52.48%5D%2C%20%5B-3.79%2C%20-52.48%5D%2C%20%5B-3.79%2C%20-52.48%5D%2C%20%5B-3.79%2C%20-52.48%5D%2C%20%5B-3.79%2C%20-52.48%5D%2C%20%5B-3.79%2C%20-52.48%5D%2C%20%5B-3.79%2C%20-52.48%5D%2C%20%5B-3.79%2C%20-52.48%5D%2C%20%5B-3.79%2C%20-52.48%5D%2C%20%5B-3.79%2C%20-52.48%5D%2C%20%5B-3.79%2C%20-52.48%5D%2C%20%5B-3.79%2C%20-52.48%5D%2C%20%5B-3.79%2C%20-52.48%5D%2C%20%5B-3.79%2C%20-52.48%5D%2C%20%5B-3.79%2C%20-52.48%5D%2C%20%5B-3.79%2C%20-52.48%5D%2C%20%5B-3.79%2C%20-52.48%5D%2C%20%5B-3.79%2C%20-52.48%5D%2C%20%5B-3.79%2C%20-52.48%5D%2C%20%5B-3.79%2C%20-52.48%5D%2C%20%5B-3.79%2C%20-52.48%5D%2C%20%5B-3.79%2C%20-52.48%5D%2C%20%5B-3.79%2C%20-52.48%5D%2C%20%5B-3.79%2C%20-52.48%5D%2C%20%5B-3.79%2C%20-52.48%5D%2C%20%5B-3.79%2C%20-52.48%5D%2C%20%5B-3.79%2C%20-52.48%5D%2C%20%5B-3.79%2C%20-52.48%5D%2C%20%5B-3.79%2C%20-52.48%5D%2C%20%5B-3.79%2C%20-52.48%5D%2C%20%5B-3.79%2C%20-52.48%5D%2C%20%5B-3.79%2C%20-52.48%5D%2C%20%5B-3.79%2C%20-52.48%5D%2C%20%5B-3.79%2C%20-52.48%5D%2C%20%5B-3.79%2C%20-52.48%5D%2C%20%5B-3.79%2C%20-52.48%5D%2C%20%5B-3.79%2C%20-52.48%5D%2C%20%5B-3.79%2C%20-52.48%5D%2C%20%5B-3.79%2C%20-52.48%5D%2C%20%5B-3.79%2C%20-52.48%5D%2C%20%5B-3.79%2C%20-52.48%5D%2C%20%5B-3.79%2C%20-52.48%5D%2C%20%5B-3.79%2C%20-52.48%5D%2C%20%5B-3.79%2C%20-52.48%5D%2C%20%5B-3.79%2C%20-52.48%5D%2C%20%5B-3.79%2C%20-52.48%5D%2C%20%5B-3.79%2C%20-52.48%5D%2C%20%5B-3.79%2C%20-52.48%5D%2C%20%5B-3.79%2C%20-52.48%5D%2C%20%5B-3.79%2C%20-52.48%5D%2C%20%5B-3.79%2C%20-52.48%5D%2C%20%5B-3.79%2C%20-52.48%5D%2C%20%5B-3.79%2C%20-52.48%5D%2C%20%5B-3.79%2C%20-52.48%5D%2C%20%5B-3.79%2C%20-52.48%5D%2C%20%5B-3.79%2C%20-52.48%5D%2C%20%5B-3.79%2C%20-52.48%5D%2C%20%5B-3.79%2C%20-52.48%5D%2C%20%5B-3.79%2C%20-52.48%5D%2C%20%5B-3.79%2C%20-52.48%5D%2C%20%5B-3.79%2C%20-52.48%5D%2C%20%5B-3.79%2C%20-52.48%5D%2C%20%5B-3.79%2C%20-52.48%5D%2C%20%5B-3.79%2C%20-52.48%5D%2C%20%5B-3.79%2C%20-52.48%5D%2C%20%5B-3.79%2C%20-52.48%5D%2C%20%5B-3.79%2C%20-52.48%5D%2C%20%5B-3.79%2C%20-52.48%5D%2C%20%5B-3.79%2C%20-52.48%5D%2C%20%5B-3.79%2C%20-52.48%5D%2C%20%5B-3.79%2C%20-52.48%5D%2C%20%5B-3.79%2C%20-52.48%5D%2C%20%5B-3.79%2C%20-52.48%5D%2C%20%5B-3.79%2C%20-52.48%5D%2C%20%5B-3.79%2C%20-52.48%5D%2C%20%5B-3.79%2C%20-52.48%5D%2C%20%5B-3.79%2C%20-52.48%5D%2C%20%5B-3.79%2C%20-52.48%5D%2C%20%5B-3.79%2C%20-52.48%5D%2C%20%5B-3.79%2C%20-52.48%5D%2C%20%5B-3.79%2C%20-52.48%5D%2C%20%5B-3.79%2C%20-52.48%5D%2C%20%5B-3.79%2C%20-52.48%5D%2C%20%5B-3.79%2C%20-52.48%5D%2C%20%5B-3.79%2C%20-52.48%5D%2C%20%5B-3.79%2C%20-52.48%5D%2C%20%5B-3.79%2C%20-52.48%5D%2C%20%5B-3.79%2C%20-52.48%5D%2C%20%5B-3.79%2C%20-52.48%5D%2C%20%5B-3.79%2C%20-52.48%5D%2C%20%5B-3.79%2C%20-52.48%5D%2C%20%5B-3.79%2C%20-52.48%5D%2C%20%5B-3.79%2C%20-52.48%5D%2C%20%5B-3.79%2C%20-52.48%5D%2C%20%5B-3.79%2C%20-52.48%5D%2C%20%5B-3.79%2C%20-52.48%5D%2C%20%5B-3.79%2C%20-52.48%5D%2C%20%5B-3.79%2C%20-52.48%5D%2C%20%5B-3.79%2C%20-52.48%5D%2C%20%5B-3.79%2C%20-52.48%5D%2C%20%5B1.41%2C%20-51.77%5D%2C%20%5B1.41%2C%20-51.77%5D%2C%20%5B1.41%2C%20-51.77%5D%2C%20%5B1.41%2C%20-51.77%5D%2C%20%5B1.41%2C%20-51.77%5D%2C%20%5B1.41%2C%20-51.77%5D%2C%20%5B1.41%2C%20-51.77%5D%2C%20%5B1.41%2C%20-51.77%5D%2C%20%5B1.41%2C%20-51.77%5D%2C%20%5B1.41%2C%20-51.77%5D%2C%20%5B1.41%2C%20-51.77%5D%2C%20%5B1.41%2C%20-51.77%5D%2C%20%5B1.41%2C%20-51.77%5D%2C%20%5B1.41%2C%20-51.77%5D%2C%20%5B1.41%2C%20-51.77%5D%2C%20%5B1.41%2C%20-51.77%5D%2C%20%5B-9.46%2C%20-48.26%5D%2C%20%5B-9.46%2C%20-48.26%5D%2C%20%5B-9.46%2C%20-48.26%5D%2C%20%5B-9.46%2C%20-48.26%5D%2C%20%5B-9.46%2C%20-48.26%5D%2C%20%5B-9.46%2C%20-48.26%5D%2C%20%5B-9.46%2C%20-48.26%5D%2C%20%5B-9.46%2C%20-48.26%5D%2C%20%5B-9.46%2C%20-48.26%5D%2C%20%5B-9.46%2C%20-48.26%5D%2C%20%5B-9.46%2C%20-48.26%5D%2C%20%5B-9.46%2C%20-48.26%5D%2C%20%5B-9.46%2C%20-48.26%5D%2C%20%5B-9.46%2C%20-48.26%5D%2C%20%5B-9.46%2C%20-48.26%5D%2C%20%5B-9.46%2C%20-48.26%5D%2C%20%5B-9.46%2C%20-48.26%5D%2C%20%5B-9.46%2C%20-48.26%5D%2C%20%5B-9.46%2C%20-48.26%5D%2C%20%5B-9.46%2C%20-48.26%5D%2C%20%5B-9.46%2C%20-48.26%5D%2C%20%5B-9.46%2C%20-48.26%5D%2C%20%5B-9.46%2C%20-48.26%5D%2C%20%5B-9.46%2C%20-48.26%5D%2C%20%5B-9.46%2C%20-48.26%5D%2C%20%5B-9.46%2C%20-48.26%5D%2C%20%5B-9.46%2C%20-48.26%5D%2C%20%5B-9.46%2C%20-48.26%5D%2C%20%5B-9.46%2C%20-48.26%5D%2C%20%5B-9.46%2C%20-48.26%5D%2C%20%5B-9.46%2C%20-48.26%5D%2C%20%5B-9.46%2C%20-48.26%5D%2C%20%5B-9.46%2C%20-48.26%5D%2C%20%5B-9.46%2C%20-48.26%5D%2C%20%5B-9.46%2C%20-48.26%5D%2C%20%5B-9.46%2C%20-48.26%5D%2C%20%5B-9.46%2C%20-48.26%5D%2C%20%5B-9.46%2C%20-48.26%5D%2C%20%5B-9.46%2C%20-48.26%5D%2C%20%5B-9.46%2C%20-48.26%5D%2C%20%5B-9.46%2C%20-48.26%5D%2C%20%5B-9.46%2C%20-48.26%5D%2C%20%5B-9.46%2C%20-48.26%5D%2C%20%5B-9.46%2C%20-48.26%5D%2C%20%5B-9.46%2C%20-48.26%5D%2C%20%5B-9.46%2C%20-48.26%5D%2C%20%5B-9.46%2C%20-48.26%5D%2C%20%5B-9.46%2C%20-48.26%5D%2C%20%5B-9.46%2C%20-48.26%5D%2C%20%5B-9.46%2C%20-48.26%5D%2C%20%5B-9.46%2C%20-48.26%5D%2C%20%5B-9.46%2C%20-48.26%5D%2C%20%5B-9.46%2C%20-48.26%5D%2C%20%5B-9.46%2C%20-48.26%5D%2C%20%5B-9.46%2C%20-48.26%5D%2C%20%5B-9.46%2C%20-48.26%5D%2C%20%5B-9.46%2C%20-48.26%5D%2C%20%5B-9.46%2C%20-48.26%5D%2C%20%5B-9.46%2C%20-48.26%5D%2C%20%5B-9.46%2C%20-48.26%5D%2C%20%5B-9.46%2C%20-48.26%5D%2C%20%5B-9.46%2C%20-48.26%5D%2C%20%5B-9.46%2C%20-48.26%5D%2C%20%5B-9.46%2C%20-48.26%5D%2C%20%5B-9.46%2C%20-48.26%5D%2C%20%5B-9.46%2C%20-48.26%5D%2C%20%5B-9.46%2C%20-48.26%5D%2C%20%5B-9.46%2C%20-48.26%5D%2C%20%5B-9.46%2C%20-48.26%5D%2C%20%5B-9.46%2C%20-48.26%5D%2C%20%5B-9.46%2C%20-48.26%5D%2C%20%5B-9.46%2C%20-48.26%5D%2C%20%5B-9.46%2C%20-48.26%5D%2C%20%5B-9.46%2C%20-48.26%5D%2C%20%5B-9.46%2C%20-48.26%5D%2C%20%5B-9.46%2C%20-48.26%5D%2C%20%5B-9.46%2C%20-48.26%5D%2C%20%5B-9.46%2C%20-48.26%5D%2C%20%5B-9.46%2C%20-48.26%5D%2C%20%5B-9.46%2C%20-48.26%5D%2C%20%5B-9.46%2C%20-48.26%5D%2C%20%5B-9.46%2C%20-48.26%5D%2C%20%5B-9.46%2C%20-48.26%5D%2C%20%5B-9.46%2C%20-48.26%5D%2C%20%5B-9.46%2C%20-48.26%5D%2C%20%5B-9.46%2C%20-48.26%5D%2C%20%5B-9.46%2C%20-48.26%5D%2C%20%5B-9.46%2C%20-48.26%5D%2C%20%5B-9.46%2C%20-48.26%5D%2C%20%5B-9.46%2C%20-48.26%5D%2C%20%5B-9.46%2C%20-48.26%5D%2C%20%5B-9.46%2C%20-48.26%5D%2C%20%5B-9.46%2C%20-48.26%5D%2C%20%5B-9.46%2C%20-48.26%5D%2C%20%5B-9.46%2C%20-48.26%5D%2C%20%5B-9.46%2C%20-48.26%5D%2C%20%5B-9.46%2C%20-48.26%5D%2C%20%5B-9.46%2C%20-48.26%5D%2C%20%5B-9.46%2C%20-48.26%5D%2C%20%5B-9.46%2C%20-48.26%5D%2C%20%5B-9.46%2C%20-48.26%5D%2C%20%5B-9.46%2C%20-48.26%5D%2C%20%5B-9.46%2C%20-48.26%5D%2C%20%5B-9.46%2C%20-48.26%5D%2C%20%5B-9.46%2C%20-48.26%5D%2C%20%5B-9.46%2C%20-48.26%5D%2C%20%5B-9.46%2C%20-48.26%5D%2C%20%5B-9.46%2C%20-48.26%5D%2C%20%5B-9.46%2C%20-48.26%5D%2C%20%5B-9.46%2C%20-48.26%5D%2C%20%5B-9.46%2C%20-48.26%5D%2C%20%5B-9.46%2C%20-48.26%5D%2C%20%5B-9.46%2C%20-48.26%5D%2C%20%5B-9.46%2C%20-48.26%5D%2C%20%5B-9.46%2C%20-48.26%5D%2C%20%5B-9.46%2C%20-48.26%5D%2C%20%5B-9.46%2C%20-48.26%5D%2C%20%5B-9.46%2C%20-48.26%5D%2C%20%5B-9.46%2C%20-48.26%5D%2C%20%5B-9.46%2C%20-48.26%5D%2C%20%5B-9.46%2C%20-48.26%5D%2C%20%5B-9.46%2C%20-48.26%5D%2C%20%5B-9.46%2C%20-48.26%5D%2C%20%5B-9.46%2C%20-48.26%5D%2C%20%5B-9.46%2C%20-48.26%5D%2C%20%5B-9.46%2C%20-48.26%5D%2C%20%5B-9.46%2C%20-48.26%5D%2C%20%5B-9.46%2C%20-48.26%5D%2C%20%5B-9.46%2C%20-48.26%5D%2C%20%5B-9.46%2C%20-48.26%5D%2C%20%5B-9.46%2C%20-48.26%5D%2C%20%5B-9.46%2C%20-48.26%5D%2C%20%5B-9.46%2C%20-48.26%5D%2C%20%5B-9.46%2C%20-48.26%5D%2C%20%5B-9.46%2C%20-48.26%5D%2C%20%5B-9.46%2C%20-48.26%5D%2C%20%5B-9.46%2C%20-48.26%5D%2C%20%5B-9.46%2C%20-48.26%5D%2C%20%5B-9.46%2C%20-48.26%5D%5D%2C%0A%20%20%20%20%20%20%20%20%20%20%20%20%20%20%20%20%7B%22blur%22%3A%2015%2C%20%22maxZoom%22%3A%2018%2C%20%22minOpacity%22%3A%200.5%2C%20%22radius%22%3A%2025%7D%0A%20%20%20%20%20%20%20%20%20%20%20%20%29.addTo%28map_78bed96b8e9a43b6b2fbe5f9c13410c7%29%3B%0A%20%20%20%20%20%20%20%20%0A%3C/script%3E onload=\"this.contentDocument.open();this.contentDocument.write(    decodeURIComponent(this.getAttribute('data-html')));this.contentDocument.close();\" allowfullscreen webkitallowfullscreen mozallowfullscreen></iframe></div></div>"
      ],
      "text/plain": [
       "<folium.folium.Map at 0x2454ae63048>"
      ]
     },
     "execution_count": 19,
     "metadata": {},
     "output_type": "execute_result"
    }
   ],
   "source": [
    "# Adicionando os registros no mapa de calor:\n",
    "from folium import plugins\n",
    "\n",
    "mapa.add_child(plugins.HeatMap(coordenadas))        \n",
    "mapa"
   ]
  },
  {
   "cell_type": "markdown",
   "metadata": {},
   "source": [
    "### Distribuição dos dados no nível de município"
   ]
  },
  {
   "cell_type": "code",
   "execution_count": 21,
   "metadata": {},
   "outputs": [],
   "source": [
    "# Merge dataset vacinas e geolocalização\n",
    "df_plot_municipios = pd.merge(df_vacinas, df_municipios, how='left', left_on='CODMUN7', right_on='codigo_ibge')"
   ]
  },
  {
   "cell_type": "code",
   "execution_count": 24,
   "metadata": {},
   "outputs": [
    {
     "data": {
      "text/html": [
       "<div>\n",
       "<style scoped>\n",
       "    .dataframe tbody tr th:only-of-type {\n",
       "        vertical-align: middle;\n",
       "    }\n",
       "\n",
       "    .dataframe tbody tr th {\n",
       "        vertical-align: top;\n",
       "    }\n",
       "\n",
       "    .dataframe thead th {\n",
       "        text-align: right;\n",
       "    }\n",
       "</style>\n",
       "<table border=\"1\" class=\"dataframe\">\n",
       "  <thead>\n",
       "    <tr style=\"text-align: right;\">\n",
       "      <th></th>\n",
       "      <th>COD</th>\n",
       "      <th>CODMUN7</th>\n",
       "      <th>UF</th>\n",
       "      <th>ANO</th>\n",
       "      <th>MUNICIPIO</th>\n",
       "      <th>CV_SCR1</th>\n",
       "      <th>CV_SCR2</th>\n",
       "      <th>POPRURAL</th>\n",
       "      <th>POPURB</th>\n",
       "      <th>RDPC</th>\n",
       "      <th>...</th>\n",
       "      <th>POPDOMCHEFMULHERES</th>\n",
       "      <th>DENSDEMOG2010</th>\n",
       "      <th>PERC_NV_7CPN</th>\n",
       "      <th>COBERTURA_AB</th>\n",
       "      <th>codigo_ibge</th>\n",
       "      <th>nome</th>\n",
       "      <th>latitude</th>\n",
       "      <th>longitude</th>\n",
       "      <th>capital</th>\n",
       "      <th>codigo_uf</th>\n",
       "    </tr>\n",
       "  </thead>\n",
       "  <tbody>\n",
       "    <tr>\n",
       "      <th>0</th>\n",
       "      <td>110001</td>\n",
       "      <td>1100015</td>\n",
       "      <td>Rondônia</td>\n",
       "      <td>2016</td>\n",
       "      <td>Alta Floresta D'Oeste</td>\n",
       "      <td>96.449997</td>\n",
       "      <td>92.080002</td>\n",
       "      <td>42.73</td>\n",
       "      <td>57.270000</td>\n",
       "      <td>476.989990</td>\n",
       "      <td>...</td>\n",
       "      <td>26.920000</td>\n",
       "      <td>3.45</td>\n",
       "      <td>67.180000</td>\n",
       "      <td>80.930000</td>\n",
       "      <td>1100015</td>\n",
       "      <td>Alta Floresta D'Oeste</td>\n",
       "      <td>-11.92830</td>\n",
       "      <td>-61.9953</td>\n",
       "      <td>0</td>\n",
       "      <td>11</td>\n",
       "    </tr>\n",
       "    <tr>\n",
       "      <th>1</th>\n",
       "      <td>110002</td>\n",
       "      <td>1100023</td>\n",
       "      <td>Rondônia</td>\n",
       "      <td>2016</td>\n",
       "      <td>Ariquemes</td>\n",
       "      <td>98.919998</td>\n",
       "      <td>89.519997</td>\n",
       "      <td>15.30</td>\n",
       "      <td>84.699997</td>\n",
       "      <td>689.950012</td>\n",
       "      <td>...</td>\n",
       "      <td>32.630001</td>\n",
       "      <td>20.41</td>\n",
       "      <td>72.620003</td>\n",
       "      <td>61.919998</td>\n",
       "      <td>1100023</td>\n",
       "      <td>Ariquemes</td>\n",
       "      <td>-9.90571</td>\n",
       "      <td>-63.0325</td>\n",
       "      <td>0</td>\n",
       "      <td>11</td>\n",
       "    </tr>\n",
       "  </tbody>\n",
       "</table>\n",
       "<p>2 rows × 35 columns</p>\n",
       "</div>"
      ],
      "text/plain": [
       "      COD  CODMUN7        UF   ANO              MUNICIPIO    CV_SCR1  \\\n",
       "0  110001  1100015  Rondônia  2016  Alta Floresta D'Oeste  96.449997   \n",
       "1  110002  1100023  Rondônia  2016              Ariquemes  98.919998   \n",
       "\n",
       "     CV_SCR2  POPRURAL     POPURB        RDPC    ...      POPDOMCHEFMULHERES  \\\n",
       "0  92.080002     42.73  57.270000  476.989990    ...               26.920000   \n",
       "1  89.519997     15.30  84.699997  689.950012    ...               32.630001   \n",
       "\n",
       "   DENSDEMOG2010  PERC_NV_7CPN  COBERTURA_AB  codigo_ibge  \\\n",
       "0           3.45     67.180000     80.930000      1100015   \n",
       "1          20.41     72.620003     61.919998      1100023   \n",
       "\n",
       "                    nome  latitude  longitude  capital  codigo_uf  \n",
       "0  Alta Floresta D'Oeste -11.92830   -61.9953        0         11  \n",
       "1              Ariquemes  -9.90571   -63.0325        0         11  \n",
       "\n",
       "[2 rows x 35 columns]"
      ]
     },
     "execution_count": 24,
     "metadata": {},
     "output_type": "execute_result"
    }
   ],
   "source": [
    "df_plot_municipios.head(2)"
   ]
  },
  {
   "cell_type": "code",
   "execution_count": 22,
   "metadata": {},
   "outputs": [],
   "source": [
    "# Extraindo as coordenadas\n",
    "coordenadas=[]\n",
    "for lat,lng in zip(df_plot_municipios.latitude.values,df_plot_municipios.longitude.values):\n",
    "  coordenadas.append([lat,lng])"
   ]
  },
  {
   "cell_type": "code",
   "execution_count": 23,
   "metadata": {},
   "outputs": [
    {
     "data": {
      "text/html": [
       "<div style=\"width:100%;\"><div style=\"position:relative;width:100%;height:0;padding-bottom:60%;\"><span style=\"color:#565656\">Make this Notebook Trusted to load map: File -> Trust Notebook</span><iframe src=\"about:blank\" style=\"position:absolute;width:100%;height:100%;left:0;top:0;border:none !important;\" data-html=%3C%21DOCTYPE%20html%3E%0A%3Chead%3E%20%20%20%20%0A%20%20%20%20%3Cmeta%20http-equiv%3D%22content-type%22%20content%3D%22text/html%3B%20charset%3DUTF-8%22%20/%3E%0A%20%20%20%20%0A%20%20%20%20%20%20%20%20%3Cscript%3E%0A%20%20%20%20%20%20%20%20%20%20%20%20L_NO_TOUCH%20%3D%20false%3B%0A%20%20%20%20%20%20%20%20%20%20%20%20L_DISABLE_3D%20%3D%20false%3B%0A%20%20%20%20%20%20%20%20%3C/script%3E%0A%20%20%20%20%0A%20%20%20%20%3Cstyle%3Ehtml%2C%20body%20%7Bwidth%3A%20100%25%3Bheight%3A%20100%25%3Bmargin%3A%200%3Bpadding%3A%200%3B%7D%3C/style%3E%0A%20%20%20%20%3Cstyle%3E%23map%20%7Bposition%3Aabsolute%3Btop%3A0%3Bbottom%3A0%3Bright%3A0%3Bleft%3A0%3B%7D%3C/style%3E%0A%20%20%20%20%3Cscript%20src%3D%22https%3A//cdn.jsdelivr.net/npm/leaflet%401.6.0/dist/leaflet.js%22%3E%3C/script%3E%0A%20%20%20%20%3Cscript%20src%3D%22https%3A//code.jquery.com/jquery-1.12.4.min.js%22%3E%3C/script%3E%0A%20%20%20%20%3Cscript%20src%3D%22https%3A//maxcdn.bootstrapcdn.com/bootstrap/3.2.0/js/bootstrap.min.js%22%3E%3C/script%3E%0A%20%20%20%20%3Cscript%20src%3D%22https%3A//cdnjs.cloudflare.com/ajax/libs/Leaflet.awesome-markers/2.0.2/leaflet.awesome-markers.js%22%3E%3C/script%3E%0A%20%20%20%20%3Clink%20rel%3D%22stylesheet%22%20href%3D%22https%3A//cdn.jsdelivr.net/npm/leaflet%401.6.0/dist/leaflet.css%22/%3E%0A%20%20%20%20%3Clink%20rel%3D%22stylesheet%22%20href%3D%22https%3A//maxcdn.bootstrapcdn.com/bootstrap/3.2.0/css/bootstrap.min.css%22/%3E%0A%20%20%20%20%3Clink%20rel%3D%22stylesheet%22%20href%3D%22https%3A//maxcdn.bootstrapcdn.com/bootstrap/3.2.0/css/bootstrap-theme.min.css%22/%3E%0A%20%20%20%20%3Clink%20rel%3D%22stylesheet%22%20href%3D%22https%3A//maxcdn.bootstrapcdn.com/font-awesome/4.6.3/css/font-awesome.min.css%22/%3E%0A%20%20%20%20%3Clink%20rel%3D%22stylesheet%22%20href%3D%22https%3A//cdnjs.cloudflare.com/ajax/libs/Leaflet.awesome-markers/2.0.2/leaflet.awesome-markers.css%22/%3E%0A%20%20%20%20%3Clink%20rel%3D%22stylesheet%22%20href%3D%22https%3A//cdn.jsdelivr.net/gh/python-visualization/folium/folium/templates/leaflet.awesome.rotate.min.css%22/%3E%0A%20%20%20%20%0A%20%20%20%20%20%20%20%20%20%20%20%20%3Cmeta%20name%3D%22viewport%22%20content%3D%22width%3Ddevice-width%2C%0A%20%20%20%20%20%20%20%20%20%20%20%20%20%20%20%20initial-scale%3D1.0%2C%20maximum-scale%3D1.0%2C%20user-scalable%3Dno%22%20/%3E%0A%20%20%20%20%20%20%20%20%20%20%20%20%3Cstyle%3E%0A%20%20%20%20%20%20%20%20%20%20%20%20%20%20%20%20%23map_ae778aa840e34fa6a477508ba36edd0f%20%7B%0A%20%20%20%20%20%20%20%20%20%20%20%20%20%20%20%20%20%20%20%20position%3A%20relative%3B%0A%20%20%20%20%20%20%20%20%20%20%20%20%20%20%20%20%20%20%20%20width%3A%20100.0%25%3B%0A%20%20%20%20%20%20%20%20%20%20%20%20%20%20%20%20%20%20%20%20height%3A%20100.0%25%3B%0A%20%20%20%20%20%20%20%20%20%20%20%20%20%20%20%20%20%20%20%20left%3A%200.0%25%3B%0A%20%20%20%20%20%20%20%20%20%20%20%20%20%20%20%20%20%20%20%20top%3A%200.0%25%3B%0A%20%20%20%20%20%20%20%20%20%20%20%20%20%20%20%20%7D%0A%20%20%20%20%20%20%20%20%20%20%20%20%3C/style%3E%0A%20%20%20%20%20%20%20%20%0A%20%20%20%20%3Cscript%20src%3D%22https%3A//cdn.jsdelivr.net/gh/python-visualization/folium%40master/folium/templates/leaflet_heat.min.js%22%3E%3C/script%3E%0A%3C/head%3E%0A%3Cbody%3E%20%20%20%20%0A%20%20%20%20%0A%20%20%20%20%20%20%20%20%20%20%20%20%3Cdiv%20class%3D%22folium-map%22%20id%3D%22map_ae778aa840e34fa6a477508ba36edd0f%22%20%3E%3C/div%3E%0A%20%20%20%20%20%20%20%20%0A%3C/body%3E%0A%3Cscript%3E%20%20%20%20%0A%20%20%20%20%0A%20%20%20%20%20%20%20%20%20%20%20%20var%20map_ae778aa840e34fa6a477508ba36edd0f%20%3D%20L.map%28%0A%20%20%20%20%20%20%20%20%20%20%20%20%20%20%20%20%22map_ae778aa840e34fa6a477508ba36edd0f%22%2C%0A%20%20%20%20%20%20%20%20%20%20%20%20%20%20%20%20%7B%0A%20%20%20%20%20%20%20%20%20%20%20%20%20%20%20%20%20%20%20%20center%3A%20%5B-15.788497%2C%20-47.879873%5D%2C%0A%20%20%20%20%20%20%20%20%20%20%20%20%20%20%20%20%20%20%20%20crs%3A%20L.CRS.EPSG3857%2C%0A%20%20%20%20%20%20%20%20%20%20%20%20%20%20%20%20%20%20%20%20zoom%3A%204.5%2C%0A%20%20%20%20%20%20%20%20%20%20%20%20%20%20%20%20%20%20%20%20zoomControl%3A%20true%2C%0A%20%20%20%20%20%20%20%20%20%20%20%20%20%20%20%20%20%20%20%20preferCanvas%3A%20false%2C%0A%20%20%20%20%20%20%20%20%20%20%20%20%20%20%20%20%7D%0A%20%20%20%20%20%20%20%20%20%20%20%20%29%3B%0A%0A%20%20%20%20%20%20%20%20%20%20%20%20%0A%0A%20%20%20%20%20%20%20%20%0A%20%20%20%20%0A%20%20%20%20%20%20%20%20%20%20%20%20var%20tile_layer_254ab2eac6634eb39123fc640522b654%20%3D%20L.tileLayer%28%0A%20%20%20%20%20%20%20%20%20%20%20%20%20%20%20%20%22https%3A//stamen-tiles-%7Bs%7D.a.ssl.fastly.net/toner/%7Bz%7D/%7Bx%7D/%7By%7D.png%22%2C%0A%20%20%20%20%20%20%20%20%20%20%20%20%20%20%20%20%7B%22attribution%22%3A%20%22Map%20tiles%20by%20%5Cu003ca%20href%3D%5C%22http%3A//stamen.com%5C%22%5Cu003eStamen%20Design%5Cu003c/a%5Cu003e%2C%20under%20%5Cu003ca%20href%3D%5C%22http%3A//creativecommons.org/licenses/by/3.0%5C%22%5Cu003eCC%20BY%203.0%5Cu003c/a%5Cu003e.%20Data%20by%20%5Cu0026copy%3B%20%5Cu003ca%20href%3D%5C%22http%3A//openstreetmap.org%5C%22%5Cu003eOpenStreetMap%5Cu003c/a%5Cu003e%2C%20under%20%5Cu003ca%20href%3D%5C%22http%3A//www.openstreetmap.org/copyright%5C%22%5Cu003eODbL%5Cu003c/a%5Cu003e.%22%2C%20%22detectRetina%22%3A%20false%2C%20%22maxNativeZoom%22%3A%2018%2C%20%22maxZoom%22%3A%2018%2C%20%22minZoom%22%3A%200%2C%20%22noWrap%22%3A%20false%2C%20%22opacity%22%3A%201%2C%20%22subdomains%22%3A%20%22abc%22%2C%20%22tms%22%3A%20false%7D%0A%20%20%20%20%20%20%20%20%20%20%20%20%29.addTo%28map_ae778aa840e34fa6a477508ba36edd0f%29%3B%0A%20%20%20%20%20%20%20%20%0A%20%20%20%20%0A%20%20%20%20%20%20%20%20%20%20%20%20var%20heat_map_114fe023af0e495a9149ab85f6872853%20%3D%20L.heatLayer%28%0A%20%20%20%20%20%20%20%20%20%20%20%20%20%20%20%20%5B%5B-11.9283%2C%20-61.9953%5D%2C%20%5B-9.905710000000001%2C%20-63.0325%5D%2C%20%5B-13.4945%2C%20-60.552%5D%2C%20%5B-11.4343%2C%20-61.4562%5D%2C%20%5B-13.187000000000001%2C%20-60.8168%5D%2C%20%5B-13.1174%2C%20-60.5454%5D%2C%20%5B-12.9551%2C%20-60.8947%5D%2C%20%5B-12.4367%2C%20-64.22800000000001%5D%2C%20%5B-11.5266%2C%20-61.0252%5D%2C%20%5B-10.7889%2C%20-65.3296%5D%2C%20%5B-10.4318%2C%20-62.4788%5D%2C%20%5B-10.8777%2C%20-61.9322%5D%2C%20%5B-9.44363%2C%20-61.9818%5D%2C%20%5B-11.7247%2C%20-62.3127%5D%2C%20%5B-10.7167%2C%20-62.2565%5D%2C%20%5B-11.672%2C%20-61.198%5D%2C%20%5B-8.760769999999999%2C%20-63.8999%5D%2C%20%5B-11.169%2C%20-61.8986%5D%2C%20%5B-9.69965%2C%20-62.9011%5D%2C%20%5B-11.7271%2C%20-61.7714%5D%2C%20%5B-11.9074%2C%20-61.7777%5D%2C%20%5B-12.7502%2C%20-60.1488%5D%2C%20%5B-11.6953%2C%20-62.7192%5D%2C%20%5B-10.4077%2C%20-65.3346%5D%2C%20%5B-11.3463%2C%20-62.2847%5D%2C%20%5B-12.132%2C%20-61.835%5D%2C%20%5B-9.71429%2C%20-63.3188%5D%2C%20%5B-10.1943%2C%20-63.8324%5D%2C%20%5B-11.6961%2C%20-61.9951%5D%2C%20%5B-10.349%2C%20-62.9043%5D%2C%20%5B-10.5712%2C%20-63.6266%5D%2C%20%5B-8.7907%2C%20-63.7005%5D%2C%20%5B-11.4253%2C%20-61.9482%5D%2C%20%5B-12.5611%2C%20-60.8877%5D%2C%20%5B-9.36065%2C%20-62.5846%5D%2C%20%5B-10.61%2C%20-62.7371%5D%2C%20%5B-9.19687%2C%20-63.1809%5D%2C%20%5B-11.196%2C%20-61.5174%5D%2C%20%5B-11.029000000000002%2C%20-62.6696%5D%2C%20%5B-10.2458%2C%20-63.29%5D%2C%20%5B-10.9068%2C%20-62.5564%5D%2C%20%5B-12.1754%2C%20-61.6032%5D%2C%20%5B-13.4823%2C%20-61.0471%5D%2C%20%5B-11.8295%2C%20-61.3153%5D%2C%20%5B-11.9023%2C%20-61.5026%5D%2C%20%5B-12.052%2C%20-63.568000000000005%5D%2C%20%5B-11.8055%2C%20-63.0182%5D%2C%20%5B-10.9056%2C%20-62.242%5D%2C%20%5B-10.2483%2C%20-62.3538%5D%2C%20%5B-11.1261%2C%20-62.3639%5D%2C%20%5B-9.86215%2C%20-62.1876%5D%2C%20%5B-10.4465%2C%20-62.1352%5D%2C%20%5B-9.82581%2C%20-66.8972%5D%2C%20%5B-10.9298%2C%20-69.5738%5D%2C%20%5B-10.995%2C%20-68.7497%5D%2C%20%5B-9.81528%2C%20-67.955%5D%2C%20%5B-10.565999999999999%2C%20-67.686%5D%2C%20%5B-7.627619999999999%2C%20-72.6756%5D%2C%20%5B-11.0188%2C%20-68.7341%5D%2C%20%5B-8.170539999999999%2C%20-70.351%5D%2C%20%5B-9.43091%2C%20-71.8974%5D%2C%20%5B-7.616569999999999%2C%20-72.8997%5D%2C%20%5B-8.83291%2C%20-69.2679%5D%2C%20%5B-8.93898%2C%20-72.7997%5D%2C%20%5B-10.2806%2C%20-67.1371%5D%2C%20%5B-8.26323%2C%20-72.7537%5D%2C%20%5B-9.97499%2C%20-67.8243%5D%2C%20%5B-7.738639999999999%2C%20-72.661%5D%2C%20%5B-9.44652%2C%20-70.4902%5D%2C%20%5B-10.1497%2C%20-67.7362%5D%2C%20%5B-9.06596%2C%20-68.6571%5D%2C%20%5B-8.15697%2C%20-70.7722%5D%2C%20%5B-10.6516%2C%20-68.4969%5D%2C%20%5B-9.581380000000001%2C%20-67.5478%5D%2C%20%5B-3.22727%2C%20-64.8007%5D%2C%20%5B-3.37455%2C%20-68.2005%5D%2C%20%5B-3.5669699999999995%2C%20-61.3963%5D%2C%20%5B-3.74603%2C%20-61.6575%5D%2C%20%5B-7.194089999999999%2C%20-59.896%5D%2C%20%5B-4.37055%2C%20-70.1967%5D%2C%20%5B-3.58574%2C%20-59.1256%5D%2C%20%5B-0.9833729999999999%2C%20-62.9311%5D%2C%20%5B-2.79886%2C%20-57.0679%5D%2C%20%5B-4.377680000000001%2C%20-70.0342%5D%2C%20%5B-3.89874%2C%20-61.3616%5D%2C%20%5B-2.9740900000000003%2C%20-57.5873%5D%2C%20%5B-8.74232%2C%20-67.3919%5D%2C%20%5B-4.39154%2C%20-59.5874%5D%2C%20%5B-3.3153699999999997%2C%20-61.2206%5D%2C%20%5B-6.5258199999999995%2C%20-64.3953%5D%2C%20%5B-4.88161%2C%20-66.9086%5D%2C%20%5B-3.7680300000000004%2C%20-60.369%5D%2C%20%5B-3.3139999999999996%2C%20-59.5557%5D%2C%20%5B-4.094119999999999%2C%20-63.1441%5D%2C%20%5B-3.8305300000000004%2C%20-62.0658%5D%2C%20%5B-6.65677%2C%20-69.8662%5D%2C%20%5B-7.4378899999999994%2C%20-70.0281%5D%2C%20%5B-2.52342%2C%20-66.0942%5D%2C%20%5B-7.53797%2C%20-72.5907%5D%2C%20%5B-7.511710000000001%2C%20-63.0327%5D%2C%20%5B-7.047910000000001%2C%20-71.6934%5D%2C%20%5B-3.2747900000000003%2C%20-60.19%5D%2C%20%5B-3.13861%2C%20-58.4449%5D%2C%20%5B-6.43852%2C%20-68.2437%5D%2C%20%5B-2.7408099999999997%2C%20-58.0293%5D%2C%20%5B-1.88237%2C%20-66.9291%5D%2C%20%5B-3.4843800000000003%2C%20-66.0718%5D%2C%20%5B-2.75814%2C%20-66.7595%5D%2C%20%5B-7.264130000000001%2C%20-64.7948%5D%2C%20%5B-3.29066%2C%20-60.6216%5D%2C%20%5B-3.44078%2C%20-60.4612%5D%2C%20%5B-3.1186599999999998%2C%20-60.0212%5D%2C%20%5B-5.80462%2C%20-61.2895%5D%2C%20%5B-1.85313%2C%20-65.57300000000001%5D%2C%20%5B-3.39289%2C%20-57.7067%5D%2C%20%5B-2.2079299999999997%2C%20-56.7112%5D%2C%20%5B-3.9003699999999997%2C%20-59.093999999999994%5D%2C%20%5B-2.63637%2C%20-60.9434%5D%2C%20%5B-5.12593%2C%20-60.3732%5D%2C%20%5B-2.63741%2C%20-56.729%5D%2C%20%5B-7.71311%2C%20-66.992%5D%2C%20%5B-2.02981%2C%20-60.0234%5D%2C%20%5B-2.7045%2C%20-59.6858%5D%2C%20%5B-0.41082399999999997%2C%20-65.0092%5D%2C%20%5B-3.09544%2C%20-67.9463%5D%2C%20%5B-0.11909000000000002%2C%20-67.084%5D%2C%20%5B-3.47292%2C%20-68.9646%5D%2C%20%5B-2.55915%2C%20-57.8731%5D%2C%20%5B-2.8174799999999998%2C%20-58.248000000000005%5D%2C%20%5B-4.2416%2C%20-69.9383%5D%2C%20%5B-5.62085%2C%20-63.1808%5D%2C%20%5B-3.3682199999999995%2C%20-64.7193%5D%2C%20%5B-2.8658200000000003%2C%20-67.7919%5D%2C%20%5B-2.99609%2C%20-65.1133%5D%2C%20%5B-2.52936%2C%20-57.7538%5D%2C%20%5B-3.1284099999999997%2C%20-58.1496%5D%2C%20%5B3.64571%2C%20-61.3692%5D%2C%20%5B2.98858%2C%20-61.3072%5D%2C%20%5B2.82384%2C%20-60.6753%5D%2C%20%5B3.3616099999999998%2C%20-59.8333%5D%2C%20%5B2.60994%2C%20-60.6058%5D%2C%20%5B1.8276599999999998%2C%20-61.1304%5D%2C%20%5B0.8842030000000001%2C%20-59.6959%5D%2C%20%5B2.18305%2C%20-61.0415%5D%2C%20%5B2.43998%2C%20-60.9096%5D%2C%20%5B3.8853%2C%20-59.6204%5D%2C%20%5B4.4799%2C%20-61.1477%5D%2C%20%5B0.9399559999999999%2C%20-60.4389%5D%2C%20%5B0.951659%2C%20-59.9133%5D%2C%20%5B1.01019%2C%20-60.0419%5D%2C%20%5B4.60314%2C%20-60.1815%5D%2C%20%5B-1.72183%2C%20-48.8788%5D%2C%20%5B-4.95333%2C%20-48.3933%5D%2C%20%5B-1.95383%2C%20-48.1985%5D%2C%20%5B-0.154874%2C%20-50.3861%5D%2C%20%5B-6.79053%2C%20-50.4791%5D%2C%20%5B-1.94623%2C%20-54.7384%5D%2C%20%5B-1.52904%2C%20-52.5788%5D%2C%20%5B-3.20407%2C%20-52.21%5D%2C%20%5B-0.9968110000000001%2C%20-49.9354%5D%2C%20%5B-1.36391%2C%20-48.3743%5D%2C%20%5B-3.46985%2C%20-51.2003%5D%2C%20%5B-1.0510899999999999%2C%20-46.6147%5D%2C%20%5B-2.14898%2C%20-47.5677%5D%2C%20%5B-3.6084099999999997%2C%20-55.3199%5D%2C%20%5B-1.90057%2C%20-50.1987%5D%2C%20%5B-2.7902099999999996%2C%20-49.6694%5D%2C%20%5B-7.34779%2C%20-50.3959%5D%2C%20%5B-1.51187%2C%20-48.6195%5D%2C%20%5B-1.4554%2C%20-48.4898%5D%2C%20%5B-2.6360900000000003%2C%20-54.9374%5D%2C%20%5B-1.3618299999999999%2C%20-48.2434%5D%2C%20%5B-5.0424%2C%20-48.6047%5D%2C%20%5B-1.36745%2C%20-47.3066%5D%2C%20%5B-1.06126%2C%20-46.7826%5D%2C%20%5B-3.2979199999999995%2C%20-52.534%5D%2C%20%5B-5.69822%2C%20-48.4103%5D%2C%20%5B-3.7719099999999997%2C%20-49.5735%5D%2C%20%5B-1.6803599999999999%2C%20-50.4791%5D%2C%20%5B-1.51762%2C%20-48.0381%5D%2C%20%5B-1.75974%2C%20-46.5459%5D%2C%20%5B-1.01226%2C%20-48.9503%5D%2C%20%5B-2.24295%2C%20-49.4979%5D%2C%20%5B-6.49659%2C%20-49.8776%5D%2C%20%5B-1.20529%2C%20-47.1778%5D%2C%20%5B-1.74785%2C%20-47.0629%5D%2C%20%5B-1.29797%2C%20-47.9167%5D%2C%20%5B-0.164154%2C%20-49.986999999999995%5D%2C%20%5B-0.936423%2C%20-48.2803%5D%2C%20%5B-8.26136%2C%20-49.2689%5D%2C%20%5B-1.9923799999999998%2C%20-47.9422%5D%2C%20%5B-7.810969999999999%2C%20-50.7698%5D%2C%20%5B-6.09965%2C%20-49.6068%5D%2C%20%5B-1.8117900000000002%2C%20-49.7952%5D%2C%20%5B-1.88775%2C%20-55.1168%5D%2C%20%5B-0.733214%2C%20-47.8515%5D%2C%20%5B-4.19944%2C%20-47.8245%5D%2C%20%5B-6.10389%2C%20-49.3553%5D%2C%20%5B-2.16805%2C%20-56.7405%5D%2C%20%5B-7.55335%2C%20-49.7125%5D%2C%20%5B-1.92986%2C%20-47.0505%5D%2C%20%5B-3.8433800000000002%2C%20-49.0974%5D%2C%20%5B-1.41412%2C%20-51.6338%5D%2C%20%5B-1.12539%2C%20-47.626000000000005%5D%2C%20%5B-1.97533%2C%20-48.9575%5D%2C%20%5B-1.4349%2C%20-47.9114%5D%2C%20%5B-2.55992%2C%20-47.5059%5D%2C%20%5B-1.76984%2C%20-47.446000000000005%5D%2C%20%5B-4.2667%2C%20-55.9926%5D%2C%20%5B-5.13272%2C%20-49.3358%5D%2C%20%5B-6.21469%2C%20-57.7544%5D%2C%20%5B-4.4461699999999995%2C%20-49.1153%5D%2C%20%5B-2.1634700000000002%2C%20-56.0889%5D%2C%20%5B-1.8985%2C%20-49.3903%5D%2C%20%5B-2.0568299999999997%2C%20-47.5601%5D%2C%20%5B-0.803391%2C%20-47.6014%5D%2C%20%5B-5.38075%2C%20-49.1327%5D%2C%20%5B-0.778899%2C%20-47.452%5D%2C%20%5B-0.7147020000000001%2C%20-47.7034%5D%2C%20%5B-1.36002%2C%20-48.3421%5D%2C%20%5B-3.4463699999999995%2C%20-52.8875%5D%2C%20%5B-1.8032%2C%20-50.7149%5D%2C%20%5B-2.5831%2C%20-49.5042%5D%2C%20%5B-1.8899299999999999%2C%20-48.7668%5D%2C%20%5B-1.99768%2C%20-54.0724%5D%2C%20%5B-1.53936%2C%20-49.2224%5D%2C%20%5B-2.26693%2C%20-46.9731%5D%2C%20%5B-4.91622%2C%20-49.0822%5D%2C%20%5B-1.20874%2C%20-47.3921%5D%2C%20%5B-7.14347%2C%20-55.3786%5D%2C%20%5B-4.24749%2C%20-49.9499%5D%2C%20%5B-1.90107%2C%20-55.5208%5D%2C%20%5B-2.00358%2C%20-49.8628%5D%2C%20%5B-1.7598900000000002%2C%20-55.8579%5D%2C%20%5B-1.54168%2C%20-47.1126%5D%2C%20%5B-6.7529%2C%20-51.0858%5D%2C%20%5B-3.8354199999999996%2C%20-50.6399%5D%2C%20%5B-5.74027%2C%20-48.3181%5D%2C%20%5B-3.00212%2C%20-47.3527%5D%2C%20%5B-6.06781%2C%20-49.9037%5D%2C%20%5B-1.59772%2C%20-46.9268%5D%2C%20%5B-1.19382%2C%20-47.324%5D%2C%20%5B-6.43778%2C%20-48.8716%5D%2C%20%5B-3.8681300000000003%2C%20-54.2124%5D%2C%20%5B-1.3958700000000002%2C%20-48.8661%5D%2C%20%5B-1.93639%2C%20-50.8194%5D%2C%20%5B-1.74691%2C%20-52.2361%5D%2C%20%5B-1.798%2C%20-53.4779%5D%2C%20%5B-0.9454389999999999%2C%20-47.1253%5D%2C%20%5B-0.8996040000000001%2C%20-47.0134%5D%2C%20%5B-8.02529%2C%20-50.0317%5D%2C%20%5B-7.312360000000001%2C%20-50.0379%5D%2C%20%5B-4.7779300000000005%2C%20-48.067%5D%2C%20%5B-4.100280000000001%2C%20-54.9092%5D%2C%20%5B-0.630815%2C%20-47.3465%5D%2C%20%5B-0.758444%2C%20-48.5139%5D%2C%20%5B-1.1921899999999999%2C%20-48.238%5D%2C%20%5B-0.6610189999999999%2C%20-49.1771%5D%2C%20%5B-1.2968600000000001%2C%20-48.1606%5D%2C%20%5B-1.52147%2C%20-46.9008%5D%2C%20%5B-8.85784%2C%20-49.7215%5D%2C%20%5B-1.35392%2C%20-47.5712%5D%2C%20%5B-9.3281%2C%20-50.35%5D%2C%20%5B-2.4384900000000003%2C%20-54.6996%5D%2C%20%5B-0.9309700000000001%2C%20-47.3855%5D%2C%20%5B-1.1522%2C%20-48.1314%5D%2C%20%5B-0.747293%2C%20-48.0246%5D%2C%20%5B-5.537319999999999%2C%20-48.7366%5D%2C%20%5B-1.6876799999999998%2C%20-47.7665%5D%2C%20%5B-6.6425399999999994%2C%20-51.9904%5D%2C%20%5B-1.16963%2C%20-47.7917%5D%2C%20%5B-6.39471%2C%20-48.5592%5D%2C%20%5B-0.857885%2C%20-47.918%5D%2C%20%5B-0.780222%2C%20-47.181000000000004%5D%2C%20%5B-5.36334%2C%20-48.7926%5D%2C%20%5B-1.61307%2C%20-47.4784%5D%2C%20%5B-1.71597%2C%20-49.5249%5D%2C%20%5B-6.940180000000001%2C%20-49.6834%5D%2C%20%5B-4.3124199999999995%2C%20-51.5764%5D%2C%20%5B-0.73032%2C%20-48.5015%5D%2C%20%5B-2.94584%2C%20-48.9489%5D%2C%20%5B-1.0296299999999998%2C%20-47.9004%5D%2C%20%5B-2.10443%2C%20-56.4877%5D%2C%20%5B-2.41302%2C%20-48.1415%5D%2C%20%5B-1.07653%2C%20-46.9031%5D%2C%20%5B-4.5734699999999995%2C%20-55.9429%5D%2C%20%5B-6.7468699999999995%2C%20-51.1626%5D%2C%20%5B-3.7657%2C%20-49.6773%5D%2C%20%5B-3.7500699999999996%2C%20-47.4892%5D%2C%20%5B-3.71519%2C%20-53.7396%5D%2C%20%5B-0.861194%2C%20-48.1386%5D%2C%20%5B-1.1912399999999999%2C%20-46.1399%5D%2C%20%5B-2.87922%2C%20-52.0088%5D%2C%20%5B-7.0983%2C%20-49.9437%5D%2C%20%5B0.901357%2C%20-52.0036%5D%2C%20%5B2.05267%2C%20-50.7957%5D%2C%20%5B0.777424%2C%20-51.9503%5D%2C%20%5B2.50475%2C%20-50.9512%5D%2C%20%5B0.9707610000000001%2C%20-50.8005%5D%2C%20%5B0.8572559999999999%2C%20-51.1795%5D%2C%20%5B0.6021850000000001%2C%20-50.6996%5D%2C%20%5B-0.8049109999999999%2C%20-52.453%5D%2C%20%5B0.034934%2C%20-51.0694%5D%2C%20%5B-0.11335999999999999%2C%20-51.2891%5D%2C%20%5B3.8407400000000003%2C%20-51.8331%5D%2C%20%5B0.71243%2C%20-51.4155%5D%2C%20%5B1.74543%2C%20-50.7892%5D%2C%20%5B-0.045433999999999995%2C%20-51.1729%5D%2C%20%5B1.50652%2C%20-50.9087%5D%2C%20%5B-0.938%2C%20-52.424%5D%2C%20%5B-9.62101%2C%20-49.1518%5D%2C%20%5B-6.5540899999999995%2C%20-47.4702%5D%2C%20%5B-11.3056%2C%20-48.9361%5D%2C%20%5B-11.5706%2C%20-47.1792%5D%2C%20%5B-12.4785%2C%20-49.1249%5D%2C%20%5B-6.36437%2C%20-48.0735%5D%2C%20%5B-6.39179%2C%20-47.8611%5D%2C%20%5B-9.94139%2C%20-47.9638%5D%2C%20%5B-7.16005%2C%20-48.5291%5D%2C%20%5B-8.80755%2C%20-49.5569%5D%2C%20%5B-12.9289%2C%20-49.8231%5D%2C%20%5B-7.19238%2C%20-48.2044%5D%2C%20%5B-6.58225%2C%20-48.6395%5D%2C%20%5B-5.64659%2C%20-48.1232%5D%2C%20%5B-7.65463%2C%20-49.0637%5D%2C%20%5B-12.9287%2C%20-46.9359%5D%2C%20%5B-5.46863%2C%20-47.8863%5D%2C%20%5B-12.7105%2C%20-46.4076%5D%2C%20%5B-5.61275%2C%20-47.7701%5D%2C%20%5B-7.209230000000001%2C%20-47.7613%5D%2C%20%5B-7.75612%2C%20-48.5836%5D%2C%20%5B-7.695930000000001%2C%20-47.6776%5D%2C%20%5B-9.83404%2C%20-48.7252%5D%2C%20%5B-7.874810000000001%2C%20-48.8893%5D%2C%20%5B-8.96306%2C%20-48.165%5D%2C%20%5B-8.38918%2C%20-48.4822%5D%2C%20%5B-11.0058%2C%20-48.5683%5D%2C%20%5B-5.3144800000000005%2C%20-48.2271%5D%2C%20%5B-6.1156%2C%20-47.9234%5D%2C%20%5B-7.989560000000001%2C%20-46.8645%5D%2C%20%5B-11.8881%2C%20-49.1609%5D%2C%20%5B-7.03262%2C%20-48.3978%5D%2C%20%5B-5.31415%2C%20-48.0314%5D%2C%20%5B-9.27612%2C%20-49.9521%5D%2C%20%5B-8.961030000000001%2C%20-47.3304%5D%2C%20%5B-10.1419%2C%20-49.1403%5D%2C%20%5B-11.6175%2C%20-47.7486%5D%2C%20%5B-8.05764%2C%20-48.4757%5D%2C%20%5B-12.7917%2C%20-46.5388%5D%2C%20%5B-12.2209%2C%20-47.2951%5D%2C%20%5B-8.28411%2C%20-49.2473%5D%2C%20%5B-10.5985%2C%20-49.1942%5D%2C%20%5B-11.0994%2C%20-48.9152%5D%2C%20%5B-6.715910000000001%2C%20-47.7597%5D%2C%20%5B-11.624%2C%20-46.8198%5D%2C%20%5B-9.800180000000001%2C%20-49.2169%5D%2C%20%5B-9.255339999999999%2C%20-49.0638%5D%2C%20%5B-11.3416%2C%20-49.2716%5D%2C%20%5B-5.3659300000000005%2C%20-48.5378%5D%2C%20%5B-10.7603%2C%20-48.9076%5D%2C%20%5B-12.1312%2C%20-49.1748%5D%2C%20%5B-7.3350100000000005%2C%20-47.4954%5D%2C%20%5B-11.7976%2C%20-49.5316%5D%2C%20%5B-9.05611%2C%20-48.5206%5D%2C%20%5B-8.77413%2C%20-48.9313%5D%2C%20%5B-7.71478%2C%20-47.3252%5D%2C%20%5B-8.83543%2C%20-48.5114%5D%2C%20%5B-11.7279%2C%20-49.068000000000005%5D%2C%20%5B-11.2329%2C%20-48.46%5D%2C%20%5B-8.39293%2C%20-47.7726%5D%2C%20%5B-5.77267%2C%20-47.4864%5D%2C%20%5B-8.37982%2C%20-48.1072%5D%2C%20%5B-8.57172%2C%20-48.6895%5D%2C%20%5B-12.6509%2C%20-48.589%5D%2C%20%5B-8.11951%2C%20-49.0643%5D%2C%20%5B-10.7906%2C%20-49.6199%5D%2C%20%5B-10.368%2C%20-47.538000000000004%5D%2C%20%5B-9.74996%2C%20-48.3565%5D%2C%20%5B-12.7847%2C%20-46.5099%5D%2C%20%5B-9.590019999999999%2C%20-46.6738%5D%2C%20%5B-6.17794%2C%20-47.8582%5D%2C%20%5B-9.79377%2C%20-49.6553%5D%2C%20%5B-10.5464%2C%20-46.4168%5D%2C%20%5B-5.95169%2C%20-47.5125%5D%2C%20%5B-9.565560000000001%2C%20-48.393%5D%2C%20%5B-9.529069999999999%2C%20-48.5922%5D%2C%20%5B-10.7611%2C%20-48.1114%5D%2C%20%5B-10.0075%2C%20-48.9941%5D%2C%20%5B-6.61658%2C%20-47.5464%5D%2C%20%5B-7.1466899999999995%2C%20-48.6091%5D%2C%20%5B-11.7034%2C%20-47.7223%5D%2C%20%5B-6.37496%2C%20-47.6643%5D%2C%20%5B-7.631710000000001%2C%20-48.4252%5D%2C%20%5B-10.5651%2C%20-48.9125%5D%2C%20%5B-9.97063%2C%20-47.6785%5D%2C%20%5B-12.9217%2C%20-46.5713%5D%2C%20%5B-11.825999999999999%2C%20-46.6325%5D%2C%20%5B-10.707%2C%20-48.9086%5D%2C%20%5B-7.847860000000001%2C%20-47.9242%5D%2C%20%5B-13.0447%2C%20-48.4026%5D%2C%20%5B-10.175%2C%20-48.8823%5D%2C%20%5B-12.6167%2C%20-47.8734%5D%2C%20%5B-7.53919%2C%20-49.367%5D%2C%20%5B-8.97034%2C%20-48.1729%5D%2C%20%5B-12.0254%2C%20-48.5395%5D%2C%20%5B-8.5932%2C%20-48.9327%5D%2C%20%5B-8.72463%2C%20-48.7638%5D%2C%20%5B-11.1311%2C%20-47.5726%5D%2C%20%5B-6.77302%2C%20-48.2958%5D%2C%20%5B-10.442%2C%20-49.1876%5D%2C%20%5B-12.0853%2C%20-46.4825%5D%2C%20%5B-10.7481%2C%20-47.5276%5D%2C%20%5B-11.618%2C%20-47.0621%5D%2C%20%5B-10.7027%2C%20-48.408%5D%2C%20%5B-5.39281%2C%20-47.8111%5D%2C%20%5B-8.5406%2C%20-48.5062%5D%2C%20%5B-10.424000000000001%2C%20-48.8957%5D%2C%20%5B-8.7227%2C%20-47.2421%5D%2C%20%5B-6.44005%2C%20-48.1371%5D%2C%20%5B-11.3949%2C%20-46.8847%5D%2C%20%5B-9.34425%2C%20-48.5245%5D%2C%20%5B-9.350019999999999%2C%20-47.888000000000005%5D%2C%20%5B-5.35423%2C%20-47.8782%5D%2C%20%5B-12.538%2C%20-49.9242%5D%2C%20%5B-7.15803%2C%20-48.7165%5D%2C%20%5B-8.8046%2C%20-47.7887%5D%2C%20%5B-10.8617%2C%20-48.9161%5D%2C%20%5B-11.4474%2C%20-48.1216%5D%2C%20%5B-10.2746%2C%20-47.8033%5D%2C%20%5B-6.444380000000001%2C%20-47.6684%5D%2C%20%5B-6.0258%2C%20-47.9012%5D%2C%20%5B-10.1615%2C%20-46.6618%5D%2C%20%5B-5.56305%2C%20-47.5743%5D%2C%20%5B-12.7458%2C%20-48.2352%5D%2C%20%5B-5.26131%2C%20-48.2021%5D%2C%20%5B-11.9743%2C%20-48.2353%5D%2C%20%5B-11.1471%2C%20-48.1694%5D%2C%20%5B-5.6012%2C%20-47.6381%5D%2C%20%5B-11.993%2C%20-48.9685%5D%2C%20%5B-12.4026%2C%20-46.437%5D%2C%20%5B-12.1873%2C%20-46.9797%5D%2C%20%5B-12.7949%2C%20-49.0896%5D%2C%20%5B-10.24%2C%20-48.3558%5D%2C%20%5B-9.5632%2C%20-48.3741%5D%2C%20%5B-6.32447%2C%20-47.4224%5D%2C%20%5B-8.971680000000001%2C%20-48.1883%5D%2C%20%5B-8.393880000000001%2C%20-48.1277%5D%2C%20%5B-6.85274%2C%20-47.9601%5D%2C%20%5B-6.4141%2C%20-48.532%5D%2C%20%5B-11.9283%2C%20-61.9953%5D%2C%20%5B-9.905710000000001%2C%20-63.0325%5D%2C%20%5B-13.4945%2C%20-60.552%5D%2C%20%5B-11.4343%2C%20-61.4562%5D%2C%20%5B-13.187000000000001%2C%20-60.8168%5D%2C%20%5B-13.1174%2C%20-60.5454%5D%2C%20%5B-12.9551%2C%20-60.8947%5D%2C%20%5B-12.4367%2C%20-64.22800000000001%5D%2C%20%5B-11.5266%2C%20-61.0252%5D%2C%20%5B-10.7889%2C%20-65.3296%5D%2C%20%5B-10.4318%2C%20-62.4788%5D%2C%20%5B-10.8777%2C%20-61.9322%5D%2C%20%5B-9.44363%2C%20-61.9818%5D%2C%20%5B-11.7247%2C%20-62.3127%5D%2C%20%5B-10.7167%2C%20-62.2565%5D%2C%20%5B-11.672%2C%20-61.198%5D%2C%20%5B-8.760769999999999%2C%20-63.8999%5D%2C%20%5B-11.169%2C%20-61.8986%5D%2C%20%5B-9.69965%2C%20-62.9011%5D%2C%20%5B-11.7271%2C%20-61.7714%5D%2C%20%5B-11.9074%2C%20-61.7777%5D%2C%20%5B-12.7502%2C%20-60.1488%5D%2C%20%5B-11.6953%2C%20-62.7192%5D%2C%20%5B-10.4077%2C%20-65.3346%5D%2C%20%5B-11.3463%2C%20-62.2847%5D%2C%20%5B-12.132%2C%20-61.835%5D%2C%20%5B-9.71429%2C%20-63.3188%5D%2C%20%5B-10.1943%2C%20-63.8324%5D%2C%20%5B-11.6961%2C%20-61.9951%5D%2C%20%5B-10.349%2C%20-62.9043%5D%2C%20%5B-10.5712%2C%20-63.6266%5D%2C%20%5B-8.7907%2C%20-63.7005%5D%2C%20%5B-11.4253%2C%20-61.9482%5D%2C%20%5B-12.5611%2C%20-60.8877%5D%2C%20%5B-9.36065%2C%20-62.5846%5D%2C%20%5B-10.61%2C%20-62.7371%5D%2C%20%5B-9.19687%2C%20-63.1809%5D%2C%20%5B-11.196%2C%20-61.5174%5D%2C%20%5B-11.029000000000002%2C%20-62.6696%5D%2C%20%5B-10.2458%2C%20-63.29%5D%2C%20%5B-10.9068%2C%20-62.5564%5D%2C%20%5B-12.1754%2C%20-61.6032%5D%2C%20%5B-13.4823%2C%20-61.0471%5D%2C%20%5B-11.8295%2C%20-61.3153%5D%2C%20%5B-11.9023%2C%20-61.5026%5D%2C%20%5B-12.052%2C%20-63.568000000000005%5D%2C%20%5B-11.8055%2C%20-63.0182%5D%2C%20%5B-10.9056%2C%20-62.242%5D%2C%20%5B-10.2483%2C%20-62.3538%5D%2C%20%5B-11.1261%2C%20-62.3639%5D%2C%20%5B-9.86215%2C%20-62.1876%5D%2C%20%5B-10.4465%2C%20-62.1352%5D%2C%20%5B-9.82581%2C%20-66.8972%5D%2C%20%5B-10.9298%2C%20-69.5738%5D%2C%20%5B-10.995%2C%20-68.7497%5D%2C%20%5B-9.81528%2C%20-67.955%5D%2C%20%5B-10.565999999999999%2C%20-67.686%5D%2C%20%5B-7.627619999999999%2C%20-72.6756%5D%2C%20%5B-11.0188%2C%20-68.7341%5D%2C%20%5B-8.170539999999999%2C%20-70.351%5D%2C%20%5B-9.43091%2C%20-71.8974%5D%2C%20%5B-7.616569999999999%2C%20-72.8997%5D%2C%20%5B-8.83291%2C%20-69.2679%5D%2C%20%5B-8.93898%2C%20-72.7997%5D%2C%20%5B-10.2806%2C%20-67.1371%5D%2C%20%5B-8.26323%2C%20-72.7537%5D%2C%20%5B-9.97499%2C%20-67.8243%5D%2C%20%5B-7.738639999999999%2C%20-72.661%5D%2C%20%5B-9.44652%2C%20-70.4902%5D%2C%20%5B-10.1497%2C%20-67.7362%5D%2C%20%5B-9.06596%2C%20-68.6571%5D%2C%20%5B-8.15697%2C%20-70.7722%5D%2C%20%5B-10.6516%2C%20-68.4969%5D%2C%20%5B-9.581380000000001%2C%20-67.5478%5D%2C%20%5B-3.22727%2C%20-64.8007%5D%2C%20%5B-3.37455%2C%20-68.2005%5D%2C%20%5B-3.5669699999999995%2C%20-61.3963%5D%2C%20%5B-3.74603%2C%20-61.6575%5D%2C%20%5B-7.194089999999999%2C%20-59.896%5D%2C%20%5B-4.37055%2C%20-70.1967%5D%2C%20%5B-3.58574%2C%20-59.1256%5D%2C%20%5B-0.9833729999999999%2C%20-62.9311%5D%2C%20%5B-2.79886%2C%20-57.0679%5D%2C%20%5B-4.377680000000001%2C%20-70.0342%5D%2C%20%5B-3.89874%2C%20-61.3616%5D%2C%20%5B-2.9740900000000003%2C%20-57.5873%5D%2C%20%5B-8.74232%2C%20-67.3919%5D%2C%20%5B-4.39154%2C%20-59.5874%5D%2C%20%5B-3.3153699999999997%2C%20-61.2206%5D%2C%20%5B-6.5258199999999995%2C%20-64.3953%5D%2C%20%5B-4.88161%2C%20-66.9086%5D%2C%20%5B-3.7680300000000004%2C%20-60.369%5D%2C%20%5B-3.3139999999999996%2C%20-59.5557%5D%2C%20%5B-4.094119999999999%2C%20-63.1441%5D%2C%20%5B-3.8305300000000004%2C%20-62.0658%5D%2C%20%5B-6.65677%2C%20-69.8662%5D%2C%20%5B-7.4378899999999994%2C%20-70.0281%5D%2C%20%5B-2.52342%2C%20-66.0942%5D%2C%20%5B-7.53797%2C%20-72.5907%5D%2C%20%5B-7.511710000000001%2C%20-63.0327%5D%2C%20%5B-7.047910000000001%2C%20-71.6934%5D%2C%20%5B-3.2747900000000003%2C%20-60.19%5D%2C%20%5B-3.13861%2C%20-58.4449%5D%2C%20%5B-6.43852%2C%20-68.2437%5D%2C%20%5B-2.7408099999999997%2C%20-58.0293%5D%2C%20%5B-1.88237%2C%20-66.9291%5D%2C%20%5B-3.4843800000000003%2C%20-66.0718%5D%2C%20%5B-2.75814%2C%20-66.7595%5D%2C%20%5B-7.264130000000001%2C%20-64.7948%5D%2C%20%5B-3.29066%2C%20-60.6216%5D%2C%20%5B-3.44078%2C%20-60.4612%5D%2C%20%5B-3.1186599999999998%2C%20-60.0212%5D%2C%20%5B-5.80462%2C%20-61.2895%5D%2C%20%5B-1.85313%2C%20-65.57300000000001%5D%2C%20%5B-3.39289%2C%20-57.7067%5D%2C%20%5B-2.2079299999999997%2C%20-56.7112%5D%2C%20%5B-3.9003699999999997%2C%20-59.093999999999994%5D%2C%20%5B-2.63637%2C%20-60.9434%5D%2C%20%5B-5.12593%2C%20-60.3732%5D%2C%20%5B-2.63741%2C%20-56.729%5D%2C%20%5B-7.71311%2C%20-66.992%5D%2C%20%5B-2.02981%2C%20-60.0234%5D%2C%20%5B-2.7045%2C%20-59.6858%5D%2C%20%5B-0.41082399999999997%2C%20-65.0092%5D%2C%20%5B-3.09544%2C%20-67.9463%5D%2C%20%5B-0.11909000000000002%2C%20-67.084%5D%2C%20%5B-3.47292%2C%20-68.9646%5D%2C%20%5B-2.55915%2C%20-57.8731%5D%2C%20%5B-2.8174799999999998%2C%20-58.248000000000005%5D%2C%20%5B-4.2416%2C%20-69.9383%5D%2C%20%5B-5.62085%2C%20-63.1808%5D%2C%20%5B-3.3682199999999995%2C%20-64.7193%5D%2C%20%5B-2.8658200000000003%2C%20-67.7919%5D%2C%20%5B-2.99609%2C%20-65.1133%5D%2C%20%5B-2.52936%2C%20-57.7538%5D%2C%20%5B-3.1284099999999997%2C%20-58.1496%5D%2C%20%5B3.64571%2C%20-61.3692%5D%2C%20%5B2.98858%2C%20-61.3072%5D%2C%20%5B2.82384%2C%20-60.6753%5D%2C%20%5B3.3616099999999998%2C%20-59.8333%5D%2C%20%5B2.60994%2C%20-60.6058%5D%2C%20%5B1.8276599999999998%2C%20-61.1304%5D%2C%20%5B0.8842030000000001%2C%20-59.6959%5D%2C%20%5B2.18305%2C%20-61.0415%5D%2C%20%5B2.43998%2C%20-60.9096%5D%2C%20%5B3.8853%2C%20-59.6204%5D%2C%20%5B4.4799%2C%20-61.1477%5D%2C%20%5B0.9399559999999999%2C%20-60.4389%5D%2C%20%5B0.951659%2C%20-59.9133%5D%2C%20%5B1.01019%2C%20-60.0419%5D%2C%20%5B4.60314%2C%20-60.1815%5D%2C%20%5B-1.72183%2C%20-48.8788%5D%2C%20%5B-4.95333%2C%20-48.3933%5D%2C%20%5B-1.95383%2C%20-48.1985%5D%2C%20%5B-0.154874%2C%20-50.3861%5D%2C%20%5B-6.79053%2C%20-50.4791%5D%2C%20%5B-1.94623%2C%20-54.7384%5D%2C%20%5B-1.52904%2C%20-52.5788%5D%2C%20%5B-3.20407%2C%20-52.21%5D%2C%20%5B-0.9968110000000001%2C%20-49.9354%5D%2C%20%5B-1.36391%2C%20-48.3743%5D%2C%20%5B-3.46985%2C%20-51.2003%5D%2C%20%5B-1.0510899999999999%2C%20-46.6147%5D%2C%20%5B-2.14898%2C%20-47.5677%5D%2C%20%5B-3.6084099999999997%2C%20-55.3199%5D%2C%20%5B-1.90057%2C%20-50.1987%5D%2C%20%5B-2.7902099999999996%2C%20-49.6694%5D%2C%20%5B-7.34779%2C%20-50.3959%5D%2C%20%5B-1.51187%2C%20-48.6195%5D%2C%20%5B-1.4554%2C%20-48.4898%5D%2C%20%5B-2.6360900000000003%2C%20-54.9374%5D%2C%20%5B-1.3618299999999999%2C%20-48.2434%5D%2C%20%5B-5.0424%2C%20-48.6047%5D%2C%20%5B-1.36745%2C%20-47.3066%5D%2C%20%5B-1.06126%2C%20-46.7826%5D%2C%20%5B-3.2979199999999995%2C%20-52.534%5D%2C%20%5B-5.69822%2C%20-48.4103%5D%2C%20%5B-3.7719099999999997%2C%20-49.5735%5D%2C%20%5B-1.6803599999999999%2C%20-50.4791%5D%2C%20%5B-1.51762%2C%20-48.0381%5D%2C%20%5B-1.75974%2C%20-46.5459%5D%2C%20%5B-1.01226%2C%20-48.9503%5D%2C%20%5B-2.24295%2C%20-49.4979%5D%2C%20%5B-6.49659%2C%20-49.8776%5D%2C%20%5B-1.20529%2C%20-47.1778%5D%2C%20%5B-1.74785%2C%20-47.0629%5D%2C%20%5B-1.29797%2C%20-47.9167%5D%2C%20%5B-0.164154%2C%20-49.986999999999995%5D%2C%20%5B-0.936423%2C%20-48.2803%5D%2C%20%5B-8.26136%2C%20-49.2689%5D%2C%20%5B-1.9923799999999998%2C%20-47.9422%5D%2C%20%5B-7.810969999999999%2C%20-50.7698%5D%2C%20%5B-6.09965%2C%20-49.6068%5D%2C%20%5B-1.8117900000000002%2C%20-49.7952%5D%2C%20%5B-1.88775%2C%20-55.1168%5D%2C%20%5B-0.733214%2C%20-47.8515%5D%2C%20%5B-4.19944%2C%20-47.8245%5D%2C%20%5B-6.10389%2C%20-49.3553%5D%2C%20%5B-2.16805%2C%20-56.7405%5D%2C%20%5B-7.55335%2C%20-49.7125%5D%2C%20%5B-1.92986%2C%20-47.0505%5D%2C%20%5B-3.8433800000000002%2C%20-49.0974%5D%2C%20%5B-1.41412%2C%20-51.6338%5D%2C%20%5B-1.12539%2C%20-47.626000000000005%5D%2C%20%5B-1.97533%2C%20-48.9575%5D%2C%20%5B-1.4349%2C%20-47.9114%5D%2C%20%5B-2.55992%2C%20-47.5059%5D%2C%20%5B-1.76984%2C%20-47.446000000000005%5D%2C%20%5B-4.2667%2C%20-55.9926%5D%2C%20%5B-5.13272%2C%20-49.3358%5D%2C%20%5B-6.21469%2C%20-57.7544%5D%2C%20%5B-4.4461699999999995%2C%20-49.1153%5D%2C%20%5B-2.1634700000000002%2C%20-56.0889%5D%2C%20%5B-1.8985%2C%20-49.3903%5D%2C%20%5B-2.0568299999999997%2C%20-47.5601%5D%2C%20%5B-0.803391%2C%20-47.6014%5D%2C%20%5B-5.38075%2C%20-49.1327%5D%2C%20%5B-0.778899%2C%20-47.452%5D%2C%20%5B-0.7147020000000001%2C%20-47.7034%5D%2C%20%5B-1.36002%2C%20-48.3421%5D%2C%20%5B-3.4463699999999995%2C%20-52.8875%5D%2C%20%5B-1.8032%2C%20-50.7149%5D%2C%20%5B-2.5831%2C%20-49.5042%5D%2C%20%5B-1.8899299999999999%2C%20-48.7668%5D%2C%20%5B-1.99768%2C%20-54.0724%5D%2C%20%5B-1.53936%2C%20-49.2224%5D%2C%20%5B-2.26693%2C%20-46.9731%5D%2C%20%5B-4.91622%2C%20-49.0822%5D%2C%20%5B-1.20874%2C%20-47.3921%5D%2C%20%5B-7.14347%2C%20-55.3786%5D%2C%20%5B-4.24749%2C%20-49.9499%5D%2C%20%5B-1.90107%2C%20-55.5208%5D%2C%20%5B-2.00358%2C%20-49.8628%5D%2C%20%5B-1.7598900000000002%2C%20-55.8579%5D%2C%20%5B-1.54168%2C%20-47.1126%5D%2C%20%5B-6.7529%2C%20-51.0858%5D%2C%20%5B-3.8354199999999996%2C%20-50.6399%5D%2C%20%5B-5.74027%2C%20-48.3181%5D%2C%20%5B-3.00212%2C%20-47.3527%5D%2C%20%5B-6.06781%2C%20-49.9037%5D%2C%20%5B-1.59772%2C%20-46.9268%5D%2C%20%5B-1.19382%2C%20-47.324%5D%2C%20%5B-6.43778%2C%20-48.8716%5D%2C%20%5B-3.8681300000000003%2C%20-54.2124%5D%2C%20%5B-1.3958700000000002%2C%20-48.8661%5D%2C%20%5B-1.93639%2C%20-50.8194%5D%2C%20%5B-1.74691%2C%20-52.2361%5D%2C%20%5B-1.798%2C%20-53.4779%5D%2C%20%5B-0.9454389999999999%2C%20-47.1253%5D%2C%20%5B-0.8996040000000001%2C%20-47.0134%5D%2C%20%5B-8.02529%2C%20-50.0317%5D%2C%20%5B-7.312360000000001%2C%20-50.0379%5D%2C%20%5B-4.7779300000000005%2C%20-48.067%5D%2C%20%5B-4.100280000000001%2C%20-54.9092%5D%2C%20%5B-0.630815%2C%20-47.3465%5D%2C%20%5B-0.758444%2C%20-48.5139%5D%2C%20%5B-1.1921899999999999%2C%20-48.238%5D%2C%20%5B-0.6610189999999999%2C%20-49.1771%5D%2C%20%5B-1.2968600000000001%2C%20-48.1606%5D%2C%20%5B-1.52147%2C%20-46.9008%5D%2C%20%5B-8.85784%2C%20-49.7215%5D%2C%20%5B-1.35392%2C%20-47.5712%5D%2C%20%5B-9.3281%2C%20-50.35%5D%2C%20%5B-2.4384900000000003%2C%20-54.6996%5D%2C%20%5B-0.9309700000000001%2C%20-47.3855%5D%2C%20%5B-1.1522%2C%20-48.1314%5D%2C%20%5B-0.747293%2C%20-48.0246%5D%2C%20%5B-5.537319999999999%2C%20-48.7366%5D%2C%20%5B-1.6876799999999998%2C%20-47.7665%5D%2C%20%5B-6.6425399999999994%2C%20-51.9904%5D%2C%20%5B-1.16963%2C%20-47.7917%5D%2C%20%5B-6.39471%2C%20-48.5592%5D%2C%20%5B-0.857885%2C%20-47.918%5D%2C%20%5B-0.780222%2C%20-47.181000000000004%5D%2C%20%5B-5.36334%2C%20-48.7926%5D%2C%20%5B-1.61307%2C%20-47.4784%5D%2C%20%5B-1.71597%2C%20-49.5249%5D%2C%20%5B-6.940180000000001%2C%20-49.6834%5D%2C%20%5B-4.3124199999999995%2C%20-51.5764%5D%2C%20%5B-0.73032%2C%20-48.5015%5D%2C%20%5B-2.94584%2C%20-48.9489%5D%2C%20%5B-1.0296299999999998%2C%20-47.9004%5D%2C%20%5B-2.10443%2C%20-56.4877%5D%2C%20%5B-2.41302%2C%20-48.1415%5D%2C%20%5B-1.07653%2C%20-46.9031%5D%2C%20%5B-4.5734699999999995%2C%20-55.9429%5D%2C%20%5B-6.7468699999999995%2C%20-51.1626%5D%2C%20%5B-3.7657%2C%20-49.6773%5D%2C%20%5B-3.7500699999999996%2C%20-47.4892%5D%2C%20%5B-3.71519%2C%20-53.7396%5D%2C%20%5B-0.861194%2C%20-48.1386%5D%2C%20%5B-1.1912399999999999%2C%20-46.1399%5D%2C%20%5B-2.87922%2C%20-52.0088%5D%2C%20%5B-7.0983%2C%20-49.9437%5D%2C%20%5B0.901357%2C%20-52.0036%5D%2C%20%5B2.05267%2C%20-50.7957%5D%2C%20%5B0.777424%2C%20-51.9503%5D%2C%20%5B2.50475%2C%20-50.9512%5D%2C%20%5B0.9707610000000001%2C%20-50.8005%5D%2C%20%5B0.8572559999999999%2C%20-51.1795%5D%2C%20%5B0.6021850000000001%2C%20-50.6996%5D%2C%20%5B-0.8049109999999999%2C%20-52.453%5D%2C%20%5B0.034934%2C%20-51.0694%5D%2C%20%5B-0.11335999999999999%2C%20-51.2891%5D%2C%20%5B3.8407400000000003%2C%20-51.8331%5D%2C%20%5B0.71243%2C%20-51.4155%5D%2C%20%5B1.74543%2C%20-50.7892%5D%2C%20%5B-0.045433999999999995%2C%20-51.1729%5D%2C%20%5B1.50652%2C%20-50.9087%5D%2C%20%5B-0.938%2C%20-52.424%5D%2C%20%5B-9.62101%2C%20-49.1518%5D%2C%20%5B-6.5540899999999995%2C%20-47.4702%5D%2C%20%5B-11.3056%2C%20-48.9361%5D%2C%20%5B-11.5706%2C%20-47.1792%5D%2C%20%5B-12.4785%2C%20-49.1249%5D%2C%20%5B-6.36437%2C%20-48.0735%5D%2C%20%5B-6.39179%2C%20-47.8611%5D%2C%20%5B-9.94139%2C%20-47.9638%5D%2C%20%5B-7.16005%2C%20-48.5291%5D%2C%20%5B-8.80755%2C%20-49.5569%5D%2C%20%5B-12.9289%2C%20-49.8231%5D%2C%20%5B-7.19238%2C%20-48.2044%5D%2C%20%5B-6.58225%2C%20-48.6395%5D%2C%20%5B-5.64659%2C%20-48.1232%5D%2C%20%5B-7.65463%2C%20-49.0637%5D%2C%20%5B-12.9287%2C%20-46.9359%5D%2C%20%5B-5.46863%2C%20-47.8863%5D%2C%20%5B-12.7105%2C%20-46.4076%5D%2C%20%5B-5.61275%2C%20-47.7701%5D%2C%20%5B-7.209230000000001%2C%20-47.7613%5D%2C%20%5B-7.75612%2C%20-48.5836%5D%2C%20%5B-7.695930000000001%2C%20-47.6776%5D%2C%20%5B-9.83404%2C%20-48.7252%5D%2C%20%5B-7.874810000000001%2C%20-48.8893%5D%2C%20%5B-8.96306%2C%20-48.165%5D%2C%20%5B-8.38918%2C%20-48.4822%5D%2C%20%5B-11.0058%2C%20-48.5683%5D%2C%20%5B-5.3144800000000005%2C%20-48.2271%5D%2C%20%5B-6.1156%2C%20-47.9234%5D%2C%20%5B-7.989560000000001%2C%20-46.8645%5D%2C%20%5B-11.8881%2C%20-49.1609%5D%2C%20%5B-7.03262%2C%20-48.3978%5D%2C%20%5B-5.31415%2C%20-48.0314%5D%2C%20%5B-9.27612%2C%20-49.9521%5D%2C%20%5B-8.961030000000001%2C%20-47.3304%5D%2C%20%5B-10.1419%2C%20-49.1403%5D%2C%20%5B-11.6175%2C%20-47.7486%5D%2C%20%5B-8.05764%2C%20-48.4757%5D%2C%20%5B-12.7917%2C%20-46.5388%5D%2C%20%5B-12.2209%2C%20-47.2951%5D%2C%20%5B-8.28411%2C%20-49.2473%5D%2C%20%5B-10.5985%2C%20-49.1942%5D%2C%20%5B-11.0994%2C%20-48.9152%5D%2C%20%5B-6.715910000000001%2C%20-47.7597%5D%2C%20%5B-11.624%2C%20-46.8198%5D%2C%20%5B-9.800180000000001%2C%20-49.2169%5D%2C%20%5B-9.255339999999999%2C%20-49.0638%5D%2C%20%5B-11.3416%2C%20-49.2716%5D%2C%20%5B-5.3659300000000005%2C%20-48.5378%5D%2C%20%5B-10.7603%2C%20-48.9076%5D%2C%20%5B-12.1312%2C%20-49.1748%5D%2C%20%5B-7.3350100000000005%2C%20-47.4954%5D%2C%20%5B-11.7976%2C%20-49.5316%5D%2C%20%5B-9.05611%2C%20-48.5206%5D%2C%20%5B-8.77413%2C%20-48.9313%5D%2C%20%5B-7.71478%2C%20-47.3252%5D%2C%20%5B-8.83543%2C%20-48.5114%5D%2C%20%5B-11.7279%2C%20-49.068000000000005%5D%2C%20%5B-11.2329%2C%20-48.46%5D%2C%20%5B-8.39293%2C%20-47.7726%5D%2C%20%5B-5.77267%2C%20-47.4864%5D%2C%20%5B-8.37982%2C%20-48.1072%5D%2C%20%5B-8.57172%2C%20-48.6895%5D%2C%20%5B-12.6509%2C%20-48.589%5D%2C%20%5B-8.11951%2C%20-49.0643%5D%2C%20%5B-10.7906%2C%20-49.6199%5D%2C%20%5B-10.368%2C%20-47.538000000000004%5D%2C%20%5B-9.74996%2C%20-48.3565%5D%2C%20%5B-12.7847%2C%20-46.5099%5D%2C%20%5B-9.590019999999999%2C%20-46.6738%5D%2C%20%5B-6.17794%2C%20-47.8582%5D%2C%20%5B-9.79377%2C%20-49.6553%5D%2C%20%5B-10.5464%2C%20-46.4168%5D%2C%20%5B-5.95169%2C%20-47.5125%5D%2C%20%5B-9.565560000000001%2C%20-48.393%5D%2C%20%5B-9.529069999999999%2C%20-48.5922%5D%2C%20%5B-10.7611%2C%20-48.1114%5D%2C%20%5B-10.0075%2C%20-48.9941%5D%2C%20%5B-6.61658%2C%20-47.5464%5D%2C%20%5B-7.1466899999999995%2C%20-48.6091%5D%2C%20%5B-11.7034%2C%20-47.7223%5D%2C%20%5B-6.37496%2C%20-47.6643%5D%2C%20%5B-7.631710000000001%2C%20-48.4252%5D%2C%20%5B-10.5651%2C%20-48.9125%5D%2C%20%5B-9.97063%2C%20-47.6785%5D%2C%20%5B-12.9217%2C%20-46.5713%5D%2C%20%5B-11.825999999999999%2C%20-46.6325%5D%2C%20%5B-10.707%2C%20-48.9086%5D%2C%20%5B-7.847860000000001%2C%20-47.9242%5D%2C%20%5B-13.0447%2C%20-48.4026%5D%2C%20%5B-10.175%2C%20-48.8823%5D%2C%20%5B-12.6167%2C%20-47.8734%5D%2C%20%5B-7.53919%2C%20-49.367%5D%2C%20%5B-8.97034%2C%20-48.1729%5D%2C%20%5B-12.0254%2C%20-48.5395%5D%2C%20%5B-8.5932%2C%20-48.9327%5D%2C%20%5B-8.72463%2C%20-48.7638%5D%2C%20%5B-11.1311%2C%20-47.5726%5D%2C%20%5B-6.77302%2C%20-48.2958%5D%2C%20%5B-10.442%2C%20-49.1876%5D%2C%20%5B-12.0853%2C%20-46.4825%5D%2C%20%5B-10.7481%2C%20-47.5276%5D%2C%20%5B-11.618%2C%20-47.0621%5D%2C%20%5B-10.7027%2C%20-48.408%5D%2C%20%5B-5.39281%2C%20-47.8111%5D%2C%20%5B-8.5406%2C%20-48.5062%5D%2C%20%5B-10.424000000000001%2C%20-48.8957%5D%2C%20%5B-8.7227%2C%20-47.2421%5D%2C%20%5B-6.44005%2C%20-48.1371%5D%2C%20%5B-11.3949%2C%20-46.8847%5D%2C%20%5B-9.34425%2C%20-48.5245%5D%2C%20%5B-9.350019999999999%2C%20-47.888000000000005%5D%2C%20%5B-5.35423%2C%20-47.8782%5D%2C%20%5B-12.538%2C%20-49.9242%5D%2C%20%5B-7.15803%2C%20-48.7165%5D%2C%20%5B-8.8046%2C%20-47.7887%5D%2C%20%5B-10.8617%2C%20-48.9161%5D%2C%20%5B-11.4474%2C%20-48.1216%5D%2C%20%5B-10.2746%2C%20-47.8033%5D%2C%20%5B-6.444380000000001%2C%20-47.6684%5D%2C%20%5B-6.0258%2C%20-47.9012%5D%2C%20%5B-10.1615%2C%20-46.6618%5D%2C%20%5B-5.56305%2C%20-47.5743%5D%2C%20%5B-12.7458%2C%20-48.2352%5D%2C%20%5B-5.26131%2C%20-48.2021%5D%2C%20%5B-11.9743%2C%20-48.2353%5D%2C%20%5B-11.1471%2C%20-48.1694%5D%2C%20%5B-5.6012%2C%20-47.6381%5D%2C%20%5B-11.993%2C%20-48.9685%5D%2C%20%5B-12.4026%2C%20-46.437%5D%2C%20%5B-12.1873%2C%20-46.9797%5D%2C%20%5B-12.7949%2C%20-49.0896%5D%2C%20%5B-10.24%2C%20-48.3558%5D%2C%20%5B-9.5632%2C%20-48.3741%5D%2C%20%5B-6.32447%2C%20-47.4224%5D%2C%20%5B-8.971680000000001%2C%20-48.1883%5D%2C%20%5B-8.393880000000001%2C%20-48.1277%5D%2C%20%5B-6.85274%2C%20-47.9601%5D%2C%20%5B-6.4141%2C%20-48.532%5D%2C%20%5B-11.9283%2C%20-61.9953%5D%2C%20%5B-9.905710000000001%2C%20-63.0325%5D%2C%20%5B-13.4945%2C%20-60.552%5D%2C%20%5B-11.4343%2C%20-61.4562%5D%2C%20%5B-13.187000000000001%2C%20-60.8168%5D%2C%20%5B-13.1174%2C%20-60.5454%5D%2C%20%5B-12.9551%2C%20-60.8947%5D%2C%20%5B-12.4367%2C%20-64.22800000000001%5D%2C%20%5B-11.5266%2C%20-61.0252%5D%2C%20%5B-10.7889%2C%20-65.3296%5D%2C%20%5B-10.4318%2C%20-62.4788%5D%2C%20%5B-10.8777%2C%20-61.9322%5D%2C%20%5B-9.44363%2C%20-61.9818%5D%2C%20%5B-11.7247%2C%20-62.3127%5D%2C%20%5B-10.7167%2C%20-62.2565%5D%2C%20%5B-11.672%2C%20-61.198%5D%2C%20%5B-8.760769999999999%2C%20-63.8999%5D%2C%20%5B-11.169%2C%20-61.8986%5D%2C%20%5B-9.69965%2C%20-62.9011%5D%2C%20%5B-11.7271%2C%20-61.7714%5D%2C%20%5B-11.9074%2C%20-61.7777%5D%2C%20%5B-12.7502%2C%20-60.1488%5D%2C%20%5B-11.6953%2C%20-62.7192%5D%2C%20%5B-10.4077%2C%20-65.3346%5D%2C%20%5B-11.3463%2C%20-62.2847%5D%2C%20%5B-12.132%2C%20-61.835%5D%2C%20%5B-9.71429%2C%20-63.3188%5D%2C%20%5B-10.1943%2C%20-63.8324%5D%2C%20%5B-11.6961%2C%20-61.9951%5D%2C%20%5B-10.349%2C%20-62.9043%5D%2C%20%5B-10.5712%2C%20-63.6266%5D%2C%20%5B-8.7907%2C%20-63.7005%5D%2C%20%5B-11.4253%2C%20-61.9482%5D%2C%20%5B-12.5611%2C%20-60.8877%5D%2C%20%5B-9.36065%2C%20-62.5846%5D%2C%20%5B-10.61%2C%20-62.7371%5D%2C%20%5B-9.19687%2C%20-63.1809%5D%2C%20%5B-11.196%2C%20-61.5174%5D%2C%20%5B-11.029000000000002%2C%20-62.6696%5D%2C%20%5B-10.2458%2C%20-63.29%5D%2C%20%5B-10.9068%2C%20-62.5564%5D%2C%20%5B-12.1754%2C%20-61.6032%5D%2C%20%5B-13.4823%2C%20-61.0471%5D%2C%20%5B-11.8295%2C%20-61.3153%5D%2C%20%5B-11.9023%2C%20-61.5026%5D%2C%20%5B-12.052%2C%20-63.568000000000005%5D%2C%20%5B-11.8055%2C%20-63.0182%5D%2C%20%5B-10.9056%2C%20-62.242%5D%2C%20%5B-10.2483%2C%20-62.3538%5D%2C%20%5B-11.1261%2C%20-62.3639%5D%2C%20%5B-9.86215%2C%20-62.1876%5D%2C%20%5B-10.4465%2C%20-62.1352%5D%2C%20%5B-9.82581%2C%20-66.8972%5D%2C%20%5B-10.9298%2C%20-69.5738%5D%2C%20%5B-10.995%2C%20-68.7497%5D%2C%20%5B-9.81528%2C%20-67.955%5D%2C%20%5B-10.565999999999999%2C%20-67.686%5D%2C%20%5B-7.627619999999999%2C%20-72.6756%5D%2C%20%5B-11.0188%2C%20-68.7341%5D%2C%20%5B-8.170539999999999%2C%20-70.351%5D%2C%20%5B-9.43091%2C%20-71.8974%5D%2C%20%5B-7.616569999999999%2C%20-72.8997%5D%2C%20%5B-8.83291%2C%20-69.2679%5D%2C%20%5B-8.93898%2C%20-72.7997%5D%2C%20%5B-10.2806%2C%20-67.1371%5D%2C%20%5B-8.26323%2C%20-72.7537%5D%2C%20%5B-9.97499%2C%20-67.8243%5D%2C%20%5B-7.738639999999999%2C%20-72.661%5D%2C%20%5B-9.44652%2C%20-70.4902%5D%2C%20%5B-10.1497%2C%20-67.7362%5D%2C%20%5B-9.06596%2C%20-68.6571%5D%2C%20%5B-8.15697%2C%20-70.7722%5D%2C%20%5B-10.6516%2C%20-68.4969%5D%2C%20%5B-9.581380000000001%2C%20-67.5478%5D%2C%20%5B-3.22727%2C%20-64.8007%5D%2C%20%5B-3.37455%2C%20-68.2005%5D%2C%20%5B-3.5669699999999995%2C%20-61.3963%5D%2C%20%5B-3.74603%2C%20-61.6575%5D%2C%20%5B-7.194089999999999%2C%20-59.896%5D%2C%20%5B-4.37055%2C%20-70.1967%5D%2C%20%5B-3.58574%2C%20-59.1256%5D%2C%20%5B-0.9833729999999999%2C%20-62.9311%5D%2C%20%5B-2.79886%2C%20-57.0679%5D%2C%20%5B-4.377680000000001%2C%20-70.0342%5D%2C%20%5B-3.89874%2C%20-61.3616%5D%2C%20%5B-2.9740900000000003%2C%20-57.5873%5D%2C%20%5B-8.74232%2C%20-67.3919%5D%2C%20%5B-4.39154%2C%20-59.5874%5D%2C%20%5B-3.3153699999999997%2C%20-61.2206%5D%2C%20%5B-6.5258199999999995%2C%20-64.3953%5D%2C%20%5B-4.88161%2C%20-66.9086%5D%2C%20%5B-3.7680300000000004%2C%20-60.369%5D%2C%20%5B-3.3139999999999996%2C%20-59.5557%5D%2C%20%5B-4.094119999999999%2C%20-63.1441%5D%2C%20%5B-3.8305300000000004%2C%20-62.0658%5D%2C%20%5B-6.65677%2C%20-69.8662%5D%2C%20%5B-7.4378899999999994%2C%20-70.0281%5D%2C%20%5B-2.52342%2C%20-66.0942%5D%2C%20%5B-7.53797%2C%20-72.5907%5D%2C%20%5B-7.511710000000001%2C%20-63.0327%5D%2C%20%5B-7.047910000000001%2C%20-71.6934%5D%2C%20%5B-3.2747900000000003%2C%20-60.19%5D%2C%20%5B-3.13861%2C%20-58.4449%5D%2C%20%5B-6.43852%2C%20-68.2437%5D%2C%20%5B-2.7408099999999997%2C%20-58.0293%5D%2C%20%5B-1.88237%2C%20-66.9291%5D%2C%20%5B-3.4843800000000003%2C%20-66.0718%5D%2C%20%5B-2.75814%2C%20-66.7595%5D%2C%20%5B-7.264130000000001%2C%20-64.7948%5D%2C%20%5B-3.29066%2C%20-60.6216%5D%2C%20%5B-3.44078%2C%20-60.4612%5D%2C%20%5B-3.1186599999999998%2C%20-60.0212%5D%2C%20%5B-5.80462%2C%20-61.2895%5D%2C%20%5B-1.85313%2C%20-65.57300000000001%5D%2C%20%5B-3.39289%2C%20-57.7067%5D%2C%20%5B-2.2079299999999997%2C%20-56.7112%5D%2C%20%5B-3.9003699999999997%2C%20-59.093999999999994%5D%2C%20%5B-2.63637%2C%20-60.9434%5D%2C%20%5B-5.12593%2C%20-60.3732%5D%2C%20%5B-2.63741%2C%20-56.729%5D%2C%20%5B-7.71311%2C%20-66.992%5D%2C%20%5B-2.02981%2C%20-60.0234%5D%2C%20%5B-2.7045%2C%20-59.6858%5D%2C%20%5B-0.41082399999999997%2C%20-65.0092%5D%2C%20%5B-3.09544%2C%20-67.9463%5D%2C%20%5B-0.11909000000000002%2C%20-67.084%5D%2C%20%5B-3.47292%2C%20-68.9646%5D%2C%20%5B-2.55915%2C%20-57.8731%5D%2C%20%5B-2.8174799999999998%2C%20-58.248000000000005%5D%2C%20%5B-4.2416%2C%20-69.9383%5D%2C%20%5B-5.62085%2C%20-63.1808%5D%2C%20%5B-3.3682199999999995%2C%20-64.7193%5D%2C%20%5B-2.8658200000000003%2C%20-67.7919%5D%2C%20%5B-2.99609%2C%20-65.1133%5D%2C%20%5B-2.52936%2C%20-57.7538%5D%2C%20%5B-3.1284099999999997%2C%20-58.1496%5D%2C%20%5B3.64571%2C%20-61.3692%5D%2C%20%5B2.98858%2C%20-61.3072%5D%2C%20%5B2.82384%2C%20-60.6753%5D%2C%20%5B3.3616099999999998%2C%20-59.8333%5D%2C%20%5B2.60994%2C%20-60.6058%5D%2C%20%5B1.8276599999999998%2C%20-61.1304%5D%2C%20%5B0.8842030000000001%2C%20-59.6959%5D%2C%20%5B2.18305%2C%20-61.0415%5D%2C%20%5B2.43998%2C%20-60.9096%5D%2C%20%5B3.8853%2C%20-59.6204%5D%2C%20%5B4.4799%2C%20-61.1477%5D%2C%20%5B0.9399559999999999%2C%20-60.4389%5D%2C%20%5B0.951659%2C%20-59.9133%5D%2C%20%5B1.01019%2C%20-60.0419%5D%2C%20%5B4.60314%2C%20-60.1815%5D%2C%20%5B-1.72183%2C%20-48.8788%5D%2C%20%5B-4.95333%2C%20-48.3933%5D%2C%20%5B-1.95383%2C%20-48.1985%5D%2C%20%5B-0.154874%2C%20-50.3861%5D%2C%20%5B-6.79053%2C%20-50.4791%5D%2C%20%5B-1.94623%2C%20-54.7384%5D%2C%20%5B-1.52904%2C%20-52.5788%5D%2C%20%5B-3.20407%2C%20-52.21%5D%2C%20%5B-0.9968110000000001%2C%20-49.9354%5D%2C%20%5B-1.36391%2C%20-48.3743%5D%2C%20%5B-3.46985%2C%20-51.2003%5D%2C%20%5B-1.0510899999999999%2C%20-46.6147%5D%2C%20%5B-2.14898%2C%20-47.5677%5D%2C%20%5B-3.6084099999999997%2C%20-55.3199%5D%2C%20%5B-1.90057%2C%20-50.1987%5D%2C%20%5B-2.7902099999999996%2C%20-49.6694%5D%2C%20%5B-7.34779%2C%20-50.3959%5D%2C%20%5B-1.51187%2C%20-48.6195%5D%2C%20%5B-1.4554%2C%20-48.4898%5D%2C%20%5B-2.6360900000000003%2C%20-54.9374%5D%2C%20%5B-1.3618299999999999%2C%20-48.2434%5D%2C%20%5B-5.0424%2C%20-48.6047%5D%2C%20%5B-1.36745%2C%20-47.3066%5D%2C%20%5B-1.06126%2C%20-46.7826%5D%2C%20%5B-3.2979199999999995%2C%20-52.534%5D%2C%20%5B-5.69822%2C%20-48.4103%5D%2C%20%5B-3.7719099999999997%2C%20-49.5735%5D%2C%20%5B-1.6803599999999999%2C%20-50.4791%5D%2C%20%5B-1.51762%2C%20-48.0381%5D%2C%20%5B-1.75974%2C%20-46.5459%5D%2C%20%5B-1.01226%2C%20-48.9503%5D%2C%20%5B-2.24295%2C%20-49.4979%5D%2C%20%5B-6.49659%2C%20-49.8776%5D%2C%20%5B-1.20529%2C%20-47.1778%5D%2C%20%5B-1.74785%2C%20-47.0629%5D%2C%20%5B-1.29797%2C%20-47.9167%5D%2C%20%5B-0.164154%2C%20-49.986999999999995%5D%2C%20%5B-0.936423%2C%20-48.2803%5D%2C%20%5B-8.26136%2C%20-49.2689%5D%2C%20%5B-1.9923799999999998%2C%20-47.9422%5D%2C%20%5B-7.810969999999999%2C%20-50.7698%5D%2C%20%5B-6.09965%2C%20-49.6068%5D%2C%20%5B-1.8117900000000002%2C%20-49.7952%5D%2C%20%5B-1.88775%2C%20-55.1168%5D%2C%20%5B-0.733214%2C%20-47.8515%5D%2C%20%5B-4.19944%2C%20-47.8245%5D%2C%20%5B-6.10389%2C%20-49.3553%5D%2C%20%5B-2.16805%2C%20-56.7405%5D%2C%20%5B-7.55335%2C%20-49.7125%5D%2C%20%5B-1.92986%2C%20-47.0505%5D%2C%20%5B-3.8433800000000002%2C%20-49.0974%5D%2C%20%5B-1.41412%2C%20-51.6338%5D%2C%20%5B-1.12539%2C%20-47.626000000000005%5D%2C%20%5B-1.97533%2C%20-48.9575%5D%2C%20%5B-1.4349%2C%20-47.9114%5D%2C%20%5B-2.55992%2C%20-47.5059%5D%2C%20%5B-1.76984%2C%20-47.446000000000005%5D%2C%20%5B-4.2667%2C%20-55.9926%5D%2C%20%5B-5.13272%2C%20-49.3358%5D%2C%20%5B-6.21469%2C%20-57.7544%5D%2C%20%5B-4.4461699999999995%2C%20-49.1153%5D%2C%20%5B-2.1634700000000002%2C%20-56.0889%5D%2C%20%5B-1.8985%2C%20-49.3903%5D%2C%20%5B-2.0568299999999997%2C%20-47.5601%5D%2C%20%5B-0.803391%2C%20-47.6014%5D%2C%20%5B-5.38075%2C%20-49.1327%5D%2C%20%5B-0.778899%2C%20-47.452%5D%2C%20%5B-0.7147020000000001%2C%20-47.7034%5D%2C%20%5B-1.36002%2C%20-48.3421%5D%2C%20%5B-3.4463699999999995%2C%20-52.8875%5D%2C%20%5B-1.8032%2C%20-50.7149%5D%2C%20%5B-2.5831%2C%20-49.5042%5D%2C%20%5B-1.8899299999999999%2C%20-48.7668%5D%2C%20%5B-1.99768%2C%20-54.0724%5D%2C%20%5B-1.53936%2C%20-49.2224%5D%2C%20%5B-2.26693%2C%20-46.9731%5D%2C%20%5B-4.91622%2C%20-49.0822%5D%2C%20%5B-1.20874%2C%20-47.3921%5D%2C%20%5B-7.14347%2C%20-55.3786%5D%2C%20%5B-4.24749%2C%20-49.9499%5D%2C%20%5B-1.90107%2C%20-55.5208%5D%2C%20%5B-2.00358%2C%20-49.8628%5D%2C%20%5B-1.7598900000000002%2C%20-55.8579%5D%2C%20%5B-1.54168%2C%20-47.1126%5D%2C%20%5B-6.7529%2C%20-51.0858%5D%2C%20%5B-3.8354199999999996%2C%20-50.6399%5D%2C%20%5B-5.74027%2C%20-48.3181%5D%2C%20%5B-3.00212%2C%20-47.3527%5D%2C%20%5B-6.06781%2C%20-49.9037%5D%2C%20%5B-1.59772%2C%20-46.9268%5D%2C%20%5B-1.19382%2C%20-47.324%5D%2C%20%5B-6.43778%2C%20-48.8716%5D%2C%20%5B-3.8681300000000003%2C%20-54.2124%5D%2C%20%5B-1.3958700000000002%2C%20-48.8661%5D%2C%20%5B-1.93639%2C%20-50.8194%5D%2C%20%5B-1.74691%2C%20-52.2361%5D%2C%20%5B-1.798%2C%20-53.4779%5D%2C%20%5B-0.9454389999999999%2C%20-47.1253%5D%2C%20%5B-0.8996040000000001%2C%20-47.0134%5D%2C%20%5B-8.02529%2C%20-50.0317%5D%2C%20%5B-7.312360000000001%2C%20-50.0379%5D%2C%20%5B-4.7779300000000005%2C%20-48.067%5D%2C%20%5B-4.100280000000001%2C%20-54.9092%5D%2C%20%5B-0.630815%2C%20-47.3465%5D%2C%20%5B-0.758444%2C%20-48.5139%5D%2C%20%5B-1.1921899999999999%2C%20-48.238%5D%2C%20%5B-0.6610189999999999%2C%20-49.1771%5D%2C%20%5B-1.2968600000000001%2C%20-48.1606%5D%2C%20%5B-1.52147%2C%20-46.9008%5D%2C%20%5B-8.85784%2C%20-49.7215%5D%2C%20%5B-1.35392%2C%20-47.5712%5D%2C%20%5B-9.3281%2C%20-50.35%5D%2C%20%5B-2.4384900000000003%2C%20-54.6996%5D%2C%20%5B-0.9309700000000001%2C%20-47.3855%5D%2C%20%5B-1.1522%2C%20-48.1314%5D%2C%20%5B-0.747293%2C%20-48.0246%5D%2C%20%5B-5.537319999999999%2C%20-48.7366%5D%2C%20%5B-1.6876799999999998%2C%20-47.7665%5D%2C%20%5B-6.6425399999999994%2C%20-51.9904%5D%2C%20%5B-1.16963%2C%20-47.7917%5D%2C%20%5B-6.39471%2C%20-48.5592%5D%2C%20%5B-0.857885%2C%20-47.918%5D%2C%20%5B-0.780222%2C%20-47.181000000000004%5D%2C%20%5B-5.36334%2C%20-48.7926%5D%2C%20%5B-1.61307%2C%20-47.4784%5D%2C%20%5B-1.71597%2C%20-49.5249%5D%2C%20%5B-6.940180000000001%2C%20-49.6834%5D%2C%20%5B-4.3124199999999995%2C%20-51.5764%5D%2C%20%5B-0.73032%2C%20-48.5015%5D%2C%20%5B-2.94584%2C%20-48.9489%5D%2C%20%5B-1.0296299999999998%2C%20-47.9004%5D%2C%20%5B-2.10443%2C%20-56.4877%5D%2C%20%5B-2.41302%2C%20-48.1415%5D%2C%20%5B-1.07653%2C%20-46.9031%5D%2C%20%5B-4.5734699999999995%2C%20-55.9429%5D%2C%20%5B-6.7468699999999995%2C%20-51.1626%5D%2C%20%5B-3.7657%2C%20-49.6773%5D%2C%20%5B-3.7500699999999996%2C%20-47.4892%5D%2C%20%5B-3.71519%2C%20-53.7396%5D%2C%20%5B-0.861194%2C%20-48.1386%5D%2C%20%5B-1.1912399999999999%2C%20-46.1399%5D%2C%20%5B-2.87922%2C%20-52.0088%5D%2C%20%5B-7.0983%2C%20-49.9437%5D%2C%20%5B0.901357%2C%20-52.0036%5D%2C%20%5B2.05267%2C%20-50.7957%5D%2C%20%5B0.777424%2C%20-51.9503%5D%2C%20%5B2.50475%2C%20-50.9512%5D%2C%20%5B0.9707610000000001%2C%20-50.8005%5D%2C%20%5B0.8572559999999999%2C%20-51.1795%5D%2C%20%5B0.6021850000000001%2C%20-50.6996%5D%2C%20%5B-0.8049109999999999%2C%20-52.453%5D%2C%20%5B0.034934%2C%20-51.0694%5D%2C%20%5B-0.11335999999999999%2C%20-51.2891%5D%2C%20%5B3.8407400000000003%2C%20-51.8331%5D%2C%20%5B0.71243%2C%20-51.4155%5D%2C%20%5B1.74543%2C%20-50.7892%5D%2C%20%5B-0.045433999999999995%2C%20-51.1729%5D%2C%20%5B1.50652%2C%20-50.9087%5D%2C%20%5B-0.938%2C%20-52.424%5D%2C%20%5B-9.62101%2C%20-49.1518%5D%2C%20%5B-6.5540899999999995%2C%20-47.4702%5D%2C%20%5B-11.3056%2C%20-48.9361%5D%2C%20%5B-11.5706%2C%20-47.1792%5D%2C%20%5B-12.4785%2C%20-49.1249%5D%2C%20%5B-6.36437%2C%20-48.0735%5D%2C%20%5B-6.39179%2C%20-47.8611%5D%2C%20%5B-9.94139%2C%20-47.9638%5D%2C%20%5B-7.16005%2C%20-48.5291%5D%2C%20%5B-8.80755%2C%20-49.5569%5D%2C%20%5B-12.9289%2C%20-49.8231%5D%2C%20%5B-7.19238%2C%20-48.2044%5D%2C%20%5B-6.58225%2C%20-48.6395%5D%2C%20%5B-5.64659%2C%20-48.1232%5D%2C%20%5B-7.65463%2C%20-49.0637%5D%2C%20%5B-12.9287%2C%20-46.9359%5D%2C%20%5B-5.46863%2C%20-47.8863%5D%2C%20%5B-12.7105%2C%20-46.4076%5D%2C%20%5B-5.61275%2C%20-47.7701%5D%2C%20%5B-7.209230000000001%2C%20-47.7613%5D%2C%20%5B-7.75612%2C%20-48.5836%5D%2C%20%5B-7.695930000000001%2C%20-47.6776%5D%2C%20%5B-9.83404%2C%20-48.7252%5D%2C%20%5B-7.874810000000001%2C%20-48.8893%5D%2C%20%5B-8.96306%2C%20-48.165%5D%2C%20%5B-8.38918%2C%20-48.4822%5D%2C%20%5B-11.0058%2C%20-48.5683%5D%2C%20%5B-5.3144800000000005%2C%20-48.2271%5D%2C%20%5B-6.1156%2C%20-47.9234%5D%2C%20%5B-7.989560000000001%2C%20-46.8645%5D%2C%20%5B-11.8881%2C%20-49.1609%5D%2C%20%5B-7.03262%2C%20-48.3978%5D%2C%20%5B-5.31415%2C%20-48.0314%5D%2C%20%5B-9.27612%2C%20-49.9521%5D%2C%20%5B-8.961030000000001%2C%20-47.3304%5D%2C%20%5B-10.1419%2C%20-49.1403%5D%2C%20%5B-11.6175%2C%20-47.7486%5D%2C%20%5B-8.05764%2C%20-48.4757%5D%2C%20%5B-12.7917%2C%20-46.5388%5D%2C%20%5B-12.2209%2C%20-47.2951%5D%2C%20%5B-8.28411%2C%20-49.2473%5D%2C%20%5B-10.5985%2C%20-49.1942%5D%2C%20%5B-11.0994%2C%20-48.9152%5D%2C%20%5B-6.715910000000001%2C%20-47.7597%5D%2C%20%5B-11.624%2C%20-46.8198%5D%2C%20%5B-9.800180000000001%2C%20-49.2169%5D%2C%20%5B-9.255339999999999%2C%20-49.0638%5D%2C%20%5B-11.3416%2C%20-49.2716%5D%2C%20%5B-5.3659300000000005%2C%20-48.5378%5D%2C%20%5B-10.7603%2C%20-48.9076%5D%2C%20%5B-12.1312%2C%20-49.1748%5D%2C%20%5B-7.3350100000000005%2C%20-47.4954%5D%2C%20%5B-11.7976%2C%20-49.5316%5D%2C%20%5B-9.05611%2C%20-48.5206%5D%2C%20%5B-8.77413%2C%20-48.9313%5D%2C%20%5B-7.71478%2C%20-47.3252%5D%2C%20%5B-8.83543%2C%20-48.5114%5D%2C%20%5B-11.7279%2C%20-49.068000000000005%5D%2C%20%5B-11.2329%2C%20-48.46%5D%2C%20%5B-8.39293%2C%20-47.7726%5D%2C%20%5B-5.77267%2C%20-47.4864%5D%2C%20%5B-8.37982%2C%20-48.1072%5D%2C%20%5B-8.57172%2C%20-48.6895%5D%2C%20%5B-12.6509%2C%20-48.589%5D%2C%20%5B-8.11951%2C%20-49.0643%5D%2C%20%5B-10.7906%2C%20-49.6199%5D%2C%20%5B-10.368%2C%20-47.538000000000004%5D%2C%20%5B-9.74996%2C%20-48.3565%5D%2C%20%5B-12.7847%2C%20-46.5099%5D%2C%20%5B-9.590019999999999%2C%20-46.6738%5D%2C%20%5B-6.17794%2C%20-47.8582%5D%2C%20%5B-9.79377%2C%20-49.6553%5D%2C%20%5B-10.5464%2C%20-46.4168%5D%2C%20%5B-5.95169%2C%20-47.5125%5D%2C%20%5B-9.565560000000001%2C%20-48.393%5D%2C%20%5B-9.529069999999999%2C%20-48.5922%5D%2C%20%5B-10.7611%2C%20-48.1114%5D%2C%20%5B-10.0075%2C%20-48.9941%5D%2C%20%5B-6.61658%2C%20-47.5464%5D%2C%20%5B-7.1466899999999995%2C%20-48.6091%5D%2C%20%5B-11.7034%2C%20-47.7223%5D%2C%20%5B-6.37496%2C%20-47.6643%5D%2C%20%5B-7.631710000000001%2C%20-48.4252%5D%2C%20%5B-10.5651%2C%20-48.9125%5D%2C%20%5B-9.97063%2C%20-47.6785%5D%2C%20%5B-12.9217%2C%20-46.5713%5D%2C%20%5B-11.825999999999999%2C%20-46.6325%5D%2C%20%5B-10.707%2C%20-48.9086%5D%2C%20%5B-7.847860000000001%2C%20-47.9242%5D%2C%20%5B-13.0447%2C%20-48.4026%5D%2C%20%5B-10.175%2C%20-48.8823%5D%2C%20%5B-12.6167%2C%20-47.8734%5D%2C%20%5B-7.53919%2C%20-49.367%5D%2C%20%5B-8.97034%2C%20-48.1729%5D%2C%20%5B-12.0254%2C%20-48.5395%5D%2C%20%5B-8.5932%2C%20-48.9327%5D%2C%20%5B-8.72463%2C%20-48.7638%5D%2C%20%5B-11.1311%2C%20-47.5726%5D%2C%20%5B-6.77302%2C%20-48.2958%5D%2C%20%5B-10.442%2C%20-49.1876%5D%2C%20%5B-12.0853%2C%20-46.4825%5D%2C%20%5B-10.7481%2C%20-47.5276%5D%2C%20%5B-11.618%2C%20-47.0621%5D%2C%20%5B-10.7027%2C%20-48.408%5D%2C%20%5B-5.39281%2C%20-47.8111%5D%2C%20%5B-8.5406%2C%20-48.5062%5D%2C%20%5B-10.424000000000001%2C%20-48.8957%5D%2C%20%5B-8.7227%2C%20-47.2421%5D%2C%20%5B-6.44005%2C%20-48.1371%5D%2C%20%5B-11.3949%2C%20-46.8847%5D%2C%20%5B-9.34425%2C%20-48.5245%5D%2C%20%5B-9.350019999999999%2C%20-47.888000000000005%5D%2C%20%5B-5.35423%2C%20-47.8782%5D%2C%20%5B-12.538%2C%20-49.9242%5D%2C%20%5B-7.15803%2C%20-48.7165%5D%2C%20%5B-8.8046%2C%20-47.7887%5D%2C%20%5B-10.8617%2C%20-48.9161%5D%2C%20%5B-11.4474%2C%20-48.1216%5D%2C%20%5B-10.2746%2C%20-47.8033%5D%2C%20%5B-6.444380000000001%2C%20-47.6684%5D%2C%20%5B-6.0258%2C%20-47.9012%5D%2C%20%5B-10.1615%2C%20-46.6618%5D%2C%20%5B-5.56305%2C%20-47.5743%5D%2C%20%5B-12.7458%2C%20-48.2352%5D%2C%20%5B-5.26131%2C%20-48.2021%5D%2C%20%5B-11.9743%2C%20-48.2353%5D%2C%20%5B-11.1471%2C%20-48.1694%5D%2C%20%5B-5.6012%2C%20-47.6381%5D%2C%20%5B-11.993%2C%20-48.9685%5D%2C%20%5B-12.4026%2C%20-46.437%5D%2C%20%5B-12.1873%2C%20-46.9797%5D%2C%20%5B-12.7949%2C%20-49.0896%5D%2C%20%5B-10.24%2C%20-48.3558%5D%2C%20%5B-9.5632%2C%20-48.3741%5D%2C%20%5B-6.32447%2C%20-47.4224%5D%2C%20%5B-8.971680000000001%2C%20-48.1883%5D%2C%20%5B-8.393880000000001%2C%20-48.1277%5D%2C%20%5B-6.85274%2C%20-47.9601%5D%2C%20%5B-6.4141%2C%20-48.532%5D%5D%2C%0A%20%20%20%20%20%20%20%20%20%20%20%20%20%20%20%20%7B%22blur%22%3A%2015%2C%20%22maxZoom%22%3A%2018%2C%20%22minOpacity%22%3A%200.5%2C%20%22radius%22%3A%2025%7D%0A%20%20%20%20%20%20%20%20%20%20%20%20%29.addTo%28map_ae778aa840e34fa6a477508ba36edd0f%29%3B%0A%20%20%20%20%20%20%20%20%0A%3C/script%3E onload=\"this.contentDocument.open();this.contentDocument.write(    decodeURIComponent(this.getAttribute('data-html')));this.contentDocument.close();\" allowfullscreen webkitallowfullscreen mozallowfullscreen></iframe></div></div>"
      ],
      "text/plain": [
       "<folium.folium.Map at 0x2454b504cf8>"
      ]
     },
     "execution_count": 23,
     "metadata": {},
     "output_type": "execute_result"
    }
   ],
   "source": [
    "# Renderizando o mapa\n",
    "mapa = folium.Map(location=[-15.788497,-47.879873],zoom_start=4.5,tiles='Stamen Toner')\n",
    "\n",
    "mapa.add_child(plugins.HeatMap(coordenadas))        \n",
    "mapa"
   ]
  },
  {
   "cell_type": "markdown",
   "metadata": {},
   "source": [
    "### Municipios com aplicação de primeira dose entre < 50%"
   ]
  },
  {
   "cell_type": "code",
   "execution_count": 24,
   "metadata": {},
   "outputs": [],
   "source": [
    "df_municipios_1d_50 = df_vacinas[df_vacinas['CV_SCR1'] < 50]"
   ]
  },
  {
   "cell_type": "code",
   "execution_count": 5,
   "metadata": {},
   "outputs": [
    {
     "data": {
      "text/plain": [
       "(45, 29)"
      ]
     },
     "execution_count": 5,
     "metadata": {},
     "output_type": "execute_result"
    }
   ],
   "source": [
    "df_municipios_1d_50.shape"
   ]
  },
  {
   "cell_type": "code",
   "execution_count": 25,
   "metadata": {},
   "outputs": [],
   "source": [
    "# Merge dataset vacinas e geolocalização\n",
    "df_municipios_1d_50 = pd.merge(df_municipios_1d_50, df_municipios, how='left', left_on='CODMUN7', right_on='codigo_ibge')"
   ]
  },
  {
   "cell_type": "code",
   "execution_count": 26,
   "metadata": {},
   "outputs": [],
   "source": [
    "# Extraindo as coordenadas\n",
    "coordenadas=[]\n",
    "for lat,lng in zip(df_municipios_1d_50.latitude.values,df_municipios_1d_50.longitude.values):\n",
    "  coordenadas.append([lat,lng])"
   ]
  },
  {
   "cell_type": "code",
   "execution_count": 27,
   "metadata": {},
   "outputs": [
    {
     "data": {
      "text/html": [
       "<div style=\"width:100%;\"><div style=\"position:relative;width:100%;height:0;padding-bottom:60%;\"><span style=\"color:#565656\">Make this Notebook Trusted to load map: File -> Trust Notebook</span><iframe src=\"about:blank\" style=\"position:absolute;width:100%;height:100%;left:0;top:0;border:none !important;\" data-html=%3C%21DOCTYPE%20html%3E%0A%3Chead%3E%20%20%20%20%0A%20%20%20%20%3Cmeta%20http-equiv%3D%22content-type%22%20content%3D%22text/html%3B%20charset%3DUTF-8%22%20/%3E%0A%20%20%20%20%0A%20%20%20%20%20%20%20%20%3Cscript%3E%0A%20%20%20%20%20%20%20%20%20%20%20%20L_NO_TOUCH%20%3D%20false%3B%0A%20%20%20%20%20%20%20%20%20%20%20%20L_DISABLE_3D%20%3D%20false%3B%0A%20%20%20%20%20%20%20%20%3C/script%3E%0A%20%20%20%20%0A%20%20%20%20%3Cstyle%3Ehtml%2C%20body%20%7Bwidth%3A%20100%25%3Bheight%3A%20100%25%3Bmargin%3A%200%3Bpadding%3A%200%3B%7D%3C/style%3E%0A%20%20%20%20%3Cstyle%3E%23map%20%7Bposition%3Aabsolute%3Btop%3A0%3Bbottom%3A0%3Bright%3A0%3Bleft%3A0%3B%7D%3C/style%3E%0A%20%20%20%20%3Cscript%20src%3D%22https%3A//cdn.jsdelivr.net/npm/leaflet%401.6.0/dist/leaflet.js%22%3E%3C/script%3E%0A%20%20%20%20%3Cscript%20src%3D%22https%3A//code.jquery.com/jquery-1.12.4.min.js%22%3E%3C/script%3E%0A%20%20%20%20%3Cscript%20src%3D%22https%3A//maxcdn.bootstrapcdn.com/bootstrap/3.2.0/js/bootstrap.min.js%22%3E%3C/script%3E%0A%20%20%20%20%3Cscript%20src%3D%22https%3A//cdnjs.cloudflare.com/ajax/libs/Leaflet.awesome-markers/2.0.2/leaflet.awesome-markers.js%22%3E%3C/script%3E%0A%20%20%20%20%3Clink%20rel%3D%22stylesheet%22%20href%3D%22https%3A//cdn.jsdelivr.net/npm/leaflet%401.6.0/dist/leaflet.css%22/%3E%0A%20%20%20%20%3Clink%20rel%3D%22stylesheet%22%20href%3D%22https%3A//maxcdn.bootstrapcdn.com/bootstrap/3.2.0/css/bootstrap.min.css%22/%3E%0A%20%20%20%20%3Clink%20rel%3D%22stylesheet%22%20href%3D%22https%3A//maxcdn.bootstrapcdn.com/bootstrap/3.2.0/css/bootstrap-theme.min.css%22/%3E%0A%20%20%20%20%3Clink%20rel%3D%22stylesheet%22%20href%3D%22https%3A//maxcdn.bootstrapcdn.com/font-awesome/4.6.3/css/font-awesome.min.css%22/%3E%0A%20%20%20%20%3Clink%20rel%3D%22stylesheet%22%20href%3D%22https%3A//cdnjs.cloudflare.com/ajax/libs/Leaflet.awesome-markers/2.0.2/leaflet.awesome-markers.css%22/%3E%0A%20%20%20%20%3Clink%20rel%3D%22stylesheet%22%20href%3D%22https%3A//cdn.jsdelivr.net/gh/python-visualization/folium/folium/templates/leaflet.awesome.rotate.min.css%22/%3E%0A%20%20%20%20%0A%20%20%20%20%20%20%20%20%20%20%20%20%3Cmeta%20name%3D%22viewport%22%20content%3D%22width%3Ddevice-width%2C%0A%20%20%20%20%20%20%20%20%20%20%20%20%20%20%20%20initial-scale%3D1.0%2C%20maximum-scale%3D1.0%2C%20user-scalable%3Dno%22%20/%3E%0A%20%20%20%20%20%20%20%20%20%20%20%20%3Cstyle%3E%0A%20%20%20%20%20%20%20%20%20%20%20%20%20%20%20%20%23map_1f08a6a75d234ed99514053c5ecef289%20%7B%0A%20%20%20%20%20%20%20%20%20%20%20%20%20%20%20%20%20%20%20%20position%3A%20relative%3B%0A%20%20%20%20%20%20%20%20%20%20%20%20%20%20%20%20%20%20%20%20width%3A%20100.0%25%3B%0A%20%20%20%20%20%20%20%20%20%20%20%20%20%20%20%20%20%20%20%20height%3A%20100.0%25%3B%0A%20%20%20%20%20%20%20%20%20%20%20%20%20%20%20%20%20%20%20%20left%3A%200.0%25%3B%0A%20%20%20%20%20%20%20%20%20%20%20%20%20%20%20%20%20%20%20%20top%3A%200.0%25%3B%0A%20%20%20%20%20%20%20%20%20%20%20%20%20%20%20%20%7D%0A%20%20%20%20%20%20%20%20%20%20%20%20%3C/style%3E%0A%20%20%20%20%20%20%20%20%0A%20%20%20%20%3Cscript%20src%3D%22https%3A//cdn.jsdelivr.net/gh/python-visualization/folium%40master/folium/templates/leaflet_heat.min.js%22%3E%3C/script%3E%0A%3C/head%3E%0A%3Cbody%3E%20%20%20%20%0A%20%20%20%20%0A%20%20%20%20%20%20%20%20%20%20%20%20%3Cdiv%20class%3D%22folium-map%22%20id%3D%22map_1f08a6a75d234ed99514053c5ecef289%22%20%3E%3C/div%3E%0A%20%20%20%20%20%20%20%20%0A%3C/body%3E%0A%3Cscript%3E%20%20%20%20%0A%20%20%20%20%0A%20%20%20%20%20%20%20%20%20%20%20%20var%20map_1f08a6a75d234ed99514053c5ecef289%20%3D%20L.map%28%0A%20%20%20%20%20%20%20%20%20%20%20%20%20%20%20%20%22map_1f08a6a75d234ed99514053c5ecef289%22%2C%0A%20%20%20%20%20%20%20%20%20%20%20%20%20%20%20%20%7B%0A%20%20%20%20%20%20%20%20%20%20%20%20%20%20%20%20%20%20%20%20center%3A%20%5B-15.788497%2C%20-47.879873%5D%2C%0A%20%20%20%20%20%20%20%20%20%20%20%20%20%20%20%20%20%20%20%20crs%3A%20L.CRS.EPSG3857%2C%0A%20%20%20%20%20%20%20%20%20%20%20%20%20%20%20%20%20%20%20%20zoom%3A%204.5%2C%0A%20%20%20%20%20%20%20%20%20%20%20%20%20%20%20%20%20%20%20%20zoomControl%3A%20true%2C%0A%20%20%20%20%20%20%20%20%20%20%20%20%20%20%20%20%20%20%20%20preferCanvas%3A%20false%2C%0A%20%20%20%20%20%20%20%20%20%20%20%20%20%20%20%20%7D%0A%20%20%20%20%20%20%20%20%20%20%20%20%29%3B%0A%0A%20%20%20%20%20%20%20%20%20%20%20%20%0A%0A%20%20%20%20%20%20%20%20%0A%20%20%20%20%0A%20%20%20%20%20%20%20%20%20%20%20%20var%20tile_layer_4ce0c54386f64e2a91ab71dbde3b285d%20%3D%20L.tileLayer%28%0A%20%20%20%20%20%20%20%20%20%20%20%20%20%20%20%20%22https%3A//stamen-tiles-%7Bs%7D.a.ssl.fastly.net/toner/%7Bz%7D/%7Bx%7D/%7By%7D.png%22%2C%0A%20%20%20%20%20%20%20%20%20%20%20%20%20%20%20%20%7B%22attribution%22%3A%20%22Map%20tiles%20by%20%5Cu003ca%20href%3D%5C%22http%3A//stamen.com%5C%22%5Cu003eStamen%20Design%5Cu003c/a%5Cu003e%2C%20under%20%5Cu003ca%20href%3D%5C%22http%3A//creativecommons.org/licenses/by/3.0%5C%22%5Cu003eCC%20BY%203.0%5Cu003c/a%5Cu003e.%20Data%20by%20%5Cu0026copy%3B%20%5Cu003ca%20href%3D%5C%22http%3A//openstreetmap.org%5C%22%5Cu003eOpenStreetMap%5Cu003c/a%5Cu003e%2C%20under%20%5Cu003ca%20href%3D%5C%22http%3A//www.openstreetmap.org/copyright%5C%22%5Cu003eODbL%5Cu003c/a%5Cu003e.%22%2C%20%22detectRetina%22%3A%20false%2C%20%22maxNativeZoom%22%3A%2018%2C%20%22maxZoom%22%3A%2018%2C%20%22minZoom%22%3A%200%2C%20%22noWrap%22%3A%20false%2C%20%22opacity%22%3A%201%2C%20%22subdomains%22%3A%20%22abc%22%2C%20%22tms%22%3A%20false%7D%0A%20%20%20%20%20%20%20%20%20%20%20%20%29.addTo%28map_1f08a6a75d234ed99514053c5ecef289%29%3B%0A%20%20%20%20%20%20%20%20%0A%20%20%20%20%0A%20%20%20%20%20%20%20%20%20%20%20%20var%20heat_map_226309a46cd74ba68f4b86812f8b8c9e%20%3D%20L.heatLayer%28%0A%20%20%20%20%20%20%20%20%20%20%20%20%20%20%20%20%5B%5B-9.86215%2C%20-62.1876%5D%2C%20%5B-6.65677%2C%20-69.8662%5D%2C%20%5B-3.4843800000000003%2C%20-66.0718%5D%2C%20%5B-2.75814%2C%20-66.7595%5D%2C%20%5B-3.29066%2C%20-60.6216%5D%2C%20%5B-7.71311%2C%20-66.992%5D%2C%20%5B-5.62085%2C%20-63.1808%5D%2C%20%5B2.43998%2C%20-60.9096%5D%2C%20%5B-0.154874%2C%20-50.3861%5D%2C%20%5B-1.36391%2C%20-48.3743%5D%2C%20%5B-1.6803599999999999%2C%20-50.4791%5D%2C%20%5B-1.8117900000000002%2C%20-49.7952%5D%2C%20%5B-0.733214%2C%20-47.8515%5D%2C%20%5B-6.10389%2C%20-49.3553%5D%2C%20%5B-3.8433800000000002%2C%20-49.0974%5D%2C%20%5B-2.55992%2C%20-47.5059%5D%2C%20%5B-1.36002%2C%20-48.3421%5D%2C%20%5B-1.59772%2C%20-46.9268%5D%2C%20%5B-1.93639%2C%20-50.8194%5D%2C%20%5B-1.74691%2C%20-52.2361%5D%2C%20%5B-1.1921899999999999%2C%20-48.238%5D%2C%20%5B-0.73032%2C%20-48.5015%5D%2C%20%5B-3.7500699999999996%2C%20-47.4892%5D%2C%20%5B0.901357%2C%20-52.0036%5D%2C%20%5B-11.0994%2C%20-48.9152%5D%2C%20%5B-9.529069999999999%2C%20-48.5922%5D%2C%20%5B-12.538%2C%20-49.9242%5D%2C%20%5B-9.81528%2C%20-67.955%5D%2C%20%5B-5.12593%2C%20-60.3732%5D%2C%20%5B-2.99609%2C%20-65.1133%5D%2C%20%5B-1.8117900000000002%2C%20-49.7952%5D%2C%20%5B-1.1921899999999999%2C%20-48.238%5D%2C%20%5B-6.39471%2C%20-48.5592%5D%2C%20%5B-11.029000000000002%2C%20-62.6696%5D%2C%20%5B-9.81528%2C%20-67.955%5D%2C%20%5B-7.738639999999999%2C%20-72.661%5D%2C%20%5B2.60994%2C%20-60.6058%5D%2C%20%5B-0.154874%2C%20-50.3861%5D%2C%20%5B-6.79053%2C%20-50.4791%5D%2C%20%5B-1.75974%2C%20-46.5459%5D%2C%20%5B-7.810969999999999%2C%20-50.7698%5D%2C%20%5B-1.8117900000000002%2C%20-49.7952%5D%2C%20%5B-0.73032%2C%20-48.5015%5D%2C%20%5B-7.695930000000001%2C%20-47.6776%5D%2C%20%5B-6.715910000000001%2C%20-47.7597%5D%5D%2C%0A%20%20%20%20%20%20%20%20%20%20%20%20%20%20%20%20%7B%22blur%22%3A%2015%2C%20%22maxZoom%22%3A%2018%2C%20%22minOpacity%22%3A%200.5%2C%20%22radius%22%3A%2025%7D%0A%20%20%20%20%20%20%20%20%20%20%20%20%29.addTo%28map_1f08a6a75d234ed99514053c5ecef289%29%3B%0A%20%20%20%20%20%20%20%20%0A%3C/script%3E onload=\"this.contentDocument.open();this.contentDocument.write(    decodeURIComponent(this.getAttribute('data-html')));this.contentDocument.close();\" allowfullscreen webkitallowfullscreen mozallowfullscreen></iframe></div></div>"
      ],
      "text/plain": [
       "<folium.folium.Map at 0x2454b56a978>"
      ]
     },
     "execution_count": 27,
     "metadata": {},
     "output_type": "execute_result"
    }
   ],
   "source": [
    "# Renderizando o mapa\n",
    "mapa = folium.Map(location=[-15.788497,-47.879873],zoom_start=4.5,tiles='Stamen Toner')\n",
    "\n",
    "# Adicionando os registros no mapa de calor:\n",
    "from folium import plugins\n",
    "\n",
    "mapa.add_child(plugins.HeatMap(coordenadas))        \n",
    "mapa"
   ]
  },
  {
   "cell_type": "code",
   "execution_count": 9,
   "metadata": {},
   "outputs": [
    {
     "data": {
      "text/plain": [
       "(45, 35)"
      ]
     },
     "execution_count": 9,
     "metadata": {},
     "output_type": "execute_result"
    }
   ],
   "source": [
    "df_municipios_1d_50.shape"
   ]
  },
  {
   "cell_type": "code",
   "execution_count": 13,
   "metadata": {},
   "outputs": [
    {
     "data": {
      "text/html": [
       "<div>\n",
       "<style scoped>\n",
       "    .dataframe tbody tr th:only-of-type {\n",
       "        vertical-align: middle;\n",
       "    }\n",
       "\n",
       "    .dataframe tbody tr th {\n",
       "        vertical-align: top;\n",
       "    }\n",
       "\n",
       "    .dataframe thead th {\n",
       "        text-align: right;\n",
       "    }\n",
       "</style>\n",
       "<table border=\"1\" class=\"dataframe\">\n",
       "  <thead>\n",
       "    <tr style=\"text-align: right;\">\n",
       "      <th></th>\n",
       "      <th>COD</th>\n",
       "      <th>CODMUN7</th>\n",
       "      <th>UF</th>\n",
       "      <th>ANO</th>\n",
       "      <th>MUNICIPIO</th>\n",
       "      <th>CV_SCR1</th>\n",
       "      <th>CV_SCR2</th>\n",
       "      <th>POPRURAL</th>\n",
       "      <th>POPURB</th>\n",
       "      <th>RDPC</th>\n",
       "      <th>...</th>\n",
       "      <th>POPDOMCHEFMULHERES</th>\n",
       "      <th>DENSDEMOG2010</th>\n",
       "      <th>PERC_NV_7CPN</th>\n",
       "      <th>COBERTURA_AB</th>\n",
       "      <th>codigo_ibge</th>\n",
       "      <th>nome</th>\n",
       "      <th>latitude</th>\n",
       "      <th>longitude</th>\n",
       "      <th>capital</th>\n",
       "      <th>codigo_uf</th>\n",
       "    </tr>\n",
       "  </thead>\n",
       "  <tbody>\n",
       "    <tr>\n",
       "      <th>0</th>\n",
       "      <td>110175</td>\n",
       "      <td>1101757</td>\n",
       "      <td>Rondônia</td>\n",
       "      <td>2016</td>\n",
       "      <td>Vale do Anari</td>\n",
       "      <td>34.950001</td>\n",
       "      <td>18.450001</td>\n",
       "      <td>65.980003</td>\n",
       "      <td>34.020000</td>\n",
       "      <td>394.019989</td>\n",
       "      <td>...</td>\n",
       "      <td>20.459999</td>\n",
       "      <td>2.99</td>\n",
       "      <td>81.820000</td>\n",
       "      <td>63.639999</td>\n",
       "      <td>1101757</td>\n",
       "      <td>Vale do Anari</td>\n",
       "      <td>-9.86215</td>\n",
       "      <td>-62.1876</td>\n",
       "      <td>0</td>\n",
       "      <td>11</td>\n",
       "    </tr>\n",
       "    <tr>\n",
       "      <th>1</th>\n",
       "      <td>130140</td>\n",
       "      <td>1301407</td>\n",
       "      <td>Amazonas</td>\n",
       "      <td>2016</td>\n",
       "      <td>Eirunep‚</td>\n",
       "      <td>49.380001</td>\n",
       "      <td>40.750000</td>\n",
       "      <td>27.719999</td>\n",
       "      <td>72.279999</td>\n",
       "      <td>241.860001</td>\n",
       "      <td>...</td>\n",
       "      <td>38.740002</td>\n",
       "      <td>2.04</td>\n",
       "      <td>42.570000</td>\n",
       "      <td>91.260002</td>\n",
       "      <td>1301407</td>\n",
       "      <td>Eirunepé</td>\n",
       "      <td>-6.65677</td>\n",
       "      <td>-69.8662</td>\n",
       "      <td>0</td>\n",
       "      <td>13</td>\n",
       "    </tr>\n",
       "    <tr>\n",
       "      <th>2</th>\n",
       "      <td>130220</td>\n",
       "      <td>1302207</td>\n",
       "      <td>Amazonas</td>\n",
       "      <td>2016</td>\n",
       "      <td>Juru</td>\n",
       "      <td>48.130001</td>\n",
       "      <td>24.299999</td>\n",
       "      <td>47.360001</td>\n",
       "      <td>52.639999</td>\n",
       "      <td>227.389999</td>\n",
       "      <td>...</td>\n",
       "      <td>39.820000</td>\n",
       "      <td>0.56</td>\n",
       "      <td>39.430000</td>\n",
       "      <td>52.279999</td>\n",
       "      <td>1302207</td>\n",
       "      <td>Juruá</td>\n",
       "      <td>-3.48438</td>\n",
       "      <td>-66.0718</td>\n",
       "      <td>0</td>\n",
       "      <td>13</td>\n",
       "    </tr>\n",
       "    <tr>\n",
       "      <th>3</th>\n",
       "      <td>130230</td>\n",
       "      <td>1302306</td>\n",
       "      <td>Amazonas</td>\n",
       "      <td>2016</td>\n",
       "      <td>Juta¡</td>\n",
       "      <td>36.570000</td>\n",
       "      <td>37.060001</td>\n",
       "      <td>41.349998</td>\n",
       "      <td>58.650002</td>\n",
       "      <td>214.360001</td>\n",
       "      <td>...</td>\n",
       "      <td>24.650000</td>\n",
       "      <td>0.26</td>\n",
       "      <td>23.340000</td>\n",
       "      <td>100.000000</td>\n",
       "      <td>1302306</td>\n",
       "      <td>Jutaí</td>\n",
       "      <td>-2.75814</td>\n",
       "      <td>-66.7595</td>\n",
       "      <td>0</td>\n",
       "      <td>13</td>\n",
       "    </tr>\n",
       "    <tr>\n",
       "      <th>4</th>\n",
       "      <td>130250</td>\n",
       "      <td>1302504</td>\n",
       "      <td>Amazonas</td>\n",
       "      <td>2016</td>\n",
       "      <td>Manacapuru</td>\n",
       "      <td>23.600000</td>\n",
       "      <td>19.330000</td>\n",
       "      <td>29.320000</td>\n",
       "      <td>70.680000</td>\n",
       "      <td>342.579987</td>\n",
       "      <td>...</td>\n",
       "      <td>35.799999</td>\n",
       "      <td>11.62</td>\n",
       "      <td>41.060001</td>\n",
       "      <td>92.250000</td>\n",
       "      <td>1302504</td>\n",
       "      <td>Manacapuru</td>\n",
       "      <td>-3.29066</td>\n",
       "      <td>-60.6216</td>\n",
       "      <td>0</td>\n",
       "      <td>13</td>\n",
       "    </tr>\n",
       "  </tbody>\n",
       "</table>\n",
       "<p>5 rows × 35 columns</p>\n",
       "</div>"
      ],
      "text/plain": [
       "      COD  CODMUN7        UF   ANO      MUNICIPIO    CV_SCR1    CV_SCR2  \\\n",
       "0  110175  1101757  Rondônia  2016  Vale do Anari  34.950001  18.450001   \n",
       "1  130140  1301407  Amazonas  2016       Eirunep‚  49.380001  40.750000   \n",
       "2  130220  1302207  Amazonas  2016          Juru   48.130001  24.299999   \n",
       "3  130230  1302306  Amazonas  2016          Juta¡  36.570000  37.060001   \n",
       "4  130250  1302504  Amazonas  2016     Manacapuru  23.600000  19.330000   \n",
       "\n",
       "    POPRURAL     POPURB        RDPC    ...      POPDOMCHEFMULHERES  \\\n",
       "0  65.980003  34.020000  394.019989    ...               20.459999   \n",
       "1  27.719999  72.279999  241.860001    ...               38.740002   \n",
       "2  47.360001  52.639999  227.389999    ...               39.820000   \n",
       "3  41.349998  58.650002  214.360001    ...               24.650000   \n",
       "4  29.320000  70.680000  342.579987    ...               35.799999   \n",
       "\n",
       "   DENSDEMOG2010  PERC_NV_7CPN  COBERTURA_AB  codigo_ibge           nome  \\\n",
       "0           2.99     81.820000     63.639999      1101757  Vale do Anari   \n",
       "1           2.04     42.570000     91.260002      1301407       Eirunepé   \n",
       "2           0.56     39.430000     52.279999      1302207          Juruá   \n",
       "3           0.26     23.340000    100.000000      1302306          Jutaí   \n",
       "4          11.62     41.060001     92.250000      1302504     Manacapuru   \n",
       "\n",
       "   latitude  longitude  capital  codigo_uf  \n",
       "0  -9.86215   -62.1876        0         11  \n",
       "1  -6.65677   -69.8662        0         13  \n",
       "2  -3.48438   -66.0718        0         13  \n",
       "3  -2.75814   -66.7595        0         13  \n",
       "4  -3.29066   -60.6216        0         13  \n",
       "\n",
       "[5 rows x 35 columns]"
      ]
     },
     "execution_count": 13,
     "metadata": {},
     "output_type": "execute_result"
    }
   ],
   "source": [
    "df_municipios_1d_50.head()"
   ]
  },
  {
   "cell_type": "code",
   "execution_count": 24,
   "metadata": {},
   "outputs": [
    {
     "data": {
      "text/plain": [
       "Pará         24\n",
       "Amazonas      8\n",
       "Tocantins     5\n",
       "Acre          3\n",
       "Roraima       2\n",
       "Rondônia      2\n",
       "Amapá         1\n",
       "Name: UF, dtype: int64"
      ]
     },
     "execution_count": 24,
     "metadata": {},
     "output_type": "execute_result"
    }
   ],
   "source": [
    "# Quantidade de municipios menor de 50% na primeira dose\n",
    "pd.value_counts(df_municipios_1d_50[\"UF\"])"
   ]
  },
  {
   "cell_type": "markdown",
   "metadata": {},
   "source": [
    "### Municipios com aplicação de segunda dose entre < 50%"
   ]
  },
  {
   "cell_type": "code",
   "execution_count": 28,
   "metadata": {},
   "outputs": [],
   "source": [
    "df_municipios_2d_50 = df_vacinas[df_vacinas['CV_SCR2'] < 50]"
   ]
  },
  {
   "cell_type": "code",
   "execution_count": 11,
   "metadata": {},
   "outputs": [
    {
     "data": {
      "text/plain": [
       "(151, 29)"
      ]
     },
     "execution_count": 11,
     "metadata": {},
     "output_type": "execute_result"
    }
   ],
   "source": [
    "df_municipios_2d_50.shape"
   ]
  },
  {
   "cell_type": "code",
   "execution_count": 29,
   "metadata": {},
   "outputs": [],
   "source": [
    "# Merge dataset vacinas e geolocalização\n",
    "df_municipios_2d_50 = pd.merge(df_municipios_2d_50, df_municipios, how='left', left_on='CODMUN7', right_on='codigo_ibge')"
   ]
  },
  {
   "cell_type": "code",
   "execution_count": 30,
   "metadata": {},
   "outputs": [],
   "source": [
    "# Extraindo as coordenadas\n",
    "coordenadas=[]\n",
    "for lat,lng in zip(df_municipios_2d_50.latitude.values,df_municipios_2d_50.longitude.values):\n",
    "  coordenadas.append([lat,lng])"
   ]
  },
  {
   "cell_type": "code",
   "execution_count": 31,
   "metadata": {},
   "outputs": [
    {
     "data": {
      "text/html": [
       "<div style=\"width:100%;\"><div style=\"position:relative;width:100%;height:0;padding-bottom:60%;\"><span style=\"color:#565656\">Make this Notebook Trusted to load map: File -> Trust Notebook</span><iframe src=\"about:blank\" style=\"position:absolute;width:100%;height:100%;left:0;top:0;border:none !important;\" data-html=%3C%21DOCTYPE%20html%3E%0A%3Chead%3E%20%20%20%20%0A%20%20%20%20%3Cmeta%20http-equiv%3D%22content-type%22%20content%3D%22text/html%3B%20charset%3DUTF-8%22%20/%3E%0A%20%20%20%20%0A%20%20%20%20%20%20%20%20%3Cscript%3E%0A%20%20%20%20%20%20%20%20%20%20%20%20L_NO_TOUCH%20%3D%20false%3B%0A%20%20%20%20%20%20%20%20%20%20%20%20L_DISABLE_3D%20%3D%20false%3B%0A%20%20%20%20%20%20%20%20%3C/script%3E%0A%20%20%20%20%0A%20%20%20%20%3Cstyle%3Ehtml%2C%20body%20%7Bwidth%3A%20100%25%3Bheight%3A%20100%25%3Bmargin%3A%200%3Bpadding%3A%200%3B%7D%3C/style%3E%0A%20%20%20%20%3Cstyle%3E%23map%20%7Bposition%3Aabsolute%3Btop%3A0%3Bbottom%3A0%3Bright%3A0%3Bleft%3A0%3B%7D%3C/style%3E%0A%20%20%20%20%3Cscript%20src%3D%22https%3A//cdn.jsdelivr.net/npm/leaflet%401.6.0/dist/leaflet.js%22%3E%3C/script%3E%0A%20%20%20%20%3Cscript%20src%3D%22https%3A//code.jquery.com/jquery-1.12.4.min.js%22%3E%3C/script%3E%0A%20%20%20%20%3Cscript%20src%3D%22https%3A//maxcdn.bootstrapcdn.com/bootstrap/3.2.0/js/bootstrap.min.js%22%3E%3C/script%3E%0A%20%20%20%20%3Cscript%20src%3D%22https%3A//cdnjs.cloudflare.com/ajax/libs/Leaflet.awesome-markers/2.0.2/leaflet.awesome-markers.js%22%3E%3C/script%3E%0A%20%20%20%20%3Clink%20rel%3D%22stylesheet%22%20href%3D%22https%3A//cdn.jsdelivr.net/npm/leaflet%401.6.0/dist/leaflet.css%22/%3E%0A%20%20%20%20%3Clink%20rel%3D%22stylesheet%22%20href%3D%22https%3A//maxcdn.bootstrapcdn.com/bootstrap/3.2.0/css/bootstrap.min.css%22/%3E%0A%20%20%20%20%3Clink%20rel%3D%22stylesheet%22%20href%3D%22https%3A//maxcdn.bootstrapcdn.com/bootstrap/3.2.0/css/bootstrap-theme.min.css%22/%3E%0A%20%20%20%20%3Clink%20rel%3D%22stylesheet%22%20href%3D%22https%3A//maxcdn.bootstrapcdn.com/font-awesome/4.6.3/css/font-awesome.min.css%22/%3E%0A%20%20%20%20%3Clink%20rel%3D%22stylesheet%22%20href%3D%22https%3A//cdnjs.cloudflare.com/ajax/libs/Leaflet.awesome-markers/2.0.2/leaflet.awesome-markers.css%22/%3E%0A%20%20%20%20%3Clink%20rel%3D%22stylesheet%22%20href%3D%22https%3A//cdn.jsdelivr.net/gh/python-visualization/folium/folium/templates/leaflet.awesome.rotate.min.css%22/%3E%0A%20%20%20%20%0A%20%20%20%20%20%20%20%20%20%20%20%20%3Cmeta%20name%3D%22viewport%22%20content%3D%22width%3Ddevice-width%2C%0A%20%20%20%20%20%20%20%20%20%20%20%20%20%20%20%20initial-scale%3D1.0%2C%20maximum-scale%3D1.0%2C%20user-scalable%3Dno%22%20/%3E%0A%20%20%20%20%20%20%20%20%20%20%20%20%3Cstyle%3E%0A%20%20%20%20%20%20%20%20%20%20%20%20%20%20%20%20%23map_66a03632fd674b0a8de7ff3256038805%20%7B%0A%20%20%20%20%20%20%20%20%20%20%20%20%20%20%20%20%20%20%20%20position%3A%20relative%3B%0A%20%20%20%20%20%20%20%20%20%20%20%20%20%20%20%20%20%20%20%20width%3A%20100.0%25%3B%0A%20%20%20%20%20%20%20%20%20%20%20%20%20%20%20%20%20%20%20%20height%3A%20100.0%25%3B%0A%20%20%20%20%20%20%20%20%20%20%20%20%20%20%20%20%20%20%20%20left%3A%200.0%25%3B%0A%20%20%20%20%20%20%20%20%20%20%20%20%20%20%20%20%20%20%20%20top%3A%200.0%25%3B%0A%20%20%20%20%20%20%20%20%20%20%20%20%20%20%20%20%7D%0A%20%20%20%20%20%20%20%20%20%20%20%20%3C/style%3E%0A%20%20%20%20%20%20%20%20%0A%20%20%20%20%3Cscript%20src%3D%22https%3A//cdn.jsdelivr.net/gh/python-visualization/folium%40master/folium/templates/leaflet_heat.min.js%22%3E%3C/script%3E%0A%3C/head%3E%0A%3Cbody%3E%20%20%20%20%0A%20%20%20%20%0A%20%20%20%20%20%20%20%20%20%20%20%20%3Cdiv%20class%3D%22folium-map%22%20id%3D%22map_66a03632fd674b0a8de7ff3256038805%22%20%3E%3C/div%3E%0A%20%20%20%20%20%20%20%20%0A%3C/body%3E%0A%3Cscript%3E%20%20%20%20%0A%20%20%20%20%0A%20%20%20%20%20%20%20%20%20%20%20%20var%20map_66a03632fd674b0a8de7ff3256038805%20%3D%20L.map%28%0A%20%20%20%20%20%20%20%20%20%20%20%20%20%20%20%20%22map_66a03632fd674b0a8de7ff3256038805%22%2C%0A%20%20%20%20%20%20%20%20%20%20%20%20%20%20%20%20%7B%0A%20%20%20%20%20%20%20%20%20%20%20%20%20%20%20%20%20%20%20%20center%3A%20%5B-15.788497%2C%20-47.879873%5D%2C%0A%20%20%20%20%20%20%20%20%20%20%20%20%20%20%20%20%20%20%20%20crs%3A%20L.CRS.EPSG3857%2C%0A%20%20%20%20%20%20%20%20%20%20%20%20%20%20%20%20%20%20%20%20zoom%3A%204.5%2C%0A%20%20%20%20%20%20%20%20%20%20%20%20%20%20%20%20%20%20%20%20zoomControl%3A%20true%2C%0A%20%20%20%20%20%20%20%20%20%20%20%20%20%20%20%20%20%20%20%20preferCanvas%3A%20false%2C%0A%20%20%20%20%20%20%20%20%20%20%20%20%20%20%20%20%7D%0A%20%20%20%20%20%20%20%20%20%20%20%20%29%3B%0A%0A%20%20%20%20%20%20%20%20%20%20%20%20%0A%0A%20%20%20%20%20%20%20%20%0A%20%20%20%20%0A%20%20%20%20%20%20%20%20%20%20%20%20var%20tile_layer_c2edbfd6ebc9409ab61f5497bc3e5578%20%3D%20L.tileLayer%28%0A%20%20%20%20%20%20%20%20%20%20%20%20%20%20%20%20%22https%3A//stamen-tiles-%7Bs%7D.a.ssl.fastly.net/toner/%7Bz%7D/%7Bx%7D/%7By%7D.png%22%2C%0A%20%20%20%20%20%20%20%20%20%20%20%20%20%20%20%20%7B%22attribution%22%3A%20%22Map%20tiles%20by%20%5Cu003ca%20href%3D%5C%22http%3A//stamen.com%5C%22%5Cu003eStamen%20Design%5Cu003c/a%5Cu003e%2C%20under%20%5Cu003ca%20href%3D%5C%22http%3A//creativecommons.org/licenses/by/3.0%5C%22%5Cu003eCC%20BY%203.0%5Cu003c/a%5Cu003e.%20Data%20by%20%5Cu0026copy%3B%20%5Cu003ca%20href%3D%5C%22http%3A//openstreetmap.org%5C%22%5Cu003eOpenStreetMap%5Cu003c/a%5Cu003e%2C%20under%20%5Cu003ca%20href%3D%5C%22http%3A//www.openstreetmap.org/copyright%5C%22%5Cu003eODbL%5Cu003c/a%5Cu003e.%22%2C%20%22detectRetina%22%3A%20false%2C%20%22maxNativeZoom%22%3A%2018%2C%20%22maxZoom%22%3A%2018%2C%20%22minZoom%22%3A%200%2C%20%22noWrap%22%3A%20false%2C%20%22opacity%22%3A%201%2C%20%22subdomains%22%3A%20%22abc%22%2C%20%22tms%22%3A%20false%7D%0A%20%20%20%20%20%20%20%20%20%20%20%20%29.addTo%28map_66a03632fd674b0a8de7ff3256038805%29%3B%0A%20%20%20%20%20%20%20%20%0A%20%20%20%20%0A%20%20%20%20%20%20%20%20%20%20%20%20var%20heat_map_f27d65feae7d474abb2e9d6d403c8d9a%20%3D%20L.heatLayer%28%0A%20%20%20%20%20%20%20%20%20%20%20%20%20%20%20%20%5B%5B-9.71429%2C%20-63.3188%5D%2C%20%5B-10.5712%2C%20-63.6266%5D%2C%20%5B-9.86215%2C%20-62.1876%5D%2C%20%5B-10.9298%2C%20-69.5738%5D%2C%20%5B-8.170539999999999%2C%20-70.351%5D%2C%20%5B-7.616569999999999%2C%20-72.8997%5D%2C%20%5B-8.93898%2C%20-72.7997%5D%2C%20%5B-8.26323%2C%20-72.7537%5D%2C%20%5B-10.1497%2C%20-67.7362%5D%2C%20%5B-4.377680000000001%2C%20-70.0342%5D%2C%20%5B-4.88161%2C%20-66.9086%5D%2C%20%5B-6.65677%2C%20-69.8662%5D%2C%20%5B-7.53797%2C%20-72.5907%5D%2C%20%5B-6.43852%2C%20-68.2437%5D%2C%20%5B-3.4843800000000003%2C%20-66.0718%5D%2C%20%5B-2.75814%2C%20-66.7595%5D%2C%20%5B-3.29066%2C%20-60.6216%5D%2C%20%5B-2.63637%2C%20-60.9434%5D%2C%20%5B-7.71311%2C%20-66.992%5D%2C%20%5B-2.55915%2C%20-57.8731%5D%2C%20%5B-5.62085%2C%20-63.1808%5D%2C%20%5B0.951659%2C%20-59.9133%5D%2C%20%5B-0.154874%2C%20-50.3861%5D%2C%20%5B-1.36391%2C%20-48.3743%5D%2C%20%5B-1.0510899999999999%2C%20-46.6147%5D%2C%20%5B-1.6803599999999999%2C%20-50.4791%5D%2C%20%5B-0.164154%2C%20-49.986999999999995%5D%2C%20%5B-1.8117900000000002%2C%20-49.7952%5D%2C%20%5B-0.733214%2C%20-47.8515%5D%2C%20%5B-6.10389%2C%20-49.3553%5D%2C%20%5B-7.55335%2C%20-49.7125%5D%2C%20%5B-2.55992%2C%20-47.5059%5D%2C%20%5B-5.38075%2C%20-49.1327%5D%2C%20%5B-0.7147020000000001%2C%20-47.7034%5D%2C%20%5B-1.36002%2C%20-48.3421%5D%2C%20%5B-1.8032%2C%20-50.7149%5D%2C%20%5B-1.93639%2C%20-50.8194%5D%2C%20%5B-1.74691%2C%20-52.2361%5D%2C%20%5B-1.1921899999999999%2C%20-48.238%5D%2C%20%5B-1.2968600000000001%2C%20-48.1606%5D%2C%20%5B-2.4384900000000003%2C%20-54.6996%5D%2C%20%5B-0.73032%2C%20-48.5015%5D%2C%20%5B-1.07653%2C%20-46.9031%5D%2C%20%5B-3.7500699999999996%2C%20-47.4892%5D%2C%20%5B0.901357%2C%20-52.0036%5D%2C%20%5B0.6021850000000001%2C%20-50.6996%5D%2C%20%5B-0.11335999999999999%2C%20-51.2891%5D%2C%20%5B-10.1419%2C%20-49.1403%5D%2C%20%5B-9.529069999999999%2C%20-48.5922%5D%2C%20%5B-12.538%2C%20-49.9242%5D%2C%20%5B-13.4945%2C%20-60.552%5D%2C%20%5B-13.1174%2C%20-60.5454%5D%2C%20%5B-11.169%2C%20-61.8986%5D%2C%20%5B-10.61%2C%20-62.7371%5D%2C%20%5B-11.029000000000002%2C%20-62.6696%5D%2C%20%5B-10.9298%2C%20-69.5738%5D%2C%20%5B-9.81528%2C%20-67.955%5D%2C%20%5B-8.170539999999999%2C%20-70.351%5D%2C%20%5B-7.738639999999999%2C%20-72.661%5D%2C%20%5B-3.58574%2C%20-59.1256%5D%2C%20%5B-3.89874%2C%20-61.3616%5D%2C%20%5B-8.74232%2C%20-67.3919%5D%2C%20%5B-3.3153699999999997%2C%20-61.2206%5D%2C%20%5B-4.094119999999999%2C%20-63.1441%5D%2C%20%5B-2.52342%2C%20-66.0942%5D%2C%20%5B-7.53797%2C%20-72.5907%5D%2C%20%5B-6.43852%2C%20-68.2437%5D%2C%20%5B-3.4843800000000003%2C%20-66.0718%5D%2C%20%5B-2.75814%2C%20-66.7595%5D%2C%20%5B-1.85313%2C%20-65.57300000000001%5D%2C%20%5B-5.12593%2C%20-60.3732%5D%2C%20%5B-2.55915%2C%20-57.8731%5D%2C%20%5B-2.99609%2C%20-65.1133%5D%2C%20%5B2.98858%2C%20-61.3072%5D%2C%20%5B-0.154874%2C%20-50.3861%5D%2C%20%5B-1.36391%2C%20-48.3743%5D%2C%20%5B-1.0510899999999999%2C%20-46.6147%5D%2C%20%5B-1.90057%2C%20-50.1987%5D%2C%20%5B-1.06126%2C%20-46.7826%5D%2C%20%5B-1.6803599999999999%2C%20-50.4791%5D%2C%20%5B-1.75974%2C%20-46.5459%5D%2C%20%5B-6.49659%2C%20-49.8776%5D%2C%20%5B-0.164154%2C%20-49.986999999999995%5D%2C%20%5B-1.8117900000000002%2C%20-49.7952%5D%2C%20%5B-6.10389%2C%20-49.3553%5D%2C%20%5B-5.38075%2C%20-49.1327%5D%2C%20%5B-1.36002%2C%20-48.3421%5D%2C%20%5B-1.93639%2C%20-50.8194%5D%2C%20%5B-1.74691%2C%20-52.2361%5D%2C%20%5B-1.1921899999999999%2C%20-48.238%5D%2C%20%5B-2.4384900000000003%2C%20-54.6996%5D%2C%20%5B-6.39471%2C%20-48.5592%5D%2C%20%5B-0.857885%2C%20-47.918%5D%2C%20%5B-5.36334%2C%20-48.7926%5D%2C%20%5B-4.3124199999999995%2C%20-51.5764%5D%2C%20%5B-1.07653%2C%20-46.9031%5D%2C%20%5B-3.7500699999999996%2C%20-47.4892%5D%2C%20%5B-1.1912399999999999%2C%20-46.1399%5D%2C%20%5B0.6021850000000001%2C%20-50.6996%5D%2C%20%5B-10.442%2C%20-49.1876%5D%2C%20%5B-6.44005%2C%20-48.1371%5D%2C%20%5B-12.538%2C%20-49.9242%5D%2C%20%5B-10.5712%2C%20-63.6266%5D%2C%20%5B-8.7907%2C%20-63.7005%5D%2C%20%5B-11.029000000000002%2C%20-62.6696%5D%2C%20%5B-9.81528%2C%20-67.955%5D%2C%20%5B-11.0188%2C%20-68.7341%5D%2C%20%5B-7.738639999999999%2C%20-72.661%5D%2C%20%5B-5.80462%2C%20-61.2895%5D%2C%20%5B-5.12593%2C%20-60.3732%5D%2C%20%5B-7.71311%2C%20-66.992%5D%2C%20%5B-2.99609%2C%20-65.1133%5D%2C%20%5B2.60994%2C%20-60.6058%5D%2C%20%5B0.951659%2C%20-59.9133%5D%2C%20%5B-0.154874%2C%20-50.3861%5D%2C%20%5B-6.79053%2C%20-50.4791%5D%2C%20%5B-1.36391%2C%20-48.3743%5D%2C%20%5B-1.90057%2C%20-50.1987%5D%2C%20%5B-3.7719099999999997%2C%20-49.5735%5D%2C%20%5B-1.6803599999999999%2C%20-50.4791%5D%2C%20%5B-1.75974%2C%20-46.5459%5D%2C%20%5B-0.164154%2C%20-49.986999999999995%5D%2C%20%5B-7.810969999999999%2C%20-50.7698%5D%2C%20%5B-1.8117900000000002%2C%20-49.7952%5D%2C%20%5B-6.10389%2C%20-49.3553%5D%2C%20%5B-3.8433800000000002%2C%20-49.0974%5D%2C%20%5B-1.97533%2C%20-48.9575%5D%2C%20%5B-1.4349%2C%20-47.9114%5D%2C%20%5B-5.13272%2C%20-49.3358%5D%2C%20%5B-6.21469%2C%20-57.7544%5D%2C%20%5B-0.7147020000000001%2C%20-47.7034%5D%2C%20%5B-1.8032%2C%20-50.7149%5D%2C%20%5B-1.8899299999999999%2C%20-48.7668%5D%2C%20%5B-1.3958700000000002%2C%20-48.8661%5D%2C%20%5B-1.93639%2C%20-50.8194%5D%2C%20%5B-8.02529%2C%20-50.0317%5D%2C%20%5B-2.4384900000000003%2C%20-54.6996%5D%2C%20%5B-6.39471%2C%20-48.5592%5D%2C%20%5B-0.780222%2C%20-47.181000000000004%5D%2C%20%5B-0.73032%2C%20-48.5015%5D%2C%20%5B-1.07653%2C%20-46.9031%5D%2C%20%5B-1.1912399999999999%2C%20-46.1399%5D%2C%20%5B0.6021850000000001%2C%20-50.6996%5D%2C%20%5B-0.11335999999999999%2C%20-51.2891%5D%2C%20%5B-6.715910000000001%2C%20-47.7597%5D%2C%20%5B-12.1312%2C%20-49.1748%5D%2C%20%5B-7.1466899999999995%2C%20-48.6091%5D%2C%20%5B-6.77302%2C%20-48.2958%5D%2C%20%5B-8.7227%2C%20-47.2421%5D%2C%20%5B-10.2746%2C%20-47.8033%5D%2C%20%5B-12.1873%2C%20-46.9797%5D%5D%2C%0A%20%20%20%20%20%20%20%20%20%20%20%20%20%20%20%20%7B%22blur%22%3A%2015%2C%20%22maxZoom%22%3A%2018%2C%20%22minOpacity%22%3A%200.5%2C%20%22radius%22%3A%2025%7D%0A%20%20%20%20%20%20%20%20%20%20%20%20%29.addTo%28map_66a03632fd674b0a8de7ff3256038805%29%3B%0A%20%20%20%20%20%20%20%20%0A%3C/script%3E onload=\"this.contentDocument.open();this.contentDocument.write(    decodeURIComponent(this.getAttribute('data-html')));this.contentDocument.close();\" allowfullscreen webkitallowfullscreen mozallowfullscreen></iframe></div></div>"
      ],
      "text/plain": [
       "<folium.folium.Map at 0x2454b50b9b0>"
      ]
     },
     "execution_count": 31,
     "metadata": {},
     "output_type": "execute_result"
    }
   ],
   "source": [
    "# Renderizando o mapa\n",
    "mapa = folium.Map(location=[-15.788497,-47.879873],zoom_start=4.5,tiles='Stamen Toner')\n",
    "\n",
    "\n",
    "# Adicionando os registros no mapa de calor:\n",
    "from folium import plugins\n",
    "\n",
    "mapa.add_child(plugins.HeatMap(coordenadas))        \n",
    "mapa"
   ]
  },
  {
   "cell_type": "code",
   "execution_count": 41,
   "metadata": {},
   "outputs": [
    {
     "data": {
      "text/plain": [
       "Pará         74\n",
       "Amazonas     30\n",
       "Tocantins    13\n",
       "Acre         13\n",
       "Rondônia     11\n",
       "Amapá         6\n",
       "Roraima       4\n",
       "Name: UF, dtype: int64"
      ]
     },
     "execution_count": 41,
     "metadata": {},
     "output_type": "execute_result"
    }
   ],
   "source": [
    "#Quantidade de municipios menor de 50% na segunda dose\n",
    "pd.value_counts(df_municipios_2d_50[\"UF\"])"
   ]
  },
  {
   "cell_type": "markdown",
   "metadata": {},
   "source": [
    "#### Municipios com aplicação ideal na primeira dose, entre 95% e 120%"
   ]
  },
  {
   "cell_type": "code",
   "execution_count": 32,
   "metadata": {},
   "outputs": [],
   "source": [
    "df_municipios_1d_ideal = df_vacinas[(df_vacinas[\"CV_SCR1\"] >= 95) & (df_vacinas[\"CV_SCR1\"] <= 120)]"
   ]
  },
  {
   "cell_type": "code",
   "execution_count": 30,
   "metadata": {},
   "outputs": [
    {
     "data": {
      "text/plain": [
       "(438, 29)"
      ]
     },
     "execution_count": 30,
     "metadata": {},
     "output_type": "execute_result"
    }
   ],
   "source": [
    "df_municipios_1d_ideal.shape\n"
   ]
  },
  {
   "cell_type": "code",
   "execution_count": 34,
   "metadata": {},
   "outputs": [
    {
     "data": {
      "text/html": [
       "<div>\n",
       "<style scoped>\n",
       "    .dataframe tbody tr th:only-of-type {\n",
       "        vertical-align: middle;\n",
       "    }\n",
       "\n",
       "    .dataframe tbody tr th {\n",
       "        vertical-align: top;\n",
       "    }\n",
       "\n",
       "    .dataframe thead th {\n",
       "        text-align: right;\n",
       "    }\n",
       "</style>\n",
       "<table border=\"1\" class=\"dataframe\">\n",
       "  <thead>\n",
       "    <tr style=\"text-align: right;\">\n",
       "      <th></th>\n",
       "      <th>COD</th>\n",
       "      <th>CODMUN7</th>\n",
       "      <th>UF</th>\n",
       "      <th>ANO</th>\n",
       "      <th>MUNICIPIO</th>\n",
       "      <th>CV_SCR1</th>\n",
       "      <th>CV_SCR2</th>\n",
       "      <th>POPRURAL</th>\n",
       "      <th>POPURB</th>\n",
       "      <th>RDPC</th>\n",
       "      <th>...</th>\n",
       "      <th>POPDOMCHEFMULHERES</th>\n",
       "      <th>DENSDEMOG2010</th>\n",
       "      <th>PERC_NV_7CPN</th>\n",
       "      <th>COBERTURA_AB</th>\n",
       "      <th>codigo_ibge</th>\n",
       "      <th>nome</th>\n",
       "      <th>latitude</th>\n",
       "      <th>longitude</th>\n",
       "      <th>capital</th>\n",
       "      <th>codigo_uf</th>\n",
       "    </tr>\n",
       "  </thead>\n",
       "  <tbody>\n",
       "    <tr>\n",
       "      <th>0</th>\n",
       "      <td>110001</td>\n",
       "      <td>1100015</td>\n",
       "      <td>Rondônia</td>\n",
       "      <td>2016</td>\n",
       "      <td>Alta Floresta D'Oeste</td>\n",
       "      <td>96.449997</td>\n",
       "      <td>92.080002</td>\n",
       "      <td>42.73</td>\n",
       "      <td>57.270000</td>\n",
       "      <td>476.989990</td>\n",
       "      <td>...</td>\n",
       "      <td>26.920000</td>\n",
       "      <td>3.45</td>\n",
       "      <td>67.180000</td>\n",
       "      <td>80.930000</td>\n",
       "      <td>1100015</td>\n",
       "      <td>Alta Floresta D'Oeste</td>\n",
       "      <td>-11.92830</td>\n",
       "      <td>-61.9953</td>\n",
       "      <td>0</td>\n",
       "      <td>11</td>\n",
       "    </tr>\n",
       "    <tr>\n",
       "      <th>1</th>\n",
       "      <td>110002</td>\n",
       "      <td>1100023</td>\n",
       "      <td>Rondônia</td>\n",
       "      <td>2016</td>\n",
       "      <td>Ariquemes</td>\n",
       "      <td>98.919998</td>\n",
       "      <td>89.519997</td>\n",
       "      <td>15.30</td>\n",
       "      <td>84.699997</td>\n",
       "      <td>689.950012</td>\n",
       "      <td>...</td>\n",
       "      <td>32.630001</td>\n",
       "      <td>20.41</td>\n",
       "      <td>72.620003</td>\n",
       "      <td>61.919998</td>\n",
       "      <td>1100023</td>\n",
       "      <td>Ariquemes</td>\n",
       "      <td>-9.90571</td>\n",
       "      <td>-63.0325</td>\n",
       "      <td>0</td>\n",
       "      <td>11</td>\n",
       "    </tr>\n",
       "  </tbody>\n",
       "</table>\n",
       "<p>2 rows × 35 columns</p>\n",
       "</div>"
      ],
      "text/plain": [
       "      COD  CODMUN7        UF   ANO              MUNICIPIO    CV_SCR1  \\\n",
       "0  110001  1100015  Rondônia  2016  Alta Floresta D'Oeste  96.449997   \n",
       "1  110002  1100023  Rondônia  2016              Ariquemes  98.919998   \n",
       "\n",
       "     CV_SCR2  POPRURAL     POPURB        RDPC    ...      POPDOMCHEFMULHERES  \\\n",
       "0  92.080002     42.73  57.270000  476.989990    ...               26.920000   \n",
       "1  89.519997     15.30  84.699997  689.950012    ...               32.630001   \n",
       "\n",
       "   DENSDEMOG2010  PERC_NV_7CPN  COBERTURA_AB  codigo_ibge  \\\n",
       "0           3.45     67.180000     80.930000      1100015   \n",
       "1          20.41     72.620003     61.919998      1100023   \n",
       "\n",
       "                    nome  latitude  longitude  capital  codigo_uf  \n",
       "0  Alta Floresta D'Oeste -11.92830   -61.9953        0         11  \n",
       "1              Ariquemes  -9.90571   -63.0325        0         11  \n",
       "\n",
       "[2 rows x 35 columns]"
      ]
     },
     "execution_count": 34,
     "metadata": {},
     "output_type": "execute_result"
    }
   ],
   "source": [
    "# Merge dataset vacinas e geolocalização\n",
    "df_municipios_1d_ideal = pd.merge(df_municipios_1d_ideal, df_municipios, how='left', left_on='CODMUN7', right_on='codigo_ibge')\n",
    "df_municipios_1d_ideal.shape\n",
    "df_municipios_1d_ideal.head(2)"
   ]
  },
  {
   "cell_type": "code",
   "execution_count": 35,
   "metadata": {},
   "outputs": [],
   "source": [
    "# Extraindo as coordenadas\n",
    "coordenadas=[]\n",
    "for lat,lng in zip(df_municipios_1d_ideal.latitude.values,df_municipios_1d_ideal.longitude.values):\n",
    "  coordenadas.append([lat,lng])"
   ]
  },
  {
   "cell_type": "code",
   "execution_count": 36,
   "metadata": {},
   "outputs": [
    {
     "data": {
      "text/html": [
       "<div style=\"width:100%;\"><div style=\"position:relative;width:100%;height:0;padding-bottom:60%;\"><span style=\"color:#565656\">Make this Notebook Trusted to load map: File -> Trust Notebook</span><iframe src=\"about:blank\" style=\"position:absolute;width:100%;height:100%;left:0;top:0;border:none !important;\" data-html=%3C%21DOCTYPE%20html%3E%0A%3Chead%3E%20%20%20%20%0A%20%20%20%20%3Cmeta%20http-equiv%3D%22content-type%22%20content%3D%22text/html%3B%20charset%3DUTF-8%22%20/%3E%0A%20%20%20%20%0A%20%20%20%20%20%20%20%20%3Cscript%3E%0A%20%20%20%20%20%20%20%20%20%20%20%20L_NO_TOUCH%20%3D%20false%3B%0A%20%20%20%20%20%20%20%20%20%20%20%20L_DISABLE_3D%20%3D%20false%3B%0A%20%20%20%20%20%20%20%20%3C/script%3E%0A%20%20%20%20%0A%20%20%20%20%3Cstyle%3Ehtml%2C%20body%20%7Bwidth%3A%20100%25%3Bheight%3A%20100%25%3Bmargin%3A%200%3Bpadding%3A%200%3B%7D%3C/style%3E%0A%20%20%20%20%3Cstyle%3E%23map%20%7Bposition%3Aabsolute%3Btop%3A0%3Bbottom%3A0%3Bright%3A0%3Bleft%3A0%3B%7D%3C/style%3E%0A%20%20%20%20%3Cscript%20src%3D%22https%3A//cdn.jsdelivr.net/npm/leaflet%401.6.0/dist/leaflet.js%22%3E%3C/script%3E%0A%20%20%20%20%3Cscript%20src%3D%22https%3A//code.jquery.com/jquery-1.12.4.min.js%22%3E%3C/script%3E%0A%20%20%20%20%3Cscript%20src%3D%22https%3A//maxcdn.bootstrapcdn.com/bootstrap/3.2.0/js/bootstrap.min.js%22%3E%3C/script%3E%0A%20%20%20%20%3Cscript%20src%3D%22https%3A//cdnjs.cloudflare.com/ajax/libs/Leaflet.awesome-markers/2.0.2/leaflet.awesome-markers.js%22%3E%3C/script%3E%0A%20%20%20%20%3Clink%20rel%3D%22stylesheet%22%20href%3D%22https%3A//cdn.jsdelivr.net/npm/leaflet%401.6.0/dist/leaflet.css%22/%3E%0A%20%20%20%20%3Clink%20rel%3D%22stylesheet%22%20href%3D%22https%3A//maxcdn.bootstrapcdn.com/bootstrap/3.2.0/css/bootstrap.min.css%22/%3E%0A%20%20%20%20%3Clink%20rel%3D%22stylesheet%22%20href%3D%22https%3A//maxcdn.bootstrapcdn.com/bootstrap/3.2.0/css/bootstrap-theme.min.css%22/%3E%0A%20%20%20%20%3Clink%20rel%3D%22stylesheet%22%20href%3D%22https%3A//maxcdn.bootstrapcdn.com/font-awesome/4.6.3/css/font-awesome.min.css%22/%3E%0A%20%20%20%20%3Clink%20rel%3D%22stylesheet%22%20href%3D%22https%3A//cdnjs.cloudflare.com/ajax/libs/Leaflet.awesome-markers/2.0.2/leaflet.awesome-markers.css%22/%3E%0A%20%20%20%20%3Clink%20rel%3D%22stylesheet%22%20href%3D%22https%3A//cdn.jsdelivr.net/gh/python-visualization/folium/folium/templates/leaflet.awesome.rotate.min.css%22/%3E%0A%20%20%20%20%0A%20%20%20%20%20%20%20%20%20%20%20%20%3Cmeta%20name%3D%22viewport%22%20content%3D%22width%3Ddevice-width%2C%0A%20%20%20%20%20%20%20%20%20%20%20%20%20%20%20%20initial-scale%3D1.0%2C%20maximum-scale%3D1.0%2C%20user-scalable%3Dno%22%20/%3E%0A%20%20%20%20%20%20%20%20%20%20%20%20%3Cstyle%3E%0A%20%20%20%20%20%20%20%20%20%20%20%20%20%20%20%20%23map_1456d99fc13449b3a509446d3ba5c799%20%7B%0A%20%20%20%20%20%20%20%20%20%20%20%20%20%20%20%20%20%20%20%20position%3A%20relative%3B%0A%20%20%20%20%20%20%20%20%20%20%20%20%20%20%20%20%20%20%20%20width%3A%20100.0%25%3B%0A%20%20%20%20%20%20%20%20%20%20%20%20%20%20%20%20%20%20%20%20height%3A%20100.0%25%3B%0A%20%20%20%20%20%20%20%20%20%20%20%20%20%20%20%20%20%20%20%20left%3A%200.0%25%3B%0A%20%20%20%20%20%20%20%20%20%20%20%20%20%20%20%20%20%20%20%20top%3A%200.0%25%3B%0A%20%20%20%20%20%20%20%20%20%20%20%20%20%20%20%20%7D%0A%20%20%20%20%20%20%20%20%20%20%20%20%3C/style%3E%0A%20%20%20%20%20%20%20%20%0A%20%20%20%20%3Cscript%20src%3D%22https%3A//cdn.jsdelivr.net/gh/python-visualization/folium%40master/folium/templates/leaflet_heat.min.js%22%3E%3C/script%3E%0A%3C/head%3E%0A%3Cbody%3E%20%20%20%20%0A%20%20%20%20%0A%20%20%20%20%20%20%20%20%20%20%20%20%3Cdiv%20class%3D%22folium-map%22%20id%3D%22map_1456d99fc13449b3a509446d3ba5c799%22%20%3E%3C/div%3E%0A%20%20%20%20%20%20%20%20%0A%3C/body%3E%0A%3Cscript%3E%20%20%20%20%0A%20%20%20%20%0A%20%20%20%20%20%20%20%20%20%20%20%20var%20map_1456d99fc13449b3a509446d3ba5c799%20%3D%20L.map%28%0A%20%20%20%20%20%20%20%20%20%20%20%20%20%20%20%20%22map_1456d99fc13449b3a509446d3ba5c799%22%2C%0A%20%20%20%20%20%20%20%20%20%20%20%20%20%20%20%20%7B%0A%20%20%20%20%20%20%20%20%20%20%20%20%20%20%20%20%20%20%20%20center%3A%20%5B-15.788497%2C%20-47.879873%5D%2C%0A%20%20%20%20%20%20%20%20%20%20%20%20%20%20%20%20%20%20%20%20crs%3A%20L.CRS.EPSG3857%2C%0A%20%20%20%20%20%20%20%20%20%20%20%20%20%20%20%20%20%20%20%20zoom%3A%204.5%2C%0A%20%20%20%20%20%20%20%20%20%20%20%20%20%20%20%20%20%20%20%20zoomControl%3A%20true%2C%0A%20%20%20%20%20%20%20%20%20%20%20%20%20%20%20%20%20%20%20%20preferCanvas%3A%20false%2C%0A%20%20%20%20%20%20%20%20%20%20%20%20%20%20%20%20%7D%0A%20%20%20%20%20%20%20%20%20%20%20%20%29%3B%0A%0A%20%20%20%20%20%20%20%20%20%20%20%20%0A%0A%20%20%20%20%20%20%20%20%0A%20%20%20%20%0A%20%20%20%20%20%20%20%20%20%20%20%20var%20tile_layer_dbec7e6eeb7d4c2f8fbaf7adfe3192aa%20%3D%20L.tileLayer%28%0A%20%20%20%20%20%20%20%20%20%20%20%20%20%20%20%20%22https%3A//stamen-tiles-%7Bs%7D.a.ssl.fastly.net/toner/%7Bz%7D/%7Bx%7D/%7By%7D.png%22%2C%0A%20%20%20%20%20%20%20%20%20%20%20%20%20%20%20%20%7B%22attribution%22%3A%20%22Map%20tiles%20by%20%5Cu003ca%20href%3D%5C%22http%3A//stamen.com%5C%22%5Cu003eStamen%20Design%5Cu003c/a%5Cu003e%2C%20under%20%5Cu003ca%20href%3D%5C%22http%3A//creativecommons.org/licenses/by/3.0%5C%22%5Cu003eCC%20BY%203.0%5Cu003c/a%5Cu003e.%20Data%20by%20%5Cu0026copy%3B%20%5Cu003ca%20href%3D%5C%22http%3A//openstreetmap.org%5C%22%5Cu003eOpenStreetMap%5Cu003c/a%5Cu003e%2C%20under%20%5Cu003ca%20href%3D%5C%22http%3A//www.openstreetmap.org/copyright%5C%22%5Cu003eODbL%5Cu003c/a%5Cu003e.%22%2C%20%22detectRetina%22%3A%20false%2C%20%22maxNativeZoom%22%3A%2018%2C%20%22maxZoom%22%3A%2018%2C%20%22minZoom%22%3A%200%2C%20%22noWrap%22%3A%20false%2C%20%22opacity%22%3A%201%2C%20%22subdomains%22%3A%20%22abc%22%2C%20%22tms%22%3A%20false%7D%0A%20%20%20%20%20%20%20%20%20%20%20%20%29.addTo%28map_1456d99fc13449b3a509446d3ba5c799%29%3B%0A%20%20%20%20%20%20%20%20%0A%20%20%20%20%0A%20%20%20%20%20%20%20%20%20%20%20%20var%20heat_map_09f287660a0542c9bd620ffa7953c047%20%3D%20L.heatLayer%28%0A%20%20%20%20%20%20%20%20%20%20%20%20%20%20%20%20%5B%5B-11.9283%2C%20-61.9953%5D%2C%20%5B-9.905710000000001%2C%20-63.0325%5D%2C%20%5B-13.4945%2C%20-60.552%5D%2C%20%5B-11.4343%2C%20-61.4562%5D%2C%20%5B-13.187000000000001%2C%20-60.8168%5D%2C%20%5B-12.9551%2C%20-60.8947%5D%2C%20%5B-10.7889%2C%20-65.3296%5D%2C%20%5B-10.4318%2C%20-62.4788%5D%2C%20%5B-10.8777%2C%20-61.9322%5D%2C%20%5B-9.44363%2C%20-61.9818%5D%2C%20%5B-11.7247%2C%20-62.3127%5D%2C%20%5B-11.672%2C%20-61.198%5D%2C%20%5B-8.760769999999999%2C%20-63.8999%5D%2C%20%5B-11.7271%2C%20-61.7714%5D%2C%20%5B-11.9074%2C%20-61.7777%5D%2C%20%5B-12.7502%2C%20-60.1488%5D%2C%20%5B-11.6953%2C%20-62.7192%5D%2C%20%5B-10.4077%2C%20-65.3346%5D%2C%20%5B-11.6961%2C%20-61.9951%5D%2C%20%5B-11.4253%2C%20-61.9482%5D%2C%20%5B-12.1754%2C%20-61.6032%5D%2C%20%5B-11.9023%2C%20-61.5026%5D%2C%20%5B-12.052%2C%20-63.568000000000005%5D%2C%20%5B-11.8055%2C%20-63.0182%5D%2C%20%5B-10.9056%2C%20-62.242%5D%2C%20%5B-10.4465%2C%20-62.1352%5D%2C%20%5B-9.43091%2C%20-71.8974%5D%2C%20%5B-10.2806%2C%20-67.1371%5D%2C%20%5B-7.738639999999999%2C%20-72.661%5D%2C%20%5B-7.194089999999999%2C%20-59.896%5D%2C%20%5B-2.9740900000000003%2C%20-57.5873%5D%2C%20%5B-4.39154%2C%20-59.5874%5D%2C%20%5B-6.5258199999999995%2C%20-64.3953%5D%2C%20%5B-3.8305300000000004%2C%20-62.0658%5D%2C%20%5B-3.2747900000000003%2C%20-60.19%5D%2C%20%5B-2.7408099999999997%2C%20-58.0293%5D%2C%20%5B-7.264130000000001%2C%20-64.7948%5D%2C%20%5B-3.1186599999999998%2C%20-60.0212%5D%2C%20%5B-2.7045%2C%20-59.6858%5D%2C%20%5B-2.8174799999999998%2C%20-58.248000000000005%5D%2C%20%5B-4.2416%2C%20-69.9383%5D%2C%20%5B-2.8658200000000003%2C%20-67.7919%5D%2C%20%5B-2.52936%2C%20-57.7538%5D%2C%20%5B-3.1284099999999997%2C%20-58.1496%5D%2C%20%5B2.98858%2C%20-61.3072%5D%2C%20%5B0.8842030000000001%2C%20-59.6959%5D%2C%20%5B4.60314%2C%20-60.1815%5D%2C%20%5B-3.46985%2C%20-51.2003%5D%2C%20%5B-2.6360900000000003%2C%20-54.9374%5D%2C%20%5B-1.36745%2C%20-47.3066%5D%2C%20%5B-3.2979199999999995%2C%20-52.534%5D%2C%20%5B-1.12539%2C%20-47.626000000000005%5D%2C%20%5B-5.13272%2C%20-49.3358%5D%2C%20%5B-0.803391%2C%20-47.6014%5D%2C%20%5B-1.20874%2C%20-47.3921%5D%2C%20%5B-7.14347%2C%20-55.3786%5D%2C%20%5B-1.3958700000000002%2C%20-48.8661%5D%2C%20%5B-0.8996040000000001%2C%20-47.0134%5D%2C%20%5B-0.758444%2C%20-48.5139%5D%2C%20%5B-8.85784%2C%20-49.7215%5D%2C%20%5B-1.16963%2C%20-47.7917%5D%2C%20%5B-1.71597%2C%20-49.5249%5D%2C%20%5B-4.5734699999999995%2C%20-55.9429%5D%2C%20%5B2.05267%2C%20-50.7957%5D%2C%20%5B0.8572559999999999%2C%20-51.1795%5D%2C%20%5B0.034934%2C%20-51.0694%5D%2C%20%5B-0.045433999999999995%2C%20-51.1729%5D%2C%20%5B-9.62101%2C%20-49.1518%5D%2C%20%5B-6.5540899999999995%2C%20-47.4702%5D%2C%20%5B-11.3056%2C%20-48.9361%5D%2C%20%5B-12.4785%2C%20-49.1249%5D%2C%20%5B-6.36437%2C%20-48.0735%5D%2C%20%5B-6.39179%2C%20-47.8611%5D%2C%20%5B-9.94139%2C%20-47.9638%5D%2C%20%5B-8.80755%2C%20-49.5569%5D%2C%20%5B-12.9289%2C%20-49.8231%5D%2C%20%5B-6.58225%2C%20-48.6395%5D%2C%20%5B-7.65463%2C%20-49.0637%5D%2C%20%5B-5.61275%2C%20-47.7701%5D%2C%20%5B-8.96306%2C%20-48.165%5D%2C%20%5B-8.38918%2C%20-48.4822%5D%2C%20%5B-11.0058%2C%20-48.5683%5D%2C%20%5B-7.989560000000001%2C%20-46.8645%5D%2C%20%5B-11.8881%2C%20-49.1609%5D%2C%20%5B-7.03262%2C%20-48.3978%5D%2C%20%5B-5.31415%2C%20-48.0314%5D%2C%20%5B-9.27612%2C%20-49.9521%5D%2C%20%5B-11.6175%2C%20-47.7486%5D%2C%20%5B-11.624%2C%20-46.8198%5D%2C%20%5B-11.3416%2C%20-49.2716%5D%2C%20%5B-11.7976%2C%20-49.5316%5D%2C%20%5B-8.77413%2C%20-48.9313%5D%2C%20%5B-5.77267%2C%20-47.4864%5D%2C%20%5B-12.6509%2C%20-48.589%5D%2C%20%5B-9.74996%2C%20-48.3565%5D%2C%20%5B-6.17794%2C%20-47.8582%5D%2C%20%5B-9.79377%2C%20-49.6553%5D%2C%20%5B-10.7611%2C%20-48.1114%5D%2C%20%5B-7.1466899999999995%2C%20-48.6091%5D%2C%20%5B-10.5651%2C%20-48.9125%5D%2C%20%5B-9.97063%2C%20-47.6785%5D%2C%20%5B-11.825999999999999%2C%20-46.6325%5D%2C%20%5B-12.6167%2C%20-47.8734%5D%2C%20%5B-7.53919%2C%20-49.367%5D%2C%20%5B-12.0254%2C%20-48.5395%5D%2C%20%5B-8.5932%2C%20-48.9327%5D%2C%20%5B-8.72463%2C%20-48.7638%5D%2C%20%5B-11.1311%2C%20-47.5726%5D%2C%20%5B-10.442%2C%20-49.1876%5D%2C%20%5B-12.0853%2C%20-46.4825%5D%2C%20%5B-10.7481%2C%20-47.5276%5D%2C%20%5B-11.618%2C%20-47.0621%5D%2C%20%5B-9.34425%2C%20-48.5245%5D%2C%20%5B-9.350019999999999%2C%20-47.888000000000005%5D%2C%20%5B-7.15803%2C%20-48.7165%5D%2C%20%5B-11.4474%2C%20-48.1216%5D%2C%20%5B-10.2746%2C%20-47.8033%5D%2C%20%5B-10.1615%2C%20-46.6618%5D%2C%20%5B-11.993%2C%20-48.9685%5D%2C%20%5B-12.4026%2C%20-46.437%5D%2C%20%5B-9.5632%2C%20-48.3741%5D%2C%20%5B-8.971680000000001%2C%20-48.1883%5D%2C%20%5B-8.393880000000001%2C%20-48.1277%5D%2C%20%5B-9.905710000000001%2C%20-63.0325%5D%2C%20%5B-13.187000000000001%2C%20-60.8168%5D%2C%20%5B-11.5266%2C%20-61.0252%5D%2C%20%5B-10.4318%2C%20-62.4788%5D%2C%20%5B-10.8777%2C%20-61.9322%5D%2C%20%5B-11.7247%2C%20-62.3127%5D%2C%20%5B-10.7167%2C%20-62.2565%5D%2C%20%5B-11.672%2C%20-61.198%5D%2C%20%5B-8.760769999999999%2C%20-63.8999%5D%2C%20%5B-11.9074%2C%20-61.7777%5D%2C%20%5B-12.7502%2C%20-60.1488%5D%2C%20%5B-11.3463%2C%20-62.2847%5D%2C%20%5B-12.132%2C%20-61.835%5D%2C%20%5B-11.6961%2C%20-61.9951%5D%2C%20%5B-10.349%2C%20-62.9043%5D%2C%20%5B-8.7907%2C%20-63.7005%5D%2C%20%5B-12.5611%2C%20-60.8877%5D%2C%20%5B-11.196%2C%20-61.5174%5D%2C%20%5B-12.1754%2C%20-61.6032%5D%2C%20%5B-11.8295%2C%20-61.3153%5D%2C%20%5B-11.9023%2C%20-61.5026%5D%2C%20%5B-11.1261%2C%20-62.3639%5D%2C%20%5B-10.4465%2C%20-62.1352%5D%2C%20%5B-10.995%2C%20-68.7497%5D%2C%20%5B-10.565999999999999%2C%20-67.686%5D%2C%20%5B-9.43091%2C%20-71.8974%5D%2C%20%5B-8.83291%2C%20-69.2679%5D%2C%20%5B-10.2806%2C%20-67.1371%5D%2C%20%5B-8.26323%2C%20-72.7537%5D%2C%20%5B-9.06596%2C%20-68.6571%5D%2C%20%5B-8.15697%2C%20-70.7722%5D%2C%20%5B-3.37455%2C%20-68.2005%5D%2C%20%5B-3.74603%2C%20-61.6575%5D%2C%20%5B-7.194089999999999%2C%20-59.896%5D%2C%20%5B-4.37055%2C%20-70.1967%5D%2C%20%5B-4.377680000000001%2C%20-70.0342%5D%2C%20%5B-2.9740900000000003%2C%20-57.5873%5D%2C%20%5B-6.5258199999999995%2C%20-64.3953%5D%2C%20%5B-4.88161%2C%20-66.9086%5D%2C%20%5B-3.7680300000000004%2C%20-60.369%5D%2C%20%5B-3.8305300000000004%2C%20-62.0658%5D%2C%20%5B-3.2747900000000003%2C%20-60.19%5D%2C%20%5B-2.7408099999999997%2C%20-58.0293%5D%2C%20%5B-7.264130000000001%2C%20-64.7948%5D%2C%20%5B-3.44078%2C%20-60.4612%5D%2C%20%5B-2.63741%2C%20-56.729%5D%2C%20%5B-2.02981%2C%20-60.0234%5D%2C%20%5B-2.7045%2C%20-59.6858%5D%2C%20%5B-3.09544%2C%20-67.9463%5D%2C%20%5B-3.47292%2C%20-68.9646%5D%2C%20%5B-2.8174799999999998%2C%20-58.248000000000005%5D%2C%20%5B-4.2416%2C%20-69.9383%5D%2C%20%5B-5.62085%2C%20-63.1808%5D%2C%20%5B-3.3682199999999995%2C%20-64.7193%5D%2C%20%5B-2.52936%2C%20-57.7538%5D%2C%20%5B-3.1284099999999997%2C%20-58.1496%5D%2C%20%5B2.82384%2C%20-60.6753%5D%2C%20%5B1.8276599999999998%2C%20-61.1304%5D%2C%20%5B0.8842030000000001%2C%20-59.6959%5D%2C%20%5B2.43998%2C%20-60.9096%5D%2C%20%5B4.4799%2C%20-61.1477%5D%2C%20%5B0.951659%2C%20-59.9133%5D%2C%20%5B-3.46985%2C%20-51.2003%5D%2C%20%5B-5.0424%2C%20-48.6047%5D%2C%20%5B-1.36745%2C%20-47.3066%5D%2C%20%5B-2.24295%2C%20-49.4979%5D%2C%20%5B-1.20529%2C%20-47.1778%5D%2C%20%5B-1.9923799999999998%2C%20-47.9422%5D%2C%20%5B-1.88775%2C%20-55.1168%5D%2C%20%5B-2.16805%2C%20-56.7405%5D%2C%20%5B-1.92986%2C%20-47.0505%5D%2C%20%5B-3.4463699999999995%2C%20-52.8875%5D%2C%20%5B-2.26693%2C%20-46.9731%5D%2C%20%5B-1.20874%2C%20-47.3921%5D%2C%20%5B-1.54168%2C%20-47.1126%5D%2C%20%5B-1.19382%2C%20-47.324%5D%2C%20%5B-1.3958700000000002%2C%20-48.8661%5D%2C%20%5B-0.9454389999999999%2C%20-47.1253%5D%2C%20%5B-0.630815%2C%20-47.3465%5D%2C%20%5B-0.9309700000000001%2C%20-47.3855%5D%2C%20%5B-0.747293%2C%20-48.0246%5D%2C%20%5B-5.537319999999999%2C%20-48.7366%5D%2C%20%5B-1.6876799999999998%2C%20-47.7665%5D%2C%20%5B-1.16963%2C%20-47.7917%5D%2C%20%5B-1.61307%2C%20-47.4784%5D%2C%20%5B-1.0296299999999998%2C%20-47.9004%5D%2C%20%5B-6.7468699999999995%2C%20-51.1626%5D%2C%20%5B2.05267%2C%20-50.7957%5D%2C%20%5B0.8572559999999999%2C%20-51.1795%5D%2C%20%5B1.74543%2C%20-50.7892%5D%2C%20%5B1.50652%2C%20-50.9087%5D%2C%20%5B-9.62101%2C%20-49.1518%5D%2C%20%5B-11.3056%2C%20-48.9361%5D%2C%20%5B-11.5706%2C%20-47.1792%5D%2C%20%5B-6.36437%2C%20-48.0735%5D%2C%20%5B-6.39179%2C%20-47.8611%5D%2C%20%5B-9.94139%2C%20-47.9638%5D%2C%20%5B-7.16005%2C%20-48.5291%5D%2C%20%5B-7.65463%2C%20-49.0637%5D%2C%20%5B-12.9287%2C%20-46.9359%5D%2C%20%5B-5.46863%2C%20-47.8863%5D%2C%20%5B-12.7105%2C%20-46.4076%5D%2C%20%5B-7.209230000000001%2C%20-47.7613%5D%2C%20%5B-7.695930000000001%2C%20-47.6776%5D%2C%20%5B-9.83404%2C%20-48.7252%5D%2C%20%5B-7.874810000000001%2C%20-48.8893%5D%2C%20%5B-8.96306%2C%20-48.165%5D%2C%20%5B-11.0058%2C%20-48.5683%5D%2C%20%5B-5.3144800000000005%2C%20-48.2271%5D%2C%20%5B-6.1156%2C%20-47.9234%5D%2C%20%5B-7.03262%2C%20-48.3978%5D%2C%20%5B-5.31415%2C%20-48.0314%5D%2C%20%5B-11.0994%2C%20-48.9152%5D%2C%20%5B-6.715910000000001%2C%20-47.7597%5D%2C%20%5B-9.800180000000001%2C%20-49.2169%5D%2C%20%5B-9.255339999999999%2C%20-49.0638%5D%2C%20%5B-11.3416%2C%20-49.2716%5D%2C%20%5B-5.77267%2C%20-47.4864%5D%2C%20%5B-8.37982%2C%20-48.1072%5D%2C%20%5B-12.6509%2C%20-48.589%5D%2C%20%5B-8.11951%2C%20-49.0643%5D%2C%20%5B-10.7906%2C%20-49.6199%5D%2C%20%5B-10.368%2C%20-47.538000000000004%5D%2C%20%5B-9.74996%2C%20-48.3565%5D%2C%20%5B-12.7847%2C%20-46.5099%5D%2C%20%5B-6.17794%2C%20-47.8582%5D%2C%20%5B-9.565560000000001%2C%20-48.393%5D%2C%20%5B-10.7611%2C%20-48.1114%5D%2C%20%5B-10.0075%2C%20-48.9941%5D%2C%20%5B-6.61658%2C%20-47.5464%5D%2C%20%5B-7.1466899999999995%2C%20-48.6091%5D%2C%20%5B-11.7034%2C%20-47.7223%5D%2C%20%5B-6.37496%2C%20-47.6643%5D%2C%20%5B-7.631710000000001%2C%20-48.4252%5D%2C%20%5B-9.97063%2C%20-47.6785%5D%2C%20%5B-7.847860000000001%2C%20-47.9242%5D%2C%20%5B-12.6167%2C%20-47.8734%5D%2C%20%5B-8.97034%2C%20-48.1729%5D%2C%20%5B-8.72463%2C%20-48.7638%5D%2C%20%5B-11.1311%2C%20-47.5726%5D%2C%20%5B-12.0853%2C%20-46.4825%5D%2C%20%5B-5.39281%2C%20-47.8111%5D%2C%20%5B-8.5406%2C%20-48.5062%5D%2C%20%5B-8.7227%2C%20-47.2421%5D%2C%20%5B-5.35423%2C%20-47.8782%5D%2C%20%5B-7.15803%2C%20-48.7165%5D%2C%20%5B-8.8046%2C%20-47.7887%5D%2C%20%5B-11.4474%2C%20-48.1216%5D%2C%20%5B-6.0258%2C%20-47.9012%5D%2C%20%5B-5.56305%2C%20-47.5743%5D%2C%20%5B-11.1471%2C%20-48.1694%5D%2C%20%5B-11.993%2C%20-48.9685%5D%2C%20%5B-12.4026%2C%20-46.437%5D%2C%20%5B-12.1873%2C%20-46.9797%5D%2C%20%5B-12.7949%2C%20-49.0896%5D%2C%20%5B-9.5632%2C%20-48.3741%5D%2C%20%5B-6.32447%2C%20-47.4224%5D%2C%20%5B-6.85274%2C%20-47.9601%5D%2C%20%5B-6.4141%2C%20-48.532%5D%2C%20%5B-11.9283%2C%20-61.9953%5D%2C%20%5B-13.187000000000001%2C%20-60.8168%5D%2C%20%5B-10.4318%2C%20-62.4788%5D%2C%20%5B-10.8777%2C%20-61.9322%5D%2C%20%5B-9.44363%2C%20-61.9818%5D%2C%20%5B-11.672%2C%20-61.198%5D%2C%20%5B-8.760769999999999%2C%20-63.8999%5D%2C%20%5B-11.7271%2C%20-61.7714%5D%2C%20%5B-11.9074%2C%20-61.7777%5D%2C%20%5B-12.7502%2C%20-60.1488%5D%2C%20%5B-11.3463%2C%20-62.2847%5D%2C%20%5B-12.132%2C%20-61.835%5D%2C%20%5B-10.1943%2C%20-63.8324%5D%2C%20%5B-8.7907%2C%20-63.7005%5D%2C%20%5B-11.196%2C%20-61.5174%5D%2C%20%5B-11.8295%2C%20-61.3153%5D%2C%20%5B-11.9023%2C%20-61.5026%5D%2C%20%5B-11.8055%2C%20-63.0182%5D%2C%20%5B-10.9056%2C%20-62.242%5D%2C%20%5B-11.1261%2C%20-62.3639%5D%2C%20%5B-8.170539999999999%2C%20-70.351%5D%2C%20%5B-8.83291%2C%20-69.2679%5D%2C%20%5B-10.2806%2C%20-67.1371%5D%2C%20%5B-9.97499%2C%20-67.8243%5D%2C%20%5B-9.581380000000001%2C%20-67.5478%5D%2C%20%5B-3.22727%2C%20-64.8007%5D%2C%20%5B-3.74603%2C%20-61.6575%5D%2C%20%5B-3.58574%2C%20-59.1256%5D%2C%20%5B-8.74232%2C%20-67.3919%5D%2C%20%5B-3.3153699999999997%2C%20-61.2206%5D%2C%20%5B-4.094119999999999%2C%20-63.1441%5D%2C%20%5B-6.65677%2C%20-69.8662%5D%2C%20%5B-2.52342%2C%20-66.0942%5D%2C%20%5B-7.511710000000001%2C%20-63.0327%5D%2C%20%5B-3.13861%2C%20-58.4449%5D%2C%20%5B-6.43852%2C%20-68.2437%5D%2C%20%5B-2.7408099999999997%2C%20-58.0293%5D%2C%20%5B-7.264130000000001%2C%20-64.7948%5D%2C%20%5B-3.29066%2C%20-60.6216%5D%2C%20%5B-3.39289%2C%20-57.7067%5D%2C%20%5B-2.2079299999999997%2C%20-56.7112%5D%2C%20%5B-2.63741%2C%20-56.729%5D%2C%20%5B-2.02981%2C%20-60.0234%5D%2C%20%5B-0.11909000000000002%2C%20-67.084%5D%2C%20%5B-3.47292%2C%20-68.9646%5D%2C%20%5B-2.55915%2C%20-57.8731%5D%2C%20%5B-2.8174799999999998%2C%20-58.248000000000005%5D%2C%20%5B-4.2416%2C%20-69.9383%5D%2C%20%5B-2.8658200000000003%2C%20-67.7919%5D%2C%20%5B-2.99609%2C%20-65.1133%5D%2C%20%5B-2.52936%2C%20-57.7538%5D%2C%20%5B3.64571%2C%20-61.3692%5D%2C%20%5B2.82384%2C%20-60.6753%5D%2C%20%5B1.01019%2C%20-60.0419%5D%2C%20%5B-3.20407%2C%20-52.21%5D%2C%20%5B-0.9968110000000001%2C%20-49.9354%5D%2C%20%5B-1.90057%2C%20-50.1987%5D%2C%20%5B-1.51187%2C%20-48.6195%5D%2C%20%5B-1.3618299999999999%2C%20-48.2434%5D%2C%20%5B-5.0424%2C%20-48.6047%5D%2C%20%5B-1.36745%2C%20-47.3066%5D%2C%20%5B-1.51762%2C%20-48.0381%5D%2C%20%5B-6.49659%2C%20-49.8776%5D%2C%20%5B-1.74785%2C%20-47.0629%5D%2C%20%5B-1.9923799999999998%2C%20-47.9422%5D%2C%20%5B-6.09965%2C%20-49.6068%5D%2C%20%5B-0.733214%2C%20-47.8515%5D%2C%20%5B-2.16805%2C%20-56.7405%5D%2C%20%5B-1.12539%2C%20-47.626000000000005%5D%2C%20%5B-4.2667%2C%20-55.9926%5D%2C%20%5B-2.1634700000000002%2C%20-56.0889%5D%2C%20%5B-2.0568299999999997%2C%20-47.5601%5D%2C%20%5B-0.7147020000000001%2C%20-47.7034%5D%2C%20%5B-1.8032%2C%20-50.7149%5D%2C%20%5B-4.24749%2C%20-49.9499%5D%2C%20%5B-1.7598900000000002%2C%20-55.8579%5D%2C%20%5B-1.54168%2C%20-47.1126%5D%2C%20%5B-6.7529%2C%20-51.0858%5D%2C%20%5B-3.00212%2C%20-47.3527%5D%2C%20%5B-1.59772%2C%20-46.9268%5D%2C%20%5B-1.19382%2C%20-47.324%5D%2C%20%5B-3.8681300000000003%2C%20-54.2124%5D%2C%20%5B-1.798%2C%20-53.4779%5D%2C%20%5B-0.9454389999999999%2C%20-47.1253%5D%2C%20%5B-7.312360000000001%2C%20-50.0379%5D%2C%20%5B-4.100280000000001%2C%20-54.9092%5D%2C%20%5B-0.630815%2C%20-47.3465%5D%2C%20%5B-1.1921899999999999%2C%20-48.238%5D%2C%20%5B-1.2968600000000001%2C%20-48.1606%5D%2C%20%5B-5.537319999999999%2C%20-48.7366%5D%2C%20%5B-1.6876799999999998%2C%20-47.7665%5D%2C%20%5B-1.16963%2C%20-47.7917%5D%2C%20%5B-5.36334%2C%20-48.7926%5D%2C%20%5B-1.61307%2C%20-47.4784%5D%2C%20%5B-1.71597%2C%20-49.5249%5D%2C%20%5B-1.0296299999999998%2C%20-47.9004%5D%2C%20%5B-3.7500699999999996%2C%20-47.4892%5D%2C%20%5B-0.861194%2C%20-48.1386%5D%2C%20%5B-2.87922%2C%20-52.0088%5D%2C%20%5B2.50475%2C%20-50.9512%5D%2C%20%5B0.6021850000000001%2C%20-50.6996%5D%2C%20%5B-0.045433999999999995%2C%20-51.1729%5D%2C%20%5B-9.62101%2C%20-49.1518%5D%2C%20%5B-6.5540899999999995%2C%20-47.4702%5D%2C%20%5B-11.5706%2C%20-47.1792%5D%2C%20%5B-6.36437%2C%20-48.0735%5D%2C%20%5B-12.9289%2C%20-49.8231%5D%2C%20%5B-6.58225%2C%20-48.6395%5D%2C%20%5B-7.65463%2C%20-49.0637%5D%2C%20%5B-5.46863%2C%20-47.8863%5D%2C%20%5B-11.0058%2C%20-48.5683%5D%2C%20%5B-7.03262%2C%20-48.3978%5D%2C%20%5B-5.31415%2C%20-48.0314%5D%2C%20%5B-11.6175%2C%20-47.7486%5D%2C%20%5B-12.7917%2C%20-46.5388%5D%2C%20%5B-10.5985%2C%20-49.1942%5D%2C%20%5B-9.800180000000001%2C%20-49.2169%5D%2C%20%5B-11.3416%2C%20-49.2716%5D%2C%20%5B-5.3659300000000005%2C%20-48.5378%5D%2C%20%5B-10.7603%2C%20-48.9076%5D%2C%20%5B-9.05611%2C%20-48.5206%5D%2C%20%5B-8.77413%2C%20-48.9313%5D%2C%20%5B-7.71478%2C%20-47.3252%5D%2C%20%5B-8.83543%2C%20-48.5114%5D%2C%20%5B-8.37982%2C%20-48.1072%5D%2C%20%5B-9.74996%2C%20-48.3565%5D%2C%20%5B-6.17794%2C%20-47.8582%5D%2C%20%5B-9.79377%2C%20-49.6553%5D%2C%20%5B-10.5464%2C%20-46.4168%5D%2C%20%5B-5.95169%2C%20-47.5125%5D%2C%20%5B-9.529069999999999%2C%20-48.5922%5D%2C%20%5B-6.61658%2C%20-47.5464%5D%2C%20%5B-6.37496%2C%20-47.6643%5D%2C%20%5B-10.5651%2C%20-48.9125%5D%2C%20%5B-9.97063%2C%20-47.6785%5D%2C%20%5B-11.825999999999999%2C%20-46.6325%5D%2C%20%5B-12.6167%2C%20-47.8734%5D%2C%20%5B-7.53919%2C%20-49.367%5D%2C%20%5B-8.72463%2C%20-48.7638%5D%2C%20%5B-11.1311%2C%20-47.5726%5D%2C%20%5B-10.442%2C%20-49.1876%5D%2C%20%5B-12.0853%2C%20-46.4825%5D%2C%20%5B-10.7481%2C%20-47.5276%5D%2C%20%5B-8.5406%2C%20-48.5062%5D%2C%20%5B-9.34425%2C%20-48.5245%5D%2C%20%5B-9.350019999999999%2C%20-47.888000000000005%5D%2C%20%5B-5.35423%2C%20-47.8782%5D%2C%20%5B-8.8046%2C%20-47.7887%5D%2C%20%5B-11.4474%2C%20-48.1216%5D%2C%20%5B-10.1615%2C%20-46.6618%5D%2C%20%5B-5.56305%2C%20-47.5743%5D%2C%20%5B-11.9743%2C%20-48.2353%5D%2C%20%5B-11.1471%2C%20-48.1694%5D%2C%20%5B-12.7949%2C%20-49.0896%5D%2C%20%5B-9.5632%2C%20-48.3741%5D%2C%20%5B-6.32447%2C%20-47.4224%5D%5D%2C%0A%20%20%20%20%20%20%20%20%20%20%20%20%20%20%20%20%7B%22blur%22%3A%2015%2C%20%22maxZoom%22%3A%2018%2C%20%22minOpacity%22%3A%200.5%2C%20%22radius%22%3A%2025%7D%0A%20%20%20%20%20%20%20%20%20%20%20%20%29.addTo%28map_1456d99fc13449b3a509446d3ba5c799%29%3B%0A%20%20%20%20%20%20%20%20%0A%3C/script%3E onload=\"this.contentDocument.open();this.contentDocument.write(    decodeURIComponent(this.getAttribute('data-html')));this.contentDocument.close();\" allowfullscreen webkitallowfullscreen mozallowfullscreen></iframe></div></div>"
      ],
      "text/plain": [
       "<folium.folium.Map at 0x2454b6615c0>"
      ]
     },
     "execution_count": 36,
     "metadata": {},
     "output_type": "execute_result"
    }
   ],
   "source": [
    "# Renderizando o mapa\n",
    "mapa = folium.Map(location=[-15.788497,-47.879873],zoom_start=4.5,tiles='Stamen Toner')\n",
    "\n",
    "#Adicionando os registros no mapa de calor:\n",
    "from folium import plugins\n",
    "\n",
    "mapa.add_child(plugins.HeatMap(coordenadas))        \n",
    "mapa"
   ]
  },
  {
   "cell_type": "code",
   "execution_count": 20,
   "metadata": {},
   "outputs": [
    {
     "data": {
      "text/plain": [
       "Tocantins    178\n",
       "Pará          86\n",
       "Rondônia      69\n",
       "Amazonas      66\n",
       "Acre          16\n",
       "Roraima       12\n",
       "Amapá         11\n",
       "Name: UF, dtype: int64"
      ]
     },
     "execution_count": 20,
     "metadata": {},
     "output_type": "execute_result"
    }
   ],
   "source": [
    "#Quantidade de municipios de aplicação ideal primeira dose\n",
    "pd.value_counts(df_municipios_1d_ideal[\"UF\"])"
   ]
  },
  {
   "cell_type": "markdown",
   "metadata": {},
   "source": [
    "#### Municipios com aplicação ideal na segunda dose, entre 95% e 120%"
   ]
  },
  {
   "cell_type": "code",
   "execution_count": 37,
   "metadata": {},
   "outputs": [],
   "source": [
    "df_municipios_2d_ideal = df_vacinas[(df_vacinas[\"CV_SCR2\"] >= 95) & (df_vacinas[\"CV_SCR2\"] <= 120)]"
   ]
  },
  {
   "cell_type": "code",
   "execution_count": 38,
   "metadata": {},
   "outputs": [
    {
     "data": {
      "text/plain": [
       "(246, 35)"
      ]
     },
     "execution_count": 38,
     "metadata": {},
     "output_type": "execute_result"
    }
   ],
   "source": [
    "#Merge dataset vacinas e geolocalização\n",
    "df_municipios_2d_ideal = pd.merge(df_municipios_2d_ideal, df_municipios, how='left', left_on='CODMUN7', right_on='codigo_ibge')\n",
    "df_municipios_2d_ideal.shape"
   ]
  },
  {
   "cell_type": "code",
   "execution_count": 39,
   "metadata": {},
   "outputs": [],
   "source": [
    "# Extraindo as coordenadas\n",
    "coordenadas=[]\n",
    "for lat,lng in zip(df_municipios_2d_ideal.latitude.values,df_municipios_2d_ideal.longitude.values):\n",
    "  coordenadas.append([lat,lng])"
   ]
  },
  {
   "cell_type": "code",
   "execution_count": 40,
   "metadata": {},
   "outputs": [
    {
     "data": {
      "text/html": [
       "<div style=\"width:100%;\"><div style=\"position:relative;width:100%;height:0;padding-bottom:60%;\"><span style=\"color:#565656\">Make this Notebook Trusted to load map: File -> Trust Notebook</span><iframe src=\"about:blank\" style=\"position:absolute;width:100%;height:100%;left:0;top:0;border:none !important;\" data-html=%3C%21DOCTYPE%20html%3E%0A%3Chead%3E%20%20%20%20%0A%20%20%20%20%3Cmeta%20http-equiv%3D%22content-type%22%20content%3D%22text/html%3B%20charset%3DUTF-8%22%20/%3E%0A%20%20%20%20%0A%20%20%20%20%20%20%20%20%3Cscript%3E%0A%20%20%20%20%20%20%20%20%20%20%20%20L_NO_TOUCH%20%3D%20false%3B%0A%20%20%20%20%20%20%20%20%20%20%20%20L_DISABLE_3D%20%3D%20false%3B%0A%20%20%20%20%20%20%20%20%3C/script%3E%0A%20%20%20%20%0A%20%20%20%20%3Cstyle%3Ehtml%2C%20body%20%7Bwidth%3A%20100%25%3Bheight%3A%20100%25%3Bmargin%3A%200%3Bpadding%3A%200%3B%7D%3C/style%3E%0A%20%20%20%20%3Cstyle%3E%23map%20%7Bposition%3Aabsolute%3Btop%3A0%3Bbottom%3A0%3Bright%3A0%3Bleft%3A0%3B%7D%3C/style%3E%0A%20%20%20%20%3Cscript%20src%3D%22https%3A//cdn.jsdelivr.net/npm/leaflet%401.6.0/dist/leaflet.js%22%3E%3C/script%3E%0A%20%20%20%20%3Cscript%20src%3D%22https%3A//code.jquery.com/jquery-1.12.4.min.js%22%3E%3C/script%3E%0A%20%20%20%20%3Cscript%20src%3D%22https%3A//maxcdn.bootstrapcdn.com/bootstrap/3.2.0/js/bootstrap.min.js%22%3E%3C/script%3E%0A%20%20%20%20%3Cscript%20src%3D%22https%3A//cdnjs.cloudflare.com/ajax/libs/Leaflet.awesome-markers/2.0.2/leaflet.awesome-markers.js%22%3E%3C/script%3E%0A%20%20%20%20%3Clink%20rel%3D%22stylesheet%22%20href%3D%22https%3A//cdn.jsdelivr.net/npm/leaflet%401.6.0/dist/leaflet.css%22/%3E%0A%20%20%20%20%3Clink%20rel%3D%22stylesheet%22%20href%3D%22https%3A//maxcdn.bootstrapcdn.com/bootstrap/3.2.0/css/bootstrap.min.css%22/%3E%0A%20%20%20%20%3Clink%20rel%3D%22stylesheet%22%20href%3D%22https%3A//maxcdn.bootstrapcdn.com/bootstrap/3.2.0/css/bootstrap-theme.min.css%22/%3E%0A%20%20%20%20%3Clink%20rel%3D%22stylesheet%22%20href%3D%22https%3A//maxcdn.bootstrapcdn.com/font-awesome/4.6.3/css/font-awesome.min.css%22/%3E%0A%20%20%20%20%3Clink%20rel%3D%22stylesheet%22%20href%3D%22https%3A//cdnjs.cloudflare.com/ajax/libs/Leaflet.awesome-markers/2.0.2/leaflet.awesome-markers.css%22/%3E%0A%20%20%20%20%3Clink%20rel%3D%22stylesheet%22%20href%3D%22https%3A//cdn.jsdelivr.net/gh/python-visualization/folium/folium/templates/leaflet.awesome.rotate.min.css%22/%3E%0A%20%20%20%20%0A%20%20%20%20%20%20%20%20%20%20%20%20%3Cmeta%20name%3D%22viewport%22%20content%3D%22width%3Ddevice-width%2C%0A%20%20%20%20%20%20%20%20%20%20%20%20%20%20%20%20initial-scale%3D1.0%2C%20maximum-scale%3D1.0%2C%20user-scalable%3Dno%22%20/%3E%0A%20%20%20%20%20%20%20%20%20%20%20%20%3Cstyle%3E%0A%20%20%20%20%20%20%20%20%20%20%20%20%20%20%20%20%23map_45ff2d50f0a946a4aaa36c5ba19c27f4%20%7B%0A%20%20%20%20%20%20%20%20%20%20%20%20%20%20%20%20%20%20%20%20position%3A%20relative%3B%0A%20%20%20%20%20%20%20%20%20%20%20%20%20%20%20%20%20%20%20%20width%3A%20100.0%25%3B%0A%20%20%20%20%20%20%20%20%20%20%20%20%20%20%20%20%20%20%20%20height%3A%20100.0%25%3B%0A%20%20%20%20%20%20%20%20%20%20%20%20%20%20%20%20%20%20%20%20left%3A%200.0%25%3B%0A%20%20%20%20%20%20%20%20%20%20%20%20%20%20%20%20%20%20%20%20top%3A%200.0%25%3B%0A%20%20%20%20%20%20%20%20%20%20%20%20%20%20%20%20%7D%0A%20%20%20%20%20%20%20%20%20%20%20%20%3C/style%3E%0A%20%20%20%20%20%20%20%20%0A%20%20%20%20%3Cscript%20src%3D%22https%3A//cdn.jsdelivr.net/gh/python-visualization/folium%40master/folium/templates/leaflet_heat.min.js%22%3E%3C/script%3E%0A%3C/head%3E%0A%3Cbody%3E%20%20%20%20%0A%20%20%20%20%0A%20%20%20%20%20%20%20%20%20%20%20%20%3Cdiv%20class%3D%22folium-map%22%20id%3D%22map_45ff2d50f0a946a4aaa36c5ba19c27f4%22%20%3E%3C/div%3E%0A%20%20%20%20%20%20%20%20%0A%3C/body%3E%0A%3Cscript%3E%20%20%20%20%0A%20%20%20%20%0A%20%20%20%20%20%20%20%20%20%20%20%20var%20map_45ff2d50f0a946a4aaa36c5ba19c27f4%20%3D%20L.map%28%0A%20%20%20%20%20%20%20%20%20%20%20%20%20%20%20%20%22map_45ff2d50f0a946a4aaa36c5ba19c27f4%22%2C%0A%20%20%20%20%20%20%20%20%20%20%20%20%20%20%20%20%7B%0A%20%20%20%20%20%20%20%20%20%20%20%20%20%20%20%20%20%20%20%20center%3A%20%5B-15.788497%2C%20-47.879873%5D%2C%0A%20%20%20%20%20%20%20%20%20%20%20%20%20%20%20%20%20%20%20%20crs%3A%20L.CRS.EPSG3857%2C%0A%20%20%20%20%20%20%20%20%20%20%20%20%20%20%20%20%20%20%20%20zoom%3A%204.5%2C%0A%20%20%20%20%20%20%20%20%20%20%20%20%20%20%20%20%20%20%20%20zoomControl%3A%20true%2C%0A%20%20%20%20%20%20%20%20%20%20%20%20%20%20%20%20%20%20%20%20preferCanvas%3A%20false%2C%0A%20%20%20%20%20%20%20%20%20%20%20%20%20%20%20%20%7D%0A%20%20%20%20%20%20%20%20%20%20%20%20%29%3B%0A%0A%20%20%20%20%20%20%20%20%20%20%20%20%0A%0A%20%20%20%20%20%20%20%20%0A%20%20%20%20%0A%20%20%20%20%20%20%20%20%20%20%20%20var%20tile_layer_65631a8a182d46a8bc7da1fcaa85ac4d%20%3D%20L.tileLayer%28%0A%20%20%20%20%20%20%20%20%20%20%20%20%20%20%20%20%22https%3A//stamen-tiles-%7Bs%7D.a.ssl.fastly.net/toner/%7Bz%7D/%7Bx%7D/%7By%7D.png%22%2C%0A%20%20%20%20%20%20%20%20%20%20%20%20%20%20%20%20%7B%22attribution%22%3A%20%22Map%20tiles%20by%20%5Cu003ca%20href%3D%5C%22http%3A//stamen.com%5C%22%5Cu003eStamen%20Design%5Cu003c/a%5Cu003e%2C%20under%20%5Cu003ca%20href%3D%5C%22http%3A//creativecommons.org/licenses/by/3.0%5C%22%5Cu003eCC%20BY%203.0%5Cu003c/a%5Cu003e.%20Data%20by%20%5Cu0026copy%3B%20%5Cu003ca%20href%3D%5C%22http%3A//openstreetmap.org%5C%22%5Cu003eOpenStreetMap%5Cu003c/a%5Cu003e%2C%20under%20%5Cu003ca%20href%3D%5C%22http%3A//www.openstreetmap.org/copyright%5C%22%5Cu003eODbL%5Cu003c/a%5Cu003e.%22%2C%20%22detectRetina%22%3A%20false%2C%20%22maxNativeZoom%22%3A%2018%2C%20%22maxZoom%22%3A%2018%2C%20%22minZoom%22%3A%200%2C%20%22noWrap%22%3A%20false%2C%20%22opacity%22%3A%201%2C%20%22subdomains%22%3A%20%22abc%22%2C%20%22tms%22%3A%20false%7D%0A%20%20%20%20%20%20%20%20%20%20%20%20%29.addTo%28map_45ff2d50f0a946a4aaa36c5ba19c27f4%29%3B%0A%20%20%20%20%20%20%20%20%0A%20%20%20%20%0A%20%20%20%20%20%20%20%20%20%20%20%20var%20heat_map_78dca47f409d4a35a49c7f47c7cc6697%20%3D%20L.heatLayer%28%0A%20%20%20%20%20%20%20%20%20%20%20%20%20%20%20%20%5B%5B-13.1174%2C%20-60.5454%5D%2C%20%5B-12.9551%2C%20-60.8947%5D%2C%20%5B-12.4367%2C%20-64.22800000000001%5D%2C%20%5B-9.44363%2C%20-61.9818%5D%2C%20%5B-11.672%2C%20-61.198%5D%2C%20%5B-8.760769999999999%2C%20-63.8999%5D%2C%20%5B-9.69965%2C%20-62.9011%5D%2C%20%5B-11.7271%2C%20-61.7714%5D%2C%20%5B-12.7502%2C%20-60.1488%5D%2C%20%5B-11.6953%2C%20-62.7192%5D%2C%20%5B-10.4077%2C%20-65.3346%5D%2C%20%5B-10.1943%2C%20-63.8324%5D%2C%20%5B-8.7907%2C%20-63.7005%5D%2C%20%5B-11.4253%2C%20-61.9482%5D%2C%20%5B-9.36065%2C%20-62.5846%5D%2C%20%5B-10.61%2C%20-62.7371%5D%2C%20%5B-11.9023%2C%20-61.5026%5D%2C%20%5B-12.052%2C%20-63.568000000000005%5D%2C%20%5B-11.8055%2C%20-63.0182%5D%2C%20%5B-10.9056%2C%20-62.242%5D%2C%20%5B-9.43091%2C%20-71.8974%5D%2C%20%5B-7.738639999999999%2C%20-72.661%5D%2C%20%5B-3.74603%2C%20-61.6575%5D%2C%20%5B-7.194089999999999%2C%20-59.896%5D%2C%20%5B-2.9740900000000003%2C%20-57.5873%5D%2C%20%5B-4.39154%2C%20-59.5874%5D%2C%20%5B-6.5258199999999995%2C%20-64.3953%5D%2C%20%5B-2.7408099999999997%2C%20-58.0293%5D%2C%20%5B-3.44078%2C%20-60.4612%5D%2C%20%5B-2.8174799999999998%2C%20-58.248000000000005%5D%2C%20%5B-2.52936%2C%20-57.7538%5D%2C%20%5B3.64571%2C%20-61.3692%5D%2C%20%5B4.4799%2C%20-61.1477%5D%2C%20%5B-3.46985%2C%20-51.2003%5D%2C%20%5B-2.6360900000000003%2C%20-54.9374%5D%2C%20%5B-3.2979199999999995%2C%20-52.534%5D%2C%20%5B-7.810969999999999%2C%20-50.7698%5D%2C%20%5B-5.13272%2C%20-49.3358%5D%2C%20%5B-1.20874%2C%20-47.3921%5D%2C%20%5B-7.14347%2C%20-55.3786%5D%2C%20%5B-1.3958700000000002%2C%20-48.8661%5D%2C%20%5B-8.85784%2C%20-49.7215%5D%2C%20%5B-0.9309700000000001%2C%20-47.3855%5D%2C%20%5B-5.537319999999999%2C%20-48.7366%5D%2C%20%5B-4.5734699999999995%2C%20-55.9429%5D%2C%20%5B2.05267%2C%20-50.7957%5D%2C%20%5B0.034934%2C%20-51.0694%5D%2C%20%5B1.50652%2C%20-50.9087%5D%2C%20%5B-6.5540899999999995%2C%20-47.4702%5D%2C%20%5B-11.3056%2C%20-48.9361%5D%2C%20%5B-6.36437%2C%20-48.0735%5D%2C%20%5B-6.58225%2C%20-48.6395%5D%2C%20%5B-7.65463%2C%20-49.0637%5D%2C%20%5B-7.209230000000001%2C%20-47.7613%5D%2C%20%5B-8.38918%2C%20-48.4822%5D%2C%20%5B-11.8881%2C%20-49.1609%5D%2C%20%5B-11.6175%2C%20-47.7486%5D%2C%20%5B-12.7917%2C%20-46.5388%5D%2C%20%5B-10.5985%2C%20-49.1942%5D%2C%20%5B-11.624%2C%20-46.8198%5D%2C%20%5B-9.800180000000001%2C%20-49.2169%5D%2C%20%5B-12.1312%2C%20-49.1748%5D%2C%20%5B-7.3350100000000005%2C%20-47.4954%5D%2C%20%5B-9.05611%2C%20-48.5206%5D%2C%20%5B-8.77413%2C%20-48.9313%5D%2C%20%5B-11.2329%2C%20-48.46%5D%2C%20%5B-10.5464%2C%20-46.4168%5D%2C%20%5B-10.7611%2C%20-48.1114%5D%2C%20%5B-11.7034%2C%20-47.7223%5D%2C%20%5B-10.5651%2C%20-48.9125%5D%2C%20%5B-12.9217%2C%20-46.5713%5D%2C%20%5B-11.825999999999999%2C%20-46.6325%5D%2C%20%5B-7.847860000000001%2C%20-47.9242%5D%2C%20%5B-12.6167%2C%20-47.8734%5D%2C%20%5B-7.53919%2C%20-49.367%5D%2C%20%5B-8.5932%2C%20-48.9327%5D%2C%20%5B-8.72463%2C%20-48.7638%5D%2C%20%5B-11.1311%2C%20-47.5726%5D%2C%20%5B-10.7481%2C%20-47.5276%5D%2C%20%5B-11.618%2C%20-47.0621%5D%2C%20%5B-10.424000000000001%2C%20-48.8957%5D%2C%20%5B-7.15803%2C%20-48.7165%5D%2C%20%5B-10.8617%2C%20-48.9161%5D%2C%20%5B-11.4474%2C%20-48.1216%5D%2C%20%5B-10.2746%2C%20-47.8033%5D%2C%20%5B-12.7458%2C%20-48.2352%5D%2C%20%5B-11.1471%2C%20-48.1694%5D%2C%20%5B-11.993%2C%20-48.9685%5D%2C%20%5B-12.4026%2C%20-46.437%5D%2C%20%5B-12.7949%2C%20-49.0896%5D%2C%20%5B-6.32447%2C%20-47.4224%5D%2C%20%5B-8.971680000000001%2C%20-48.1883%5D%2C%20%5B-13.187000000000001%2C%20-60.8168%5D%2C%20%5B-8.760769999999999%2C%20-63.8999%5D%2C%20%5B-11.9074%2C%20-61.7777%5D%2C%20%5B-11.3463%2C%20-62.2847%5D%2C%20%5B-12.132%2C%20-61.835%5D%2C%20%5B-10.1943%2C%20-63.8324%5D%2C%20%5B-11.6961%2C%20-61.9951%5D%2C%20%5B-10.349%2C%20-62.9043%5D%2C%20%5B-12.5611%2C%20-60.8877%5D%2C%20%5B-9.36065%2C%20-62.5846%5D%2C%20%5B-11.196%2C%20-61.5174%5D%2C%20%5B-11.8295%2C%20-61.3153%5D%2C%20%5B-10.9056%2C%20-62.242%5D%2C%20%5B-10.6516%2C%20-68.4969%5D%2C%20%5B-2.02981%2C%20-60.0234%5D%2C%20%5B-3.47292%2C%20-68.9646%5D%2C%20%5B-2.52936%2C%20-57.7538%5D%2C%20%5B3.64571%2C%20-61.3692%5D%2C%20%5B2.82384%2C%20-60.6753%5D%2C%20%5B1.8276599999999998%2C%20-61.1304%5D%2C%20%5B0.8842030000000001%2C%20-59.6959%5D%2C%20%5B1.01019%2C%20-60.0419%5D%2C%20%5B-4.95333%2C%20-48.3933%5D%2C%20%5B-3.46985%2C%20-51.2003%5D%2C%20%5B-2.6360900000000003%2C%20-54.9374%5D%2C%20%5B-1.36745%2C%20-47.3066%5D%2C%20%5B-0.936423%2C%20-48.2803%5D%2C%20%5B-1.88775%2C%20-55.1168%5D%2C%20%5B-5.74027%2C%20-48.3181%5D%2C%20%5B-6.43778%2C%20-48.8716%5D%2C%20%5B-0.6610189999999999%2C%20-49.1771%5D%2C%20%5B-8.85784%2C%20-49.7215%5D%2C%20%5B-1.71597%2C%20-49.5249%5D%2C%20%5B-6.940180000000001%2C%20-49.6834%5D%2C%20%5B2.05267%2C%20-50.7957%5D%2C%20%5B-0.8049109999999999%2C%20-52.453%5D%2C%20%5B1.74543%2C%20-50.7892%5D%2C%20%5B1.50652%2C%20-50.9087%5D%2C%20%5B-6.5540899999999995%2C%20-47.4702%5D%2C%20%5B-12.9289%2C%20-49.8231%5D%2C%20%5B-12.7105%2C%20-46.4076%5D%2C%20%5B-7.695930000000001%2C%20-47.6776%5D%2C%20%5B-7.03262%2C%20-48.3978%5D%2C%20%5B-5.31415%2C%20-48.0314%5D%2C%20%5B-9.27612%2C%20-49.9521%5D%2C%20%5B-8.28411%2C%20-49.2473%5D%2C%20%5B-6.715910000000001%2C%20-47.7597%5D%2C%20%5B-9.800180000000001%2C%20-49.2169%5D%2C%20%5B-9.255339999999999%2C%20-49.0638%5D%2C%20%5B-11.3416%2C%20-49.2716%5D%2C%20%5B-9.05611%2C%20-48.5206%5D%2C%20%5B-8.37982%2C%20-48.1072%5D%2C%20%5B-8.57172%2C%20-48.6895%5D%2C%20%5B-9.74996%2C%20-48.3565%5D%2C%20%5B-9.590019999999999%2C%20-46.6738%5D%2C%20%5B-6.17794%2C%20-47.8582%5D%2C%20%5B-10.5464%2C%20-46.4168%5D%2C%20%5B-5.95169%2C%20-47.5125%5D%2C%20%5B-11.7034%2C%20-47.7223%5D%2C%20%5B-11.825999999999999%2C%20-46.6325%5D%2C%20%5B-13.0447%2C%20-48.4026%5D%2C%20%5B-12.6167%2C%20-47.8734%5D%2C%20%5B-7.53919%2C%20-49.367%5D%2C%20%5B-8.72463%2C%20-48.7638%5D%2C%20%5B-6.77302%2C%20-48.2958%5D%2C%20%5B-12.0853%2C%20-46.4825%5D%2C%20%5B-11.618%2C%20-47.0621%5D%2C%20%5B-8.7227%2C%20-47.2421%5D%2C%20%5B-9.34425%2C%20-48.5245%5D%2C%20%5B-10.2746%2C%20-47.8033%5D%2C%20%5B-6.444380000000001%2C%20-47.6684%5D%2C%20%5B-10.1615%2C%20-46.6618%5D%2C%20%5B-5.56305%2C%20-47.5743%5D%2C%20%5B-11.1471%2C%20-48.1694%5D%2C%20%5B-11.993%2C%20-48.9685%5D%2C%20%5B-12.1873%2C%20-46.9797%5D%2C%20%5B-9.5632%2C%20-48.3741%5D%2C%20%5B-6.32447%2C%20-47.4224%5D%2C%20%5B-11.9283%2C%20-61.9953%5D%2C%20%5B-13.187000000000001%2C%20-60.8168%5D%2C%20%5B-9.44363%2C%20-61.9818%5D%2C%20%5B-11.169%2C%20-61.8986%5D%2C%20%5B-9.69965%2C%20-62.9011%5D%2C%20%5B-11.3463%2C%20-62.2847%5D%2C%20%5B-10.1943%2C%20-63.8324%5D%2C%20%5B-11.4253%2C%20-61.9482%5D%2C%20%5B-10.61%2C%20-62.7371%5D%2C%20%5B-11.196%2C%20-61.5174%5D%2C%20%5B-11.8295%2C%20-61.3153%5D%2C%20%5B-12.052%2C%20-63.568000000000005%5D%2C%20%5B-11.8055%2C%20-63.0182%5D%2C%20%5B-10.9056%2C%20-62.242%5D%2C%20%5B-11.1261%2C%20-62.3639%5D%2C%20%5B-9.86215%2C%20-62.1876%5D%2C%20%5B-9.43091%2C%20-71.8974%5D%2C%20%5B-8.93898%2C%20-72.7997%5D%2C%20%5B-10.6516%2C%20-68.4969%5D%2C%20%5B-3.37455%2C%20-68.2005%5D%2C%20%5B-7.194089999999999%2C%20-59.896%5D%2C%20%5B-4.377680000000001%2C%20-70.0342%5D%2C%20%5B-2.9740900000000003%2C%20-57.5873%5D%2C%20%5B-3.7680300000000004%2C%20-60.369%5D%2C%20%5B-7.511710000000001%2C%20-63.0327%5D%2C%20%5B-3.2747900000000003%2C%20-60.19%5D%2C%20%5B-2.7408099999999997%2C%20-58.0293%5D%2C%20%5B-0.41082399999999997%2C%20-65.0092%5D%2C%20%5B-3.3682199999999995%2C%20-64.7193%5D%2C%20%5B-2.52936%2C%20-57.7538%5D%2C%20%5B-3.1284099999999997%2C%20-58.1496%5D%2C%20%5B2.18305%2C%20-61.0415%5D%2C%20%5B4.4799%2C%20-61.1477%5D%2C%20%5B4.60314%2C%20-60.1815%5D%2C%20%5B-7.34779%2C%20-50.3959%5D%2C%20%5B-5.0424%2C%20-48.6047%5D%2C%20%5B-5.69822%2C%20-48.4103%5D%2C%20%5B-1.01226%2C%20-48.9503%5D%2C%20%5B-1.99768%2C%20-54.0724%5D%2C%20%5B-1.20874%2C%20-47.3921%5D%2C%20%5B-0.747293%2C%20-48.0246%5D%2C%20%5B-1.71597%2C%20-49.5249%5D%2C%20%5B-4.5734699999999995%2C%20-55.9429%5D%2C%20%5B0.901357%2C%20-52.0036%5D%2C%20%5B0.9707610000000001%2C%20-50.8005%5D%2C%20%5B-9.62101%2C%20-49.1518%5D%2C%20%5B-12.4785%2C%20-49.1249%5D%2C%20%5B-6.36437%2C%20-48.0735%5D%2C%20%5B-7.16005%2C%20-48.5291%5D%2C%20%5B-12.7105%2C%20-46.4076%5D%2C%20%5B-5.61275%2C%20-47.7701%5D%2C%20%5B-7.75612%2C%20-48.5836%5D%2C%20%5B-5.3144800000000005%2C%20-48.2271%5D%2C%20%5B-8.961030000000001%2C%20-47.3304%5D%2C%20%5B-11.6175%2C%20-47.7486%5D%2C%20%5B-12.2209%2C%20-47.2951%5D%2C%20%5B-9.05611%2C%20-48.5206%5D%2C%20%5B-10.368%2C%20-47.538000000000004%5D%2C%20%5B-9.590019999999999%2C%20-46.6738%5D%2C%20%5B-11.7034%2C%20-47.7223%5D%2C%20%5B-10.5651%2C%20-48.9125%5D%2C%20%5B-10.707%2C%20-48.9086%5D%2C%20%5B-12.6167%2C%20-47.8734%5D%2C%20%5B-7.53919%2C%20-49.367%5D%2C%20%5B-8.72463%2C%20-48.7638%5D%2C%20%5B-12.0853%2C%20-46.4825%5D%2C%20%5B-11.618%2C%20-47.0621%5D%2C%20%5B-8.5406%2C%20-48.5062%5D%2C%20%5B-9.34425%2C%20-48.5245%5D%2C%20%5B-8.8046%2C%20-47.7887%5D%2C%20%5B-10.8617%2C%20-48.9161%5D%2C%20%5B-10.1615%2C%20-46.6618%5D%2C%20%5B-5.26131%2C%20-48.2021%5D%2C%20%5B-12.7949%2C%20-49.0896%5D%2C%20%5B-9.5632%2C%20-48.3741%5D%2C%20%5B-8.971680000000001%2C%20-48.1883%5D%5D%2C%0A%20%20%20%20%20%20%20%20%20%20%20%20%20%20%20%20%7B%22blur%22%3A%2015%2C%20%22maxZoom%22%3A%2018%2C%20%22minOpacity%22%3A%200.5%2C%20%22radius%22%3A%2025%7D%0A%20%20%20%20%20%20%20%20%20%20%20%20%29.addTo%28map_45ff2d50f0a946a4aaa36c5ba19c27f4%29%3B%0A%20%20%20%20%20%20%20%20%0A%3C/script%3E onload=\"this.contentDocument.open();this.contentDocument.write(    decodeURIComponent(this.getAttribute('data-html')));this.contentDocument.close();\" allowfullscreen webkitallowfullscreen mozallowfullscreen></iframe></div></div>"
      ],
      "text/plain": [
       "<folium.folium.Map at 0x2454b68f0b8>"
      ]
     },
     "execution_count": 40,
     "metadata": {},
     "output_type": "execute_result"
    }
   ],
   "source": [
    "# Renderizando o mapa\n",
    "mapa = folium.Map(location=[-15.788497,-47.879873],zoom_start=4.5,tiles='Stamen Toner')\n",
    "\n",
    "#Adicionando os registros no mapa de calor:\n",
    "from folium import plugins\n",
    "\n",
    "mapa.add_child(plugins.HeatMap(coordenadas))        \n",
    "mapa"
   ]
  },
  {
   "cell_type": "code",
   "execution_count": 22,
   "metadata": {},
   "outputs": [
    {
     "data": {
      "text/plain": [
       "Tocantins    115\n",
       "Rondônia      49\n",
       "Pará          33\n",
       "Amazonas      24\n",
       "Roraima       10\n",
       "Amapá          9\n",
       "Acre           6\n",
       "Name: UF, dtype: int64"
      ]
     },
     "execution_count": 22,
     "metadata": {},
     "output_type": "execute_result"
    }
   ],
   "source": [
    "pd.value_counts(df_municipios_2d_ideal[\"UF\"])"
   ]
  },
  {
   "cell_type": "markdown",
   "metadata": {},
   "source": [
    "## Análise Exploratória "
   ]
  },
  {
   "cell_type": "code",
   "execution_count": 46,
   "metadata": {},
   "outputs": [
    {
     "data": {
      "text/plain": [
       "Pará         24\n",
       "Amazonas      8\n",
       "Tocantins     5\n",
       "Acre          3\n",
       "Roraima       2\n",
       "Rondônia      2\n",
       "Amapá         1\n",
       "Name: UF, dtype: int64"
      ]
     },
     "execution_count": 46,
     "metadata": {},
     "output_type": "execute_result"
    }
   ],
   "source": [
    "#Quantidade de municipios menor de 50% na primeira dose\n",
    "pd.value_counts(df_municipios_1d_50[\"UF\"])"
   ]
  },
  {
   "cell_type": "code",
   "execution_count": 47,
   "metadata": {},
   "outputs": [
    {
     "data": {
      "text/plain": [
       "Pará         74\n",
       "Amazonas     30\n",
       "Tocantins    13\n",
       "Acre         13\n",
       "Rondônia     11\n",
       "Amapá         6\n",
       "Roraima       4\n",
       "Name: UF, dtype: int64"
      ]
     },
     "execution_count": 47,
     "metadata": {},
     "output_type": "execute_result"
    }
   ],
   "source": [
    "#Quantidade de municipios menor de 50% na segunda dose\n",
    "pd.value_counts(df_municipios_2d_50[\"UF\"])"
   ]
  },
  {
   "cell_type": "code",
   "execution_count": 35,
   "metadata": {},
   "outputs": [
    {
     "data": {
      "text/plain": [
       "<matplotlib.axes._subplots.AxesSubplot at 0x1f89a60d940>"
      ]
     },
     "execution_count": 35,
     "metadata": {},
     "output_type": "execute_result"
    },
    {
     "data": {
      "image/png": "[encoded data removed]",
      "text/plain": [
       "<Figure size 432x288 with 1 Axes>"
      ]
     },
     "metadata": {
      "needs_background": "light"
     },
     "output_type": "display_data"
    }
   ],
   "source": [
    "# Visualizando os outliers na primeira dose \n",
    "sns.boxplot(df_municipios_1d_50.CV_SCR1)"
   ]
  },
  {
   "cell_type": "code",
   "execution_count": 34,
   "metadata": {},
   "outputs": [
    {
     "data": {
      "text/html": [
       "<div>\n",
       "<style scoped>\n",
       "    .dataframe tbody tr th:only-of-type {\n",
       "        vertical-align: middle;\n",
       "    }\n",
       "\n",
       "    .dataframe tbody tr th {\n",
       "        vertical-align: top;\n",
       "    }\n",
       "\n",
       "    .dataframe thead th {\n",
       "        text-align: right;\n",
       "    }\n",
       "</style>\n",
       "<table border=\"1\" class=\"dataframe\">\n",
       "  <thead>\n",
       "    <tr style=\"text-align: right;\">\n",
       "      <th></th>\n",
       "      <th>COD</th>\n",
       "      <th>CODMUN7</th>\n",
       "      <th>UF</th>\n",
       "      <th>ANO</th>\n",
       "      <th>MUNICIPIO</th>\n",
       "      <th>CV_SCR1</th>\n",
       "      <th>CV_SCR2</th>\n",
       "      <th>POPRURAL</th>\n",
       "      <th>POPURB</th>\n",
       "      <th>RDPC</th>\n",
       "      <th>...</th>\n",
       "      <th>POPDOMCHEFMULHERES</th>\n",
       "      <th>DENSDEMOG2010</th>\n",
       "      <th>PERC_NV_7CPN</th>\n",
       "      <th>COBERTURA_AB</th>\n",
       "      <th>codigo_ibge</th>\n",
       "      <th>nome</th>\n",
       "      <th>latitude</th>\n",
       "      <th>longitude</th>\n",
       "      <th>capital</th>\n",
       "      <th>codigo_uf</th>\n",
       "    </tr>\n",
       "  </thead>\n",
       "  <tbody>\n",
       "    <tr>\n",
       "      <th>11</th>\n",
       "      <td>150280</td>\n",
       "      <td>1502806</td>\n",
       "      <td>Pará</td>\n",
       "      <td>2016</td>\n",
       "      <td>Curralinho</td>\n",
       "      <td>10.630000</td>\n",
       "      <td>13.770000</td>\n",
       "      <td>61.709999</td>\n",
       "      <td>38.290001</td>\n",
       "      <td>188.880005</td>\n",
       "      <td>...</td>\n",
       "      <td>24.400000</td>\n",
       "      <td>7.890000</td>\n",
       "      <td>27.360001</td>\n",
       "      <td>42.790001</td>\n",
       "      <td>1502806</td>\n",
       "      <td>Curralinho</td>\n",
       "      <td>-1.81179</td>\n",
       "      <td>-49.7952</td>\n",
       "      <td>0</td>\n",
       "      <td>15</td>\n",
       "    </tr>\n",
       "    <tr>\n",
       "      <th>20</th>\n",
       "      <td>150635</td>\n",
       "      <td>1506351</td>\n",
       "      <td>Pará</td>\n",
       "      <td>2016</td>\n",
       "      <td>Santa B rbara do Par</td>\n",
       "      <td>17.730000</td>\n",
       "      <td>14.540000</td>\n",
       "      <td>68.160004</td>\n",
       "      <td>31.840000</td>\n",
       "      <td>287.250000</td>\n",
       "      <td>...</td>\n",
       "      <td>33.730000</td>\n",
       "      <td>61.619999</td>\n",
       "      <td>45.480000</td>\n",
       "      <td>87.809998</td>\n",
       "      <td>1506351</td>\n",
       "      <td>Santa Bárbara do Pará</td>\n",
       "      <td>-1.19219</td>\n",
       "      <td>-48.2380</td>\n",
       "      <td>0</td>\n",
       "      <td>15</td>\n",
       "    </tr>\n",
       "    <tr>\n",
       "      <th>26</th>\n",
       "      <td>171884</td>\n",
       "      <td>1718840</td>\n",
       "      <td>Tocantins</td>\n",
       "      <td>2016</td>\n",
       "      <td>Sandolƒndia</td>\n",
       "      <td>5.130000</td>\n",
       "      <td>17.950001</td>\n",
       "      <td>46.959999</td>\n",
       "      <td>53.040001</td>\n",
       "      <td>393.980011</td>\n",
       "      <td>...</td>\n",
       "      <td>20.020000</td>\n",
       "      <td>0.940000</td>\n",
       "      <td>67.440002</td>\n",
       "      <td>100.000000</td>\n",
       "      <td>1718840</td>\n",
       "      <td>Sandolândia</td>\n",
       "      <td>-12.53800</td>\n",
       "      <td>-49.9242</td>\n",
       "      <td>0</td>\n",
       "      <td>17</td>\n",
       "    </tr>\n",
       "    <tr>\n",
       "      <th>28</th>\n",
       "      <td>130330</td>\n",
       "      <td>1303304</td>\n",
       "      <td>Amazonas</td>\n",
       "      <td>2017</td>\n",
       "      <td>Novo Aripuanã</td>\n",
       "      <td>6.753247</td>\n",
       "      <td>4.935065</td>\n",
       "      <td>34.389999</td>\n",
       "      <td>65.610001</td>\n",
       "      <td>219.690002</td>\n",
       "      <td>...</td>\n",
       "      <td>27.620001</td>\n",
       "      <td>0.520000</td>\n",
       "      <td>41.871922</td>\n",
       "      <td>69.790001</td>\n",
       "      <td>1303304</td>\n",
       "      <td>Novo Aripuanã</td>\n",
       "      <td>-5.12593</td>\n",
       "      <td>-60.3732</td>\n",
       "      <td>0</td>\n",
       "      <td>13</td>\n",
       "    </tr>\n",
       "  </tbody>\n",
       "</table>\n",
       "<p>4 rows × 35 columns</p>\n",
       "</div>"
      ],
      "text/plain": [
       "       COD  CODMUN7         UF   ANO              MUNICIPIO    CV_SCR1  \\\n",
       "11  150280  1502806       Pará  2016             Curralinho  10.630000   \n",
       "20  150635  1506351       Pará  2016  Santa B rbara do Par   17.730000   \n",
       "26  171884  1718840  Tocantins  2016            Sandolƒndia   5.130000   \n",
       "28  130330  1303304   Amazonas  2017          Novo Aripuanã   6.753247   \n",
       "\n",
       "      CV_SCR2   POPRURAL     POPURB        RDPC    ...      \\\n",
       "11  13.770000  61.709999  38.290001  188.880005    ...       \n",
       "20  14.540000  68.160004  31.840000  287.250000    ...       \n",
       "26  17.950001  46.959999  53.040001  393.980011    ...       \n",
       "28   4.935065  34.389999  65.610001  219.690002    ...       \n",
       "\n",
       "    POPDOMCHEFMULHERES  DENSDEMOG2010  PERC_NV_7CPN  COBERTURA_AB  \\\n",
       "11           24.400000       7.890000     27.360001     42.790001   \n",
       "20           33.730000      61.619999     45.480000     87.809998   \n",
       "26           20.020000       0.940000     67.440002    100.000000   \n",
       "28           27.620001       0.520000     41.871922     69.790001   \n",
       "\n",
       "    codigo_ibge                   nome  latitude  longitude  capital  \\\n",
       "11      1502806             Curralinho  -1.81179   -49.7952        0   \n",
       "20      1506351  Santa Bárbara do Pará  -1.19219   -48.2380        0   \n",
       "26      1718840            Sandolândia -12.53800   -49.9242        0   \n",
       "28      1303304          Novo Aripuanã  -5.12593   -60.3732        0   \n",
       "\n",
       "    codigo_uf  \n",
       "11         15  \n",
       "20         15  \n",
       "26         17  \n",
       "28         13  \n",
       "\n",
       "[4 rows x 35 columns]"
      ]
     },
     "execution_count": 34,
     "metadata": {},
     "output_type": "execute_result"
    }
   ],
   "source": [
    "#Descobrindo o valor de outlier\n",
    "df_municipios_1d_50[df_municipios_1d_50[\"CV_SCR1\"] < 20]"
   ]
  },
  {
   "cell_type": "code",
   "execution_count": 50,
   "metadata": {},
   "outputs": [
    {
     "data": {
      "text/plain": [
       "<matplotlib.axes._subplots.AxesSubplot at 0x7fead5fe8c88>"
      ]
     },
     "execution_count": 50,
     "metadata": {},
     "output_type": "execute_result"
    },
    {
     "data": {
      "image/png": "[encoded data removed]",
      "text/plain": [
       "<Figure size 432x288 with 1 Axes>"
      ]
     },
     "metadata": {
      "needs_background": "light"
     },
     "output_type": "display_data"
    }
   ],
   "source": [
    "# Visualizando os outliers na segunda dose \n",
    "sns.boxplot(df_municipios_2d_50.CV_SCR2)"
   ]
  },
  {
   "cell_type": "code",
   "execution_count": 51,
   "metadata": {},
   "outputs": [
    {
     "data": {
      "text/html": [
       "<div>\n",
       "<style scoped>\n",
       "    .dataframe tbody tr th:only-of-type {\n",
       "        vertical-align: middle;\n",
       "    }\n",
       "\n",
       "    .dataframe tbody tr th {\n",
       "        vertical-align: top;\n",
       "    }\n",
       "\n",
       "    .dataframe thead th {\n",
       "        text-align: right;\n",
       "    }\n",
       "</style>\n",
       "<table border=\"1\" class=\"dataframe\">\n",
       "  <thead>\n",
       "    <tr style=\"text-align: right;\">\n",
       "      <th></th>\n",
       "      <th>COD</th>\n",
       "      <th>CODMUN7</th>\n",
       "      <th>UF</th>\n",
       "      <th>ANO</th>\n",
       "      <th>MUNICIPIO</th>\n",
       "      <th>CV_SCR1</th>\n",
       "      <th>CV_SCR2</th>\n",
       "      <th>POPRURAL</th>\n",
       "      <th>POPURB</th>\n",
       "      <th>RDPC</th>\n",
       "      <th>...</th>\n",
       "      <th>POPDOMCHEFMULHERES</th>\n",
       "      <th>DENSDEMOG2010</th>\n",
       "      <th>PERC_NV_7CPN</th>\n",
       "      <th>COBERTURA_AB</th>\n",
       "      <th>codigo_ibge</th>\n",
       "      <th>nome</th>\n",
       "      <th>latitude</th>\n",
       "      <th>longitude</th>\n",
       "      <th>capital</th>\n",
       "      <th>codigo_uf</th>\n",
       "    </tr>\n",
       "  </thead>\n",
       "  <tbody>\n",
       "    <tr>\n",
       "      <th>70</th>\n",
       "      <td>130330</td>\n",
       "      <td>1303304</td>\n",
       "      <td>Amazonas</td>\n",
       "      <td>2017</td>\n",
       "      <td>Novo Aripuanã</td>\n",
       "      <td>6.753247</td>\n",
       "      <td>4.935065</td>\n",
       "      <td>34.389999</td>\n",
       "      <td>65.610001</td>\n",
       "      <td>219.690002</td>\n",
       "      <td>...</td>\n",
       "      <td>27.620001</td>\n",
       "      <td>0.52</td>\n",
       "      <td>41.871922</td>\n",
       "      <td>69.790001</td>\n",
       "      <td>1303304</td>\n",
       "      <td>Novo Aripuanã</td>\n",
       "      <td>-5.12593</td>\n",
       "      <td>-60.3732</td>\n",
       "      <td>0</td>\n",
       "      <td>13</td>\n",
       "    </tr>\n",
       "  </tbody>\n",
       "</table>\n",
       "<p>1 rows × 35 columns</p>\n",
       "</div>"
      ],
      "text/plain": [
       "       COD  CODMUN7        UF   ANO      MUNICIPIO   CV_SCR1   CV_SCR2  \\\n",
       "70  130330  1303304  Amazonas  2017  Novo Aripuanã  6.753247  4.935065   \n",
       "\n",
       "     POPRURAL     POPURB        RDPC    ...      POPDOMCHEFMULHERES  \\\n",
       "70  34.389999  65.610001  219.690002    ...               27.620001   \n",
       "\n",
       "    DENSDEMOG2010  PERC_NV_7CPN  COBERTURA_AB  codigo_ibge           nome  \\\n",
       "70           0.52     41.871922     69.790001      1303304  Novo Aripuanã   \n",
       "\n",
       "    latitude  longitude  capital  codigo_uf  \n",
       "70  -5.12593   -60.3732        0         13  \n",
       "\n",
       "[1 rows x 35 columns]"
      ]
     },
     "execution_count": 51,
     "metadata": {},
     "output_type": "execute_result"
    }
   ],
   "source": [
    "#Descobrindo o valor de outlier \n",
    "df_municipios_2d_50[df_municipios_2d_50[\"CV_SCR2\"] == min(df_municipios_2d_50[\"CV_SCR2\"])]"
   ]
  },
  {
   "cell_type": "code",
   "execution_count": 23,
   "metadata": {},
   "outputs": [
    {
     "data": {
      "text/plain": [
       "UF\n",
       "Acre         37.249554\n",
       "Amapá        46.029999\n",
       "Amazonas     38.317810\n",
       "Pará         37.521156\n",
       "Rondônia     36.305000\n",
       "Roraima      43.489998\n",
       "Tocantins    37.704002\n",
       "Name: CV_SCR1, dtype: float32"
      ]
     },
     "execution_count": 23,
     "metadata": {},
     "output_type": "execute_result"
    }
   ],
   "source": [
    "# Média por estado na primeira dose \n",
    "df_municipios_1d_50.groupby([\"UF\"])[\"CV_SCR1\"].mean()"
   ]
  },
  {
   "cell_type": "code",
   "execution_count": 24,
   "metadata": {},
   "outputs": [
    {
     "data": {
      "text/plain": [
       "UF\n",
       "Acre         32.862499\n",
       "Amapá        42.726532\n",
       "Amazonas     38.487511\n",
       "Pará         37.855793\n",
       "Rondônia     37.293587\n",
       "Roraima      35.114563\n",
       "Tocantins    31.914757\n",
       "Name: CV_SCR2, dtype: float32"
      ]
     },
     "execution_count": 24,
     "metadata": {},
     "output_type": "execute_result"
    }
   ],
   "source": [
    "# Média por estado na segunda dose\n",
    "df_municipios_2d_50.groupby([\"UF\"])[\"CV_SCR2\"].mean()"
   ]
  },
  {
   "cell_type": "code",
   "execution_count": 25,
   "metadata": {},
   "outputs": [
    {
     "data": {
      "text/plain": [
       "UF         ANO \n",
       "Acre       2017    32.388664\n",
       "           2018    39.680000\n",
       "Amapá      2016    46.029999\n",
       "Amazonas   2016    42.336666\n",
       "           2017    26.261238\n",
       "Pará       2016    37.442001\n",
       "           2017    39.379238\n",
       "           2018    36.790001\n",
       "Rondônia   2016    34.950001\n",
       "           2018    37.660000\n",
       "Roraima    2016    45.480000\n",
       "           2018    41.500000\n",
       "Tocantins  2016    32.636669\n",
       "           2018    45.305000\n",
       "Name: CV_SCR1, dtype: float32"
      ]
     },
     "execution_count": 25,
     "metadata": {},
     "output_type": "execute_result"
    }
   ],
   "source": [
    "# Média por Estado e por ano na primeira dose em municipios com < 50%\n",
    "df_municipios_1d_50.groupby([\"UF\",\"ANO\"])[\"CV_SCR1\"].mean()"
   ]
  },
  {
   "cell_type": "code",
   "execution_count": 26,
   "metadata": {},
   "outputs": [
    {
     "data": {
      "text/plain": [
       "UF         ANO \n",
       "Acre       2016    29.581667\n",
       "           2017    37.818119\n",
       "           2018    32.816666\n",
       "Amapá      2016    45.196667\n",
       "           2017    47.959183\n",
       "           2018    36.404999\n",
       "Amazonas   2016    37.981667\n",
       "           2017    38.427521\n",
       "           2018    40.215000\n",
       "Pará       2016    37.145454\n",
       "           2017    39.024529\n",
       "           2018    37.412144\n",
       "Rondônia   2016    33.560001\n",
       "           2017    41.667892\n",
       "           2018    33.736668\n",
       "Roraima    2016    21.430000\n",
       "           2017    49.158249\n",
       "           2018    34.934998\n",
       "Tocantins  2016    33.276669\n",
       "           2017    35.697281\n",
       "           2018    29.710001\n",
       "Name: CV_SCR2, dtype: float32"
      ]
     },
     "execution_count": 26,
     "metadata": {},
     "output_type": "execute_result"
    }
   ],
   "source": [
    "# Média por Estado e por ano na segunda dose em municipios com < 50%\n",
    "df_municipios_2d_50.groupby([\"UF\",\"ANO\"])[\"CV_SCR2\"].mean()"
   ]
  },
  {
   "cell_type": "code",
   "execution_count": 61,
   "metadata": {},
   "outputs": [
    {
     "data": {
      "text/plain": [
       "<matplotlib.axes._subplots.AxesSubplot at 0x7f7d08dfb2b0>"
      ]
     },
     "execution_count": 61,
     "metadata": {},
     "output_type": "execute_result"
    },
    {
     "data": {
      "image/png": "[encoded data removed]",
      "text/plain": [
       "<Figure size 432x288 with 1 Axes>"
      ]
     },
     "metadata": {
      "needs_background": "light"
     },
     "output_type": "display_data"
    }
   ],
   "source": [
    "#Distribuição dos dados entre os Estados\n",
    "df_vacinas[\"UF\"].value_counts().plot(kind='bar')"
   ]
  },
  {
   "cell_type": "code",
   "execution_count": 29,
   "metadata": {},
   "outputs": [
    {
     "data": {
      "text/plain": [
       "UF\n",
       "Acre         104.349594\n",
       "Amapá        108.377998\n",
       "Amazonas     105.199829\n",
       "Pará         104.658722\n",
       "Rondônia     108.101837\n",
       "Roraima      104.416138\n",
       "Tocantins    106.263672\n",
       "Name: CV_SCR1, dtype: float32"
      ]
     },
     "execution_count": 29,
     "metadata": {},
     "output_type": "execute_result"
    }
   ],
   "source": [
    "# Média por estado na primeira dose em municipios com cobertura ideal \n",
    "df_municipios_1d_ideal.groupby([\"UF\"])[\"CV_SCR1\"].mean()"
   ]
  },
  {
   "cell_type": "code",
   "execution_count": 28,
   "metadata": {},
   "outputs": [
    {
     "data": {
      "text/plain": [
       "UF         ANO \n",
       "Acre       2016    107.816666\n",
       "           2017    102.775444\n",
       "           2018    104.788002\n",
       "Amapá      2016    109.847504\n",
       "           2017    108.031990\n",
       "           2018    106.879997\n",
       "Amazonas   2016    104.096001\n",
       "           2017    105.244759\n",
       "           2018    105.793465\n",
       "Pará       2016    102.833122\n",
       "           2017    102.707191\n",
       "           2018    106.391998\n",
       "Rondônia   2016    108.790771\n",
       "           2017    109.912910\n",
       "           2018    105.123497\n",
       "Roraima    2016    107.106667\n",
       "           2017    103.587280\n",
       "           2018    103.383331\n",
       "Tocantins  2016    107.339104\n",
       "           2017    106.695801\n",
       "           2018    104.604263\n",
       "Name: CV_SCR1, dtype: float32"
      ]
     },
     "execution_count": 28,
     "metadata": {},
     "output_type": "execute_result"
    }
   ],
   "source": [
    "# Média por Estado e por ano na primeira dose em municipios com cobertura ideal   \n",
    "df_municipios_1d_ideal.groupby([\"UF\",\"ANO\"])[\"CV_SCR1\"].mean()"
   ]
  },
  {
   "cell_type": "code",
   "execution_count": 32,
   "metadata": {},
   "outputs": [
    {
     "data": {
      "text/plain": [
       "UF         ANO \n",
       "Acre       2016     3\n",
       "           2017     8\n",
       "           2018     5\n",
       "Amapá      2016     4\n",
       "           2017     4\n",
       "           2018     3\n",
       "Amazonas   2016    15\n",
       "           2017    25\n",
       "           2018    26\n",
       "Pará       2016    16\n",
       "           2017    25\n",
       "           2018    45\n",
       "Rondônia   2016    26\n",
       "           2017    23\n",
       "           2018    20\n",
       "Roraima    2016     3\n",
       "           2017     6\n",
       "           2018     3\n",
       "Tocantins  2016    56\n",
       "           2017    68\n",
       "           2018    54\n",
       "Name: CV_SCR1, dtype: int64"
      ]
     },
     "execution_count": 32,
     "metadata": {},
     "output_type": "execute_result"
    }
   ],
   "source": [
    "df_municipios_1d_ideal.groupby([\"UF\",\"ANO\"])[\"CV_SCR1\"].count()"
   ]
  },
  {
   "cell_type": "code",
   "execution_count": 30,
   "metadata": {},
   "outputs": [
    {
     "data": {
      "text/plain": [
       "UF         ANO \n",
       "Pará       2017    143\n",
       "           2018    143\n",
       "           2016    143\n",
       "Tocantins  2017    139\n",
       "           2018    139\n",
       "           2016    139\n",
       "Amazonas   2018     62\n",
       "           2017     62\n",
       "           2016     62\n",
       "Rondônia   2018     52\n",
       "           2017     52\n",
       "           2016     52\n",
       "Acre       2018     22\n",
       "           2017     22\n",
       "           2016     22\n",
       "Amapá      2018     16\n",
       "           2017     16\n",
       "           2016     16\n",
       "Roraima    2016     15\n",
       "           2017     15\n",
       "           2018     15\n",
       "Name: UF, dtype: int64"
      ]
     },
     "execution_count": 30,
     "metadata": {},
     "output_type": "execute_result"
    }
   ],
   "source": [
    "df_vacinas.groupby([\"UF\",\"ANO\"])[\"UF\"].count().sort_values(ascending=False)"
   ]
  },
  {
   "cell_type": "code",
   "execution_count": 31,
   "metadata": {},
   "outputs": [
    {
     "data": {
      "text/plain": [
       "UF         ANO \n",
       "Acre       2016    108.574997\n",
       "           2017     97.523216\n",
       "           2018    105.516663\n",
       "Amapá      2016    100.303329\n",
       "           2017    103.064468\n",
       "           2018    103.820000\n",
       "Amazonas   2016    104.955559\n",
       "           2017    102.432014\n",
       "           2018    102.717499\n",
       "Pará       2016    102.605003\n",
       "           2017    103.286842\n",
       "           2018    102.724442\n",
       "Rondônia   2016    106.569504\n",
       "           2017    102.965721\n",
       "           2018    103.476875\n",
       "Roraima    2016    106.005005\n",
       "           2017    103.187523\n",
       "           2018    102.233337\n",
       "Tocantins  2016    106.569771\n",
       "           2017    106.099045\n",
       "           2018    105.029358\n",
       "Name: CV_SCR2, dtype: float32"
      ]
     },
     "execution_count": 31,
     "metadata": {},
     "output_type": "execute_result"
    }
   ],
   "source": [
    "# Média por Estado e por ano na segunda dose em municipios com cobertura ideal\n",
    "df_municipios_2d_ideal.groupby([\"UF\",\"ANO\"])[\"CV_SCR2\"].mean()"
   ]
  },
  {
   "cell_type": "code",
   "execution_count": 33,
   "metadata": {},
   "outputs": [],
   "source": [
    "#### Municipios com aplicação maior que 120% na primeira aplicação\n",
    "df_municipios_1d_M120 = df_vacinas[(df_vacinas[\"CV_SCR1\"] >= 120)]"
   ]
  },
  {
   "cell_type": "code",
   "execution_count": 34,
   "metadata": {},
   "outputs": [
    {
     "data": {
      "text/plain": [
       "<matplotlib.axes._subplots.AxesSubplot at 0x17d9354a828>"
      ]
     },
     "execution_count": 34,
     "metadata": {},
     "output_type": "execute_result"
    },
    {
     "data": {
      "image/png": "[encoded data removed]",
      "text/plain": [
       "<Figure size 432x288 with 1 Axes>"
      ]
     },
     "metadata": {
      "needs_background": "light"
     },
     "output_type": "display_data"
    }
   ],
   "source": [
    "# Visualizando os outliers na segunda dose \n",
    "sns.boxplot(df_municipios_1d_M120.CV_SCR1)"
   ]
  },
  {
   "cell_type": "code",
   "execution_count": 33,
   "metadata": {},
   "outputs": [
    {
     "data": {
      "text/plain": [
       "UF         ANO \n",
       "Acre       2016    197.119995\n",
       "           2017    156.376266\n",
       "           2018    138.955002\n",
       "Amapá      2016    160.000000\n",
       "           2017    158.485855\n",
       "           2018    146.240005\n",
       "Amazonas   2016    124.776001\n",
       "           2017    131.607849\n",
       "           2018    154.154160\n",
       "Pará       2016    145.800003\n",
       "           2017    138.914093\n",
       "           2018    149.311249\n",
       "Rondônia   2016    135.891663\n",
       "           2017    144.588120\n",
       "           2018    154.575790\n",
       "Roraima    2016    121.270004\n",
       "           2017    154.878052\n",
       "           2018    176.639999\n",
       "Tocantins  2016    132.903427\n",
       "           2017    134.657120\n",
       "           2018    151.003006\n",
       "Name: CV_SCR1, dtype: float32"
      ]
     },
     "execution_count": 33,
     "metadata": {},
     "output_type": "execute_result"
    }
   ],
   "source": [
    "df_municipios_1d_M120.groupby([\"UF\",\"ANO\"])[\"CV_SCR1\"].mean()"
   ]
  },
  {
   "cell_type": "code",
   "execution_count": 78,
   "metadata": {},
   "outputs": [],
   "source": [
    "#### Municipios com aplicação maior que 120% na primeira aplicação\n",
    "df_municipios_2d_M120 = df_vacinas[(df_vacinas[\"CV_SCR2\"] >= 120)]"
   ]
  },
  {
   "cell_type": "code",
   "execution_count": 79,
   "metadata": {},
   "outputs": [
    {
     "data": {
      "text/plain": [
       "<matplotlib.axes._subplots.AxesSubplot at 0x7f7d08c74390>"
      ]
     },
     "execution_count": 79,
     "metadata": {},
     "output_type": "execute_result"
    },
    {
     "data": {
      "image/png": "[encoded data removed]",
      "text/plain": [
       "<Figure size 432x288 with 1 Axes>"
      ]
     },
     "metadata": {
      "needs_background": "light"
     },
     "output_type": "display_data"
    }
   ],
   "source": [
    "# Visualizando os outliers na segunda dose \n",
    "sns.boxplot(df_municipios_2d_M120.CV_SCR2)"
   ]
  },
  {
   "cell_type": "code",
   "execution_count": 80,
   "metadata": {},
   "outputs": [
    {
     "data": {
      "text/plain": [
       "UF         ANO \n",
       "Acre       2016    169.059998\n",
       "           2017    135.555557\n",
       "Amapá      2016    132.940002\n",
       "           2017    153.790710\n",
       "Amazonas   2016    146.705002\n",
       "           2018    144.050003\n",
       "Pará       2016    138.197495\n",
       "           2017    144.965790\n",
       "           2018    126.020004\n",
       "Rondônia   2016    138.943634\n",
       "           2017    134.137878\n",
       "           2018    138.753326\n",
       "Roraima    2016    122.959999\n",
       "           2017    129.332703\n",
       "           2018    177.235001\n",
       "Tocantins  2016    141.788467\n",
       "           2017    141.267563\n",
       "           2018    127.894165\n",
       "Name: CV_SCR2, dtype: float32"
      ]
     },
     "execution_count": 80,
     "metadata": {},
     "output_type": "execute_result"
    }
   ],
   "source": [
    "df_municipios_2d_M120.groupby([\"UF\",\"ANO\"])[\"CV_SCR2\"].mean()"
   ]
  }
 ],
 "metadata": {
  "kernelspec": {
   "display_name": "Python 3",
   "language": "python",
   "name": "python3"
  },
  "language_info": {
   "codemirror_mode": {
    "name": "ipython",
    "version": 3
   },
   "file_extension": ".py",
   "mimetype": "text/x-python",
   "name": "python",
   "nbconvert_exporter": "python",
   "pygments_lexer": "ipython3",
   "version": "3.7.1"
  }
 },
 "nbformat": 4,
 "nbformat_minor": 2
}
