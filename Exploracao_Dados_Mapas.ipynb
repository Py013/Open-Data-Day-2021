{
 "cells": [
  {
   "cell_type": "markdown",
   "metadata": {},
   "source": [
    "### Bibliotecas"
   ]
  },
  {
   "cell_type": "code",
   "execution_count": 52,
   "metadata": {},
   "outputs": [],
   "source": [
    "#Pandas\n",
    "import pandas as pd \n",
    "\n",
    "#Folium \n",
    "import folium \n",
    "\n",
    "#Numpy (Computação Científica)\n",
    "import numpy as np"
   ]
  },
  {
   "cell_type": "markdown",
   "metadata": {},
   "source": [
    "### Carga dos Dados "
   ]
  },
  {
   "cell_type": "code",
   "execution_count": 53,
   "metadata": {},
   "outputs": [
    {
     "data": {
      "text/plain": [
       "(1347, 29)"
      ]
     },
     "execution_count": 53,
     "metadata": {},
     "output_type": "execute_result"
    }
   ],
   "source": [
    "# Carga de dados no dataset inicial \n",
    "df_vacinas = pd.read_excel(\n",
    "    \"Base_Vacinas_Tratadas.xlsx\"\n",
    "    , sheet_name=0, na_values = ['', ' ']\n",
    "    , dtype  = {'CODMUN7': np.int64, 'ano': np.int32, 'Estado': 'category'\n",
    "        , 'CV_SCR1 (1 ano)': np.float32, 'CV_SCR2 (15 meses)': np.float32, 'Poprural': np.float32\n",
    "        , 'PopUrb': np.float32, 'RDPC': np.float32, 'PEA': np.float32, 'PEA_A': np.float32\n",
    "        , 'IDHM': np.float32, 'IDHM_E': np.float32, 'IDHM_L': np.float32, 'IDHM_R': np.float32\n",
    "        , 'T_ANALF18M': np.float32, 'T_MED18M': np.float32,'T_SUPER25M': np.float32, 'T_AGUA': np.float32\n",
    "        , 'T_BANAGUA': np.float32, 'T_DENS': np.float32, 'T_LIXO': np.float32\n",
    "        , 'T_LUZ': np.float32,'AGUA_ESGOTO': np.float32, 'POPDOMCHEFMULHERES': np.float32, 'DENSDEMOG2010': np.float32\n",
    "        , 'PERC_NV_7CPN': np.float32,'CoberturaAB': np.float32\n",
    "})\n",
    "df_vacinas.shape"
   ]
  },
  {
   "cell_type": "code",
   "execution_count": 54,
   "metadata": {},
   "outputs": [],
   "source": [
    "# Carga de dados de localização de muncipios\n",
    "\n",
    "df_estados = pd.read_csv('estados.csv', sep = ',', encoding = 'utf-8', low_memory=False, decimal='.')\n",
    "\n",
    "df_municipios = pd.read_csv('municipios.csv', sep = ',', encoding = 'utf-8', low_memory=False, decimal='.')"
   ]
  },
  {
   "cell_type": "markdown",
   "metadata": {},
   "source": [
    "## Mapas"
   ]
  },
  {
   "cell_type": "code",
   "execution_count": 55,
   "metadata": {},
   "outputs": [
    {
     "data": {
      "text/html": [
       "<div style=\"width:100%;\"><div style=\"position:relative;width:100%;height:0;padding-bottom:60%;\"><span style=\"color:#565656\">Make this Notebook Trusted to load map: File -> Trust Notebook</span><iframe src=\"about:blank\" style=\"position:absolute;width:100%;height:100%;left:0;top:0;border:none !important;\" data-html=%3C%21DOCTYPE%20html%3E%0A%3Chead%3E%20%20%20%20%0A%20%20%20%20%3Cmeta%20http-equiv%3D%22content-type%22%20content%3D%22text/html%3B%20charset%3DUTF-8%22%20/%3E%0A%20%20%20%20%0A%20%20%20%20%20%20%20%20%3Cscript%3E%0A%20%20%20%20%20%20%20%20%20%20%20%20L_NO_TOUCH%20%3D%20false%3B%0A%20%20%20%20%20%20%20%20%20%20%20%20L_DISABLE_3D%20%3D%20false%3B%0A%20%20%20%20%20%20%20%20%3C/script%3E%0A%20%20%20%20%0A%20%20%20%20%3Cstyle%3Ehtml%2C%20body%20%7Bwidth%3A%20100%25%3Bheight%3A%20100%25%3Bmargin%3A%200%3Bpadding%3A%200%3B%7D%3C/style%3E%0A%20%20%20%20%3Cstyle%3E%23map%20%7Bposition%3Aabsolute%3Btop%3A0%3Bbottom%3A0%3Bright%3A0%3Bleft%3A0%3B%7D%3C/style%3E%0A%20%20%20%20%3Cscript%20src%3D%22https%3A//cdn.jsdelivr.net/npm/leaflet%401.6.0/dist/leaflet.js%22%3E%3C/script%3E%0A%20%20%20%20%3Cscript%20src%3D%22https%3A//code.jquery.com/jquery-1.12.4.min.js%22%3E%3C/script%3E%0A%20%20%20%20%3Cscript%20src%3D%22https%3A//maxcdn.bootstrapcdn.com/bootstrap/3.2.0/js/bootstrap.min.js%22%3E%3C/script%3E%0A%20%20%20%20%3Cscript%20src%3D%22https%3A//cdnjs.cloudflare.com/ajax/libs/Leaflet.awesome-markers/2.0.2/leaflet.awesome-markers.js%22%3E%3C/script%3E%0A%20%20%20%20%3Clink%20rel%3D%22stylesheet%22%20href%3D%22https%3A//cdn.jsdelivr.net/npm/leaflet%401.6.0/dist/leaflet.css%22/%3E%0A%20%20%20%20%3Clink%20rel%3D%22stylesheet%22%20href%3D%22https%3A//maxcdn.bootstrapcdn.com/bootstrap/3.2.0/css/bootstrap.min.css%22/%3E%0A%20%20%20%20%3Clink%20rel%3D%22stylesheet%22%20href%3D%22https%3A//maxcdn.bootstrapcdn.com/bootstrap/3.2.0/css/bootstrap-theme.min.css%22/%3E%0A%20%20%20%20%3Clink%20rel%3D%22stylesheet%22%20href%3D%22https%3A//maxcdn.bootstrapcdn.com/font-awesome/4.6.3/css/font-awesome.min.css%22/%3E%0A%20%20%20%20%3Clink%20rel%3D%22stylesheet%22%20href%3D%22https%3A//cdnjs.cloudflare.com/ajax/libs/Leaflet.awesome-markers/2.0.2/leaflet.awesome-markers.css%22/%3E%0A%20%20%20%20%3Clink%20rel%3D%22stylesheet%22%20href%3D%22https%3A//cdn.jsdelivr.net/gh/python-visualization/folium/folium/templates/leaflet.awesome.rotate.min.css%22/%3E%0A%20%20%20%20%0A%20%20%20%20%20%20%20%20%20%20%20%20%3Cmeta%20name%3D%22viewport%22%20content%3D%22width%3Ddevice-width%2C%0A%20%20%20%20%20%20%20%20%20%20%20%20%20%20%20%20initial-scale%3D1.0%2C%20maximum-scale%3D1.0%2C%20user-scalable%3Dno%22%20/%3E%0A%20%20%20%20%20%20%20%20%20%20%20%20%3Cstyle%3E%0A%20%20%20%20%20%20%20%20%20%20%20%20%20%20%20%20%23map_4203ed75cf02493b8bfba9a86a448565%20%7B%0A%20%20%20%20%20%20%20%20%20%20%20%20%20%20%20%20%20%20%20%20position%3A%20relative%3B%0A%20%20%20%20%20%20%20%20%20%20%20%20%20%20%20%20%20%20%20%20width%3A%20100.0%25%3B%0A%20%20%20%20%20%20%20%20%20%20%20%20%20%20%20%20%20%20%20%20height%3A%20100.0%25%3B%0A%20%20%20%20%20%20%20%20%20%20%20%20%20%20%20%20%20%20%20%20left%3A%200.0%25%3B%0A%20%20%20%20%20%20%20%20%20%20%20%20%20%20%20%20%20%20%20%20top%3A%200.0%25%3B%0A%20%20%20%20%20%20%20%20%20%20%20%20%20%20%20%20%7D%0A%20%20%20%20%20%20%20%20%20%20%20%20%3C/style%3E%0A%20%20%20%20%20%20%20%20%0A%3C/head%3E%0A%3Cbody%3E%20%20%20%20%0A%20%20%20%20%0A%20%20%20%20%20%20%20%20%20%20%20%20%3Cdiv%20class%3D%22folium-map%22%20id%3D%22map_4203ed75cf02493b8bfba9a86a448565%22%20%3E%3C/div%3E%0A%20%20%20%20%20%20%20%20%0A%3C/body%3E%0A%3Cscript%3E%20%20%20%20%0A%20%20%20%20%0A%20%20%20%20%20%20%20%20%20%20%20%20var%20map_4203ed75cf02493b8bfba9a86a448565%20%3D%20L.map%28%0A%20%20%20%20%20%20%20%20%20%20%20%20%20%20%20%20%22map_4203ed75cf02493b8bfba9a86a448565%22%2C%0A%20%20%20%20%20%20%20%20%20%20%20%20%20%20%20%20%7B%0A%20%20%20%20%20%20%20%20%20%20%20%20%20%20%20%20%20%20%20%20center%3A%20%5B-15.788497%2C%20-47.879873%5D%2C%0A%20%20%20%20%20%20%20%20%20%20%20%20%20%20%20%20%20%20%20%20crs%3A%20L.CRS.EPSG3857%2C%0A%20%20%20%20%20%20%20%20%20%20%20%20%20%20%20%20%20%20%20%20zoom%3A%20%2204%22%2C%0A%20%20%20%20%20%20%20%20%20%20%20%20%20%20%20%20%20%20%20%20zoomControl%3A%20true%2C%0A%20%20%20%20%20%20%20%20%20%20%20%20%20%20%20%20%20%20%20%20preferCanvas%3A%20false%2C%0A%20%20%20%20%20%20%20%20%20%20%20%20%20%20%20%20%7D%0A%20%20%20%20%20%20%20%20%20%20%20%20%29%3B%0A%0A%20%20%20%20%20%20%20%20%20%20%20%20%0A%0A%20%20%20%20%20%20%20%20%0A%20%20%20%20%0A%20%20%20%20%20%20%20%20%20%20%20%20var%20tile_layer_0f972d85f4a347a19ed8c494186191a6%20%3D%20L.tileLayer%28%0A%20%20%20%20%20%20%20%20%20%20%20%20%20%20%20%20%22https%3A//%7Bs%7D.tile.openstreetmap.org/%7Bz%7D/%7Bx%7D/%7By%7D.png%22%2C%0A%20%20%20%20%20%20%20%20%20%20%20%20%20%20%20%20%7B%22attribution%22%3A%20%22Data%20by%20%5Cu0026copy%3B%20%5Cu003ca%20href%3D%5C%22http%3A//openstreetmap.org%5C%22%5Cu003eOpenStreetMap%5Cu003c/a%5Cu003e%2C%20under%20%5Cu003ca%20href%3D%5C%22http%3A//www.openstreetmap.org/copyright%5C%22%5Cu003eODbL%5Cu003c/a%5Cu003e.%22%2C%20%22detectRetina%22%3A%20false%2C%20%22maxNativeZoom%22%3A%2018%2C%20%22maxZoom%22%3A%2018%2C%20%22minZoom%22%3A%200%2C%20%22noWrap%22%3A%20false%2C%20%22opacity%22%3A%201%2C%20%22subdomains%22%3A%20%22abc%22%2C%20%22tms%22%3A%20false%7D%0A%20%20%20%20%20%20%20%20%20%20%20%20%29.addTo%28map_4203ed75cf02493b8bfba9a86a448565%29%3B%0A%20%20%20%20%20%20%20%20%0A%3C/script%3E onload=\"this.contentDocument.open();this.contentDocument.write(    decodeURIComponent(this.getAttribute('data-html')));this.contentDocument.close();\" allowfullscreen webkitallowfullscreen mozallowfullscreen></iframe></div></div>"
      ],
      "text/plain": [
       "<folium.folium.Map at 0x7fe581c16ac8>"
      ]
     },
     "execution_count": 55,
     "metadata": {},
     "output_type": "execute_result"
    }
   ],
   "source": [
    "mapa = folium.Map(location=[-15.788497,-47.879873],zoom_start=\"04\")\n",
    "mapa"
   ]
  },
  {
   "cell_type": "markdown",
   "metadata": {},
   "source": [
    "### Distribuição dos dados no nível de estado"
   ]
  },
  {
   "cell_type": "code",
   "execution_count": 60,
   "metadata": {},
   "outputs": [
    {
     "data": {
      "text/html": [
       "<div>\n",
       "<style scoped>\n",
       "    .dataframe tbody tr th:only-of-type {\n",
       "        vertical-align: middle;\n",
       "    }\n",
       "\n",
       "    .dataframe tbody tr th {\n",
       "        vertical-align: top;\n",
       "    }\n",
       "\n",
       "    .dataframe thead th {\n",
       "        text-align: right;\n",
       "    }\n",
       "</style>\n",
       "<table border=\"1\" class=\"dataframe\">\n",
       "  <thead>\n",
       "    <tr style=\"text-align: right;\">\n",
       "      <th></th>\n",
       "      <th>COD</th>\n",
       "      <th>CODMUN7</th>\n",
       "      <th>Estado</th>\n",
       "      <th>ano</th>\n",
       "      <th>Nome</th>\n",
       "      <th>CV_SCR1 (1 ano)</th>\n",
       "      <th>CV_SCR2 (15 meses)</th>\n",
       "      <th>Poprural</th>\n",
       "      <th>PopUrb</th>\n",
       "      <th>RDPC</th>\n",
       "      <th>...</th>\n",
       "      <th>T_AGUA</th>\n",
       "      <th>T_BANAGUA</th>\n",
       "      <th>T_DENS</th>\n",
       "      <th>T_LIXO</th>\n",
       "      <th>T_LUZ</th>\n",
       "      <th>AGUA_ESGOTO</th>\n",
       "      <th>POPDOMCHEFMULHERES</th>\n",
       "      <th>DENSDEMOG2010</th>\n",
       "      <th>PERC_NV_7CPN</th>\n",
       "      <th>CoberturaAB</th>\n",
       "    </tr>\n",
       "  </thead>\n",
       "  <tbody>\n",
       "    <tr>\n",
       "      <th>0</th>\n",
       "      <td>110001</td>\n",
       "      <td>1100015</td>\n",
       "      <td>Rondônia</td>\n",
       "      <td>2016</td>\n",
       "      <td>Alta Floresta D'Oeste</td>\n",
       "      <td>96.449997</td>\n",
       "      <td>92.080002</td>\n",
       "      <td>42.730000</td>\n",
       "      <td>57.270000</td>\n",
       "      <td>476.989990</td>\n",
       "      <td>...</td>\n",
       "      <td>93.690002</td>\n",
       "      <td>80.199997</td>\n",
       "      <td>22.58</td>\n",
       "      <td>94.050003</td>\n",
       "      <td>93.980003</td>\n",
       "      <td>9.31</td>\n",
       "      <td>26.920000</td>\n",
       "      <td>3.450000</td>\n",
       "      <td>67.180000</td>\n",
       "      <td>80.930000</td>\n",
       "    </tr>\n",
       "    <tr>\n",
       "      <th>1</th>\n",
       "      <td>110002</td>\n",
       "      <td>1100023</td>\n",
       "      <td>Rondônia</td>\n",
       "      <td>2016</td>\n",
       "      <td>Ariquemes</td>\n",
       "      <td>98.919998</td>\n",
       "      <td>89.519997</td>\n",
       "      <td>15.300000</td>\n",
       "      <td>84.699997</td>\n",
       "      <td>689.950012</td>\n",
       "      <td>...</td>\n",
       "      <td>98.540001</td>\n",
       "      <td>85.349998</td>\n",
       "      <td>27.15</td>\n",
       "      <td>96.720001</td>\n",
       "      <td>98.580002</td>\n",
       "      <td>11.40</td>\n",
       "      <td>32.630001</td>\n",
       "      <td>20.410000</td>\n",
       "      <td>72.620003</td>\n",
       "      <td>61.919998</td>\n",
       "    </tr>\n",
       "    <tr>\n",
       "      <th>2</th>\n",
       "      <td>110003</td>\n",
       "      <td>1100031</td>\n",
       "      <td>Rondônia</td>\n",
       "      <td>2016</td>\n",
       "      <td>Cabixi</td>\n",
       "      <td>109.639999</td>\n",
       "      <td>77.110001</td>\n",
       "      <td>57.340000</td>\n",
       "      <td>42.660000</td>\n",
       "      <td>457.170013</td>\n",
       "      <td>...</td>\n",
       "      <td>95.489998</td>\n",
       "      <td>91.629997</td>\n",
       "      <td>19.93</td>\n",
       "      <td>99.139999</td>\n",
       "      <td>96.360001</td>\n",
       "      <td>3.31</td>\n",
       "      <td>16.420000</td>\n",
       "      <td>4.800000</td>\n",
       "      <td>65.750000</td>\n",
       "      <td>100.000000</td>\n",
       "    </tr>\n",
       "    <tr>\n",
       "      <th>3</th>\n",
       "      <td>110004</td>\n",
       "      <td>1100049</td>\n",
       "      <td>Rondônia</td>\n",
       "      <td>2016</td>\n",
       "      <td>Cacoal</td>\n",
       "      <td>99.180000</td>\n",
       "      <td>82.320000</td>\n",
       "      <td>21.190001</td>\n",
       "      <td>78.809998</td>\n",
       "      <td>738.059998</td>\n",
       "      <td>...</td>\n",
       "      <td>97.959999</td>\n",
       "      <td>93.440002</td>\n",
       "      <td>20.50</td>\n",
       "      <td>98.169998</td>\n",
       "      <td>98.889999</td>\n",
       "      <td>1.85</td>\n",
       "      <td>31.730000</td>\n",
       "      <td>20.719999</td>\n",
       "      <td>74.589996</td>\n",
       "      <td>71.190002</td>\n",
       "    </tr>\n",
       "    <tr>\n",
       "      <th>4</th>\n",
       "      <td>110005</td>\n",
       "      <td>1100056</td>\n",
       "      <td>Rondônia</td>\n",
       "      <td>2016</td>\n",
       "      <td>Cerejeiras</td>\n",
       "      <td>99.279999</td>\n",
       "      <td>85.510002</td>\n",
       "      <td>15.330000</td>\n",
       "      <td>84.669998</td>\n",
       "      <td>577.179993</td>\n",
       "      <td>...</td>\n",
       "      <td>97.529999</td>\n",
       "      <td>86.870003</td>\n",
       "      <td>16.66</td>\n",
       "      <td>91.889999</td>\n",
       "      <td>98.849998</td>\n",
       "      <td>5.34</td>\n",
       "      <td>39.970001</td>\n",
       "      <td>6.120000</td>\n",
       "      <td>76.809998</td>\n",
       "      <td>95.910004</td>\n",
       "    </tr>\n",
       "  </tbody>\n",
       "</table>\n",
       "<p>5 rows × 29 columns</p>\n",
       "</div>"
      ],
      "text/plain": [
       "      COD  CODMUN7    Estado   ano                   Nome  CV_SCR1 (1 ano)  \\\n",
       "0  110001  1100015  Rondônia  2016  Alta Floresta D'Oeste        96.449997   \n",
       "1  110002  1100023  Rondônia  2016              Ariquemes        98.919998   \n",
       "2  110003  1100031  Rondônia  2016                 Cabixi       109.639999   \n",
       "3  110004  1100049  Rondônia  2016                 Cacoal        99.180000   \n",
       "4  110005  1100056  Rondônia  2016             Cerejeiras        99.279999   \n",
       "\n",
       "   CV_SCR2 (15 meses)   Poprural     PopUrb        RDPC     ...       \\\n",
       "0           92.080002  42.730000  57.270000  476.989990     ...        \n",
       "1           89.519997  15.300000  84.699997  689.950012     ...        \n",
       "2           77.110001  57.340000  42.660000  457.170013     ...        \n",
       "3           82.320000  21.190001  78.809998  738.059998     ...        \n",
       "4           85.510002  15.330000  84.669998  577.179993     ...        \n",
       "\n",
       "      T_AGUA  T_BANAGUA  T_DENS     T_LIXO      T_LUZ  AGUA_ESGOTO  \\\n",
       "0  93.690002  80.199997   22.58  94.050003  93.980003         9.31   \n",
       "1  98.540001  85.349998   27.15  96.720001  98.580002        11.40   \n",
       "2  95.489998  91.629997   19.93  99.139999  96.360001         3.31   \n",
       "3  97.959999  93.440002   20.50  98.169998  98.889999         1.85   \n",
       "4  97.529999  86.870003   16.66  91.889999  98.849998         5.34   \n",
       "\n",
       "   POPDOMCHEFMULHERES  DENSDEMOG2010  PERC_NV_7CPN  CoberturaAB  \n",
       "0           26.920000       3.450000     67.180000    80.930000  \n",
       "1           32.630001      20.410000     72.620003    61.919998  \n",
       "2           16.420000       4.800000     65.750000   100.000000  \n",
       "3           31.730000      20.719999     74.589996    71.190002  \n",
       "4           39.970001       6.120000     76.809998    95.910004  \n",
       "\n",
       "[5 rows x 29 columns]"
      ]
     },
     "execution_count": 60,
     "metadata": {},
     "output_type": "execute_result"
    }
   ],
   "source": [
    "df_vacinas.head()"
   ]
  },
  {
   "cell_type": "code",
   "execution_count": 58,
   "metadata": {},
   "outputs": [
    {
     "data": {
      "text/html": [
       "<div>\n",
       "<style scoped>\n",
       "    .dataframe tbody tr th:only-of-type {\n",
       "        vertical-align: middle;\n",
       "    }\n",
       "\n",
       "    .dataframe tbody tr th {\n",
       "        vertical-align: top;\n",
       "    }\n",
       "\n",
       "    .dataframe thead th {\n",
       "        text-align: right;\n",
       "    }\n",
       "</style>\n",
       "<table border=\"1\" class=\"dataframe\">\n",
       "  <thead>\n",
       "    <tr style=\"text-align: right;\">\n",
       "      <th></th>\n",
       "      <th>COD</th>\n",
       "      <th>CODMUN7</th>\n",
       "      <th>Estado</th>\n",
       "      <th>ano</th>\n",
       "      <th>Nome</th>\n",
       "      <th>CV_SCR1 (1 ano)</th>\n",
       "      <th>CV_SCR2 (15 meses)</th>\n",
       "      <th>Poprural</th>\n",
       "      <th>PopUrb</th>\n",
       "      <th>RDPC</th>\n",
       "      <th>...</th>\n",
       "      <th>AGUA_ESGOTO</th>\n",
       "      <th>POPDOMCHEFMULHERES</th>\n",
       "      <th>DENSDEMOG2010</th>\n",
       "      <th>PERC_NV_7CPN</th>\n",
       "      <th>CoberturaAB</th>\n",
       "      <th>codigo_uf</th>\n",
       "      <th>uf</th>\n",
       "      <th>nome</th>\n",
       "      <th>latitude</th>\n",
       "      <th>longitude</th>\n",
       "    </tr>\n",
       "  </thead>\n",
       "  <tbody>\n",
       "    <tr>\n",
       "      <th>0</th>\n",
       "      <td>110001</td>\n",
       "      <td>1100015</td>\n",
       "      <td>Rondônia</td>\n",
       "      <td>2016</td>\n",
       "      <td>Alta Floresta D'Oeste</td>\n",
       "      <td>96.449997</td>\n",
       "      <td>92.080002</td>\n",
       "      <td>42.730000</td>\n",
       "      <td>57.270000</td>\n",
       "      <td>476.989990</td>\n",
       "      <td>...</td>\n",
       "      <td>9.31</td>\n",
       "      <td>26.920000</td>\n",
       "      <td>3.450000</td>\n",
       "      <td>67.180000</td>\n",
       "      <td>80.930000</td>\n",
       "      <td>11</td>\n",
       "      <td>RO</td>\n",
       "      <td>Rondônia</td>\n",
       "      <td>-10.83</td>\n",
       "      <td>-63.34</td>\n",
       "    </tr>\n",
       "    <tr>\n",
       "      <th>1</th>\n",
       "      <td>110002</td>\n",
       "      <td>1100023</td>\n",
       "      <td>Rondônia</td>\n",
       "      <td>2016</td>\n",
       "      <td>Ariquemes</td>\n",
       "      <td>98.919998</td>\n",
       "      <td>89.519997</td>\n",
       "      <td>15.300000</td>\n",
       "      <td>84.699997</td>\n",
       "      <td>689.950012</td>\n",
       "      <td>...</td>\n",
       "      <td>11.40</td>\n",
       "      <td>32.630001</td>\n",
       "      <td>20.410000</td>\n",
       "      <td>72.620003</td>\n",
       "      <td>61.919998</td>\n",
       "      <td>11</td>\n",
       "      <td>RO</td>\n",
       "      <td>Rondônia</td>\n",
       "      <td>-10.83</td>\n",
       "      <td>-63.34</td>\n",
       "    </tr>\n",
       "    <tr>\n",
       "      <th>2</th>\n",
       "      <td>110003</td>\n",
       "      <td>1100031</td>\n",
       "      <td>Rondônia</td>\n",
       "      <td>2016</td>\n",
       "      <td>Cabixi</td>\n",
       "      <td>109.639999</td>\n",
       "      <td>77.110001</td>\n",
       "      <td>57.340000</td>\n",
       "      <td>42.660000</td>\n",
       "      <td>457.170013</td>\n",
       "      <td>...</td>\n",
       "      <td>3.31</td>\n",
       "      <td>16.420000</td>\n",
       "      <td>4.800000</td>\n",
       "      <td>65.750000</td>\n",
       "      <td>100.000000</td>\n",
       "      <td>11</td>\n",
       "      <td>RO</td>\n",
       "      <td>Rondônia</td>\n",
       "      <td>-10.83</td>\n",
       "      <td>-63.34</td>\n",
       "    </tr>\n",
       "    <tr>\n",
       "      <th>3</th>\n",
       "      <td>110004</td>\n",
       "      <td>1100049</td>\n",
       "      <td>Rondônia</td>\n",
       "      <td>2016</td>\n",
       "      <td>Cacoal</td>\n",
       "      <td>99.180000</td>\n",
       "      <td>82.320000</td>\n",
       "      <td>21.190001</td>\n",
       "      <td>78.809998</td>\n",
       "      <td>738.059998</td>\n",
       "      <td>...</td>\n",
       "      <td>1.85</td>\n",
       "      <td>31.730000</td>\n",
       "      <td>20.719999</td>\n",
       "      <td>74.589996</td>\n",
       "      <td>71.190002</td>\n",
       "      <td>11</td>\n",
       "      <td>RO</td>\n",
       "      <td>Rondônia</td>\n",
       "      <td>-10.83</td>\n",
       "      <td>-63.34</td>\n",
       "    </tr>\n",
       "    <tr>\n",
       "      <th>4</th>\n",
       "      <td>110005</td>\n",
       "      <td>1100056</td>\n",
       "      <td>Rondônia</td>\n",
       "      <td>2016</td>\n",
       "      <td>Cerejeiras</td>\n",
       "      <td>99.279999</td>\n",
       "      <td>85.510002</td>\n",
       "      <td>15.330000</td>\n",
       "      <td>84.669998</td>\n",
       "      <td>577.179993</td>\n",
       "      <td>...</td>\n",
       "      <td>5.34</td>\n",
       "      <td>39.970001</td>\n",
       "      <td>6.120000</td>\n",
       "      <td>76.809998</td>\n",
       "      <td>95.910004</td>\n",
       "      <td>11</td>\n",
       "      <td>RO</td>\n",
       "      <td>Rondônia</td>\n",
       "      <td>-10.83</td>\n",
       "      <td>-63.34</td>\n",
       "    </tr>\n",
       "  </tbody>\n",
       "</table>\n",
       "<p>5 rows × 34 columns</p>\n",
       "</div>"
      ],
      "text/plain": [
       "      COD  CODMUN7    Estado   ano                   Nome  CV_SCR1 (1 ano)  \\\n",
       "0  110001  1100015  Rondônia  2016  Alta Floresta D'Oeste        96.449997   \n",
       "1  110002  1100023  Rondônia  2016              Ariquemes        98.919998   \n",
       "2  110003  1100031  Rondônia  2016                 Cabixi       109.639999   \n",
       "3  110004  1100049  Rondônia  2016                 Cacoal        99.180000   \n",
       "4  110005  1100056  Rondônia  2016             Cerejeiras        99.279999   \n",
       "\n",
       "   CV_SCR2 (15 meses)   Poprural     PopUrb        RDPC    ...      \\\n",
       "0           92.080002  42.730000  57.270000  476.989990    ...       \n",
       "1           89.519997  15.300000  84.699997  689.950012    ...       \n",
       "2           77.110001  57.340000  42.660000  457.170013    ...       \n",
       "3           82.320000  21.190001  78.809998  738.059998    ...       \n",
       "4           85.510002  15.330000  84.669998  577.179993    ...       \n",
       "\n",
       "   AGUA_ESGOTO  POPDOMCHEFMULHERES  DENSDEMOG2010  PERC_NV_7CPN  CoberturaAB  \\\n",
       "0         9.31           26.920000       3.450000     67.180000    80.930000   \n",
       "1        11.40           32.630001      20.410000     72.620003    61.919998   \n",
       "2         3.31           16.420000       4.800000     65.750000   100.000000   \n",
       "3         1.85           31.730000      20.719999     74.589996    71.190002   \n",
       "4         5.34           39.970001       6.120000     76.809998    95.910004   \n",
       "\n",
       "   codigo_uf  uf      nome  latitude  longitude  \n",
       "0         11  RO  Rondônia    -10.83     -63.34  \n",
       "1         11  RO  Rondônia    -10.83     -63.34  \n",
       "2         11  RO  Rondônia    -10.83     -63.34  \n",
       "3         11  RO  Rondônia    -10.83     -63.34  \n",
       "4         11  RO  Rondônia    -10.83     -63.34  \n",
       "\n",
       "[5 rows x 34 columns]"
      ]
     },
     "execution_count": 58,
     "metadata": {},
     "output_type": "execute_result"
    }
   ],
   "source": [
    "# Merge dataset vacinas e geolocalização\n",
    "df_plot_estados = pd.merge(df_vacinas, df_estados, how='left', left_on='Estado', right_on='nome')\n",
    "df_plot_estados.head()\n"
   ]
  },
  {
   "cell_type": "code",
   "execution_count": 61,
   "metadata": {},
   "outputs": [
    {
     "data": {
      "text/html": [
       "<div>\n",
       "<style scoped>\n",
       "    .dataframe tbody tr th:only-of-type {\n",
       "        vertical-align: middle;\n",
       "    }\n",
       "\n",
       "    .dataframe tbody tr th {\n",
       "        vertical-align: top;\n",
       "    }\n",
       "\n",
       "    .dataframe thead th {\n",
       "        text-align: right;\n",
       "    }\n",
       "</style>\n",
       "<table border=\"1\" class=\"dataframe\">\n",
       "  <thead>\n",
       "    <tr style=\"text-align: right;\">\n",
       "      <th></th>\n",
       "      <th>COD</th>\n",
       "      <th>CODMUN7</th>\n",
       "      <th>Estado</th>\n",
       "      <th>ano</th>\n",
       "      <th>Nome</th>\n",
       "      <th>CV_SCR1 (1 ano)</th>\n",
       "      <th>CV_SCR2 (15 meses)</th>\n",
       "      <th>Poprural</th>\n",
       "      <th>PopUrb</th>\n",
       "      <th>RDPC</th>\n",
       "      <th>...</th>\n",
       "      <th>AGUA_ESGOTO</th>\n",
       "      <th>POPDOMCHEFMULHERES</th>\n",
       "      <th>DENSDEMOG2010</th>\n",
       "      <th>PERC_NV_7CPN</th>\n",
       "      <th>CoberturaAB</th>\n",
       "      <th>codigo_uf</th>\n",
       "      <th>uf</th>\n",
       "      <th>nome</th>\n",
       "      <th>latitude</th>\n",
       "      <th>longitude</th>\n",
       "    </tr>\n",
       "  </thead>\n",
       "  <tbody>\n",
       "    <tr>\n",
       "      <th>0</th>\n",
       "      <td>110001</td>\n",
       "      <td>1100015</td>\n",
       "      <td>Rondônia</td>\n",
       "      <td>2016</td>\n",
       "      <td>Alta Floresta D'Oeste</td>\n",
       "      <td>96.449997</td>\n",
       "      <td>92.080002</td>\n",
       "      <td>42.730000</td>\n",
       "      <td>57.270000</td>\n",
       "      <td>476.989990</td>\n",
       "      <td>...</td>\n",
       "      <td>9.31</td>\n",
       "      <td>26.920000</td>\n",
       "      <td>3.450000</td>\n",
       "      <td>67.180000</td>\n",
       "      <td>80.930000</td>\n",
       "      <td>11</td>\n",
       "      <td>RO</td>\n",
       "      <td>Rondônia</td>\n",
       "      <td>-10.83</td>\n",
       "      <td>-63.34</td>\n",
       "    </tr>\n",
       "    <tr>\n",
       "      <th>1</th>\n",
       "      <td>110002</td>\n",
       "      <td>1100023</td>\n",
       "      <td>Rondônia</td>\n",
       "      <td>2016</td>\n",
       "      <td>Ariquemes</td>\n",
       "      <td>98.919998</td>\n",
       "      <td>89.519997</td>\n",
       "      <td>15.300000</td>\n",
       "      <td>84.699997</td>\n",
       "      <td>689.950012</td>\n",
       "      <td>...</td>\n",
       "      <td>11.40</td>\n",
       "      <td>32.630001</td>\n",
       "      <td>20.410000</td>\n",
       "      <td>72.620003</td>\n",
       "      <td>61.919998</td>\n",
       "      <td>11</td>\n",
       "      <td>RO</td>\n",
       "      <td>Rondônia</td>\n",
       "      <td>-10.83</td>\n",
       "      <td>-63.34</td>\n",
       "    </tr>\n",
       "    <tr>\n",
       "      <th>2</th>\n",
       "      <td>110003</td>\n",
       "      <td>1100031</td>\n",
       "      <td>Rondônia</td>\n",
       "      <td>2016</td>\n",
       "      <td>Cabixi</td>\n",
       "      <td>109.639999</td>\n",
       "      <td>77.110001</td>\n",
       "      <td>57.340000</td>\n",
       "      <td>42.660000</td>\n",
       "      <td>457.170013</td>\n",
       "      <td>...</td>\n",
       "      <td>3.31</td>\n",
       "      <td>16.420000</td>\n",
       "      <td>4.800000</td>\n",
       "      <td>65.750000</td>\n",
       "      <td>100.000000</td>\n",
       "      <td>11</td>\n",
       "      <td>RO</td>\n",
       "      <td>Rondônia</td>\n",
       "      <td>-10.83</td>\n",
       "      <td>-63.34</td>\n",
       "    </tr>\n",
       "    <tr>\n",
       "      <th>3</th>\n",
       "      <td>110004</td>\n",
       "      <td>1100049</td>\n",
       "      <td>Rondônia</td>\n",
       "      <td>2016</td>\n",
       "      <td>Cacoal</td>\n",
       "      <td>99.180000</td>\n",
       "      <td>82.320000</td>\n",
       "      <td>21.190001</td>\n",
       "      <td>78.809998</td>\n",
       "      <td>738.059998</td>\n",
       "      <td>...</td>\n",
       "      <td>1.85</td>\n",
       "      <td>31.730000</td>\n",
       "      <td>20.719999</td>\n",
       "      <td>74.589996</td>\n",
       "      <td>71.190002</td>\n",
       "      <td>11</td>\n",
       "      <td>RO</td>\n",
       "      <td>Rondônia</td>\n",
       "      <td>-10.83</td>\n",
       "      <td>-63.34</td>\n",
       "    </tr>\n",
       "  </tbody>\n",
       "</table>\n",
       "<p>4 rows × 34 columns</p>\n",
       "</div>"
      ],
      "text/plain": [
       "      COD  CODMUN7    Estado   ano                   Nome  CV_SCR1 (1 ano)  \\\n",
       "0  110001  1100015  Rondônia  2016  Alta Floresta D'Oeste        96.449997   \n",
       "1  110002  1100023  Rondônia  2016              Ariquemes        98.919998   \n",
       "2  110003  1100031  Rondônia  2016                 Cabixi       109.639999   \n",
       "3  110004  1100049  Rondônia  2016                 Cacoal        99.180000   \n",
       "\n",
       "   CV_SCR2 (15 meses)   Poprural     PopUrb        RDPC    ...      \\\n",
       "0           92.080002  42.730000  57.270000  476.989990    ...       \n",
       "1           89.519997  15.300000  84.699997  689.950012    ...       \n",
       "2           77.110001  57.340000  42.660000  457.170013    ...       \n",
       "3           82.320000  21.190001  78.809998  738.059998    ...       \n",
       "\n",
       "   AGUA_ESGOTO  POPDOMCHEFMULHERES  DENSDEMOG2010  PERC_NV_7CPN  CoberturaAB  \\\n",
       "0         9.31           26.920000       3.450000     67.180000    80.930000   \n",
       "1        11.40           32.630001      20.410000     72.620003    61.919998   \n",
       "2         3.31           16.420000       4.800000     65.750000   100.000000   \n",
       "3         1.85           31.730000      20.719999     74.589996    71.190002   \n",
       "\n",
       "   codigo_uf  uf      nome  latitude  longitude  \n",
       "0         11  RO  Rondônia    -10.83     -63.34  \n",
       "1         11  RO  Rondônia    -10.83     -63.34  \n",
       "2         11  RO  Rondônia    -10.83     -63.34  \n",
       "3         11  RO  Rondônia    -10.83     -63.34  \n",
       "\n",
       "[4 rows x 34 columns]"
      ]
     },
     "execution_count": 61,
     "metadata": {},
     "output_type": "execute_result"
    }
   ],
   "source": [
    "df_plot_estados.head(4)"
   ]
  },
  {
   "cell_type": "code",
   "execution_count": null,
   "metadata": {},
   "outputs": [],
   "source": [
    "# Extraindo as coordenadas\n",
    "for lat,lng in zip(df_plot_estados.latitude.values,df_plot_estados.longitude.values):\n",
    "     folium.Marker([lat, lng]).add_to(mapa)\n",
    "mapa"
   ]
  },
  {
   "cell_type": "markdown",
   "metadata": {},
   "source": [
    "### Distribuição dos dados no nível de município"
   ]
  },
  {
   "cell_type": "code",
   "execution_count": 63,
   "metadata": {},
   "outputs": [],
   "source": [
    "# Merge dataset vacinas e geolocalização\n",
    "df_plot_municipios = pd.merge(df_vacinas, df_municipios, how='left', left_on='CODMUN7', right_on='codigo_ibge')"
   ]
  },
  {
   "cell_type": "code",
   "execution_count": 64,
   "metadata": {},
   "outputs": [
    {
     "data": {
      "text/html": [
       "<div>\n",
       "<style scoped>\n",
       "    .dataframe tbody tr th:only-of-type {\n",
       "        vertical-align: middle;\n",
       "    }\n",
       "\n",
       "    .dataframe tbody tr th {\n",
       "        vertical-align: top;\n",
       "    }\n",
       "\n",
       "    .dataframe thead th {\n",
       "        text-align: right;\n",
       "    }\n",
       "</style>\n",
       "<table border=\"1\" class=\"dataframe\">\n",
       "  <thead>\n",
       "    <tr style=\"text-align: right;\">\n",
       "      <th></th>\n",
       "      <th>COD</th>\n",
       "      <th>CODMUN7</th>\n",
       "      <th>Estado</th>\n",
       "      <th>ano</th>\n",
       "      <th>Nome</th>\n",
       "      <th>CV_SCR1 (1 ano)</th>\n",
       "      <th>CV_SCR2 (15 meses)</th>\n",
       "      <th>Poprural</th>\n",
       "      <th>PopUrb</th>\n",
       "      <th>RDPC</th>\n",
       "      <th>...</th>\n",
       "      <th>POPDOMCHEFMULHERES</th>\n",
       "      <th>DENSDEMOG2010</th>\n",
       "      <th>PERC_NV_7CPN</th>\n",
       "      <th>CoberturaAB</th>\n",
       "      <th>codigo_ibge</th>\n",
       "      <th>nome</th>\n",
       "      <th>latitude</th>\n",
       "      <th>longitude</th>\n",
       "      <th>capital</th>\n",
       "      <th>codigo_uf</th>\n",
       "    </tr>\n",
       "  </thead>\n",
       "  <tbody>\n",
       "    <tr>\n",
       "      <th>0</th>\n",
       "      <td>110001</td>\n",
       "      <td>1100015</td>\n",
       "      <td>Rondônia</td>\n",
       "      <td>2016</td>\n",
       "      <td>Alta Floresta D'Oeste</td>\n",
       "      <td>96.449997</td>\n",
       "      <td>92.080002</td>\n",
       "      <td>42.730000</td>\n",
       "      <td>57.270000</td>\n",
       "      <td>476.989990</td>\n",
       "      <td>...</td>\n",
       "      <td>26.920000</td>\n",
       "      <td>3.450000</td>\n",
       "      <td>67.180000</td>\n",
       "      <td>80.930000</td>\n",
       "      <td>1100015</td>\n",
       "      <td>Alta Floresta D'Oeste</td>\n",
       "      <td>-11.92830</td>\n",
       "      <td>-61.9953</td>\n",
       "      <td>0</td>\n",
       "      <td>11</td>\n",
       "    </tr>\n",
       "    <tr>\n",
       "      <th>1</th>\n",
       "      <td>110002</td>\n",
       "      <td>1100023</td>\n",
       "      <td>Rondônia</td>\n",
       "      <td>2016</td>\n",
       "      <td>Ariquemes</td>\n",
       "      <td>98.919998</td>\n",
       "      <td>89.519997</td>\n",
       "      <td>15.300000</td>\n",
       "      <td>84.699997</td>\n",
       "      <td>689.950012</td>\n",
       "      <td>...</td>\n",
       "      <td>32.630001</td>\n",
       "      <td>20.410000</td>\n",
       "      <td>72.620003</td>\n",
       "      <td>61.919998</td>\n",
       "      <td>1100023</td>\n",
       "      <td>Ariquemes</td>\n",
       "      <td>-9.90571</td>\n",
       "      <td>-63.0325</td>\n",
       "      <td>0</td>\n",
       "      <td>11</td>\n",
       "    </tr>\n",
       "    <tr>\n",
       "      <th>2</th>\n",
       "      <td>110003</td>\n",
       "      <td>1100031</td>\n",
       "      <td>Rondônia</td>\n",
       "      <td>2016</td>\n",
       "      <td>Cabixi</td>\n",
       "      <td>109.639999</td>\n",
       "      <td>77.110001</td>\n",
       "      <td>57.340000</td>\n",
       "      <td>42.660000</td>\n",
       "      <td>457.170013</td>\n",
       "      <td>...</td>\n",
       "      <td>16.420000</td>\n",
       "      <td>4.800000</td>\n",
       "      <td>65.750000</td>\n",
       "      <td>100.000000</td>\n",
       "      <td>1100031</td>\n",
       "      <td>Cabixi</td>\n",
       "      <td>-13.49450</td>\n",
       "      <td>-60.5520</td>\n",
       "      <td>0</td>\n",
       "      <td>11</td>\n",
       "    </tr>\n",
       "    <tr>\n",
       "      <th>3</th>\n",
       "      <td>110004</td>\n",
       "      <td>1100049</td>\n",
       "      <td>Rondônia</td>\n",
       "      <td>2016</td>\n",
       "      <td>Cacoal</td>\n",
       "      <td>99.180000</td>\n",
       "      <td>82.320000</td>\n",
       "      <td>21.190001</td>\n",
       "      <td>78.809998</td>\n",
       "      <td>738.059998</td>\n",
       "      <td>...</td>\n",
       "      <td>31.730000</td>\n",
       "      <td>20.719999</td>\n",
       "      <td>74.589996</td>\n",
       "      <td>71.190002</td>\n",
       "      <td>1100049</td>\n",
       "      <td>Cacoal</td>\n",
       "      <td>-11.43430</td>\n",
       "      <td>-61.4562</td>\n",
       "      <td>0</td>\n",
       "      <td>11</td>\n",
       "    </tr>\n",
       "  </tbody>\n",
       "</table>\n",
       "<p>4 rows × 35 columns</p>\n",
       "</div>"
      ],
      "text/plain": [
       "      COD  CODMUN7    Estado   ano                   Nome  CV_SCR1 (1 ano)  \\\n",
       "0  110001  1100015  Rondônia  2016  Alta Floresta D'Oeste        96.449997   \n",
       "1  110002  1100023  Rondônia  2016              Ariquemes        98.919998   \n",
       "2  110003  1100031  Rondônia  2016                 Cabixi       109.639999   \n",
       "3  110004  1100049  Rondônia  2016                 Cacoal        99.180000   \n",
       "\n",
       "   CV_SCR2 (15 meses)   Poprural     PopUrb        RDPC    ...      \\\n",
       "0           92.080002  42.730000  57.270000  476.989990    ...       \n",
       "1           89.519997  15.300000  84.699997  689.950012    ...       \n",
       "2           77.110001  57.340000  42.660000  457.170013    ...       \n",
       "3           82.320000  21.190001  78.809998  738.059998    ...       \n",
       "\n",
       "   POPDOMCHEFMULHERES  DENSDEMOG2010  PERC_NV_7CPN  CoberturaAB  codigo_ibge  \\\n",
       "0           26.920000       3.450000     67.180000    80.930000      1100015   \n",
       "1           32.630001      20.410000     72.620003    61.919998      1100023   \n",
       "2           16.420000       4.800000     65.750000   100.000000      1100031   \n",
       "3           31.730000      20.719999     74.589996    71.190002      1100049   \n",
       "\n",
       "                    nome  latitude  longitude  capital  codigo_uf  \n",
       "0  Alta Floresta D'Oeste -11.92830   -61.9953        0         11  \n",
       "1              Ariquemes  -9.90571   -63.0325        0         11  \n",
       "2                 Cabixi -13.49450   -60.5520        0         11  \n",
       "3                 Cacoal -11.43430   -61.4562        0         11  \n",
       "\n",
       "[4 rows x 35 columns]"
      ]
     },
     "execution_count": 64,
     "metadata": {},
     "output_type": "execute_result"
    }
   ],
   "source": [
    "df_plot_municipios.head(4)"
   ]
  },
  {
   "cell_type": "code",
   "execution_count": 65,
   "metadata": {},
   "outputs": [],
   "source": [
    "# Extraindo as coordenadas\n",
    "coordenadas=[]\n",
    "for lat,lng in zip(df_plot_municipios.latitude.values,df_plot_municipios.longitude.values):\n",
    "  coordenadas.append([lat,lng])"
   ]
  },
  {
   "cell_type": "code",
   "execution_count": 66,
   "metadata": {},
   "outputs": [
    {
     "data": {
      "text/html": [
       "<div style=\"width:100%;\"><div style=\"position:relative;width:100%;height:0;padding-bottom:60%;\"><span style=\"color:#565656\">Make this Notebook Trusted to load map: File -> Trust Notebook</span><iframe src=\"about:blank\" style=\"position:absolute;width:100%;height:100%;left:0;top:0;border:none !important;\" data-html=%3C%21DOCTYPE%20html%3E%0A%3Chead%3E%20%20%20%20%0A%20%20%20%20%3Cmeta%20http-equiv%3D%22content-type%22%20content%3D%22text/html%3B%20charset%3DUTF-8%22%20/%3E%0A%20%20%20%20%0A%20%20%20%20%20%20%20%20%3Cscript%3E%0A%20%20%20%20%20%20%20%20%20%20%20%20L_NO_TOUCH%20%3D%20false%3B%0A%20%20%20%20%20%20%20%20%20%20%20%20L_DISABLE_3D%20%3D%20false%3B%0A%20%20%20%20%20%20%20%20%3C/script%3E%0A%20%20%20%20%0A%20%20%20%20%3Cstyle%3Ehtml%2C%20body%20%7Bwidth%3A%20100%25%3Bheight%3A%20100%25%3Bmargin%3A%200%3Bpadding%3A%200%3B%7D%3C/style%3E%0A%20%20%20%20%3Cstyle%3E%23map%20%7Bposition%3Aabsolute%3Btop%3A0%3Bbottom%3A0%3Bright%3A0%3Bleft%3A0%3B%7D%3C/style%3E%0A%20%20%20%20%3Cscript%20src%3D%22https%3A//cdn.jsdelivr.net/npm/leaflet%401.6.0/dist/leaflet.js%22%3E%3C/script%3E%0A%20%20%20%20%3Cscript%20src%3D%22https%3A//code.jquery.com/jquery-1.12.4.min.js%22%3E%3C/script%3E%0A%20%20%20%20%3Cscript%20src%3D%22https%3A//maxcdn.bootstrapcdn.com/bootstrap/3.2.0/js/bootstrap.min.js%22%3E%3C/script%3E%0A%20%20%20%20%3Cscript%20src%3D%22https%3A//cdnjs.cloudflare.com/ajax/libs/Leaflet.awesome-markers/2.0.2/leaflet.awesome-markers.js%22%3E%3C/script%3E%0A%20%20%20%20%3Clink%20rel%3D%22stylesheet%22%20href%3D%22https%3A//cdn.jsdelivr.net/npm/leaflet%401.6.0/dist/leaflet.css%22/%3E%0A%20%20%20%20%3Clink%20rel%3D%22stylesheet%22%20href%3D%22https%3A//maxcdn.bootstrapcdn.com/bootstrap/3.2.0/css/bootstrap.min.css%22/%3E%0A%20%20%20%20%3Clink%20rel%3D%22stylesheet%22%20href%3D%22https%3A//maxcdn.bootstrapcdn.com/bootstrap/3.2.0/css/bootstrap-theme.min.css%22/%3E%0A%20%20%20%20%3Clink%20rel%3D%22stylesheet%22%20href%3D%22https%3A//maxcdn.bootstrapcdn.com/font-awesome/4.6.3/css/font-awesome.min.css%22/%3E%0A%20%20%20%20%3Clink%20rel%3D%22stylesheet%22%20href%3D%22https%3A//cdnjs.cloudflare.com/ajax/libs/Leaflet.awesome-markers/2.0.2/leaflet.awesome-markers.css%22/%3E%0A%20%20%20%20%3Clink%20rel%3D%22stylesheet%22%20href%3D%22https%3A//cdn.jsdelivr.net/gh/python-visualization/folium/folium/templates/leaflet.awesome.rotate.min.css%22/%3E%0A%20%20%20%20%0A%20%20%20%20%20%20%20%20%20%20%20%20%3Cmeta%20name%3D%22viewport%22%20content%3D%22width%3Ddevice-width%2C%0A%20%20%20%20%20%20%20%20%20%20%20%20%20%20%20%20initial-scale%3D1.0%2C%20maximum-scale%3D1.0%2C%20user-scalable%3Dno%22%20/%3E%0A%20%20%20%20%20%20%20%20%20%20%20%20%3Cstyle%3E%0A%20%20%20%20%20%20%20%20%20%20%20%20%20%20%20%20%23map_c1d1be5613664d8ea852dbee6e7f757c%20%7B%0A%20%20%20%20%20%20%20%20%20%20%20%20%20%20%20%20%20%20%20%20position%3A%20relative%3B%0A%20%20%20%20%20%20%20%20%20%20%20%20%20%20%20%20%20%20%20%20width%3A%20100.0%25%3B%0A%20%20%20%20%20%20%20%20%20%20%20%20%20%20%20%20%20%20%20%20height%3A%20100.0%25%3B%0A%20%20%20%20%20%20%20%20%20%20%20%20%20%20%20%20%20%20%20%20left%3A%200.0%25%3B%0A%20%20%20%20%20%20%20%20%20%20%20%20%20%20%20%20%20%20%20%20top%3A%200.0%25%3B%0A%20%20%20%20%20%20%20%20%20%20%20%20%20%20%20%20%7D%0A%20%20%20%20%20%20%20%20%20%20%20%20%3C/style%3E%0A%20%20%20%20%20%20%20%20%0A%3C/head%3E%0A%3Cbody%3E%20%20%20%20%0A%20%20%20%20%0A%20%20%20%20%20%20%20%20%20%20%20%20%3Cdiv%20class%3D%22folium-map%22%20id%3D%22map_c1d1be5613664d8ea852dbee6e7f757c%22%20%3E%3C/div%3E%0A%20%20%20%20%20%20%20%20%0A%3C/body%3E%0A%3Cscript%3E%20%20%20%20%0A%20%20%20%20%0A%20%20%20%20%20%20%20%20%20%20%20%20var%20map_c1d1be5613664d8ea852dbee6e7f757c%20%3D%20L.map%28%0A%20%20%20%20%20%20%20%20%20%20%20%20%20%20%20%20%22map_c1d1be5613664d8ea852dbee6e7f757c%22%2C%0A%20%20%20%20%20%20%20%20%20%20%20%20%20%20%20%20%7B%0A%20%20%20%20%20%20%20%20%20%20%20%20%20%20%20%20%20%20%20%20center%3A%20%5B-15.788497%2C%20-47.879873%5D%2C%0A%20%20%20%20%20%20%20%20%20%20%20%20%20%20%20%20%20%20%20%20crs%3A%20L.CRS.EPSG3857%2C%0A%20%20%20%20%20%20%20%20%20%20%20%20%20%20%20%20%20%20%20%20zoom%3A%204.5%2C%0A%20%20%20%20%20%20%20%20%20%20%20%20%20%20%20%20%20%20%20%20zoomControl%3A%20true%2C%0A%20%20%20%20%20%20%20%20%20%20%20%20%20%20%20%20%20%20%20%20preferCanvas%3A%20false%2C%0A%20%20%20%20%20%20%20%20%20%20%20%20%20%20%20%20%7D%0A%20%20%20%20%20%20%20%20%20%20%20%20%29%3B%0A%0A%20%20%20%20%20%20%20%20%20%20%20%20%0A%0A%20%20%20%20%20%20%20%20%0A%20%20%20%20%0A%20%20%20%20%20%20%20%20%20%20%20%20var%20tile_layer_30341c59551645a191a476e7907cbbb2%20%3D%20L.tileLayer%28%0A%20%20%20%20%20%20%20%20%20%20%20%20%20%20%20%20%22https%3A//stamen-tiles-%7Bs%7D.a.ssl.fastly.net/toner/%7Bz%7D/%7Bx%7D/%7By%7D.png%22%2C%0A%20%20%20%20%20%20%20%20%20%20%20%20%20%20%20%20%7B%22attribution%22%3A%20%22Map%20tiles%20by%20%5Cu003ca%20href%3D%5C%22http%3A//stamen.com%5C%22%5Cu003eStamen%20Design%5Cu003c/a%5Cu003e%2C%20under%20%5Cu003ca%20href%3D%5C%22http%3A//creativecommons.org/licenses/by/3.0%5C%22%5Cu003eCC%20BY%203.0%5Cu003c/a%5Cu003e.%20Data%20by%20%5Cu0026copy%3B%20%5Cu003ca%20href%3D%5C%22http%3A//openstreetmap.org%5C%22%5Cu003eOpenStreetMap%5Cu003c/a%5Cu003e%2C%20under%20%5Cu003ca%20href%3D%5C%22http%3A//www.openstreetmap.org/copyright%5C%22%5Cu003eODbL%5Cu003c/a%5Cu003e.%22%2C%20%22detectRetina%22%3A%20false%2C%20%22maxNativeZoom%22%3A%2018%2C%20%22maxZoom%22%3A%2018%2C%20%22minZoom%22%3A%200%2C%20%22noWrap%22%3A%20false%2C%20%22opacity%22%3A%201%2C%20%22subdomains%22%3A%20%22abc%22%2C%20%22tms%22%3A%20false%7D%0A%20%20%20%20%20%20%20%20%20%20%20%20%29.addTo%28map_c1d1be5613664d8ea852dbee6e7f757c%29%3B%0A%20%20%20%20%20%20%20%20%0A%3C/script%3E onload=\"this.contentDocument.open();this.contentDocument.write(    decodeURIComponent(this.getAttribute('data-html')));this.contentDocument.close();\" allowfullscreen webkitallowfullscreen mozallowfullscreen></iframe></div></div>"
      ],
      "text/plain": [
       "<folium.folium.Map at 0x7fe5816221d0>"
      ]
     },
     "execution_count": 66,
     "metadata": {},
     "output_type": "execute_result"
    }
   ],
   "source": [
    "# Renderizando o mapa\n",
    "mapa = folium.Map(location=[-15.788497,-47.879873],zoom_start=4.5,tiles='Stamen Toner')\n",
    "mapa"
   ]
  },
  {
   "cell_type": "code",
   "execution_count": 67,
   "metadata": {},
   "outputs": [
    {
     "data": {
      "text/html": [
       "<div style=\"width:100%;\"><div style=\"position:relative;width:100%;height:0;padding-bottom:60%;\"><span style=\"color:#565656\">Make this Notebook Trusted to load map: File -> Trust Notebook</span><iframe src=\"about:blank\" style=\"position:absolute;width:100%;height:100%;left:0;top:0;border:none !important;\" data-html=%3C%21DOCTYPE%20html%3E%0A%3Chead%3E%20%20%20%20%0A%20%20%20%20%3Cmeta%20http-equiv%3D%22content-type%22%20content%3D%22text/html%3B%20charset%3DUTF-8%22%20/%3E%0A%20%20%20%20%0A%20%20%20%20%20%20%20%20%3Cscript%3E%0A%20%20%20%20%20%20%20%20%20%20%20%20L_NO_TOUCH%20%3D%20false%3B%0A%20%20%20%20%20%20%20%20%20%20%20%20L_DISABLE_3D%20%3D%20false%3B%0A%20%20%20%20%20%20%20%20%3C/script%3E%0A%20%20%20%20%0A%20%20%20%20%3Cstyle%3Ehtml%2C%20body%20%7Bwidth%3A%20100%25%3Bheight%3A%20100%25%3Bmargin%3A%200%3Bpadding%3A%200%3B%7D%3C/style%3E%0A%20%20%20%20%3Cstyle%3E%23map%20%7Bposition%3Aabsolute%3Btop%3A0%3Bbottom%3A0%3Bright%3A0%3Bleft%3A0%3B%7D%3C/style%3E%0A%20%20%20%20%3Cscript%20src%3D%22https%3A//cdn.jsdelivr.net/npm/leaflet%401.6.0/dist/leaflet.js%22%3E%3C/script%3E%0A%20%20%20%20%3Cscript%20src%3D%22https%3A//code.jquery.com/jquery-1.12.4.min.js%22%3E%3C/script%3E%0A%20%20%20%20%3Cscript%20src%3D%22https%3A//maxcdn.bootstrapcdn.com/bootstrap/3.2.0/js/bootstrap.min.js%22%3E%3C/script%3E%0A%20%20%20%20%3Cscript%20src%3D%22https%3A//cdnjs.cloudflare.com/ajax/libs/Leaflet.awesome-markers/2.0.2/leaflet.awesome-markers.js%22%3E%3C/script%3E%0A%20%20%20%20%3Clink%20rel%3D%22stylesheet%22%20href%3D%22https%3A//cdn.jsdelivr.net/npm/leaflet%401.6.0/dist/leaflet.css%22/%3E%0A%20%20%20%20%3Clink%20rel%3D%22stylesheet%22%20href%3D%22https%3A//maxcdn.bootstrapcdn.com/bootstrap/3.2.0/css/bootstrap.min.css%22/%3E%0A%20%20%20%20%3Clink%20rel%3D%22stylesheet%22%20href%3D%22https%3A//maxcdn.bootstrapcdn.com/bootstrap/3.2.0/css/bootstrap-theme.min.css%22/%3E%0A%20%20%20%20%3Clink%20rel%3D%22stylesheet%22%20href%3D%22https%3A//maxcdn.bootstrapcdn.com/font-awesome/4.6.3/css/font-awesome.min.css%22/%3E%0A%20%20%20%20%3Clink%20rel%3D%22stylesheet%22%20href%3D%22https%3A//cdnjs.cloudflare.com/ajax/libs/Leaflet.awesome-markers/2.0.2/leaflet.awesome-markers.css%22/%3E%0A%20%20%20%20%3Clink%20rel%3D%22stylesheet%22%20href%3D%22https%3A//cdn.jsdelivr.net/gh/python-visualization/folium/folium/templates/leaflet.awesome.rotate.min.css%22/%3E%0A%20%20%20%20%0A%20%20%20%20%20%20%20%20%20%20%20%20%3Cmeta%20name%3D%22viewport%22%20content%3D%22width%3Ddevice-width%2C%0A%20%20%20%20%20%20%20%20%20%20%20%20%20%20%20%20initial-scale%3D1.0%2C%20maximum-scale%3D1.0%2C%20user-scalable%3Dno%22%20/%3E%0A%20%20%20%20%20%20%20%20%20%20%20%20%3Cstyle%3E%0A%20%20%20%20%20%20%20%20%20%20%20%20%20%20%20%20%23map_c1d1be5613664d8ea852dbee6e7f757c%20%7B%0A%20%20%20%20%20%20%20%20%20%20%20%20%20%20%20%20%20%20%20%20position%3A%20relative%3B%0A%20%20%20%20%20%20%20%20%20%20%20%20%20%20%20%20%20%20%20%20width%3A%20100.0%25%3B%0A%20%20%20%20%20%20%20%20%20%20%20%20%20%20%20%20%20%20%20%20height%3A%20100.0%25%3B%0A%20%20%20%20%20%20%20%20%20%20%20%20%20%20%20%20%20%20%20%20left%3A%200.0%25%3B%0A%20%20%20%20%20%20%20%20%20%20%20%20%20%20%20%20%20%20%20%20top%3A%200.0%25%3B%0A%20%20%20%20%20%20%20%20%20%20%20%20%20%20%20%20%7D%0A%20%20%20%20%20%20%20%20%20%20%20%20%3C/style%3E%0A%20%20%20%20%20%20%20%20%0A%20%20%20%20%3Cscript%20src%3D%22https%3A//cdn.jsdelivr.net/gh/python-visualization/folium%40master/folium/templates/leaflet_heat.min.js%22%3E%3C/script%3E%0A%3C/head%3E%0A%3Cbody%3E%20%20%20%20%0A%20%20%20%20%0A%20%20%20%20%20%20%20%20%20%20%20%20%3Cdiv%20class%3D%22folium-map%22%20id%3D%22map_c1d1be5613664d8ea852dbee6e7f757c%22%20%3E%3C/div%3E%0A%20%20%20%20%20%20%20%20%0A%3C/body%3E%0A%3Cscript%3E%20%20%20%20%0A%20%20%20%20%0A%20%20%20%20%20%20%20%20%20%20%20%20var%20map_c1d1be5613664d8ea852dbee6e7f757c%20%3D%20L.map%28%0A%20%20%20%20%20%20%20%20%20%20%20%20%20%20%20%20%22map_c1d1be5613664d8ea852dbee6e7f757c%22%2C%0A%20%20%20%20%20%20%20%20%20%20%20%20%20%20%20%20%7B%0A%20%20%20%20%20%20%20%20%20%20%20%20%20%20%20%20%20%20%20%20center%3A%20%5B-15.788497%2C%20-47.879873%5D%2C%0A%20%20%20%20%20%20%20%20%20%20%20%20%20%20%20%20%20%20%20%20crs%3A%20L.CRS.EPSG3857%2C%0A%20%20%20%20%20%20%20%20%20%20%20%20%20%20%20%20%20%20%20%20zoom%3A%204.5%2C%0A%20%20%20%20%20%20%20%20%20%20%20%20%20%20%20%20%20%20%20%20zoomControl%3A%20true%2C%0A%20%20%20%20%20%20%20%20%20%20%20%20%20%20%20%20%20%20%20%20preferCanvas%3A%20false%2C%0A%20%20%20%20%20%20%20%20%20%20%20%20%20%20%20%20%7D%0A%20%20%20%20%20%20%20%20%20%20%20%20%29%3B%0A%0A%20%20%20%20%20%20%20%20%20%20%20%20%0A%0A%20%20%20%20%20%20%20%20%0A%20%20%20%20%0A%20%20%20%20%20%20%20%20%20%20%20%20var%20tile_layer_30341c59551645a191a476e7907cbbb2%20%3D%20L.tileLayer%28%0A%20%20%20%20%20%20%20%20%20%20%20%20%20%20%20%20%22https%3A//stamen-tiles-%7Bs%7D.a.ssl.fastly.net/toner/%7Bz%7D/%7Bx%7D/%7By%7D.png%22%2C%0A%20%20%20%20%20%20%20%20%20%20%20%20%20%20%20%20%7B%22attribution%22%3A%20%22Map%20tiles%20by%20%5Cu003ca%20href%3D%5C%22http%3A//stamen.com%5C%22%5Cu003eStamen%20Design%5Cu003c/a%5Cu003e%2C%20under%20%5Cu003ca%20href%3D%5C%22http%3A//creativecommons.org/licenses/by/3.0%5C%22%5Cu003eCC%20BY%203.0%5Cu003c/a%5Cu003e.%20Data%20by%20%5Cu0026copy%3B%20%5Cu003ca%20href%3D%5C%22http%3A//openstreetmap.org%5C%22%5Cu003eOpenStreetMap%5Cu003c/a%5Cu003e%2C%20under%20%5Cu003ca%20href%3D%5C%22http%3A//www.openstreetmap.org/copyright%5C%22%5Cu003eODbL%5Cu003c/a%5Cu003e.%22%2C%20%22detectRetina%22%3A%20false%2C%20%22maxNativeZoom%22%3A%2018%2C%20%22maxZoom%22%3A%2018%2C%20%22minZoom%22%3A%200%2C%20%22noWrap%22%3A%20false%2C%20%22opacity%22%3A%201%2C%20%22subdomains%22%3A%20%22abc%22%2C%20%22tms%22%3A%20false%7D%0A%20%20%20%20%20%20%20%20%20%20%20%20%29.addTo%28map_c1d1be5613664d8ea852dbee6e7f757c%29%3B%0A%20%20%20%20%20%20%20%20%0A%20%20%20%20%0A%20%20%20%20%20%20%20%20%20%20%20%20var%20heat_map_b8b54a7eb2d54d76be9ad9f544d1b231%20%3D%20L.heatLayer%28%0A%20%20%20%20%20%20%20%20%20%20%20%20%20%20%20%20%5B%5B-11.9283%2C%20-61.9953%5D%2C%20%5B-9.905710000000001%2C%20-63.0325%5D%2C%20%5B-13.4945%2C%20-60.552%5D%2C%20%5B-11.4343%2C%20-61.4562%5D%2C%20%5B-13.187000000000001%2C%20-60.8168%5D%2C%20%5B-13.1174%2C%20-60.5454%5D%2C%20%5B-12.9551%2C%20-60.8947%5D%2C%20%5B-12.4367%2C%20-64.22800000000001%5D%2C%20%5B-11.5266%2C%20-61.0252%5D%2C%20%5B-10.7889%2C%20-65.3296%5D%2C%20%5B-10.4318%2C%20-62.4788%5D%2C%20%5B-10.8777%2C%20-61.9322%5D%2C%20%5B-9.44363%2C%20-61.9818%5D%2C%20%5B-11.7247%2C%20-62.3127%5D%2C%20%5B-10.7167%2C%20-62.2565%5D%2C%20%5B-11.672%2C%20-61.198%5D%2C%20%5B-8.760769999999999%2C%20-63.8999%5D%2C%20%5B-11.169%2C%20-61.8986%5D%2C%20%5B-9.69965%2C%20-62.9011%5D%2C%20%5B-11.7271%2C%20-61.7714%5D%2C%20%5B-11.9074%2C%20-61.7777%5D%2C%20%5B-12.7502%2C%20-60.1488%5D%2C%20%5B-11.6953%2C%20-62.7192%5D%2C%20%5B-10.4077%2C%20-65.3346%5D%2C%20%5B-11.3463%2C%20-62.2847%5D%2C%20%5B-12.132%2C%20-61.835%5D%2C%20%5B-9.71429%2C%20-63.3188%5D%2C%20%5B-10.1943%2C%20-63.8324%5D%2C%20%5B-11.6961%2C%20-61.9951%5D%2C%20%5B-10.349%2C%20-62.9043%5D%2C%20%5B-10.5712%2C%20-63.6266%5D%2C%20%5B-8.7907%2C%20-63.7005%5D%2C%20%5B-11.4253%2C%20-61.9482%5D%2C%20%5B-12.5611%2C%20-60.8877%5D%2C%20%5B-9.36065%2C%20-62.5846%5D%2C%20%5B-10.61%2C%20-62.7371%5D%2C%20%5B-9.19687%2C%20-63.1809%5D%2C%20%5B-11.196%2C%20-61.5174%5D%2C%20%5B-11.029000000000002%2C%20-62.6696%5D%2C%20%5B-10.2458%2C%20-63.29%5D%2C%20%5B-10.9068%2C%20-62.5564%5D%2C%20%5B-12.1754%2C%20-61.6032%5D%2C%20%5B-13.4823%2C%20-61.0471%5D%2C%20%5B-11.8295%2C%20-61.3153%5D%2C%20%5B-11.9023%2C%20-61.5026%5D%2C%20%5B-12.052%2C%20-63.568000000000005%5D%2C%20%5B-11.8055%2C%20-63.0182%5D%2C%20%5B-10.9056%2C%20-62.242%5D%2C%20%5B-10.2483%2C%20-62.3538%5D%2C%20%5B-11.1261%2C%20-62.3639%5D%2C%20%5B-9.86215%2C%20-62.1876%5D%2C%20%5B-10.4465%2C%20-62.1352%5D%2C%20%5B-9.82581%2C%20-66.8972%5D%2C%20%5B-10.9298%2C%20-69.5738%5D%2C%20%5B-10.995%2C%20-68.7497%5D%2C%20%5B-9.81528%2C%20-67.955%5D%2C%20%5B-10.565999999999999%2C%20-67.686%5D%2C%20%5B-7.627619999999999%2C%20-72.6756%5D%2C%20%5B-11.0188%2C%20-68.7341%5D%2C%20%5B-8.170539999999999%2C%20-70.351%5D%2C%20%5B-9.43091%2C%20-71.8974%5D%2C%20%5B-7.616569999999999%2C%20-72.8997%5D%2C%20%5B-8.83291%2C%20-69.2679%5D%2C%20%5B-8.93898%2C%20-72.7997%5D%2C%20%5B-10.2806%2C%20-67.1371%5D%2C%20%5B-8.26323%2C%20-72.7537%5D%2C%20%5B-9.97499%2C%20-67.8243%5D%2C%20%5B-7.738639999999999%2C%20-72.661%5D%2C%20%5B-9.44652%2C%20-70.4902%5D%2C%20%5B-10.1497%2C%20-67.7362%5D%2C%20%5B-9.06596%2C%20-68.6571%5D%2C%20%5B-8.15697%2C%20-70.7722%5D%2C%20%5B-10.6516%2C%20-68.4969%5D%2C%20%5B-9.581380000000001%2C%20-67.5478%5D%2C%20%5B-3.22727%2C%20-64.8007%5D%2C%20%5B-3.37455%2C%20-68.2005%5D%2C%20%5B-3.5669699999999995%2C%20-61.3963%5D%2C%20%5B-3.74603%2C%20-61.6575%5D%2C%20%5B-7.194089999999999%2C%20-59.896%5D%2C%20%5B-4.37055%2C%20-70.1967%5D%2C%20%5B-3.58574%2C%20-59.1256%5D%2C%20%5B-0.9833729999999999%2C%20-62.9311%5D%2C%20%5B-2.79886%2C%20-57.0679%5D%2C%20%5B-4.377680000000001%2C%20-70.0342%5D%2C%20%5B-3.89874%2C%20-61.3616%5D%2C%20%5B-2.9740900000000003%2C%20-57.5873%5D%2C%20%5B-8.74232%2C%20-67.3919%5D%2C%20%5B-4.39154%2C%20-59.5874%5D%2C%20%5B-3.3153699999999997%2C%20-61.2206%5D%2C%20%5B-6.5258199999999995%2C%20-64.3953%5D%2C%20%5B-4.88161%2C%20-66.9086%5D%2C%20%5B-3.7680300000000004%2C%20-60.369%5D%2C%20%5B-3.3139999999999996%2C%20-59.5557%5D%2C%20%5B-4.094119999999999%2C%20-63.1441%5D%2C%20%5B-3.8305300000000004%2C%20-62.0658%5D%2C%20%5B-6.65677%2C%20-69.8662%5D%2C%20%5B-7.4378899999999994%2C%20-70.0281%5D%2C%20%5B-2.52342%2C%20-66.0942%5D%2C%20%5B-7.53797%2C%20-72.5907%5D%2C%20%5B-7.511710000000001%2C%20-63.0327%5D%2C%20%5B-7.047910000000001%2C%20-71.6934%5D%2C%20%5B-3.2747900000000003%2C%20-60.19%5D%2C%20%5B-3.13861%2C%20-58.4449%5D%2C%20%5B-6.43852%2C%20-68.2437%5D%2C%20%5B-2.7408099999999997%2C%20-58.0293%5D%2C%20%5B-1.88237%2C%20-66.9291%5D%2C%20%5B-3.4843800000000003%2C%20-66.0718%5D%2C%20%5B-2.75814%2C%20-66.7595%5D%2C%20%5B-7.264130000000001%2C%20-64.7948%5D%2C%20%5B-3.29066%2C%20-60.6216%5D%2C%20%5B-3.44078%2C%20-60.4612%5D%2C%20%5B-3.1186599999999998%2C%20-60.0212%5D%2C%20%5B-5.80462%2C%20-61.2895%5D%2C%20%5B-1.85313%2C%20-65.57300000000001%5D%2C%20%5B-3.39289%2C%20-57.7067%5D%2C%20%5B-2.2079299999999997%2C%20-56.7112%5D%2C%20%5B-3.9003699999999997%2C%20-59.093999999999994%5D%2C%20%5B-2.63637%2C%20-60.9434%5D%2C%20%5B-5.12593%2C%20-60.3732%5D%2C%20%5B-2.63741%2C%20-56.729%5D%2C%20%5B-7.71311%2C%20-66.992%5D%2C%20%5B-2.02981%2C%20-60.0234%5D%2C%20%5B-2.7045%2C%20-59.6858%5D%2C%20%5B-0.41082399999999997%2C%20-65.0092%5D%2C%20%5B-3.09544%2C%20-67.9463%5D%2C%20%5B-0.11909000000000002%2C%20-67.084%5D%2C%20%5B-3.47292%2C%20-68.9646%5D%2C%20%5B-2.55915%2C%20-57.8731%5D%2C%20%5B-2.8174799999999998%2C%20-58.248000000000005%5D%2C%20%5B-4.2416%2C%20-69.9383%5D%2C%20%5B-5.62085%2C%20-63.1808%5D%2C%20%5B-3.3682199999999995%2C%20-64.7193%5D%2C%20%5B-2.8658200000000003%2C%20-67.7919%5D%2C%20%5B-2.99609%2C%20-65.1133%5D%2C%20%5B-2.52936%2C%20-57.7538%5D%2C%20%5B-3.1284099999999997%2C%20-58.1496%5D%2C%20%5B3.64571%2C%20-61.3692%5D%2C%20%5B2.98858%2C%20-61.3072%5D%2C%20%5B2.82384%2C%20-60.6753%5D%2C%20%5B3.3616099999999998%2C%20-59.8333%5D%2C%20%5B2.60994%2C%20-60.6058%5D%2C%20%5B1.8276599999999998%2C%20-61.1304%5D%2C%20%5B0.8842030000000001%2C%20-59.6959%5D%2C%20%5B2.18305%2C%20-61.0415%5D%2C%20%5B2.43998%2C%20-60.9096%5D%2C%20%5B3.8853%2C%20-59.6204%5D%2C%20%5B4.4799%2C%20-61.1477%5D%2C%20%5B0.9399559999999999%2C%20-60.4389%5D%2C%20%5B0.951659%2C%20-59.9133%5D%2C%20%5B1.01019%2C%20-60.0419%5D%2C%20%5B4.60314%2C%20-60.1815%5D%2C%20%5B-1.72183%2C%20-48.8788%5D%2C%20%5B-4.95333%2C%20-48.3933%5D%2C%20%5B-1.95383%2C%20-48.1985%5D%2C%20%5B-0.154874%2C%20-50.3861%5D%2C%20%5B-6.79053%2C%20-50.4791%5D%2C%20%5B-1.94623%2C%20-54.7384%5D%2C%20%5B-1.52904%2C%20-52.5788%5D%2C%20%5B-3.20407%2C%20-52.21%5D%2C%20%5B-0.9968110000000001%2C%20-49.9354%5D%2C%20%5B-1.36391%2C%20-48.3743%5D%2C%20%5B-3.46985%2C%20-51.2003%5D%2C%20%5B-1.0510899999999999%2C%20-46.6147%5D%2C%20%5B-2.14898%2C%20-47.5677%5D%2C%20%5B-3.6084099999999997%2C%20-55.3199%5D%2C%20%5B-1.90057%2C%20-50.1987%5D%2C%20%5B-2.7902099999999996%2C%20-49.6694%5D%2C%20%5B-7.34779%2C%20-50.3959%5D%2C%20%5B-1.51187%2C%20-48.6195%5D%2C%20%5B-1.4554%2C%20-48.4898%5D%2C%20%5B-2.6360900000000003%2C%20-54.9374%5D%2C%20%5B-1.3618299999999999%2C%20-48.2434%5D%2C%20%5B-5.0424%2C%20-48.6047%5D%2C%20%5B-1.36745%2C%20-47.3066%5D%2C%20%5B-1.06126%2C%20-46.7826%5D%2C%20%5B-3.2979199999999995%2C%20-52.534%5D%2C%20%5B-5.69822%2C%20-48.4103%5D%2C%20%5B-3.7719099999999997%2C%20-49.5735%5D%2C%20%5B-1.6803599999999999%2C%20-50.4791%5D%2C%20%5B-1.51762%2C%20-48.0381%5D%2C%20%5B-1.75974%2C%20-46.5459%5D%2C%20%5B-1.01226%2C%20-48.9503%5D%2C%20%5B-2.24295%2C%20-49.4979%5D%2C%20%5B-6.49659%2C%20-49.8776%5D%2C%20%5B-1.20529%2C%20-47.1778%5D%2C%20%5B-1.74785%2C%20-47.0629%5D%2C%20%5B-1.29797%2C%20-47.9167%5D%2C%20%5B-0.164154%2C%20-49.986999999999995%5D%2C%20%5B-0.936423%2C%20-48.2803%5D%2C%20%5B-8.26136%2C%20-49.2689%5D%2C%20%5B-1.9923799999999998%2C%20-47.9422%5D%2C%20%5B-7.810969999999999%2C%20-50.7698%5D%2C%20%5B-6.09965%2C%20-49.6068%5D%2C%20%5B-1.8117900000000002%2C%20-49.7952%5D%2C%20%5B-1.88775%2C%20-55.1168%5D%2C%20%5B-0.733214%2C%20-47.8515%5D%2C%20%5B-4.19944%2C%20-47.8245%5D%2C%20%5B-6.10389%2C%20-49.3553%5D%2C%20%5B-2.16805%2C%20-56.7405%5D%2C%20%5B-7.55335%2C%20-49.7125%5D%2C%20%5B-1.92986%2C%20-47.0505%5D%2C%20%5B-3.8433800000000002%2C%20-49.0974%5D%2C%20%5B-1.41412%2C%20-51.6338%5D%2C%20%5B-1.12539%2C%20-47.626000000000005%5D%2C%20%5B-1.97533%2C%20-48.9575%5D%2C%20%5B-1.4349%2C%20-47.9114%5D%2C%20%5B-2.55992%2C%20-47.5059%5D%2C%20%5B-1.76984%2C%20-47.446000000000005%5D%2C%20%5B-4.2667%2C%20-55.9926%5D%2C%20%5B-5.13272%2C%20-49.3358%5D%2C%20%5B-6.21469%2C%20-57.7544%5D%2C%20%5B-4.4461699999999995%2C%20-49.1153%5D%2C%20%5B-2.1634700000000002%2C%20-56.0889%5D%2C%20%5B-1.8985%2C%20-49.3903%5D%2C%20%5B-2.0568299999999997%2C%20-47.5601%5D%2C%20%5B-0.803391%2C%20-47.6014%5D%2C%20%5B-5.38075%2C%20-49.1327%5D%2C%20%5B-0.778899%2C%20-47.452%5D%2C%20%5B-0.7147020000000001%2C%20-47.7034%5D%2C%20%5B-1.36002%2C%20-48.3421%5D%2C%20%5B-3.4463699999999995%2C%20-52.8875%5D%2C%20%5B-1.8032%2C%20-50.7149%5D%2C%20%5B-2.5831%2C%20-49.5042%5D%2C%20%5B-1.8899299999999999%2C%20-48.7668%5D%2C%20%5B-1.99768%2C%20-54.0724%5D%2C%20%5B-1.53936%2C%20-49.2224%5D%2C%20%5B-2.26693%2C%20-46.9731%5D%2C%20%5B-4.91622%2C%20-49.0822%5D%2C%20%5B-1.20874%2C%20-47.3921%5D%2C%20%5B-7.14347%2C%20-55.3786%5D%2C%20%5B-4.24749%2C%20-49.9499%5D%2C%20%5B-1.90107%2C%20-55.5208%5D%2C%20%5B-2.00358%2C%20-49.8628%5D%2C%20%5B-1.7598900000000002%2C%20-55.8579%5D%2C%20%5B-1.54168%2C%20-47.1126%5D%2C%20%5B-6.7529%2C%20-51.0858%5D%2C%20%5B-3.8354199999999996%2C%20-50.6399%5D%2C%20%5B-5.74027%2C%20-48.3181%5D%2C%20%5B-3.00212%2C%20-47.3527%5D%2C%20%5B-6.06781%2C%20-49.9037%5D%2C%20%5B-1.59772%2C%20-46.9268%5D%2C%20%5B-1.19382%2C%20-47.324%5D%2C%20%5B-6.43778%2C%20-48.8716%5D%2C%20%5B-3.8681300000000003%2C%20-54.2124%5D%2C%20%5B-1.3958700000000002%2C%20-48.8661%5D%2C%20%5B-1.93639%2C%20-50.8194%5D%2C%20%5B-1.74691%2C%20-52.2361%5D%2C%20%5B-1.798%2C%20-53.4779%5D%2C%20%5B-0.9454389999999999%2C%20-47.1253%5D%2C%20%5B-0.8996040000000001%2C%20-47.0134%5D%2C%20%5B-8.02529%2C%20-50.0317%5D%2C%20%5B-7.312360000000001%2C%20-50.0379%5D%2C%20%5B-4.7779300000000005%2C%20-48.067%5D%2C%20%5B-4.100280000000001%2C%20-54.9092%5D%2C%20%5B-0.630815%2C%20-47.3465%5D%2C%20%5B-0.758444%2C%20-48.5139%5D%2C%20%5B-1.1921899999999999%2C%20-48.238%5D%2C%20%5B-0.6610189999999999%2C%20-49.1771%5D%2C%20%5B-1.2968600000000001%2C%20-48.1606%5D%2C%20%5B-1.52147%2C%20-46.9008%5D%2C%20%5B-8.85784%2C%20-49.7215%5D%2C%20%5B-1.35392%2C%20-47.5712%5D%2C%20%5B-9.3281%2C%20-50.35%5D%2C%20%5B-2.4384900000000003%2C%20-54.6996%5D%2C%20%5B-0.9309700000000001%2C%20-47.3855%5D%2C%20%5B-1.1522%2C%20-48.1314%5D%2C%20%5B-0.747293%2C%20-48.0246%5D%2C%20%5B-5.537319999999999%2C%20-48.7366%5D%2C%20%5B-1.6876799999999998%2C%20-47.7665%5D%2C%20%5B-6.6425399999999994%2C%20-51.9904%5D%2C%20%5B-1.16963%2C%20-47.7917%5D%2C%20%5B-6.39471%2C%20-48.5592%5D%2C%20%5B-0.857885%2C%20-47.918%5D%2C%20%5B-0.780222%2C%20-47.181000000000004%5D%2C%20%5B-5.36334%2C%20-48.7926%5D%2C%20%5B-1.61307%2C%20-47.4784%5D%2C%20%5B-1.71597%2C%20-49.5249%5D%2C%20%5B-6.940180000000001%2C%20-49.6834%5D%2C%20%5B-4.3124199999999995%2C%20-51.5764%5D%2C%20%5B-0.73032%2C%20-48.5015%5D%2C%20%5B-2.94584%2C%20-48.9489%5D%2C%20%5B-1.0296299999999998%2C%20-47.9004%5D%2C%20%5B-2.10443%2C%20-56.4877%5D%2C%20%5B-2.41302%2C%20-48.1415%5D%2C%20%5B-1.07653%2C%20-46.9031%5D%2C%20%5B-4.5734699999999995%2C%20-55.9429%5D%2C%20%5B-6.7468699999999995%2C%20-51.1626%5D%2C%20%5B-3.7657%2C%20-49.6773%5D%2C%20%5B-3.7500699999999996%2C%20-47.4892%5D%2C%20%5B-3.71519%2C%20-53.7396%5D%2C%20%5B-0.861194%2C%20-48.1386%5D%2C%20%5B-1.1912399999999999%2C%20-46.1399%5D%2C%20%5B-2.87922%2C%20-52.0088%5D%2C%20%5B-7.0983%2C%20-49.9437%5D%2C%20%5B0.901357%2C%20-52.0036%5D%2C%20%5B2.05267%2C%20-50.7957%5D%2C%20%5B0.777424%2C%20-51.9503%5D%2C%20%5B2.50475%2C%20-50.9512%5D%2C%20%5B0.9707610000000001%2C%20-50.8005%5D%2C%20%5B0.8572559999999999%2C%20-51.1795%5D%2C%20%5B0.6021850000000001%2C%20-50.6996%5D%2C%20%5B-0.8049109999999999%2C%20-52.453%5D%2C%20%5B0.034934%2C%20-51.0694%5D%2C%20%5B-0.11335999999999999%2C%20-51.2891%5D%2C%20%5B3.8407400000000003%2C%20-51.8331%5D%2C%20%5B0.71243%2C%20-51.4155%5D%2C%20%5B1.74543%2C%20-50.7892%5D%2C%20%5B-0.045433999999999995%2C%20-51.1729%5D%2C%20%5B1.50652%2C%20-50.9087%5D%2C%20%5B-0.938%2C%20-52.424%5D%2C%20%5B-9.62101%2C%20-49.1518%5D%2C%20%5B-6.5540899999999995%2C%20-47.4702%5D%2C%20%5B-11.3056%2C%20-48.9361%5D%2C%20%5B-11.5706%2C%20-47.1792%5D%2C%20%5B-12.4785%2C%20-49.1249%5D%2C%20%5B-6.36437%2C%20-48.0735%5D%2C%20%5B-6.39179%2C%20-47.8611%5D%2C%20%5B-9.94139%2C%20-47.9638%5D%2C%20%5B-7.16005%2C%20-48.5291%5D%2C%20%5B-8.80755%2C%20-49.5569%5D%2C%20%5B-12.9289%2C%20-49.8231%5D%2C%20%5B-7.19238%2C%20-48.2044%5D%2C%20%5B-6.58225%2C%20-48.6395%5D%2C%20%5B-5.64659%2C%20-48.1232%5D%2C%20%5B-7.65463%2C%20-49.0637%5D%2C%20%5B-12.9287%2C%20-46.9359%5D%2C%20%5B-5.46863%2C%20-47.8863%5D%2C%20%5B-12.7105%2C%20-46.4076%5D%2C%20%5B-5.61275%2C%20-47.7701%5D%2C%20%5B-7.209230000000001%2C%20-47.7613%5D%2C%20%5B-7.75612%2C%20-48.5836%5D%2C%20%5B-7.695930000000001%2C%20-47.6776%5D%2C%20%5B-9.83404%2C%20-48.7252%5D%2C%20%5B-7.874810000000001%2C%20-48.8893%5D%2C%20%5B-8.96306%2C%20-48.165%5D%2C%20%5B-8.38918%2C%20-48.4822%5D%2C%20%5B-11.0058%2C%20-48.5683%5D%2C%20%5B-5.3144800000000005%2C%20-48.2271%5D%2C%20%5B-6.1156%2C%20-47.9234%5D%2C%20%5B-7.989560000000001%2C%20-46.8645%5D%2C%20%5B-11.8881%2C%20-49.1609%5D%2C%20%5B-7.03262%2C%20-48.3978%5D%2C%20%5B-5.31415%2C%20-48.0314%5D%2C%20%5B-9.27612%2C%20-49.9521%5D%2C%20%5B-8.961030000000001%2C%20-47.3304%5D%2C%20%5B-10.1419%2C%20-49.1403%5D%2C%20%5B-11.6175%2C%20-47.7486%5D%2C%20%5B-8.05764%2C%20-48.4757%5D%2C%20%5B-12.7917%2C%20-46.5388%5D%2C%20%5B-12.2209%2C%20-47.2951%5D%2C%20%5B-8.28411%2C%20-49.2473%5D%2C%20%5B-10.5985%2C%20-49.1942%5D%2C%20%5B-11.0994%2C%20-48.9152%5D%2C%20%5B-6.715910000000001%2C%20-47.7597%5D%2C%20%5B-11.624%2C%20-46.8198%5D%2C%20%5B-9.800180000000001%2C%20-49.2169%5D%2C%20%5B-9.255339999999999%2C%20-49.0638%5D%2C%20%5B-11.3416%2C%20-49.2716%5D%2C%20%5B-5.3659300000000005%2C%20-48.5378%5D%2C%20%5B-10.7603%2C%20-48.9076%5D%2C%20%5B-12.1312%2C%20-49.1748%5D%2C%20%5B-7.3350100000000005%2C%20-47.4954%5D%2C%20%5B-11.7976%2C%20-49.5316%5D%2C%20%5B-9.05611%2C%20-48.5206%5D%2C%20%5B-8.77413%2C%20-48.9313%5D%2C%20%5B-7.71478%2C%20-47.3252%5D%2C%20%5B-8.83543%2C%20-48.5114%5D%2C%20%5B-11.7279%2C%20-49.068000000000005%5D%2C%20%5B-11.2329%2C%20-48.46%5D%2C%20%5B-8.39293%2C%20-47.7726%5D%2C%20%5B-5.77267%2C%20-47.4864%5D%2C%20%5B-8.37982%2C%20-48.1072%5D%2C%20%5B-8.57172%2C%20-48.6895%5D%2C%20%5B-12.6509%2C%20-48.589%5D%2C%20%5B-8.11951%2C%20-49.0643%5D%2C%20%5B-10.7906%2C%20-49.6199%5D%2C%20%5B-10.368%2C%20-47.538000000000004%5D%2C%20%5B-9.74996%2C%20-48.3565%5D%2C%20%5B-12.7847%2C%20-46.5099%5D%2C%20%5B-9.590019999999999%2C%20-46.6738%5D%2C%20%5B-6.17794%2C%20-47.8582%5D%2C%20%5B-9.79377%2C%20-49.6553%5D%2C%20%5B-10.5464%2C%20-46.4168%5D%2C%20%5B-5.95169%2C%20-47.5125%5D%2C%20%5B-9.565560000000001%2C%20-48.393%5D%2C%20%5B-9.529069999999999%2C%20-48.5922%5D%2C%20%5B-10.7611%2C%20-48.1114%5D%2C%20%5B-10.0075%2C%20-48.9941%5D%2C%20%5B-6.61658%2C%20-47.5464%5D%2C%20%5B-7.1466899999999995%2C%20-48.6091%5D%2C%20%5B-11.7034%2C%20-47.7223%5D%2C%20%5B-6.37496%2C%20-47.6643%5D%2C%20%5B-7.631710000000001%2C%20-48.4252%5D%2C%20%5B-10.5651%2C%20-48.9125%5D%2C%20%5B-9.97063%2C%20-47.6785%5D%2C%20%5B-12.9217%2C%20-46.5713%5D%2C%20%5B-11.825999999999999%2C%20-46.6325%5D%2C%20%5B-10.707%2C%20-48.9086%5D%2C%20%5B-7.847860000000001%2C%20-47.9242%5D%2C%20%5B-13.0447%2C%20-48.4026%5D%2C%20%5B-10.175%2C%20-48.8823%5D%2C%20%5B-12.6167%2C%20-47.8734%5D%2C%20%5B-7.53919%2C%20-49.367%5D%2C%20%5B-8.97034%2C%20-48.1729%5D%2C%20%5B-12.0254%2C%20-48.5395%5D%2C%20%5B-8.5932%2C%20-48.9327%5D%2C%20%5B-8.72463%2C%20-48.7638%5D%2C%20%5B-11.1311%2C%20-47.5726%5D%2C%20%5B-6.77302%2C%20-48.2958%5D%2C%20%5B-10.442%2C%20-49.1876%5D%2C%20%5B-12.0853%2C%20-46.4825%5D%2C%20%5B-10.7481%2C%20-47.5276%5D%2C%20%5B-11.618%2C%20-47.0621%5D%2C%20%5B-10.7027%2C%20-48.408%5D%2C%20%5B-5.39281%2C%20-47.8111%5D%2C%20%5B-8.5406%2C%20-48.5062%5D%2C%20%5B-10.424000000000001%2C%20-48.8957%5D%2C%20%5B-8.7227%2C%20-47.2421%5D%2C%20%5B-6.44005%2C%20-48.1371%5D%2C%20%5B-11.3949%2C%20-46.8847%5D%2C%20%5B-9.34425%2C%20-48.5245%5D%2C%20%5B-9.350019999999999%2C%20-47.888000000000005%5D%2C%20%5B-5.35423%2C%20-47.8782%5D%2C%20%5B-12.538%2C%20-49.9242%5D%2C%20%5B-7.15803%2C%20-48.7165%5D%2C%20%5B-8.8046%2C%20-47.7887%5D%2C%20%5B-10.8617%2C%20-48.9161%5D%2C%20%5B-11.4474%2C%20-48.1216%5D%2C%20%5B-10.2746%2C%20-47.8033%5D%2C%20%5B-6.444380000000001%2C%20-47.6684%5D%2C%20%5B-6.0258%2C%20-47.9012%5D%2C%20%5B-10.1615%2C%20-46.6618%5D%2C%20%5B-5.56305%2C%20-47.5743%5D%2C%20%5B-12.7458%2C%20-48.2352%5D%2C%20%5B-5.26131%2C%20-48.2021%5D%2C%20%5B-11.9743%2C%20-48.2353%5D%2C%20%5B-11.1471%2C%20-48.1694%5D%2C%20%5B-5.6012%2C%20-47.6381%5D%2C%20%5B-11.993%2C%20-48.9685%5D%2C%20%5B-12.4026%2C%20-46.437%5D%2C%20%5B-12.1873%2C%20-46.9797%5D%2C%20%5B-12.7949%2C%20-49.0896%5D%2C%20%5B-10.24%2C%20-48.3558%5D%2C%20%5B-9.5632%2C%20-48.3741%5D%2C%20%5B-6.32447%2C%20-47.4224%5D%2C%20%5B-8.971680000000001%2C%20-48.1883%5D%2C%20%5B-8.393880000000001%2C%20-48.1277%5D%2C%20%5B-6.85274%2C%20-47.9601%5D%2C%20%5B-6.4141%2C%20-48.532%5D%2C%20%5B-11.9283%2C%20-61.9953%5D%2C%20%5B-9.905710000000001%2C%20-63.0325%5D%2C%20%5B-13.4945%2C%20-60.552%5D%2C%20%5B-11.4343%2C%20-61.4562%5D%2C%20%5B-13.187000000000001%2C%20-60.8168%5D%2C%20%5B-13.1174%2C%20-60.5454%5D%2C%20%5B-12.9551%2C%20-60.8947%5D%2C%20%5B-12.4367%2C%20-64.22800000000001%5D%2C%20%5B-11.5266%2C%20-61.0252%5D%2C%20%5B-10.7889%2C%20-65.3296%5D%2C%20%5B-10.4318%2C%20-62.4788%5D%2C%20%5B-10.8777%2C%20-61.9322%5D%2C%20%5B-9.44363%2C%20-61.9818%5D%2C%20%5B-11.7247%2C%20-62.3127%5D%2C%20%5B-10.7167%2C%20-62.2565%5D%2C%20%5B-11.672%2C%20-61.198%5D%2C%20%5B-8.760769999999999%2C%20-63.8999%5D%2C%20%5B-11.169%2C%20-61.8986%5D%2C%20%5B-9.69965%2C%20-62.9011%5D%2C%20%5B-11.7271%2C%20-61.7714%5D%2C%20%5B-11.9074%2C%20-61.7777%5D%2C%20%5B-12.7502%2C%20-60.1488%5D%2C%20%5B-11.6953%2C%20-62.7192%5D%2C%20%5B-10.4077%2C%20-65.3346%5D%2C%20%5B-11.3463%2C%20-62.2847%5D%2C%20%5B-12.132%2C%20-61.835%5D%2C%20%5B-9.71429%2C%20-63.3188%5D%2C%20%5B-10.1943%2C%20-63.8324%5D%2C%20%5B-11.6961%2C%20-61.9951%5D%2C%20%5B-10.349%2C%20-62.9043%5D%2C%20%5B-10.5712%2C%20-63.6266%5D%2C%20%5B-8.7907%2C%20-63.7005%5D%2C%20%5B-11.4253%2C%20-61.9482%5D%2C%20%5B-12.5611%2C%20-60.8877%5D%2C%20%5B-9.36065%2C%20-62.5846%5D%2C%20%5B-10.61%2C%20-62.7371%5D%2C%20%5B-9.19687%2C%20-63.1809%5D%2C%20%5B-11.196%2C%20-61.5174%5D%2C%20%5B-11.029000000000002%2C%20-62.6696%5D%2C%20%5B-10.2458%2C%20-63.29%5D%2C%20%5B-10.9068%2C%20-62.5564%5D%2C%20%5B-12.1754%2C%20-61.6032%5D%2C%20%5B-13.4823%2C%20-61.0471%5D%2C%20%5B-11.8295%2C%20-61.3153%5D%2C%20%5B-11.9023%2C%20-61.5026%5D%2C%20%5B-12.052%2C%20-63.568000000000005%5D%2C%20%5B-11.8055%2C%20-63.0182%5D%2C%20%5B-10.9056%2C%20-62.242%5D%2C%20%5B-10.2483%2C%20-62.3538%5D%2C%20%5B-11.1261%2C%20-62.3639%5D%2C%20%5B-9.86215%2C%20-62.1876%5D%2C%20%5B-10.4465%2C%20-62.1352%5D%2C%20%5B-9.82581%2C%20-66.8972%5D%2C%20%5B-10.9298%2C%20-69.5738%5D%2C%20%5B-10.995%2C%20-68.7497%5D%2C%20%5B-9.81528%2C%20-67.955%5D%2C%20%5B-10.565999999999999%2C%20-67.686%5D%2C%20%5B-7.627619999999999%2C%20-72.6756%5D%2C%20%5B-11.0188%2C%20-68.7341%5D%2C%20%5B-8.170539999999999%2C%20-70.351%5D%2C%20%5B-9.43091%2C%20-71.8974%5D%2C%20%5B-7.616569999999999%2C%20-72.8997%5D%2C%20%5B-8.83291%2C%20-69.2679%5D%2C%20%5B-8.93898%2C%20-72.7997%5D%2C%20%5B-10.2806%2C%20-67.1371%5D%2C%20%5B-8.26323%2C%20-72.7537%5D%2C%20%5B-9.97499%2C%20-67.8243%5D%2C%20%5B-7.738639999999999%2C%20-72.661%5D%2C%20%5B-9.44652%2C%20-70.4902%5D%2C%20%5B-10.1497%2C%20-67.7362%5D%2C%20%5B-9.06596%2C%20-68.6571%5D%2C%20%5B-8.15697%2C%20-70.7722%5D%2C%20%5B-10.6516%2C%20-68.4969%5D%2C%20%5B-9.581380000000001%2C%20-67.5478%5D%2C%20%5B-3.22727%2C%20-64.8007%5D%2C%20%5B-3.37455%2C%20-68.2005%5D%2C%20%5B-3.5669699999999995%2C%20-61.3963%5D%2C%20%5B-3.74603%2C%20-61.6575%5D%2C%20%5B-7.194089999999999%2C%20-59.896%5D%2C%20%5B-4.37055%2C%20-70.1967%5D%2C%20%5B-3.58574%2C%20-59.1256%5D%2C%20%5B-0.9833729999999999%2C%20-62.9311%5D%2C%20%5B-2.79886%2C%20-57.0679%5D%2C%20%5B-4.377680000000001%2C%20-70.0342%5D%2C%20%5B-3.89874%2C%20-61.3616%5D%2C%20%5B-2.9740900000000003%2C%20-57.5873%5D%2C%20%5B-8.74232%2C%20-67.3919%5D%2C%20%5B-4.39154%2C%20-59.5874%5D%2C%20%5B-3.3153699999999997%2C%20-61.2206%5D%2C%20%5B-6.5258199999999995%2C%20-64.3953%5D%2C%20%5B-4.88161%2C%20-66.9086%5D%2C%20%5B-3.7680300000000004%2C%20-60.369%5D%2C%20%5B-3.3139999999999996%2C%20-59.5557%5D%2C%20%5B-4.094119999999999%2C%20-63.1441%5D%2C%20%5B-3.8305300000000004%2C%20-62.0658%5D%2C%20%5B-6.65677%2C%20-69.8662%5D%2C%20%5B-7.4378899999999994%2C%20-70.0281%5D%2C%20%5B-2.52342%2C%20-66.0942%5D%2C%20%5B-7.53797%2C%20-72.5907%5D%2C%20%5B-7.511710000000001%2C%20-63.0327%5D%2C%20%5B-7.047910000000001%2C%20-71.6934%5D%2C%20%5B-3.2747900000000003%2C%20-60.19%5D%2C%20%5B-3.13861%2C%20-58.4449%5D%2C%20%5B-6.43852%2C%20-68.2437%5D%2C%20%5B-2.7408099999999997%2C%20-58.0293%5D%2C%20%5B-1.88237%2C%20-66.9291%5D%2C%20%5B-3.4843800000000003%2C%20-66.0718%5D%2C%20%5B-2.75814%2C%20-66.7595%5D%2C%20%5B-7.264130000000001%2C%20-64.7948%5D%2C%20%5B-3.29066%2C%20-60.6216%5D%2C%20%5B-3.44078%2C%20-60.4612%5D%2C%20%5B-3.1186599999999998%2C%20-60.0212%5D%2C%20%5B-5.80462%2C%20-61.2895%5D%2C%20%5B-1.85313%2C%20-65.57300000000001%5D%2C%20%5B-3.39289%2C%20-57.7067%5D%2C%20%5B-2.2079299999999997%2C%20-56.7112%5D%2C%20%5B-3.9003699999999997%2C%20-59.093999999999994%5D%2C%20%5B-2.63637%2C%20-60.9434%5D%2C%20%5B-5.12593%2C%20-60.3732%5D%2C%20%5B-2.63741%2C%20-56.729%5D%2C%20%5B-7.71311%2C%20-66.992%5D%2C%20%5B-2.02981%2C%20-60.0234%5D%2C%20%5B-2.7045%2C%20-59.6858%5D%2C%20%5B-0.41082399999999997%2C%20-65.0092%5D%2C%20%5B-3.09544%2C%20-67.9463%5D%2C%20%5B-0.11909000000000002%2C%20-67.084%5D%2C%20%5B-3.47292%2C%20-68.9646%5D%2C%20%5B-2.55915%2C%20-57.8731%5D%2C%20%5B-2.8174799999999998%2C%20-58.248000000000005%5D%2C%20%5B-4.2416%2C%20-69.9383%5D%2C%20%5B-5.62085%2C%20-63.1808%5D%2C%20%5B-3.3682199999999995%2C%20-64.7193%5D%2C%20%5B-2.8658200000000003%2C%20-67.7919%5D%2C%20%5B-2.99609%2C%20-65.1133%5D%2C%20%5B-2.52936%2C%20-57.7538%5D%2C%20%5B-3.1284099999999997%2C%20-58.1496%5D%2C%20%5B3.64571%2C%20-61.3692%5D%2C%20%5B2.98858%2C%20-61.3072%5D%2C%20%5B2.82384%2C%20-60.6753%5D%2C%20%5B3.3616099999999998%2C%20-59.8333%5D%2C%20%5B2.60994%2C%20-60.6058%5D%2C%20%5B1.8276599999999998%2C%20-61.1304%5D%2C%20%5B0.8842030000000001%2C%20-59.6959%5D%2C%20%5B2.18305%2C%20-61.0415%5D%2C%20%5B2.43998%2C%20-60.9096%5D%2C%20%5B3.8853%2C%20-59.6204%5D%2C%20%5B4.4799%2C%20-61.1477%5D%2C%20%5B0.9399559999999999%2C%20-60.4389%5D%2C%20%5B0.951659%2C%20-59.9133%5D%2C%20%5B1.01019%2C%20-60.0419%5D%2C%20%5B4.60314%2C%20-60.1815%5D%2C%20%5B-1.72183%2C%20-48.8788%5D%2C%20%5B-4.95333%2C%20-48.3933%5D%2C%20%5B-1.95383%2C%20-48.1985%5D%2C%20%5B-0.154874%2C%20-50.3861%5D%2C%20%5B-6.79053%2C%20-50.4791%5D%2C%20%5B-1.94623%2C%20-54.7384%5D%2C%20%5B-1.52904%2C%20-52.5788%5D%2C%20%5B-3.20407%2C%20-52.21%5D%2C%20%5B-0.9968110000000001%2C%20-49.9354%5D%2C%20%5B-1.36391%2C%20-48.3743%5D%2C%20%5B-3.46985%2C%20-51.2003%5D%2C%20%5B-1.0510899999999999%2C%20-46.6147%5D%2C%20%5B-2.14898%2C%20-47.5677%5D%2C%20%5B-3.6084099999999997%2C%20-55.3199%5D%2C%20%5B-1.90057%2C%20-50.1987%5D%2C%20%5B-2.7902099999999996%2C%20-49.6694%5D%2C%20%5B-7.34779%2C%20-50.3959%5D%2C%20%5B-1.51187%2C%20-48.6195%5D%2C%20%5B-1.4554%2C%20-48.4898%5D%2C%20%5B-2.6360900000000003%2C%20-54.9374%5D%2C%20%5B-1.3618299999999999%2C%20-48.2434%5D%2C%20%5B-5.0424%2C%20-48.6047%5D%2C%20%5B-1.36745%2C%20-47.3066%5D%2C%20%5B-1.06126%2C%20-46.7826%5D%2C%20%5B-3.2979199999999995%2C%20-52.534%5D%2C%20%5B-5.69822%2C%20-48.4103%5D%2C%20%5B-3.7719099999999997%2C%20-49.5735%5D%2C%20%5B-1.6803599999999999%2C%20-50.4791%5D%2C%20%5B-1.51762%2C%20-48.0381%5D%2C%20%5B-1.75974%2C%20-46.5459%5D%2C%20%5B-1.01226%2C%20-48.9503%5D%2C%20%5B-2.24295%2C%20-49.4979%5D%2C%20%5B-6.49659%2C%20-49.8776%5D%2C%20%5B-1.20529%2C%20-47.1778%5D%2C%20%5B-1.74785%2C%20-47.0629%5D%2C%20%5B-1.29797%2C%20-47.9167%5D%2C%20%5B-0.164154%2C%20-49.986999999999995%5D%2C%20%5B-0.936423%2C%20-48.2803%5D%2C%20%5B-8.26136%2C%20-49.2689%5D%2C%20%5B-1.9923799999999998%2C%20-47.9422%5D%2C%20%5B-7.810969999999999%2C%20-50.7698%5D%2C%20%5B-6.09965%2C%20-49.6068%5D%2C%20%5B-1.8117900000000002%2C%20-49.7952%5D%2C%20%5B-1.88775%2C%20-55.1168%5D%2C%20%5B-0.733214%2C%20-47.8515%5D%2C%20%5B-4.19944%2C%20-47.8245%5D%2C%20%5B-6.10389%2C%20-49.3553%5D%2C%20%5B-2.16805%2C%20-56.7405%5D%2C%20%5B-7.55335%2C%20-49.7125%5D%2C%20%5B-1.92986%2C%20-47.0505%5D%2C%20%5B-3.8433800000000002%2C%20-49.0974%5D%2C%20%5B-1.41412%2C%20-51.6338%5D%2C%20%5B-1.12539%2C%20-47.626000000000005%5D%2C%20%5B-1.97533%2C%20-48.9575%5D%2C%20%5B-1.4349%2C%20-47.9114%5D%2C%20%5B-2.55992%2C%20-47.5059%5D%2C%20%5B-1.76984%2C%20-47.446000000000005%5D%2C%20%5B-4.2667%2C%20-55.9926%5D%2C%20%5B-5.13272%2C%20-49.3358%5D%2C%20%5B-6.21469%2C%20-57.7544%5D%2C%20%5B-4.4461699999999995%2C%20-49.1153%5D%2C%20%5B-2.1634700000000002%2C%20-56.0889%5D%2C%20%5B-1.8985%2C%20-49.3903%5D%2C%20%5B-2.0568299999999997%2C%20-47.5601%5D%2C%20%5B-0.803391%2C%20-47.6014%5D%2C%20%5B-5.38075%2C%20-49.1327%5D%2C%20%5B-0.778899%2C%20-47.452%5D%2C%20%5B-0.7147020000000001%2C%20-47.7034%5D%2C%20%5B-1.36002%2C%20-48.3421%5D%2C%20%5B-3.4463699999999995%2C%20-52.8875%5D%2C%20%5B-1.8032%2C%20-50.7149%5D%2C%20%5B-2.5831%2C%20-49.5042%5D%2C%20%5B-1.8899299999999999%2C%20-48.7668%5D%2C%20%5B-1.99768%2C%20-54.0724%5D%2C%20%5B-1.53936%2C%20-49.2224%5D%2C%20%5B-2.26693%2C%20-46.9731%5D%2C%20%5B-4.91622%2C%20-49.0822%5D%2C%20%5B-1.20874%2C%20-47.3921%5D%2C%20%5B-7.14347%2C%20-55.3786%5D%2C%20%5B-4.24749%2C%20-49.9499%5D%2C%20%5B-1.90107%2C%20-55.5208%5D%2C%20%5B-2.00358%2C%20-49.8628%5D%2C%20%5B-1.7598900000000002%2C%20-55.8579%5D%2C%20%5B-1.54168%2C%20-47.1126%5D%2C%20%5B-6.7529%2C%20-51.0858%5D%2C%20%5B-3.8354199999999996%2C%20-50.6399%5D%2C%20%5B-5.74027%2C%20-48.3181%5D%2C%20%5B-3.00212%2C%20-47.3527%5D%2C%20%5B-6.06781%2C%20-49.9037%5D%2C%20%5B-1.59772%2C%20-46.9268%5D%2C%20%5B-1.19382%2C%20-47.324%5D%2C%20%5B-6.43778%2C%20-48.8716%5D%2C%20%5B-3.8681300000000003%2C%20-54.2124%5D%2C%20%5B-1.3958700000000002%2C%20-48.8661%5D%2C%20%5B-1.93639%2C%20-50.8194%5D%2C%20%5B-1.74691%2C%20-52.2361%5D%2C%20%5B-1.798%2C%20-53.4779%5D%2C%20%5B-0.9454389999999999%2C%20-47.1253%5D%2C%20%5B-0.8996040000000001%2C%20-47.0134%5D%2C%20%5B-8.02529%2C%20-50.0317%5D%2C%20%5B-7.312360000000001%2C%20-50.0379%5D%2C%20%5B-4.7779300000000005%2C%20-48.067%5D%2C%20%5B-4.100280000000001%2C%20-54.9092%5D%2C%20%5B-0.630815%2C%20-47.3465%5D%2C%20%5B-0.758444%2C%20-48.5139%5D%2C%20%5B-1.1921899999999999%2C%20-48.238%5D%2C%20%5B-0.6610189999999999%2C%20-49.1771%5D%2C%20%5B-1.2968600000000001%2C%20-48.1606%5D%2C%20%5B-1.52147%2C%20-46.9008%5D%2C%20%5B-8.85784%2C%20-49.7215%5D%2C%20%5B-1.35392%2C%20-47.5712%5D%2C%20%5B-9.3281%2C%20-50.35%5D%2C%20%5B-2.4384900000000003%2C%20-54.6996%5D%2C%20%5B-0.9309700000000001%2C%20-47.3855%5D%2C%20%5B-1.1522%2C%20-48.1314%5D%2C%20%5B-0.747293%2C%20-48.0246%5D%2C%20%5B-5.537319999999999%2C%20-48.7366%5D%2C%20%5B-1.6876799999999998%2C%20-47.7665%5D%2C%20%5B-6.6425399999999994%2C%20-51.9904%5D%2C%20%5B-1.16963%2C%20-47.7917%5D%2C%20%5B-6.39471%2C%20-48.5592%5D%2C%20%5B-0.857885%2C%20-47.918%5D%2C%20%5B-0.780222%2C%20-47.181000000000004%5D%2C%20%5B-5.36334%2C%20-48.7926%5D%2C%20%5B-1.61307%2C%20-47.4784%5D%2C%20%5B-1.71597%2C%20-49.5249%5D%2C%20%5B-6.940180000000001%2C%20-49.6834%5D%2C%20%5B-4.3124199999999995%2C%20-51.5764%5D%2C%20%5B-0.73032%2C%20-48.5015%5D%2C%20%5B-2.94584%2C%20-48.9489%5D%2C%20%5B-1.0296299999999998%2C%20-47.9004%5D%2C%20%5B-2.10443%2C%20-56.4877%5D%2C%20%5B-2.41302%2C%20-48.1415%5D%2C%20%5B-1.07653%2C%20-46.9031%5D%2C%20%5B-4.5734699999999995%2C%20-55.9429%5D%2C%20%5B-6.7468699999999995%2C%20-51.1626%5D%2C%20%5B-3.7657%2C%20-49.6773%5D%2C%20%5B-3.7500699999999996%2C%20-47.4892%5D%2C%20%5B-3.71519%2C%20-53.7396%5D%2C%20%5B-0.861194%2C%20-48.1386%5D%2C%20%5B-1.1912399999999999%2C%20-46.1399%5D%2C%20%5B-2.87922%2C%20-52.0088%5D%2C%20%5B-7.0983%2C%20-49.9437%5D%2C%20%5B0.901357%2C%20-52.0036%5D%2C%20%5B2.05267%2C%20-50.7957%5D%2C%20%5B0.777424%2C%20-51.9503%5D%2C%20%5B2.50475%2C%20-50.9512%5D%2C%20%5B0.9707610000000001%2C%20-50.8005%5D%2C%20%5B0.8572559999999999%2C%20-51.1795%5D%2C%20%5B0.6021850000000001%2C%20-50.6996%5D%2C%20%5B-0.8049109999999999%2C%20-52.453%5D%2C%20%5B0.034934%2C%20-51.0694%5D%2C%20%5B-0.11335999999999999%2C%20-51.2891%5D%2C%20%5B3.8407400000000003%2C%20-51.8331%5D%2C%20%5B0.71243%2C%20-51.4155%5D%2C%20%5B1.74543%2C%20-50.7892%5D%2C%20%5B-0.045433999999999995%2C%20-51.1729%5D%2C%20%5B1.50652%2C%20-50.9087%5D%2C%20%5B-0.938%2C%20-52.424%5D%2C%20%5B-9.62101%2C%20-49.1518%5D%2C%20%5B-6.5540899999999995%2C%20-47.4702%5D%2C%20%5B-11.3056%2C%20-48.9361%5D%2C%20%5B-11.5706%2C%20-47.1792%5D%2C%20%5B-12.4785%2C%20-49.1249%5D%2C%20%5B-6.36437%2C%20-48.0735%5D%2C%20%5B-6.39179%2C%20-47.8611%5D%2C%20%5B-9.94139%2C%20-47.9638%5D%2C%20%5B-7.16005%2C%20-48.5291%5D%2C%20%5B-8.80755%2C%20-49.5569%5D%2C%20%5B-12.9289%2C%20-49.8231%5D%2C%20%5B-7.19238%2C%20-48.2044%5D%2C%20%5B-6.58225%2C%20-48.6395%5D%2C%20%5B-5.64659%2C%20-48.1232%5D%2C%20%5B-7.65463%2C%20-49.0637%5D%2C%20%5B-12.9287%2C%20-46.9359%5D%2C%20%5B-5.46863%2C%20-47.8863%5D%2C%20%5B-12.7105%2C%20-46.4076%5D%2C%20%5B-5.61275%2C%20-47.7701%5D%2C%20%5B-7.209230000000001%2C%20-47.7613%5D%2C%20%5B-7.75612%2C%20-48.5836%5D%2C%20%5B-7.695930000000001%2C%20-47.6776%5D%2C%20%5B-9.83404%2C%20-48.7252%5D%2C%20%5B-7.874810000000001%2C%20-48.8893%5D%2C%20%5B-8.96306%2C%20-48.165%5D%2C%20%5B-8.38918%2C%20-48.4822%5D%2C%20%5B-11.0058%2C%20-48.5683%5D%2C%20%5B-5.3144800000000005%2C%20-48.2271%5D%2C%20%5B-6.1156%2C%20-47.9234%5D%2C%20%5B-7.989560000000001%2C%20-46.8645%5D%2C%20%5B-11.8881%2C%20-49.1609%5D%2C%20%5B-7.03262%2C%20-48.3978%5D%2C%20%5B-5.31415%2C%20-48.0314%5D%2C%20%5B-9.27612%2C%20-49.9521%5D%2C%20%5B-8.961030000000001%2C%20-47.3304%5D%2C%20%5B-10.1419%2C%20-49.1403%5D%2C%20%5B-11.6175%2C%20-47.7486%5D%2C%20%5B-8.05764%2C%20-48.4757%5D%2C%20%5B-12.7917%2C%20-46.5388%5D%2C%20%5B-12.2209%2C%20-47.2951%5D%2C%20%5B-8.28411%2C%20-49.2473%5D%2C%20%5B-10.5985%2C%20-49.1942%5D%2C%20%5B-11.0994%2C%20-48.9152%5D%2C%20%5B-6.715910000000001%2C%20-47.7597%5D%2C%20%5B-11.624%2C%20-46.8198%5D%2C%20%5B-9.800180000000001%2C%20-49.2169%5D%2C%20%5B-9.255339999999999%2C%20-49.0638%5D%2C%20%5B-11.3416%2C%20-49.2716%5D%2C%20%5B-5.3659300000000005%2C%20-48.5378%5D%2C%20%5B-10.7603%2C%20-48.9076%5D%2C%20%5B-12.1312%2C%20-49.1748%5D%2C%20%5B-7.3350100000000005%2C%20-47.4954%5D%2C%20%5B-11.7976%2C%20-49.5316%5D%2C%20%5B-9.05611%2C%20-48.5206%5D%2C%20%5B-8.77413%2C%20-48.9313%5D%2C%20%5B-7.71478%2C%20-47.3252%5D%2C%20%5B-8.83543%2C%20-48.5114%5D%2C%20%5B-11.7279%2C%20-49.068000000000005%5D%2C%20%5B-11.2329%2C%20-48.46%5D%2C%20%5B-8.39293%2C%20-47.7726%5D%2C%20%5B-5.77267%2C%20-47.4864%5D%2C%20%5B-8.37982%2C%20-48.1072%5D%2C%20%5B-8.57172%2C%20-48.6895%5D%2C%20%5B-12.6509%2C%20-48.589%5D%2C%20%5B-8.11951%2C%20-49.0643%5D%2C%20%5B-10.7906%2C%20-49.6199%5D%2C%20%5B-10.368%2C%20-47.538000000000004%5D%2C%20%5B-9.74996%2C%20-48.3565%5D%2C%20%5B-12.7847%2C%20-46.5099%5D%2C%20%5B-9.590019999999999%2C%20-46.6738%5D%2C%20%5B-6.17794%2C%20-47.8582%5D%2C%20%5B-9.79377%2C%20-49.6553%5D%2C%20%5B-10.5464%2C%20-46.4168%5D%2C%20%5B-5.95169%2C%20-47.5125%5D%2C%20%5B-9.565560000000001%2C%20-48.393%5D%2C%20%5B-9.529069999999999%2C%20-48.5922%5D%2C%20%5B-10.7611%2C%20-48.1114%5D%2C%20%5B-10.0075%2C%20-48.9941%5D%2C%20%5B-6.61658%2C%20-47.5464%5D%2C%20%5B-7.1466899999999995%2C%20-48.6091%5D%2C%20%5B-11.7034%2C%20-47.7223%5D%2C%20%5B-6.37496%2C%20-47.6643%5D%2C%20%5B-7.631710000000001%2C%20-48.4252%5D%2C%20%5B-10.5651%2C%20-48.9125%5D%2C%20%5B-9.97063%2C%20-47.6785%5D%2C%20%5B-12.9217%2C%20-46.5713%5D%2C%20%5B-11.825999999999999%2C%20-46.6325%5D%2C%20%5B-10.707%2C%20-48.9086%5D%2C%20%5B-7.847860000000001%2C%20-47.9242%5D%2C%20%5B-13.0447%2C%20-48.4026%5D%2C%20%5B-10.175%2C%20-48.8823%5D%2C%20%5B-12.6167%2C%20-47.8734%5D%2C%20%5B-7.53919%2C%20-49.367%5D%2C%20%5B-8.97034%2C%20-48.1729%5D%2C%20%5B-12.0254%2C%20-48.5395%5D%2C%20%5B-8.5932%2C%20-48.9327%5D%2C%20%5B-8.72463%2C%20-48.7638%5D%2C%20%5B-11.1311%2C%20-47.5726%5D%2C%20%5B-6.77302%2C%20-48.2958%5D%2C%20%5B-10.442%2C%20-49.1876%5D%2C%20%5B-12.0853%2C%20-46.4825%5D%2C%20%5B-10.7481%2C%20-47.5276%5D%2C%20%5B-11.618%2C%20-47.0621%5D%2C%20%5B-10.7027%2C%20-48.408%5D%2C%20%5B-5.39281%2C%20-47.8111%5D%2C%20%5B-8.5406%2C%20-48.5062%5D%2C%20%5B-10.424000000000001%2C%20-48.8957%5D%2C%20%5B-8.7227%2C%20-47.2421%5D%2C%20%5B-6.44005%2C%20-48.1371%5D%2C%20%5B-11.3949%2C%20-46.8847%5D%2C%20%5B-9.34425%2C%20-48.5245%5D%2C%20%5B-9.350019999999999%2C%20-47.888000000000005%5D%2C%20%5B-5.35423%2C%20-47.8782%5D%2C%20%5B-12.538%2C%20-49.9242%5D%2C%20%5B-7.15803%2C%20-48.7165%5D%2C%20%5B-8.8046%2C%20-47.7887%5D%2C%20%5B-10.8617%2C%20-48.9161%5D%2C%20%5B-11.4474%2C%20-48.1216%5D%2C%20%5B-10.2746%2C%20-47.8033%5D%2C%20%5B-6.444380000000001%2C%20-47.6684%5D%2C%20%5B-6.0258%2C%20-47.9012%5D%2C%20%5B-10.1615%2C%20-46.6618%5D%2C%20%5B-5.56305%2C%20-47.5743%5D%2C%20%5B-12.7458%2C%20-48.2352%5D%2C%20%5B-5.26131%2C%20-48.2021%5D%2C%20%5B-11.9743%2C%20-48.2353%5D%2C%20%5B-11.1471%2C%20-48.1694%5D%2C%20%5B-5.6012%2C%20-47.6381%5D%2C%20%5B-11.993%2C%20-48.9685%5D%2C%20%5B-12.4026%2C%20-46.437%5D%2C%20%5B-12.1873%2C%20-46.9797%5D%2C%20%5B-12.7949%2C%20-49.0896%5D%2C%20%5B-10.24%2C%20-48.3558%5D%2C%20%5B-9.5632%2C%20-48.3741%5D%2C%20%5B-6.32447%2C%20-47.4224%5D%2C%20%5B-8.971680000000001%2C%20-48.1883%5D%2C%20%5B-8.393880000000001%2C%20-48.1277%5D%2C%20%5B-6.85274%2C%20-47.9601%5D%2C%20%5B-6.4141%2C%20-48.532%5D%2C%20%5B-11.9283%2C%20-61.9953%5D%2C%20%5B-9.905710000000001%2C%20-63.0325%5D%2C%20%5B-13.4945%2C%20-60.552%5D%2C%20%5B-11.4343%2C%20-61.4562%5D%2C%20%5B-13.187000000000001%2C%20-60.8168%5D%2C%20%5B-13.1174%2C%20-60.5454%5D%2C%20%5B-12.9551%2C%20-60.8947%5D%2C%20%5B-12.4367%2C%20-64.22800000000001%5D%2C%20%5B-11.5266%2C%20-61.0252%5D%2C%20%5B-10.7889%2C%20-65.3296%5D%2C%20%5B-10.4318%2C%20-62.4788%5D%2C%20%5B-10.8777%2C%20-61.9322%5D%2C%20%5B-9.44363%2C%20-61.9818%5D%2C%20%5B-11.7247%2C%20-62.3127%5D%2C%20%5B-10.7167%2C%20-62.2565%5D%2C%20%5B-11.672%2C%20-61.198%5D%2C%20%5B-8.760769999999999%2C%20-63.8999%5D%2C%20%5B-11.169%2C%20-61.8986%5D%2C%20%5B-9.69965%2C%20-62.9011%5D%2C%20%5B-11.7271%2C%20-61.7714%5D%2C%20%5B-11.9074%2C%20-61.7777%5D%2C%20%5B-12.7502%2C%20-60.1488%5D%2C%20%5B-11.6953%2C%20-62.7192%5D%2C%20%5B-10.4077%2C%20-65.3346%5D%2C%20%5B-11.3463%2C%20-62.2847%5D%2C%20%5B-12.132%2C%20-61.835%5D%2C%20%5B-9.71429%2C%20-63.3188%5D%2C%20%5B-10.1943%2C%20-63.8324%5D%2C%20%5B-11.6961%2C%20-61.9951%5D%2C%20%5B-10.349%2C%20-62.9043%5D%2C%20%5B-10.5712%2C%20-63.6266%5D%2C%20%5B-8.7907%2C%20-63.7005%5D%2C%20%5B-11.4253%2C%20-61.9482%5D%2C%20%5B-12.5611%2C%20-60.8877%5D%2C%20%5B-9.36065%2C%20-62.5846%5D%2C%20%5B-10.61%2C%20-62.7371%5D%2C%20%5B-9.19687%2C%20-63.1809%5D%2C%20%5B-11.196%2C%20-61.5174%5D%2C%20%5B-11.029000000000002%2C%20-62.6696%5D%2C%20%5B-10.2458%2C%20-63.29%5D%2C%20%5B-10.9068%2C%20-62.5564%5D%2C%20%5B-12.1754%2C%20-61.6032%5D%2C%20%5B-13.4823%2C%20-61.0471%5D%2C%20%5B-11.8295%2C%20-61.3153%5D%2C%20%5B-11.9023%2C%20-61.5026%5D%2C%20%5B-12.052%2C%20-63.568000000000005%5D%2C%20%5B-11.8055%2C%20-63.0182%5D%2C%20%5B-10.9056%2C%20-62.242%5D%2C%20%5B-10.2483%2C%20-62.3538%5D%2C%20%5B-11.1261%2C%20-62.3639%5D%2C%20%5B-9.86215%2C%20-62.1876%5D%2C%20%5B-10.4465%2C%20-62.1352%5D%2C%20%5B-9.82581%2C%20-66.8972%5D%2C%20%5B-10.9298%2C%20-69.5738%5D%2C%20%5B-10.995%2C%20-68.7497%5D%2C%20%5B-9.81528%2C%20-67.955%5D%2C%20%5B-10.565999999999999%2C%20-67.686%5D%2C%20%5B-7.627619999999999%2C%20-72.6756%5D%2C%20%5B-11.0188%2C%20-68.7341%5D%2C%20%5B-8.170539999999999%2C%20-70.351%5D%2C%20%5B-9.43091%2C%20-71.8974%5D%2C%20%5B-7.616569999999999%2C%20-72.8997%5D%2C%20%5B-8.83291%2C%20-69.2679%5D%2C%20%5B-8.93898%2C%20-72.7997%5D%2C%20%5B-10.2806%2C%20-67.1371%5D%2C%20%5B-8.26323%2C%20-72.7537%5D%2C%20%5B-9.97499%2C%20-67.8243%5D%2C%20%5B-7.738639999999999%2C%20-72.661%5D%2C%20%5B-9.44652%2C%20-70.4902%5D%2C%20%5B-10.1497%2C%20-67.7362%5D%2C%20%5B-9.06596%2C%20-68.6571%5D%2C%20%5B-8.15697%2C%20-70.7722%5D%2C%20%5B-10.6516%2C%20-68.4969%5D%2C%20%5B-9.581380000000001%2C%20-67.5478%5D%2C%20%5B-3.22727%2C%20-64.8007%5D%2C%20%5B-3.37455%2C%20-68.2005%5D%2C%20%5B-3.5669699999999995%2C%20-61.3963%5D%2C%20%5B-3.74603%2C%20-61.6575%5D%2C%20%5B-7.194089999999999%2C%20-59.896%5D%2C%20%5B-4.37055%2C%20-70.1967%5D%2C%20%5B-3.58574%2C%20-59.1256%5D%2C%20%5B-0.9833729999999999%2C%20-62.9311%5D%2C%20%5B-2.79886%2C%20-57.0679%5D%2C%20%5B-4.377680000000001%2C%20-70.0342%5D%2C%20%5B-3.89874%2C%20-61.3616%5D%2C%20%5B-2.9740900000000003%2C%20-57.5873%5D%2C%20%5B-8.74232%2C%20-67.3919%5D%2C%20%5B-4.39154%2C%20-59.5874%5D%2C%20%5B-3.3153699999999997%2C%20-61.2206%5D%2C%20%5B-6.5258199999999995%2C%20-64.3953%5D%2C%20%5B-4.88161%2C%20-66.9086%5D%2C%20%5B-3.7680300000000004%2C%20-60.369%5D%2C%20%5B-3.3139999999999996%2C%20-59.5557%5D%2C%20%5B-4.094119999999999%2C%20-63.1441%5D%2C%20%5B-3.8305300000000004%2C%20-62.0658%5D%2C%20%5B-6.65677%2C%20-69.8662%5D%2C%20%5B-7.4378899999999994%2C%20-70.0281%5D%2C%20%5B-2.52342%2C%20-66.0942%5D%2C%20%5B-7.53797%2C%20-72.5907%5D%2C%20%5B-7.511710000000001%2C%20-63.0327%5D%2C%20%5B-7.047910000000001%2C%20-71.6934%5D%2C%20%5B-3.2747900000000003%2C%20-60.19%5D%2C%20%5B-3.13861%2C%20-58.4449%5D%2C%20%5B-6.43852%2C%20-68.2437%5D%2C%20%5B-2.7408099999999997%2C%20-58.0293%5D%2C%20%5B-1.88237%2C%20-66.9291%5D%2C%20%5B-3.4843800000000003%2C%20-66.0718%5D%2C%20%5B-2.75814%2C%20-66.7595%5D%2C%20%5B-7.264130000000001%2C%20-64.7948%5D%2C%20%5B-3.29066%2C%20-60.6216%5D%2C%20%5B-3.44078%2C%20-60.4612%5D%2C%20%5B-3.1186599999999998%2C%20-60.0212%5D%2C%20%5B-5.80462%2C%20-61.2895%5D%2C%20%5B-1.85313%2C%20-65.57300000000001%5D%2C%20%5B-3.39289%2C%20-57.7067%5D%2C%20%5B-2.2079299999999997%2C%20-56.7112%5D%2C%20%5B-3.9003699999999997%2C%20-59.093999999999994%5D%2C%20%5B-2.63637%2C%20-60.9434%5D%2C%20%5B-5.12593%2C%20-60.3732%5D%2C%20%5B-2.63741%2C%20-56.729%5D%2C%20%5B-7.71311%2C%20-66.992%5D%2C%20%5B-2.02981%2C%20-60.0234%5D%2C%20%5B-2.7045%2C%20-59.6858%5D%2C%20%5B-0.41082399999999997%2C%20-65.0092%5D%2C%20%5B-3.09544%2C%20-67.9463%5D%2C%20%5B-0.11909000000000002%2C%20-67.084%5D%2C%20%5B-3.47292%2C%20-68.9646%5D%2C%20%5B-2.55915%2C%20-57.8731%5D%2C%20%5B-2.8174799999999998%2C%20-58.248000000000005%5D%2C%20%5B-4.2416%2C%20-69.9383%5D%2C%20%5B-5.62085%2C%20-63.1808%5D%2C%20%5B-3.3682199999999995%2C%20-64.7193%5D%2C%20%5B-2.8658200000000003%2C%20-67.7919%5D%2C%20%5B-2.99609%2C%20-65.1133%5D%2C%20%5B-2.52936%2C%20-57.7538%5D%2C%20%5B-3.1284099999999997%2C%20-58.1496%5D%2C%20%5B3.64571%2C%20-61.3692%5D%2C%20%5B2.98858%2C%20-61.3072%5D%2C%20%5B2.82384%2C%20-60.6753%5D%2C%20%5B3.3616099999999998%2C%20-59.8333%5D%2C%20%5B2.60994%2C%20-60.6058%5D%2C%20%5B1.8276599999999998%2C%20-61.1304%5D%2C%20%5B0.8842030000000001%2C%20-59.6959%5D%2C%20%5B2.18305%2C%20-61.0415%5D%2C%20%5B2.43998%2C%20-60.9096%5D%2C%20%5B3.8853%2C%20-59.6204%5D%2C%20%5B4.4799%2C%20-61.1477%5D%2C%20%5B0.9399559999999999%2C%20-60.4389%5D%2C%20%5B0.951659%2C%20-59.9133%5D%2C%20%5B1.01019%2C%20-60.0419%5D%2C%20%5B4.60314%2C%20-60.1815%5D%2C%20%5B-1.72183%2C%20-48.8788%5D%2C%20%5B-4.95333%2C%20-48.3933%5D%2C%20%5B-1.95383%2C%20-48.1985%5D%2C%20%5B-0.154874%2C%20-50.3861%5D%2C%20%5B-6.79053%2C%20-50.4791%5D%2C%20%5B-1.94623%2C%20-54.7384%5D%2C%20%5B-1.52904%2C%20-52.5788%5D%2C%20%5B-3.20407%2C%20-52.21%5D%2C%20%5B-0.9968110000000001%2C%20-49.9354%5D%2C%20%5B-1.36391%2C%20-48.3743%5D%2C%20%5B-3.46985%2C%20-51.2003%5D%2C%20%5B-1.0510899999999999%2C%20-46.6147%5D%2C%20%5B-2.14898%2C%20-47.5677%5D%2C%20%5B-3.6084099999999997%2C%20-55.3199%5D%2C%20%5B-1.90057%2C%20-50.1987%5D%2C%20%5B-2.7902099999999996%2C%20-49.6694%5D%2C%20%5B-7.34779%2C%20-50.3959%5D%2C%20%5B-1.51187%2C%20-48.6195%5D%2C%20%5B-1.4554%2C%20-48.4898%5D%2C%20%5B-2.6360900000000003%2C%20-54.9374%5D%2C%20%5B-1.3618299999999999%2C%20-48.2434%5D%2C%20%5B-5.0424%2C%20-48.6047%5D%2C%20%5B-1.36745%2C%20-47.3066%5D%2C%20%5B-1.06126%2C%20-46.7826%5D%2C%20%5B-3.2979199999999995%2C%20-52.534%5D%2C%20%5B-5.69822%2C%20-48.4103%5D%2C%20%5B-3.7719099999999997%2C%20-49.5735%5D%2C%20%5B-1.6803599999999999%2C%20-50.4791%5D%2C%20%5B-1.51762%2C%20-48.0381%5D%2C%20%5B-1.75974%2C%20-46.5459%5D%2C%20%5B-1.01226%2C%20-48.9503%5D%2C%20%5B-2.24295%2C%20-49.4979%5D%2C%20%5B-6.49659%2C%20-49.8776%5D%2C%20%5B-1.20529%2C%20-47.1778%5D%2C%20%5B-1.74785%2C%20-47.0629%5D%2C%20%5B-1.29797%2C%20-47.9167%5D%2C%20%5B-0.164154%2C%20-49.986999999999995%5D%2C%20%5B-0.936423%2C%20-48.2803%5D%2C%20%5B-8.26136%2C%20-49.2689%5D%2C%20%5B-1.9923799999999998%2C%20-47.9422%5D%2C%20%5B-7.810969999999999%2C%20-50.7698%5D%2C%20%5B-6.09965%2C%20-49.6068%5D%2C%20%5B-1.8117900000000002%2C%20-49.7952%5D%2C%20%5B-1.88775%2C%20-55.1168%5D%2C%20%5B-0.733214%2C%20-47.8515%5D%2C%20%5B-4.19944%2C%20-47.8245%5D%2C%20%5B-6.10389%2C%20-49.3553%5D%2C%20%5B-2.16805%2C%20-56.7405%5D%2C%20%5B-7.55335%2C%20-49.7125%5D%2C%20%5B-1.92986%2C%20-47.0505%5D%2C%20%5B-3.8433800000000002%2C%20-49.0974%5D%2C%20%5B-1.41412%2C%20-51.6338%5D%2C%20%5B-1.12539%2C%20-47.626000000000005%5D%2C%20%5B-1.97533%2C%20-48.9575%5D%2C%20%5B-1.4349%2C%20-47.9114%5D%2C%20%5B-2.55992%2C%20-47.5059%5D%2C%20%5B-1.76984%2C%20-47.446000000000005%5D%2C%20%5B-4.2667%2C%20-55.9926%5D%2C%20%5B-5.13272%2C%20-49.3358%5D%2C%20%5B-6.21469%2C%20-57.7544%5D%2C%20%5B-4.4461699999999995%2C%20-49.1153%5D%2C%20%5B-2.1634700000000002%2C%20-56.0889%5D%2C%20%5B-1.8985%2C%20-49.3903%5D%2C%20%5B-2.0568299999999997%2C%20-47.5601%5D%2C%20%5B-0.803391%2C%20-47.6014%5D%2C%20%5B-5.38075%2C%20-49.1327%5D%2C%20%5B-0.778899%2C%20-47.452%5D%2C%20%5B-0.7147020000000001%2C%20-47.7034%5D%2C%20%5B-1.36002%2C%20-48.3421%5D%2C%20%5B-3.4463699999999995%2C%20-52.8875%5D%2C%20%5B-1.8032%2C%20-50.7149%5D%2C%20%5B-2.5831%2C%20-49.5042%5D%2C%20%5B-1.8899299999999999%2C%20-48.7668%5D%2C%20%5B-1.99768%2C%20-54.0724%5D%2C%20%5B-1.53936%2C%20-49.2224%5D%2C%20%5B-2.26693%2C%20-46.9731%5D%2C%20%5B-4.91622%2C%20-49.0822%5D%2C%20%5B-1.20874%2C%20-47.3921%5D%2C%20%5B-7.14347%2C%20-55.3786%5D%2C%20%5B-4.24749%2C%20-49.9499%5D%2C%20%5B-1.90107%2C%20-55.5208%5D%2C%20%5B-2.00358%2C%20-49.8628%5D%2C%20%5B-1.7598900000000002%2C%20-55.8579%5D%2C%20%5B-1.54168%2C%20-47.1126%5D%2C%20%5B-6.7529%2C%20-51.0858%5D%2C%20%5B-3.8354199999999996%2C%20-50.6399%5D%2C%20%5B-5.74027%2C%20-48.3181%5D%2C%20%5B-3.00212%2C%20-47.3527%5D%2C%20%5B-6.06781%2C%20-49.9037%5D%2C%20%5B-1.59772%2C%20-46.9268%5D%2C%20%5B-1.19382%2C%20-47.324%5D%2C%20%5B-6.43778%2C%20-48.8716%5D%2C%20%5B-3.8681300000000003%2C%20-54.2124%5D%2C%20%5B-1.3958700000000002%2C%20-48.8661%5D%2C%20%5B-1.93639%2C%20-50.8194%5D%2C%20%5B-1.74691%2C%20-52.2361%5D%2C%20%5B-1.798%2C%20-53.4779%5D%2C%20%5B-0.9454389999999999%2C%20-47.1253%5D%2C%20%5B-0.8996040000000001%2C%20-47.0134%5D%2C%20%5B-8.02529%2C%20-50.0317%5D%2C%20%5B-7.312360000000001%2C%20-50.0379%5D%2C%20%5B-4.7779300000000005%2C%20-48.067%5D%2C%20%5B-4.100280000000001%2C%20-54.9092%5D%2C%20%5B-0.630815%2C%20-47.3465%5D%2C%20%5B-0.758444%2C%20-48.5139%5D%2C%20%5B-1.1921899999999999%2C%20-48.238%5D%2C%20%5B-0.6610189999999999%2C%20-49.1771%5D%2C%20%5B-1.2968600000000001%2C%20-48.1606%5D%2C%20%5B-1.52147%2C%20-46.9008%5D%2C%20%5B-8.85784%2C%20-49.7215%5D%2C%20%5B-1.35392%2C%20-47.5712%5D%2C%20%5B-9.3281%2C%20-50.35%5D%2C%20%5B-2.4384900000000003%2C%20-54.6996%5D%2C%20%5B-0.9309700000000001%2C%20-47.3855%5D%2C%20%5B-1.1522%2C%20-48.1314%5D%2C%20%5B-0.747293%2C%20-48.0246%5D%2C%20%5B-5.537319999999999%2C%20-48.7366%5D%2C%20%5B-1.6876799999999998%2C%20-47.7665%5D%2C%20%5B-6.6425399999999994%2C%20-51.9904%5D%2C%20%5B-1.16963%2C%20-47.7917%5D%2C%20%5B-6.39471%2C%20-48.5592%5D%2C%20%5B-0.857885%2C%20-47.918%5D%2C%20%5B-0.780222%2C%20-47.181000000000004%5D%2C%20%5B-5.36334%2C%20-48.7926%5D%2C%20%5B-1.61307%2C%20-47.4784%5D%2C%20%5B-1.71597%2C%20-49.5249%5D%2C%20%5B-6.940180000000001%2C%20-49.6834%5D%2C%20%5B-4.3124199999999995%2C%20-51.5764%5D%2C%20%5B-0.73032%2C%20-48.5015%5D%2C%20%5B-2.94584%2C%20-48.9489%5D%2C%20%5B-1.0296299999999998%2C%20-47.9004%5D%2C%20%5B-2.10443%2C%20-56.4877%5D%2C%20%5B-2.41302%2C%20-48.1415%5D%2C%20%5B-1.07653%2C%20-46.9031%5D%2C%20%5B-4.5734699999999995%2C%20-55.9429%5D%2C%20%5B-6.7468699999999995%2C%20-51.1626%5D%2C%20%5B-3.7657%2C%20-49.6773%5D%2C%20%5B-3.7500699999999996%2C%20-47.4892%5D%2C%20%5B-3.71519%2C%20-53.7396%5D%2C%20%5B-0.861194%2C%20-48.1386%5D%2C%20%5B-1.1912399999999999%2C%20-46.1399%5D%2C%20%5B-2.87922%2C%20-52.0088%5D%2C%20%5B-7.0983%2C%20-49.9437%5D%2C%20%5B0.901357%2C%20-52.0036%5D%2C%20%5B2.05267%2C%20-50.7957%5D%2C%20%5B0.777424%2C%20-51.9503%5D%2C%20%5B2.50475%2C%20-50.9512%5D%2C%20%5B0.9707610000000001%2C%20-50.8005%5D%2C%20%5B0.8572559999999999%2C%20-51.1795%5D%2C%20%5B0.6021850000000001%2C%20-50.6996%5D%2C%20%5B-0.8049109999999999%2C%20-52.453%5D%2C%20%5B0.034934%2C%20-51.0694%5D%2C%20%5B-0.11335999999999999%2C%20-51.2891%5D%2C%20%5B3.8407400000000003%2C%20-51.8331%5D%2C%20%5B0.71243%2C%20-51.4155%5D%2C%20%5B1.74543%2C%20-50.7892%5D%2C%20%5B-0.045433999999999995%2C%20-51.1729%5D%2C%20%5B1.50652%2C%20-50.9087%5D%2C%20%5B-0.938%2C%20-52.424%5D%2C%20%5B-9.62101%2C%20-49.1518%5D%2C%20%5B-6.5540899999999995%2C%20-47.4702%5D%2C%20%5B-11.3056%2C%20-48.9361%5D%2C%20%5B-11.5706%2C%20-47.1792%5D%2C%20%5B-12.4785%2C%20-49.1249%5D%2C%20%5B-6.36437%2C%20-48.0735%5D%2C%20%5B-6.39179%2C%20-47.8611%5D%2C%20%5B-9.94139%2C%20-47.9638%5D%2C%20%5B-7.16005%2C%20-48.5291%5D%2C%20%5B-8.80755%2C%20-49.5569%5D%2C%20%5B-12.9289%2C%20-49.8231%5D%2C%20%5B-7.19238%2C%20-48.2044%5D%2C%20%5B-6.58225%2C%20-48.6395%5D%2C%20%5B-5.64659%2C%20-48.1232%5D%2C%20%5B-7.65463%2C%20-49.0637%5D%2C%20%5B-12.9287%2C%20-46.9359%5D%2C%20%5B-5.46863%2C%20-47.8863%5D%2C%20%5B-12.7105%2C%20-46.4076%5D%2C%20%5B-5.61275%2C%20-47.7701%5D%2C%20%5B-7.209230000000001%2C%20-47.7613%5D%2C%20%5B-7.75612%2C%20-48.5836%5D%2C%20%5B-7.695930000000001%2C%20-47.6776%5D%2C%20%5B-9.83404%2C%20-48.7252%5D%2C%20%5B-7.874810000000001%2C%20-48.8893%5D%2C%20%5B-8.96306%2C%20-48.165%5D%2C%20%5B-8.38918%2C%20-48.4822%5D%2C%20%5B-11.0058%2C%20-48.5683%5D%2C%20%5B-5.3144800000000005%2C%20-48.2271%5D%2C%20%5B-6.1156%2C%20-47.9234%5D%2C%20%5B-7.989560000000001%2C%20-46.8645%5D%2C%20%5B-11.8881%2C%20-49.1609%5D%2C%20%5B-7.03262%2C%20-48.3978%5D%2C%20%5B-5.31415%2C%20-48.0314%5D%2C%20%5B-9.27612%2C%20-49.9521%5D%2C%20%5B-8.961030000000001%2C%20-47.3304%5D%2C%20%5B-10.1419%2C%20-49.1403%5D%2C%20%5B-11.6175%2C%20-47.7486%5D%2C%20%5B-8.05764%2C%20-48.4757%5D%2C%20%5B-12.7917%2C%20-46.5388%5D%2C%20%5B-12.2209%2C%20-47.2951%5D%2C%20%5B-8.28411%2C%20-49.2473%5D%2C%20%5B-10.5985%2C%20-49.1942%5D%2C%20%5B-11.0994%2C%20-48.9152%5D%2C%20%5B-6.715910000000001%2C%20-47.7597%5D%2C%20%5B-11.624%2C%20-46.8198%5D%2C%20%5B-9.800180000000001%2C%20-49.2169%5D%2C%20%5B-9.255339999999999%2C%20-49.0638%5D%2C%20%5B-11.3416%2C%20-49.2716%5D%2C%20%5B-5.3659300000000005%2C%20-48.5378%5D%2C%20%5B-10.7603%2C%20-48.9076%5D%2C%20%5B-12.1312%2C%20-49.1748%5D%2C%20%5B-7.3350100000000005%2C%20-47.4954%5D%2C%20%5B-11.7976%2C%20-49.5316%5D%2C%20%5B-9.05611%2C%20-48.5206%5D%2C%20%5B-8.77413%2C%20-48.9313%5D%2C%20%5B-7.71478%2C%20-47.3252%5D%2C%20%5B-8.83543%2C%20-48.5114%5D%2C%20%5B-11.7279%2C%20-49.068000000000005%5D%2C%20%5B-11.2329%2C%20-48.46%5D%2C%20%5B-8.39293%2C%20-47.7726%5D%2C%20%5B-5.77267%2C%20-47.4864%5D%2C%20%5B-8.37982%2C%20-48.1072%5D%2C%20%5B-8.57172%2C%20-48.6895%5D%2C%20%5B-12.6509%2C%20-48.589%5D%2C%20%5B-8.11951%2C%20-49.0643%5D%2C%20%5B-10.7906%2C%20-49.6199%5D%2C%20%5B-10.368%2C%20-47.538000000000004%5D%2C%20%5B-9.74996%2C%20-48.3565%5D%2C%20%5B-12.7847%2C%20-46.5099%5D%2C%20%5B-9.590019999999999%2C%20-46.6738%5D%2C%20%5B-6.17794%2C%20-47.8582%5D%2C%20%5B-9.79377%2C%20-49.6553%5D%2C%20%5B-10.5464%2C%20-46.4168%5D%2C%20%5B-5.95169%2C%20-47.5125%5D%2C%20%5B-9.565560000000001%2C%20-48.393%5D%2C%20%5B-9.529069999999999%2C%20-48.5922%5D%2C%20%5B-10.7611%2C%20-48.1114%5D%2C%20%5B-10.0075%2C%20-48.9941%5D%2C%20%5B-6.61658%2C%20-47.5464%5D%2C%20%5B-7.1466899999999995%2C%20-48.6091%5D%2C%20%5B-11.7034%2C%20-47.7223%5D%2C%20%5B-6.37496%2C%20-47.6643%5D%2C%20%5B-7.631710000000001%2C%20-48.4252%5D%2C%20%5B-10.5651%2C%20-48.9125%5D%2C%20%5B-9.97063%2C%20-47.6785%5D%2C%20%5B-12.9217%2C%20-46.5713%5D%2C%20%5B-11.825999999999999%2C%20-46.6325%5D%2C%20%5B-10.707%2C%20-48.9086%5D%2C%20%5B-7.847860000000001%2C%20-47.9242%5D%2C%20%5B-13.0447%2C%20-48.4026%5D%2C%20%5B-10.175%2C%20-48.8823%5D%2C%20%5B-12.6167%2C%20-47.8734%5D%2C%20%5B-7.53919%2C%20-49.367%5D%2C%20%5B-8.97034%2C%20-48.1729%5D%2C%20%5B-12.0254%2C%20-48.5395%5D%2C%20%5B-8.5932%2C%20-48.9327%5D%2C%20%5B-8.72463%2C%20-48.7638%5D%2C%20%5B-11.1311%2C%20-47.5726%5D%2C%20%5B-6.77302%2C%20-48.2958%5D%2C%20%5B-10.442%2C%20-49.1876%5D%2C%20%5B-12.0853%2C%20-46.4825%5D%2C%20%5B-10.7481%2C%20-47.5276%5D%2C%20%5B-11.618%2C%20-47.0621%5D%2C%20%5B-10.7027%2C%20-48.408%5D%2C%20%5B-5.39281%2C%20-47.8111%5D%2C%20%5B-8.5406%2C%20-48.5062%5D%2C%20%5B-10.424000000000001%2C%20-48.8957%5D%2C%20%5B-8.7227%2C%20-47.2421%5D%2C%20%5B-6.44005%2C%20-48.1371%5D%2C%20%5B-11.3949%2C%20-46.8847%5D%2C%20%5B-9.34425%2C%20-48.5245%5D%2C%20%5B-9.350019999999999%2C%20-47.888000000000005%5D%2C%20%5B-5.35423%2C%20-47.8782%5D%2C%20%5B-12.538%2C%20-49.9242%5D%2C%20%5B-7.15803%2C%20-48.7165%5D%2C%20%5B-8.8046%2C%20-47.7887%5D%2C%20%5B-10.8617%2C%20-48.9161%5D%2C%20%5B-11.4474%2C%20-48.1216%5D%2C%20%5B-10.2746%2C%20-47.8033%5D%2C%20%5B-6.444380000000001%2C%20-47.6684%5D%2C%20%5B-6.0258%2C%20-47.9012%5D%2C%20%5B-10.1615%2C%20-46.6618%5D%2C%20%5B-5.56305%2C%20-47.5743%5D%2C%20%5B-12.7458%2C%20-48.2352%5D%2C%20%5B-5.26131%2C%20-48.2021%5D%2C%20%5B-11.9743%2C%20-48.2353%5D%2C%20%5B-11.1471%2C%20-48.1694%5D%2C%20%5B-5.6012%2C%20-47.6381%5D%2C%20%5B-11.993%2C%20-48.9685%5D%2C%20%5B-12.4026%2C%20-46.437%5D%2C%20%5B-12.1873%2C%20-46.9797%5D%2C%20%5B-12.7949%2C%20-49.0896%5D%2C%20%5B-10.24%2C%20-48.3558%5D%2C%20%5B-9.5632%2C%20-48.3741%5D%2C%20%5B-6.32447%2C%20-47.4224%5D%2C%20%5B-8.971680000000001%2C%20-48.1883%5D%2C%20%5B-8.393880000000001%2C%20-48.1277%5D%2C%20%5B-6.85274%2C%20-47.9601%5D%2C%20%5B-6.4141%2C%20-48.532%5D%5D%2C%0A%20%20%20%20%20%20%20%20%20%20%20%20%20%20%20%20%7B%22blur%22%3A%2015%2C%20%22maxZoom%22%3A%2018%2C%20%22minOpacity%22%3A%200.5%2C%20%22radius%22%3A%2025%7D%0A%20%20%20%20%20%20%20%20%20%20%20%20%29.addTo%28map_c1d1be5613664d8ea852dbee6e7f757c%29%3B%0A%20%20%20%20%20%20%20%20%0A%3C/script%3E onload=\"this.contentDocument.open();this.contentDocument.write(    decodeURIComponent(this.getAttribute('data-html')));this.contentDocument.close();\" allowfullscreen webkitallowfullscreen mozallowfullscreen></iframe></div></div>"
      ],
      "text/plain": [
       "<folium.folium.Map at 0x7fe5816221d0>"
      ]
     },
     "execution_count": 67,
     "metadata": {},
     "output_type": "execute_result"
    }
   ],
   "source": [
    "# Adicionando os registros no mapa de calor:\n",
    "from folium import plugins\n",
    "\n",
    "mapa.add_child(plugins.HeatMap(coordenadas))        \n",
    "mapa"
   ]
  },
  {
   "cell_type": "markdown",
   "metadata": {},
   "source": [
    "### Municipios com aplicação de primeira dose entre < 50%"
   ]
  },
  {
   "cell_type": "code",
   "execution_count": 68,
   "metadata": {},
   "outputs": [],
   "source": [
    "df_municipios_1d_50 = df_vacinas[df_vacinas['CV_SCR1 (1 ano)'] < 50]"
   ]
  },
  {
   "cell_type": "code",
   "execution_count": 69,
   "metadata": {},
   "outputs": [
    {
     "data": {
      "text/plain": [
       "(45, 29)"
      ]
     },
     "execution_count": 69,
     "metadata": {},
     "output_type": "execute_result"
    }
   ],
   "source": [
    "df_municipios_1d_50.shape"
   ]
  },
  {
   "cell_type": "code",
   "execution_count": null,
   "metadata": {},
   "outputs": [],
   "source": [
    "# Merge dataset vacinas e geolocalização\n",
    "df_municipios_1d_50 = pd.merge(df_municipios_1d_50, df_municipios, how='left', left_on='CODMUN7', right_on='codigo_ibge')\n",
    "df_municipios_1d_50"
   ]
  },
  {
   "cell_type": "code",
   "execution_count": 71,
   "metadata": {},
   "outputs": [],
   "source": [
    "# Extraindo as coordenadas\n",
    "coordenadas=[]\n",
    "for lat,lng in zip(df_municipios_1d_50.latitude.values,df_municipios_1d_50.longitude.values):\n",
    "  coordenadas.append([lat,lng])"
   ]
  },
  {
   "cell_type": "code",
   "execution_count": 72,
   "metadata": {},
   "outputs": [
    {
     "data": {
      "text/html": [
       "<div style=\"width:100%;\"><div style=\"position:relative;width:100%;height:0;padding-bottom:60%;\"><span style=\"color:#565656\">Make this Notebook Trusted to load map: File -> Trust Notebook</span><iframe src=\"about:blank\" style=\"position:absolute;width:100%;height:100%;left:0;top:0;border:none !important;\" data-html=%3C%21DOCTYPE%20html%3E%0A%3Chead%3E%20%20%20%20%0A%20%20%20%20%3Cmeta%20http-equiv%3D%22content-type%22%20content%3D%22text/html%3B%20charset%3DUTF-8%22%20/%3E%0A%20%20%20%20%0A%20%20%20%20%20%20%20%20%3Cscript%3E%0A%20%20%20%20%20%20%20%20%20%20%20%20L_NO_TOUCH%20%3D%20false%3B%0A%20%20%20%20%20%20%20%20%20%20%20%20L_DISABLE_3D%20%3D%20false%3B%0A%20%20%20%20%20%20%20%20%3C/script%3E%0A%20%20%20%20%0A%20%20%20%20%3Cstyle%3Ehtml%2C%20body%20%7Bwidth%3A%20100%25%3Bheight%3A%20100%25%3Bmargin%3A%200%3Bpadding%3A%200%3B%7D%3C/style%3E%0A%20%20%20%20%3Cstyle%3E%23map%20%7Bposition%3Aabsolute%3Btop%3A0%3Bbottom%3A0%3Bright%3A0%3Bleft%3A0%3B%7D%3C/style%3E%0A%20%20%20%20%3Cscript%20src%3D%22https%3A//cdn.jsdelivr.net/npm/leaflet%401.6.0/dist/leaflet.js%22%3E%3C/script%3E%0A%20%20%20%20%3Cscript%20src%3D%22https%3A//code.jquery.com/jquery-1.12.4.min.js%22%3E%3C/script%3E%0A%20%20%20%20%3Cscript%20src%3D%22https%3A//maxcdn.bootstrapcdn.com/bootstrap/3.2.0/js/bootstrap.min.js%22%3E%3C/script%3E%0A%20%20%20%20%3Cscript%20src%3D%22https%3A//cdnjs.cloudflare.com/ajax/libs/Leaflet.awesome-markers/2.0.2/leaflet.awesome-markers.js%22%3E%3C/script%3E%0A%20%20%20%20%3Clink%20rel%3D%22stylesheet%22%20href%3D%22https%3A//cdn.jsdelivr.net/npm/leaflet%401.6.0/dist/leaflet.css%22/%3E%0A%20%20%20%20%3Clink%20rel%3D%22stylesheet%22%20href%3D%22https%3A//maxcdn.bootstrapcdn.com/bootstrap/3.2.0/css/bootstrap.min.css%22/%3E%0A%20%20%20%20%3Clink%20rel%3D%22stylesheet%22%20href%3D%22https%3A//maxcdn.bootstrapcdn.com/bootstrap/3.2.0/css/bootstrap-theme.min.css%22/%3E%0A%20%20%20%20%3Clink%20rel%3D%22stylesheet%22%20href%3D%22https%3A//maxcdn.bootstrapcdn.com/font-awesome/4.6.3/css/font-awesome.min.css%22/%3E%0A%20%20%20%20%3Clink%20rel%3D%22stylesheet%22%20href%3D%22https%3A//cdnjs.cloudflare.com/ajax/libs/Leaflet.awesome-markers/2.0.2/leaflet.awesome-markers.css%22/%3E%0A%20%20%20%20%3Clink%20rel%3D%22stylesheet%22%20href%3D%22https%3A//cdn.jsdelivr.net/gh/python-visualization/folium/folium/templates/leaflet.awesome.rotate.min.css%22/%3E%0A%20%20%20%20%0A%20%20%20%20%20%20%20%20%20%20%20%20%3Cmeta%20name%3D%22viewport%22%20content%3D%22width%3Ddevice-width%2C%0A%20%20%20%20%20%20%20%20%20%20%20%20%20%20%20%20initial-scale%3D1.0%2C%20maximum-scale%3D1.0%2C%20user-scalable%3Dno%22%20/%3E%0A%20%20%20%20%20%20%20%20%20%20%20%20%3Cstyle%3E%0A%20%20%20%20%20%20%20%20%20%20%20%20%20%20%20%20%23map_c1d1be5613664d8ea852dbee6e7f757c%20%7B%0A%20%20%20%20%20%20%20%20%20%20%20%20%20%20%20%20%20%20%20%20position%3A%20relative%3B%0A%20%20%20%20%20%20%20%20%20%20%20%20%20%20%20%20%20%20%20%20width%3A%20100.0%25%3B%0A%20%20%20%20%20%20%20%20%20%20%20%20%20%20%20%20%20%20%20%20height%3A%20100.0%25%3B%0A%20%20%20%20%20%20%20%20%20%20%20%20%20%20%20%20%20%20%20%20left%3A%200.0%25%3B%0A%20%20%20%20%20%20%20%20%20%20%20%20%20%20%20%20%20%20%20%20top%3A%200.0%25%3B%0A%20%20%20%20%20%20%20%20%20%20%20%20%20%20%20%20%7D%0A%20%20%20%20%20%20%20%20%20%20%20%20%3C/style%3E%0A%20%20%20%20%20%20%20%20%0A%20%20%20%20%3Cscript%20src%3D%22https%3A//cdn.jsdelivr.net/gh/python-visualization/folium%40master/folium/templates/leaflet_heat.min.js%22%3E%3C/script%3E%0A%3C/head%3E%0A%3Cbody%3E%20%20%20%20%0A%20%20%20%20%0A%20%20%20%20%20%20%20%20%20%20%20%20%3Cdiv%20class%3D%22folium-map%22%20id%3D%22map_c1d1be5613664d8ea852dbee6e7f757c%22%20%3E%3C/div%3E%0A%20%20%20%20%20%20%20%20%0A%3C/body%3E%0A%3Cscript%3E%20%20%20%20%0A%20%20%20%20%0A%20%20%20%20%20%20%20%20%20%20%20%20var%20map_c1d1be5613664d8ea852dbee6e7f757c%20%3D%20L.map%28%0A%20%20%20%20%20%20%20%20%20%20%20%20%20%20%20%20%22map_c1d1be5613664d8ea852dbee6e7f757c%22%2C%0A%20%20%20%20%20%20%20%20%20%20%20%20%20%20%20%20%7B%0A%20%20%20%20%20%20%20%20%20%20%20%20%20%20%20%20%20%20%20%20center%3A%20%5B-15.788497%2C%20-47.879873%5D%2C%0A%20%20%20%20%20%20%20%20%20%20%20%20%20%20%20%20%20%20%20%20crs%3A%20L.CRS.EPSG3857%2C%0A%20%20%20%20%20%20%20%20%20%20%20%20%20%20%20%20%20%20%20%20zoom%3A%204.5%2C%0A%20%20%20%20%20%20%20%20%20%20%20%20%20%20%20%20%20%20%20%20zoomControl%3A%20true%2C%0A%20%20%20%20%20%20%20%20%20%20%20%20%20%20%20%20%20%20%20%20preferCanvas%3A%20false%2C%0A%20%20%20%20%20%20%20%20%20%20%20%20%20%20%20%20%7D%0A%20%20%20%20%20%20%20%20%20%20%20%20%29%3B%0A%0A%20%20%20%20%20%20%20%20%20%20%20%20%0A%0A%20%20%20%20%20%20%20%20%0A%20%20%20%20%0A%20%20%20%20%20%20%20%20%20%20%20%20var%20tile_layer_30341c59551645a191a476e7907cbbb2%20%3D%20L.tileLayer%28%0A%20%20%20%20%20%20%20%20%20%20%20%20%20%20%20%20%22https%3A//stamen-tiles-%7Bs%7D.a.ssl.fastly.net/toner/%7Bz%7D/%7Bx%7D/%7By%7D.png%22%2C%0A%20%20%20%20%20%20%20%20%20%20%20%20%20%20%20%20%7B%22attribution%22%3A%20%22Map%20tiles%20by%20%5Cu003ca%20href%3D%5C%22http%3A//stamen.com%5C%22%5Cu003eStamen%20Design%5Cu003c/a%5Cu003e%2C%20under%20%5Cu003ca%20href%3D%5C%22http%3A//creativecommons.org/licenses/by/3.0%5C%22%5Cu003eCC%20BY%203.0%5Cu003c/a%5Cu003e.%20Data%20by%20%5Cu0026copy%3B%20%5Cu003ca%20href%3D%5C%22http%3A//openstreetmap.org%5C%22%5Cu003eOpenStreetMap%5Cu003c/a%5Cu003e%2C%20under%20%5Cu003ca%20href%3D%5C%22http%3A//www.openstreetmap.org/copyright%5C%22%5Cu003eODbL%5Cu003c/a%5Cu003e.%22%2C%20%22detectRetina%22%3A%20false%2C%20%22maxNativeZoom%22%3A%2018%2C%20%22maxZoom%22%3A%2018%2C%20%22minZoom%22%3A%200%2C%20%22noWrap%22%3A%20false%2C%20%22opacity%22%3A%201%2C%20%22subdomains%22%3A%20%22abc%22%2C%20%22tms%22%3A%20false%7D%0A%20%20%20%20%20%20%20%20%20%20%20%20%29.addTo%28map_c1d1be5613664d8ea852dbee6e7f757c%29%3B%0A%20%20%20%20%20%20%20%20%0A%20%20%20%20%0A%20%20%20%20%20%20%20%20%20%20%20%20var%20heat_map_b8b54a7eb2d54d76be9ad9f544d1b231%20%3D%20L.heatLayer%28%0A%20%20%20%20%20%20%20%20%20%20%20%20%20%20%20%20%5B%5B-11.9283%2C%20-61.9953%5D%2C%20%5B-9.905710000000001%2C%20-63.0325%5D%2C%20%5B-13.4945%2C%20-60.552%5D%2C%20%5B-11.4343%2C%20-61.4562%5D%2C%20%5B-13.187000000000001%2C%20-60.8168%5D%2C%20%5B-13.1174%2C%20-60.5454%5D%2C%20%5B-12.9551%2C%20-60.8947%5D%2C%20%5B-12.4367%2C%20-64.22800000000001%5D%2C%20%5B-11.5266%2C%20-61.0252%5D%2C%20%5B-10.7889%2C%20-65.3296%5D%2C%20%5B-10.4318%2C%20-62.4788%5D%2C%20%5B-10.8777%2C%20-61.9322%5D%2C%20%5B-9.44363%2C%20-61.9818%5D%2C%20%5B-11.7247%2C%20-62.3127%5D%2C%20%5B-10.7167%2C%20-62.2565%5D%2C%20%5B-11.672%2C%20-61.198%5D%2C%20%5B-8.760769999999999%2C%20-63.8999%5D%2C%20%5B-11.169%2C%20-61.8986%5D%2C%20%5B-9.69965%2C%20-62.9011%5D%2C%20%5B-11.7271%2C%20-61.7714%5D%2C%20%5B-11.9074%2C%20-61.7777%5D%2C%20%5B-12.7502%2C%20-60.1488%5D%2C%20%5B-11.6953%2C%20-62.7192%5D%2C%20%5B-10.4077%2C%20-65.3346%5D%2C%20%5B-11.3463%2C%20-62.2847%5D%2C%20%5B-12.132%2C%20-61.835%5D%2C%20%5B-9.71429%2C%20-63.3188%5D%2C%20%5B-10.1943%2C%20-63.8324%5D%2C%20%5B-11.6961%2C%20-61.9951%5D%2C%20%5B-10.349%2C%20-62.9043%5D%2C%20%5B-10.5712%2C%20-63.6266%5D%2C%20%5B-8.7907%2C%20-63.7005%5D%2C%20%5B-11.4253%2C%20-61.9482%5D%2C%20%5B-12.5611%2C%20-60.8877%5D%2C%20%5B-9.36065%2C%20-62.5846%5D%2C%20%5B-10.61%2C%20-62.7371%5D%2C%20%5B-9.19687%2C%20-63.1809%5D%2C%20%5B-11.196%2C%20-61.5174%5D%2C%20%5B-11.029000000000002%2C%20-62.6696%5D%2C%20%5B-10.2458%2C%20-63.29%5D%2C%20%5B-10.9068%2C%20-62.5564%5D%2C%20%5B-12.1754%2C%20-61.6032%5D%2C%20%5B-13.4823%2C%20-61.0471%5D%2C%20%5B-11.8295%2C%20-61.3153%5D%2C%20%5B-11.9023%2C%20-61.5026%5D%2C%20%5B-12.052%2C%20-63.568000000000005%5D%2C%20%5B-11.8055%2C%20-63.0182%5D%2C%20%5B-10.9056%2C%20-62.242%5D%2C%20%5B-10.2483%2C%20-62.3538%5D%2C%20%5B-11.1261%2C%20-62.3639%5D%2C%20%5B-9.86215%2C%20-62.1876%5D%2C%20%5B-10.4465%2C%20-62.1352%5D%2C%20%5B-9.82581%2C%20-66.8972%5D%2C%20%5B-10.9298%2C%20-69.5738%5D%2C%20%5B-10.995%2C%20-68.7497%5D%2C%20%5B-9.81528%2C%20-67.955%5D%2C%20%5B-10.565999999999999%2C%20-67.686%5D%2C%20%5B-7.627619999999999%2C%20-72.6756%5D%2C%20%5B-11.0188%2C%20-68.7341%5D%2C%20%5B-8.170539999999999%2C%20-70.351%5D%2C%20%5B-9.43091%2C%20-71.8974%5D%2C%20%5B-7.616569999999999%2C%20-72.8997%5D%2C%20%5B-8.83291%2C%20-69.2679%5D%2C%20%5B-8.93898%2C%20-72.7997%5D%2C%20%5B-10.2806%2C%20-67.1371%5D%2C%20%5B-8.26323%2C%20-72.7537%5D%2C%20%5B-9.97499%2C%20-67.8243%5D%2C%20%5B-7.738639999999999%2C%20-72.661%5D%2C%20%5B-9.44652%2C%20-70.4902%5D%2C%20%5B-10.1497%2C%20-67.7362%5D%2C%20%5B-9.06596%2C%20-68.6571%5D%2C%20%5B-8.15697%2C%20-70.7722%5D%2C%20%5B-10.6516%2C%20-68.4969%5D%2C%20%5B-9.581380000000001%2C%20-67.5478%5D%2C%20%5B-3.22727%2C%20-64.8007%5D%2C%20%5B-3.37455%2C%20-68.2005%5D%2C%20%5B-3.5669699999999995%2C%20-61.3963%5D%2C%20%5B-3.74603%2C%20-61.6575%5D%2C%20%5B-7.194089999999999%2C%20-59.896%5D%2C%20%5B-4.37055%2C%20-70.1967%5D%2C%20%5B-3.58574%2C%20-59.1256%5D%2C%20%5B-0.9833729999999999%2C%20-62.9311%5D%2C%20%5B-2.79886%2C%20-57.0679%5D%2C%20%5B-4.377680000000001%2C%20-70.0342%5D%2C%20%5B-3.89874%2C%20-61.3616%5D%2C%20%5B-2.9740900000000003%2C%20-57.5873%5D%2C%20%5B-8.74232%2C%20-67.3919%5D%2C%20%5B-4.39154%2C%20-59.5874%5D%2C%20%5B-3.3153699999999997%2C%20-61.2206%5D%2C%20%5B-6.5258199999999995%2C%20-64.3953%5D%2C%20%5B-4.88161%2C%20-66.9086%5D%2C%20%5B-3.7680300000000004%2C%20-60.369%5D%2C%20%5B-3.3139999999999996%2C%20-59.5557%5D%2C%20%5B-4.094119999999999%2C%20-63.1441%5D%2C%20%5B-3.8305300000000004%2C%20-62.0658%5D%2C%20%5B-6.65677%2C%20-69.8662%5D%2C%20%5B-7.4378899999999994%2C%20-70.0281%5D%2C%20%5B-2.52342%2C%20-66.0942%5D%2C%20%5B-7.53797%2C%20-72.5907%5D%2C%20%5B-7.511710000000001%2C%20-63.0327%5D%2C%20%5B-7.047910000000001%2C%20-71.6934%5D%2C%20%5B-3.2747900000000003%2C%20-60.19%5D%2C%20%5B-3.13861%2C%20-58.4449%5D%2C%20%5B-6.43852%2C%20-68.2437%5D%2C%20%5B-2.7408099999999997%2C%20-58.0293%5D%2C%20%5B-1.88237%2C%20-66.9291%5D%2C%20%5B-3.4843800000000003%2C%20-66.0718%5D%2C%20%5B-2.75814%2C%20-66.7595%5D%2C%20%5B-7.264130000000001%2C%20-64.7948%5D%2C%20%5B-3.29066%2C%20-60.6216%5D%2C%20%5B-3.44078%2C%20-60.4612%5D%2C%20%5B-3.1186599999999998%2C%20-60.0212%5D%2C%20%5B-5.80462%2C%20-61.2895%5D%2C%20%5B-1.85313%2C%20-65.57300000000001%5D%2C%20%5B-3.39289%2C%20-57.7067%5D%2C%20%5B-2.2079299999999997%2C%20-56.7112%5D%2C%20%5B-3.9003699999999997%2C%20-59.093999999999994%5D%2C%20%5B-2.63637%2C%20-60.9434%5D%2C%20%5B-5.12593%2C%20-60.3732%5D%2C%20%5B-2.63741%2C%20-56.729%5D%2C%20%5B-7.71311%2C%20-66.992%5D%2C%20%5B-2.02981%2C%20-60.0234%5D%2C%20%5B-2.7045%2C%20-59.6858%5D%2C%20%5B-0.41082399999999997%2C%20-65.0092%5D%2C%20%5B-3.09544%2C%20-67.9463%5D%2C%20%5B-0.11909000000000002%2C%20-67.084%5D%2C%20%5B-3.47292%2C%20-68.9646%5D%2C%20%5B-2.55915%2C%20-57.8731%5D%2C%20%5B-2.8174799999999998%2C%20-58.248000000000005%5D%2C%20%5B-4.2416%2C%20-69.9383%5D%2C%20%5B-5.62085%2C%20-63.1808%5D%2C%20%5B-3.3682199999999995%2C%20-64.7193%5D%2C%20%5B-2.8658200000000003%2C%20-67.7919%5D%2C%20%5B-2.99609%2C%20-65.1133%5D%2C%20%5B-2.52936%2C%20-57.7538%5D%2C%20%5B-3.1284099999999997%2C%20-58.1496%5D%2C%20%5B3.64571%2C%20-61.3692%5D%2C%20%5B2.98858%2C%20-61.3072%5D%2C%20%5B2.82384%2C%20-60.6753%5D%2C%20%5B3.3616099999999998%2C%20-59.8333%5D%2C%20%5B2.60994%2C%20-60.6058%5D%2C%20%5B1.8276599999999998%2C%20-61.1304%5D%2C%20%5B0.8842030000000001%2C%20-59.6959%5D%2C%20%5B2.18305%2C%20-61.0415%5D%2C%20%5B2.43998%2C%20-60.9096%5D%2C%20%5B3.8853%2C%20-59.6204%5D%2C%20%5B4.4799%2C%20-61.1477%5D%2C%20%5B0.9399559999999999%2C%20-60.4389%5D%2C%20%5B0.951659%2C%20-59.9133%5D%2C%20%5B1.01019%2C%20-60.0419%5D%2C%20%5B4.60314%2C%20-60.1815%5D%2C%20%5B-1.72183%2C%20-48.8788%5D%2C%20%5B-4.95333%2C%20-48.3933%5D%2C%20%5B-1.95383%2C%20-48.1985%5D%2C%20%5B-0.154874%2C%20-50.3861%5D%2C%20%5B-6.79053%2C%20-50.4791%5D%2C%20%5B-1.94623%2C%20-54.7384%5D%2C%20%5B-1.52904%2C%20-52.5788%5D%2C%20%5B-3.20407%2C%20-52.21%5D%2C%20%5B-0.9968110000000001%2C%20-49.9354%5D%2C%20%5B-1.36391%2C%20-48.3743%5D%2C%20%5B-3.46985%2C%20-51.2003%5D%2C%20%5B-1.0510899999999999%2C%20-46.6147%5D%2C%20%5B-2.14898%2C%20-47.5677%5D%2C%20%5B-3.6084099999999997%2C%20-55.3199%5D%2C%20%5B-1.90057%2C%20-50.1987%5D%2C%20%5B-2.7902099999999996%2C%20-49.6694%5D%2C%20%5B-7.34779%2C%20-50.3959%5D%2C%20%5B-1.51187%2C%20-48.6195%5D%2C%20%5B-1.4554%2C%20-48.4898%5D%2C%20%5B-2.6360900000000003%2C%20-54.9374%5D%2C%20%5B-1.3618299999999999%2C%20-48.2434%5D%2C%20%5B-5.0424%2C%20-48.6047%5D%2C%20%5B-1.36745%2C%20-47.3066%5D%2C%20%5B-1.06126%2C%20-46.7826%5D%2C%20%5B-3.2979199999999995%2C%20-52.534%5D%2C%20%5B-5.69822%2C%20-48.4103%5D%2C%20%5B-3.7719099999999997%2C%20-49.5735%5D%2C%20%5B-1.6803599999999999%2C%20-50.4791%5D%2C%20%5B-1.51762%2C%20-48.0381%5D%2C%20%5B-1.75974%2C%20-46.5459%5D%2C%20%5B-1.01226%2C%20-48.9503%5D%2C%20%5B-2.24295%2C%20-49.4979%5D%2C%20%5B-6.49659%2C%20-49.8776%5D%2C%20%5B-1.20529%2C%20-47.1778%5D%2C%20%5B-1.74785%2C%20-47.0629%5D%2C%20%5B-1.29797%2C%20-47.9167%5D%2C%20%5B-0.164154%2C%20-49.986999999999995%5D%2C%20%5B-0.936423%2C%20-48.2803%5D%2C%20%5B-8.26136%2C%20-49.2689%5D%2C%20%5B-1.9923799999999998%2C%20-47.9422%5D%2C%20%5B-7.810969999999999%2C%20-50.7698%5D%2C%20%5B-6.09965%2C%20-49.6068%5D%2C%20%5B-1.8117900000000002%2C%20-49.7952%5D%2C%20%5B-1.88775%2C%20-55.1168%5D%2C%20%5B-0.733214%2C%20-47.8515%5D%2C%20%5B-4.19944%2C%20-47.8245%5D%2C%20%5B-6.10389%2C%20-49.3553%5D%2C%20%5B-2.16805%2C%20-56.7405%5D%2C%20%5B-7.55335%2C%20-49.7125%5D%2C%20%5B-1.92986%2C%20-47.0505%5D%2C%20%5B-3.8433800000000002%2C%20-49.0974%5D%2C%20%5B-1.41412%2C%20-51.6338%5D%2C%20%5B-1.12539%2C%20-47.626000000000005%5D%2C%20%5B-1.97533%2C%20-48.9575%5D%2C%20%5B-1.4349%2C%20-47.9114%5D%2C%20%5B-2.55992%2C%20-47.5059%5D%2C%20%5B-1.76984%2C%20-47.446000000000005%5D%2C%20%5B-4.2667%2C%20-55.9926%5D%2C%20%5B-5.13272%2C%20-49.3358%5D%2C%20%5B-6.21469%2C%20-57.7544%5D%2C%20%5B-4.4461699999999995%2C%20-49.1153%5D%2C%20%5B-2.1634700000000002%2C%20-56.0889%5D%2C%20%5B-1.8985%2C%20-49.3903%5D%2C%20%5B-2.0568299999999997%2C%20-47.5601%5D%2C%20%5B-0.803391%2C%20-47.6014%5D%2C%20%5B-5.38075%2C%20-49.1327%5D%2C%20%5B-0.778899%2C%20-47.452%5D%2C%20%5B-0.7147020000000001%2C%20-47.7034%5D%2C%20%5B-1.36002%2C%20-48.3421%5D%2C%20%5B-3.4463699999999995%2C%20-52.8875%5D%2C%20%5B-1.8032%2C%20-50.7149%5D%2C%20%5B-2.5831%2C%20-49.5042%5D%2C%20%5B-1.8899299999999999%2C%20-48.7668%5D%2C%20%5B-1.99768%2C%20-54.0724%5D%2C%20%5B-1.53936%2C%20-49.2224%5D%2C%20%5B-2.26693%2C%20-46.9731%5D%2C%20%5B-4.91622%2C%20-49.0822%5D%2C%20%5B-1.20874%2C%20-47.3921%5D%2C%20%5B-7.14347%2C%20-55.3786%5D%2C%20%5B-4.24749%2C%20-49.9499%5D%2C%20%5B-1.90107%2C%20-55.5208%5D%2C%20%5B-2.00358%2C%20-49.8628%5D%2C%20%5B-1.7598900000000002%2C%20-55.8579%5D%2C%20%5B-1.54168%2C%20-47.1126%5D%2C%20%5B-6.7529%2C%20-51.0858%5D%2C%20%5B-3.8354199999999996%2C%20-50.6399%5D%2C%20%5B-5.74027%2C%20-48.3181%5D%2C%20%5B-3.00212%2C%20-47.3527%5D%2C%20%5B-6.06781%2C%20-49.9037%5D%2C%20%5B-1.59772%2C%20-46.9268%5D%2C%20%5B-1.19382%2C%20-47.324%5D%2C%20%5B-6.43778%2C%20-48.8716%5D%2C%20%5B-3.8681300000000003%2C%20-54.2124%5D%2C%20%5B-1.3958700000000002%2C%20-48.8661%5D%2C%20%5B-1.93639%2C%20-50.8194%5D%2C%20%5B-1.74691%2C%20-52.2361%5D%2C%20%5B-1.798%2C%20-53.4779%5D%2C%20%5B-0.9454389999999999%2C%20-47.1253%5D%2C%20%5B-0.8996040000000001%2C%20-47.0134%5D%2C%20%5B-8.02529%2C%20-50.0317%5D%2C%20%5B-7.312360000000001%2C%20-50.0379%5D%2C%20%5B-4.7779300000000005%2C%20-48.067%5D%2C%20%5B-4.100280000000001%2C%20-54.9092%5D%2C%20%5B-0.630815%2C%20-47.3465%5D%2C%20%5B-0.758444%2C%20-48.5139%5D%2C%20%5B-1.1921899999999999%2C%20-48.238%5D%2C%20%5B-0.6610189999999999%2C%20-49.1771%5D%2C%20%5B-1.2968600000000001%2C%20-48.1606%5D%2C%20%5B-1.52147%2C%20-46.9008%5D%2C%20%5B-8.85784%2C%20-49.7215%5D%2C%20%5B-1.35392%2C%20-47.5712%5D%2C%20%5B-9.3281%2C%20-50.35%5D%2C%20%5B-2.4384900000000003%2C%20-54.6996%5D%2C%20%5B-0.9309700000000001%2C%20-47.3855%5D%2C%20%5B-1.1522%2C%20-48.1314%5D%2C%20%5B-0.747293%2C%20-48.0246%5D%2C%20%5B-5.537319999999999%2C%20-48.7366%5D%2C%20%5B-1.6876799999999998%2C%20-47.7665%5D%2C%20%5B-6.6425399999999994%2C%20-51.9904%5D%2C%20%5B-1.16963%2C%20-47.7917%5D%2C%20%5B-6.39471%2C%20-48.5592%5D%2C%20%5B-0.857885%2C%20-47.918%5D%2C%20%5B-0.780222%2C%20-47.181000000000004%5D%2C%20%5B-5.36334%2C%20-48.7926%5D%2C%20%5B-1.61307%2C%20-47.4784%5D%2C%20%5B-1.71597%2C%20-49.5249%5D%2C%20%5B-6.940180000000001%2C%20-49.6834%5D%2C%20%5B-4.3124199999999995%2C%20-51.5764%5D%2C%20%5B-0.73032%2C%20-48.5015%5D%2C%20%5B-2.94584%2C%20-48.9489%5D%2C%20%5B-1.0296299999999998%2C%20-47.9004%5D%2C%20%5B-2.10443%2C%20-56.4877%5D%2C%20%5B-2.41302%2C%20-48.1415%5D%2C%20%5B-1.07653%2C%20-46.9031%5D%2C%20%5B-4.5734699999999995%2C%20-55.9429%5D%2C%20%5B-6.7468699999999995%2C%20-51.1626%5D%2C%20%5B-3.7657%2C%20-49.6773%5D%2C%20%5B-3.7500699999999996%2C%20-47.4892%5D%2C%20%5B-3.71519%2C%20-53.7396%5D%2C%20%5B-0.861194%2C%20-48.1386%5D%2C%20%5B-1.1912399999999999%2C%20-46.1399%5D%2C%20%5B-2.87922%2C%20-52.0088%5D%2C%20%5B-7.0983%2C%20-49.9437%5D%2C%20%5B0.901357%2C%20-52.0036%5D%2C%20%5B2.05267%2C%20-50.7957%5D%2C%20%5B0.777424%2C%20-51.9503%5D%2C%20%5B2.50475%2C%20-50.9512%5D%2C%20%5B0.9707610000000001%2C%20-50.8005%5D%2C%20%5B0.8572559999999999%2C%20-51.1795%5D%2C%20%5B0.6021850000000001%2C%20-50.6996%5D%2C%20%5B-0.8049109999999999%2C%20-52.453%5D%2C%20%5B0.034934%2C%20-51.0694%5D%2C%20%5B-0.11335999999999999%2C%20-51.2891%5D%2C%20%5B3.8407400000000003%2C%20-51.8331%5D%2C%20%5B0.71243%2C%20-51.4155%5D%2C%20%5B1.74543%2C%20-50.7892%5D%2C%20%5B-0.045433999999999995%2C%20-51.1729%5D%2C%20%5B1.50652%2C%20-50.9087%5D%2C%20%5B-0.938%2C%20-52.424%5D%2C%20%5B-9.62101%2C%20-49.1518%5D%2C%20%5B-6.5540899999999995%2C%20-47.4702%5D%2C%20%5B-11.3056%2C%20-48.9361%5D%2C%20%5B-11.5706%2C%20-47.1792%5D%2C%20%5B-12.4785%2C%20-49.1249%5D%2C%20%5B-6.36437%2C%20-48.0735%5D%2C%20%5B-6.39179%2C%20-47.8611%5D%2C%20%5B-9.94139%2C%20-47.9638%5D%2C%20%5B-7.16005%2C%20-48.5291%5D%2C%20%5B-8.80755%2C%20-49.5569%5D%2C%20%5B-12.9289%2C%20-49.8231%5D%2C%20%5B-7.19238%2C%20-48.2044%5D%2C%20%5B-6.58225%2C%20-48.6395%5D%2C%20%5B-5.64659%2C%20-48.1232%5D%2C%20%5B-7.65463%2C%20-49.0637%5D%2C%20%5B-12.9287%2C%20-46.9359%5D%2C%20%5B-5.46863%2C%20-47.8863%5D%2C%20%5B-12.7105%2C%20-46.4076%5D%2C%20%5B-5.61275%2C%20-47.7701%5D%2C%20%5B-7.209230000000001%2C%20-47.7613%5D%2C%20%5B-7.75612%2C%20-48.5836%5D%2C%20%5B-7.695930000000001%2C%20-47.6776%5D%2C%20%5B-9.83404%2C%20-48.7252%5D%2C%20%5B-7.874810000000001%2C%20-48.8893%5D%2C%20%5B-8.96306%2C%20-48.165%5D%2C%20%5B-8.38918%2C%20-48.4822%5D%2C%20%5B-11.0058%2C%20-48.5683%5D%2C%20%5B-5.3144800000000005%2C%20-48.2271%5D%2C%20%5B-6.1156%2C%20-47.9234%5D%2C%20%5B-7.989560000000001%2C%20-46.8645%5D%2C%20%5B-11.8881%2C%20-49.1609%5D%2C%20%5B-7.03262%2C%20-48.3978%5D%2C%20%5B-5.31415%2C%20-48.0314%5D%2C%20%5B-9.27612%2C%20-49.9521%5D%2C%20%5B-8.961030000000001%2C%20-47.3304%5D%2C%20%5B-10.1419%2C%20-49.1403%5D%2C%20%5B-11.6175%2C%20-47.7486%5D%2C%20%5B-8.05764%2C%20-48.4757%5D%2C%20%5B-12.7917%2C%20-46.5388%5D%2C%20%5B-12.2209%2C%20-47.2951%5D%2C%20%5B-8.28411%2C%20-49.2473%5D%2C%20%5B-10.5985%2C%20-49.1942%5D%2C%20%5B-11.0994%2C%20-48.9152%5D%2C%20%5B-6.715910000000001%2C%20-47.7597%5D%2C%20%5B-11.624%2C%20-46.8198%5D%2C%20%5B-9.800180000000001%2C%20-49.2169%5D%2C%20%5B-9.255339999999999%2C%20-49.0638%5D%2C%20%5B-11.3416%2C%20-49.2716%5D%2C%20%5B-5.3659300000000005%2C%20-48.5378%5D%2C%20%5B-10.7603%2C%20-48.9076%5D%2C%20%5B-12.1312%2C%20-49.1748%5D%2C%20%5B-7.3350100000000005%2C%20-47.4954%5D%2C%20%5B-11.7976%2C%20-49.5316%5D%2C%20%5B-9.05611%2C%20-48.5206%5D%2C%20%5B-8.77413%2C%20-48.9313%5D%2C%20%5B-7.71478%2C%20-47.3252%5D%2C%20%5B-8.83543%2C%20-48.5114%5D%2C%20%5B-11.7279%2C%20-49.068000000000005%5D%2C%20%5B-11.2329%2C%20-48.46%5D%2C%20%5B-8.39293%2C%20-47.7726%5D%2C%20%5B-5.77267%2C%20-47.4864%5D%2C%20%5B-8.37982%2C%20-48.1072%5D%2C%20%5B-8.57172%2C%20-48.6895%5D%2C%20%5B-12.6509%2C%20-48.589%5D%2C%20%5B-8.11951%2C%20-49.0643%5D%2C%20%5B-10.7906%2C%20-49.6199%5D%2C%20%5B-10.368%2C%20-47.538000000000004%5D%2C%20%5B-9.74996%2C%20-48.3565%5D%2C%20%5B-12.7847%2C%20-46.5099%5D%2C%20%5B-9.590019999999999%2C%20-46.6738%5D%2C%20%5B-6.17794%2C%20-47.8582%5D%2C%20%5B-9.79377%2C%20-49.6553%5D%2C%20%5B-10.5464%2C%20-46.4168%5D%2C%20%5B-5.95169%2C%20-47.5125%5D%2C%20%5B-9.565560000000001%2C%20-48.393%5D%2C%20%5B-9.529069999999999%2C%20-48.5922%5D%2C%20%5B-10.7611%2C%20-48.1114%5D%2C%20%5B-10.0075%2C%20-48.9941%5D%2C%20%5B-6.61658%2C%20-47.5464%5D%2C%20%5B-7.1466899999999995%2C%20-48.6091%5D%2C%20%5B-11.7034%2C%20-47.7223%5D%2C%20%5B-6.37496%2C%20-47.6643%5D%2C%20%5B-7.631710000000001%2C%20-48.4252%5D%2C%20%5B-10.5651%2C%20-48.9125%5D%2C%20%5B-9.97063%2C%20-47.6785%5D%2C%20%5B-12.9217%2C%20-46.5713%5D%2C%20%5B-11.825999999999999%2C%20-46.6325%5D%2C%20%5B-10.707%2C%20-48.9086%5D%2C%20%5B-7.847860000000001%2C%20-47.9242%5D%2C%20%5B-13.0447%2C%20-48.4026%5D%2C%20%5B-10.175%2C%20-48.8823%5D%2C%20%5B-12.6167%2C%20-47.8734%5D%2C%20%5B-7.53919%2C%20-49.367%5D%2C%20%5B-8.97034%2C%20-48.1729%5D%2C%20%5B-12.0254%2C%20-48.5395%5D%2C%20%5B-8.5932%2C%20-48.9327%5D%2C%20%5B-8.72463%2C%20-48.7638%5D%2C%20%5B-11.1311%2C%20-47.5726%5D%2C%20%5B-6.77302%2C%20-48.2958%5D%2C%20%5B-10.442%2C%20-49.1876%5D%2C%20%5B-12.0853%2C%20-46.4825%5D%2C%20%5B-10.7481%2C%20-47.5276%5D%2C%20%5B-11.618%2C%20-47.0621%5D%2C%20%5B-10.7027%2C%20-48.408%5D%2C%20%5B-5.39281%2C%20-47.8111%5D%2C%20%5B-8.5406%2C%20-48.5062%5D%2C%20%5B-10.424000000000001%2C%20-48.8957%5D%2C%20%5B-8.7227%2C%20-47.2421%5D%2C%20%5B-6.44005%2C%20-48.1371%5D%2C%20%5B-11.3949%2C%20-46.8847%5D%2C%20%5B-9.34425%2C%20-48.5245%5D%2C%20%5B-9.350019999999999%2C%20-47.888000000000005%5D%2C%20%5B-5.35423%2C%20-47.8782%5D%2C%20%5B-12.538%2C%20-49.9242%5D%2C%20%5B-7.15803%2C%20-48.7165%5D%2C%20%5B-8.8046%2C%20-47.7887%5D%2C%20%5B-10.8617%2C%20-48.9161%5D%2C%20%5B-11.4474%2C%20-48.1216%5D%2C%20%5B-10.2746%2C%20-47.8033%5D%2C%20%5B-6.444380000000001%2C%20-47.6684%5D%2C%20%5B-6.0258%2C%20-47.9012%5D%2C%20%5B-10.1615%2C%20-46.6618%5D%2C%20%5B-5.56305%2C%20-47.5743%5D%2C%20%5B-12.7458%2C%20-48.2352%5D%2C%20%5B-5.26131%2C%20-48.2021%5D%2C%20%5B-11.9743%2C%20-48.2353%5D%2C%20%5B-11.1471%2C%20-48.1694%5D%2C%20%5B-5.6012%2C%20-47.6381%5D%2C%20%5B-11.993%2C%20-48.9685%5D%2C%20%5B-12.4026%2C%20-46.437%5D%2C%20%5B-12.1873%2C%20-46.9797%5D%2C%20%5B-12.7949%2C%20-49.0896%5D%2C%20%5B-10.24%2C%20-48.3558%5D%2C%20%5B-9.5632%2C%20-48.3741%5D%2C%20%5B-6.32447%2C%20-47.4224%5D%2C%20%5B-8.971680000000001%2C%20-48.1883%5D%2C%20%5B-8.393880000000001%2C%20-48.1277%5D%2C%20%5B-6.85274%2C%20-47.9601%5D%2C%20%5B-6.4141%2C%20-48.532%5D%2C%20%5B-11.9283%2C%20-61.9953%5D%2C%20%5B-9.905710000000001%2C%20-63.0325%5D%2C%20%5B-13.4945%2C%20-60.552%5D%2C%20%5B-11.4343%2C%20-61.4562%5D%2C%20%5B-13.187000000000001%2C%20-60.8168%5D%2C%20%5B-13.1174%2C%20-60.5454%5D%2C%20%5B-12.9551%2C%20-60.8947%5D%2C%20%5B-12.4367%2C%20-64.22800000000001%5D%2C%20%5B-11.5266%2C%20-61.0252%5D%2C%20%5B-10.7889%2C%20-65.3296%5D%2C%20%5B-10.4318%2C%20-62.4788%5D%2C%20%5B-10.8777%2C%20-61.9322%5D%2C%20%5B-9.44363%2C%20-61.9818%5D%2C%20%5B-11.7247%2C%20-62.3127%5D%2C%20%5B-10.7167%2C%20-62.2565%5D%2C%20%5B-11.672%2C%20-61.198%5D%2C%20%5B-8.760769999999999%2C%20-63.8999%5D%2C%20%5B-11.169%2C%20-61.8986%5D%2C%20%5B-9.69965%2C%20-62.9011%5D%2C%20%5B-11.7271%2C%20-61.7714%5D%2C%20%5B-11.9074%2C%20-61.7777%5D%2C%20%5B-12.7502%2C%20-60.1488%5D%2C%20%5B-11.6953%2C%20-62.7192%5D%2C%20%5B-10.4077%2C%20-65.3346%5D%2C%20%5B-11.3463%2C%20-62.2847%5D%2C%20%5B-12.132%2C%20-61.835%5D%2C%20%5B-9.71429%2C%20-63.3188%5D%2C%20%5B-10.1943%2C%20-63.8324%5D%2C%20%5B-11.6961%2C%20-61.9951%5D%2C%20%5B-10.349%2C%20-62.9043%5D%2C%20%5B-10.5712%2C%20-63.6266%5D%2C%20%5B-8.7907%2C%20-63.7005%5D%2C%20%5B-11.4253%2C%20-61.9482%5D%2C%20%5B-12.5611%2C%20-60.8877%5D%2C%20%5B-9.36065%2C%20-62.5846%5D%2C%20%5B-10.61%2C%20-62.7371%5D%2C%20%5B-9.19687%2C%20-63.1809%5D%2C%20%5B-11.196%2C%20-61.5174%5D%2C%20%5B-11.029000000000002%2C%20-62.6696%5D%2C%20%5B-10.2458%2C%20-63.29%5D%2C%20%5B-10.9068%2C%20-62.5564%5D%2C%20%5B-12.1754%2C%20-61.6032%5D%2C%20%5B-13.4823%2C%20-61.0471%5D%2C%20%5B-11.8295%2C%20-61.3153%5D%2C%20%5B-11.9023%2C%20-61.5026%5D%2C%20%5B-12.052%2C%20-63.568000000000005%5D%2C%20%5B-11.8055%2C%20-63.0182%5D%2C%20%5B-10.9056%2C%20-62.242%5D%2C%20%5B-10.2483%2C%20-62.3538%5D%2C%20%5B-11.1261%2C%20-62.3639%5D%2C%20%5B-9.86215%2C%20-62.1876%5D%2C%20%5B-10.4465%2C%20-62.1352%5D%2C%20%5B-9.82581%2C%20-66.8972%5D%2C%20%5B-10.9298%2C%20-69.5738%5D%2C%20%5B-10.995%2C%20-68.7497%5D%2C%20%5B-9.81528%2C%20-67.955%5D%2C%20%5B-10.565999999999999%2C%20-67.686%5D%2C%20%5B-7.627619999999999%2C%20-72.6756%5D%2C%20%5B-11.0188%2C%20-68.7341%5D%2C%20%5B-8.170539999999999%2C%20-70.351%5D%2C%20%5B-9.43091%2C%20-71.8974%5D%2C%20%5B-7.616569999999999%2C%20-72.8997%5D%2C%20%5B-8.83291%2C%20-69.2679%5D%2C%20%5B-8.93898%2C%20-72.7997%5D%2C%20%5B-10.2806%2C%20-67.1371%5D%2C%20%5B-8.26323%2C%20-72.7537%5D%2C%20%5B-9.97499%2C%20-67.8243%5D%2C%20%5B-7.738639999999999%2C%20-72.661%5D%2C%20%5B-9.44652%2C%20-70.4902%5D%2C%20%5B-10.1497%2C%20-67.7362%5D%2C%20%5B-9.06596%2C%20-68.6571%5D%2C%20%5B-8.15697%2C%20-70.7722%5D%2C%20%5B-10.6516%2C%20-68.4969%5D%2C%20%5B-9.581380000000001%2C%20-67.5478%5D%2C%20%5B-3.22727%2C%20-64.8007%5D%2C%20%5B-3.37455%2C%20-68.2005%5D%2C%20%5B-3.5669699999999995%2C%20-61.3963%5D%2C%20%5B-3.74603%2C%20-61.6575%5D%2C%20%5B-7.194089999999999%2C%20-59.896%5D%2C%20%5B-4.37055%2C%20-70.1967%5D%2C%20%5B-3.58574%2C%20-59.1256%5D%2C%20%5B-0.9833729999999999%2C%20-62.9311%5D%2C%20%5B-2.79886%2C%20-57.0679%5D%2C%20%5B-4.377680000000001%2C%20-70.0342%5D%2C%20%5B-3.89874%2C%20-61.3616%5D%2C%20%5B-2.9740900000000003%2C%20-57.5873%5D%2C%20%5B-8.74232%2C%20-67.3919%5D%2C%20%5B-4.39154%2C%20-59.5874%5D%2C%20%5B-3.3153699999999997%2C%20-61.2206%5D%2C%20%5B-6.5258199999999995%2C%20-64.3953%5D%2C%20%5B-4.88161%2C%20-66.9086%5D%2C%20%5B-3.7680300000000004%2C%20-60.369%5D%2C%20%5B-3.3139999999999996%2C%20-59.5557%5D%2C%20%5B-4.094119999999999%2C%20-63.1441%5D%2C%20%5B-3.8305300000000004%2C%20-62.0658%5D%2C%20%5B-6.65677%2C%20-69.8662%5D%2C%20%5B-7.4378899999999994%2C%20-70.0281%5D%2C%20%5B-2.52342%2C%20-66.0942%5D%2C%20%5B-7.53797%2C%20-72.5907%5D%2C%20%5B-7.511710000000001%2C%20-63.0327%5D%2C%20%5B-7.047910000000001%2C%20-71.6934%5D%2C%20%5B-3.2747900000000003%2C%20-60.19%5D%2C%20%5B-3.13861%2C%20-58.4449%5D%2C%20%5B-6.43852%2C%20-68.2437%5D%2C%20%5B-2.7408099999999997%2C%20-58.0293%5D%2C%20%5B-1.88237%2C%20-66.9291%5D%2C%20%5B-3.4843800000000003%2C%20-66.0718%5D%2C%20%5B-2.75814%2C%20-66.7595%5D%2C%20%5B-7.264130000000001%2C%20-64.7948%5D%2C%20%5B-3.29066%2C%20-60.6216%5D%2C%20%5B-3.44078%2C%20-60.4612%5D%2C%20%5B-3.1186599999999998%2C%20-60.0212%5D%2C%20%5B-5.80462%2C%20-61.2895%5D%2C%20%5B-1.85313%2C%20-65.57300000000001%5D%2C%20%5B-3.39289%2C%20-57.7067%5D%2C%20%5B-2.2079299999999997%2C%20-56.7112%5D%2C%20%5B-3.9003699999999997%2C%20-59.093999999999994%5D%2C%20%5B-2.63637%2C%20-60.9434%5D%2C%20%5B-5.12593%2C%20-60.3732%5D%2C%20%5B-2.63741%2C%20-56.729%5D%2C%20%5B-7.71311%2C%20-66.992%5D%2C%20%5B-2.02981%2C%20-60.0234%5D%2C%20%5B-2.7045%2C%20-59.6858%5D%2C%20%5B-0.41082399999999997%2C%20-65.0092%5D%2C%20%5B-3.09544%2C%20-67.9463%5D%2C%20%5B-0.11909000000000002%2C%20-67.084%5D%2C%20%5B-3.47292%2C%20-68.9646%5D%2C%20%5B-2.55915%2C%20-57.8731%5D%2C%20%5B-2.8174799999999998%2C%20-58.248000000000005%5D%2C%20%5B-4.2416%2C%20-69.9383%5D%2C%20%5B-5.62085%2C%20-63.1808%5D%2C%20%5B-3.3682199999999995%2C%20-64.7193%5D%2C%20%5B-2.8658200000000003%2C%20-67.7919%5D%2C%20%5B-2.99609%2C%20-65.1133%5D%2C%20%5B-2.52936%2C%20-57.7538%5D%2C%20%5B-3.1284099999999997%2C%20-58.1496%5D%2C%20%5B3.64571%2C%20-61.3692%5D%2C%20%5B2.98858%2C%20-61.3072%5D%2C%20%5B2.82384%2C%20-60.6753%5D%2C%20%5B3.3616099999999998%2C%20-59.8333%5D%2C%20%5B2.60994%2C%20-60.6058%5D%2C%20%5B1.8276599999999998%2C%20-61.1304%5D%2C%20%5B0.8842030000000001%2C%20-59.6959%5D%2C%20%5B2.18305%2C%20-61.0415%5D%2C%20%5B2.43998%2C%20-60.9096%5D%2C%20%5B3.8853%2C%20-59.6204%5D%2C%20%5B4.4799%2C%20-61.1477%5D%2C%20%5B0.9399559999999999%2C%20-60.4389%5D%2C%20%5B0.951659%2C%20-59.9133%5D%2C%20%5B1.01019%2C%20-60.0419%5D%2C%20%5B4.60314%2C%20-60.1815%5D%2C%20%5B-1.72183%2C%20-48.8788%5D%2C%20%5B-4.95333%2C%20-48.3933%5D%2C%20%5B-1.95383%2C%20-48.1985%5D%2C%20%5B-0.154874%2C%20-50.3861%5D%2C%20%5B-6.79053%2C%20-50.4791%5D%2C%20%5B-1.94623%2C%20-54.7384%5D%2C%20%5B-1.52904%2C%20-52.5788%5D%2C%20%5B-3.20407%2C%20-52.21%5D%2C%20%5B-0.9968110000000001%2C%20-49.9354%5D%2C%20%5B-1.36391%2C%20-48.3743%5D%2C%20%5B-3.46985%2C%20-51.2003%5D%2C%20%5B-1.0510899999999999%2C%20-46.6147%5D%2C%20%5B-2.14898%2C%20-47.5677%5D%2C%20%5B-3.6084099999999997%2C%20-55.3199%5D%2C%20%5B-1.90057%2C%20-50.1987%5D%2C%20%5B-2.7902099999999996%2C%20-49.6694%5D%2C%20%5B-7.34779%2C%20-50.3959%5D%2C%20%5B-1.51187%2C%20-48.6195%5D%2C%20%5B-1.4554%2C%20-48.4898%5D%2C%20%5B-2.6360900000000003%2C%20-54.9374%5D%2C%20%5B-1.3618299999999999%2C%20-48.2434%5D%2C%20%5B-5.0424%2C%20-48.6047%5D%2C%20%5B-1.36745%2C%20-47.3066%5D%2C%20%5B-1.06126%2C%20-46.7826%5D%2C%20%5B-3.2979199999999995%2C%20-52.534%5D%2C%20%5B-5.69822%2C%20-48.4103%5D%2C%20%5B-3.7719099999999997%2C%20-49.5735%5D%2C%20%5B-1.6803599999999999%2C%20-50.4791%5D%2C%20%5B-1.51762%2C%20-48.0381%5D%2C%20%5B-1.75974%2C%20-46.5459%5D%2C%20%5B-1.01226%2C%20-48.9503%5D%2C%20%5B-2.24295%2C%20-49.4979%5D%2C%20%5B-6.49659%2C%20-49.8776%5D%2C%20%5B-1.20529%2C%20-47.1778%5D%2C%20%5B-1.74785%2C%20-47.0629%5D%2C%20%5B-1.29797%2C%20-47.9167%5D%2C%20%5B-0.164154%2C%20-49.986999999999995%5D%2C%20%5B-0.936423%2C%20-48.2803%5D%2C%20%5B-8.26136%2C%20-49.2689%5D%2C%20%5B-1.9923799999999998%2C%20-47.9422%5D%2C%20%5B-7.810969999999999%2C%20-50.7698%5D%2C%20%5B-6.09965%2C%20-49.6068%5D%2C%20%5B-1.8117900000000002%2C%20-49.7952%5D%2C%20%5B-1.88775%2C%20-55.1168%5D%2C%20%5B-0.733214%2C%20-47.8515%5D%2C%20%5B-4.19944%2C%20-47.8245%5D%2C%20%5B-6.10389%2C%20-49.3553%5D%2C%20%5B-2.16805%2C%20-56.7405%5D%2C%20%5B-7.55335%2C%20-49.7125%5D%2C%20%5B-1.92986%2C%20-47.0505%5D%2C%20%5B-3.8433800000000002%2C%20-49.0974%5D%2C%20%5B-1.41412%2C%20-51.6338%5D%2C%20%5B-1.12539%2C%20-47.626000000000005%5D%2C%20%5B-1.97533%2C%20-48.9575%5D%2C%20%5B-1.4349%2C%20-47.9114%5D%2C%20%5B-2.55992%2C%20-47.5059%5D%2C%20%5B-1.76984%2C%20-47.446000000000005%5D%2C%20%5B-4.2667%2C%20-55.9926%5D%2C%20%5B-5.13272%2C%20-49.3358%5D%2C%20%5B-6.21469%2C%20-57.7544%5D%2C%20%5B-4.4461699999999995%2C%20-49.1153%5D%2C%20%5B-2.1634700000000002%2C%20-56.0889%5D%2C%20%5B-1.8985%2C%20-49.3903%5D%2C%20%5B-2.0568299999999997%2C%20-47.5601%5D%2C%20%5B-0.803391%2C%20-47.6014%5D%2C%20%5B-5.38075%2C%20-49.1327%5D%2C%20%5B-0.778899%2C%20-47.452%5D%2C%20%5B-0.7147020000000001%2C%20-47.7034%5D%2C%20%5B-1.36002%2C%20-48.3421%5D%2C%20%5B-3.4463699999999995%2C%20-52.8875%5D%2C%20%5B-1.8032%2C%20-50.7149%5D%2C%20%5B-2.5831%2C%20-49.5042%5D%2C%20%5B-1.8899299999999999%2C%20-48.7668%5D%2C%20%5B-1.99768%2C%20-54.0724%5D%2C%20%5B-1.53936%2C%20-49.2224%5D%2C%20%5B-2.26693%2C%20-46.9731%5D%2C%20%5B-4.91622%2C%20-49.0822%5D%2C%20%5B-1.20874%2C%20-47.3921%5D%2C%20%5B-7.14347%2C%20-55.3786%5D%2C%20%5B-4.24749%2C%20-49.9499%5D%2C%20%5B-1.90107%2C%20-55.5208%5D%2C%20%5B-2.00358%2C%20-49.8628%5D%2C%20%5B-1.7598900000000002%2C%20-55.8579%5D%2C%20%5B-1.54168%2C%20-47.1126%5D%2C%20%5B-6.7529%2C%20-51.0858%5D%2C%20%5B-3.8354199999999996%2C%20-50.6399%5D%2C%20%5B-5.74027%2C%20-48.3181%5D%2C%20%5B-3.00212%2C%20-47.3527%5D%2C%20%5B-6.06781%2C%20-49.9037%5D%2C%20%5B-1.59772%2C%20-46.9268%5D%2C%20%5B-1.19382%2C%20-47.324%5D%2C%20%5B-6.43778%2C%20-48.8716%5D%2C%20%5B-3.8681300000000003%2C%20-54.2124%5D%2C%20%5B-1.3958700000000002%2C%20-48.8661%5D%2C%20%5B-1.93639%2C%20-50.8194%5D%2C%20%5B-1.74691%2C%20-52.2361%5D%2C%20%5B-1.798%2C%20-53.4779%5D%2C%20%5B-0.9454389999999999%2C%20-47.1253%5D%2C%20%5B-0.8996040000000001%2C%20-47.0134%5D%2C%20%5B-8.02529%2C%20-50.0317%5D%2C%20%5B-7.312360000000001%2C%20-50.0379%5D%2C%20%5B-4.7779300000000005%2C%20-48.067%5D%2C%20%5B-4.100280000000001%2C%20-54.9092%5D%2C%20%5B-0.630815%2C%20-47.3465%5D%2C%20%5B-0.758444%2C%20-48.5139%5D%2C%20%5B-1.1921899999999999%2C%20-48.238%5D%2C%20%5B-0.6610189999999999%2C%20-49.1771%5D%2C%20%5B-1.2968600000000001%2C%20-48.1606%5D%2C%20%5B-1.52147%2C%20-46.9008%5D%2C%20%5B-8.85784%2C%20-49.7215%5D%2C%20%5B-1.35392%2C%20-47.5712%5D%2C%20%5B-9.3281%2C%20-50.35%5D%2C%20%5B-2.4384900000000003%2C%20-54.6996%5D%2C%20%5B-0.9309700000000001%2C%20-47.3855%5D%2C%20%5B-1.1522%2C%20-48.1314%5D%2C%20%5B-0.747293%2C%20-48.0246%5D%2C%20%5B-5.537319999999999%2C%20-48.7366%5D%2C%20%5B-1.6876799999999998%2C%20-47.7665%5D%2C%20%5B-6.6425399999999994%2C%20-51.9904%5D%2C%20%5B-1.16963%2C%20-47.7917%5D%2C%20%5B-6.39471%2C%20-48.5592%5D%2C%20%5B-0.857885%2C%20-47.918%5D%2C%20%5B-0.780222%2C%20-47.181000000000004%5D%2C%20%5B-5.36334%2C%20-48.7926%5D%2C%20%5B-1.61307%2C%20-47.4784%5D%2C%20%5B-1.71597%2C%20-49.5249%5D%2C%20%5B-6.940180000000001%2C%20-49.6834%5D%2C%20%5B-4.3124199999999995%2C%20-51.5764%5D%2C%20%5B-0.73032%2C%20-48.5015%5D%2C%20%5B-2.94584%2C%20-48.9489%5D%2C%20%5B-1.0296299999999998%2C%20-47.9004%5D%2C%20%5B-2.10443%2C%20-56.4877%5D%2C%20%5B-2.41302%2C%20-48.1415%5D%2C%20%5B-1.07653%2C%20-46.9031%5D%2C%20%5B-4.5734699999999995%2C%20-55.9429%5D%2C%20%5B-6.7468699999999995%2C%20-51.1626%5D%2C%20%5B-3.7657%2C%20-49.6773%5D%2C%20%5B-3.7500699999999996%2C%20-47.4892%5D%2C%20%5B-3.71519%2C%20-53.7396%5D%2C%20%5B-0.861194%2C%20-48.1386%5D%2C%20%5B-1.1912399999999999%2C%20-46.1399%5D%2C%20%5B-2.87922%2C%20-52.0088%5D%2C%20%5B-7.0983%2C%20-49.9437%5D%2C%20%5B0.901357%2C%20-52.0036%5D%2C%20%5B2.05267%2C%20-50.7957%5D%2C%20%5B0.777424%2C%20-51.9503%5D%2C%20%5B2.50475%2C%20-50.9512%5D%2C%20%5B0.9707610000000001%2C%20-50.8005%5D%2C%20%5B0.8572559999999999%2C%20-51.1795%5D%2C%20%5B0.6021850000000001%2C%20-50.6996%5D%2C%20%5B-0.8049109999999999%2C%20-52.453%5D%2C%20%5B0.034934%2C%20-51.0694%5D%2C%20%5B-0.11335999999999999%2C%20-51.2891%5D%2C%20%5B3.8407400000000003%2C%20-51.8331%5D%2C%20%5B0.71243%2C%20-51.4155%5D%2C%20%5B1.74543%2C%20-50.7892%5D%2C%20%5B-0.045433999999999995%2C%20-51.1729%5D%2C%20%5B1.50652%2C%20-50.9087%5D%2C%20%5B-0.938%2C%20-52.424%5D%2C%20%5B-9.62101%2C%20-49.1518%5D%2C%20%5B-6.5540899999999995%2C%20-47.4702%5D%2C%20%5B-11.3056%2C%20-48.9361%5D%2C%20%5B-11.5706%2C%20-47.1792%5D%2C%20%5B-12.4785%2C%20-49.1249%5D%2C%20%5B-6.36437%2C%20-48.0735%5D%2C%20%5B-6.39179%2C%20-47.8611%5D%2C%20%5B-9.94139%2C%20-47.9638%5D%2C%20%5B-7.16005%2C%20-48.5291%5D%2C%20%5B-8.80755%2C%20-49.5569%5D%2C%20%5B-12.9289%2C%20-49.8231%5D%2C%20%5B-7.19238%2C%20-48.2044%5D%2C%20%5B-6.58225%2C%20-48.6395%5D%2C%20%5B-5.64659%2C%20-48.1232%5D%2C%20%5B-7.65463%2C%20-49.0637%5D%2C%20%5B-12.9287%2C%20-46.9359%5D%2C%20%5B-5.46863%2C%20-47.8863%5D%2C%20%5B-12.7105%2C%20-46.4076%5D%2C%20%5B-5.61275%2C%20-47.7701%5D%2C%20%5B-7.209230000000001%2C%20-47.7613%5D%2C%20%5B-7.75612%2C%20-48.5836%5D%2C%20%5B-7.695930000000001%2C%20-47.6776%5D%2C%20%5B-9.83404%2C%20-48.7252%5D%2C%20%5B-7.874810000000001%2C%20-48.8893%5D%2C%20%5B-8.96306%2C%20-48.165%5D%2C%20%5B-8.38918%2C%20-48.4822%5D%2C%20%5B-11.0058%2C%20-48.5683%5D%2C%20%5B-5.3144800000000005%2C%20-48.2271%5D%2C%20%5B-6.1156%2C%20-47.9234%5D%2C%20%5B-7.989560000000001%2C%20-46.8645%5D%2C%20%5B-11.8881%2C%20-49.1609%5D%2C%20%5B-7.03262%2C%20-48.3978%5D%2C%20%5B-5.31415%2C%20-48.0314%5D%2C%20%5B-9.27612%2C%20-49.9521%5D%2C%20%5B-8.961030000000001%2C%20-47.3304%5D%2C%20%5B-10.1419%2C%20-49.1403%5D%2C%20%5B-11.6175%2C%20-47.7486%5D%2C%20%5B-8.05764%2C%20-48.4757%5D%2C%20%5B-12.7917%2C%20-46.5388%5D%2C%20%5B-12.2209%2C%20-47.2951%5D%2C%20%5B-8.28411%2C%20-49.2473%5D%2C%20%5B-10.5985%2C%20-49.1942%5D%2C%20%5B-11.0994%2C%20-48.9152%5D%2C%20%5B-6.715910000000001%2C%20-47.7597%5D%2C%20%5B-11.624%2C%20-46.8198%5D%2C%20%5B-9.800180000000001%2C%20-49.2169%5D%2C%20%5B-9.255339999999999%2C%20-49.0638%5D%2C%20%5B-11.3416%2C%20-49.2716%5D%2C%20%5B-5.3659300000000005%2C%20-48.5378%5D%2C%20%5B-10.7603%2C%20-48.9076%5D%2C%20%5B-12.1312%2C%20-49.1748%5D%2C%20%5B-7.3350100000000005%2C%20-47.4954%5D%2C%20%5B-11.7976%2C%20-49.5316%5D%2C%20%5B-9.05611%2C%20-48.5206%5D%2C%20%5B-8.77413%2C%20-48.9313%5D%2C%20%5B-7.71478%2C%20-47.3252%5D%2C%20%5B-8.83543%2C%20-48.5114%5D%2C%20%5B-11.7279%2C%20-49.068000000000005%5D%2C%20%5B-11.2329%2C%20-48.46%5D%2C%20%5B-8.39293%2C%20-47.7726%5D%2C%20%5B-5.77267%2C%20-47.4864%5D%2C%20%5B-8.37982%2C%20-48.1072%5D%2C%20%5B-8.57172%2C%20-48.6895%5D%2C%20%5B-12.6509%2C%20-48.589%5D%2C%20%5B-8.11951%2C%20-49.0643%5D%2C%20%5B-10.7906%2C%20-49.6199%5D%2C%20%5B-10.368%2C%20-47.538000000000004%5D%2C%20%5B-9.74996%2C%20-48.3565%5D%2C%20%5B-12.7847%2C%20-46.5099%5D%2C%20%5B-9.590019999999999%2C%20-46.6738%5D%2C%20%5B-6.17794%2C%20-47.8582%5D%2C%20%5B-9.79377%2C%20-49.6553%5D%2C%20%5B-10.5464%2C%20-46.4168%5D%2C%20%5B-5.95169%2C%20-47.5125%5D%2C%20%5B-9.565560000000001%2C%20-48.393%5D%2C%20%5B-9.529069999999999%2C%20-48.5922%5D%2C%20%5B-10.7611%2C%20-48.1114%5D%2C%20%5B-10.0075%2C%20-48.9941%5D%2C%20%5B-6.61658%2C%20-47.5464%5D%2C%20%5B-7.1466899999999995%2C%20-48.6091%5D%2C%20%5B-11.7034%2C%20-47.7223%5D%2C%20%5B-6.37496%2C%20-47.6643%5D%2C%20%5B-7.631710000000001%2C%20-48.4252%5D%2C%20%5B-10.5651%2C%20-48.9125%5D%2C%20%5B-9.97063%2C%20-47.6785%5D%2C%20%5B-12.9217%2C%20-46.5713%5D%2C%20%5B-11.825999999999999%2C%20-46.6325%5D%2C%20%5B-10.707%2C%20-48.9086%5D%2C%20%5B-7.847860000000001%2C%20-47.9242%5D%2C%20%5B-13.0447%2C%20-48.4026%5D%2C%20%5B-10.175%2C%20-48.8823%5D%2C%20%5B-12.6167%2C%20-47.8734%5D%2C%20%5B-7.53919%2C%20-49.367%5D%2C%20%5B-8.97034%2C%20-48.1729%5D%2C%20%5B-12.0254%2C%20-48.5395%5D%2C%20%5B-8.5932%2C%20-48.9327%5D%2C%20%5B-8.72463%2C%20-48.7638%5D%2C%20%5B-11.1311%2C%20-47.5726%5D%2C%20%5B-6.77302%2C%20-48.2958%5D%2C%20%5B-10.442%2C%20-49.1876%5D%2C%20%5B-12.0853%2C%20-46.4825%5D%2C%20%5B-10.7481%2C%20-47.5276%5D%2C%20%5B-11.618%2C%20-47.0621%5D%2C%20%5B-10.7027%2C%20-48.408%5D%2C%20%5B-5.39281%2C%20-47.8111%5D%2C%20%5B-8.5406%2C%20-48.5062%5D%2C%20%5B-10.424000000000001%2C%20-48.8957%5D%2C%20%5B-8.7227%2C%20-47.2421%5D%2C%20%5B-6.44005%2C%20-48.1371%5D%2C%20%5B-11.3949%2C%20-46.8847%5D%2C%20%5B-9.34425%2C%20-48.5245%5D%2C%20%5B-9.350019999999999%2C%20-47.888000000000005%5D%2C%20%5B-5.35423%2C%20-47.8782%5D%2C%20%5B-12.538%2C%20-49.9242%5D%2C%20%5B-7.15803%2C%20-48.7165%5D%2C%20%5B-8.8046%2C%20-47.7887%5D%2C%20%5B-10.8617%2C%20-48.9161%5D%2C%20%5B-11.4474%2C%20-48.1216%5D%2C%20%5B-10.2746%2C%20-47.8033%5D%2C%20%5B-6.444380000000001%2C%20-47.6684%5D%2C%20%5B-6.0258%2C%20-47.9012%5D%2C%20%5B-10.1615%2C%20-46.6618%5D%2C%20%5B-5.56305%2C%20-47.5743%5D%2C%20%5B-12.7458%2C%20-48.2352%5D%2C%20%5B-5.26131%2C%20-48.2021%5D%2C%20%5B-11.9743%2C%20-48.2353%5D%2C%20%5B-11.1471%2C%20-48.1694%5D%2C%20%5B-5.6012%2C%20-47.6381%5D%2C%20%5B-11.993%2C%20-48.9685%5D%2C%20%5B-12.4026%2C%20-46.437%5D%2C%20%5B-12.1873%2C%20-46.9797%5D%2C%20%5B-12.7949%2C%20-49.0896%5D%2C%20%5B-10.24%2C%20-48.3558%5D%2C%20%5B-9.5632%2C%20-48.3741%5D%2C%20%5B-6.32447%2C%20-47.4224%5D%2C%20%5B-8.971680000000001%2C%20-48.1883%5D%2C%20%5B-8.393880000000001%2C%20-48.1277%5D%2C%20%5B-6.85274%2C%20-47.9601%5D%2C%20%5B-6.4141%2C%20-48.532%5D%2C%20%5B-11.9283%2C%20-61.9953%5D%2C%20%5B-9.905710000000001%2C%20-63.0325%5D%2C%20%5B-13.4945%2C%20-60.552%5D%2C%20%5B-11.4343%2C%20-61.4562%5D%2C%20%5B-13.187000000000001%2C%20-60.8168%5D%2C%20%5B-13.1174%2C%20-60.5454%5D%2C%20%5B-12.9551%2C%20-60.8947%5D%2C%20%5B-12.4367%2C%20-64.22800000000001%5D%2C%20%5B-11.5266%2C%20-61.0252%5D%2C%20%5B-10.7889%2C%20-65.3296%5D%2C%20%5B-10.4318%2C%20-62.4788%5D%2C%20%5B-10.8777%2C%20-61.9322%5D%2C%20%5B-9.44363%2C%20-61.9818%5D%2C%20%5B-11.7247%2C%20-62.3127%5D%2C%20%5B-10.7167%2C%20-62.2565%5D%2C%20%5B-11.672%2C%20-61.198%5D%2C%20%5B-8.760769999999999%2C%20-63.8999%5D%2C%20%5B-11.169%2C%20-61.8986%5D%2C%20%5B-9.69965%2C%20-62.9011%5D%2C%20%5B-11.7271%2C%20-61.7714%5D%2C%20%5B-11.9074%2C%20-61.7777%5D%2C%20%5B-12.7502%2C%20-60.1488%5D%2C%20%5B-11.6953%2C%20-62.7192%5D%2C%20%5B-10.4077%2C%20-65.3346%5D%2C%20%5B-11.3463%2C%20-62.2847%5D%2C%20%5B-12.132%2C%20-61.835%5D%2C%20%5B-9.71429%2C%20-63.3188%5D%2C%20%5B-10.1943%2C%20-63.8324%5D%2C%20%5B-11.6961%2C%20-61.9951%5D%2C%20%5B-10.349%2C%20-62.9043%5D%2C%20%5B-10.5712%2C%20-63.6266%5D%2C%20%5B-8.7907%2C%20-63.7005%5D%2C%20%5B-11.4253%2C%20-61.9482%5D%2C%20%5B-12.5611%2C%20-60.8877%5D%2C%20%5B-9.36065%2C%20-62.5846%5D%2C%20%5B-10.61%2C%20-62.7371%5D%2C%20%5B-9.19687%2C%20-63.1809%5D%2C%20%5B-11.196%2C%20-61.5174%5D%2C%20%5B-11.029000000000002%2C%20-62.6696%5D%2C%20%5B-10.2458%2C%20-63.29%5D%2C%20%5B-10.9068%2C%20-62.5564%5D%2C%20%5B-12.1754%2C%20-61.6032%5D%2C%20%5B-13.4823%2C%20-61.0471%5D%2C%20%5B-11.8295%2C%20-61.3153%5D%2C%20%5B-11.9023%2C%20-61.5026%5D%2C%20%5B-12.052%2C%20-63.568000000000005%5D%2C%20%5B-11.8055%2C%20-63.0182%5D%2C%20%5B-10.9056%2C%20-62.242%5D%2C%20%5B-10.2483%2C%20-62.3538%5D%2C%20%5B-11.1261%2C%20-62.3639%5D%2C%20%5B-9.86215%2C%20-62.1876%5D%2C%20%5B-10.4465%2C%20-62.1352%5D%2C%20%5B-9.82581%2C%20-66.8972%5D%2C%20%5B-10.9298%2C%20-69.5738%5D%2C%20%5B-10.995%2C%20-68.7497%5D%2C%20%5B-9.81528%2C%20-67.955%5D%2C%20%5B-10.565999999999999%2C%20-67.686%5D%2C%20%5B-7.627619999999999%2C%20-72.6756%5D%2C%20%5B-11.0188%2C%20-68.7341%5D%2C%20%5B-8.170539999999999%2C%20-70.351%5D%2C%20%5B-9.43091%2C%20-71.8974%5D%2C%20%5B-7.616569999999999%2C%20-72.8997%5D%2C%20%5B-8.83291%2C%20-69.2679%5D%2C%20%5B-8.93898%2C%20-72.7997%5D%2C%20%5B-10.2806%2C%20-67.1371%5D%2C%20%5B-8.26323%2C%20-72.7537%5D%2C%20%5B-9.97499%2C%20-67.8243%5D%2C%20%5B-7.738639999999999%2C%20-72.661%5D%2C%20%5B-9.44652%2C%20-70.4902%5D%2C%20%5B-10.1497%2C%20-67.7362%5D%2C%20%5B-9.06596%2C%20-68.6571%5D%2C%20%5B-8.15697%2C%20-70.7722%5D%2C%20%5B-10.6516%2C%20-68.4969%5D%2C%20%5B-9.581380000000001%2C%20-67.5478%5D%2C%20%5B-3.22727%2C%20-64.8007%5D%2C%20%5B-3.37455%2C%20-68.2005%5D%2C%20%5B-3.5669699999999995%2C%20-61.3963%5D%2C%20%5B-3.74603%2C%20-61.6575%5D%2C%20%5B-7.194089999999999%2C%20-59.896%5D%2C%20%5B-4.37055%2C%20-70.1967%5D%2C%20%5B-3.58574%2C%20-59.1256%5D%2C%20%5B-0.9833729999999999%2C%20-62.9311%5D%2C%20%5B-2.79886%2C%20-57.0679%5D%2C%20%5B-4.377680000000001%2C%20-70.0342%5D%2C%20%5B-3.89874%2C%20-61.3616%5D%2C%20%5B-2.9740900000000003%2C%20-57.5873%5D%2C%20%5B-8.74232%2C%20-67.3919%5D%2C%20%5B-4.39154%2C%20-59.5874%5D%2C%20%5B-3.3153699999999997%2C%20-61.2206%5D%2C%20%5B-6.5258199999999995%2C%20-64.3953%5D%2C%20%5B-4.88161%2C%20-66.9086%5D%2C%20%5B-3.7680300000000004%2C%20-60.369%5D%2C%20%5B-3.3139999999999996%2C%20-59.5557%5D%2C%20%5B-4.094119999999999%2C%20-63.1441%5D%2C%20%5B-3.8305300000000004%2C%20-62.0658%5D%2C%20%5B-6.65677%2C%20-69.8662%5D%2C%20%5B-7.4378899999999994%2C%20-70.0281%5D%2C%20%5B-2.52342%2C%20-66.0942%5D%2C%20%5B-7.53797%2C%20-72.5907%5D%2C%20%5B-7.511710000000001%2C%20-63.0327%5D%2C%20%5B-7.047910000000001%2C%20-71.6934%5D%2C%20%5B-3.2747900000000003%2C%20-60.19%5D%2C%20%5B-3.13861%2C%20-58.4449%5D%2C%20%5B-6.43852%2C%20-68.2437%5D%2C%20%5B-2.7408099999999997%2C%20-58.0293%5D%2C%20%5B-1.88237%2C%20-66.9291%5D%2C%20%5B-3.4843800000000003%2C%20-66.0718%5D%2C%20%5B-2.75814%2C%20-66.7595%5D%2C%20%5B-7.264130000000001%2C%20-64.7948%5D%2C%20%5B-3.29066%2C%20-60.6216%5D%2C%20%5B-3.44078%2C%20-60.4612%5D%2C%20%5B-3.1186599999999998%2C%20-60.0212%5D%2C%20%5B-5.80462%2C%20-61.2895%5D%2C%20%5B-1.85313%2C%20-65.57300000000001%5D%2C%20%5B-3.39289%2C%20-57.7067%5D%2C%20%5B-2.2079299999999997%2C%20-56.7112%5D%2C%20%5B-3.9003699999999997%2C%20-59.093999999999994%5D%2C%20%5B-2.63637%2C%20-60.9434%5D%2C%20%5B-5.12593%2C%20-60.3732%5D%2C%20%5B-2.63741%2C%20-56.729%5D%2C%20%5B-7.71311%2C%20-66.992%5D%2C%20%5B-2.02981%2C%20-60.0234%5D%2C%20%5B-2.7045%2C%20-59.6858%5D%2C%20%5B-0.41082399999999997%2C%20-65.0092%5D%2C%20%5B-3.09544%2C%20-67.9463%5D%2C%20%5B-0.11909000000000002%2C%20-67.084%5D%2C%20%5B-3.47292%2C%20-68.9646%5D%2C%20%5B-2.55915%2C%20-57.8731%5D%2C%20%5B-2.8174799999999998%2C%20-58.248000000000005%5D%2C%20%5B-4.2416%2C%20-69.9383%5D%2C%20%5B-5.62085%2C%20-63.1808%5D%2C%20%5B-3.3682199999999995%2C%20-64.7193%5D%2C%20%5B-2.8658200000000003%2C%20-67.7919%5D%2C%20%5B-2.99609%2C%20-65.1133%5D%2C%20%5B-2.52936%2C%20-57.7538%5D%2C%20%5B-3.1284099999999997%2C%20-58.1496%5D%2C%20%5B3.64571%2C%20-61.3692%5D%2C%20%5B2.98858%2C%20-61.3072%5D%2C%20%5B2.82384%2C%20-60.6753%5D%2C%20%5B3.3616099999999998%2C%20-59.8333%5D%2C%20%5B2.60994%2C%20-60.6058%5D%2C%20%5B1.8276599999999998%2C%20-61.1304%5D%2C%20%5B0.8842030000000001%2C%20-59.6959%5D%2C%20%5B2.18305%2C%20-61.0415%5D%2C%20%5B2.43998%2C%20-60.9096%5D%2C%20%5B3.8853%2C%20-59.6204%5D%2C%20%5B4.4799%2C%20-61.1477%5D%2C%20%5B0.9399559999999999%2C%20-60.4389%5D%2C%20%5B0.951659%2C%20-59.9133%5D%2C%20%5B1.01019%2C%20-60.0419%5D%2C%20%5B4.60314%2C%20-60.1815%5D%2C%20%5B-1.72183%2C%20-48.8788%5D%2C%20%5B-4.95333%2C%20-48.3933%5D%2C%20%5B-1.95383%2C%20-48.1985%5D%2C%20%5B-0.154874%2C%20-50.3861%5D%2C%20%5B-6.79053%2C%20-50.4791%5D%2C%20%5B-1.94623%2C%20-54.7384%5D%2C%20%5B-1.52904%2C%20-52.5788%5D%2C%20%5B-3.20407%2C%20-52.21%5D%2C%20%5B-0.9968110000000001%2C%20-49.9354%5D%2C%20%5B-1.36391%2C%20-48.3743%5D%2C%20%5B-3.46985%2C%20-51.2003%5D%2C%20%5B-1.0510899999999999%2C%20-46.6147%5D%2C%20%5B-2.14898%2C%20-47.5677%5D%2C%20%5B-3.6084099999999997%2C%20-55.3199%5D%2C%20%5B-1.90057%2C%20-50.1987%5D%2C%20%5B-2.7902099999999996%2C%20-49.6694%5D%2C%20%5B-7.34779%2C%20-50.3959%5D%2C%20%5B-1.51187%2C%20-48.6195%5D%2C%20%5B-1.4554%2C%20-48.4898%5D%2C%20%5B-2.6360900000000003%2C%20-54.9374%5D%2C%20%5B-1.3618299999999999%2C%20-48.2434%5D%2C%20%5B-5.0424%2C%20-48.6047%5D%2C%20%5B-1.36745%2C%20-47.3066%5D%2C%20%5B-1.06126%2C%20-46.7826%5D%2C%20%5B-3.2979199999999995%2C%20-52.534%5D%2C%20%5B-5.69822%2C%20-48.4103%5D%2C%20%5B-3.7719099999999997%2C%20-49.5735%5D%2C%20%5B-1.6803599999999999%2C%20-50.4791%5D%2C%20%5B-1.51762%2C%20-48.0381%5D%2C%20%5B-1.75974%2C%20-46.5459%5D%2C%20%5B-1.01226%2C%20-48.9503%5D%2C%20%5B-2.24295%2C%20-49.4979%5D%2C%20%5B-6.49659%2C%20-49.8776%5D%2C%20%5B-1.20529%2C%20-47.1778%5D%2C%20%5B-1.74785%2C%20-47.0629%5D%2C%20%5B-1.29797%2C%20-47.9167%5D%2C%20%5B-0.164154%2C%20-49.986999999999995%5D%2C%20%5B-0.936423%2C%20-48.2803%5D%2C%20%5B-8.26136%2C%20-49.2689%5D%2C%20%5B-1.9923799999999998%2C%20-47.9422%5D%2C%20%5B-7.810969999999999%2C%20-50.7698%5D%2C%20%5B-6.09965%2C%20-49.6068%5D%2C%20%5B-1.8117900000000002%2C%20-49.7952%5D%2C%20%5B-1.88775%2C%20-55.1168%5D%2C%20%5B-0.733214%2C%20-47.8515%5D%2C%20%5B-4.19944%2C%20-47.8245%5D%2C%20%5B-6.10389%2C%20-49.3553%5D%2C%20%5B-2.16805%2C%20-56.7405%5D%2C%20%5B-7.55335%2C%20-49.7125%5D%2C%20%5B-1.92986%2C%20-47.0505%5D%2C%20%5B-3.8433800000000002%2C%20-49.0974%5D%2C%20%5B-1.41412%2C%20-51.6338%5D%2C%20%5B-1.12539%2C%20-47.626000000000005%5D%2C%20%5B-1.97533%2C%20-48.9575%5D%2C%20%5B-1.4349%2C%20-47.9114%5D%2C%20%5B-2.55992%2C%20-47.5059%5D%2C%20%5B-1.76984%2C%20-47.446000000000005%5D%2C%20%5B-4.2667%2C%20-55.9926%5D%2C%20%5B-5.13272%2C%20-49.3358%5D%2C%20%5B-6.21469%2C%20-57.7544%5D%2C%20%5B-4.4461699999999995%2C%20-49.1153%5D%2C%20%5B-2.1634700000000002%2C%20-56.0889%5D%2C%20%5B-1.8985%2C%20-49.3903%5D%2C%20%5B-2.0568299999999997%2C%20-47.5601%5D%2C%20%5B-0.803391%2C%20-47.6014%5D%2C%20%5B-5.38075%2C%20-49.1327%5D%2C%20%5B-0.778899%2C%20-47.452%5D%2C%20%5B-0.7147020000000001%2C%20-47.7034%5D%2C%20%5B-1.36002%2C%20-48.3421%5D%2C%20%5B-3.4463699999999995%2C%20-52.8875%5D%2C%20%5B-1.8032%2C%20-50.7149%5D%2C%20%5B-2.5831%2C%20-49.5042%5D%2C%20%5B-1.8899299999999999%2C%20-48.7668%5D%2C%20%5B-1.99768%2C%20-54.0724%5D%2C%20%5B-1.53936%2C%20-49.2224%5D%2C%20%5B-2.26693%2C%20-46.9731%5D%2C%20%5B-4.91622%2C%20-49.0822%5D%2C%20%5B-1.20874%2C%20-47.3921%5D%2C%20%5B-7.14347%2C%20-55.3786%5D%2C%20%5B-4.24749%2C%20-49.9499%5D%2C%20%5B-1.90107%2C%20-55.5208%5D%2C%20%5B-2.00358%2C%20-49.8628%5D%2C%20%5B-1.7598900000000002%2C%20-55.8579%5D%2C%20%5B-1.54168%2C%20-47.1126%5D%2C%20%5B-6.7529%2C%20-51.0858%5D%2C%20%5B-3.8354199999999996%2C%20-50.6399%5D%2C%20%5B-5.74027%2C%20-48.3181%5D%2C%20%5B-3.00212%2C%20-47.3527%5D%2C%20%5B-6.06781%2C%20-49.9037%5D%2C%20%5B-1.59772%2C%20-46.9268%5D%2C%20%5B-1.19382%2C%20-47.324%5D%2C%20%5B-6.43778%2C%20-48.8716%5D%2C%20%5B-3.8681300000000003%2C%20-54.2124%5D%2C%20%5B-1.3958700000000002%2C%20-48.8661%5D%2C%20%5B-1.93639%2C%20-50.8194%5D%2C%20%5B-1.74691%2C%20-52.2361%5D%2C%20%5B-1.798%2C%20-53.4779%5D%2C%20%5B-0.9454389999999999%2C%20-47.1253%5D%2C%20%5B-0.8996040000000001%2C%20-47.0134%5D%2C%20%5B-8.02529%2C%20-50.0317%5D%2C%20%5B-7.312360000000001%2C%20-50.0379%5D%2C%20%5B-4.7779300000000005%2C%20-48.067%5D%2C%20%5B-4.100280000000001%2C%20-54.9092%5D%2C%20%5B-0.630815%2C%20-47.3465%5D%2C%20%5B-0.758444%2C%20-48.5139%5D%2C%20%5B-1.1921899999999999%2C%20-48.238%5D%2C%20%5B-0.6610189999999999%2C%20-49.1771%5D%2C%20%5B-1.2968600000000001%2C%20-48.1606%5D%2C%20%5B-1.52147%2C%20-46.9008%5D%2C%20%5B-8.85784%2C%20-49.7215%5D%2C%20%5B-1.35392%2C%20-47.5712%5D%2C%20%5B-9.3281%2C%20-50.35%5D%2C%20%5B-2.4384900000000003%2C%20-54.6996%5D%2C%20%5B-0.9309700000000001%2C%20-47.3855%5D%2C%20%5B-1.1522%2C%20-48.1314%5D%2C%20%5B-0.747293%2C%20-48.0246%5D%2C%20%5B-5.537319999999999%2C%20-48.7366%5D%2C%20%5B-1.6876799999999998%2C%20-47.7665%5D%2C%20%5B-6.6425399999999994%2C%20-51.9904%5D%2C%20%5B-1.16963%2C%20-47.7917%5D%2C%20%5B-6.39471%2C%20-48.5592%5D%2C%20%5B-0.857885%2C%20-47.918%5D%2C%20%5B-0.780222%2C%20-47.181000000000004%5D%2C%20%5B-5.36334%2C%20-48.7926%5D%2C%20%5B-1.61307%2C%20-47.4784%5D%2C%20%5B-1.71597%2C%20-49.5249%5D%2C%20%5B-6.940180000000001%2C%20-49.6834%5D%2C%20%5B-4.3124199999999995%2C%20-51.5764%5D%2C%20%5B-0.73032%2C%20-48.5015%5D%2C%20%5B-2.94584%2C%20-48.9489%5D%2C%20%5B-1.0296299999999998%2C%20-47.9004%5D%2C%20%5B-2.10443%2C%20-56.4877%5D%2C%20%5B-2.41302%2C%20-48.1415%5D%2C%20%5B-1.07653%2C%20-46.9031%5D%2C%20%5B-4.5734699999999995%2C%20-55.9429%5D%2C%20%5B-6.7468699999999995%2C%20-51.1626%5D%2C%20%5B-3.7657%2C%20-49.6773%5D%2C%20%5B-3.7500699999999996%2C%20-47.4892%5D%2C%20%5B-3.71519%2C%20-53.7396%5D%2C%20%5B-0.861194%2C%20-48.1386%5D%2C%20%5B-1.1912399999999999%2C%20-46.1399%5D%2C%20%5B-2.87922%2C%20-52.0088%5D%2C%20%5B-7.0983%2C%20-49.9437%5D%2C%20%5B0.901357%2C%20-52.0036%5D%2C%20%5B2.05267%2C%20-50.7957%5D%2C%20%5B0.777424%2C%20-51.9503%5D%2C%20%5B2.50475%2C%20-50.9512%5D%2C%20%5B0.9707610000000001%2C%20-50.8005%5D%2C%20%5B0.8572559999999999%2C%20-51.1795%5D%2C%20%5B0.6021850000000001%2C%20-50.6996%5D%2C%20%5B-0.8049109999999999%2C%20-52.453%5D%2C%20%5B0.034934%2C%20-51.0694%5D%2C%20%5B-0.11335999999999999%2C%20-51.2891%5D%2C%20%5B3.8407400000000003%2C%20-51.8331%5D%2C%20%5B0.71243%2C%20-51.4155%5D%2C%20%5B1.74543%2C%20-50.7892%5D%2C%20%5B-0.045433999999999995%2C%20-51.1729%5D%2C%20%5B1.50652%2C%20-50.9087%5D%2C%20%5B-0.938%2C%20-52.424%5D%2C%20%5B-9.62101%2C%20-49.1518%5D%2C%20%5B-6.5540899999999995%2C%20-47.4702%5D%2C%20%5B-11.3056%2C%20-48.9361%5D%2C%20%5B-11.5706%2C%20-47.1792%5D%2C%20%5B-12.4785%2C%20-49.1249%5D%2C%20%5B-6.36437%2C%20-48.0735%5D%2C%20%5B-6.39179%2C%20-47.8611%5D%2C%20%5B-9.94139%2C%20-47.9638%5D%2C%20%5B-7.16005%2C%20-48.5291%5D%2C%20%5B-8.80755%2C%20-49.5569%5D%2C%20%5B-12.9289%2C%20-49.8231%5D%2C%20%5B-7.19238%2C%20-48.2044%5D%2C%20%5B-6.58225%2C%20-48.6395%5D%2C%20%5B-5.64659%2C%20-48.1232%5D%2C%20%5B-7.65463%2C%20-49.0637%5D%2C%20%5B-12.9287%2C%20-46.9359%5D%2C%20%5B-5.46863%2C%20-47.8863%5D%2C%20%5B-12.7105%2C%20-46.4076%5D%2C%20%5B-5.61275%2C%20-47.7701%5D%2C%20%5B-7.209230000000001%2C%20-47.7613%5D%2C%20%5B-7.75612%2C%20-48.5836%5D%2C%20%5B-7.695930000000001%2C%20-47.6776%5D%2C%20%5B-9.83404%2C%20-48.7252%5D%2C%20%5B-7.874810000000001%2C%20-48.8893%5D%2C%20%5B-8.96306%2C%20-48.165%5D%2C%20%5B-8.38918%2C%20-48.4822%5D%2C%20%5B-11.0058%2C%20-48.5683%5D%2C%20%5B-5.3144800000000005%2C%20-48.2271%5D%2C%20%5B-6.1156%2C%20-47.9234%5D%2C%20%5B-7.989560000000001%2C%20-46.8645%5D%2C%20%5B-11.8881%2C%20-49.1609%5D%2C%20%5B-7.03262%2C%20-48.3978%5D%2C%20%5B-5.31415%2C%20-48.0314%5D%2C%20%5B-9.27612%2C%20-49.9521%5D%2C%20%5B-8.961030000000001%2C%20-47.3304%5D%2C%20%5B-10.1419%2C%20-49.1403%5D%2C%20%5B-11.6175%2C%20-47.7486%5D%2C%20%5B-8.05764%2C%20-48.4757%5D%2C%20%5B-12.7917%2C%20-46.5388%5D%2C%20%5B-12.2209%2C%20-47.2951%5D%2C%20%5B-8.28411%2C%20-49.2473%5D%2C%20%5B-10.5985%2C%20-49.1942%5D%2C%20%5B-11.0994%2C%20-48.9152%5D%2C%20%5B-6.715910000000001%2C%20-47.7597%5D%2C%20%5B-11.624%2C%20-46.8198%5D%2C%20%5B-9.800180000000001%2C%20-49.2169%5D%2C%20%5B-9.255339999999999%2C%20-49.0638%5D%2C%20%5B-11.3416%2C%20-49.2716%5D%2C%20%5B-5.3659300000000005%2C%20-48.5378%5D%2C%20%5B-10.7603%2C%20-48.9076%5D%2C%20%5B-12.1312%2C%20-49.1748%5D%2C%20%5B-7.3350100000000005%2C%20-47.4954%5D%2C%20%5B-11.7976%2C%20-49.5316%5D%2C%20%5B-9.05611%2C%20-48.5206%5D%2C%20%5B-8.77413%2C%20-48.9313%5D%2C%20%5B-7.71478%2C%20-47.3252%5D%2C%20%5B-8.83543%2C%20-48.5114%5D%2C%20%5B-11.7279%2C%20-49.068000000000005%5D%2C%20%5B-11.2329%2C%20-48.46%5D%2C%20%5B-8.39293%2C%20-47.7726%5D%2C%20%5B-5.77267%2C%20-47.4864%5D%2C%20%5B-8.37982%2C%20-48.1072%5D%2C%20%5B-8.57172%2C%20-48.6895%5D%2C%20%5B-12.6509%2C%20-48.589%5D%2C%20%5B-8.11951%2C%20-49.0643%5D%2C%20%5B-10.7906%2C%20-49.6199%5D%2C%20%5B-10.368%2C%20-47.538000000000004%5D%2C%20%5B-9.74996%2C%20-48.3565%5D%2C%20%5B-12.7847%2C%20-46.5099%5D%2C%20%5B-9.590019999999999%2C%20-46.6738%5D%2C%20%5B-6.17794%2C%20-47.8582%5D%2C%20%5B-9.79377%2C%20-49.6553%5D%2C%20%5B-10.5464%2C%20-46.4168%5D%2C%20%5B-5.95169%2C%20-47.5125%5D%2C%20%5B-9.565560000000001%2C%20-48.393%5D%2C%20%5B-9.529069999999999%2C%20-48.5922%5D%2C%20%5B-10.7611%2C%20-48.1114%5D%2C%20%5B-10.0075%2C%20-48.9941%5D%2C%20%5B-6.61658%2C%20-47.5464%5D%2C%20%5B-7.1466899999999995%2C%20-48.6091%5D%2C%20%5B-11.7034%2C%20-47.7223%5D%2C%20%5B-6.37496%2C%20-47.6643%5D%2C%20%5B-7.631710000000001%2C%20-48.4252%5D%2C%20%5B-10.5651%2C%20-48.9125%5D%2C%20%5B-9.97063%2C%20-47.6785%5D%2C%20%5B-12.9217%2C%20-46.5713%5D%2C%20%5B-11.825999999999999%2C%20-46.6325%5D%2C%20%5B-10.707%2C%20-48.9086%5D%2C%20%5B-7.847860000000001%2C%20-47.9242%5D%2C%20%5B-13.0447%2C%20-48.4026%5D%2C%20%5B-10.175%2C%20-48.8823%5D%2C%20%5B-12.6167%2C%20-47.8734%5D%2C%20%5B-7.53919%2C%20-49.367%5D%2C%20%5B-8.97034%2C%20-48.1729%5D%2C%20%5B-12.0254%2C%20-48.5395%5D%2C%20%5B-8.5932%2C%20-48.9327%5D%2C%20%5B-8.72463%2C%20-48.7638%5D%2C%20%5B-11.1311%2C%20-47.5726%5D%2C%20%5B-6.77302%2C%20-48.2958%5D%2C%20%5B-10.442%2C%20-49.1876%5D%2C%20%5B-12.0853%2C%20-46.4825%5D%2C%20%5B-10.7481%2C%20-47.5276%5D%2C%20%5B-11.618%2C%20-47.0621%5D%2C%20%5B-10.7027%2C%20-48.408%5D%2C%20%5B-5.39281%2C%20-47.8111%5D%2C%20%5B-8.5406%2C%20-48.5062%5D%2C%20%5B-10.424000000000001%2C%20-48.8957%5D%2C%20%5B-8.7227%2C%20-47.2421%5D%2C%20%5B-6.44005%2C%20-48.1371%5D%2C%20%5B-11.3949%2C%20-46.8847%5D%2C%20%5B-9.34425%2C%20-48.5245%5D%2C%20%5B-9.350019999999999%2C%20-47.888000000000005%5D%2C%20%5B-5.35423%2C%20-47.8782%5D%2C%20%5B-12.538%2C%20-49.9242%5D%2C%20%5B-7.15803%2C%20-48.7165%5D%2C%20%5B-8.8046%2C%20-47.7887%5D%2C%20%5B-10.8617%2C%20-48.9161%5D%2C%20%5B-11.4474%2C%20-48.1216%5D%2C%20%5B-10.2746%2C%20-47.8033%5D%2C%20%5B-6.444380000000001%2C%20-47.6684%5D%2C%20%5B-6.0258%2C%20-47.9012%5D%2C%20%5B-10.1615%2C%20-46.6618%5D%2C%20%5B-5.56305%2C%20-47.5743%5D%2C%20%5B-12.7458%2C%20-48.2352%5D%2C%20%5B-5.26131%2C%20-48.2021%5D%2C%20%5B-11.9743%2C%20-48.2353%5D%2C%20%5B-11.1471%2C%20-48.1694%5D%2C%20%5B-5.6012%2C%20-47.6381%5D%2C%20%5B-11.993%2C%20-48.9685%5D%2C%20%5B-12.4026%2C%20-46.437%5D%2C%20%5B-12.1873%2C%20-46.9797%5D%2C%20%5B-12.7949%2C%20-49.0896%5D%2C%20%5B-10.24%2C%20-48.3558%5D%2C%20%5B-9.5632%2C%20-48.3741%5D%2C%20%5B-6.32447%2C%20-47.4224%5D%2C%20%5B-8.971680000000001%2C%20-48.1883%5D%2C%20%5B-8.393880000000001%2C%20-48.1277%5D%2C%20%5B-6.85274%2C%20-47.9601%5D%2C%20%5B-6.4141%2C%20-48.532%5D%5D%2C%0A%20%20%20%20%20%20%20%20%20%20%20%20%20%20%20%20%7B%22blur%22%3A%2015%2C%20%22maxZoom%22%3A%2018%2C%20%22minOpacity%22%3A%200.5%2C%20%22radius%22%3A%2025%7D%0A%20%20%20%20%20%20%20%20%20%20%20%20%29.addTo%28map_c1d1be5613664d8ea852dbee6e7f757c%29%3B%0A%20%20%20%20%20%20%20%20%0A%20%20%20%20%0A%20%20%20%20%20%20%20%20%20%20%20%20var%20heat_map_6ce98fb6a62c4f9db6187e7593f0c4d1%20%3D%20L.heatLayer%28%0A%20%20%20%20%20%20%20%20%20%20%20%20%20%20%20%20%5B%5B-9.86215%2C%20-62.1876%5D%2C%20%5B-6.65677%2C%20-69.8662%5D%2C%20%5B-3.4843800000000003%2C%20-66.0718%5D%2C%20%5B-2.75814%2C%20-66.7595%5D%2C%20%5B-3.29066%2C%20-60.6216%5D%2C%20%5B-7.71311%2C%20-66.992%5D%2C%20%5B-5.62085%2C%20-63.1808%5D%2C%20%5B2.43998%2C%20-60.9096%5D%2C%20%5B-0.154874%2C%20-50.3861%5D%2C%20%5B-1.36391%2C%20-48.3743%5D%2C%20%5B-1.6803599999999999%2C%20-50.4791%5D%2C%20%5B-1.8117900000000002%2C%20-49.7952%5D%2C%20%5B-0.733214%2C%20-47.8515%5D%2C%20%5B-6.10389%2C%20-49.3553%5D%2C%20%5B-3.8433800000000002%2C%20-49.0974%5D%2C%20%5B-2.55992%2C%20-47.5059%5D%2C%20%5B-1.36002%2C%20-48.3421%5D%2C%20%5B-1.59772%2C%20-46.9268%5D%2C%20%5B-1.93639%2C%20-50.8194%5D%2C%20%5B-1.74691%2C%20-52.2361%5D%2C%20%5B-1.1921899999999999%2C%20-48.238%5D%2C%20%5B-0.73032%2C%20-48.5015%5D%2C%20%5B-3.7500699999999996%2C%20-47.4892%5D%2C%20%5B0.901357%2C%20-52.0036%5D%2C%20%5B-11.0994%2C%20-48.9152%5D%2C%20%5B-9.529069999999999%2C%20-48.5922%5D%2C%20%5B-12.538%2C%20-49.9242%5D%2C%20%5B-9.81528%2C%20-67.955%5D%2C%20%5B-5.12593%2C%20-60.3732%5D%2C%20%5B-2.99609%2C%20-65.1133%5D%2C%20%5B-1.8117900000000002%2C%20-49.7952%5D%2C%20%5B-1.1921899999999999%2C%20-48.238%5D%2C%20%5B-6.39471%2C%20-48.5592%5D%2C%20%5B-11.029000000000002%2C%20-62.6696%5D%2C%20%5B-9.81528%2C%20-67.955%5D%2C%20%5B-7.738639999999999%2C%20-72.661%5D%2C%20%5B2.60994%2C%20-60.6058%5D%2C%20%5B-0.154874%2C%20-50.3861%5D%2C%20%5B-6.79053%2C%20-50.4791%5D%2C%20%5B-1.75974%2C%20-46.5459%5D%2C%20%5B-7.810969999999999%2C%20-50.7698%5D%2C%20%5B-1.8117900000000002%2C%20-49.7952%5D%2C%20%5B-0.73032%2C%20-48.5015%5D%2C%20%5B-7.695930000000001%2C%20-47.6776%5D%2C%20%5B-6.715910000000001%2C%20-47.7597%5D%5D%2C%0A%20%20%20%20%20%20%20%20%20%20%20%20%20%20%20%20%7B%22blur%22%3A%2015%2C%20%22maxZoom%22%3A%2018%2C%20%22minOpacity%22%3A%200.5%2C%20%22radius%22%3A%2025%7D%0A%20%20%20%20%20%20%20%20%20%20%20%20%29.addTo%28map_c1d1be5613664d8ea852dbee6e7f757c%29%3B%0A%20%20%20%20%20%20%20%20%0A%3C/script%3E onload=\"this.contentDocument.open();this.contentDocument.write(    decodeURIComponent(this.getAttribute('data-html')));this.contentDocument.close();\" allowfullscreen webkitallowfullscreen mozallowfullscreen></iframe></div></div>"
      ],
      "text/plain": [
       "<folium.folium.Map at 0x7fe5816221d0>"
      ]
     },
     "execution_count": 72,
     "metadata": {},
     "output_type": "execute_result"
    }
   ],
   "source": [
    "# Adicionando os registros no mapa de calor:\n",
    "from folium import plugins\n",
    "\n",
    "mapa.add_child(plugins.HeatMap(coordenadas))        \n",
    "mapa"
   ]
  },
  {
   "cell_type": "markdown",
   "metadata": {},
   "source": [
    "#### Municipios com aplicação de segunda dose entre < 50%"
   ]
  },
  {
   "cell_type": "code",
   "execution_count": 73,
   "metadata": {},
   "outputs": [],
   "source": [
    "df_municipios_2d_50 = df_vacinas[df_vacinas['CV_SCR2 (15 meses)'] < 50]"
   ]
  },
  {
   "cell_type": "code",
   "execution_count": 74,
   "metadata": {},
   "outputs": [
    {
     "data": {
      "text/plain": [
       "(151, 29)"
      ]
     },
     "execution_count": 74,
     "metadata": {},
     "output_type": "execute_result"
    }
   ],
   "source": [
    "df_municipios_2d_50.shape"
   ]
  },
  {
   "cell_type": "code",
   "execution_count": 75,
   "metadata": {},
   "outputs": [],
   "source": [
    "# Merge dataset vacinas e geolocalização\n",
    "df_municipios_2d_50 = pd.merge(df_municipios_2d_50, df_municipios, how='left', left_on='CODMUN7', right_on='codigo_ibge')"
   ]
  },
  {
   "cell_type": "code",
   "execution_count": 76,
   "metadata": {},
   "outputs": [],
   "source": [
    "# Extraindo as coordenadas\n",
    "coordenadas=[]\n",
    "for lat,lng in zip(df_municipios_2d_50.latitude.values,df_municipios_2d_50.longitude.values):\n",
    "  coordenadas.append([lat,lng])"
   ]
  },
  {
   "cell_type": "code",
   "execution_count": 77,
   "metadata": {},
   "outputs": [
    {
     "data": {
      "text/html": [
       "<div style=\"width:100%;\"><div style=\"position:relative;width:100%;height:0;padding-bottom:60%;\"><span style=\"color:#565656\">Make this Notebook Trusted to load map: File -> Trust Notebook</span><iframe src=\"about:blank\" style=\"position:absolute;width:100%;height:100%;left:0;top:0;border:none !important;\" data-html=%3C%21DOCTYPE%20html%3E%0A%3Chead%3E%20%20%20%20%0A%20%20%20%20%3Cmeta%20http-equiv%3D%22content-type%22%20content%3D%22text/html%3B%20charset%3DUTF-8%22%20/%3E%0A%20%20%20%20%0A%20%20%20%20%20%20%20%20%3Cscript%3E%0A%20%20%20%20%20%20%20%20%20%20%20%20L_NO_TOUCH%20%3D%20false%3B%0A%20%20%20%20%20%20%20%20%20%20%20%20L_DISABLE_3D%20%3D%20false%3B%0A%20%20%20%20%20%20%20%20%3C/script%3E%0A%20%20%20%20%0A%20%20%20%20%3Cstyle%3Ehtml%2C%20body%20%7Bwidth%3A%20100%25%3Bheight%3A%20100%25%3Bmargin%3A%200%3Bpadding%3A%200%3B%7D%3C/style%3E%0A%20%20%20%20%3Cstyle%3E%23map%20%7Bposition%3Aabsolute%3Btop%3A0%3Bbottom%3A0%3Bright%3A0%3Bleft%3A0%3B%7D%3C/style%3E%0A%20%20%20%20%3Cscript%20src%3D%22https%3A//cdn.jsdelivr.net/npm/leaflet%401.6.0/dist/leaflet.js%22%3E%3C/script%3E%0A%20%20%20%20%3Cscript%20src%3D%22https%3A//code.jquery.com/jquery-1.12.4.min.js%22%3E%3C/script%3E%0A%20%20%20%20%3Cscript%20src%3D%22https%3A//maxcdn.bootstrapcdn.com/bootstrap/3.2.0/js/bootstrap.min.js%22%3E%3C/script%3E%0A%20%20%20%20%3Cscript%20src%3D%22https%3A//cdnjs.cloudflare.com/ajax/libs/Leaflet.awesome-markers/2.0.2/leaflet.awesome-markers.js%22%3E%3C/script%3E%0A%20%20%20%20%3Clink%20rel%3D%22stylesheet%22%20href%3D%22https%3A//cdn.jsdelivr.net/npm/leaflet%401.6.0/dist/leaflet.css%22/%3E%0A%20%20%20%20%3Clink%20rel%3D%22stylesheet%22%20href%3D%22https%3A//maxcdn.bootstrapcdn.com/bootstrap/3.2.0/css/bootstrap.min.css%22/%3E%0A%20%20%20%20%3Clink%20rel%3D%22stylesheet%22%20href%3D%22https%3A//maxcdn.bootstrapcdn.com/bootstrap/3.2.0/css/bootstrap-theme.min.css%22/%3E%0A%20%20%20%20%3Clink%20rel%3D%22stylesheet%22%20href%3D%22https%3A//maxcdn.bootstrapcdn.com/font-awesome/4.6.3/css/font-awesome.min.css%22/%3E%0A%20%20%20%20%3Clink%20rel%3D%22stylesheet%22%20href%3D%22https%3A//cdnjs.cloudflare.com/ajax/libs/Leaflet.awesome-markers/2.0.2/leaflet.awesome-markers.css%22/%3E%0A%20%20%20%20%3Clink%20rel%3D%22stylesheet%22%20href%3D%22https%3A//cdn.jsdelivr.net/gh/python-visualization/folium/folium/templates/leaflet.awesome.rotate.min.css%22/%3E%0A%20%20%20%20%0A%20%20%20%20%20%20%20%20%20%20%20%20%3Cmeta%20name%3D%22viewport%22%20content%3D%22width%3Ddevice-width%2C%0A%20%20%20%20%20%20%20%20%20%20%20%20%20%20%20%20initial-scale%3D1.0%2C%20maximum-scale%3D1.0%2C%20user-scalable%3Dno%22%20/%3E%0A%20%20%20%20%20%20%20%20%20%20%20%20%3Cstyle%3E%0A%20%20%20%20%20%20%20%20%20%20%20%20%20%20%20%20%23map_c1d1be5613664d8ea852dbee6e7f757c%20%7B%0A%20%20%20%20%20%20%20%20%20%20%20%20%20%20%20%20%20%20%20%20position%3A%20relative%3B%0A%20%20%20%20%20%20%20%20%20%20%20%20%20%20%20%20%20%20%20%20width%3A%20100.0%25%3B%0A%20%20%20%20%20%20%20%20%20%20%20%20%20%20%20%20%20%20%20%20height%3A%20100.0%25%3B%0A%20%20%20%20%20%20%20%20%20%20%20%20%20%20%20%20%20%20%20%20left%3A%200.0%25%3B%0A%20%20%20%20%20%20%20%20%20%20%20%20%20%20%20%20%20%20%20%20top%3A%200.0%25%3B%0A%20%20%20%20%20%20%20%20%20%20%20%20%20%20%20%20%7D%0A%20%20%20%20%20%20%20%20%20%20%20%20%3C/style%3E%0A%20%20%20%20%20%20%20%20%0A%20%20%20%20%3Cscript%20src%3D%22https%3A//cdn.jsdelivr.net/gh/python-visualization/folium%40master/folium/templates/leaflet_heat.min.js%22%3E%3C/script%3E%0A%3C/head%3E%0A%3Cbody%3E%20%20%20%20%0A%20%20%20%20%0A%20%20%20%20%20%20%20%20%20%20%20%20%3Cdiv%20class%3D%22folium-map%22%20id%3D%22map_c1d1be5613664d8ea852dbee6e7f757c%22%20%3E%3C/div%3E%0A%20%20%20%20%20%20%20%20%0A%3C/body%3E%0A%3Cscript%3E%20%20%20%20%0A%20%20%20%20%0A%20%20%20%20%20%20%20%20%20%20%20%20var%20map_c1d1be5613664d8ea852dbee6e7f757c%20%3D%20L.map%28%0A%20%20%20%20%20%20%20%20%20%20%20%20%20%20%20%20%22map_c1d1be5613664d8ea852dbee6e7f757c%22%2C%0A%20%20%20%20%20%20%20%20%20%20%20%20%20%20%20%20%7B%0A%20%20%20%20%20%20%20%20%20%20%20%20%20%20%20%20%20%20%20%20center%3A%20%5B-15.788497%2C%20-47.879873%5D%2C%0A%20%20%20%20%20%20%20%20%20%20%20%20%20%20%20%20%20%20%20%20crs%3A%20L.CRS.EPSG3857%2C%0A%20%20%20%20%20%20%20%20%20%20%20%20%20%20%20%20%20%20%20%20zoom%3A%204.5%2C%0A%20%20%20%20%20%20%20%20%20%20%20%20%20%20%20%20%20%20%20%20zoomControl%3A%20true%2C%0A%20%20%20%20%20%20%20%20%20%20%20%20%20%20%20%20%20%20%20%20preferCanvas%3A%20false%2C%0A%20%20%20%20%20%20%20%20%20%20%20%20%20%20%20%20%7D%0A%20%20%20%20%20%20%20%20%20%20%20%20%29%3B%0A%0A%20%20%20%20%20%20%20%20%20%20%20%20%0A%0A%20%20%20%20%20%20%20%20%0A%20%20%20%20%0A%20%20%20%20%20%20%20%20%20%20%20%20var%20tile_layer_30341c59551645a191a476e7907cbbb2%20%3D%20L.tileLayer%28%0A%20%20%20%20%20%20%20%20%20%20%20%20%20%20%20%20%22https%3A//stamen-tiles-%7Bs%7D.a.ssl.fastly.net/toner/%7Bz%7D/%7Bx%7D/%7By%7D.png%22%2C%0A%20%20%20%20%20%20%20%20%20%20%20%20%20%20%20%20%7B%22attribution%22%3A%20%22Map%20tiles%20by%20%5Cu003ca%20href%3D%5C%22http%3A//stamen.com%5C%22%5Cu003eStamen%20Design%5Cu003c/a%5Cu003e%2C%20under%20%5Cu003ca%20href%3D%5C%22http%3A//creativecommons.org/licenses/by/3.0%5C%22%5Cu003eCC%20BY%203.0%5Cu003c/a%5Cu003e.%20Data%20by%20%5Cu0026copy%3B%20%5Cu003ca%20href%3D%5C%22http%3A//openstreetmap.org%5C%22%5Cu003eOpenStreetMap%5Cu003c/a%5Cu003e%2C%20under%20%5Cu003ca%20href%3D%5C%22http%3A//www.openstreetmap.org/copyright%5C%22%5Cu003eODbL%5Cu003c/a%5Cu003e.%22%2C%20%22detectRetina%22%3A%20false%2C%20%22maxNativeZoom%22%3A%2018%2C%20%22maxZoom%22%3A%2018%2C%20%22minZoom%22%3A%200%2C%20%22noWrap%22%3A%20false%2C%20%22opacity%22%3A%201%2C%20%22subdomains%22%3A%20%22abc%22%2C%20%22tms%22%3A%20false%7D%0A%20%20%20%20%20%20%20%20%20%20%20%20%29.addTo%28map_c1d1be5613664d8ea852dbee6e7f757c%29%3B%0A%20%20%20%20%20%20%20%20%0A%20%20%20%20%0A%20%20%20%20%20%20%20%20%20%20%20%20var%20heat_map_b8b54a7eb2d54d76be9ad9f544d1b231%20%3D%20L.heatLayer%28%0A%20%20%20%20%20%20%20%20%20%20%20%20%20%20%20%20%5B%5B-11.9283%2C%20-61.9953%5D%2C%20%5B-9.905710000000001%2C%20-63.0325%5D%2C%20%5B-13.4945%2C%20-60.552%5D%2C%20%5B-11.4343%2C%20-61.4562%5D%2C%20%5B-13.187000000000001%2C%20-60.8168%5D%2C%20%5B-13.1174%2C%20-60.5454%5D%2C%20%5B-12.9551%2C%20-60.8947%5D%2C%20%5B-12.4367%2C%20-64.22800000000001%5D%2C%20%5B-11.5266%2C%20-61.0252%5D%2C%20%5B-10.7889%2C%20-65.3296%5D%2C%20%5B-10.4318%2C%20-62.4788%5D%2C%20%5B-10.8777%2C%20-61.9322%5D%2C%20%5B-9.44363%2C%20-61.9818%5D%2C%20%5B-11.7247%2C%20-62.3127%5D%2C%20%5B-10.7167%2C%20-62.2565%5D%2C%20%5B-11.672%2C%20-61.198%5D%2C%20%5B-8.760769999999999%2C%20-63.8999%5D%2C%20%5B-11.169%2C%20-61.8986%5D%2C%20%5B-9.69965%2C%20-62.9011%5D%2C%20%5B-11.7271%2C%20-61.7714%5D%2C%20%5B-11.9074%2C%20-61.7777%5D%2C%20%5B-12.7502%2C%20-60.1488%5D%2C%20%5B-11.6953%2C%20-62.7192%5D%2C%20%5B-10.4077%2C%20-65.3346%5D%2C%20%5B-11.3463%2C%20-62.2847%5D%2C%20%5B-12.132%2C%20-61.835%5D%2C%20%5B-9.71429%2C%20-63.3188%5D%2C%20%5B-10.1943%2C%20-63.8324%5D%2C%20%5B-11.6961%2C%20-61.9951%5D%2C%20%5B-10.349%2C%20-62.9043%5D%2C%20%5B-10.5712%2C%20-63.6266%5D%2C%20%5B-8.7907%2C%20-63.7005%5D%2C%20%5B-11.4253%2C%20-61.9482%5D%2C%20%5B-12.5611%2C%20-60.8877%5D%2C%20%5B-9.36065%2C%20-62.5846%5D%2C%20%5B-10.61%2C%20-62.7371%5D%2C%20%5B-9.19687%2C%20-63.1809%5D%2C%20%5B-11.196%2C%20-61.5174%5D%2C%20%5B-11.029000000000002%2C%20-62.6696%5D%2C%20%5B-10.2458%2C%20-63.29%5D%2C%20%5B-10.9068%2C%20-62.5564%5D%2C%20%5B-12.1754%2C%20-61.6032%5D%2C%20%5B-13.4823%2C%20-61.0471%5D%2C%20%5B-11.8295%2C%20-61.3153%5D%2C%20%5B-11.9023%2C%20-61.5026%5D%2C%20%5B-12.052%2C%20-63.568000000000005%5D%2C%20%5B-11.8055%2C%20-63.0182%5D%2C%20%5B-10.9056%2C%20-62.242%5D%2C%20%5B-10.2483%2C%20-62.3538%5D%2C%20%5B-11.1261%2C%20-62.3639%5D%2C%20%5B-9.86215%2C%20-62.1876%5D%2C%20%5B-10.4465%2C%20-62.1352%5D%2C%20%5B-9.82581%2C%20-66.8972%5D%2C%20%5B-10.9298%2C%20-69.5738%5D%2C%20%5B-10.995%2C%20-68.7497%5D%2C%20%5B-9.81528%2C%20-67.955%5D%2C%20%5B-10.565999999999999%2C%20-67.686%5D%2C%20%5B-7.627619999999999%2C%20-72.6756%5D%2C%20%5B-11.0188%2C%20-68.7341%5D%2C%20%5B-8.170539999999999%2C%20-70.351%5D%2C%20%5B-9.43091%2C%20-71.8974%5D%2C%20%5B-7.616569999999999%2C%20-72.8997%5D%2C%20%5B-8.83291%2C%20-69.2679%5D%2C%20%5B-8.93898%2C%20-72.7997%5D%2C%20%5B-10.2806%2C%20-67.1371%5D%2C%20%5B-8.26323%2C%20-72.7537%5D%2C%20%5B-9.97499%2C%20-67.8243%5D%2C%20%5B-7.738639999999999%2C%20-72.661%5D%2C%20%5B-9.44652%2C%20-70.4902%5D%2C%20%5B-10.1497%2C%20-67.7362%5D%2C%20%5B-9.06596%2C%20-68.6571%5D%2C%20%5B-8.15697%2C%20-70.7722%5D%2C%20%5B-10.6516%2C%20-68.4969%5D%2C%20%5B-9.581380000000001%2C%20-67.5478%5D%2C%20%5B-3.22727%2C%20-64.8007%5D%2C%20%5B-3.37455%2C%20-68.2005%5D%2C%20%5B-3.5669699999999995%2C%20-61.3963%5D%2C%20%5B-3.74603%2C%20-61.6575%5D%2C%20%5B-7.194089999999999%2C%20-59.896%5D%2C%20%5B-4.37055%2C%20-70.1967%5D%2C%20%5B-3.58574%2C%20-59.1256%5D%2C%20%5B-0.9833729999999999%2C%20-62.9311%5D%2C%20%5B-2.79886%2C%20-57.0679%5D%2C%20%5B-4.377680000000001%2C%20-70.0342%5D%2C%20%5B-3.89874%2C%20-61.3616%5D%2C%20%5B-2.9740900000000003%2C%20-57.5873%5D%2C%20%5B-8.74232%2C%20-67.3919%5D%2C%20%5B-4.39154%2C%20-59.5874%5D%2C%20%5B-3.3153699999999997%2C%20-61.2206%5D%2C%20%5B-6.5258199999999995%2C%20-64.3953%5D%2C%20%5B-4.88161%2C%20-66.9086%5D%2C%20%5B-3.7680300000000004%2C%20-60.369%5D%2C%20%5B-3.3139999999999996%2C%20-59.5557%5D%2C%20%5B-4.094119999999999%2C%20-63.1441%5D%2C%20%5B-3.8305300000000004%2C%20-62.0658%5D%2C%20%5B-6.65677%2C%20-69.8662%5D%2C%20%5B-7.4378899999999994%2C%20-70.0281%5D%2C%20%5B-2.52342%2C%20-66.0942%5D%2C%20%5B-7.53797%2C%20-72.5907%5D%2C%20%5B-7.511710000000001%2C%20-63.0327%5D%2C%20%5B-7.047910000000001%2C%20-71.6934%5D%2C%20%5B-3.2747900000000003%2C%20-60.19%5D%2C%20%5B-3.13861%2C%20-58.4449%5D%2C%20%5B-6.43852%2C%20-68.2437%5D%2C%20%5B-2.7408099999999997%2C%20-58.0293%5D%2C%20%5B-1.88237%2C%20-66.9291%5D%2C%20%5B-3.4843800000000003%2C%20-66.0718%5D%2C%20%5B-2.75814%2C%20-66.7595%5D%2C%20%5B-7.264130000000001%2C%20-64.7948%5D%2C%20%5B-3.29066%2C%20-60.6216%5D%2C%20%5B-3.44078%2C%20-60.4612%5D%2C%20%5B-3.1186599999999998%2C%20-60.0212%5D%2C%20%5B-5.80462%2C%20-61.2895%5D%2C%20%5B-1.85313%2C%20-65.57300000000001%5D%2C%20%5B-3.39289%2C%20-57.7067%5D%2C%20%5B-2.2079299999999997%2C%20-56.7112%5D%2C%20%5B-3.9003699999999997%2C%20-59.093999999999994%5D%2C%20%5B-2.63637%2C%20-60.9434%5D%2C%20%5B-5.12593%2C%20-60.3732%5D%2C%20%5B-2.63741%2C%20-56.729%5D%2C%20%5B-7.71311%2C%20-66.992%5D%2C%20%5B-2.02981%2C%20-60.0234%5D%2C%20%5B-2.7045%2C%20-59.6858%5D%2C%20%5B-0.41082399999999997%2C%20-65.0092%5D%2C%20%5B-3.09544%2C%20-67.9463%5D%2C%20%5B-0.11909000000000002%2C%20-67.084%5D%2C%20%5B-3.47292%2C%20-68.9646%5D%2C%20%5B-2.55915%2C%20-57.8731%5D%2C%20%5B-2.8174799999999998%2C%20-58.248000000000005%5D%2C%20%5B-4.2416%2C%20-69.9383%5D%2C%20%5B-5.62085%2C%20-63.1808%5D%2C%20%5B-3.3682199999999995%2C%20-64.7193%5D%2C%20%5B-2.8658200000000003%2C%20-67.7919%5D%2C%20%5B-2.99609%2C%20-65.1133%5D%2C%20%5B-2.52936%2C%20-57.7538%5D%2C%20%5B-3.1284099999999997%2C%20-58.1496%5D%2C%20%5B3.64571%2C%20-61.3692%5D%2C%20%5B2.98858%2C%20-61.3072%5D%2C%20%5B2.82384%2C%20-60.6753%5D%2C%20%5B3.3616099999999998%2C%20-59.8333%5D%2C%20%5B2.60994%2C%20-60.6058%5D%2C%20%5B1.8276599999999998%2C%20-61.1304%5D%2C%20%5B0.8842030000000001%2C%20-59.6959%5D%2C%20%5B2.18305%2C%20-61.0415%5D%2C%20%5B2.43998%2C%20-60.9096%5D%2C%20%5B3.8853%2C%20-59.6204%5D%2C%20%5B4.4799%2C%20-61.1477%5D%2C%20%5B0.9399559999999999%2C%20-60.4389%5D%2C%20%5B0.951659%2C%20-59.9133%5D%2C%20%5B1.01019%2C%20-60.0419%5D%2C%20%5B4.60314%2C%20-60.1815%5D%2C%20%5B-1.72183%2C%20-48.8788%5D%2C%20%5B-4.95333%2C%20-48.3933%5D%2C%20%5B-1.95383%2C%20-48.1985%5D%2C%20%5B-0.154874%2C%20-50.3861%5D%2C%20%5B-6.79053%2C%20-50.4791%5D%2C%20%5B-1.94623%2C%20-54.7384%5D%2C%20%5B-1.52904%2C%20-52.5788%5D%2C%20%5B-3.20407%2C%20-52.21%5D%2C%20%5B-0.9968110000000001%2C%20-49.9354%5D%2C%20%5B-1.36391%2C%20-48.3743%5D%2C%20%5B-3.46985%2C%20-51.2003%5D%2C%20%5B-1.0510899999999999%2C%20-46.6147%5D%2C%20%5B-2.14898%2C%20-47.5677%5D%2C%20%5B-3.6084099999999997%2C%20-55.3199%5D%2C%20%5B-1.90057%2C%20-50.1987%5D%2C%20%5B-2.7902099999999996%2C%20-49.6694%5D%2C%20%5B-7.34779%2C%20-50.3959%5D%2C%20%5B-1.51187%2C%20-48.6195%5D%2C%20%5B-1.4554%2C%20-48.4898%5D%2C%20%5B-2.6360900000000003%2C%20-54.9374%5D%2C%20%5B-1.3618299999999999%2C%20-48.2434%5D%2C%20%5B-5.0424%2C%20-48.6047%5D%2C%20%5B-1.36745%2C%20-47.3066%5D%2C%20%5B-1.06126%2C%20-46.7826%5D%2C%20%5B-3.2979199999999995%2C%20-52.534%5D%2C%20%5B-5.69822%2C%20-48.4103%5D%2C%20%5B-3.7719099999999997%2C%20-49.5735%5D%2C%20%5B-1.6803599999999999%2C%20-50.4791%5D%2C%20%5B-1.51762%2C%20-48.0381%5D%2C%20%5B-1.75974%2C%20-46.5459%5D%2C%20%5B-1.01226%2C%20-48.9503%5D%2C%20%5B-2.24295%2C%20-49.4979%5D%2C%20%5B-6.49659%2C%20-49.8776%5D%2C%20%5B-1.20529%2C%20-47.1778%5D%2C%20%5B-1.74785%2C%20-47.0629%5D%2C%20%5B-1.29797%2C%20-47.9167%5D%2C%20%5B-0.164154%2C%20-49.986999999999995%5D%2C%20%5B-0.936423%2C%20-48.2803%5D%2C%20%5B-8.26136%2C%20-49.2689%5D%2C%20%5B-1.9923799999999998%2C%20-47.9422%5D%2C%20%5B-7.810969999999999%2C%20-50.7698%5D%2C%20%5B-6.09965%2C%20-49.6068%5D%2C%20%5B-1.8117900000000002%2C%20-49.7952%5D%2C%20%5B-1.88775%2C%20-55.1168%5D%2C%20%5B-0.733214%2C%20-47.8515%5D%2C%20%5B-4.19944%2C%20-47.8245%5D%2C%20%5B-6.10389%2C%20-49.3553%5D%2C%20%5B-2.16805%2C%20-56.7405%5D%2C%20%5B-7.55335%2C%20-49.7125%5D%2C%20%5B-1.92986%2C%20-47.0505%5D%2C%20%5B-3.8433800000000002%2C%20-49.0974%5D%2C%20%5B-1.41412%2C%20-51.6338%5D%2C%20%5B-1.12539%2C%20-47.626000000000005%5D%2C%20%5B-1.97533%2C%20-48.9575%5D%2C%20%5B-1.4349%2C%20-47.9114%5D%2C%20%5B-2.55992%2C%20-47.5059%5D%2C%20%5B-1.76984%2C%20-47.446000000000005%5D%2C%20%5B-4.2667%2C%20-55.9926%5D%2C%20%5B-5.13272%2C%20-49.3358%5D%2C%20%5B-6.21469%2C%20-57.7544%5D%2C%20%5B-4.4461699999999995%2C%20-49.1153%5D%2C%20%5B-2.1634700000000002%2C%20-56.0889%5D%2C%20%5B-1.8985%2C%20-49.3903%5D%2C%20%5B-2.0568299999999997%2C%20-47.5601%5D%2C%20%5B-0.803391%2C%20-47.6014%5D%2C%20%5B-5.38075%2C%20-49.1327%5D%2C%20%5B-0.778899%2C%20-47.452%5D%2C%20%5B-0.7147020000000001%2C%20-47.7034%5D%2C%20%5B-1.36002%2C%20-48.3421%5D%2C%20%5B-3.4463699999999995%2C%20-52.8875%5D%2C%20%5B-1.8032%2C%20-50.7149%5D%2C%20%5B-2.5831%2C%20-49.5042%5D%2C%20%5B-1.8899299999999999%2C%20-48.7668%5D%2C%20%5B-1.99768%2C%20-54.0724%5D%2C%20%5B-1.53936%2C%20-49.2224%5D%2C%20%5B-2.26693%2C%20-46.9731%5D%2C%20%5B-4.91622%2C%20-49.0822%5D%2C%20%5B-1.20874%2C%20-47.3921%5D%2C%20%5B-7.14347%2C%20-55.3786%5D%2C%20%5B-4.24749%2C%20-49.9499%5D%2C%20%5B-1.90107%2C%20-55.5208%5D%2C%20%5B-2.00358%2C%20-49.8628%5D%2C%20%5B-1.7598900000000002%2C%20-55.8579%5D%2C%20%5B-1.54168%2C%20-47.1126%5D%2C%20%5B-6.7529%2C%20-51.0858%5D%2C%20%5B-3.8354199999999996%2C%20-50.6399%5D%2C%20%5B-5.74027%2C%20-48.3181%5D%2C%20%5B-3.00212%2C%20-47.3527%5D%2C%20%5B-6.06781%2C%20-49.9037%5D%2C%20%5B-1.59772%2C%20-46.9268%5D%2C%20%5B-1.19382%2C%20-47.324%5D%2C%20%5B-6.43778%2C%20-48.8716%5D%2C%20%5B-3.8681300000000003%2C%20-54.2124%5D%2C%20%5B-1.3958700000000002%2C%20-48.8661%5D%2C%20%5B-1.93639%2C%20-50.8194%5D%2C%20%5B-1.74691%2C%20-52.2361%5D%2C%20%5B-1.798%2C%20-53.4779%5D%2C%20%5B-0.9454389999999999%2C%20-47.1253%5D%2C%20%5B-0.8996040000000001%2C%20-47.0134%5D%2C%20%5B-8.02529%2C%20-50.0317%5D%2C%20%5B-7.312360000000001%2C%20-50.0379%5D%2C%20%5B-4.7779300000000005%2C%20-48.067%5D%2C%20%5B-4.100280000000001%2C%20-54.9092%5D%2C%20%5B-0.630815%2C%20-47.3465%5D%2C%20%5B-0.758444%2C%20-48.5139%5D%2C%20%5B-1.1921899999999999%2C%20-48.238%5D%2C%20%5B-0.6610189999999999%2C%20-49.1771%5D%2C%20%5B-1.2968600000000001%2C%20-48.1606%5D%2C%20%5B-1.52147%2C%20-46.9008%5D%2C%20%5B-8.85784%2C%20-49.7215%5D%2C%20%5B-1.35392%2C%20-47.5712%5D%2C%20%5B-9.3281%2C%20-50.35%5D%2C%20%5B-2.4384900000000003%2C%20-54.6996%5D%2C%20%5B-0.9309700000000001%2C%20-47.3855%5D%2C%20%5B-1.1522%2C%20-48.1314%5D%2C%20%5B-0.747293%2C%20-48.0246%5D%2C%20%5B-5.537319999999999%2C%20-48.7366%5D%2C%20%5B-1.6876799999999998%2C%20-47.7665%5D%2C%20%5B-6.6425399999999994%2C%20-51.9904%5D%2C%20%5B-1.16963%2C%20-47.7917%5D%2C%20%5B-6.39471%2C%20-48.5592%5D%2C%20%5B-0.857885%2C%20-47.918%5D%2C%20%5B-0.780222%2C%20-47.181000000000004%5D%2C%20%5B-5.36334%2C%20-48.7926%5D%2C%20%5B-1.61307%2C%20-47.4784%5D%2C%20%5B-1.71597%2C%20-49.5249%5D%2C%20%5B-6.940180000000001%2C%20-49.6834%5D%2C%20%5B-4.3124199999999995%2C%20-51.5764%5D%2C%20%5B-0.73032%2C%20-48.5015%5D%2C%20%5B-2.94584%2C%20-48.9489%5D%2C%20%5B-1.0296299999999998%2C%20-47.9004%5D%2C%20%5B-2.10443%2C%20-56.4877%5D%2C%20%5B-2.41302%2C%20-48.1415%5D%2C%20%5B-1.07653%2C%20-46.9031%5D%2C%20%5B-4.5734699999999995%2C%20-55.9429%5D%2C%20%5B-6.7468699999999995%2C%20-51.1626%5D%2C%20%5B-3.7657%2C%20-49.6773%5D%2C%20%5B-3.7500699999999996%2C%20-47.4892%5D%2C%20%5B-3.71519%2C%20-53.7396%5D%2C%20%5B-0.861194%2C%20-48.1386%5D%2C%20%5B-1.1912399999999999%2C%20-46.1399%5D%2C%20%5B-2.87922%2C%20-52.0088%5D%2C%20%5B-7.0983%2C%20-49.9437%5D%2C%20%5B0.901357%2C%20-52.0036%5D%2C%20%5B2.05267%2C%20-50.7957%5D%2C%20%5B0.777424%2C%20-51.9503%5D%2C%20%5B2.50475%2C%20-50.9512%5D%2C%20%5B0.9707610000000001%2C%20-50.8005%5D%2C%20%5B0.8572559999999999%2C%20-51.1795%5D%2C%20%5B0.6021850000000001%2C%20-50.6996%5D%2C%20%5B-0.8049109999999999%2C%20-52.453%5D%2C%20%5B0.034934%2C%20-51.0694%5D%2C%20%5B-0.11335999999999999%2C%20-51.2891%5D%2C%20%5B3.8407400000000003%2C%20-51.8331%5D%2C%20%5B0.71243%2C%20-51.4155%5D%2C%20%5B1.74543%2C%20-50.7892%5D%2C%20%5B-0.045433999999999995%2C%20-51.1729%5D%2C%20%5B1.50652%2C%20-50.9087%5D%2C%20%5B-0.938%2C%20-52.424%5D%2C%20%5B-9.62101%2C%20-49.1518%5D%2C%20%5B-6.5540899999999995%2C%20-47.4702%5D%2C%20%5B-11.3056%2C%20-48.9361%5D%2C%20%5B-11.5706%2C%20-47.1792%5D%2C%20%5B-12.4785%2C%20-49.1249%5D%2C%20%5B-6.36437%2C%20-48.0735%5D%2C%20%5B-6.39179%2C%20-47.8611%5D%2C%20%5B-9.94139%2C%20-47.9638%5D%2C%20%5B-7.16005%2C%20-48.5291%5D%2C%20%5B-8.80755%2C%20-49.5569%5D%2C%20%5B-12.9289%2C%20-49.8231%5D%2C%20%5B-7.19238%2C%20-48.2044%5D%2C%20%5B-6.58225%2C%20-48.6395%5D%2C%20%5B-5.64659%2C%20-48.1232%5D%2C%20%5B-7.65463%2C%20-49.0637%5D%2C%20%5B-12.9287%2C%20-46.9359%5D%2C%20%5B-5.46863%2C%20-47.8863%5D%2C%20%5B-12.7105%2C%20-46.4076%5D%2C%20%5B-5.61275%2C%20-47.7701%5D%2C%20%5B-7.209230000000001%2C%20-47.7613%5D%2C%20%5B-7.75612%2C%20-48.5836%5D%2C%20%5B-7.695930000000001%2C%20-47.6776%5D%2C%20%5B-9.83404%2C%20-48.7252%5D%2C%20%5B-7.874810000000001%2C%20-48.8893%5D%2C%20%5B-8.96306%2C%20-48.165%5D%2C%20%5B-8.38918%2C%20-48.4822%5D%2C%20%5B-11.0058%2C%20-48.5683%5D%2C%20%5B-5.3144800000000005%2C%20-48.2271%5D%2C%20%5B-6.1156%2C%20-47.9234%5D%2C%20%5B-7.989560000000001%2C%20-46.8645%5D%2C%20%5B-11.8881%2C%20-49.1609%5D%2C%20%5B-7.03262%2C%20-48.3978%5D%2C%20%5B-5.31415%2C%20-48.0314%5D%2C%20%5B-9.27612%2C%20-49.9521%5D%2C%20%5B-8.961030000000001%2C%20-47.3304%5D%2C%20%5B-10.1419%2C%20-49.1403%5D%2C%20%5B-11.6175%2C%20-47.7486%5D%2C%20%5B-8.05764%2C%20-48.4757%5D%2C%20%5B-12.7917%2C%20-46.5388%5D%2C%20%5B-12.2209%2C%20-47.2951%5D%2C%20%5B-8.28411%2C%20-49.2473%5D%2C%20%5B-10.5985%2C%20-49.1942%5D%2C%20%5B-11.0994%2C%20-48.9152%5D%2C%20%5B-6.715910000000001%2C%20-47.7597%5D%2C%20%5B-11.624%2C%20-46.8198%5D%2C%20%5B-9.800180000000001%2C%20-49.2169%5D%2C%20%5B-9.255339999999999%2C%20-49.0638%5D%2C%20%5B-11.3416%2C%20-49.2716%5D%2C%20%5B-5.3659300000000005%2C%20-48.5378%5D%2C%20%5B-10.7603%2C%20-48.9076%5D%2C%20%5B-12.1312%2C%20-49.1748%5D%2C%20%5B-7.3350100000000005%2C%20-47.4954%5D%2C%20%5B-11.7976%2C%20-49.5316%5D%2C%20%5B-9.05611%2C%20-48.5206%5D%2C%20%5B-8.77413%2C%20-48.9313%5D%2C%20%5B-7.71478%2C%20-47.3252%5D%2C%20%5B-8.83543%2C%20-48.5114%5D%2C%20%5B-11.7279%2C%20-49.068000000000005%5D%2C%20%5B-11.2329%2C%20-48.46%5D%2C%20%5B-8.39293%2C%20-47.7726%5D%2C%20%5B-5.77267%2C%20-47.4864%5D%2C%20%5B-8.37982%2C%20-48.1072%5D%2C%20%5B-8.57172%2C%20-48.6895%5D%2C%20%5B-12.6509%2C%20-48.589%5D%2C%20%5B-8.11951%2C%20-49.0643%5D%2C%20%5B-10.7906%2C%20-49.6199%5D%2C%20%5B-10.368%2C%20-47.538000000000004%5D%2C%20%5B-9.74996%2C%20-48.3565%5D%2C%20%5B-12.7847%2C%20-46.5099%5D%2C%20%5B-9.590019999999999%2C%20-46.6738%5D%2C%20%5B-6.17794%2C%20-47.8582%5D%2C%20%5B-9.79377%2C%20-49.6553%5D%2C%20%5B-10.5464%2C%20-46.4168%5D%2C%20%5B-5.95169%2C%20-47.5125%5D%2C%20%5B-9.565560000000001%2C%20-48.393%5D%2C%20%5B-9.529069999999999%2C%20-48.5922%5D%2C%20%5B-10.7611%2C%20-48.1114%5D%2C%20%5B-10.0075%2C%20-48.9941%5D%2C%20%5B-6.61658%2C%20-47.5464%5D%2C%20%5B-7.1466899999999995%2C%20-48.6091%5D%2C%20%5B-11.7034%2C%20-47.7223%5D%2C%20%5B-6.37496%2C%20-47.6643%5D%2C%20%5B-7.631710000000001%2C%20-48.4252%5D%2C%20%5B-10.5651%2C%20-48.9125%5D%2C%20%5B-9.97063%2C%20-47.6785%5D%2C%20%5B-12.9217%2C%20-46.5713%5D%2C%20%5B-11.825999999999999%2C%20-46.6325%5D%2C%20%5B-10.707%2C%20-48.9086%5D%2C%20%5B-7.847860000000001%2C%20-47.9242%5D%2C%20%5B-13.0447%2C%20-48.4026%5D%2C%20%5B-10.175%2C%20-48.8823%5D%2C%20%5B-12.6167%2C%20-47.8734%5D%2C%20%5B-7.53919%2C%20-49.367%5D%2C%20%5B-8.97034%2C%20-48.1729%5D%2C%20%5B-12.0254%2C%20-48.5395%5D%2C%20%5B-8.5932%2C%20-48.9327%5D%2C%20%5B-8.72463%2C%20-48.7638%5D%2C%20%5B-11.1311%2C%20-47.5726%5D%2C%20%5B-6.77302%2C%20-48.2958%5D%2C%20%5B-10.442%2C%20-49.1876%5D%2C%20%5B-12.0853%2C%20-46.4825%5D%2C%20%5B-10.7481%2C%20-47.5276%5D%2C%20%5B-11.618%2C%20-47.0621%5D%2C%20%5B-10.7027%2C%20-48.408%5D%2C%20%5B-5.39281%2C%20-47.8111%5D%2C%20%5B-8.5406%2C%20-48.5062%5D%2C%20%5B-10.424000000000001%2C%20-48.8957%5D%2C%20%5B-8.7227%2C%20-47.2421%5D%2C%20%5B-6.44005%2C%20-48.1371%5D%2C%20%5B-11.3949%2C%20-46.8847%5D%2C%20%5B-9.34425%2C%20-48.5245%5D%2C%20%5B-9.350019999999999%2C%20-47.888000000000005%5D%2C%20%5B-5.35423%2C%20-47.8782%5D%2C%20%5B-12.538%2C%20-49.9242%5D%2C%20%5B-7.15803%2C%20-48.7165%5D%2C%20%5B-8.8046%2C%20-47.7887%5D%2C%20%5B-10.8617%2C%20-48.9161%5D%2C%20%5B-11.4474%2C%20-48.1216%5D%2C%20%5B-10.2746%2C%20-47.8033%5D%2C%20%5B-6.444380000000001%2C%20-47.6684%5D%2C%20%5B-6.0258%2C%20-47.9012%5D%2C%20%5B-10.1615%2C%20-46.6618%5D%2C%20%5B-5.56305%2C%20-47.5743%5D%2C%20%5B-12.7458%2C%20-48.2352%5D%2C%20%5B-5.26131%2C%20-48.2021%5D%2C%20%5B-11.9743%2C%20-48.2353%5D%2C%20%5B-11.1471%2C%20-48.1694%5D%2C%20%5B-5.6012%2C%20-47.6381%5D%2C%20%5B-11.993%2C%20-48.9685%5D%2C%20%5B-12.4026%2C%20-46.437%5D%2C%20%5B-12.1873%2C%20-46.9797%5D%2C%20%5B-12.7949%2C%20-49.0896%5D%2C%20%5B-10.24%2C%20-48.3558%5D%2C%20%5B-9.5632%2C%20-48.3741%5D%2C%20%5B-6.32447%2C%20-47.4224%5D%2C%20%5B-8.971680000000001%2C%20-48.1883%5D%2C%20%5B-8.393880000000001%2C%20-48.1277%5D%2C%20%5B-6.85274%2C%20-47.9601%5D%2C%20%5B-6.4141%2C%20-48.532%5D%2C%20%5B-11.9283%2C%20-61.9953%5D%2C%20%5B-9.905710000000001%2C%20-63.0325%5D%2C%20%5B-13.4945%2C%20-60.552%5D%2C%20%5B-11.4343%2C%20-61.4562%5D%2C%20%5B-13.187000000000001%2C%20-60.8168%5D%2C%20%5B-13.1174%2C%20-60.5454%5D%2C%20%5B-12.9551%2C%20-60.8947%5D%2C%20%5B-12.4367%2C%20-64.22800000000001%5D%2C%20%5B-11.5266%2C%20-61.0252%5D%2C%20%5B-10.7889%2C%20-65.3296%5D%2C%20%5B-10.4318%2C%20-62.4788%5D%2C%20%5B-10.8777%2C%20-61.9322%5D%2C%20%5B-9.44363%2C%20-61.9818%5D%2C%20%5B-11.7247%2C%20-62.3127%5D%2C%20%5B-10.7167%2C%20-62.2565%5D%2C%20%5B-11.672%2C%20-61.198%5D%2C%20%5B-8.760769999999999%2C%20-63.8999%5D%2C%20%5B-11.169%2C%20-61.8986%5D%2C%20%5B-9.69965%2C%20-62.9011%5D%2C%20%5B-11.7271%2C%20-61.7714%5D%2C%20%5B-11.9074%2C%20-61.7777%5D%2C%20%5B-12.7502%2C%20-60.1488%5D%2C%20%5B-11.6953%2C%20-62.7192%5D%2C%20%5B-10.4077%2C%20-65.3346%5D%2C%20%5B-11.3463%2C%20-62.2847%5D%2C%20%5B-12.132%2C%20-61.835%5D%2C%20%5B-9.71429%2C%20-63.3188%5D%2C%20%5B-10.1943%2C%20-63.8324%5D%2C%20%5B-11.6961%2C%20-61.9951%5D%2C%20%5B-10.349%2C%20-62.9043%5D%2C%20%5B-10.5712%2C%20-63.6266%5D%2C%20%5B-8.7907%2C%20-63.7005%5D%2C%20%5B-11.4253%2C%20-61.9482%5D%2C%20%5B-12.5611%2C%20-60.8877%5D%2C%20%5B-9.36065%2C%20-62.5846%5D%2C%20%5B-10.61%2C%20-62.7371%5D%2C%20%5B-9.19687%2C%20-63.1809%5D%2C%20%5B-11.196%2C%20-61.5174%5D%2C%20%5B-11.029000000000002%2C%20-62.6696%5D%2C%20%5B-10.2458%2C%20-63.29%5D%2C%20%5B-10.9068%2C%20-62.5564%5D%2C%20%5B-12.1754%2C%20-61.6032%5D%2C%20%5B-13.4823%2C%20-61.0471%5D%2C%20%5B-11.8295%2C%20-61.3153%5D%2C%20%5B-11.9023%2C%20-61.5026%5D%2C%20%5B-12.052%2C%20-63.568000000000005%5D%2C%20%5B-11.8055%2C%20-63.0182%5D%2C%20%5B-10.9056%2C%20-62.242%5D%2C%20%5B-10.2483%2C%20-62.3538%5D%2C%20%5B-11.1261%2C%20-62.3639%5D%2C%20%5B-9.86215%2C%20-62.1876%5D%2C%20%5B-10.4465%2C%20-62.1352%5D%2C%20%5B-9.82581%2C%20-66.8972%5D%2C%20%5B-10.9298%2C%20-69.5738%5D%2C%20%5B-10.995%2C%20-68.7497%5D%2C%20%5B-9.81528%2C%20-67.955%5D%2C%20%5B-10.565999999999999%2C%20-67.686%5D%2C%20%5B-7.627619999999999%2C%20-72.6756%5D%2C%20%5B-11.0188%2C%20-68.7341%5D%2C%20%5B-8.170539999999999%2C%20-70.351%5D%2C%20%5B-9.43091%2C%20-71.8974%5D%2C%20%5B-7.616569999999999%2C%20-72.8997%5D%2C%20%5B-8.83291%2C%20-69.2679%5D%2C%20%5B-8.93898%2C%20-72.7997%5D%2C%20%5B-10.2806%2C%20-67.1371%5D%2C%20%5B-8.26323%2C%20-72.7537%5D%2C%20%5B-9.97499%2C%20-67.8243%5D%2C%20%5B-7.738639999999999%2C%20-72.661%5D%2C%20%5B-9.44652%2C%20-70.4902%5D%2C%20%5B-10.1497%2C%20-67.7362%5D%2C%20%5B-9.06596%2C%20-68.6571%5D%2C%20%5B-8.15697%2C%20-70.7722%5D%2C%20%5B-10.6516%2C%20-68.4969%5D%2C%20%5B-9.581380000000001%2C%20-67.5478%5D%2C%20%5B-3.22727%2C%20-64.8007%5D%2C%20%5B-3.37455%2C%20-68.2005%5D%2C%20%5B-3.5669699999999995%2C%20-61.3963%5D%2C%20%5B-3.74603%2C%20-61.6575%5D%2C%20%5B-7.194089999999999%2C%20-59.896%5D%2C%20%5B-4.37055%2C%20-70.1967%5D%2C%20%5B-3.58574%2C%20-59.1256%5D%2C%20%5B-0.9833729999999999%2C%20-62.9311%5D%2C%20%5B-2.79886%2C%20-57.0679%5D%2C%20%5B-4.377680000000001%2C%20-70.0342%5D%2C%20%5B-3.89874%2C%20-61.3616%5D%2C%20%5B-2.9740900000000003%2C%20-57.5873%5D%2C%20%5B-8.74232%2C%20-67.3919%5D%2C%20%5B-4.39154%2C%20-59.5874%5D%2C%20%5B-3.3153699999999997%2C%20-61.2206%5D%2C%20%5B-6.5258199999999995%2C%20-64.3953%5D%2C%20%5B-4.88161%2C%20-66.9086%5D%2C%20%5B-3.7680300000000004%2C%20-60.369%5D%2C%20%5B-3.3139999999999996%2C%20-59.5557%5D%2C%20%5B-4.094119999999999%2C%20-63.1441%5D%2C%20%5B-3.8305300000000004%2C%20-62.0658%5D%2C%20%5B-6.65677%2C%20-69.8662%5D%2C%20%5B-7.4378899999999994%2C%20-70.0281%5D%2C%20%5B-2.52342%2C%20-66.0942%5D%2C%20%5B-7.53797%2C%20-72.5907%5D%2C%20%5B-7.511710000000001%2C%20-63.0327%5D%2C%20%5B-7.047910000000001%2C%20-71.6934%5D%2C%20%5B-3.2747900000000003%2C%20-60.19%5D%2C%20%5B-3.13861%2C%20-58.4449%5D%2C%20%5B-6.43852%2C%20-68.2437%5D%2C%20%5B-2.7408099999999997%2C%20-58.0293%5D%2C%20%5B-1.88237%2C%20-66.9291%5D%2C%20%5B-3.4843800000000003%2C%20-66.0718%5D%2C%20%5B-2.75814%2C%20-66.7595%5D%2C%20%5B-7.264130000000001%2C%20-64.7948%5D%2C%20%5B-3.29066%2C%20-60.6216%5D%2C%20%5B-3.44078%2C%20-60.4612%5D%2C%20%5B-3.1186599999999998%2C%20-60.0212%5D%2C%20%5B-5.80462%2C%20-61.2895%5D%2C%20%5B-1.85313%2C%20-65.57300000000001%5D%2C%20%5B-3.39289%2C%20-57.7067%5D%2C%20%5B-2.2079299999999997%2C%20-56.7112%5D%2C%20%5B-3.9003699999999997%2C%20-59.093999999999994%5D%2C%20%5B-2.63637%2C%20-60.9434%5D%2C%20%5B-5.12593%2C%20-60.3732%5D%2C%20%5B-2.63741%2C%20-56.729%5D%2C%20%5B-7.71311%2C%20-66.992%5D%2C%20%5B-2.02981%2C%20-60.0234%5D%2C%20%5B-2.7045%2C%20-59.6858%5D%2C%20%5B-0.41082399999999997%2C%20-65.0092%5D%2C%20%5B-3.09544%2C%20-67.9463%5D%2C%20%5B-0.11909000000000002%2C%20-67.084%5D%2C%20%5B-3.47292%2C%20-68.9646%5D%2C%20%5B-2.55915%2C%20-57.8731%5D%2C%20%5B-2.8174799999999998%2C%20-58.248000000000005%5D%2C%20%5B-4.2416%2C%20-69.9383%5D%2C%20%5B-5.62085%2C%20-63.1808%5D%2C%20%5B-3.3682199999999995%2C%20-64.7193%5D%2C%20%5B-2.8658200000000003%2C%20-67.7919%5D%2C%20%5B-2.99609%2C%20-65.1133%5D%2C%20%5B-2.52936%2C%20-57.7538%5D%2C%20%5B-3.1284099999999997%2C%20-58.1496%5D%2C%20%5B3.64571%2C%20-61.3692%5D%2C%20%5B2.98858%2C%20-61.3072%5D%2C%20%5B2.82384%2C%20-60.6753%5D%2C%20%5B3.3616099999999998%2C%20-59.8333%5D%2C%20%5B2.60994%2C%20-60.6058%5D%2C%20%5B1.8276599999999998%2C%20-61.1304%5D%2C%20%5B0.8842030000000001%2C%20-59.6959%5D%2C%20%5B2.18305%2C%20-61.0415%5D%2C%20%5B2.43998%2C%20-60.9096%5D%2C%20%5B3.8853%2C%20-59.6204%5D%2C%20%5B4.4799%2C%20-61.1477%5D%2C%20%5B0.9399559999999999%2C%20-60.4389%5D%2C%20%5B0.951659%2C%20-59.9133%5D%2C%20%5B1.01019%2C%20-60.0419%5D%2C%20%5B4.60314%2C%20-60.1815%5D%2C%20%5B-1.72183%2C%20-48.8788%5D%2C%20%5B-4.95333%2C%20-48.3933%5D%2C%20%5B-1.95383%2C%20-48.1985%5D%2C%20%5B-0.154874%2C%20-50.3861%5D%2C%20%5B-6.79053%2C%20-50.4791%5D%2C%20%5B-1.94623%2C%20-54.7384%5D%2C%20%5B-1.52904%2C%20-52.5788%5D%2C%20%5B-3.20407%2C%20-52.21%5D%2C%20%5B-0.9968110000000001%2C%20-49.9354%5D%2C%20%5B-1.36391%2C%20-48.3743%5D%2C%20%5B-3.46985%2C%20-51.2003%5D%2C%20%5B-1.0510899999999999%2C%20-46.6147%5D%2C%20%5B-2.14898%2C%20-47.5677%5D%2C%20%5B-3.6084099999999997%2C%20-55.3199%5D%2C%20%5B-1.90057%2C%20-50.1987%5D%2C%20%5B-2.7902099999999996%2C%20-49.6694%5D%2C%20%5B-7.34779%2C%20-50.3959%5D%2C%20%5B-1.51187%2C%20-48.6195%5D%2C%20%5B-1.4554%2C%20-48.4898%5D%2C%20%5B-2.6360900000000003%2C%20-54.9374%5D%2C%20%5B-1.3618299999999999%2C%20-48.2434%5D%2C%20%5B-5.0424%2C%20-48.6047%5D%2C%20%5B-1.36745%2C%20-47.3066%5D%2C%20%5B-1.06126%2C%20-46.7826%5D%2C%20%5B-3.2979199999999995%2C%20-52.534%5D%2C%20%5B-5.69822%2C%20-48.4103%5D%2C%20%5B-3.7719099999999997%2C%20-49.5735%5D%2C%20%5B-1.6803599999999999%2C%20-50.4791%5D%2C%20%5B-1.51762%2C%20-48.0381%5D%2C%20%5B-1.75974%2C%20-46.5459%5D%2C%20%5B-1.01226%2C%20-48.9503%5D%2C%20%5B-2.24295%2C%20-49.4979%5D%2C%20%5B-6.49659%2C%20-49.8776%5D%2C%20%5B-1.20529%2C%20-47.1778%5D%2C%20%5B-1.74785%2C%20-47.0629%5D%2C%20%5B-1.29797%2C%20-47.9167%5D%2C%20%5B-0.164154%2C%20-49.986999999999995%5D%2C%20%5B-0.936423%2C%20-48.2803%5D%2C%20%5B-8.26136%2C%20-49.2689%5D%2C%20%5B-1.9923799999999998%2C%20-47.9422%5D%2C%20%5B-7.810969999999999%2C%20-50.7698%5D%2C%20%5B-6.09965%2C%20-49.6068%5D%2C%20%5B-1.8117900000000002%2C%20-49.7952%5D%2C%20%5B-1.88775%2C%20-55.1168%5D%2C%20%5B-0.733214%2C%20-47.8515%5D%2C%20%5B-4.19944%2C%20-47.8245%5D%2C%20%5B-6.10389%2C%20-49.3553%5D%2C%20%5B-2.16805%2C%20-56.7405%5D%2C%20%5B-7.55335%2C%20-49.7125%5D%2C%20%5B-1.92986%2C%20-47.0505%5D%2C%20%5B-3.8433800000000002%2C%20-49.0974%5D%2C%20%5B-1.41412%2C%20-51.6338%5D%2C%20%5B-1.12539%2C%20-47.626000000000005%5D%2C%20%5B-1.97533%2C%20-48.9575%5D%2C%20%5B-1.4349%2C%20-47.9114%5D%2C%20%5B-2.55992%2C%20-47.5059%5D%2C%20%5B-1.76984%2C%20-47.446000000000005%5D%2C%20%5B-4.2667%2C%20-55.9926%5D%2C%20%5B-5.13272%2C%20-49.3358%5D%2C%20%5B-6.21469%2C%20-57.7544%5D%2C%20%5B-4.4461699999999995%2C%20-49.1153%5D%2C%20%5B-2.1634700000000002%2C%20-56.0889%5D%2C%20%5B-1.8985%2C%20-49.3903%5D%2C%20%5B-2.0568299999999997%2C%20-47.5601%5D%2C%20%5B-0.803391%2C%20-47.6014%5D%2C%20%5B-5.38075%2C%20-49.1327%5D%2C%20%5B-0.778899%2C%20-47.452%5D%2C%20%5B-0.7147020000000001%2C%20-47.7034%5D%2C%20%5B-1.36002%2C%20-48.3421%5D%2C%20%5B-3.4463699999999995%2C%20-52.8875%5D%2C%20%5B-1.8032%2C%20-50.7149%5D%2C%20%5B-2.5831%2C%20-49.5042%5D%2C%20%5B-1.8899299999999999%2C%20-48.7668%5D%2C%20%5B-1.99768%2C%20-54.0724%5D%2C%20%5B-1.53936%2C%20-49.2224%5D%2C%20%5B-2.26693%2C%20-46.9731%5D%2C%20%5B-4.91622%2C%20-49.0822%5D%2C%20%5B-1.20874%2C%20-47.3921%5D%2C%20%5B-7.14347%2C%20-55.3786%5D%2C%20%5B-4.24749%2C%20-49.9499%5D%2C%20%5B-1.90107%2C%20-55.5208%5D%2C%20%5B-2.00358%2C%20-49.8628%5D%2C%20%5B-1.7598900000000002%2C%20-55.8579%5D%2C%20%5B-1.54168%2C%20-47.1126%5D%2C%20%5B-6.7529%2C%20-51.0858%5D%2C%20%5B-3.8354199999999996%2C%20-50.6399%5D%2C%20%5B-5.74027%2C%20-48.3181%5D%2C%20%5B-3.00212%2C%20-47.3527%5D%2C%20%5B-6.06781%2C%20-49.9037%5D%2C%20%5B-1.59772%2C%20-46.9268%5D%2C%20%5B-1.19382%2C%20-47.324%5D%2C%20%5B-6.43778%2C%20-48.8716%5D%2C%20%5B-3.8681300000000003%2C%20-54.2124%5D%2C%20%5B-1.3958700000000002%2C%20-48.8661%5D%2C%20%5B-1.93639%2C%20-50.8194%5D%2C%20%5B-1.74691%2C%20-52.2361%5D%2C%20%5B-1.798%2C%20-53.4779%5D%2C%20%5B-0.9454389999999999%2C%20-47.1253%5D%2C%20%5B-0.8996040000000001%2C%20-47.0134%5D%2C%20%5B-8.02529%2C%20-50.0317%5D%2C%20%5B-7.312360000000001%2C%20-50.0379%5D%2C%20%5B-4.7779300000000005%2C%20-48.067%5D%2C%20%5B-4.100280000000001%2C%20-54.9092%5D%2C%20%5B-0.630815%2C%20-47.3465%5D%2C%20%5B-0.758444%2C%20-48.5139%5D%2C%20%5B-1.1921899999999999%2C%20-48.238%5D%2C%20%5B-0.6610189999999999%2C%20-49.1771%5D%2C%20%5B-1.2968600000000001%2C%20-48.1606%5D%2C%20%5B-1.52147%2C%20-46.9008%5D%2C%20%5B-8.85784%2C%20-49.7215%5D%2C%20%5B-1.35392%2C%20-47.5712%5D%2C%20%5B-9.3281%2C%20-50.35%5D%2C%20%5B-2.4384900000000003%2C%20-54.6996%5D%2C%20%5B-0.9309700000000001%2C%20-47.3855%5D%2C%20%5B-1.1522%2C%20-48.1314%5D%2C%20%5B-0.747293%2C%20-48.0246%5D%2C%20%5B-5.537319999999999%2C%20-48.7366%5D%2C%20%5B-1.6876799999999998%2C%20-47.7665%5D%2C%20%5B-6.6425399999999994%2C%20-51.9904%5D%2C%20%5B-1.16963%2C%20-47.7917%5D%2C%20%5B-6.39471%2C%20-48.5592%5D%2C%20%5B-0.857885%2C%20-47.918%5D%2C%20%5B-0.780222%2C%20-47.181000000000004%5D%2C%20%5B-5.36334%2C%20-48.7926%5D%2C%20%5B-1.61307%2C%20-47.4784%5D%2C%20%5B-1.71597%2C%20-49.5249%5D%2C%20%5B-6.940180000000001%2C%20-49.6834%5D%2C%20%5B-4.3124199999999995%2C%20-51.5764%5D%2C%20%5B-0.73032%2C%20-48.5015%5D%2C%20%5B-2.94584%2C%20-48.9489%5D%2C%20%5B-1.0296299999999998%2C%20-47.9004%5D%2C%20%5B-2.10443%2C%20-56.4877%5D%2C%20%5B-2.41302%2C%20-48.1415%5D%2C%20%5B-1.07653%2C%20-46.9031%5D%2C%20%5B-4.5734699999999995%2C%20-55.9429%5D%2C%20%5B-6.7468699999999995%2C%20-51.1626%5D%2C%20%5B-3.7657%2C%20-49.6773%5D%2C%20%5B-3.7500699999999996%2C%20-47.4892%5D%2C%20%5B-3.71519%2C%20-53.7396%5D%2C%20%5B-0.861194%2C%20-48.1386%5D%2C%20%5B-1.1912399999999999%2C%20-46.1399%5D%2C%20%5B-2.87922%2C%20-52.0088%5D%2C%20%5B-7.0983%2C%20-49.9437%5D%2C%20%5B0.901357%2C%20-52.0036%5D%2C%20%5B2.05267%2C%20-50.7957%5D%2C%20%5B0.777424%2C%20-51.9503%5D%2C%20%5B2.50475%2C%20-50.9512%5D%2C%20%5B0.9707610000000001%2C%20-50.8005%5D%2C%20%5B0.8572559999999999%2C%20-51.1795%5D%2C%20%5B0.6021850000000001%2C%20-50.6996%5D%2C%20%5B-0.8049109999999999%2C%20-52.453%5D%2C%20%5B0.034934%2C%20-51.0694%5D%2C%20%5B-0.11335999999999999%2C%20-51.2891%5D%2C%20%5B3.8407400000000003%2C%20-51.8331%5D%2C%20%5B0.71243%2C%20-51.4155%5D%2C%20%5B1.74543%2C%20-50.7892%5D%2C%20%5B-0.045433999999999995%2C%20-51.1729%5D%2C%20%5B1.50652%2C%20-50.9087%5D%2C%20%5B-0.938%2C%20-52.424%5D%2C%20%5B-9.62101%2C%20-49.1518%5D%2C%20%5B-6.5540899999999995%2C%20-47.4702%5D%2C%20%5B-11.3056%2C%20-48.9361%5D%2C%20%5B-11.5706%2C%20-47.1792%5D%2C%20%5B-12.4785%2C%20-49.1249%5D%2C%20%5B-6.36437%2C%20-48.0735%5D%2C%20%5B-6.39179%2C%20-47.8611%5D%2C%20%5B-9.94139%2C%20-47.9638%5D%2C%20%5B-7.16005%2C%20-48.5291%5D%2C%20%5B-8.80755%2C%20-49.5569%5D%2C%20%5B-12.9289%2C%20-49.8231%5D%2C%20%5B-7.19238%2C%20-48.2044%5D%2C%20%5B-6.58225%2C%20-48.6395%5D%2C%20%5B-5.64659%2C%20-48.1232%5D%2C%20%5B-7.65463%2C%20-49.0637%5D%2C%20%5B-12.9287%2C%20-46.9359%5D%2C%20%5B-5.46863%2C%20-47.8863%5D%2C%20%5B-12.7105%2C%20-46.4076%5D%2C%20%5B-5.61275%2C%20-47.7701%5D%2C%20%5B-7.209230000000001%2C%20-47.7613%5D%2C%20%5B-7.75612%2C%20-48.5836%5D%2C%20%5B-7.695930000000001%2C%20-47.6776%5D%2C%20%5B-9.83404%2C%20-48.7252%5D%2C%20%5B-7.874810000000001%2C%20-48.8893%5D%2C%20%5B-8.96306%2C%20-48.165%5D%2C%20%5B-8.38918%2C%20-48.4822%5D%2C%20%5B-11.0058%2C%20-48.5683%5D%2C%20%5B-5.3144800000000005%2C%20-48.2271%5D%2C%20%5B-6.1156%2C%20-47.9234%5D%2C%20%5B-7.989560000000001%2C%20-46.8645%5D%2C%20%5B-11.8881%2C%20-49.1609%5D%2C%20%5B-7.03262%2C%20-48.3978%5D%2C%20%5B-5.31415%2C%20-48.0314%5D%2C%20%5B-9.27612%2C%20-49.9521%5D%2C%20%5B-8.961030000000001%2C%20-47.3304%5D%2C%20%5B-10.1419%2C%20-49.1403%5D%2C%20%5B-11.6175%2C%20-47.7486%5D%2C%20%5B-8.05764%2C%20-48.4757%5D%2C%20%5B-12.7917%2C%20-46.5388%5D%2C%20%5B-12.2209%2C%20-47.2951%5D%2C%20%5B-8.28411%2C%20-49.2473%5D%2C%20%5B-10.5985%2C%20-49.1942%5D%2C%20%5B-11.0994%2C%20-48.9152%5D%2C%20%5B-6.715910000000001%2C%20-47.7597%5D%2C%20%5B-11.624%2C%20-46.8198%5D%2C%20%5B-9.800180000000001%2C%20-49.2169%5D%2C%20%5B-9.255339999999999%2C%20-49.0638%5D%2C%20%5B-11.3416%2C%20-49.2716%5D%2C%20%5B-5.3659300000000005%2C%20-48.5378%5D%2C%20%5B-10.7603%2C%20-48.9076%5D%2C%20%5B-12.1312%2C%20-49.1748%5D%2C%20%5B-7.3350100000000005%2C%20-47.4954%5D%2C%20%5B-11.7976%2C%20-49.5316%5D%2C%20%5B-9.05611%2C%20-48.5206%5D%2C%20%5B-8.77413%2C%20-48.9313%5D%2C%20%5B-7.71478%2C%20-47.3252%5D%2C%20%5B-8.83543%2C%20-48.5114%5D%2C%20%5B-11.7279%2C%20-49.068000000000005%5D%2C%20%5B-11.2329%2C%20-48.46%5D%2C%20%5B-8.39293%2C%20-47.7726%5D%2C%20%5B-5.77267%2C%20-47.4864%5D%2C%20%5B-8.37982%2C%20-48.1072%5D%2C%20%5B-8.57172%2C%20-48.6895%5D%2C%20%5B-12.6509%2C%20-48.589%5D%2C%20%5B-8.11951%2C%20-49.0643%5D%2C%20%5B-10.7906%2C%20-49.6199%5D%2C%20%5B-10.368%2C%20-47.538000000000004%5D%2C%20%5B-9.74996%2C%20-48.3565%5D%2C%20%5B-12.7847%2C%20-46.5099%5D%2C%20%5B-9.590019999999999%2C%20-46.6738%5D%2C%20%5B-6.17794%2C%20-47.8582%5D%2C%20%5B-9.79377%2C%20-49.6553%5D%2C%20%5B-10.5464%2C%20-46.4168%5D%2C%20%5B-5.95169%2C%20-47.5125%5D%2C%20%5B-9.565560000000001%2C%20-48.393%5D%2C%20%5B-9.529069999999999%2C%20-48.5922%5D%2C%20%5B-10.7611%2C%20-48.1114%5D%2C%20%5B-10.0075%2C%20-48.9941%5D%2C%20%5B-6.61658%2C%20-47.5464%5D%2C%20%5B-7.1466899999999995%2C%20-48.6091%5D%2C%20%5B-11.7034%2C%20-47.7223%5D%2C%20%5B-6.37496%2C%20-47.6643%5D%2C%20%5B-7.631710000000001%2C%20-48.4252%5D%2C%20%5B-10.5651%2C%20-48.9125%5D%2C%20%5B-9.97063%2C%20-47.6785%5D%2C%20%5B-12.9217%2C%20-46.5713%5D%2C%20%5B-11.825999999999999%2C%20-46.6325%5D%2C%20%5B-10.707%2C%20-48.9086%5D%2C%20%5B-7.847860000000001%2C%20-47.9242%5D%2C%20%5B-13.0447%2C%20-48.4026%5D%2C%20%5B-10.175%2C%20-48.8823%5D%2C%20%5B-12.6167%2C%20-47.8734%5D%2C%20%5B-7.53919%2C%20-49.367%5D%2C%20%5B-8.97034%2C%20-48.1729%5D%2C%20%5B-12.0254%2C%20-48.5395%5D%2C%20%5B-8.5932%2C%20-48.9327%5D%2C%20%5B-8.72463%2C%20-48.7638%5D%2C%20%5B-11.1311%2C%20-47.5726%5D%2C%20%5B-6.77302%2C%20-48.2958%5D%2C%20%5B-10.442%2C%20-49.1876%5D%2C%20%5B-12.0853%2C%20-46.4825%5D%2C%20%5B-10.7481%2C%20-47.5276%5D%2C%20%5B-11.618%2C%20-47.0621%5D%2C%20%5B-10.7027%2C%20-48.408%5D%2C%20%5B-5.39281%2C%20-47.8111%5D%2C%20%5B-8.5406%2C%20-48.5062%5D%2C%20%5B-10.424000000000001%2C%20-48.8957%5D%2C%20%5B-8.7227%2C%20-47.2421%5D%2C%20%5B-6.44005%2C%20-48.1371%5D%2C%20%5B-11.3949%2C%20-46.8847%5D%2C%20%5B-9.34425%2C%20-48.5245%5D%2C%20%5B-9.350019999999999%2C%20-47.888000000000005%5D%2C%20%5B-5.35423%2C%20-47.8782%5D%2C%20%5B-12.538%2C%20-49.9242%5D%2C%20%5B-7.15803%2C%20-48.7165%5D%2C%20%5B-8.8046%2C%20-47.7887%5D%2C%20%5B-10.8617%2C%20-48.9161%5D%2C%20%5B-11.4474%2C%20-48.1216%5D%2C%20%5B-10.2746%2C%20-47.8033%5D%2C%20%5B-6.444380000000001%2C%20-47.6684%5D%2C%20%5B-6.0258%2C%20-47.9012%5D%2C%20%5B-10.1615%2C%20-46.6618%5D%2C%20%5B-5.56305%2C%20-47.5743%5D%2C%20%5B-12.7458%2C%20-48.2352%5D%2C%20%5B-5.26131%2C%20-48.2021%5D%2C%20%5B-11.9743%2C%20-48.2353%5D%2C%20%5B-11.1471%2C%20-48.1694%5D%2C%20%5B-5.6012%2C%20-47.6381%5D%2C%20%5B-11.993%2C%20-48.9685%5D%2C%20%5B-12.4026%2C%20-46.437%5D%2C%20%5B-12.1873%2C%20-46.9797%5D%2C%20%5B-12.7949%2C%20-49.0896%5D%2C%20%5B-10.24%2C%20-48.3558%5D%2C%20%5B-9.5632%2C%20-48.3741%5D%2C%20%5B-6.32447%2C%20-47.4224%5D%2C%20%5B-8.971680000000001%2C%20-48.1883%5D%2C%20%5B-8.393880000000001%2C%20-48.1277%5D%2C%20%5B-6.85274%2C%20-47.9601%5D%2C%20%5B-6.4141%2C%20-48.532%5D%2C%20%5B-11.9283%2C%20-61.9953%5D%2C%20%5B-9.905710000000001%2C%20-63.0325%5D%2C%20%5B-13.4945%2C%20-60.552%5D%2C%20%5B-11.4343%2C%20-61.4562%5D%2C%20%5B-13.187000000000001%2C%20-60.8168%5D%2C%20%5B-13.1174%2C%20-60.5454%5D%2C%20%5B-12.9551%2C%20-60.8947%5D%2C%20%5B-12.4367%2C%20-64.22800000000001%5D%2C%20%5B-11.5266%2C%20-61.0252%5D%2C%20%5B-10.7889%2C%20-65.3296%5D%2C%20%5B-10.4318%2C%20-62.4788%5D%2C%20%5B-10.8777%2C%20-61.9322%5D%2C%20%5B-9.44363%2C%20-61.9818%5D%2C%20%5B-11.7247%2C%20-62.3127%5D%2C%20%5B-10.7167%2C%20-62.2565%5D%2C%20%5B-11.672%2C%20-61.198%5D%2C%20%5B-8.760769999999999%2C%20-63.8999%5D%2C%20%5B-11.169%2C%20-61.8986%5D%2C%20%5B-9.69965%2C%20-62.9011%5D%2C%20%5B-11.7271%2C%20-61.7714%5D%2C%20%5B-11.9074%2C%20-61.7777%5D%2C%20%5B-12.7502%2C%20-60.1488%5D%2C%20%5B-11.6953%2C%20-62.7192%5D%2C%20%5B-10.4077%2C%20-65.3346%5D%2C%20%5B-11.3463%2C%20-62.2847%5D%2C%20%5B-12.132%2C%20-61.835%5D%2C%20%5B-9.71429%2C%20-63.3188%5D%2C%20%5B-10.1943%2C%20-63.8324%5D%2C%20%5B-11.6961%2C%20-61.9951%5D%2C%20%5B-10.349%2C%20-62.9043%5D%2C%20%5B-10.5712%2C%20-63.6266%5D%2C%20%5B-8.7907%2C%20-63.7005%5D%2C%20%5B-11.4253%2C%20-61.9482%5D%2C%20%5B-12.5611%2C%20-60.8877%5D%2C%20%5B-9.36065%2C%20-62.5846%5D%2C%20%5B-10.61%2C%20-62.7371%5D%2C%20%5B-9.19687%2C%20-63.1809%5D%2C%20%5B-11.196%2C%20-61.5174%5D%2C%20%5B-11.029000000000002%2C%20-62.6696%5D%2C%20%5B-10.2458%2C%20-63.29%5D%2C%20%5B-10.9068%2C%20-62.5564%5D%2C%20%5B-12.1754%2C%20-61.6032%5D%2C%20%5B-13.4823%2C%20-61.0471%5D%2C%20%5B-11.8295%2C%20-61.3153%5D%2C%20%5B-11.9023%2C%20-61.5026%5D%2C%20%5B-12.052%2C%20-63.568000000000005%5D%2C%20%5B-11.8055%2C%20-63.0182%5D%2C%20%5B-10.9056%2C%20-62.242%5D%2C%20%5B-10.2483%2C%20-62.3538%5D%2C%20%5B-11.1261%2C%20-62.3639%5D%2C%20%5B-9.86215%2C%20-62.1876%5D%2C%20%5B-10.4465%2C%20-62.1352%5D%2C%20%5B-9.82581%2C%20-66.8972%5D%2C%20%5B-10.9298%2C%20-69.5738%5D%2C%20%5B-10.995%2C%20-68.7497%5D%2C%20%5B-9.81528%2C%20-67.955%5D%2C%20%5B-10.565999999999999%2C%20-67.686%5D%2C%20%5B-7.627619999999999%2C%20-72.6756%5D%2C%20%5B-11.0188%2C%20-68.7341%5D%2C%20%5B-8.170539999999999%2C%20-70.351%5D%2C%20%5B-9.43091%2C%20-71.8974%5D%2C%20%5B-7.616569999999999%2C%20-72.8997%5D%2C%20%5B-8.83291%2C%20-69.2679%5D%2C%20%5B-8.93898%2C%20-72.7997%5D%2C%20%5B-10.2806%2C%20-67.1371%5D%2C%20%5B-8.26323%2C%20-72.7537%5D%2C%20%5B-9.97499%2C%20-67.8243%5D%2C%20%5B-7.738639999999999%2C%20-72.661%5D%2C%20%5B-9.44652%2C%20-70.4902%5D%2C%20%5B-10.1497%2C%20-67.7362%5D%2C%20%5B-9.06596%2C%20-68.6571%5D%2C%20%5B-8.15697%2C%20-70.7722%5D%2C%20%5B-10.6516%2C%20-68.4969%5D%2C%20%5B-9.581380000000001%2C%20-67.5478%5D%2C%20%5B-3.22727%2C%20-64.8007%5D%2C%20%5B-3.37455%2C%20-68.2005%5D%2C%20%5B-3.5669699999999995%2C%20-61.3963%5D%2C%20%5B-3.74603%2C%20-61.6575%5D%2C%20%5B-7.194089999999999%2C%20-59.896%5D%2C%20%5B-4.37055%2C%20-70.1967%5D%2C%20%5B-3.58574%2C%20-59.1256%5D%2C%20%5B-0.9833729999999999%2C%20-62.9311%5D%2C%20%5B-2.79886%2C%20-57.0679%5D%2C%20%5B-4.377680000000001%2C%20-70.0342%5D%2C%20%5B-3.89874%2C%20-61.3616%5D%2C%20%5B-2.9740900000000003%2C%20-57.5873%5D%2C%20%5B-8.74232%2C%20-67.3919%5D%2C%20%5B-4.39154%2C%20-59.5874%5D%2C%20%5B-3.3153699999999997%2C%20-61.2206%5D%2C%20%5B-6.5258199999999995%2C%20-64.3953%5D%2C%20%5B-4.88161%2C%20-66.9086%5D%2C%20%5B-3.7680300000000004%2C%20-60.369%5D%2C%20%5B-3.3139999999999996%2C%20-59.5557%5D%2C%20%5B-4.094119999999999%2C%20-63.1441%5D%2C%20%5B-3.8305300000000004%2C%20-62.0658%5D%2C%20%5B-6.65677%2C%20-69.8662%5D%2C%20%5B-7.4378899999999994%2C%20-70.0281%5D%2C%20%5B-2.52342%2C%20-66.0942%5D%2C%20%5B-7.53797%2C%20-72.5907%5D%2C%20%5B-7.511710000000001%2C%20-63.0327%5D%2C%20%5B-7.047910000000001%2C%20-71.6934%5D%2C%20%5B-3.2747900000000003%2C%20-60.19%5D%2C%20%5B-3.13861%2C%20-58.4449%5D%2C%20%5B-6.43852%2C%20-68.2437%5D%2C%20%5B-2.7408099999999997%2C%20-58.0293%5D%2C%20%5B-1.88237%2C%20-66.9291%5D%2C%20%5B-3.4843800000000003%2C%20-66.0718%5D%2C%20%5B-2.75814%2C%20-66.7595%5D%2C%20%5B-7.264130000000001%2C%20-64.7948%5D%2C%20%5B-3.29066%2C%20-60.6216%5D%2C%20%5B-3.44078%2C%20-60.4612%5D%2C%20%5B-3.1186599999999998%2C%20-60.0212%5D%2C%20%5B-5.80462%2C%20-61.2895%5D%2C%20%5B-1.85313%2C%20-65.57300000000001%5D%2C%20%5B-3.39289%2C%20-57.7067%5D%2C%20%5B-2.2079299999999997%2C%20-56.7112%5D%2C%20%5B-3.9003699999999997%2C%20-59.093999999999994%5D%2C%20%5B-2.63637%2C%20-60.9434%5D%2C%20%5B-5.12593%2C%20-60.3732%5D%2C%20%5B-2.63741%2C%20-56.729%5D%2C%20%5B-7.71311%2C%20-66.992%5D%2C%20%5B-2.02981%2C%20-60.0234%5D%2C%20%5B-2.7045%2C%20-59.6858%5D%2C%20%5B-0.41082399999999997%2C%20-65.0092%5D%2C%20%5B-3.09544%2C%20-67.9463%5D%2C%20%5B-0.11909000000000002%2C%20-67.084%5D%2C%20%5B-3.47292%2C%20-68.9646%5D%2C%20%5B-2.55915%2C%20-57.8731%5D%2C%20%5B-2.8174799999999998%2C%20-58.248000000000005%5D%2C%20%5B-4.2416%2C%20-69.9383%5D%2C%20%5B-5.62085%2C%20-63.1808%5D%2C%20%5B-3.3682199999999995%2C%20-64.7193%5D%2C%20%5B-2.8658200000000003%2C%20-67.7919%5D%2C%20%5B-2.99609%2C%20-65.1133%5D%2C%20%5B-2.52936%2C%20-57.7538%5D%2C%20%5B-3.1284099999999997%2C%20-58.1496%5D%2C%20%5B3.64571%2C%20-61.3692%5D%2C%20%5B2.98858%2C%20-61.3072%5D%2C%20%5B2.82384%2C%20-60.6753%5D%2C%20%5B3.3616099999999998%2C%20-59.8333%5D%2C%20%5B2.60994%2C%20-60.6058%5D%2C%20%5B1.8276599999999998%2C%20-61.1304%5D%2C%20%5B0.8842030000000001%2C%20-59.6959%5D%2C%20%5B2.18305%2C%20-61.0415%5D%2C%20%5B2.43998%2C%20-60.9096%5D%2C%20%5B3.8853%2C%20-59.6204%5D%2C%20%5B4.4799%2C%20-61.1477%5D%2C%20%5B0.9399559999999999%2C%20-60.4389%5D%2C%20%5B0.951659%2C%20-59.9133%5D%2C%20%5B1.01019%2C%20-60.0419%5D%2C%20%5B4.60314%2C%20-60.1815%5D%2C%20%5B-1.72183%2C%20-48.8788%5D%2C%20%5B-4.95333%2C%20-48.3933%5D%2C%20%5B-1.95383%2C%20-48.1985%5D%2C%20%5B-0.154874%2C%20-50.3861%5D%2C%20%5B-6.79053%2C%20-50.4791%5D%2C%20%5B-1.94623%2C%20-54.7384%5D%2C%20%5B-1.52904%2C%20-52.5788%5D%2C%20%5B-3.20407%2C%20-52.21%5D%2C%20%5B-0.9968110000000001%2C%20-49.9354%5D%2C%20%5B-1.36391%2C%20-48.3743%5D%2C%20%5B-3.46985%2C%20-51.2003%5D%2C%20%5B-1.0510899999999999%2C%20-46.6147%5D%2C%20%5B-2.14898%2C%20-47.5677%5D%2C%20%5B-3.6084099999999997%2C%20-55.3199%5D%2C%20%5B-1.90057%2C%20-50.1987%5D%2C%20%5B-2.7902099999999996%2C%20-49.6694%5D%2C%20%5B-7.34779%2C%20-50.3959%5D%2C%20%5B-1.51187%2C%20-48.6195%5D%2C%20%5B-1.4554%2C%20-48.4898%5D%2C%20%5B-2.6360900000000003%2C%20-54.9374%5D%2C%20%5B-1.3618299999999999%2C%20-48.2434%5D%2C%20%5B-5.0424%2C%20-48.6047%5D%2C%20%5B-1.36745%2C%20-47.3066%5D%2C%20%5B-1.06126%2C%20-46.7826%5D%2C%20%5B-3.2979199999999995%2C%20-52.534%5D%2C%20%5B-5.69822%2C%20-48.4103%5D%2C%20%5B-3.7719099999999997%2C%20-49.5735%5D%2C%20%5B-1.6803599999999999%2C%20-50.4791%5D%2C%20%5B-1.51762%2C%20-48.0381%5D%2C%20%5B-1.75974%2C%20-46.5459%5D%2C%20%5B-1.01226%2C%20-48.9503%5D%2C%20%5B-2.24295%2C%20-49.4979%5D%2C%20%5B-6.49659%2C%20-49.8776%5D%2C%20%5B-1.20529%2C%20-47.1778%5D%2C%20%5B-1.74785%2C%20-47.0629%5D%2C%20%5B-1.29797%2C%20-47.9167%5D%2C%20%5B-0.164154%2C%20-49.986999999999995%5D%2C%20%5B-0.936423%2C%20-48.2803%5D%2C%20%5B-8.26136%2C%20-49.2689%5D%2C%20%5B-1.9923799999999998%2C%20-47.9422%5D%2C%20%5B-7.810969999999999%2C%20-50.7698%5D%2C%20%5B-6.09965%2C%20-49.6068%5D%2C%20%5B-1.8117900000000002%2C%20-49.7952%5D%2C%20%5B-1.88775%2C%20-55.1168%5D%2C%20%5B-0.733214%2C%20-47.8515%5D%2C%20%5B-4.19944%2C%20-47.8245%5D%2C%20%5B-6.10389%2C%20-49.3553%5D%2C%20%5B-2.16805%2C%20-56.7405%5D%2C%20%5B-7.55335%2C%20-49.7125%5D%2C%20%5B-1.92986%2C%20-47.0505%5D%2C%20%5B-3.8433800000000002%2C%20-49.0974%5D%2C%20%5B-1.41412%2C%20-51.6338%5D%2C%20%5B-1.12539%2C%20-47.626000000000005%5D%2C%20%5B-1.97533%2C%20-48.9575%5D%2C%20%5B-1.4349%2C%20-47.9114%5D%2C%20%5B-2.55992%2C%20-47.5059%5D%2C%20%5B-1.76984%2C%20-47.446000000000005%5D%2C%20%5B-4.2667%2C%20-55.9926%5D%2C%20%5B-5.13272%2C%20-49.3358%5D%2C%20%5B-6.21469%2C%20-57.7544%5D%2C%20%5B-4.4461699999999995%2C%20-49.1153%5D%2C%20%5B-2.1634700000000002%2C%20-56.0889%5D%2C%20%5B-1.8985%2C%20-49.3903%5D%2C%20%5B-2.0568299999999997%2C%20-47.5601%5D%2C%20%5B-0.803391%2C%20-47.6014%5D%2C%20%5B-5.38075%2C%20-49.1327%5D%2C%20%5B-0.778899%2C%20-47.452%5D%2C%20%5B-0.7147020000000001%2C%20-47.7034%5D%2C%20%5B-1.36002%2C%20-48.3421%5D%2C%20%5B-3.4463699999999995%2C%20-52.8875%5D%2C%20%5B-1.8032%2C%20-50.7149%5D%2C%20%5B-2.5831%2C%20-49.5042%5D%2C%20%5B-1.8899299999999999%2C%20-48.7668%5D%2C%20%5B-1.99768%2C%20-54.0724%5D%2C%20%5B-1.53936%2C%20-49.2224%5D%2C%20%5B-2.26693%2C%20-46.9731%5D%2C%20%5B-4.91622%2C%20-49.0822%5D%2C%20%5B-1.20874%2C%20-47.3921%5D%2C%20%5B-7.14347%2C%20-55.3786%5D%2C%20%5B-4.24749%2C%20-49.9499%5D%2C%20%5B-1.90107%2C%20-55.5208%5D%2C%20%5B-2.00358%2C%20-49.8628%5D%2C%20%5B-1.7598900000000002%2C%20-55.8579%5D%2C%20%5B-1.54168%2C%20-47.1126%5D%2C%20%5B-6.7529%2C%20-51.0858%5D%2C%20%5B-3.8354199999999996%2C%20-50.6399%5D%2C%20%5B-5.74027%2C%20-48.3181%5D%2C%20%5B-3.00212%2C%20-47.3527%5D%2C%20%5B-6.06781%2C%20-49.9037%5D%2C%20%5B-1.59772%2C%20-46.9268%5D%2C%20%5B-1.19382%2C%20-47.324%5D%2C%20%5B-6.43778%2C%20-48.8716%5D%2C%20%5B-3.8681300000000003%2C%20-54.2124%5D%2C%20%5B-1.3958700000000002%2C%20-48.8661%5D%2C%20%5B-1.93639%2C%20-50.8194%5D%2C%20%5B-1.74691%2C%20-52.2361%5D%2C%20%5B-1.798%2C%20-53.4779%5D%2C%20%5B-0.9454389999999999%2C%20-47.1253%5D%2C%20%5B-0.8996040000000001%2C%20-47.0134%5D%2C%20%5B-8.02529%2C%20-50.0317%5D%2C%20%5B-7.312360000000001%2C%20-50.0379%5D%2C%20%5B-4.7779300000000005%2C%20-48.067%5D%2C%20%5B-4.100280000000001%2C%20-54.9092%5D%2C%20%5B-0.630815%2C%20-47.3465%5D%2C%20%5B-0.758444%2C%20-48.5139%5D%2C%20%5B-1.1921899999999999%2C%20-48.238%5D%2C%20%5B-0.6610189999999999%2C%20-49.1771%5D%2C%20%5B-1.2968600000000001%2C%20-48.1606%5D%2C%20%5B-1.52147%2C%20-46.9008%5D%2C%20%5B-8.85784%2C%20-49.7215%5D%2C%20%5B-1.35392%2C%20-47.5712%5D%2C%20%5B-9.3281%2C%20-50.35%5D%2C%20%5B-2.4384900000000003%2C%20-54.6996%5D%2C%20%5B-0.9309700000000001%2C%20-47.3855%5D%2C%20%5B-1.1522%2C%20-48.1314%5D%2C%20%5B-0.747293%2C%20-48.0246%5D%2C%20%5B-5.537319999999999%2C%20-48.7366%5D%2C%20%5B-1.6876799999999998%2C%20-47.7665%5D%2C%20%5B-6.6425399999999994%2C%20-51.9904%5D%2C%20%5B-1.16963%2C%20-47.7917%5D%2C%20%5B-6.39471%2C%20-48.5592%5D%2C%20%5B-0.857885%2C%20-47.918%5D%2C%20%5B-0.780222%2C%20-47.181000000000004%5D%2C%20%5B-5.36334%2C%20-48.7926%5D%2C%20%5B-1.61307%2C%20-47.4784%5D%2C%20%5B-1.71597%2C%20-49.5249%5D%2C%20%5B-6.940180000000001%2C%20-49.6834%5D%2C%20%5B-4.3124199999999995%2C%20-51.5764%5D%2C%20%5B-0.73032%2C%20-48.5015%5D%2C%20%5B-2.94584%2C%20-48.9489%5D%2C%20%5B-1.0296299999999998%2C%20-47.9004%5D%2C%20%5B-2.10443%2C%20-56.4877%5D%2C%20%5B-2.41302%2C%20-48.1415%5D%2C%20%5B-1.07653%2C%20-46.9031%5D%2C%20%5B-4.5734699999999995%2C%20-55.9429%5D%2C%20%5B-6.7468699999999995%2C%20-51.1626%5D%2C%20%5B-3.7657%2C%20-49.6773%5D%2C%20%5B-3.7500699999999996%2C%20-47.4892%5D%2C%20%5B-3.71519%2C%20-53.7396%5D%2C%20%5B-0.861194%2C%20-48.1386%5D%2C%20%5B-1.1912399999999999%2C%20-46.1399%5D%2C%20%5B-2.87922%2C%20-52.0088%5D%2C%20%5B-7.0983%2C%20-49.9437%5D%2C%20%5B0.901357%2C%20-52.0036%5D%2C%20%5B2.05267%2C%20-50.7957%5D%2C%20%5B0.777424%2C%20-51.9503%5D%2C%20%5B2.50475%2C%20-50.9512%5D%2C%20%5B0.9707610000000001%2C%20-50.8005%5D%2C%20%5B0.8572559999999999%2C%20-51.1795%5D%2C%20%5B0.6021850000000001%2C%20-50.6996%5D%2C%20%5B-0.8049109999999999%2C%20-52.453%5D%2C%20%5B0.034934%2C%20-51.0694%5D%2C%20%5B-0.11335999999999999%2C%20-51.2891%5D%2C%20%5B3.8407400000000003%2C%20-51.8331%5D%2C%20%5B0.71243%2C%20-51.4155%5D%2C%20%5B1.74543%2C%20-50.7892%5D%2C%20%5B-0.045433999999999995%2C%20-51.1729%5D%2C%20%5B1.50652%2C%20-50.9087%5D%2C%20%5B-0.938%2C%20-52.424%5D%2C%20%5B-9.62101%2C%20-49.1518%5D%2C%20%5B-6.5540899999999995%2C%20-47.4702%5D%2C%20%5B-11.3056%2C%20-48.9361%5D%2C%20%5B-11.5706%2C%20-47.1792%5D%2C%20%5B-12.4785%2C%20-49.1249%5D%2C%20%5B-6.36437%2C%20-48.0735%5D%2C%20%5B-6.39179%2C%20-47.8611%5D%2C%20%5B-9.94139%2C%20-47.9638%5D%2C%20%5B-7.16005%2C%20-48.5291%5D%2C%20%5B-8.80755%2C%20-49.5569%5D%2C%20%5B-12.9289%2C%20-49.8231%5D%2C%20%5B-7.19238%2C%20-48.2044%5D%2C%20%5B-6.58225%2C%20-48.6395%5D%2C%20%5B-5.64659%2C%20-48.1232%5D%2C%20%5B-7.65463%2C%20-49.0637%5D%2C%20%5B-12.9287%2C%20-46.9359%5D%2C%20%5B-5.46863%2C%20-47.8863%5D%2C%20%5B-12.7105%2C%20-46.4076%5D%2C%20%5B-5.61275%2C%20-47.7701%5D%2C%20%5B-7.209230000000001%2C%20-47.7613%5D%2C%20%5B-7.75612%2C%20-48.5836%5D%2C%20%5B-7.695930000000001%2C%20-47.6776%5D%2C%20%5B-9.83404%2C%20-48.7252%5D%2C%20%5B-7.874810000000001%2C%20-48.8893%5D%2C%20%5B-8.96306%2C%20-48.165%5D%2C%20%5B-8.38918%2C%20-48.4822%5D%2C%20%5B-11.0058%2C%20-48.5683%5D%2C%20%5B-5.3144800000000005%2C%20-48.2271%5D%2C%20%5B-6.1156%2C%20-47.9234%5D%2C%20%5B-7.989560000000001%2C%20-46.8645%5D%2C%20%5B-11.8881%2C%20-49.1609%5D%2C%20%5B-7.03262%2C%20-48.3978%5D%2C%20%5B-5.31415%2C%20-48.0314%5D%2C%20%5B-9.27612%2C%20-49.9521%5D%2C%20%5B-8.961030000000001%2C%20-47.3304%5D%2C%20%5B-10.1419%2C%20-49.1403%5D%2C%20%5B-11.6175%2C%20-47.7486%5D%2C%20%5B-8.05764%2C%20-48.4757%5D%2C%20%5B-12.7917%2C%20-46.5388%5D%2C%20%5B-12.2209%2C%20-47.2951%5D%2C%20%5B-8.28411%2C%20-49.2473%5D%2C%20%5B-10.5985%2C%20-49.1942%5D%2C%20%5B-11.0994%2C%20-48.9152%5D%2C%20%5B-6.715910000000001%2C%20-47.7597%5D%2C%20%5B-11.624%2C%20-46.8198%5D%2C%20%5B-9.800180000000001%2C%20-49.2169%5D%2C%20%5B-9.255339999999999%2C%20-49.0638%5D%2C%20%5B-11.3416%2C%20-49.2716%5D%2C%20%5B-5.3659300000000005%2C%20-48.5378%5D%2C%20%5B-10.7603%2C%20-48.9076%5D%2C%20%5B-12.1312%2C%20-49.1748%5D%2C%20%5B-7.3350100000000005%2C%20-47.4954%5D%2C%20%5B-11.7976%2C%20-49.5316%5D%2C%20%5B-9.05611%2C%20-48.5206%5D%2C%20%5B-8.77413%2C%20-48.9313%5D%2C%20%5B-7.71478%2C%20-47.3252%5D%2C%20%5B-8.83543%2C%20-48.5114%5D%2C%20%5B-11.7279%2C%20-49.068000000000005%5D%2C%20%5B-11.2329%2C%20-48.46%5D%2C%20%5B-8.39293%2C%20-47.7726%5D%2C%20%5B-5.77267%2C%20-47.4864%5D%2C%20%5B-8.37982%2C%20-48.1072%5D%2C%20%5B-8.57172%2C%20-48.6895%5D%2C%20%5B-12.6509%2C%20-48.589%5D%2C%20%5B-8.11951%2C%20-49.0643%5D%2C%20%5B-10.7906%2C%20-49.6199%5D%2C%20%5B-10.368%2C%20-47.538000000000004%5D%2C%20%5B-9.74996%2C%20-48.3565%5D%2C%20%5B-12.7847%2C%20-46.5099%5D%2C%20%5B-9.590019999999999%2C%20-46.6738%5D%2C%20%5B-6.17794%2C%20-47.8582%5D%2C%20%5B-9.79377%2C%20-49.6553%5D%2C%20%5B-10.5464%2C%20-46.4168%5D%2C%20%5B-5.95169%2C%20-47.5125%5D%2C%20%5B-9.565560000000001%2C%20-48.393%5D%2C%20%5B-9.529069999999999%2C%20-48.5922%5D%2C%20%5B-10.7611%2C%20-48.1114%5D%2C%20%5B-10.0075%2C%20-48.9941%5D%2C%20%5B-6.61658%2C%20-47.5464%5D%2C%20%5B-7.1466899999999995%2C%20-48.6091%5D%2C%20%5B-11.7034%2C%20-47.7223%5D%2C%20%5B-6.37496%2C%20-47.6643%5D%2C%20%5B-7.631710000000001%2C%20-48.4252%5D%2C%20%5B-10.5651%2C%20-48.9125%5D%2C%20%5B-9.97063%2C%20-47.6785%5D%2C%20%5B-12.9217%2C%20-46.5713%5D%2C%20%5B-11.825999999999999%2C%20-46.6325%5D%2C%20%5B-10.707%2C%20-48.9086%5D%2C%20%5B-7.847860000000001%2C%20-47.9242%5D%2C%20%5B-13.0447%2C%20-48.4026%5D%2C%20%5B-10.175%2C%20-48.8823%5D%2C%20%5B-12.6167%2C%20-47.8734%5D%2C%20%5B-7.53919%2C%20-49.367%5D%2C%20%5B-8.97034%2C%20-48.1729%5D%2C%20%5B-12.0254%2C%20-48.5395%5D%2C%20%5B-8.5932%2C%20-48.9327%5D%2C%20%5B-8.72463%2C%20-48.7638%5D%2C%20%5B-11.1311%2C%20-47.5726%5D%2C%20%5B-6.77302%2C%20-48.2958%5D%2C%20%5B-10.442%2C%20-49.1876%5D%2C%20%5B-12.0853%2C%20-46.4825%5D%2C%20%5B-10.7481%2C%20-47.5276%5D%2C%20%5B-11.618%2C%20-47.0621%5D%2C%20%5B-10.7027%2C%20-48.408%5D%2C%20%5B-5.39281%2C%20-47.8111%5D%2C%20%5B-8.5406%2C%20-48.5062%5D%2C%20%5B-10.424000000000001%2C%20-48.8957%5D%2C%20%5B-8.7227%2C%20-47.2421%5D%2C%20%5B-6.44005%2C%20-48.1371%5D%2C%20%5B-11.3949%2C%20-46.8847%5D%2C%20%5B-9.34425%2C%20-48.5245%5D%2C%20%5B-9.350019999999999%2C%20-47.888000000000005%5D%2C%20%5B-5.35423%2C%20-47.8782%5D%2C%20%5B-12.538%2C%20-49.9242%5D%2C%20%5B-7.15803%2C%20-48.7165%5D%2C%20%5B-8.8046%2C%20-47.7887%5D%2C%20%5B-10.8617%2C%20-48.9161%5D%2C%20%5B-11.4474%2C%20-48.1216%5D%2C%20%5B-10.2746%2C%20-47.8033%5D%2C%20%5B-6.444380000000001%2C%20-47.6684%5D%2C%20%5B-6.0258%2C%20-47.9012%5D%2C%20%5B-10.1615%2C%20-46.6618%5D%2C%20%5B-5.56305%2C%20-47.5743%5D%2C%20%5B-12.7458%2C%20-48.2352%5D%2C%20%5B-5.26131%2C%20-48.2021%5D%2C%20%5B-11.9743%2C%20-48.2353%5D%2C%20%5B-11.1471%2C%20-48.1694%5D%2C%20%5B-5.6012%2C%20-47.6381%5D%2C%20%5B-11.993%2C%20-48.9685%5D%2C%20%5B-12.4026%2C%20-46.437%5D%2C%20%5B-12.1873%2C%20-46.9797%5D%2C%20%5B-12.7949%2C%20-49.0896%5D%2C%20%5B-10.24%2C%20-48.3558%5D%2C%20%5B-9.5632%2C%20-48.3741%5D%2C%20%5B-6.32447%2C%20-47.4224%5D%2C%20%5B-8.971680000000001%2C%20-48.1883%5D%2C%20%5B-8.393880000000001%2C%20-48.1277%5D%2C%20%5B-6.85274%2C%20-47.9601%5D%2C%20%5B-6.4141%2C%20-48.532%5D%5D%2C%0A%20%20%20%20%20%20%20%20%20%20%20%20%20%20%20%20%7B%22blur%22%3A%2015%2C%20%22maxZoom%22%3A%2018%2C%20%22minOpacity%22%3A%200.5%2C%20%22radius%22%3A%2025%7D%0A%20%20%20%20%20%20%20%20%20%20%20%20%29.addTo%28map_c1d1be5613664d8ea852dbee6e7f757c%29%3B%0A%20%20%20%20%20%20%20%20%0A%20%20%20%20%0A%20%20%20%20%20%20%20%20%20%20%20%20var%20heat_map_6ce98fb6a62c4f9db6187e7593f0c4d1%20%3D%20L.heatLayer%28%0A%20%20%20%20%20%20%20%20%20%20%20%20%20%20%20%20%5B%5B-9.86215%2C%20-62.1876%5D%2C%20%5B-6.65677%2C%20-69.8662%5D%2C%20%5B-3.4843800000000003%2C%20-66.0718%5D%2C%20%5B-2.75814%2C%20-66.7595%5D%2C%20%5B-3.29066%2C%20-60.6216%5D%2C%20%5B-7.71311%2C%20-66.992%5D%2C%20%5B-5.62085%2C%20-63.1808%5D%2C%20%5B2.43998%2C%20-60.9096%5D%2C%20%5B-0.154874%2C%20-50.3861%5D%2C%20%5B-1.36391%2C%20-48.3743%5D%2C%20%5B-1.6803599999999999%2C%20-50.4791%5D%2C%20%5B-1.8117900000000002%2C%20-49.7952%5D%2C%20%5B-0.733214%2C%20-47.8515%5D%2C%20%5B-6.10389%2C%20-49.3553%5D%2C%20%5B-3.8433800000000002%2C%20-49.0974%5D%2C%20%5B-2.55992%2C%20-47.5059%5D%2C%20%5B-1.36002%2C%20-48.3421%5D%2C%20%5B-1.59772%2C%20-46.9268%5D%2C%20%5B-1.93639%2C%20-50.8194%5D%2C%20%5B-1.74691%2C%20-52.2361%5D%2C%20%5B-1.1921899999999999%2C%20-48.238%5D%2C%20%5B-0.73032%2C%20-48.5015%5D%2C%20%5B-3.7500699999999996%2C%20-47.4892%5D%2C%20%5B0.901357%2C%20-52.0036%5D%2C%20%5B-11.0994%2C%20-48.9152%5D%2C%20%5B-9.529069999999999%2C%20-48.5922%5D%2C%20%5B-12.538%2C%20-49.9242%5D%2C%20%5B-9.81528%2C%20-67.955%5D%2C%20%5B-5.12593%2C%20-60.3732%5D%2C%20%5B-2.99609%2C%20-65.1133%5D%2C%20%5B-1.8117900000000002%2C%20-49.7952%5D%2C%20%5B-1.1921899999999999%2C%20-48.238%5D%2C%20%5B-6.39471%2C%20-48.5592%5D%2C%20%5B-11.029000000000002%2C%20-62.6696%5D%2C%20%5B-9.81528%2C%20-67.955%5D%2C%20%5B-7.738639999999999%2C%20-72.661%5D%2C%20%5B2.60994%2C%20-60.6058%5D%2C%20%5B-0.154874%2C%20-50.3861%5D%2C%20%5B-6.79053%2C%20-50.4791%5D%2C%20%5B-1.75974%2C%20-46.5459%5D%2C%20%5B-7.810969999999999%2C%20-50.7698%5D%2C%20%5B-1.8117900000000002%2C%20-49.7952%5D%2C%20%5B-0.73032%2C%20-48.5015%5D%2C%20%5B-7.695930000000001%2C%20-47.6776%5D%2C%20%5B-6.715910000000001%2C%20-47.7597%5D%5D%2C%0A%20%20%20%20%20%20%20%20%20%20%20%20%20%20%20%20%7B%22blur%22%3A%2015%2C%20%22maxZoom%22%3A%2018%2C%20%22minOpacity%22%3A%200.5%2C%20%22radius%22%3A%2025%7D%0A%20%20%20%20%20%20%20%20%20%20%20%20%29.addTo%28map_c1d1be5613664d8ea852dbee6e7f757c%29%3B%0A%20%20%20%20%20%20%20%20%0A%20%20%20%20%0A%20%20%20%20%20%20%20%20%20%20%20%20var%20heat_map_fc6ddc3fbced42b8a7fa94578e16463d%20%3D%20L.heatLayer%28%0A%20%20%20%20%20%20%20%20%20%20%20%20%20%20%20%20%5B%5B-9.71429%2C%20-63.3188%5D%2C%20%5B-10.5712%2C%20-63.6266%5D%2C%20%5B-9.86215%2C%20-62.1876%5D%2C%20%5B-10.9298%2C%20-69.5738%5D%2C%20%5B-8.170539999999999%2C%20-70.351%5D%2C%20%5B-7.616569999999999%2C%20-72.8997%5D%2C%20%5B-8.93898%2C%20-72.7997%5D%2C%20%5B-8.26323%2C%20-72.7537%5D%2C%20%5B-10.1497%2C%20-67.7362%5D%2C%20%5B-4.377680000000001%2C%20-70.0342%5D%2C%20%5B-4.88161%2C%20-66.9086%5D%2C%20%5B-6.65677%2C%20-69.8662%5D%2C%20%5B-7.53797%2C%20-72.5907%5D%2C%20%5B-6.43852%2C%20-68.2437%5D%2C%20%5B-3.4843800000000003%2C%20-66.0718%5D%2C%20%5B-2.75814%2C%20-66.7595%5D%2C%20%5B-3.29066%2C%20-60.6216%5D%2C%20%5B-2.63637%2C%20-60.9434%5D%2C%20%5B-7.71311%2C%20-66.992%5D%2C%20%5B-2.55915%2C%20-57.8731%5D%2C%20%5B-5.62085%2C%20-63.1808%5D%2C%20%5B0.951659%2C%20-59.9133%5D%2C%20%5B-0.154874%2C%20-50.3861%5D%2C%20%5B-1.36391%2C%20-48.3743%5D%2C%20%5B-1.0510899999999999%2C%20-46.6147%5D%2C%20%5B-1.6803599999999999%2C%20-50.4791%5D%2C%20%5B-0.164154%2C%20-49.986999999999995%5D%2C%20%5B-1.8117900000000002%2C%20-49.7952%5D%2C%20%5B-0.733214%2C%20-47.8515%5D%2C%20%5B-6.10389%2C%20-49.3553%5D%2C%20%5B-7.55335%2C%20-49.7125%5D%2C%20%5B-2.55992%2C%20-47.5059%5D%2C%20%5B-5.38075%2C%20-49.1327%5D%2C%20%5B-0.7147020000000001%2C%20-47.7034%5D%2C%20%5B-1.36002%2C%20-48.3421%5D%2C%20%5B-1.8032%2C%20-50.7149%5D%2C%20%5B-1.93639%2C%20-50.8194%5D%2C%20%5B-1.74691%2C%20-52.2361%5D%2C%20%5B-1.1921899999999999%2C%20-48.238%5D%2C%20%5B-1.2968600000000001%2C%20-48.1606%5D%2C%20%5B-2.4384900000000003%2C%20-54.6996%5D%2C%20%5B-0.73032%2C%20-48.5015%5D%2C%20%5B-1.07653%2C%20-46.9031%5D%2C%20%5B-3.7500699999999996%2C%20-47.4892%5D%2C%20%5B0.901357%2C%20-52.0036%5D%2C%20%5B0.6021850000000001%2C%20-50.6996%5D%2C%20%5B-0.11335999999999999%2C%20-51.2891%5D%2C%20%5B-10.1419%2C%20-49.1403%5D%2C%20%5B-9.529069999999999%2C%20-48.5922%5D%2C%20%5B-12.538%2C%20-49.9242%5D%2C%20%5B-13.4945%2C%20-60.552%5D%2C%20%5B-13.1174%2C%20-60.5454%5D%2C%20%5B-11.169%2C%20-61.8986%5D%2C%20%5B-10.61%2C%20-62.7371%5D%2C%20%5B-11.029000000000002%2C%20-62.6696%5D%2C%20%5B-10.9298%2C%20-69.5738%5D%2C%20%5B-9.81528%2C%20-67.955%5D%2C%20%5B-8.170539999999999%2C%20-70.351%5D%2C%20%5B-7.738639999999999%2C%20-72.661%5D%2C%20%5B-3.58574%2C%20-59.1256%5D%2C%20%5B-3.89874%2C%20-61.3616%5D%2C%20%5B-8.74232%2C%20-67.3919%5D%2C%20%5B-3.3153699999999997%2C%20-61.2206%5D%2C%20%5B-4.094119999999999%2C%20-63.1441%5D%2C%20%5B-2.52342%2C%20-66.0942%5D%2C%20%5B-7.53797%2C%20-72.5907%5D%2C%20%5B-6.43852%2C%20-68.2437%5D%2C%20%5B-3.4843800000000003%2C%20-66.0718%5D%2C%20%5B-2.75814%2C%20-66.7595%5D%2C%20%5B-1.85313%2C%20-65.57300000000001%5D%2C%20%5B-5.12593%2C%20-60.3732%5D%2C%20%5B-2.55915%2C%20-57.8731%5D%2C%20%5B-2.99609%2C%20-65.1133%5D%2C%20%5B2.98858%2C%20-61.3072%5D%2C%20%5B-0.154874%2C%20-50.3861%5D%2C%20%5B-1.36391%2C%20-48.3743%5D%2C%20%5B-1.0510899999999999%2C%20-46.6147%5D%2C%20%5B-1.90057%2C%20-50.1987%5D%2C%20%5B-1.06126%2C%20-46.7826%5D%2C%20%5B-1.6803599999999999%2C%20-50.4791%5D%2C%20%5B-1.75974%2C%20-46.5459%5D%2C%20%5B-6.49659%2C%20-49.8776%5D%2C%20%5B-0.164154%2C%20-49.986999999999995%5D%2C%20%5B-1.8117900000000002%2C%20-49.7952%5D%2C%20%5B-6.10389%2C%20-49.3553%5D%2C%20%5B-5.38075%2C%20-49.1327%5D%2C%20%5B-1.36002%2C%20-48.3421%5D%2C%20%5B-1.93639%2C%20-50.8194%5D%2C%20%5B-1.74691%2C%20-52.2361%5D%2C%20%5B-1.1921899999999999%2C%20-48.238%5D%2C%20%5B-2.4384900000000003%2C%20-54.6996%5D%2C%20%5B-6.39471%2C%20-48.5592%5D%2C%20%5B-0.857885%2C%20-47.918%5D%2C%20%5B-5.36334%2C%20-48.7926%5D%2C%20%5B-4.3124199999999995%2C%20-51.5764%5D%2C%20%5B-1.07653%2C%20-46.9031%5D%2C%20%5B-3.7500699999999996%2C%20-47.4892%5D%2C%20%5B-1.1912399999999999%2C%20-46.1399%5D%2C%20%5B0.6021850000000001%2C%20-50.6996%5D%2C%20%5B-10.442%2C%20-49.1876%5D%2C%20%5B-6.44005%2C%20-48.1371%5D%2C%20%5B-12.538%2C%20-49.9242%5D%2C%20%5B-10.5712%2C%20-63.6266%5D%2C%20%5B-8.7907%2C%20-63.7005%5D%2C%20%5B-11.029000000000002%2C%20-62.6696%5D%2C%20%5B-9.81528%2C%20-67.955%5D%2C%20%5B-11.0188%2C%20-68.7341%5D%2C%20%5B-7.738639999999999%2C%20-72.661%5D%2C%20%5B-5.80462%2C%20-61.2895%5D%2C%20%5B-5.12593%2C%20-60.3732%5D%2C%20%5B-7.71311%2C%20-66.992%5D%2C%20%5B-2.99609%2C%20-65.1133%5D%2C%20%5B2.60994%2C%20-60.6058%5D%2C%20%5B0.951659%2C%20-59.9133%5D%2C%20%5B-0.154874%2C%20-50.3861%5D%2C%20%5B-6.79053%2C%20-50.4791%5D%2C%20%5B-1.36391%2C%20-48.3743%5D%2C%20%5B-1.90057%2C%20-50.1987%5D%2C%20%5B-3.7719099999999997%2C%20-49.5735%5D%2C%20%5B-1.6803599999999999%2C%20-50.4791%5D%2C%20%5B-1.75974%2C%20-46.5459%5D%2C%20%5B-0.164154%2C%20-49.986999999999995%5D%2C%20%5B-7.810969999999999%2C%20-50.7698%5D%2C%20%5B-1.8117900000000002%2C%20-49.7952%5D%2C%20%5B-6.10389%2C%20-49.3553%5D%2C%20%5B-3.8433800000000002%2C%20-49.0974%5D%2C%20%5B-1.97533%2C%20-48.9575%5D%2C%20%5B-1.4349%2C%20-47.9114%5D%2C%20%5B-5.13272%2C%20-49.3358%5D%2C%20%5B-6.21469%2C%20-57.7544%5D%2C%20%5B-0.7147020000000001%2C%20-47.7034%5D%2C%20%5B-1.8032%2C%20-50.7149%5D%2C%20%5B-1.8899299999999999%2C%20-48.7668%5D%2C%20%5B-1.3958700000000002%2C%20-48.8661%5D%2C%20%5B-1.93639%2C%20-50.8194%5D%2C%20%5B-8.02529%2C%20-50.0317%5D%2C%20%5B-2.4384900000000003%2C%20-54.6996%5D%2C%20%5B-6.39471%2C%20-48.5592%5D%2C%20%5B-0.780222%2C%20-47.181000000000004%5D%2C%20%5B-0.73032%2C%20-48.5015%5D%2C%20%5B-1.07653%2C%20-46.9031%5D%2C%20%5B-1.1912399999999999%2C%20-46.1399%5D%2C%20%5B0.6021850000000001%2C%20-50.6996%5D%2C%20%5B-0.11335999999999999%2C%20-51.2891%5D%2C%20%5B-6.715910000000001%2C%20-47.7597%5D%2C%20%5B-12.1312%2C%20-49.1748%5D%2C%20%5B-7.1466899999999995%2C%20-48.6091%5D%2C%20%5B-6.77302%2C%20-48.2958%5D%2C%20%5B-8.7227%2C%20-47.2421%5D%2C%20%5B-10.2746%2C%20-47.8033%5D%2C%20%5B-12.1873%2C%20-46.9797%5D%5D%2C%0A%20%20%20%20%20%20%20%20%20%20%20%20%20%20%20%20%7B%22blur%22%3A%2015%2C%20%22maxZoom%22%3A%2018%2C%20%22minOpacity%22%3A%200.5%2C%20%22radius%22%3A%2025%7D%0A%20%20%20%20%20%20%20%20%20%20%20%20%29.addTo%28map_c1d1be5613664d8ea852dbee6e7f757c%29%3B%0A%20%20%20%20%20%20%20%20%0A%3C/script%3E onload=\"this.contentDocument.open();this.contentDocument.write(    decodeURIComponent(this.getAttribute('data-html')));this.contentDocument.close();\" allowfullscreen webkitallowfullscreen mozallowfullscreen></iframe></div></div>"
      ],
      "text/plain": [
       "<folium.folium.Map at 0x7fe5816221d0>"
      ]
     },
     "execution_count": 77,
     "metadata": {},
     "output_type": "execute_result"
    }
   ],
   "source": [
    "# Adicionando os registros no mapa de calor:\n",
    "from folium import plugins\n",
    "\n",
    "mapa.add_child(plugins.HeatMap(coordenadas))        \n",
    "mapa"
   ]
  },
  {
   "cell_type": "code",
   "execution_count": 78,
   "metadata": {},
   "outputs": [
    {
     "data": {
      "text/plain": [
       "<matplotlib.axes._subplots.AxesSubplot at 0x7fe581ce27f0>"
      ]
     },
     "execution_count": 78,
     "metadata": {},
     "output_type": "execute_result"
    },
    {
     "data": {
      "image/png": "[encoded data removed]",
      "text/plain": [
       "<Figure size 432x288 with 1 Axes>"
      ]
     },
     "metadata": {
      "needs_background": "light"
     },
     "output_type": "display_data"
    }
   ],
   "source": [
    "#Distribuição dos dados entre os Estados\n",
    "\n",
    "df_vacinas[\"Estado\"].value_counts().plot(kind='bar')"
   ]
  },
  {
   "cell_type": "markdown",
   "metadata": {},
   "source": [
    "#### Municipios com aplicação ideal, entre 95% e 120%"
   ]
  },
  {
   "cell_type": "code",
   "execution_count": 79,
   "metadata": {},
   "outputs": [],
   "source": [
    "df_municipios_1d_ideal = df_vacinas[(df_vacinas[\"CV_SCR1 (1 ano)\"] >= 95) & (df_vacinas[\"CV_SCR1 (1 ano)\"] <= 120)]"
   ]
  },
  {
   "cell_type": "code",
   "execution_count": 80,
   "metadata": {},
   "outputs": [
    {
     "data": {
      "text/plain": [
       "(438, 29)"
      ]
     },
     "execution_count": 80,
     "metadata": {},
     "output_type": "execute_result"
    }
   ],
   "source": [
    "df_municipios_1d_ideal.shape"
   ]
  },
  {
   "cell_type": "code",
   "execution_count": 81,
   "metadata": {},
   "outputs": [],
   "source": [
    "# Merge dataset vacinas e geolocalização\n",
    "df_municipios_1d_ideal = pd.merge(df_municipios_1d_ideal, df_municipios, how='left', left_on='CODMUN7', right_on='codigo_ibge')"
   ]
  },
  {
   "cell_type": "code",
   "execution_count": 82,
   "metadata": {},
   "outputs": [],
   "source": [
    "# Extraindo as coordenadas\n",
    "coordenadas=[]\n",
    "for lat,lng in zip(df_municipios_1d_ideal.latitude.values,df_municipios_1d_ideal.longitude.values):\n",
    "  coordenadas.append([lat,lng])"
   ]
  },
  {
   "cell_type": "code",
   "execution_count": 83,
   "metadata": {},
   "outputs": [
    {
     "data": {
      "text/html": [
       "<div style=\"width:100%;\"><div style=\"position:relative;width:100%;height:0;padding-bottom:60%;\"><span style=\"color:#565656\">Make this Notebook Trusted to load map: File -> Trust Notebook</span><iframe src=\"about:blank\" style=\"position:absolute;width:100%;height:100%;left:0;top:0;border:none !important;\" data-html=%3C%21DOCTYPE%20html%3E%0A%3Chead%3E%20%20%20%20%0A%20%20%20%20%3Cmeta%20http-equiv%3D%22content-type%22%20content%3D%22text/html%3B%20charset%3DUTF-8%22%20/%3E%0A%20%20%20%20%0A%20%20%20%20%20%20%20%20%3Cscript%3E%0A%20%20%20%20%20%20%20%20%20%20%20%20L_NO_TOUCH%20%3D%20false%3B%0A%20%20%20%20%20%20%20%20%20%20%20%20L_DISABLE_3D%20%3D%20false%3B%0A%20%20%20%20%20%20%20%20%3C/script%3E%0A%20%20%20%20%0A%20%20%20%20%3Cstyle%3Ehtml%2C%20body%20%7Bwidth%3A%20100%25%3Bheight%3A%20100%25%3Bmargin%3A%200%3Bpadding%3A%200%3B%7D%3C/style%3E%0A%20%20%20%20%3Cstyle%3E%23map%20%7Bposition%3Aabsolute%3Btop%3A0%3Bbottom%3A0%3Bright%3A0%3Bleft%3A0%3B%7D%3C/style%3E%0A%20%20%20%20%3Cscript%20src%3D%22https%3A//cdn.jsdelivr.net/npm/leaflet%401.6.0/dist/leaflet.js%22%3E%3C/script%3E%0A%20%20%20%20%3Cscript%20src%3D%22https%3A//code.jquery.com/jquery-1.12.4.min.js%22%3E%3C/script%3E%0A%20%20%20%20%3Cscript%20src%3D%22https%3A//maxcdn.bootstrapcdn.com/bootstrap/3.2.0/js/bootstrap.min.js%22%3E%3C/script%3E%0A%20%20%20%20%3Cscript%20src%3D%22https%3A//cdnjs.cloudflare.com/ajax/libs/Leaflet.awesome-markers/2.0.2/leaflet.awesome-markers.js%22%3E%3C/script%3E%0A%20%20%20%20%3Clink%20rel%3D%22stylesheet%22%20href%3D%22https%3A//cdn.jsdelivr.net/npm/leaflet%401.6.0/dist/leaflet.css%22/%3E%0A%20%20%20%20%3Clink%20rel%3D%22stylesheet%22%20href%3D%22https%3A//maxcdn.bootstrapcdn.com/bootstrap/3.2.0/css/bootstrap.min.css%22/%3E%0A%20%20%20%20%3Clink%20rel%3D%22stylesheet%22%20href%3D%22https%3A//maxcdn.bootstrapcdn.com/bootstrap/3.2.0/css/bootstrap-theme.min.css%22/%3E%0A%20%20%20%20%3Clink%20rel%3D%22stylesheet%22%20href%3D%22https%3A//maxcdn.bootstrapcdn.com/font-awesome/4.6.3/css/font-awesome.min.css%22/%3E%0A%20%20%20%20%3Clink%20rel%3D%22stylesheet%22%20href%3D%22https%3A//cdnjs.cloudflare.com/ajax/libs/Leaflet.awesome-markers/2.0.2/leaflet.awesome-markers.css%22/%3E%0A%20%20%20%20%3Clink%20rel%3D%22stylesheet%22%20href%3D%22https%3A//cdn.jsdelivr.net/gh/python-visualization/folium/folium/templates/leaflet.awesome.rotate.min.css%22/%3E%0A%20%20%20%20%0A%20%20%20%20%20%20%20%20%20%20%20%20%3Cmeta%20name%3D%22viewport%22%20content%3D%22width%3Ddevice-width%2C%0A%20%20%20%20%20%20%20%20%20%20%20%20%20%20%20%20initial-scale%3D1.0%2C%20maximum-scale%3D1.0%2C%20user-scalable%3Dno%22%20/%3E%0A%20%20%20%20%20%20%20%20%20%20%20%20%3Cstyle%3E%0A%20%20%20%20%20%20%20%20%20%20%20%20%20%20%20%20%23map_c1d1be5613664d8ea852dbee6e7f757c%20%7B%0A%20%20%20%20%20%20%20%20%20%20%20%20%20%20%20%20%20%20%20%20position%3A%20relative%3B%0A%20%20%20%20%20%20%20%20%20%20%20%20%20%20%20%20%20%20%20%20width%3A%20100.0%25%3B%0A%20%20%20%20%20%20%20%20%20%20%20%20%20%20%20%20%20%20%20%20height%3A%20100.0%25%3B%0A%20%20%20%20%20%20%20%20%20%20%20%20%20%20%20%20%20%20%20%20left%3A%200.0%25%3B%0A%20%20%20%20%20%20%20%20%20%20%20%20%20%20%20%20%20%20%20%20top%3A%200.0%25%3B%0A%20%20%20%20%20%20%20%20%20%20%20%20%20%20%20%20%7D%0A%20%20%20%20%20%20%20%20%20%20%20%20%3C/style%3E%0A%20%20%20%20%20%20%20%20%0A%20%20%20%20%3Cscript%20src%3D%22https%3A//cdn.jsdelivr.net/gh/python-visualization/folium%40master/folium/templates/leaflet_heat.min.js%22%3E%3C/script%3E%0A%3C/head%3E%0A%3Cbody%3E%20%20%20%20%0A%20%20%20%20%0A%20%20%20%20%20%20%20%20%20%20%20%20%3Cdiv%20class%3D%22folium-map%22%20id%3D%22map_c1d1be5613664d8ea852dbee6e7f757c%22%20%3E%3C/div%3E%0A%20%20%20%20%20%20%20%20%0A%3C/body%3E%0A%3Cscript%3E%20%20%20%20%0A%20%20%20%20%0A%20%20%20%20%20%20%20%20%20%20%20%20var%20map_c1d1be5613664d8ea852dbee6e7f757c%20%3D%20L.map%28%0A%20%20%20%20%20%20%20%20%20%20%20%20%20%20%20%20%22map_c1d1be5613664d8ea852dbee6e7f757c%22%2C%0A%20%20%20%20%20%20%20%20%20%20%20%20%20%20%20%20%7B%0A%20%20%20%20%20%20%20%20%20%20%20%20%20%20%20%20%20%20%20%20center%3A%20%5B-15.788497%2C%20-47.879873%5D%2C%0A%20%20%20%20%20%20%20%20%20%20%20%20%20%20%20%20%20%20%20%20crs%3A%20L.CRS.EPSG3857%2C%0A%20%20%20%20%20%20%20%20%20%20%20%20%20%20%20%20%20%20%20%20zoom%3A%204.5%2C%0A%20%20%20%20%20%20%20%20%20%20%20%20%20%20%20%20%20%20%20%20zoomControl%3A%20true%2C%0A%20%20%20%20%20%20%20%20%20%20%20%20%20%20%20%20%20%20%20%20preferCanvas%3A%20false%2C%0A%20%20%20%20%20%20%20%20%20%20%20%20%20%20%20%20%7D%0A%20%20%20%20%20%20%20%20%20%20%20%20%29%3B%0A%0A%20%20%20%20%20%20%20%20%20%20%20%20%0A%0A%20%20%20%20%20%20%20%20%0A%20%20%20%20%0A%20%20%20%20%20%20%20%20%20%20%20%20var%20tile_layer_30341c59551645a191a476e7907cbbb2%20%3D%20L.tileLayer%28%0A%20%20%20%20%20%20%20%20%20%20%20%20%20%20%20%20%22https%3A//stamen-tiles-%7Bs%7D.a.ssl.fastly.net/toner/%7Bz%7D/%7Bx%7D/%7By%7D.png%22%2C%0A%20%20%20%20%20%20%20%20%20%20%20%20%20%20%20%20%7B%22attribution%22%3A%20%22Map%20tiles%20by%20%5Cu003ca%20href%3D%5C%22http%3A//stamen.com%5C%22%5Cu003eStamen%20Design%5Cu003c/a%5Cu003e%2C%20under%20%5Cu003ca%20href%3D%5C%22http%3A//creativecommons.org/licenses/by/3.0%5C%22%5Cu003eCC%20BY%203.0%5Cu003c/a%5Cu003e.%20Data%20by%20%5Cu0026copy%3B%20%5Cu003ca%20href%3D%5C%22http%3A//openstreetmap.org%5C%22%5Cu003eOpenStreetMap%5Cu003c/a%5Cu003e%2C%20under%20%5Cu003ca%20href%3D%5C%22http%3A//www.openstreetmap.org/copyright%5C%22%5Cu003eODbL%5Cu003c/a%5Cu003e.%22%2C%20%22detectRetina%22%3A%20false%2C%20%22maxNativeZoom%22%3A%2018%2C%20%22maxZoom%22%3A%2018%2C%20%22minZoom%22%3A%200%2C%20%22noWrap%22%3A%20false%2C%20%22opacity%22%3A%201%2C%20%22subdomains%22%3A%20%22abc%22%2C%20%22tms%22%3A%20false%7D%0A%20%20%20%20%20%20%20%20%20%20%20%20%29.addTo%28map_c1d1be5613664d8ea852dbee6e7f757c%29%3B%0A%20%20%20%20%20%20%20%20%0A%20%20%20%20%0A%20%20%20%20%20%20%20%20%20%20%20%20var%20heat_map_b8b54a7eb2d54d76be9ad9f544d1b231%20%3D%20L.heatLayer%28%0A%20%20%20%20%20%20%20%20%20%20%20%20%20%20%20%20%5B%5B-11.9283%2C%20-61.9953%5D%2C%20%5B-9.905710000000001%2C%20-63.0325%5D%2C%20%5B-13.4945%2C%20-60.552%5D%2C%20%5B-11.4343%2C%20-61.4562%5D%2C%20%5B-13.187000000000001%2C%20-60.8168%5D%2C%20%5B-13.1174%2C%20-60.5454%5D%2C%20%5B-12.9551%2C%20-60.8947%5D%2C%20%5B-12.4367%2C%20-64.22800000000001%5D%2C%20%5B-11.5266%2C%20-61.0252%5D%2C%20%5B-10.7889%2C%20-65.3296%5D%2C%20%5B-10.4318%2C%20-62.4788%5D%2C%20%5B-10.8777%2C%20-61.9322%5D%2C%20%5B-9.44363%2C%20-61.9818%5D%2C%20%5B-11.7247%2C%20-62.3127%5D%2C%20%5B-10.7167%2C%20-62.2565%5D%2C%20%5B-11.672%2C%20-61.198%5D%2C%20%5B-8.760769999999999%2C%20-63.8999%5D%2C%20%5B-11.169%2C%20-61.8986%5D%2C%20%5B-9.69965%2C%20-62.9011%5D%2C%20%5B-11.7271%2C%20-61.7714%5D%2C%20%5B-11.9074%2C%20-61.7777%5D%2C%20%5B-12.7502%2C%20-60.1488%5D%2C%20%5B-11.6953%2C%20-62.7192%5D%2C%20%5B-10.4077%2C%20-65.3346%5D%2C%20%5B-11.3463%2C%20-62.2847%5D%2C%20%5B-12.132%2C%20-61.835%5D%2C%20%5B-9.71429%2C%20-63.3188%5D%2C%20%5B-10.1943%2C%20-63.8324%5D%2C%20%5B-11.6961%2C%20-61.9951%5D%2C%20%5B-10.349%2C%20-62.9043%5D%2C%20%5B-10.5712%2C%20-63.6266%5D%2C%20%5B-8.7907%2C%20-63.7005%5D%2C%20%5B-11.4253%2C%20-61.9482%5D%2C%20%5B-12.5611%2C%20-60.8877%5D%2C%20%5B-9.36065%2C%20-62.5846%5D%2C%20%5B-10.61%2C%20-62.7371%5D%2C%20%5B-9.19687%2C%20-63.1809%5D%2C%20%5B-11.196%2C%20-61.5174%5D%2C%20%5B-11.029000000000002%2C%20-62.6696%5D%2C%20%5B-10.2458%2C%20-63.29%5D%2C%20%5B-10.9068%2C%20-62.5564%5D%2C%20%5B-12.1754%2C%20-61.6032%5D%2C%20%5B-13.4823%2C%20-61.0471%5D%2C%20%5B-11.8295%2C%20-61.3153%5D%2C%20%5B-11.9023%2C%20-61.5026%5D%2C%20%5B-12.052%2C%20-63.568000000000005%5D%2C%20%5B-11.8055%2C%20-63.0182%5D%2C%20%5B-10.9056%2C%20-62.242%5D%2C%20%5B-10.2483%2C%20-62.3538%5D%2C%20%5B-11.1261%2C%20-62.3639%5D%2C%20%5B-9.86215%2C%20-62.1876%5D%2C%20%5B-10.4465%2C%20-62.1352%5D%2C%20%5B-9.82581%2C%20-66.8972%5D%2C%20%5B-10.9298%2C%20-69.5738%5D%2C%20%5B-10.995%2C%20-68.7497%5D%2C%20%5B-9.81528%2C%20-67.955%5D%2C%20%5B-10.565999999999999%2C%20-67.686%5D%2C%20%5B-7.627619999999999%2C%20-72.6756%5D%2C%20%5B-11.0188%2C%20-68.7341%5D%2C%20%5B-8.170539999999999%2C%20-70.351%5D%2C%20%5B-9.43091%2C%20-71.8974%5D%2C%20%5B-7.616569999999999%2C%20-72.8997%5D%2C%20%5B-8.83291%2C%20-69.2679%5D%2C%20%5B-8.93898%2C%20-72.7997%5D%2C%20%5B-10.2806%2C%20-67.1371%5D%2C%20%5B-8.26323%2C%20-72.7537%5D%2C%20%5B-9.97499%2C%20-67.8243%5D%2C%20%5B-7.738639999999999%2C%20-72.661%5D%2C%20%5B-9.44652%2C%20-70.4902%5D%2C%20%5B-10.1497%2C%20-67.7362%5D%2C%20%5B-9.06596%2C%20-68.6571%5D%2C%20%5B-8.15697%2C%20-70.7722%5D%2C%20%5B-10.6516%2C%20-68.4969%5D%2C%20%5B-9.581380000000001%2C%20-67.5478%5D%2C%20%5B-3.22727%2C%20-64.8007%5D%2C%20%5B-3.37455%2C%20-68.2005%5D%2C%20%5B-3.5669699999999995%2C%20-61.3963%5D%2C%20%5B-3.74603%2C%20-61.6575%5D%2C%20%5B-7.194089999999999%2C%20-59.896%5D%2C%20%5B-4.37055%2C%20-70.1967%5D%2C%20%5B-3.58574%2C%20-59.1256%5D%2C%20%5B-0.9833729999999999%2C%20-62.9311%5D%2C%20%5B-2.79886%2C%20-57.0679%5D%2C%20%5B-4.377680000000001%2C%20-70.0342%5D%2C%20%5B-3.89874%2C%20-61.3616%5D%2C%20%5B-2.9740900000000003%2C%20-57.5873%5D%2C%20%5B-8.74232%2C%20-67.3919%5D%2C%20%5B-4.39154%2C%20-59.5874%5D%2C%20%5B-3.3153699999999997%2C%20-61.2206%5D%2C%20%5B-6.5258199999999995%2C%20-64.3953%5D%2C%20%5B-4.88161%2C%20-66.9086%5D%2C%20%5B-3.7680300000000004%2C%20-60.369%5D%2C%20%5B-3.3139999999999996%2C%20-59.5557%5D%2C%20%5B-4.094119999999999%2C%20-63.1441%5D%2C%20%5B-3.8305300000000004%2C%20-62.0658%5D%2C%20%5B-6.65677%2C%20-69.8662%5D%2C%20%5B-7.4378899999999994%2C%20-70.0281%5D%2C%20%5B-2.52342%2C%20-66.0942%5D%2C%20%5B-7.53797%2C%20-72.5907%5D%2C%20%5B-7.511710000000001%2C%20-63.0327%5D%2C%20%5B-7.047910000000001%2C%20-71.6934%5D%2C%20%5B-3.2747900000000003%2C%20-60.19%5D%2C%20%5B-3.13861%2C%20-58.4449%5D%2C%20%5B-6.43852%2C%20-68.2437%5D%2C%20%5B-2.7408099999999997%2C%20-58.0293%5D%2C%20%5B-1.88237%2C%20-66.9291%5D%2C%20%5B-3.4843800000000003%2C%20-66.0718%5D%2C%20%5B-2.75814%2C%20-66.7595%5D%2C%20%5B-7.264130000000001%2C%20-64.7948%5D%2C%20%5B-3.29066%2C%20-60.6216%5D%2C%20%5B-3.44078%2C%20-60.4612%5D%2C%20%5B-3.1186599999999998%2C%20-60.0212%5D%2C%20%5B-5.80462%2C%20-61.2895%5D%2C%20%5B-1.85313%2C%20-65.57300000000001%5D%2C%20%5B-3.39289%2C%20-57.7067%5D%2C%20%5B-2.2079299999999997%2C%20-56.7112%5D%2C%20%5B-3.9003699999999997%2C%20-59.093999999999994%5D%2C%20%5B-2.63637%2C%20-60.9434%5D%2C%20%5B-5.12593%2C%20-60.3732%5D%2C%20%5B-2.63741%2C%20-56.729%5D%2C%20%5B-7.71311%2C%20-66.992%5D%2C%20%5B-2.02981%2C%20-60.0234%5D%2C%20%5B-2.7045%2C%20-59.6858%5D%2C%20%5B-0.41082399999999997%2C%20-65.0092%5D%2C%20%5B-3.09544%2C%20-67.9463%5D%2C%20%5B-0.11909000000000002%2C%20-67.084%5D%2C%20%5B-3.47292%2C%20-68.9646%5D%2C%20%5B-2.55915%2C%20-57.8731%5D%2C%20%5B-2.8174799999999998%2C%20-58.248000000000005%5D%2C%20%5B-4.2416%2C%20-69.9383%5D%2C%20%5B-5.62085%2C%20-63.1808%5D%2C%20%5B-3.3682199999999995%2C%20-64.7193%5D%2C%20%5B-2.8658200000000003%2C%20-67.7919%5D%2C%20%5B-2.99609%2C%20-65.1133%5D%2C%20%5B-2.52936%2C%20-57.7538%5D%2C%20%5B-3.1284099999999997%2C%20-58.1496%5D%2C%20%5B3.64571%2C%20-61.3692%5D%2C%20%5B2.98858%2C%20-61.3072%5D%2C%20%5B2.82384%2C%20-60.6753%5D%2C%20%5B3.3616099999999998%2C%20-59.8333%5D%2C%20%5B2.60994%2C%20-60.6058%5D%2C%20%5B1.8276599999999998%2C%20-61.1304%5D%2C%20%5B0.8842030000000001%2C%20-59.6959%5D%2C%20%5B2.18305%2C%20-61.0415%5D%2C%20%5B2.43998%2C%20-60.9096%5D%2C%20%5B3.8853%2C%20-59.6204%5D%2C%20%5B4.4799%2C%20-61.1477%5D%2C%20%5B0.9399559999999999%2C%20-60.4389%5D%2C%20%5B0.951659%2C%20-59.9133%5D%2C%20%5B1.01019%2C%20-60.0419%5D%2C%20%5B4.60314%2C%20-60.1815%5D%2C%20%5B-1.72183%2C%20-48.8788%5D%2C%20%5B-4.95333%2C%20-48.3933%5D%2C%20%5B-1.95383%2C%20-48.1985%5D%2C%20%5B-0.154874%2C%20-50.3861%5D%2C%20%5B-6.79053%2C%20-50.4791%5D%2C%20%5B-1.94623%2C%20-54.7384%5D%2C%20%5B-1.52904%2C%20-52.5788%5D%2C%20%5B-3.20407%2C%20-52.21%5D%2C%20%5B-0.9968110000000001%2C%20-49.9354%5D%2C%20%5B-1.36391%2C%20-48.3743%5D%2C%20%5B-3.46985%2C%20-51.2003%5D%2C%20%5B-1.0510899999999999%2C%20-46.6147%5D%2C%20%5B-2.14898%2C%20-47.5677%5D%2C%20%5B-3.6084099999999997%2C%20-55.3199%5D%2C%20%5B-1.90057%2C%20-50.1987%5D%2C%20%5B-2.7902099999999996%2C%20-49.6694%5D%2C%20%5B-7.34779%2C%20-50.3959%5D%2C%20%5B-1.51187%2C%20-48.6195%5D%2C%20%5B-1.4554%2C%20-48.4898%5D%2C%20%5B-2.6360900000000003%2C%20-54.9374%5D%2C%20%5B-1.3618299999999999%2C%20-48.2434%5D%2C%20%5B-5.0424%2C%20-48.6047%5D%2C%20%5B-1.36745%2C%20-47.3066%5D%2C%20%5B-1.06126%2C%20-46.7826%5D%2C%20%5B-3.2979199999999995%2C%20-52.534%5D%2C%20%5B-5.69822%2C%20-48.4103%5D%2C%20%5B-3.7719099999999997%2C%20-49.5735%5D%2C%20%5B-1.6803599999999999%2C%20-50.4791%5D%2C%20%5B-1.51762%2C%20-48.0381%5D%2C%20%5B-1.75974%2C%20-46.5459%5D%2C%20%5B-1.01226%2C%20-48.9503%5D%2C%20%5B-2.24295%2C%20-49.4979%5D%2C%20%5B-6.49659%2C%20-49.8776%5D%2C%20%5B-1.20529%2C%20-47.1778%5D%2C%20%5B-1.74785%2C%20-47.0629%5D%2C%20%5B-1.29797%2C%20-47.9167%5D%2C%20%5B-0.164154%2C%20-49.986999999999995%5D%2C%20%5B-0.936423%2C%20-48.2803%5D%2C%20%5B-8.26136%2C%20-49.2689%5D%2C%20%5B-1.9923799999999998%2C%20-47.9422%5D%2C%20%5B-7.810969999999999%2C%20-50.7698%5D%2C%20%5B-6.09965%2C%20-49.6068%5D%2C%20%5B-1.8117900000000002%2C%20-49.7952%5D%2C%20%5B-1.88775%2C%20-55.1168%5D%2C%20%5B-0.733214%2C%20-47.8515%5D%2C%20%5B-4.19944%2C%20-47.8245%5D%2C%20%5B-6.10389%2C%20-49.3553%5D%2C%20%5B-2.16805%2C%20-56.7405%5D%2C%20%5B-7.55335%2C%20-49.7125%5D%2C%20%5B-1.92986%2C%20-47.0505%5D%2C%20%5B-3.8433800000000002%2C%20-49.0974%5D%2C%20%5B-1.41412%2C%20-51.6338%5D%2C%20%5B-1.12539%2C%20-47.626000000000005%5D%2C%20%5B-1.97533%2C%20-48.9575%5D%2C%20%5B-1.4349%2C%20-47.9114%5D%2C%20%5B-2.55992%2C%20-47.5059%5D%2C%20%5B-1.76984%2C%20-47.446000000000005%5D%2C%20%5B-4.2667%2C%20-55.9926%5D%2C%20%5B-5.13272%2C%20-49.3358%5D%2C%20%5B-6.21469%2C%20-57.7544%5D%2C%20%5B-4.4461699999999995%2C%20-49.1153%5D%2C%20%5B-2.1634700000000002%2C%20-56.0889%5D%2C%20%5B-1.8985%2C%20-49.3903%5D%2C%20%5B-2.0568299999999997%2C%20-47.5601%5D%2C%20%5B-0.803391%2C%20-47.6014%5D%2C%20%5B-5.38075%2C%20-49.1327%5D%2C%20%5B-0.778899%2C%20-47.452%5D%2C%20%5B-0.7147020000000001%2C%20-47.7034%5D%2C%20%5B-1.36002%2C%20-48.3421%5D%2C%20%5B-3.4463699999999995%2C%20-52.8875%5D%2C%20%5B-1.8032%2C%20-50.7149%5D%2C%20%5B-2.5831%2C%20-49.5042%5D%2C%20%5B-1.8899299999999999%2C%20-48.7668%5D%2C%20%5B-1.99768%2C%20-54.0724%5D%2C%20%5B-1.53936%2C%20-49.2224%5D%2C%20%5B-2.26693%2C%20-46.9731%5D%2C%20%5B-4.91622%2C%20-49.0822%5D%2C%20%5B-1.20874%2C%20-47.3921%5D%2C%20%5B-7.14347%2C%20-55.3786%5D%2C%20%5B-4.24749%2C%20-49.9499%5D%2C%20%5B-1.90107%2C%20-55.5208%5D%2C%20%5B-2.00358%2C%20-49.8628%5D%2C%20%5B-1.7598900000000002%2C%20-55.8579%5D%2C%20%5B-1.54168%2C%20-47.1126%5D%2C%20%5B-6.7529%2C%20-51.0858%5D%2C%20%5B-3.8354199999999996%2C%20-50.6399%5D%2C%20%5B-5.74027%2C%20-48.3181%5D%2C%20%5B-3.00212%2C%20-47.3527%5D%2C%20%5B-6.06781%2C%20-49.9037%5D%2C%20%5B-1.59772%2C%20-46.9268%5D%2C%20%5B-1.19382%2C%20-47.324%5D%2C%20%5B-6.43778%2C%20-48.8716%5D%2C%20%5B-3.8681300000000003%2C%20-54.2124%5D%2C%20%5B-1.3958700000000002%2C%20-48.8661%5D%2C%20%5B-1.93639%2C%20-50.8194%5D%2C%20%5B-1.74691%2C%20-52.2361%5D%2C%20%5B-1.798%2C%20-53.4779%5D%2C%20%5B-0.9454389999999999%2C%20-47.1253%5D%2C%20%5B-0.8996040000000001%2C%20-47.0134%5D%2C%20%5B-8.02529%2C%20-50.0317%5D%2C%20%5B-7.312360000000001%2C%20-50.0379%5D%2C%20%5B-4.7779300000000005%2C%20-48.067%5D%2C%20%5B-4.100280000000001%2C%20-54.9092%5D%2C%20%5B-0.630815%2C%20-47.3465%5D%2C%20%5B-0.758444%2C%20-48.5139%5D%2C%20%5B-1.1921899999999999%2C%20-48.238%5D%2C%20%5B-0.6610189999999999%2C%20-49.1771%5D%2C%20%5B-1.2968600000000001%2C%20-48.1606%5D%2C%20%5B-1.52147%2C%20-46.9008%5D%2C%20%5B-8.85784%2C%20-49.7215%5D%2C%20%5B-1.35392%2C%20-47.5712%5D%2C%20%5B-9.3281%2C%20-50.35%5D%2C%20%5B-2.4384900000000003%2C%20-54.6996%5D%2C%20%5B-0.9309700000000001%2C%20-47.3855%5D%2C%20%5B-1.1522%2C%20-48.1314%5D%2C%20%5B-0.747293%2C%20-48.0246%5D%2C%20%5B-5.537319999999999%2C%20-48.7366%5D%2C%20%5B-1.6876799999999998%2C%20-47.7665%5D%2C%20%5B-6.6425399999999994%2C%20-51.9904%5D%2C%20%5B-1.16963%2C%20-47.7917%5D%2C%20%5B-6.39471%2C%20-48.5592%5D%2C%20%5B-0.857885%2C%20-47.918%5D%2C%20%5B-0.780222%2C%20-47.181000000000004%5D%2C%20%5B-5.36334%2C%20-48.7926%5D%2C%20%5B-1.61307%2C%20-47.4784%5D%2C%20%5B-1.71597%2C%20-49.5249%5D%2C%20%5B-6.940180000000001%2C%20-49.6834%5D%2C%20%5B-4.3124199999999995%2C%20-51.5764%5D%2C%20%5B-0.73032%2C%20-48.5015%5D%2C%20%5B-2.94584%2C%20-48.9489%5D%2C%20%5B-1.0296299999999998%2C%20-47.9004%5D%2C%20%5B-2.10443%2C%20-56.4877%5D%2C%20%5B-2.41302%2C%20-48.1415%5D%2C%20%5B-1.07653%2C%20-46.9031%5D%2C%20%5B-4.5734699999999995%2C%20-55.9429%5D%2C%20%5B-6.7468699999999995%2C%20-51.1626%5D%2C%20%5B-3.7657%2C%20-49.6773%5D%2C%20%5B-3.7500699999999996%2C%20-47.4892%5D%2C%20%5B-3.71519%2C%20-53.7396%5D%2C%20%5B-0.861194%2C%20-48.1386%5D%2C%20%5B-1.1912399999999999%2C%20-46.1399%5D%2C%20%5B-2.87922%2C%20-52.0088%5D%2C%20%5B-7.0983%2C%20-49.9437%5D%2C%20%5B0.901357%2C%20-52.0036%5D%2C%20%5B2.05267%2C%20-50.7957%5D%2C%20%5B0.777424%2C%20-51.9503%5D%2C%20%5B2.50475%2C%20-50.9512%5D%2C%20%5B0.9707610000000001%2C%20-50.8005%5D%2C%20%5B0.8572559999999999%2C%20-51.1795%5D%2C%20%5B0.6021850000000001%2C%20-50.6996%5D%2C%20%5B-0.8049109999999999%2C%20-52.453%5D%2C%20%5B0.034934%2C%20-51.0694%5D%2C%20%5B-0.11335999999999999%2C%20-51.2891%5D%2C%20%5B3.8407400000000003%2C%20-51.8331%5D%2C%20%5B0.71243%2C%20-51.4155%5D%2C%20%5B1.74543%2C%20-50.7892%5D%2C%20%5B-0.045433999999999995%2C%20-51.1729%5D%2C%20%5B1.50652%2C%20-50.9087%5D%2C%20%5B-0.938%2C%20-52.424%5D%2C%20%5B-9.62101%2C%20-49.1518%5D%2C%20%5B-6.5540899999999995%2C%20-47.4702%5D%2C%20%5B-11.3056%2C%20-48.9361%5D%2C%20%5B-11.5706%2C%20-47.1792%5D%2C%20%5B-12.4785%2C%20-49.1249%5D%2C%20%5B-6.36437%2C%20-48.0735%5D%2C%20%5B-6.39179%2C%20-47.8611%5D%2C%20%5B-9.94139%2C%20-47.9638%5D%2C%20%5B-7.16005%2C%20-48.5291%5D%2C%20%5B-8.80755%2C%20-49.5569%5D%2C%20%5B-12.9289%2C%20-49.8231%5D%2C%20%5B-7.19238%2C%20-48.2044%5D%2C%20%5B-6.58225%2C%20-48.6395%5D%2C%20%5B-5.64659%2C%20-48.1232%5D%2C%20%5B-7.65463%2C%20-49.0637%5D%2C%20%5B-12.9287%2C%20-46.9359%5D%2C%20%5B-5.46863%2C%20-47.8863%5D%2C%20%5B-12.7105%2C%20-46.4076%5D%2C%20%5B-5.61275%2C%20-47.7701%5D%2C%20%5B-7.209230000000001%2C%20-47.7613%5D%2C%20%5B-7.75612%2C%20-48.5836%5D%2C%20%5B-7.695930000000001%2C%20-47.6776%5D%2C%20%5B-9.83404%2C%20-48.7252%5D%2C%20%5B-7.874810000000001%2C%20-48.8893%5D%2C%20%5B-8.96306%2C%20-48.165%5D%2C%20%5B-8.38918%2C%20-48.4822%5D%2C%20%5B-11.0058%2C%20-48.5683%5D%2C%20%5B-5.3144800000000005%2C%20-48.2271%5D%2C%20%5B-6.1156%2C%20-47.9234%5D%2C%20%5B-7.989560000000001%2C%20-46.8645%5D%2C%20%5B-11.8881%2C%20-49.1609%5D%2C%20%5B-7.03262%2C%20-48.3978%5D%2C%20%5B-5.31415%2C%20-48.0314%5D%2C%20%5B-9.27612%2C%20-49.9521%5D%2C%20%5B-8.961030000000001%2C%20-47.3304%5D%2C%20%5B-10.1419%2C%20-49.1403%5D%2C%20%5B-11.6175%2C%20-47.7486%5D%2C%20%5B-8.05764%2C%20-48.4757%5D%2C%20%5B-12.7917%2C%20-46.5388%5D%2C%20%5B-12.2209%2C%20-47.2951%5D%2C%20%5B-8.28411%2C%20-49.2473%5D%2C%20%5B-10.5985%2C%20-49.1942%5D%2C%20%5B-11.0994%2C%20-48.9152%5D%2C%20%5B-6.715910000000001%2C%20-47.7597%5D%2C%20%5B-11.624%2C%20-46.8198%5D%2C%20%5B-9.800180000000001%2C%20-49.2169%5D%2C%20%5B-9.255339999999999%2C%20-49.0638%5D%2C%20%5B-11.3416%2C%20-49.2716%5D%2C%20%5B-5.3659300000000005%2C%20-48.5378%5D%2C%20%5B-10.7603%2C%20-48.9076%5D%2C%20%5B-12.1312%2C%20-49.1748%5D%2C%20%5B-7.3350100000000005%2C%20-47.4954%5D%2C%20%5B-11.7976%2C%20-49.5316%5D%2C%20%5B-9.05611%2C%20-48.5206%5D%2C%20%5B-8.77413%2C%20-48.9313%5D%2C%20%5B-7.71478%2C%20-47.3252%5D%2C%20%5B-8.83543%2C%20-48.5114%5D%2C%20%5B-11.7279%2C%20-49.068000000000005%5D%2C%20%5B-11.2329%2C%20-48.46%5D%2C%20%5B-8.39293%2C%20-47.7726%5D%2C%20%5B-5.77267%2C%20-47.4864%5D%2C%20%5B-8.37982%2C%20-48.1072%5D%2C%20%5B-8.57172%2C%20-48.6895%5D%2C%20%5B-12.6509%2C%20-48.589%5D%2C%20%5B-8.11951%2C%20-49.0643%5D%2C%20%5B-10.7906%2C%20-49.6199%5D%2C%20%5B-10.368%2C%20-47.538000000000004%5D%2C%20%5B-9.74996%2C%20-48.3565%5D%2C%20%5B-12.7847%2C%20-46.5099%5D%2C%20%5B-9.590019999999999%2C%20-46.6738%5D%2C%20%5B-6.17794%2C%20-47.8582%5D%2C%20%5B-9.79377%2C%20-49.6553%5D%2C%20%5B-10.5464%2C%20-46.4168%5D%2C%20%5B-5.95169%2C%20-47.5125%5D%2C%20%5B-9.565560000000001%2C%20-48.393%5D%2C%20%5B-9.529069999999999%2C%20-48.5922%5D%2C%20%5B-10.7611%2C%20-48.1114%5D%2C%20%5B-10.0075%2C%20-48.9941%5D%2C%20%5B-6.61658%2C%20-47.5464%5D%2C%20%5B-7.1466899999999995%2C%20-48.6091%5D%2C%20%5B-11.7034%2C%20-47.7223%5D%2C%20%5B-6.37496%2C%20-47.6643%5D%2C%20%5B-7.631710000000001%2C%20-48.4252%5D%2C%20%5B-10.5651%2C%20-48.9125%5D%2C%20%5B-9.97063%2C%20-47.6785%5D%2C%20%5B-12.9217%2C%20-46.5713%5D%2C%20%5B-11.825999999999999%2C%20-46.6325%5D%2C%20%5B-10.707%2C%20-48.9086%5D%2C%20%5B-7.847860000000001%2C%20-47.9242%5D%2C%20%5B-13.0447%2C%20-48.4026%5D%2C%20%5B-10.175%2C%20-48.8823%5D%2C%20%5B-12.6167%2C%20-47.8734%5D%2C%20%5B-7.53919%2C%20-49.367%5D%2C%20%5B-8.97034%2C%20-48.1729%5D%2C%20%5B-12.0254%2C%20-48.5395%5D%2C%20%5B-8.5932%2C%20-48.9327%5D%2C%20%5B-8.72463%2C%20-48.7638%5D%2C%20%5B-11.1311%2C%20-47.5726%5D%2C%20%5B-6.77302%2C%20-48.2958%5D%2C%20%5B-10.442%2C%20-49.1876%5D%2C%20%5B-12.0853%2C%20-46.4825%5D%2C%20%5B-10.7481%2C%20-47.5276%5D%2C%20%5B-11.618%2C%20-47.0621%5D%2C%20%5B-10.7027%2C%20-48.408%5D%2C%20%5B-5.39281%2C%20-47.8111%5D%2C%20%5B-8.5406%2C%20-48.5062%5D%2C%20%5B-10.424000000000001%2C%20-48.8957%5D%2C%20%5B-8.7227%2C%20-47.2421%5D%2C%20%5B-6.44005%2C%20-48.1371%5D%2C%20%5B-11.3949%2C%20-46.8847%5D%2C%20%5B-9.34425%2C%20-48.5245%5D%2C%20%5B-9.350019999999999%2C%20-47.888000000000005%5D%2C%20%5B-5.35423%2C%20-47.8782%5D%2C%20%5B-12.538%2C%20-49.9242%5D%2C%20%5B-7.15803%2C%20-48.7165%5D%2C%20%5B-8.8046%2C%20-47.7887%5D%2C%20%5B-10.8617%2C%20-48.9161%5D%2C%20%5B-11.4474%2C%20-48.1216%5D%2C%20%5B-10.2746%2C%20-47.8033%5D%2C%20%5B-6.444380000000001%2C%20-47.6684%5D%2C%20%5B-6.0258%2C%20-47.9012%5D%2C%20%5B-10.1615%2C%20-46.6618%5D%2C%20%5B-5.56305%2C%20-47.5743%5D%2C%20%5B-12.7458%2C%20-48.2352%5D%2C%20%5B-5.26131%2C%20-48.2021%5D%2C%20%5B-11.9743%2C%20-48.2353%5D%2C%20%5B-11.1471%2C%20-48.1694%5D%2C%20%5B-5.6012%2C%20-47.6381%5D%2C%20%5B-11.993%2C%20-48.9685%5D%2C%20%5B-12.4026%2C%20-46.437%5D%2C%20%5B-12.1873%2C%20-46.9797%5D%2C%20%5B-12.7949%2C%20-49.0896%5D%2C%20%5B-10.24%2C%20-48.3558%5D%2C%20%5B-9.5632%2C%20-48.3741%5D%2C%20%5B-6.32447%2C%20-47.4224%5D%2C%20%5B-8.971680000000001%2C%20-48.1883%5D%2C%20%5B-8.393880000000001%2C%20-48.1277%5D%2C%20%5B-6.85274%2C%20-47.9601%5D%2C%20%5B-6.4141%2C%20-48.532%5D%2C%20%5B-11.9283%2C%20-61.9953%5D%2C%20%5B-9.905710000000001%2C%20-63.0325%5D%2C%20%5B-13.4945%2C%20-60.552%5D%2C%20%5B-11.4343%2C%20-61.4562%5D%2C%20%5B-13.187000000000001%2C%20-60.8168%5D%2C%20%5B-13.1174%2C%20-60.5454%5D%2C%20%5B-12.9551%2C%20-60.8947%5D%2C%20%5B-12.4367%2C%20-64.22800000000001%5D%2C%20%5B-11.5266%2C%20-61.0252%5D%2C%20%5B-10.7889%2C%20-65.3296%5D%2C%20%5B-10.4318%2C%20-62.4788%5D%2C%20%5B-10.8777%2C%20-61.9322%5D%2C%20%5B-9.44363%2C%20-61.9818%5D%2C%20%5B-11.7247%2C%20-62.3127%5D%2C%20%5B-10.7167%2C%20-62.2565%5D%2C%20%5B-11.672%2C%20-61.198%5D%2C%20%5B-8.760769999999999%2C%20-63.8999%5D%2C%20%5B-11.169%2C%20-61.8986%5D%2C%20%5B-9.69965%2C%20-62.9011%5D%2C%20%5B-11.7271%2C%20-61.7714%5D%2C%20%5B-11.9074%2C%20-61.7777%5D%2C%20%5B-12.7502%2C%20-60.1488%5D%2C%20%5B-11.6953%2C%20-62.7192%5D%2C%20%5B-10.4077%2C%20-65.3346%5D%2C%20%5B-11.3463%2C%20-62.2847%5D%2C%20%5B-12.132%2C%20-61.835%5D%2C%20%5B-9.71429%2C%20-63.3188%5D%2C%20%5B-10.1943%2C%20-63.8324%5D%2C%20%5B-11.6961%2C%20-61.9951%5D%2C%20%5B-10.349%2C%20-62.9043%5D%2C%20%5B-10.5712%2C%20-63.6266%5D%2C%20%5B-8.7907%2C%20-63.7005%5D%2C%20%5B-11.4253%2C%20-61.9482%5D%2C%20%5B-12.5611%2C%20-60.8877%5D%2C%20%5B-9.36065%2C%20-62.5846%5D%2C%20%5B-10.61%2C%20-62.7371%5D%2C%20%5B-9.19687%2C%20-63.1809%5D%2C%20%5B-11.196%2C%20-61.5174%5D%2C%20%5B-11.029000000000002%2C%20-62.6696%5D%2C%20%5B-10.2458%2C%20-63.29%5D%2C%20%5B-10.9068%2C%20-62.5564%5D%2C%20%5B-12.1754%2C%20-61.6032%5D%2C%20%5B-13.4823%2C%20-61.0471%5D%2C%20%5B-11.8295%2C%20-61.3153%5D%2C%20%5B-11.9023%2C%20-61.5026%5D%2C%20%5B-12.052%2C%20-63.568000000000005%5D%2C%20%5B-11.8055%2C%20-63.0182%5D%2C%20%5B-10.9056%2C%20-62.242%5D%2C%20%5B-10.2483%2C%20-62.3538%5D%2C%20%5B-11.1261%2C%20-62.3639%5D%2C%20%5B-9.86215%2C%20-62.1876%5D%2C%20%5B-10.4465%2C%20-62.1352%5D%2C%20%5B-9.82581%2C%20-66.8972%5D%2C%20%5B-10.9298%2C%20-69.5738%5D%2C%20%5B-10.995%2C%20-68.7497%5D%2C%20%5B-9.81528%2C%20-67.955%5D%2C%20%5B-10.565999999999999%2C%20-67.686%5D%2C%20%5B-7.627619999999999%2C%20-72.6756%5D%2C%20%5B-11.0188%2C%20-68.7341%5D%2C%20%5B-8.170539999999999%2C%20-70.351%5D%2C%20%5B-9.43091%2C%20-71.8974%5D%2C%20%5B-7.616569999999999%2C%20-72.8997%5D%2C%20%5B-8.83291%2C%20-69.2679%5D%2C%20%5B-8.93898%2C%20-72.7997%5D%2C%20%5B-10.2806%2C%20-67.1371%5D%2C%20%5B-8.26323%2C%20-72.7537%5D%2C%20%5B-9.97499%2C%20-67.8243%5D%2C%20%5B-7.738639999999999%2C%20-72.661%5D%2C%20%5B-9.44652%2C%20-70.4902%5D%2C%20%5B-10.1497%2C%20-67.7362%5D%2C%20%5B-9.06596%2C%20-68.6571%5D%2C%20%5B-8.15697%2C%20-70.7722%5D%2C%20%5B-10.6516%2C%20-68.4969%5D%2C%20%5B-9.581380000000001%2C%20-67.5478%5D%2C%20%5B-3.22727%2C%20-64.8007%5D%2C%20%5B-3.37455%2C%20-68.2005%5D%2C%20%5B-3.5669699999999995%2C%20-61.3963%5D%2C%20%5B-3.74603%2C%20-61.6575%5D%2C%20%5B-7.194089999999999%2C%20-59.896%5D%2C%20%5B-4.37055%2C%20-70.1967%5D%2C%20%5B-3.58574%2C%20-59.1256%5D%2C%20%5B-0.9833729999999999%2C%20-62.9311%5D%2C%20%5B-2.79886%2C%20-57.0679%5D%2C%20%5B-4.377680000000001%2C%20-70.0342%5D%2C%20%5B-3.89874%2C%20-61.3616%5D%2C%20%5B-2.9740900000000003%2C%20-57.5873%5D%2C%20%5B-8.74232%2C%20-67.3919%5D%2C%20%5B-4.39154%2C%20-59.5874%5D%2C%20%5B-3.3153699999999997%2C%20-61.2206%5D%2C%20%5B-6.5258199999999995%2C%20-64.3953%5D%2C%20%5B-4.88161%2C%20-66.9086%5D%2C%20%5B-3.7680300000000004%2C%20-60.369%5D%2C%20%5B-3.3139999999999996%2C%20-59.5557%5D%2C%20%5B-4.094119999999999%2C%20-63.1441%5D%2C%20%5B-3.8305300000000004%2C%20-62.0658%5D%2C%20%5B-6.65677%2C%20-69.8662%5D%2C%20%5B-7.4378899999999994%2C%20-70.0281%5D%2C%20%5B-2.52342%2C%20-66.0942%5D%2C%20%5B-7.53797%2C%20-72.5907%5D%2C%20%5B-7.511710000000001%2C%20-63.0327%5D%2C%20%5B-7.047910000000001%2C%20-71.6934%5D%2C%20%5B-3.2747900000000003%2C%20-60.19%5D%2C%20%5B-3.13861%2C%20-58.4449%5D%2C%20%5B-6.43852%2C%20-68.2437%5D%2C%20%5B-2.7408099999999997%2C%20-58.0293%5D%2C%20%5B-1.88237%2C%20-66.9291%5D%2C%20%5B-3.4843800000000003%2C%20-66.0718%5D%2C%20%5B-2.75814%2C%20-66.7595%5D%2C%20%5B-7.264130000000001%2C%20-64.7948%5D%2C%20%5B-3.29066%2C%20-60.6216%5D%2C%20%5B-3.44078%2C%20-60.4612%5D%2C%20%5B-3.1186599999999998%2C%20-60.0212%5D%2C%20%5B-5.80462%2C%20-61.2895%5D%2C%20%5B-1.85313%2C%20-65.57300000000001%5D%2C%20%5B-3.39289%2C%20-57.7067%5D%2C%20%5B-2.2079299999999997%2C%20-56.7112%5D%2C%20%5B-3.9003699999999997%2C%20-59.093999999999994%5D%2C%20%5B-2.63637%2C%20-60.9434%5D%2C%20%5B-5.12593%2C%20-60.3732%5D%2C%20%5B-2.63741%2C%20-56.729%5D%2C%20%5B-7.71311%2C%20-66.992%5D%2C%20%5B-2.02981%2C%20-60.0234%5D%2C%20%5B-2.7045%2C%20-59.6858%5D%2C%20%5B-0.41082399999999997%2C%20-65.0092%5D%2C%20%5B-3.09544%2C%20-67.9463%5D%2C%20%5B-0.11909000000000002%2C%20-67.084%5D%2C%20%5B-3.47292%2C%20-68.9646%5D%2C%20%5B-2.55915%2C%20-57.8731%5D%2C%20%5B-2.8174799999999998%2C%20-58.248000000000005%5D%2C%20%5B-4.2416%2C%20-69.9383%5D%2C%20%5B-5.62085%2C%20-63.1808%5D%2C%20%5B-3.3682199999999995%2C%20-64.7193%5D%2C%20%5B-2.8658200000000003%2C%20-67.7919%5D%2C%20%5B-2.99609%2C%20-65.1133%5D%2C%20%5B-2.52936%2C%20-57.7538%5D%2C%20%5B-3.1284099999999997%2C%20-58.1496%5D%2C%20%5B3.64571%2C%20-61.3692%5D%2C%20%5B2.98858%2C%20-61.3072%5D%2C%20%5B2.82384%2C%20-60.6753%5D%2C%20%5B3.3616099999999998%2C%20-59.8333%5D%2C%20%5B2.60994%2C%20-60.6058%5D%2C%20%5B1.8276599999999998%2C%20-61.1304%5D%2C%20%5B0.8842030000000001%2C%20-59.6959%5D%2C%20%5B2.18305%2C%20-61.0415%5D%2C%20%5B2.43998%2C%20-60.9096%5D%2C%20%5B3.8853%2C%20-59.6204%5D%2C%20%5B4.4799%2C%20-61.1477%5D%2C%20%5B0.9399559999999999%2C%20-60.4389%5D%2C%20%5B0.951659%2C%20-59.9133%5D%2C%20%5B1.01019%2C%20-60.0419%5D%2C%20%5B4.60314%2C%20-60.1815%5D%2C%20%5B-1.72183%2C%20-48.8788%5D%2C%20%5B-4.95333%2C%20-48.3933%5D%2C%20%5B-1.95383%2C%20-48.1985%5D%2C%20%5B-0.154874%2C%20-50.3861%5D%2C%20%5B-6.79053%2C%20-50.4791%5D%2C%20%5B-1.94623%2C%20-54.7384%5D%2C%20%5B-1.52904%2C%20-52.5788%5D%2C%20%5B-3.20407%2C%20-52.21%5D%2C%20%5B-0.9968110000000001%2C%20-49.9354%5D%2C%20%5B-1.36391%2C%20-48.3743%5D%2C%20%5B-3.46985%2C%20-51.2003%5D%2C%20%5B-1.0510899999999999%2C%20-46.6147%5D%2C%20%5B-2.14898%2C%20-47.5677%5D%2C%20%5B-3.6084099999999997%2C%20-55.3199%5D%2C%20%5B-1.90057%2C%20-50.1987%5D%2C%20%5B-2.7902099999999996%2C%20-49.6694%5D%2C%20%5B-7.34779%2C%20-50.3959%5D%2C%20%5B-1.51187%2C%20-48.6195%5D%2C%20%5B-1.4554%2C%20-48.4898%5D%2C%20%5B-2.6360900000000003%2C%20-54.9374%5D%2C%20%5B-1.3618299999999999%2C%20-48.2434%5D%2C%20%5B-5.0424%2C%20-48.6047%5D%2C%20%5B-1.36745%2C%20-47.3066%5D%2C%20%5B-1.06126%2C%20-46.7826%5D%2C%20%5B-3.2979199999999995%2C%20-52.534%5D%2C%20%5B-5.69822%2C%20-48.4103%5D%2C%20%5B-3.7719099999999997%2C%20-49.5735%5D%2C%20%5B-1.6803599999999999%2C%20-50.4791%5D%2C%20%5B-1.51762%2C%20-48.0381%5D%2C%20%5B-1.75974%2C%20-46.5459%5D%2C%20%5B-1.01226%2C%20-48.9503%5D%2C%20%5B-2.24295%2C%20-49.4979%5D%2C%20%5B-6.49659%2C%20-49.8776%5D%2C%20%5B-1.20529%2C%20-47.1778%5D%2C%20%5B-1.74785%2C%20-47.0629%5D%2C%20%5B-1.29797%2C%20-47.9167%5D%2C%20%5B-0.164154%2C%20-49.986999999999995%5D%2C%20%5B-0.936423%2C%20-48.2803%5D%2C%20%5B-8.26136%2C%20-49.2689%5D%2C%20%5B-1.9923799999999998%2C%20-47.9422%5D%2C%20%5B-7.810969999999999%2C%20-50.7698%5D%2C%20%5B-6.09965%2C%20-49.6068%5D%2C%20%5B-1.8117900000000002%2C%20-49.7952%5D%2C%20%5B-1.88775%2C%20-55.1168%5D%2C%20%5B-0.733214%2C%20-47.8515%5D%2C%20%5B-4.19944%2C%20-47.8245%5D%2C%20%5B-6.10389%2C%20-49.3553%5D%2C%20%5B-2.16805%2C%20-56.7405%5D%2C%20%5B-7.55335%2C%20-49.7125%5D%2C%20%5B-1.92986%2C%20-47.0505%5D%2C%20%5B-3.8433800000000002%2C%20-49.0974%5D%2C%20%5B-1.41412%2C%20-51.6338%5D%2C%20%5B-1.12539%2C%20-47.626000000000005%5D%2C%20%5B-1.97533%2C%20-48.9575%5D%2C%20%5B-1.4349%2C%20-47.9114%5D%2C%20%5B-2.55992%2C%20-47.5059%5D%2C%20%5B-1.76984%2C%20-47.446000000000005%5D%2C%20%5B-4.2667%2C%20-55.9926%5D%2C%20%5B-5.13272%2C%20-49.3358%5D%2C%20%5B-6.21469%2C%20-57.7544%5D%2C%20%5B-4.4461699999999995%2C%20-49.1153%5D%2C%20%5B-2.1634700000000002%2C%20-56.0889%5D%2C%20%5B-1.8985%2C%20-49.3903%5D%2C%20%5B-2.0568299999999997%2C%20-47.5601%5D%2C%20%5B-0.803391%2C%20-47.6014%5D%2C%20%5B-5.38075%2C%20-49.1327%5D%2C%20%5B-0.778899%2C%20-47.452%5D%2C%20%5B-0.7147020000000001%2C%20-47.7034%5D%2C%20%5B-1.36002%2C%20-48.3421%5D%2C%20%5B-3.4463699999999995%2C%20-52.8875%5D%2C%20%5B-1.8032%2C%20-50.7149%5D%2C%20%5B-2.5831%2C%20-49.5042%5D%2C%20%5B-1.8899299999999999%2C%20-48.7668%5D%2C%20%5B-1.99768%2C%20-54.0724%5D%2C%20%5B-1.53936%2C%20-49.2224%5D%2C%20%5B-2.26693%2C%20-46.9731%5D%2C%20%5B-4.91622%2C%20-49.0822%5D%2C%20%5B-1.20874%2C%20-47.3921%5D%2C%20%5B-7.14347%2C%20-55.3786%5D%2C%20%5B-4.24749%2C%20-49.9499%5D%2C%20%5B-1.90107%2C%20-55.5208%5D%2C%20%5B-2.00358%2C%20-49.8628%5D%2C%20%5B-1.7598900000000002%2C%20-55.8579%5D%2C%20%5B-1.54168%2C%20-47.1126%5D%2C%20%5B-6.7529%2C%20-51.0858%5D%2C%20%5B-3.8354199999999996%2C%20-50.6399%5D%2C%20%5B-5.74027%2C%20-48.3181%5D%2C%20%5B-3.00212%2C%20-47.3527%5D%2C%20%5B-6.06781%2C%20-49.9037%5D%2C%20%5B-1.59772%2C%20-46.9268%5D%2C%20%5B-1.19382%2C%20-47.324%5D%2C%20%5B-6.43778%2C%20-48.8716%5D%2C%20%5B-3.8681300000000003%2C%20-54.2124%5D%2C%20%5B-1.3958700000000002%2C%20-48.8661%5D%2C%20%5B-1.93639%2C%20-50.8194%5D%2C%20%5B-1.74691%2C%20-52.2361%5D%2C%20%5B-1.798%2C%20-53.4779%5D%2C%20%5B-0.9454389999999999%2C%20-47.1253%5D%2C%20%5B-0.8996040000000001%2C%20-47.0134%5D%2C%20%5B-8.02529%2C%20-50.0317%5D%2C%20%5B-7.312360000000001%2C%20-50.0379%5D%2C%20%5B-4.7779300000000005%2C%20-48.067%5D%2C%20%5B-4.100280000000001%2C%20-54.9092%5D%2C%20%5B-0.630815%2C%20-47.3465%5D%2C%20%5B-0.758444%2C%20-48.5139%5D%2C%20%5B-1.1921899999999999%2C%20-48.238%5D%2C%20%5B-0.6610189999999999%2C%20-49.1771%5D%2C%20%5B-1.2968600000000001%2C%20-48.1606%5D%2C%20%5B-1.52147%2C%20-46.9008%5D%2C%20%5B-8.85784%2C%20-49.7215%5D%2C%20%5B-1.35392%2C%20-47.5712%5D%2C%20%5B-9.3281%2C%20-50.35%5D%2C%20%5B-2.4384900000000003%2C%20-54.6996%5D%2C%20%5B-0.9309700000000001%2C%20-47.3855%5D%2C%20%5B-1.1522%2C%20-48.1314%5D%2C%20%5B-0.747293%2C%20-48.0246%5D%2C%20%5B-5.537319999999999%2C%20-48.7366%5D%2C%20%5B-1.6876799999999998%2C%20-47.7665%5D%2C%20%5B-6.6425399999999994%2C%20-51.9904%5D%2C%20%5B-1.16963%2C%20-47.7917%5D%2C%20%5B-6.39471%2C%20-48.5592%5D%2C%20%5B-0.857885%2C%20-47.918%5D%2C%20%5B-0.780222%2C%20-47.181000000000004%5D%2C%20%5B-5.36334%2C%20-48.7926%5D%2C%20%5B-1.61307%2C%20-47.4784%5D%2C%20%5B-1.71597%2C%20-49.5249%5D%2C%20%5B-6.940180000000001%2C%20-49.6834%5D%2C%20%5B-4.3124199999999995%2C%20-51.5764%5D%2C%20%5B-0.73032%2C%20-48.5015%5D%2C%20%5B-2.94584%2C%20-48.9489%5D%2C%20%5B-1.0296299999999998%2C%20-47.9004%5D%2C%20%5B-2.10443%2C%20-56.4877%5D%2C%20%5B-2.41302%2C%20-48.1415%5D%2C%20%5B-1.07653%2C%20-46.9031%5D%2C%20%5B-4.5734699999999995%2C%20-55.9429%5D%2C%20%5B-6.7468699999999995%2C%20-51.1626%5D%2C%20%5B-3.7657%2C%20-49.6773%5D%2C%20%5B-3.7500699999999996%2C%20-47.4892%5D%2C%20%5B-3.71519%2C%20-53.7396%5D%2C%20%5B-0.861194%2C%20-48.1386%5D%2C%20%5B-1.1912399999999999%2C%20-46.1399%5D%2C%20%5B-2.87922%2C%20-52.0088%5D%2C%20%5B-7.0983%2C%20-49.9437%5D%2C%20%5B0.901357%2C%20-52.0036%5D%2C%20%5B2.05267%2C%20-50.7957%5D%2C%20%5B0.777424%2C%20-51.9503%5D%2C%20%5B2.50475%2C%20-50.9512%5D%2C%20%5B0.9707610000000001%2C%20-50.8005%5D%2C%20%5B0.8572559999999999%2C%20-51.1795%5D%2C%20%5B0.6021850000000001%2C%20-50.6996%5D%2C%20%5B-0.8049109999999999%2C%20-52.453%5D%2C%20%5B0.034934%2C%20-51.0694%5D%2C%20%5B-0.11335999999999999%2C%20-51.2891%5D%2C%20%5B3.8407400000000003%2C%20-51.8331%5D%2C%20%5B0.71243%2C%20-51.4155%5D%2C%20%5B1.74543%2C%20-50.7892%5D%2C%20%5B-0.045433999999999995%2C%20-51.1729%5D%2C%20%5B1.50652%2C%20-50.9087%5D%2C%20%5B-0.938%2C%20-52.424%5D%2C%20%5B-9.62101%2C%20-49.1518%5D%2C%20%5B-6.5540899999999995%2C%20-47.4702%5D%2C%20%5B-11.3056%2C%20-48.9361%5D%2C%20%5B-11.5706%2C%20-47.1792%5D%2C%20%5B-12.4785%2C%20-49.1249%5D%2C%20%5B-6.36437%2C%20-48.0735%5D%2C%20%5B-6.39179%2C%20-47.8611%5D%2C%20%5B-9.94139%2C%20-47.9638%5D%2C%20%5B-7.16005%2C%20-48.5291%5D%2C%20%5B-8.80755%2C%20-49.5569%5D%2C%20%5B-12.9289%2C%20-49.8231%5D%2C%20%5B-7.19238%2C%20-48.2044%5D%2C%20%5B-6.58225%2C%20-48.6395%5D%2C%20%5B-5.64659%2C%20-48.1232%5D%2C%20%5B-7.65463%2C%20-49.0637%5D%2C%20%5B-12.9287%2C%20-46.9359%5D%2C%20%5B-5.46863%2C%20-47.8863%5D%2C%20%5B-12.7105%2C%20-46.4076%5D%2C%20%5B-5.61275%2C%20-47.7701%5D%2C%20%5B-7.209230000000001%2C%20-47.7613%5D%2C%20%5B-7.75612%2C%20-48.5836%5D%2C%20%5B-7.695930000000001%2C%20-47.6776%5D%2C%20%5B-9.83404%2C%20-48.7252%5D%2C%20%5B-7.874810000000001%2C%20-48.8893%5D%2C%20%5B-8.96306%2C%20-48.165%5D%2C%20%5B-8.38918%2C%20-48.4822%5D%2C%20%5B-11.0058%2C%20-48.5683%5D%2C%20%5B-5.3144800000000005%2C%20-48.2271%5D%2C%20%5B-6.1156%2C%20-47.9234%5D%2C%20%5B-7.989560000000001%2C%20-46.8645%5D%2C%20%5B-11.8881%2C%20-49.1609%5D%2C%20%5B-7.03262%2C%20-48.3978%5D%2C%20%5B-5.31415%2C%20-48.0314%5D%2C%20%5B-9.27612%2C%20-49.9521%5D%2C%20%5B-8.961030000000001%2C%20-47.3304%5D%2C%20%5B-10.1419%2C%20-49.1403%5D%2C%20%5B-11.6175%2C%20-47.7486%5D%2C%20%5B-8.05764%2C%20-48.4757%5D%2C%20%5B-12.7917%2C%20-46.5388%5D%2C%20%5B-12.2209%2C%20-47.2951%5D%2C%20%5B-8.28411%2C%20-49.2473%5D%2C%20%5B-10.5985%2C%20-49.1942%5D%2C%20%5B-11.0994%2C%20-48.9152%5D%2C%20%5B-6.715910000000001%2C%20-47.7597%5D%2C%20%5B-11.624%2C%20-46.8198%5D%2C%20%5B-9.800180000000001%2C%20-49.2169%5D%2C%20%5B-9.255339999999999%2C%20-49.0638%5D%2C%20%5B-11.3416%2C%20-49.2716%5D%2C%20%5B-5.3659300000000005%2C%20-48.5378%5D%2C%20%5B-10.7603%2C%20-48.9076%5D%2C%20%5B-12.1312%2C%20-49.1748%5D%2C%20%5B-7.3350100000000005%2C%20-47.4954%5D%2C%20%5B-11.7976%2C%20-49.5316%5D%2C%20%5B-9.05611%2C%20-48.5206%5D%2C%20%5B-8.77413%2C%20-48.9313%5D%2C%20%5B-7.71478%2C%20-47.3252%5D%2C%20%5B-8.83543%2C%20-48.5114%5D%2C%20%5B-11.7279%2C%20-49.068000000000005%5D%2C%20%5B-11.2329%2C%20-48.46%5D%2C%20%5B-8.39293%2C%20-47.7726%5D%2C%20%5B-5.77267%2C%20-47.4864%5D%2C%20%5B-8.37982%2C%20-48.1072%5D%2C%20%5B-8.57172%2C%20-48.6895%5D%2C%20%5B-12.6509%2C%20-48.589%5D%2C%20%5B-8.11951%2C%20-49.0643%5D%2C%20%5B-10.7906%2C%20-49.6199%5D%2C%20%5B-10.368%2C%20-47.538000000000004%5D%2C%20%5B-9.74996%2C%20-48.3565%5D%2C%20%5B-12.7847%2C%20-46.5099%5D%2C%20%5B-9.590019999999999%2C%20-46.6738%5D%2C%20%5B-6.17794%2C%20-47.8582%5D%2C%20%5B-9.79377%2C%20-49.6553%5D%2C%20%5B-10.5464%2C%20-46.4168%5D%2C%20%5B-5.95169%2C%20-47.5125%5D%2C%20%5B-9.565560000000001%2C%20-48.393%5D%2C%20%5B-9.529069999999999%2C%20-48.5922%5D%2C%20%5B-10.7611%2C%20-48.1114%5D%2C%20%5B-10.0075%2C%20-48.9941%5D%2C%20%5B-6.61658%2C%20-47.5464%5D%2C%20%5B-7.1466899999999995%2C%20-48.6091%5D%2C%20%5B-11.7034%2C%20-47.7223%5D%2C%20%5B-6.37496%2C%20-47.6643%5D%2C%20%5B-7.631710000000001%2C%20-48.4252%5D%2C%20%5B-10.5651%2C%20-48.9125%5D%2C%20%5B-9.97063%2C%20-47.6785%5D%2C%20%5B-12.9217%2C%20-46.5713%5D%2C%20%5B-11.825999999999999%2C%20-46.6325%5D%2C%20%5B-10.707%2C%20-48.9086%5D%2C%20%5B-7.847860000000001%2C%20-47.9242%5D%2C%20%5B-13.0447%2C%20-48.4026%5D%2C%20%5B-10.175%2C%20-48.8823%5D%2C%20%5B-12.6167%2C%20-47.8734%5D%2C%20%5B-7.53919%2C%20-49.367%5D%2C%20%5B-8.97034%2C%20-48.1729%5D%2C%20%5B-12.0254%2C%20-48.5395%5D%2C%20%5B-8.5932%2C%20-48.9327%5D%2C%20%5B-8.72463%2C%20-48.7638%5D%2C%20%5B-11.1311%2C%20-47.5726%5D%2C%20%5B-6.77302%2C%20-48.2958%5D%2C%20%5B-10.442%2C%20-49.1876%5D%2C%20%5B-12.0853%2C%20-46.4825%5D%2C%20%5B-10.7481%2C%20-47.5276%5D%2C%20%5B-11.618%2C%20-47.0621%5D%2C%20%5B-10.7027%2C%20-48.408%5D%2C%20%5B-5.39281%2C%20-47.8111%5D%2C%20%5B-8.5406%2C%20-48.5062%5D%2C%20%5B-10.424000000000001%2C%20-48.8957%5D%2C%20%5B-8.7227%2C%20-47.2421%5D%2C%20%5B-6.44005%2C%20-48.1371%5D%2C%20%5B-11.3949%2C%20-46.8847%5D%2C%20%5B-9.34425%2C%20-48.5245%5D%2C%20%5B-9.350019999999999%2C%20-47.888000000000005%5D%2C%20%5B-5.35423%2C%20-47.8782%5D%2C%20%5B-12.538%2C%20-49.9242%5D%2C%20%5B-7.15803%2C%20-48.7165%5D%2C%20%5B-8.8046%2C%20-47.7887%5D%2C%20%5B-10.8617%2C%20-48.9161%5D%2C%20%5B-11.4474%2C%20-48.1216%5D%2C%20%5B-10.2746%2C%20-47.8033%5D%2C%20%5B-6.444380000000001%2C%20-47.6684%5D%2C%20%5B-6.0258%2C%20-47.9012%5D%2C%20%5B-10.1615%2C%20-46.6618%5D%2C%20%5B-5.56305%2C%20-47.5743%5D%2C%20%5B-12.7458%2C%20-48.2352%5D%2C%20%5B-5.26131%2C%20-48.2021%5D%2C%20%5B-11.9743%2C%20-48.2353%5D%2C%20%5B-11.1471%2C%20-48.1694%5D%2C%20%5B-5.6012%2C%20-47.6381%5D%2C%20%5B-11.993%2C%20-48.9685%5D%2C%20%5B-12.4026%2C%20-46.437%5D%2C%20%5B-12.1873%2C%20-46.9797%5D%2C%20%5B-12.7949%2C%20-49.0896%5D%2C%20%5B-10.24%2C%20-48.3558%5D%2C%20%5B-9.5632%2C%20-48.3741%5D%2C%20%5B-6.32447%2C%20-47.4224%5D%2C%20%5B-8.971680000000001%2C%20-48.1883%5D%2C%20%5B-8.393880000000001%2C%20-48.1277%5D%2C%20%5B-6.85274%2C%20-47.9601%5D%2C%20%5B-6.4141%2C%20-48.532%5D%2C%20%5B-11.9283%2C%20-61.9953%5D%2C%20%5B-9.905710000000001%2C%20-63.0325%5D%2C%20%5B-13.4945%2C%20-60.552%5D%2C%20%5B-11.4343%2C%20-61.4562%5D%2C%20%5B-13.187000000000001%2C%20-60.8168%5D%2C%20%5B-13.1174%2C%20-60.5454%5D%2C%20%5B-12.9551%2C%20-60.8947%5D%2C%20%5B-12.4367%2C%20-64.22800000000001%5D%2C%20%5B-11.5266%2C%20-61.0252%5D%2C%20%5B-10.7889%2C%20-65.3296%5D%2C%20%5B-10.4318%2C%20-62.4788%5D%2C%20%5B-10.8777%2C%20-61.9322%5D%2C%20%5B-9.44363%2C%20-61.9818%5D%2C%20%5B-11.7247%2C%20-62.3127%5D%2C%20%5B-10.7167%2C%20-62.2565%5D%2C%20%5B-11.672%2C%20-61.198%5D%2C%20%5B-8.760769999999999%2C%20-63.8999%5D%2C%20%5B-11.169%2C%20-61.8986%5D%2C%20%5B-9.69965%2C%20-62.9011%5D%2C%20%5B-11.7271%2C%20-61.7714%5D%2C%20%5B-11.9074%2C%20-61.7777%5D%2C%20%5B-12.7502%2C%20-60.1488%5D%2C%20%5B-11.6953%2C%20-62.7192%5D%2C%20%5B-10.4077%2C%20-65.3346%5D%2C%20%5B-11.3463%2C%20-62.2847%5D%2C%20%5B-12.132%2C%20-61.835%5D%2C%20%5B-9.71429%2C%20-63.3188%5D%2C%20%5B-10.1943%2C%20-63.8324%5D%2C%20%5B-11.6961%2C%20-61.9951%5D%2C%20%5B-10.349%2C%20-62.9043%5D%2C%20%5B-10.5712%2C%20-63.6266%5D%2C%20%5B-8.7907%2C%20-63.7005%5D%2C%20%5B-11.4253%2C%20-61.9482%5D%2C%20%5B-12.5611%2C%20-60.8877%5D%2C%20%5B-9.36065%2C%20-62.5846%5D%2C%20%5B-10.61%2C%20-62.7371%5D%2C%20%5B-9.19687%2C%20-63.1809%5D%2C%20%5B-11.196%2C%20-61.5174%5D%2C%20%5B-11.029000000000002%2C%20-62.6696%5D%2C%20%5B-10.2458%2C%20-63.29%5D%2C%20%5B-10.9068%2C%20-62.5564%5D%2C%20%5B-12.1754%2C%20-61.6032%5D%2C%20%5B-13.4823%2C%20-61.0471%5D%2C%20%5B-11.8295%2C%20-61.3153%5D%2C%20%5B-11.9023%2C%20-61.5026%5D%2C%20%5B-12.052%2C%20-63.568000000000005%5D%2C%20%5B-11.8055%2C%20-63.0182%5D%2C%20%5B-10.9056%2C%20-62.242%5D%2C%20%5B-10.2483%2C%20-62.3538%5D%2C%20%5B-11.1261%2C%20-62.3639%5D%2C%20%5B-9.86215%2C%20-62.1876%5D%2C%20%5B-10.4465%2C%20-62.1352%5D%2C%20%5B-9.82581%2C%20-66.8972%5D%2C%20%5B-10.9298%2C%20-69.5738%5D%2C%20%5B-10.995%2C%20-68.7497%5D%2C%20%5B-9.81528%2C%20-67.955%5D%2C%20%5B-10.565999999999999%2C%20-67.686%5D%2C%20%5B-7.627619999999999%2C%20-72.6756%5D%2C%20%5B-11.0188%2C%20-68.7341%5D%2C%20%5B-8.170539999999999%2C%20-70.351%5D%2C%20%5B-9.43091%2C%20-71.8974%5D%2C%20%5B-7.616569999999999%2C%20-72.8997%5D%2C%20%5B-8.83291%2C%20-69.2679%5D%2C%20%5B-8.93898%2C%20-72.7997%5D%2C%20%5B-10.2806%2C%20-67.1371%5D%2C%20%5B-8.26323%2C%20-72.7537%5D%2C%20%5B-9.97499%2C%20-67.8243%5D%2C%20%5B-7.738639999999999%2C%20-72.661%5D%2C%20%5B-9.44652%2C%20-70.4902%5D%2C%20%5B-10.1497%2C%20-67.7362%5D%2C%20%5B-9.06596%2C%20-68.6571%5D%2C%20%5B-8.15697%2C%20-70.7722%5D%2C%20%5B-10.6516%2C%20-68.4969%5D%2C%20%5B-9.581380000000001%2C%20-67.5478%5D%2C%20%5B-3.22727%2C%20-64.8007%5D%2C%20%5B-3.37455%2C%20-68.2005%5D%2C%20%5B-3.5669699999999995%2C%20-61.3963%5D%2C%20%5B-3.74603%2C%20-61.6575%5D%2C%20%5B-7.194089999999999%2C%20-59.896%5D%2C%20%5B-4.37055%2C%20-70.1967%5D%2C%20%5B-3.58574%2C%20-59.1256%5D%2C%20%5B-0.9833729999999999%2C%20-62.9311%5D%2C%20%5B-2.79886%2C%20-57.0679%5D%2C%20%5B-4.377680000000001%2C%20-70.0342%5D%2C%20%5B-3.89874%2C%20-61.3616%5D%2C%20%5B-2.9740900000000003%2C%20-57.5873%5D%2C%20%5B-8.74232%2C%20-67.3919%5D%2C%20%5B-4.39154%2C%20-59.5874%5D%2C%20%5B-3.3153699999999997%2C%20-61.2206%5D%2C%20%5B-6.5258199999999995%2C%20-64.3953%5D%2C%20%5B-4.88161%2C%20-66.9086%5D%2C%20%5B-3.7680300000000004%2C%20-60.369%5D%2C%20%5B-3.3139999999999996%2C%20-59.5557%5D%2C%20%5B-4.094119999999999%2C%20-63.1441%5D%2C%20%5B-3.8305300000000004%2C%20-62.0658%5D%2C%20%5B-6.65677%2C%20-69.8662%5D%2C%20%5B-7.4378899999999994%2C%20-70.0281%5D%2C%20%5B-2.52342%2C%20-66.0942%5D%2C%20%5B-7.53797%2C%20-72.5907%5D%2C%20%5B-7.511710000000001%2C%20-63.0327%5D%2C%20%5B-7.047910000000001%2C%20-71.6934%5D%2C%20%5B-3.2747900000000003%2C%20-60.19%5D%2C%20%5B-3.13861%2C%20-58.4449%5D%2C%20%5B-6.43852%2C%20-68.2437%5D%2C%20%5B-2.7408099999999997%2C%20-58.0293%5D%2C%20%5B-1.88237%2C%20-66.9291%5D%2C%20%5B-3.4843800000000003%2C%20-66.0718%5D%2C%20%5B-2.75814%2C%20-66.7595%5D%2C%20%5B-7.264130000000001%2C%20-64.7948%5D%2C%20%5B-3.29066%2C%20-60.6216%5D%2C%20%5B-3.44078%2C%20-60.4612%5D%2C%20%5B-3.1186599999999998%2C%20-60.0212%5D%2C%20%5B-5.80462%2C%20-61.2895%5D%2C%20%5B-1.85313%2C%20-65.57300000000001%5D%2C%20%5B-3.39289%2C%20-57.7067%5D%2C%20%5B-2.2079299999999997%2C%20-56.7112%5D%2C%20%5B-3.9003699999999997%2C%20-59.093999999999994%5D%2C%20%5B-2.63637%2C%20-60.9434%5D%2C%20%5B-5.12593%2C%20-60.3732%5D%2C%20%5B-2.63741%2C%20-56.729%5D%2C%20%5B-7.71311%2C%20-66.992%5D%2C%20%5B-2.02981%2C%20-60.0234%5D%2C%20%5B-2.7045%2C%20-59.6858%5D%2C%20%5B-0.41082399999999997%2C%20-65.0092%5D%2C%20%5B-3.09544%2C%20-67.9463%5D%2C%20%5B-0.11909000000000002%2C%20-67.084%5D%2C%20%5B-3.47292%2C%20-68.9646%5D%2C%20%5B-2.55915%2C%20-57.8731%5D%2C%20%5B-2.8174799999999998%2C%20-58.248000000000005%5D%2C%20%5B-4.2416%2C%20-69.9383%5D%2C%20%5B-5.62085%2C%20-63.1808%5D%2C%20%5B-3.3682199999999995%2C%20-64.7193%5D%2C%20%5B-2.8658200000000003%2C%20-67.7919%5D%2C%20%5B-2.99609%2C%20-65.1133%5D%2C%20%5B-2.52936%2C%20-57.7538%5D%2C%20%5B-3.1284099999999997%2C%20-58.1496%5D%2C%20%5B3.64571%2C%20-61.3692%5D%2C%20%5B2.98858%2C%20-61.3072%5D%2C%20%5B2.82384%2C%20-60.6753%5D%2C%20%5B3.3616099999999998%2C%20-59.8333%5D%2C%20%5B2.60994%2C%20-60.6058%5D%2C%20%5B1.8276599999999998%2C%20-61.1304%5D%2C%20%5B0.8842030000000001%2C%20-59.6959%5D%2C%20%5B2.18305%2C%20-61.0415%5D%2C%20%5B2.43998%2C%20-60.9096%5D%2C%20%5B3.8853%2C%20-59.6204%5D%2C%20%5B4.4799%2C%20-61.1477%5D%2C%20%5B0.9399559999999999%2C%20-60.4389%5D%2C%20%5B0.951659%2C%20-59.9133%5D%2C%20%5B1.01019%2C%20-60.0419%5D%2C%20%5B4.60314%2C%20-60.1815%5D%2C%20%5B-1.72183%2C%20-48.8788%5D%2C%20%5B-4.95333%2C%20-48.3933%5D%2C%20%5B-1.95383%2C%20-48.1985%5D%2C%20%5B-0.154874%2C%20-50.3861%5D%2C%20%5B-6.79053%2C%20-50.4791%5D%2C%20%5B-1.94623%2C%20-54.7384%5D%2C%20%5B-1.52904%2C%20-52.5788%5D%2C%20%5B-3.20407%2C%20-52.21%5D%2C%20%5B-0.9968110000000001%2C%20-49.9354%5D%2C%20%5B-1.36391%2C%20-48.3743%5D%2C%20%5B-3.46985%2C%20-51.2003%5D%2C%20%5B-1.0510899999999999%2C%20-46.6147%5D%2C%20%5B-2.14898%2C%20-47.5677%5D%2C%20%5B-3.6084099999999997%2C%20-55.3199%5D%2C%20%5B-1.90057%2C%20-50.1987%5D%2C%20%5B-2.7902099999999996%2C%20-49.6694%5D%2C%20%5B-7.34779%2C%20-50.3959%5D%2C%20%5B-1.51187%2C%20-48.6195%5D%2C%20%5B-1.4554%2C%20-48.4898%5D%2C%20%5B-2.6360900000000003%2C%20-54.9374%5D%2C%20%5B-1.3618299999999999%2C%20-48.2434%5D%2C%20%5B-5.0424%2C%20-48.6047%5D%2C%20%5B-1.36745%2C%20-47.3066%5D%2C%20%5B-1.06126%2C%20-46.7826%5D%2C%20%5B-3.2979199999999995%2C%20-52.534%5D%2C%20%5B-5.69822%2C%20-48.4103%5D%2C%20%5B-3.7719099999999997%2C%20-49.5735%5D%2C%20%5B-1.6803599999999999%2C%20-50.4791%5D%2C%20%5B-1.51762%2C%20-48.0381%5D%2C%20%5B-1.75974%2C%20-46.5459%5D%2C%20%5B-1.01226%2C%20-48.9503%5D%2C%20%5B-2.24295%2C%20-49.4979%5D%2C%20%5B-6.49659%2C%20-49.8776%5D%2C%20%5B-1.20529%2C%20-47.1778%5D%2C%20%5B-1.74785%2C%20-47.0629%5D%2C%20%5B-1.29797%2C%20-47.9167%5D%2C%20%5B-0.164154%2C%20-49.986999999999995%5D%2C%20%5B-0.936423%2C%20-48.2803%5D%2C%20%5B-8.26136%2C%20-49.2689%5D%2C%20%5B-1.9923799999999998%2C%20-47.9422%5D%2C%20%5B-7.810969999999999%2C%20-50.7698%5D%2C%20%5B-6.09965%2C%20-49.6068%5D%2C%20%5B-1.8117900000000002%2C%20-49.7952%5D%2C%20%5B-1.88775%2C%20-55.1168%5D%2C%20%5B-0.733214%2C%20-47.8515%5D%2C%20%5B-4.19944%2C%20-47.8245%5D%2C%20%5B-6.10389%2C%20-49.3553%5D%2C%20%5B-2.16805%2C%20-56.7405%5D%2C%20%5B-7.55335%2C%20-49.7125%5D%2C%20%5B-1.92986%2C%20-47.0505%5D%2C%20%5B-3.8433800000000002%2C%20-49.0974%5D%2C%20%5B-1.41412%2C%20-51.6338%5D%2C%20%5B-1.12539%2C%20-47.626000000000005%5D%2C%20%5B-1.97533%2C%20-48.9575%5D%2C%20%5B-1.4349%2C%20-47.9114%5D%2C%20%5B-2.55992%2C%20-47.5059%5D%2C%20%5B-1.76984%2C%20-47.446000000000005%5D%2C%20%5B-4.2667%2C%20-55.9926%5D%2C%20%5B-5.13272%2C%20-49.3358%5D%2C%20%5B-6.21469%2C%20-57.7544%5D%2C%20%5B-4.4461699999999995%2C%20-49.1153%5D%2C%20%5B-2.1634700000000002%2C%20-56.0889%5D%2C%20%5B-1.8985%2C%20-49.3903%5D%2C%20%5B-2.0568299999999997%2C%20-47.5601%5D%2C%20%5B-0.803391%2C%20-47.6014%5D%2C%20%5B-5.38075%2C%20-49.1327%5D%2C%20%5B-0.778899%2C%20-47.452%5D%2C%20%5B-0.7147020000000001%2C%20-47.7034%5D%2C%20%5B-1.36002%2C%20-48.3421%5D%2C%20%5B-3.4463699999999995%2C%20-52.8875%5D%2C%20%5B-1.8032%2C%20-50.7149%5D%2C%20%5B-2.5831%2C%20-49.5042%5D%2C%20%5B-1.8899299999999999%2C%20-48.7668%5D%2C%20%5B-1.99768%2C%20-54.0724%5D%2C%20%5B-1.53936%2C%20-49.2224%5D%2C%20%5B-2.26693%2C%20-46.9731%5D%2C%20%5B-4.91622%2C%20-49.0822%5D%2C%20%5B-1.20874%2C%20-47.3921%5D%2C%20%5B-7.14347%2C%20-55.3786%5D%2C%20%5B-4.24749%2C%20-49.9499%5D%2C%20%5B-1.90107%2C%20-55.5208%5D%2C%20%5B-2.00358%2C%20-49.8628%5D%2C%20%5B-1.7598900000000002%2C%20-55.8579%5D%2C%20%5B-1.54168%2C%20-47.1126%5D%2C%20%5B-6.7529%2C%20-51.0858%5D%2C%20%5B-3.8354199999999996%2C%20-50.6399%5D%2C%20%5B-5.74027%2C%20-48.3181%5D%2C%20%5B-3.00212%2C%20-47.3527%5D%2C%20%5B-6.06781%2C%20-49.9037%5D%2C%20%5B-1.59772%2C%20-46.9268%5D%2C%20%5B-1.19382%2C%20-47.324%5D%2C%20%5B-6.43778%2C%20-48.8716%5D%2C%20%5B-3.8681300000000003%2C%20-54.2124%5D%2C%20%5B-1.3958700000000002%2C%20-48.8661%5D%2C%20%5B-1.93639%2C%20-50.8194%5D%2C%20%5B-1.74691%2C%20-52.2361%5D%2C%20%5B-1.798%2C%20-53.4779%5D%2C%20%5B-0.9454389999999999%2C%20-47.1253%5D%2C%20%5B-0.8996040000000001%2C%20-47.0134%5D%2C%20%5B-8.02529%2C%20-50.0317%5D%2C%20%5B-7.312360000000001%2C%20-50.0379%5D%2C%20%5B-4.7779300000000005%2C%20-48.067%5D%2C%20%5B-4.100280000000001%2C%20-54.9092%5D%2C%20%5B-0.630815%2C%20-47.3465%5D%2C%20%5B-0.758444%2C%20-48.5139%5D%2C%20%5B-1.1921899999999999%2C%20-48.238%5D%2C%20%5B-0.6610189999999999%2C%20-49.1771%5D%2C%20%5B-1.2968600000000001%2C%20-48.1606%5D%2C%20%5B-1.52147%2C%20-46.9008%5D%2C%20%5B-8.85784%2C%20-49.7215%5D%2C%20%5B-1.35392%2C%20-47.5712%5D%2C%20%5B-9.3281%2C%20-50.35%5D%2C%20%5B-2.4384900000000003%2C%20-54.6996%5D%2C%20%5B-0.9309700000000001%2C%20-47.3855%5D%2C%20%5B-1.1522%2C%20-48.1314%5D%2C%20%5B-0.747293%2C%20-48.0246%5D%2C%20%5B-5.537319999999999%2C%20-48.7366%5D%2C%20%5B-1.6876799999999998%2C%20-47.7665%5D%2C%20%5B-6.6425399999999994%2C%20-51.9904%5D%2C%20%5B-1.16963%2C%20-47.7917%5D%2C%20%5B-6.39471%2C%20-48.5592%5D%2C%20%5B-0.857885%2C%20-47.918%5D%2C%20%5B-0.780222%2C%20-47.181000000000004%5D%2C%20%5B-5.36334%2C%20-48.7926%5D%2C%20%5B-1.61307%2C%20-47.4784%5D%2C%20%5B-1.71597%2C%20-49.5249%5D%2C%20%5B-6.940180000000001%2C%20-49.6834%5D%2C%20%5B-4.3124199999999995%2C%20-51.5764%5D%2C%20%5B-0.73032%2C%20-48.5015%5D%2C%20%5B-2.94584%2C%20-48.9489%5D%2C%20%5B-1.0296299999999998%2C%20-47.9004%5D%2C%20%5B-2.10443%2C%20-56.4877%5D%2C%20%5B-2.41302%2C%20-48.1415%5D%2C%20%5B-1.07653%2C%20-46.9031%5D%2C%20%5B-4.5734699999999995%2C%20-55.9429%5D%2C%20%5B-6.7468699999999995%2C%20-51.1626%5D%2C%20%5B-3.7657%2C%20-49.6773%5D%2C%20%5B-3.7500699999999996%2C%20-47.4892%5D%2C%20%5B-3.71519%2C%20-53.7396%5D%2C%20%5B-0.861194%2C%20-48.1386%5D%2C%20%5B-1.1912399999999999%2C%20-46.1399%5D%2C%20%5B-2.87922%2C%20-52.0088%5D%2C%20%5B-7.0983%2C%20-49.9437%5D%2C%20%5B0.901357%2C%20-52.0036%5D%2C%20%5B2.05267%2C%20-50.7957%5D%2C%20%5B0.777424%2C%20-51.9503%5D%2C%20%5B2.50475%2C%20-50.9512%5D%2C%20%5B0.9707610000000001%2C%20-50.8005%5D%2C%20%5B0.8572559999999999%2C%20-51.1795%5D%2C%20%5B0.6021850000000001%2C%20-50.6996%5D%2C%20%5B-0.8049109999999999%2C%20-52.453%5D%2C%20%5B0.034934%2C%20-51.0694%5D%2C%20%5B-0.11335999999999999%2C%20-51.2891%5D%2C%20%5B3.8407400000000003%2C%20-51.8331%5D%2C%20%5B0.71243%2C%20-51.4155%5D%2C%20%5B1.74543%2C%20-50.7892%5D%2C%20%5B-0.045433999999999995%2C%20-51.1729%5D%2C%20%5B1.50652%2C%20-50.9087%5D%2C%20%5B-0.938%2C%20-52.424%5D%2C%20%5B-9.62101%2C%20-49.1518%5D%2C%20%5B-6.5540899999999995%2C%20-47.4702%5D%2C%20%5B-11.3056%2C%20-48.9361%5D%2C%20%5B-11.5706%2C%20-47.1792%5D%2C%20%5B-12.4785%2C%20-49.1249%5D%2C%20%5B-6.36437%2C%20-48.0735%5D%2C%20%5B-6.39179%2C%20-47.8611%5D%2C%20%5B-9.94139%2C%20-47.9638%5D%2C%20%5B-7.16005%2C%20-48.5291%5D%2C%20%5B-8.80755%2C%20-49.5569%5D%2C%20%5B-12.9289%2C%20-49.8231%5D%2C%20%5B-7.19238%2C%20-48.2044%5D%2C%20%5B-6.58225%2C%20-48.6395%5D%2C%20%5B-5.64659%2C%20-48.1232%5D%2C%20%5B-7.65463%2C%20-49.0637%5D%2C%20%5B-12.9287%2C%20-46.9359%5D%2C%20%5B-5.46863%2C%20-47.8863%5D%2C%20%5B-12.7105%2C%20-46.4076%5D%2C%20%5B-5.61275%2C%20-47.7701%5D%2C%20%5B-7.209230000000001%2C%20-47.7613%5D%2C%20%5B-7.75612%2C%20-48.5836%5D%2C%20%5B-7.695930000000001%2C%20-47.6776%5D%2C%20%5B-9.83404%2C%20-48.7252%5D%2C%20%5B-7.874810000000001%2C%20-48.8893%5D%2C%20%5B-8.96306%2C%20-48.165%5D%2C%20%5B-8.38918%2C%20-48.4822%5D%2C%20%5B-11.0058%2C%20-48.5683%5D%2C%20%5B-5.3144800000000005%2C%20-48.2271%5D%2C%20%5B-6.1156%2C%20-47.9234%5D%2C%20%5B-7.989560000000001%2C%20-46.8645%5D%2C%20%5B-11.8881%2C%20-49.1609%5D%2C%20%5B-7.03262%2C%20-48.3978%5D%2C%20%5B-5.31415%2C%20-48.0314%5D%2C%20%5B-9.27612%2C%20-49.9521%5D%2C%20%5B-8.961030000000001%2C%20-47.3304%5D%2C%20%5B-10.1419%2C%20-49.1403%5D%2C%20%5B-11.6175%2C%20-47.7486%5D%2C%20%5B-8.05764%2C%20-48.4757%5D%2C%20%5B-12.7917%2C%20-46.5388%5D%2C%20%5B-12.2209%2C%20-47.2951%5D%2C%20%5B-8.28411%2C%20-49.2473%5D%2C%20%5B-10.5985%2C%20-49.1942%5D%2C%20%5B-11.0994%2C%20-48.9152%5D%2C%20%5B-6.715910000000001%2C%20-47.7597%5D%2C%20%5B-11.624%2C%20-46.8198%5D%2C%20%5B-9.800180000000001%2C%20-49.2169%5D%2C%20%5B-9.255339999999999%2C%20-49.0638%5D%2C%20%5B-11.3416%2C%20-49.2716%5D%2C%20%5B-5.3659300000000005%2C%20-48.5378%5D%2C%20%5B-10.7603%2C%20-48.9076%5D%2C%20%5B-12.1312%2C%20-49.1748%5D%2C%20%5B-7.3350100000000005%2C%20-47.4954%5D%2C%20%5B-11.7976%2C%20-49.5316%5D%2C%20%5B-9.05611%2C%20-48.5206%5D%2C%20%5B-8.77413%2C%20-48.9313%5D%2C%20%5B-7.71478%2C%20-47.3252%5D%2C%20%5B-8.83543%2C%20-48.5114%5D%2C%20%5B-11.7279%2C%20-49.068000000000005%5D%2C%20%5B-11.2329%2C%20-48.46%5D%2C%20%5B-8.39293%2C%20-47.7726%5D%2C%20%5B-5.77267%2C%20-47.4864%5D%2C%20%5B-8.37982%2C%20-48.1072%5D%2C%20%5B-8.57172%2C%20-48.6895%5D%2C%20%5B-12.6509%2C%20-48.589%5D%2C%20%5B-8.11951%2C%20-49.0643%5D%2C%20%5B-10.7906%2C%20-49.6199%5D%2C%20%5B-10.368%2C%20-47.538000000000004%5D%2C%20%5B-9.74996%2C%20-48.3565%5D%2C%20%5B-12.7847%2C%20-46.5099%5D%2C%20%5B-9.590019999999999%2C%20-46.6738%5D%2C%20%5B-6.17794%2C%20-47.8582%5D%2C%20%5B-9.79377%2C%20-49.6553%5D%2C%20%5B-10.5464%2C%20-46.4168%5D%2C%20%5B-5.95169%2C%20-47.5125%5D%2C%20%5B-9.565560000000001%2C%20-48.393%5D%2C%20%5B-9.529069999999999%2C%20-48.5922%5D%2C%20%5B-10.7611%2C%20-48.1114%5D%2C%20%5B-10.0075%2C%20-48.9941%5D%2C%20%5B-6.61658%2C%20-47.5464%5D%2C%20%5B-7.1466899999999995%2C%20-48.6091%5D%2C%20%5B-11.7034%2C%20-47.7223%5D%2C%20%5B-6.37496%2C%20-47.6643%5D%2C%20%5B-7.631710000000001%2C%20-48.4252%5D%2C%20%5B-10.5651%2C%20-48.9125%5D%2C%20%5B-9.97063%2C%20-47.6785%5D%2C%20%5B-12.9217%2C%20-46.5713%5D%2C%20%5B-11.825999999999999%2C%20-46.6325%5D%2C%20%5B-10.707%2C%20-48.9086%5D%2C%20%5B-7.847860000000001%2C%20-47.9242%5D%2C%20%5B-13.0447%2C%20-48.4026%5D%2C%20%5B-10.175%2C%20-48.8823%5D%2C%20%5B-12.6167%2C%20-47.8734%5D%2C%20%5B-7.53919%2C%20-49.367%5D%2C%20%5B-8.97034%2C%20-48.1729%5D%2C%20%5B-12.0254%2C%20-48.5395%5D%2C%20%5B-8.5932%2C%20-48.9327%5D%2C%20%5B-8.72463%2C%20-48.7638%5D%2C%20%5B-11.1311%2C%20-47.5726%5D%2C%20%5B-6.77302%2C%20-48.2958%5D%2C%20%5B-10.442%2C%20-49.1876%5D%2C%20%5B-12.0853%2C%20-46.4825%5D%2C%20%5B-10.7481%2C%20-47.5276%5D%2C%20%5B-11.618%2C%20-47.0621%5D%2C%20%5B-10.7027%2C%20-48.408%5D%2C%20%5B-5.39281%2C%20-47.8111%5D%2C%20%5B-8.5406%2C%20-48.5062%5D%2C%20%5B-10.424000000000001%2C%20-48.8957%5D%2C%20%5B-8.7227%2C%20-47.2421%5D%2C%20%5B-6.44005%2C%20-48.1371%5D%2C%20%5B-11.3949%2C%20-46.8847%5D%2C%20%5B-9.34425%2C%20-48.5245%5D%2C%20%5B-9.350019999999999%2C%20-47.888000000000005%5D%2C%20%5B-5.35423%2C%20-47.8782%5D%2C%20%5B-12.538%2C%20-49.9242%5D%2C%20%5B-7.15803%2C%20-48.7165%5D%2C%20%5B-8.8046%2C%20-47.7887%5D%2C%20%5B-10.8617%2C%20-48.9161%5D%2C%20%5B-11.4474%2C%20-48.1216%5D%2C%20%5B-10.2746%2C%20-47.8033%5D%2C%20%5B-6.444380000000001%2C%20-47.6684%5D%2C%20%5B-6.0258%2C%20-47.9012%5D%2C%20%5B-10.1615%2C%20-46.6618%5D%2C%20%5B-5.56305%2C%20-47.5743%5D%2C%20%5B-12.7458%2C%20-48.2352%5D%2C%20%5B-5.26131%2C%20-48.2021%5D%2C%20%5B-11.9743%2C%20-48.2353%5D%2C%20%5B-11.1471%2C%20-48.1694%5D%2C%20%5B-5.6012%2C%20-47.6381%5D%2C%20%5B-11.993%2C%20-48.9685%5D%2C%20%5B-12.4026%2C%20-46.437%5D%2C%20%5B-12.1873%2C%20-46.9797%5D%2C%20%5B-12.7949%2C%20-49.0896%5D%2C%20%5B-10.24%2C%20-48.3558%5D%2C%20%5B-9.5632%2C%20-48.3741%5D%2C%20%5B-6.32447%2C%20-47.4224%5D%2C%20%5B-8.971680000000001%2C%20-48.1883%5D%2C%20%5B-8.393880000000001%2C%20-48.1277%5D%2C%20%5B-6.85274%2C%20-47.9601%5D%2C%20%5B-6.4141%2C%20-48.532%5D%5D%2C%0A%20%20%20%20%20%20%20%20%20%20%20%20%20%20%20%20%7B%22blur%22%3A%2015%2C%20%22maxZoom%22%3A%2018%2C%20%22minOpacity%22%3A%200.5%2C%20%22radius%22%3A%2025%7D%0A%20%20%20%20%20%20%20%20%20%20%20%20%29.addTo%28map_c1d1be5613664d8ea852dbee6e7f757c%29%3B%0A%20%20%20%20%20%20%20%20%0A%20%20%20%20%0A%20%20%20%20%20%20%20%20%20%20%20%20var%20heat_map_6ce98fb6a62c4f9db6187e7593f0c4d1%20%3D%20L.heatLayer%28%0A%20%20%20%20%20%20%20%20%20%20%20%20%20%20%20%20%5B%5B-9.86215%2C%20-62.1876%5D%2C%20%5B-6.65677%2C%20-69.8662%5D%2C%20%5B-3.4843800000000003%2C%20-66.0718%5D%2C%20%5B-2.75814%2C%20-66.7595%5D%2C%20%5B-3.29066%2C%20-60.6216%5D%2C%20%5B-7.71311%2C%20-66.992%5D%2C%20%5B-5.62085%2C%20-63.1808%5D%2C%20%5B2.43998%2C%20-60.9096%5D%2C%20%5B-0.154874%2C%20-50.3861%5D%2C%20%5B-1.36391%2C%20-48.3743%5D%2C%20%5B-1.6803599999999999%2C%20-50.4791%5D%2C%20%5B-1.8117900000000002%2C%20-49.7952%5D%2C%20%5B-0.733214%2C%20-47.8515%5D%2C%20%5B-6.10389%2C%20-49.3553%5D%2C%20%5B-3.8433800000000002%2C%20-49.0974%5D%2C%20%5B-2.55992%2C%20-47.5059%5D%2C%20%5B-1.36002%2C%20-48.3421%5D%2C%20%5B-1.59772%2C%20-46.9268%5D%2C%20%5B-1.93639%2C%20-50.8194%5D%2C%20%5B-1.74691%2C%20-52.2361%5D%2C%20%5B-1.1921899999999999%2C%20-48.238%5D%2C%20%5B-0.73032%2C%20-48.5015%5D%2C%20%5B-3.7500699999999996%2C%20-47.4892%5D%2C%20%5B0.901357%2C%20-52.0036%5D%2C%20%5B-11.0994%2C%20-48.9152%5D%2C%20%5B-9.529069999999999%2C%20-48.5922%5D%2C%20%5B-12.538%2C%20-49.9242%5D%2C%20%5B-9.81528%2C%20-67.955%5D%2C%20%5B-5.12593%2C%20-60.3732%5D%2C%20%5B-2.99609%2C%20-65.1133%5D%2C%20%5B-1.8117900000000002%2C%20-49.7952%5D%2C%20%5B-1.1921899999999999%2C%20-48.238%5D%2C%20%5B-6.39471%2C%20-48.5592%5D%2C%20%5B-11.029000000000002%2C%20-62.6696%5D%2C%20%5B-9.81528%2C%20-67.955%5D%2C%20%5B-7.738639999999999%2C%20-72.661%5D%2C%20%5B2.60994%2C%20-60.6058%5D%2C%20%5B-0.154874%2C%20-50.3861%5D%2C%20%5B-6.79053%2C%20-50.4791%5D%2C%20%5B-1.75974%2C%20-46.5459%5D%2C%20%5B-7.810969999999999%2C%20-50.7698%5D%2C%20%5B-1.8117900000000002%2C%20-49.7952%5D%2C%20%5B-0.73032%2C%20-48.5015%5D%2C%20%5B-7.695930000000001%2C%20-47.6776%5D%2C%20%5B-6.715910000000001%2C%20-47.7597%5D%5D%2C%0A%20%20%20%20%20%20%20%20%20%20%20%20%20%20%20%20%7B%22blur%22%3A%2015%2C%20%22maxZoom%22%3A%2018%2C%20%22minOpacity%22%3A%200.5%2C%20%22radius%22%3A%2025%7D%0A%20%20%20%20%20%20%20%20%20%20%20%20%29.addTo%28map_c1d1be5613664d8ea852dbee6e7f757c%29%3B%0A%20%20%20%20%20%20%20%20%0A%20%20%20%20%0A%20%20%20%20%20%20%20%20%20%20%20%20var%20heat_map_fc6ddc3fbced42b8a7fa94578e16463d%20%3D%20L.heatLayer%28%0A%20%20%20%20%20%20%20%20%20%20%20%20%20%20%20%20%5B%5B-9.71429%2C%20-63.3188%5D%2C%20%5B-10.5712%2C%20-63.6266%5D%2C%20%5B-9.86215%2C%20-62.1876%5D%2C%20%5B-10.9298%2C%20-69.5738%5D%2C%20%5B-8.170539999999999%2C%20-70.351%5D%2C%20%5B-7.616569999999999%2C%20-72.8997%5D%2C%20%5B-8.93898%2C%20-72.7997%5D%2C%20%5B-8.26323%2C%20-72.7537%5D%2C%20%5B-10.1497%2C%20-67.7362%5D%2C%20%5B-4.377680000000001%2C%20-70.0342%5D%2C%20%5B-4.88161%2C%20-66.9086%5D%2C%20%5B-6.65677%2C%20-69.8662%5D%2C%20%5B-7.53797%2C%20-72.5907%5D%2C%20%5B-6.43852%2C%20-68.2437%5D%2C%20%5B-3.4843800000000003%2C%20-66.0718%5D%2C%20%5B-2.75814%2C%20-66.7595%5D%2C%20%5B-3.29066%2C%20-60.6216%5D%2C%20%5B-2.63637%2C%20-60.9434%5D%2C%20%5B-7.71311%2C%20-66.992%5D%2C%20%5B-2.55915%2C%20-57.8731%5D%2C%20%5B-5.62085%2C%20-63.1808%5D%2C%20%5B0.951659%2C%20-59.9133%5D%2C%20%5B-0.154874%2C%20-50.3861%5D%2C%20%5B-1.36391%2C%20-48.3743%5D%2C%20%5B-1.0510899999999999%2C%20-46.6147%5D%2C%20%5B-1.6803599999999999%2C%20-50.4791%5D%2C%20%5B-0.164154%2C%20-49.986999999999995%5D%2C%20%5B-1.8117900000000002%2C%20-49.7952%5D%2C%20%5B-0.733214%2C%20-47.8515%5D%2C%20%5B-6.10389%2C%20-49.3553%5D%2C%20%5B-7.55335%2C%20-49.7125%5D%2C%20%5B-2.55992%2C%20-47.5059%5D%2C%20%5B-5.38075%2C%20-49.1327%5D%2C%20%5B-0.7147020000000001%2C%20-47.7034%5D%2C%20%5B-1.36002%2C%20-48.3421%5D%2C%20%5B-1.8032%2C%20-50.7149%5D%2C%20%5B-1.93639%2C%20-50.8194%5D%2C%20%5B-1.74691%2C%20-52.2361%5D%2C%20%5B-1.1921899999999999%2C%20-48.238%5D%2C%20%5B-1.2968600000000001%2C%20-48.1606%5D%2C%20%5B-2.4384900000000003%2C%20-54.6996%5D%2C%20%5B-0.73032%2C%20-48.5015%5D%2C%20%5B-1.07653%2C%20-46.9031%5D%2C%20%5B-3.7500699999999996%2C%20-47.4892%5D%2C%20%5B0.901357%2C%20-52.0036%5D%2C%20%5B0.6021850000000001%2C%20-50.6996%5D%2C%20%5B-0.11335999999999999%2C%20-51.2891%5D%2C%20%5B-10.1419%2C%20-49.1403%5D%2C%20%5B-9.529069999999999%2C%20-48.5922%5D%2C%20%5B-12.538%2C%20-49.9242%5D%2C%20%5B-13.4945%2C%20-60.552%5D%2C%20%5B-13.1174%2C%20-60.5454%5D%2C%20%5B-11.169%2C%20-61.8986%5D%2C%20%5B-10.61%2C%20-62.7371%5D%2C%20%5B-11.029000000000002%2C%20-62.6696%5D%2C%20%5B-10.9298%2C%20-69.5738%5D%2C%20%5B-9.81528%2C%20-67.955%5D%2C%20%5B-8.170539999999999%2C%20-70.351%5D%2C%20%5B-7.738639999999999%2C%20-72.661%5D%2C%20%5B-3.58574%2C%20-59.1256%5D%2C%20%5B-3.89874%2C%20-61.3616%5D%2C%20%5B-8.74232%2C%20-67.3919%5D%2C%20%5B-3.3153699999999997%2C%20-61.2206%5D%2C%20%5B-4.094119999999999%2C%20-63.1441%5D%2C%20%5B-2.52342%2C%20-66.0942%5D%2C%20%5B-7.53797%2C%20-72.5907%5D%2C%20%5B-6.43852%2C%20-68.2437%5D%2C%20%5B-3.4843800000000003%2C%20-66.0718%5D%2C%20%5B-2.75814%2C%20-66.7595%5D%2C%20%5B-1.85313%2C%20-65.57300000000001%5D%2C%20%5B-5.12593%2C%20-60.3732%5D%2C%20%5B-2.55915%2C%20-57.8731%5D%2C%20%5B-2.99609%2C%20-65.1133%5D%2C%20%5B2.98858%2C%20-61.3072%5D%2C%20%5B-0.154874%2C%20-50.3861%5D%2C%20%5B-1.36391%2C%20-48.3743%5D%2C%20%5B-1.0510899999999999%2C%20-46.6147%5D%2C%20%5B-1.90057%2C%20-50.1987%5D%2C%20%5B-1.06126%2C%20-46.7826%5D%2C%20%5B-1.6803599999999999%2C%20-50.4791%5D%2C%20%5B-1.75974%2C%20-46.5459%5D%2C%20%5B-6.49659%2C%20-49.8776%5D%2C%20%5B-0.164154%2C%20-49.986999999999995%5D%2C%20%5B-1.8117900000000002%2C%20-49.7952%5D%2C%20%5B-6.10389%2C%20-49.3553%5D%2C%20%5B-5.38075%2C%20-49.1327%5D%2C%20%5B-1.36002%2C%20-48.3421%5D%2C%20%5B-1.93639%2C%20-50.8194%5D%2C%20%5B-1.74691%2C%20-52.2361%5D%2C%20%5B-1.1921899999999999%2C%20-48.238%5D%2C%20%5B-2.4384900000000003%2C%20-54.6996%5D%2C%20%5B-6.39471%2C%20-48.5592%5D%2C%20%5B-0.857885%2C%20-47.918%5D%2C%20%5B-5.36334%2C%20-48.7926%5D%2C%20%5B-4.3124199999999995%2C%20-51.5764%5D%2C%20%5B-1.07653%2C%20-46.9031%5D%2C%20%5B-3.7500699999999996%2C%20-47.4892%5D%2C%20%5B-1.1912399999999999%2C%20-46.1399%5D%2C%20%5B0.6021850000000001%2C%20-50.6996%5D%2C%20%5B-10.442%2C%20-49.1876%5D%2C%20%5B-6.44005%2C%20-48.1371%5D%2C%20%5B-12.538%2C%20-49.9242%5D%2C%20%5B-10.5712%2C%20-63.6266%5D%2C%20%5B-8.7907%2C%20-63.7005%5D%2C%20%5B-11.029000000000002%2C%20-62.6696%5D%2C%20%5B-9.81528%2C%20-67.955%5D%2C%20%5B-11.0188%2C%20-68.7341%5D%2C%20%5B-7.738639999999999%2C%20-72.661%5D%2C%20%5B-5.80462%2C%20-61.2895%5D%2C%20%5B-5.12593%2C%20-60.3732%5D%2C%20%5B-7.71311%2C%20-66.992%5D%2C%20%5B-2.99609%2C%20-65.1133%5D%2C%20%5B2.60994%2C%20-60.6058%5D%2C%20%5B0.951659%2C%20-59.9133%5D%2C%20%5B-0.154874%2C%20-50.3861%5D%2C%20%5B-6.79053%2C%20-50.4791%5D%2C%20%5B-1.36391%2C%20-48.3743%5D%2C%20%5B-1.90057%2C%20-50.1987%5D%2C%20%5B-3.7719099999999997%2C%20-49.5735%5D%2C%20%5B-1.6803599999999999%2C%20-50.4791%5D%2C%20%5B-1.75974%2C%20-46.5459%5D%2C%20%5B-0.164154%2C%20-49.986999999999995%5D%2C%20%5B-7.810969999999999%2C%20-50.7698%5D%2C%20%5B-1.8117900000000002%2C%20-49.7952%5D%2C%20%5B-6.10389%2C%20-49.3553%5D%2C%20%5B-3.8433800000000002%2C%20-49.0974%5D%2C%20%5B-1.97533%2C%20-48.9575%5D%2C%20%5B-1.4349%2C%20-47.9114%5D%2C%20%5B-5.13272%2C%20-49.3358%5D%2C%20%5B-6.21469%2C%20-57.7544%5D%2C%20%5B-0.7147020000000001%2C%20-47.7034%5D%2C%20%5B-1.8032%2C%20-50.7149%5D%2C%20%5B-1.8899299999999999%2C%20-48.7668%5D%2C%20%5B-1.3958700000000002%2C%20-48.8661%5D%2C%20%5B-1.93639%2C%20-50.8194%5D%2C%20%5B-8.02529%2C%20-50.0317%5D%2C%20%5B-2.4384900000000003%2C%20-54.6996%5D%2C%20%5B-6.39471%2C%20-48.5592%5D%2C%20%5B-0.780222%2C%20-47.181000000000004%5D%2C%20%5B-0.73032%2C%20-48.5015%5D%2C%20%5B-1.07653%2C%20-46.9031%5D%2C%20%5B-1.1912399999999999%2C%20-46.1399%5D%2C%20%5B0.6021850000000001%2C%20-50.6996%5D%2C%20%5B-0.11335999999999999%2C%20-51.2891%5D%2C%20%5B-6.715910000000001%2C%20-47.7597%5D%2C%20%5B-12.1312%2C%20-49.1748%5D%2C%20%5B-7.1466899999999995%2C%20-48.6091%5D%2C%20%5B-6.77302%2C%20-48.2958%5D%2C%20%5B-8.7227%2C%20-47.2421%5D%2C%20%5B-10.2746%2C%20-47.8033%5D%2C%20%5B-12.1873%2C%20-46.9797%5D%5D%2C%0A%20%20%20%20%20%20%20%20%20%20%20%20%20%20%20%20%7B%22blur%22%3A%2015%2C%20%22maxZoom%22%3A%2018%2C%20%22minOpacity%22%3A%200.5%2C%20%22radius%22%3A%2025%7D%0A%20%20%20%20%20%20%20%20%20%20%20%20%29.addTo%28map_c1d1be5613664d8ea852dbee6e7f757c%29%3B%0A%20%20%20%20%20%20%20%20%0A%20%20%20%20%0A%20%20%20%20%20%20%20%20%20%20%20%20var%20heat_map_30f35f2b6fb9490aae5570d4dc93a067%20%3D%20L.heatLayer%28%0A%20%20%20%20%20%20%20%20%20%20%20%20%20%20%20%20%5B%5B-11.9283%2C%20-61.9953%5D%2C%20%5B-9.905710000000001%2C%20-63.0325%5D%2C%20%5B-13.4945%2C%20-60.552%5D%2C%20%5B-11.4343%2C%20-61.4562%5D%2C%20%5B-13.187000000000001%2C%20-60.8168%5D%2C%20%5B-12.9551%2C%20-60.8947%5D%2C%20%5B-10.7889%2C%20-65.3296%5D%2C%20%5B-10.4318%2C%20-62.4788%5D%2C%20%5B-10.8777%2C%20-61.9322%5D%2C%20%5B-9.44363%2C%20-61.9818%5D%2C%20%5B-11.7247%2C%20-62.3127%5D%2C%20%5B-11.672%2C%20-61.198%5D%2C%20%5B-8.760769999999999%2C%20-63.8999%5D%2C%20%5B-11.7271%2C%20-61.7714%5D%2C%20%5B-11.9074%2C%20-61.7777%5D%2C%20%5B-12.7502%2C%20-60.1488%5D%2C%20%5B-11.6953%2C%20-62.7192%5D%2C%20%5B-10.4077%2C%20-65.3346%5D%2C%20%5B-11.6961%2C%20-61.9951%5D%2C%20%5B-11.4253%2C%20-61.9482%5D%2C%20%5B-12.1754%2C%20-61.6032%5D%2C%20%5B-11.9023%2C%20-61.5026%5D%2C%20%5B-12.052%2C%20-63.568000000000005%5D%2C%20%5B-11.8055%2C%20-63.0182%5D%2C%20%5B-10.9056%2C%20-62.242%5D%2C%20%5B-10.4465%2C%20-62.1352%5D%2C%20%5B-9.43091%2C%20-71.8974%5D%2C%20%5B-10.2806%2C%20-67.1371%5D%2C%20%5B-7.738639999999999%2C%20-72.661%5D%2C%20%5B-7.194089999999999%2C%20-59.896%5D%2C%20%5B-2.9740900000000003%2C%20-57.5873%5D%2C%20%5B-4.39154%2C%20-59.5874%5D%2C%20%5B-6.5258199999999995%2C%20-64.3953%5D%2C%20%5B-3.8305300000000004%2C%20-62.0658%5D%2C%20%5B-3.2747900000000003%2C%20-60.19%5D%2C%20%5B-2.7408099999999997%2C%20-58.0293%5D%2C%20%5B-7.264130000000001%2C%20-64.7948%5D%2C%20%5B-3.1186599999999998%2C%20-60.0212%5D%2C%20%5B-2.7045%2C%20-59.6858%5D%2C%20%5B-2.8174799999999998%2C%20-58.248000000000005%5D%2C%20%5B-4.2416%2C%20-69.9383%5D%2C%20%5B-2.8658200000000003%2C%20-67.7919%5D%2C%20%5B-2.52936%2C%20-57.7538%5D%2C%20%5B-3.1284099999999997%2C%20-58.1496%5D%2C%20%5B2.98858%2C%20-61.3072%5D%2C%20%5B0.8842030000000001%2C%20-59.6959%5D%2C%20%5B4.60314%2C%20-60.1815%5D%2C%20%5B-3.46985%2C%20-51.2003%5D%2C%20%5B-2.6360900000000003%2C%20-54.9374%5D%2C%20%5B-1.36745%2C%20-47.3066%5D%2C%20%5B-3.2979199999999995%2C%20-52.534%5D%2C%20%5B-1.12539%2C%20-47.626000000000005%5D%2C%20%5B-5.13272%2C%20-49.3358%5D%2C%20%5B-0.803391%2C%20-47.6014%5D%2C%20%5B-1.20874%2C%20-47.3921%5D%2C%20%5B-7.14347%2C%20-55.3786%5D%2C%20%5B-1.3958700000000002%2C%20-48.8661%5D%2C%20%5B-0.8996040000000001%2C%20-47.0134%5D%2C%20%5B-0.758444%2C%20-48.5139%5D%2C%20%5B-8.85784%2C%20-49.7215%5D%2C%20%5B-1.16963%2C%20-47.7917%5D%2C%20%5B-1.71597%2C%20-49.5249%5D%2C%20%5B-4.5734699999999995%2C%20-55.9429%5D%2C%20%5B2.05267%2C%20-50.7957%5D%2C%20%5B0.8572559999999999%2C%20-51.1795%5D%2C%20%5B0.034934%2C%20-51.0694%5D%2C%20%5B-0.045433999999999995%2C%20-51.1729%5D%2C%20%5B-9.62101%2C%20-49.1518%5D%2C%20%5B-6.5540899999999995%2C%20-47.4702%5D%2C%20%5B-11.3056%2C%20-48.9361%5D%2C%20%5B-12.4785%2C%20-49.1249%5D%2C%20%5B-6.36437%2C%20-48.0735%5D%2C%20%5B-6.39179%2C%20-47.8611%5D%2C%20%5B-9.94139%2C%20-47.9638%5D%2C%20%5B-8.80755%2C%20-49.5569%5D%2C%20%5B-12.9289%2C%20-49.8231%5D%2C%20%5B-6.58225%2C%20-48.6395%5D%2C%20%5B-7.65463%2C%20-49.0637%5D%2C%20%5B-5.61275%2C%20-47.7701%5D%2C%20%5B-8.96306%2C%20-48.165%5D%2C%20%5B-8.38918%2C%20-48.4822%5D%2C%20%5B-11.0058%2C%20-48.5683%5D%2C%20%5B-7.989560000000001%2C%20-46.8645%5D%2C%20%5B-11.8881%2C%20-49.1609%5D%2C%20%5B-7.03262%2C%20-48.3978%5D%2C%20%5B-5.31415%2C%20-48.0314%5D%2C%20%5B-9.27612%2C%20-49.9521%5D%2C%20%5B-11.6175%2C%20-47.7486%5D%2C%20%5B-11.624%2C%20-46.8198%5D%2C%20%5B-11.3416%2C%20-49.2716%5D%2C%20%5B-11.7976%2C%20-49.5316%5D%2C%20%5B-8.77413%2C%20-48.9313%5D%2C%20%5B-5.77267%2C%20-47.4864%5D%2C%20%5B-12.6509%2C%20-48.589%5D%2C%20%5B-9.74996%2C%20-48.3565%5D%2C%20%5B-6.17794%2C%20-47.8582%5D%2C%20%5B-9.79377%2C%20-49.6553%5D%2C%20%5B-10.7611%2C%20-48.1114%5D%2C%20%5B-7.1466899999999995%2C%20-48.6091%5D%2C%20%5B-10.5651%2C%20-48.9125%5D%2C%20%5B-9.97063%2C%20-47.6785%5D%2C%20%5B-11.825999999999999%2C%20-46.6325%5D%2C%20%5B-12.6167%2C%20-47.8734%5D%2C%20%5B-7.53919%2C%20-49.367%5D%2C%20%5B-12.0254%2C%20-48.5395%5D%2C%20%5B-8.5932%2C%20-48.9327%5D%2C%20%5B-8.72463%2C%20-48.7638%5D%2C%20%5B-11.1311%2C%20-47.5726%5D%2C%20%5B-10.442%2C%20-49.1876%5D%2C%20%5B-12.0853%2C%20-46.4825%5D%2C%20%5B-10.7481%2C%20-47.5276%5D%2C%20%5B-11.618%2C%20-47.0621%5D%2C%20%5B-9.34425%2C%20-48.5245%5D%2C%20%5B-9.350019999999999%2C%20-47.888000000000005%5D%2C%20%5B-7.15803%2C%20-48.7165%5D%2C%20%5B-11.4474%2C%20-48.1216%5D%2C%20%5B-10.2746%2C%20-47.8033%5D%2C%20%5B-10.1615%2C%20-46.6618%5D%2C%20%5B-11.993%2C%20-48.9685%5D%2C%20%5B-12.4026%2C%20-46.437%5D%2C%20%5B-9.5632%2C%20-48.3741%5D%2C%20%5B-8.971680000000001%2C%20-48.1883%5D%2C%20%5B-8.393880000000001%2C%20-48.1277%5D%2C%20%5B-9.905710000000001%2C%20-63.0325%5D%2C%20%5B-13.187000000000001%2C%20-60.8168%5D%2C%20%5B-11.5266%2C%20-61.0252%5D%2C%20%5B-10.4318%2C%20-62.4788%5D%2C%20%5B-10.8777%2C%20-61.9322%5D%2C%20%5B-11.7247%2C%20-62.3127%5D%2C%20%5B-10.7167%2C%20-62.2565%5D%2C%20%5B-11.672%2C%20-61.198%5D%2C%20%5B-8.760769999999999%2C%20-63.8999%5D%2C%20%5B-11.9074%2C%20-61.7777%5D%2C%20%5B-12.7502%2C%20-60.1488%5D%2C%20%5B-11.3463%2C%20-62.2847%5D%2C%20%5B-12.132%2C%20-61.835%5D%2C%20%5B-11.6961%2C%20-61.9951%5D%2C%20%5B-10.349%2C%20-62.9043%5D%2C%20%5B-8.7907%2C%20-63.7005%5D%2C%20%5B-12.5611%2C%20-60.8877%5D%2C%20%5B-11.196%2C%20-61.5174%5D%2C%20%5B-12.1754%2C%20-61.6032%5D%2C%20%5B-11.8295%2C%20-61.3153%5D%2C%20%5B-11.9023%2C%20-61.5026%5D%2C%20%5B-11.1261%2C%20-62.3639%5D%2C%20%5B-10.4465%2C%20-62.1352%5D%2C%20%5B-10.995%2C%20-68.7497%5D%2C%20%5B-10.565999999999999%2C%20-67.686%5D%2C%20%5B-9.43091%2C%20-71.8974%5D%2C%20%5B-8.83291%2C%20-69.2679%5D%2C%20%5B-10.2806%2C%20-67.1371%5D%2C%20%5B-8.26323%2C%20-72.7537%5D%2C%20%5B-9.06596%2C%20-68.6571%5D%2C%20%5B-8.15697%2C%20-70.7722%5D%2C%20%5B-3.37455%2C%20-68.2005%5D%2C%20%5B-3.74603%2C%20-61.6575%5D%2C%20%5B-7.194089999999999%2C%20-59.896%5D%2C%20%5B-4.37055%2C%20-70.1967%5D%2C%20%5B-4.377680000000001%2C%20-70.0342%5D%2C%20%5B-2.9740900000000003%2C%20-57.5873%5D%2C%20%5B-6.5258199999999995%2C%20-64.3953%5D%2C%20%5B-4.88161%2C%20-66.9086%5D%2C%20%5B-3.7680300000000004%2C%20-60.369%5D%2C%20%5B-3.8305300000000004%2C%20-62.0658%5D%2C%20%5B-3.2747900000000003%2C%20-60.19%5D%2C%20%5B-2.7408099999999997%2C%20-58.0293%5D%2C%20%5B-7.264130000000001%2C%20-64.7948%5D%2C%20%5B-3.44078%2C%20-60.4612%5D%2C%20%5B-2.63741%2C%20-56.729%5D%2C%20%5B-2.02981%2C%20-60.0234%5D%2C%20%5B-2.7045%2C%20-59.6858%5D%2C%20%5B-3.09544%2C%20-67.9463%5D%2C%20%5B-3.47292%2C%20-68.9646%5D%2C%20%5B-2.8174799999999998%2C%20-58.248000000000005%5D%2C%20%5B-4.2416%2C%20-69.9383%5D%2C%20%5B-5.62085%2C%20-63.1808%5D%2C%20%5B-3.3682199999999995%2C%20-64.7193%5D%2C%20%5B-2.52936%2C%20-57.7538%5D%2C%20%5B-3.1284099999999997%2C%20-58.1496%5D%2C%20%5B2.82384%2C%20-60.6753%5D%2C%20%5B1.8276599999999998%2C%20-61.1304%5D%2C%20%5B0.8842030000000001%2C%20-59.6959%5D%2C%20%5B2.43998%2C%20-60.9096%5D%2C%20%5B4.4799%2C%20-61.1477%5D%2C%20%5B0.951659%2C%20-59.9133%5D%2C%20%5B-3.46985%2C%20-51.2003%5D%2C%20%5B-5.0424%2C%20-48.6047%5D%2C%20%5B-1.36745%2C%20-47.3066%5D%2C%20%5B-2.24295%2C%20-49.4979%5D%2C%20%5B-1.20529%2C%20-47.1778%5D%2C%20%5B-1.9923799999999998%2C%20-47.9422%5D%2C%20%5B-1.88775%2C%20-55.1168%5D%2C%20%5B-2.16805%2C%20-56.7405%5D%2C%20%5B-1.92986%2C%20-47.0505%5D%2C%20%5B-3.4463699999999995%2C%20-52.8875%5D%2C%20%5B-2.26693%2C%20-46.9731%5D%2C%20%5B-1.20874%2C%20-47.3921%5D%2C%20%5B-1.54168%2C%20-47.1126%5D%2C%20%5B-1.19382%2C%20-47.324%5D%2C%20%5B-1.3958700000000002%2C%20-48.8661%5D%2C%20%5B-0.9454389999999999%2C%20-47.1253%5D%2C%20%5B-0.630815%2C%20-47.3465%5D%2C%20%5B-0.9309700000000001%2C%20-47.3855%5D%2C%20%5B-0.747293%2C%20-48.0246%5D%2C%20%5B-5.537319999999999%2C%20-48.7366%5D%2C%20%5B-1.6876799999999998%2C%20-47.7665%5D%2C%20%5B-1.16963%2C%20-47.7917%5D%2C%20%5B-1.61307%2C%20-47.4784%5D%2C%20%5B-1.0296299999999998%2C%20-47.9004%5D%2C%20%5B-6.7468699999999995%2C%20-51.1626%5D%2C%20%5B2.05267%2C%20-50.7957%5D%2C%20%5B0.8572559999999999%2C%20-51.1795%5D%2C%20%5B1.74543%2C%20-50.7892%5D%2C%20%5B1.50652%2C%20-50.9087%5D%2C%20%5B-9.62101%2C%20-49.1518%5D%2C%20%5B-11.3056%2C%20-48.9361%5D%2C%20%5B-11.5706%2C%20-47.1792%5D%2C%20%5B-6.36437%2C%20-48.0735%5D%2C%20%5B-6.39179%2C%20-47.8611%5D%2C%20%5B-9.94139%2C%20-47.9638%5D%2C%20%5B-7.16005%2C%20-48.5291%5D%2C%20%5B-7.65463%2C%20-49.0637%5D%2C%20%5B-12.9287%2C%20-46.9359%5D%2C%20%5B-5.46863%2C%20-47.8863%5D%2C%20%5B-12.7105%2C%20-46.4076%5D%2C%20%5B-7.209230000000001%2C%20-47.7613%5D%2C%20%5B-7.695930000000001%2C%20-47.6776%5D%2C%20%5B-9.83404%2C%20-48.7252%5D%2C%20%5B-7.874810000000001%2C%20-48.8893%5D%2C%20%5B-8.96306%2C%20-48.165%5D%2C%20%5B-11.0058%2C%20-48.5683%5D%2C%20%5B-5.3144800000000005%2C%20-48.2271%5D%2C%20%5B-6.1156%2C%20-47.9234%5D%2C%20%5B-7.03262%2C%20-48.3978%5D%2C%20%5B-5.31415%2C%20-48.0314%5D%2C%20%5B-11.0994%2C%20-48.9152%5D%2C%20%5B-6.715910000000001%2C%20-47.7597%5D%2C%20%5B-9.800180000000001%2C%20-49.2169%5D%2C%20%5B-9.255339999999999%2C%20-49.0638%5D%2C%20%5B-11.3416%2C%20-49.2716%5D%2C%20%5B-5.77267%2C%20-47.4864%5D%2C%20%5B-8.37982%2C%20-48.1072%5D%2C%20%5B-12.6509%2C%20-48.589%5D%2C%20%5B-8.11951%2C%20-49.0643%5D%2C%20%5B-10.7906%2C%20-49.6199%5D%2C%20%5B-10.368%2C%20-47.538000000000004%5D%2C%20%5B-9.74996%2C%20-48.3565%5D%2C%20%5B-12.7847%2C%20-46.5099%5D%2C%20%5B-6.17794%2C%20-47.8582%5D%2C%20%5B-9.565560000000001%2C%20-48.393%5D%2C%20%5B-10.7611%2C%20-48.1114%5D%2C%20%5B-10.0075%2C%20-48.9941%5D%2C%20%5B-6.61658%2C%20-47.5464%5D%2C%20%5B-7.1466899999999995%2C%20-48.6091%5D%2C%20%5B-11.7034%2C%20-47.7223%5D%2C%20%5B-6.37496%2C%20-47.6643%5D%2C%20%5B-7.631710000000001%2C%20-48.4252%5D%2C%20%5B-9.97063%2C%20-47.6785%5D%2C%20%5B-7.847860000000001%2C%20-47.9242%5D%2C%20%5B-12.6167%2C%20-47.8734%5D%2C%20%5B-8.97034%2C%20-48.1729%5D%2C%20%5B-8.72463%2C%20-48.7638%5D%2C%20%5B-11.1311%2C%20-47.5726%5D%2C%20%5B-12.0853%2C%20-46.4825%5D%2C%20%5B-5.39281%2C%20-47.8111%5D%2C%20%5B-8.5406%2C%20-48.5062%5D%2C%20%5B-8.7227%2C%20-47.2421%5D%2C%20%5B-5.35423%2C%20-47.8782%5D%2C%20%5B-7.15803%2C%20-48.7165%5D%2C%20%5B-8.8046%2C%20-47.7887%5D%2C%20%5B-11.4474%2C%20-48.1216%5D%2C%20%5B-6.0258%2C%20-47.9012%5D%2C%20%5B-5.56305%2C%20-47.5743%5D%2C%20%5B-11.1471%2C%20-48.1694%5D%2C%20%5B-11.993%2C%20-48.9685%5D%2C%20%5B-12.4026%2C%20-46.437%5D%2C%20%5B-12.1873%2C%20-46.9797%5D%2C%20%5B-12.7949%2C%20-49.0896%5D%2C%20%5B-9.5632%2C%20-48.3741%5D%2C%20%5B-6.32447%2C%20-47.4224%5D%2C%20%5B-6.85274%2C%20-47.9601%5D%2C%20%5B-6.4141%2C%20-48.532%5D%2C%20%5B-11.9283%2C%20-61.9953%5D%2C%20%5B-13.187000000000001%2C%20-60.8168%5D%2C%20%5B-10.4318%2C%20-62.4788%5D%2C%20%5B-10.8777%2C%20-61.9322%5D%2C%20%5B-9.44363%2C%20-61.9818%5D%2C%20%5B-11.672%2C%20-61.198%5D%2C%20%5B-8.760769999999999%2C%20-63.8999%5D%2C%20%5B-11.7271%2C%20-61.7714%5D%2C%20%5B-11.9074%2C%20-61.7777%5D%2C%20%5B-12.7502%2C%20-60.1488%5D%2C%20%5B-11.3463%2C%20-62.2847%5D%2C%20%5B-12.132%2C%20-61.835%5D%2C%20%5B-10.1943%2C%20-63.8324%5D%2C%20%5B-8.7907%2C%20-63.7005%5D%2C%20%5B-11.196%2C%20-61.5174%5D%2C%20%5B-11.8295%2C%20-61.3153%5D%2C%20%5B-11.9023%2C%20-61.5026%5D%2C%20%5B-11.8055%2C%20-63.0182%5D%2C%20%5B-10.9056%2C%20-62.242%5D%2C%20%5B-11.1261%2C%20-62.3639%5D%2C%20%5B-8.170539999999999%2C%20-70.351%5D%2C%20%5B-8.83291%2C%20-69.2679%5D%2C%20%5B-10.2806%2C%20-67.1371%5D%2C%20%5B-9.97499%2C%20-67.8243%5D%2C%20%5B-9.581380000000001%2C%20-67.5478%5D%2C%20%5B-3.22727%2C%20-64.8007%5D%2C%20%5B-3.74603%2C%20-61.6575%5D%2C%20%5B-3.58574%2C%20-59.1256%5D%2C%20%5B-8.74232%2C%20-67.3919%5D%2C%20%5B-3.3153699999999997%2C%20-61.2206%5D%2C%20%5B-4.094119999999999%2C%20-63.1441%5D%2C%20%5B-6.65677%2C%20-69.8662%5D%2C%20%5B-2.52342%2C%20-66.0942%5D%2C%20%5B-7.511710000000001%2C%20-63.0327%5D%2C%20%5B-3.13861%2C%20-58.4449%5D%2C%20%5B-6.43852%2C%20-68.2437%5D%2C%20%5B-2.7408099999999997%2C%20-58.0293%5D%2C%20%5B-7.264130000000001%2C%20-64.7948%5D%2C%20%5B-3.29066%2C%20-60.6216%5D%2C%20%5B-3.39289%2C%20-57.7067%5D%2C%20%5B-2.2079299999999997%2C%20-56.7112%5D%2C%20%5B-2.63741%2C%20-56.729%5D%2C%20%5B-2.02981%2C%20-60.0234%5D%2C%20%5B-0.11909000000000002%2C%20-67.084%5D%2C%20%5B-3.47292%2C%20-68.9646%5D%2C%20%5B-2.55915%2C%20-57.8731%5D%2C%20%5B-2.8174799999999998%2C%20-58.248000000000005%5D%2C%20%5B-4.2416%2C%20-69.9383%5D%2C%20%5B-2.8658200000000003%2C%20-67.7919%5D%2C%20%5B-2.99609%2C%20-65.1133%5D%2C%20%5B-2.52936%2C%20-57.7538%5D%2C%20%5B3.64571%2C%20-61.3692%5D%2C%20%5B2.82384%2C%20-60.6753%5D%2C%20%5B1.01019%2C%20-60.0419%5D%2C%20%5B-3.20407%2C%20-52.21%5D%2C%20%5B-0.9968110000000001%2C%20-49.9354%5D%2C%20%5B-1.90057%2C%20-50.1987%5D%2C%20%5B-1.51187%2C%20-48.6195%5D%2C%20%5B-1.3618299999999999%2C%20-48.2434%5D%2C%20%5B-5.0424%2C%20-48.6047%5D%2C%20%5B-1.36745%2C%20-47.3066%5D%2C%20%5B-1.51762%2C%20-48.0381%5D%2C%20%5B-6.49659%2C%20-49.8776%5D%2C%20%5B-1.74785%2C%20-47.0629%5D%2C%20%5B-1.9923799999999998%2C%20-47.9422%5D%2C%20%5B-6.09965%2C%20-49.6068%5D%2C%20%5B-0.733214%2C%20-47.8515%5D%2C%20%5B-2.16805%2C%20-56.7405%5D%2C%20%5B-1.12539%2C%20-47.626000000000005%5D%2C%20%5B-4.2667%2C%20-55.9926%5D%2C%20%5B-2.1634700000000002%2C%20-56.0889%5D%2C%20%5B-2.0568299999999997%2C%20-47.5601%5D%2C%20%5B-0.7147020000000001%2C%20-47.7034%5D%2C%20%5B-1.8032%2C%20-50.7149%5D%2C%20%5B-4.24749%2C%20-49.9499%5D%2C%20%5B-1.7598900000000002%2C%20-55.8579%5D%2C%20%5B-1.54168%2C%20-47.1126%5D%2C%20%5B-6.7529%2C%20-51.0858%5D%2C%20%5B-3.00212%2C%20-47.3527%5D%2C%20%5B-1.59772%2C%20-46.9268%5D%2C%20%5B-1.19382%2C%20-47.324%5D%2C%20%5B-3.8681300000000003%2C%20-54.2124%5D%2C%20%5B-1.798%2C%20-53.4779%5D%2C%20%5B-0.9454389999999999%2C%20-47.1253%5D%2C%20%5B-7.312360000000001%2C%20-50.0379%5D%2C%20%5B-4.100280000000001%2C%20-54.9092%5D%2C%20%5B-0.630815%2C%20-47.3465%5D%2C%20%5B-1.1921899999999999%2C%20-48.238%5D%2C%20%5B-1.2968600000000001%2C%20-48.1606%5D%2C%20%5B-5.537319999999999%2C%20-48.7366%5D%2C%20%5B-1.6876799999999998%2C%20-47.7665%5D%2C%20%5B-1.16963%2C%20-47.7917%5D%2C%20%5B-5.36334%2C%20-48.7926%5D%2C%20%5B-1.61307%2C%20-47.4784%5D%2C%20%5B-1.71597%2C%20-49.5249%5D%2C%20%5B-1.0296299999999998%2C%20-47.9004%5D%2C%20%5B-3.7500699999999996%2C%20-47.4892%5D%2C%20%5B-0.861194%2C%20-48.1386%5D%2C%20%5B-2.87922%2C%20-52.0088%5D%2C%20%5B2.50475%2C%20-50.9512%5D%2C%20%5B0.6021850000000001%2C%20-50.6996%5D%2C%20%5B-0.045433999999999995%2C%20-51.1729%5D%2C%20%5B-9.62101%2C%20-49.1518%5D%2C%20%5B-6.5540899999999995%2C%20-47.4702%5D%2C%20%5B-11.5706%2C%20-47.1792%5D%2C%20%5B-6.36437%2C%20-48.0735%5D%2C%20%5B-12.9289%2C%20-49.8231%5D%2C%20%5B-6.58225%2C%20-48.6395%5D%2C%20%5B-7.65463%2C%20-49.0637%5D%2C%20%5B-5.46863%2C%20-47.8863%5D%2C%20%5B-11.0058%2C%20-48.5683%5D%2C%20%5B-7.03262%2C%20-48.3978%5D%2C%20%5B-5.31415%2C%20-48.0314%5D%2C%20%5B-11.6175%2C%20-47.7486%5D%2C%20%5B-12.7917%2C%20-46.5388%5D%2C%20%5B-10.5985%2C%20-49.1942%5D%2C%20%5B-9.800180000000001%2C%20-49.2169%5D%2C%20%5B-11.3416%2C%20-49.2716%5D%2C%20%5B-5.3659300000000005%2C%20-48.5378%5D%2C%20%5B-10.7603%2C%20-48.9076%5D%2C%20%5B-9.05611%2C%20-48.5206%5D%2C%20%5B-8.77413%2C%20-48.9313%5D%2C%20%5B-7.71478%2C%20-47.3252%5D%2C%20%5B-8.83543%2C%20-48.5114%5D%2C%20%5B-8.37982%2C%20-48.1072%5D%2C%20%5B-9.74996%2C%20-48.3565%5D%2C%20%5B-6.17794%2C%20-47.8582%5D%2C%20%5B-9.79377%2C%20-49.6553%5D%2C%20%5B-10.5464%2C%20-46.4168%5D%2C%20%5B-5.95169%2C%20-47.5125%5D%2C%20%5B-9.529069999999999%2C%20-48.5922%5D%2C%20%5B-6.61658%2C%20-47.5464%5D%2C%20%5B-6.37496%2C%20-47.6643%5D%2C%20%5B-10.5651%2C%20-48.9125%5D%2C%20%5B-9.97063%2C%20-47.6785%5D%2C%20%5B-11.825999999999999%2C%20-46.6325%5D%2C%20%5B-12.6167%2C%20-47.8734%5D%2C%20%5B-7.53919%2C%20-49.367%5D%2C%20%5B-8.72463%2C%20-48.7638%5D%2C%20%5B-11.1311%2C%20-47.5726%5D%2C%20%5B-10.442%2C%20-49.1876%5D%2C%20%5B-12.0853%2C%20-46.4825%5D%2C%20%5B-10.7481%2C%20-47.5276%5D%2C%20%5B-8.5406%2C%20-48.5062%5D%2C%20%5B-9.34425%2C%20-48.5245%5D%2C%20%5B-9.350019999999999%2C%20-47.888000000000005%5D%2C%20%5B-5.35423%2C%20-47.8782%5D%2C%20%5B-8.8046%2C%20-47.7887%5D%2C%20%5B-11.4474%2C%20-48.1216%5D%2C%20%5B-10.1615%2C%20-46.6618%5D%2C%20%5B-5.56305%2C%20-47.5743%5D%2C%20%5B-11.9743%2C%20-48.2353%5D%2C%20%5B-11.1471%2C%20-48.1694%5D%2C%20%5B-12.7949%2C%20-49.0896%5D%2C%20%5B-9.5632%2C%20-48.3741%5D%2C%20%5B-6.32447%2C%20-47.4224%5D%5D%2C%0A%20%20%20%20%20%20%20%20%20%20%20%20%20%20%20%20%7B%22blur%22%3A%2015%2C%20%22maxZoom%22%3A%2018%2C%20%22minOpacity%22%3A%200.5%2C%20%22radius%22%3A%2025%7D%0A%20%20%20%20%20%20%20%20%20%20%20%20%29.addTo%28map_c1d1be5613664d8ea852dbee6e7f757c%29%3B%0A%20%20%20%20%20%20%20%20%0A%3C/script%3E onload=\"this.contentDocument.open();this.contentDocument.write(    decodeURIComponent(this.getAttribute('data-html')));this.contentDocument.close();\" allowfullscreen webkitallowfullscreen mozallowfullscreen></iframe></div></div>"
      ],
      "text/plain": [
       "<folium.folium.Map at 0x7fe5816221d0>"
      ]
     },
     "execution_count": 83,
     "metadata": {},
     "output_type": "execute_result"
    }
   ],
   "source": [
    "# Adicionando os registros no mapa de calor:\n",
    "from folium import plugins\n",
    "\n",
    "mapa.add_child(plugins.HeatMap(coordenadas))        \n",
    "mapa"
   ]
  },
  {
   "cell_type": "markdown",
   "metadata": {},
   "source": [
    "### Municipios com aplicação de primeira dose entre < 50%"
   ]
  },
  {
   "cell_type": "code",
   "execution_count": 84,
   "metadata": {},
   "outputs": [
    {
     "data": {
      "text/plain": [
       "<matplotlib.axes._subplots.AxesSubplot at 0x7fe581494470>"
      ]
     },
     "execution_count": 84,
     "metadata": {},
     "output_type": "execute_result"
    },
    {
     "data": {
      "image/png": "[encoded data removed]",
      "text/plain": [
       "<Figure size 432x288 with 1 Axes>"
      ]
     },
     "metadata": {
      "needs_background": "light"
     },
     "output_type": "display_data"
    }
   ],
   "source": [
    "df_municipios_1d_50[\"Estado\"].value_counts().plot(kind='bar')"
   ]
  },
  {
   "cell_type": "code",
   "execution_count": 85,
   "metadata": {},
   "outputs": [],
   "source": [
    "# Menor indice de vacinação de primeira dose \n",
    "index1 = np.where(df_municipios_1d_50[\"CV_SCR1 (1 ano)\"] == min(df_municipios_1d_50[\"CV_SCR1 (1 ano)\"]) )"
   ]
  },
  {
   "cell_type": "code",
   "execution_count": 86,
   "metadata": {},
   "outputs": [
    {
     "data": {
      "text/html": [
       "<div>\n",
       "<style scoped>\n",
       "    .dataframe tbody tr th:only-of-type {\n",
       "        vertical-align: middle;\n",
       "    }\n",
       "\n",
       "    .dataframe tbody tr th {\n",
       "        vertical-align: top;\n",
       "    }\n",
       "\n",
       "    .dataframe thead th {\n",
       "        text-align: right;\n",
       "    }\n",
       "</style>\n",
       "<table border=\"1\" class=\"dataframe\">\n",
       "  <thead>\n",
       "    <tr style=\"text-align: right;\">\n",
       "      <th></th>\n",
       "      <th>COD</th>\n",
       "      <th>CODMUN7</th>\n",
       "      <th>Estado</th>\n",
       "      <th>ano</th>\n",
       "      <th>Nome</th>\n",
       "      <th>CV_SCR1 (1 ano)</th>\n",
       "      <th>CV_SCR2 (15 meses)</th>\n",
       "      <th>Poprural</th>\n",
       "      <th>PopUrb</th>\n",
       "      <th>RDPC</th>\n",
       "      <th>...</th>\n",
       "      <th>POPDOMCHEFMULHERES</th>\n",
       "      <th>DENSDEMOG2010</th>\n",
       "      <th>PERC_NV_7CPN</th>\n",
       "      <th>CoberturaAB</th>\n",
       "      <th>codigo_ibge</th>\n",
       "      <th>nome</th>\n",
       "      <th>latitude</th>\n",
       "      <th>longitude</th>\n",
       "      <th>capital</th>\n",
       "      <th>codigo_uf</th>\n",
       "    </tr>\n",
       "  </thead>\n",
       "  <tbody>\n",
       "    <tr>\n",
       "      <th>26</th>\n",
       "      <td>171884</td>\n",
       "      <td>1718840</td>\n",
       "      <td>Tocantins</td>\n",
       "      <td>2016</td>\n",
       "      <td>Sandolƒndia</td>\n",
       "      <td>5.13</td>\n",
       "      <td>17.950001</td>\n",
       "      <td>46.959999</td>\n",
       "      <td>53.040001</td>\n",
       "      <td>393.980011</td>\n",
       "      <td>...</td>\n",
       "      <td>20.02</td>\n",
       "      <td>0.94</td>\n",
       "      <td>67.440002</td>\n",
       "      <td>100.0</td>\n",
       "      <td>1718840</td>\n",
       "      <td>Sandolândia</td>\n",
       "      <td>-12.538</td>\n",
       "      <td>-49.9242</td>\n",
       "      <td>0</td>\n",
       "      <td>17</td>\n",
       "    </tr>\n",
       "  </tbody>\n",
       "</table>\n",
       "<p>1 rows × 35 columns</p>\n",
       "</div>"
      ],
      "text/plain": [
       "       COD  CODMUN7     Estado   ano         Nome  CV_SCR1 (1 ano)  \\\n",
       "26  171884  1718840  Tocantins  2016  Sandolƒndia             5.13   \n",
       "\n",
       "    CV_SCR2 (15 meses)   Poprural     PopUrb        RDPC    ...      \\\n",
       "26           17.950001  46.959999  53.040001  393.980011    ...       \n",
       "\n",
       "    POPDOMCHEFMULHERES  DENSDEMOG2010  PERC_NV_7CPN  CoberturaAB  codigo_ibge  \\\n",
       "26               20.02           0.94     67.440002        100.0      1718840   \n",
       "\n",
       "           nome  latitude  longitude  capital  codigo_uf  \n",
       "26  Sandolândia   -12.538   -49.9242        0         17  \n",
       "\n",
       "[1 rows x 35 columns]"
      ]
     },
     "execution_count": 86,
     "metadata": {},
     "output_type": "execute_result"
    }
   ],
   "source": [
    "#Municipio com menor indice de vacinação\n",
    "df_menor_vacinacao = df_municipios_1d_50.iloc[index1]\n",
    "df_menor_vacinacao "
   ]
  },
  {
   "cell_type": "code",
   "execution_count": 87,
   "metadata": {},
   "outputs": [
    {
     "data": {
      "text/html": [
       "<div style=\"width:100%;\"><div style=\"position:relative;width:100%;height:0;padding-bottom:60%;\"><span style=\"color:#565656\">Make this Notebook Trusted to load map: File -> Trust Notebook</span><iframe src=\"about:blank\" style=\"position:absolute;width:100%;height:100%;left:0;top:0;border:none !important;\" data-html=%3C%21DOCTYPE%20html%3E%0A%3Chead%3E%20%20%20%20%0A%20%20%20%20%3Cmeta%20http-equiv%3D%22content-type%22%20content%3D%22text/html%3B%20charset%3DUTF-8%22%20/%3E%0A%20%20%20%20%0A%20%20%20%20%20%20%20%20%3Cscript%3E%0A%20%20%20%20%20%20%20%20%20%20%20%20L_NO_TOUCH%20%3D%20false%3B%0A%20%20%20%20%20%20%20%20%20%20%20%20L_DISABLE_3D%20%3D%20false%3B%0A%20%20%20%20%20%20%20%20%3C/script%3E%0A%20%20%20%20%0A%20%20%20%20%3Cstyle%3Ehtml%2C%20body%20%7Bwidth%3A%20100%25%3Bheight%3A%20100%25%3Bmargin%3A%200%3Bpadding%3A%200%3B%7D%3C/style%3E%0A%20%20%20%20%3Cstyle%3E%23map%20%7Bposition%3Aabsolute%3Btop%3A0%3Bbottom%3A0%3Bright%3A0%3Bleft%3A0%3B%7D%3C/style%3E%0A%20%20%20%20%3Cscript%20src%3D%22https%3A//cdn.jsdelivr.net/npm/leaflet%401.6.0/dist/leaflet.js%22%3E%3C/script%3E%0A%20%20%20%20%3Cscript%20src%3D%22https%3A//code.jquery.com/jquery-1.12.4.min.js%22%3E%3C/script%3E%0A%20%20%20%20%3Cscript%20src%3D%22https%3A//maxcdn.bootstrapcdn.com/bootstrap/3.2.0/js/bootstrap.min.js%22%3E%3C/script%3E%0A%20%20%20%20%3Cscript%20src%3D%22https%3A//cdnjs.cloudflare.com/ajax/libs/Leaflet.awesome-markers/2.0.2/leaflet.awesome-markers.js%22%3E%3C/script%3E%0A%20%20%20%20%3Clink%20rel%3D%22stylesheet%22%20href%3D%22https%3A//cdn.jsdelivr.net/npm/leaflet%401.6.0/dist/leaflet.css%22/%3E%0A%20%20%20%20%3Clink%20rel%3D%22stylesheet%22%20href%3D%22https%3A//maxcdn.bootstrapcdn.com/bootstrap/3.2.0/css/bootstrap.min.css%22/%3E%0A%20%20%20%20%3Clink%20rel%3D%22stylesheet%22%20href%3D%22https%3A//maxcdn.bootstrapcdn.com/bootstrap/3.2.0/css/bootstrap-theme.min.css%22/%3E%0A%20%20%20%20%3Clink%20rel%3D%22stylesheet%22%20href%3D%22https%3A//maxcdn.bootstrapcdn.com/font-awesome/4.6.3/css/font-awesome.min.css%22/%3E%0A%20%20%20%20%3Clink%20rel%3D%22stylesheet%22%20href%3D%22https%3A//cdnjs.cloudflare.com/ajax/libs/Leaflet.awesome-markers/2.0.2/leaflet.awesome-markers.css%22/%3E%0A%20%20%20%20%3Clink%20rel%3D%22stylesheet%22%20href%3D%22https%3A//cdn.jsdelivr.net/gh/python-visualization/folium/folium/templates/leaflet.awesome.rotate.min.css%22/%3E%0A%20%20%20%20%0A%20%20%20%20%20%20%20%20%20%20%20%20%3Cmeta%20name%3D%22viewport%22%20content%3D%22width%3Ddevice-width%2C%0A%20%20%20%20%20%20%20%20%20%20%20%20%20%20%20%20initial-scale%3D1.0%2C%20maximum-scale%3D1.0%2C%20user-scalable%3Dno%22%20/%3E%0A%20%20%20%20%20%20%20%20%20%20%20%20%3Cstyle%3E%0A%20%20%20%20%20%20%20%20%20%20%20%20%20%20%20%20%23map_4456fb6c256f47ec94eecac250288df6%20%7B%0A%20%20%20%20%20%20%20%20%20%20%20%20%20%20%20%20%20%20%20%20position%3A%20relative%3B%0A%20%20%20%20%20%20%20%20%20%20%20%20%20%20%20%20%20%20%20%20width%3A%20100.0%25%3B%0A%20%20%20%20%20%20%20%20%20%20%20%20%20%20%20%20%20%20%20%20height%3A%20100.0%25%3B%0A%20%20%20%20%20%20%20%20%20%20%20%20%20%20%20%20%20%20%20%20left%3A%200.0%25%3B%0A%20%20%20%20%20%20%20%20%20%20%20%20%20%20%20%20%20%20%20%20top%3A%200.0%25%3B%0A%20%20%20%20%20%20%20%20%20%20%20%20%20%20%20%20%7D%0A%20%20%20%20%20%20%20%20%20%20%20%20%3C/style%3E%0A%20%20%20%20%20%20%20%20%0A%3C/head%3E%0A%3Cbody%3E%20%20%20%20%0A%20%20%20%20%0A%20%20%20%20%20%20%20%20%20%20%20%20%3Cdiv%20class%3D%22folium-map%22%20id%3D%22map_4456fb6c256f47ec94eecac250288df6%22%20%3E%3C/div%3E%0A%20%20%20%20%20%20%20%20%0A%3C/body%3E%0A%3Cscript%3E%20%20%20%20%0A%20%20%20%20%0A%20%20%20%20%20%20%20%20%20%20%20%20var%20map_4456fb6c256f47ec94eecac250288df6%20%3D%20L.map%28%0A%20%20%20%20%20%20%20%20%20%20%20%20%20%20%20%20%22map_4456fb6c256f47ec94eecac250288df6%22%2C%0A%20%20%20%20%20%20%20%20%20%20%20%20%20%20%20%20%7B%0A%20%20%20%20%20%20%20%20%20%20%20%20%20%20%20%20%20%20%20%20center%3A%20%5B-15.788497%2C%20-47.879873%5D%2C%0A%20%20%20%20%20%20%20%20%20%20%20%20%20%20%20%20%20%20%20%20crs%3A%20L.CRS.EPSG3857%2C%0A%20%20%20%20%20%20%20%20%20%20%20%20%20%20%20%20%20%20%20%20zoom%3A%20%2204%22%2C%0A%20%20%20%20%20%20%20%20%20%20%20%20%20%20%20%20%20%20%20%20zoomControl%3A%20true%2C%0A%20%20%20%20%20%20%20%20%20%20%20%20%20%20%20%20%20%20%20%20preferCanvas%3A%20false%2C%0A%20%20%20%20%20%20%20%20%20%20%20%20%20%20%20%20%7D%0A%20%20%20%20%20%20%20%20%20%20%20%20%29%3B%0A%0A%20%20%20%20%20%20%20%20%20%20%20%20%0A%0A%20%20%20%20%20%20%20%20%0A%20%20%20%20%0A%20%20%20%20%20%20%20%20%20%20%20%20var%20tile_layer_c96e9da1213041a683f7f26fe691153a%20%3D%20L.tileLayer%28%0A%20%20%20%20%20%20%20%20%20%20%20%20%20%20%20%20%22https%3A//%7Bs%7D.tile.openstreetmap.org/%7Bz%7D/%7Bx%7D/%7By%7D.png%22%2C%0A%20%20%20%20%20%20%20%20%20%20%20%20%20%20%20%20%7B%22attribution%22%3A%20%22Data%20by%20%5Cu0026copy%3B%20%5Cu003ca%20href%3D%5C%22http%3A//openstreetmap.org%5C%22%5Cu003eOpenStreetMap%5Cu003c/a%5Cu003e%2C%20under%20%5Cu003ca%20href%3D%5C%22http%3A//www.openstreetmap.org/copyright%5C%22%5Cu003eODbL%5Cu003c/a%5Cu003e.%22%2C%20%22detectRetina%22%3A%20false%2C%20%22maxNativeZoom%22%3A%2018%2C%20%22maxZoom%22%3A%2018%2C%20%22minZoom%22%3A%200%2C%20%22noWrap%22%3A%20false%2C%20%22opacity%22%3A%201%2C%20%22subdomains%22%3A%20%22abc%22%2C%20%22tms%22%3A%20false%7D%0A%20%20%20%20%20%20%20%20%20%20%20%20%29.addTo%28map_4456fb6c256f47ec94eecac250288df6%29%3B%0A%20%20%20%20%20%20%20%20%0A%20%20%20%20%0A%20%20%20%20%20%20%20%20%20%20%20%20var%20marker_7491761a2a6e42229bd49a7f4e02cd28%20%3D%20L.marker%28%0A%20%20%20%20%20%20%20%20%20%20%20%20%20%20%20%20%5B-12.538%2C%20-49.9242%5D%2C%0A%20%20%20%20%20%20%20%20%20%20%20%20%20%20%20%20%7B%7D%0A%20%20%20%20%20%20%20%20%20%20%20%20%29.addTo%28map_4456fb6c256f47ec94eecac250288df6%29%3B%0A%20%20%20%20%20%20%20%20%0A%3C/script%3E onload=\"this.contentDocument.open();this.contentDocument.write(    decodeURIComponent(this.getAttribute('data-html')));this.contentDocument.close();\" allowfullscreen webkitallowfullscreen mozallowfullscreen></iframe></div></div>"
      ],
      "text/plain": [
       "<folium.folium.Map at 0x7fe5813f32b0>"
      ]
     },
     "execution_count": 87,
     "metadata": {},
     "output_type": "execute_result"
    }
   ],
   "source": [
    "mapa = folium.Map(location=[-15.788497,-47.879873],zoom_start=\"04\")\n",
    "folium.Marker([-12.538,-49.9242]).add_to(mapa)\n",
    "mapa"
   ]
  },
  {
   "cell_type": "code",
   "execution_count": 88,
   "metadata": {},
   "outputs": [],
   "source": [
    "df_lim_sand = df_municipios[df_municipios[\"nome\"].isin([\"Araguaçu\",\"São Miguel do Araguaia\",\"Formoso do Araguaia\",\"Figueirópolis\"])]"
   ]
  },
  {
   "cell_type": "code",
   "execution_count": 89,
   "metadata": {},
   "outputs": [
    {
     "data": {
      "text/html": [
       "<div>\n",
       "<style scoped>\n",
       "    .dataframe tbody tr th:only-of-type {\n",
       "        vertical-align: middle;\n",
       "    }\n",
       "\n",
       "    .dataframe tbody tr th {\n",
       "        vertical-align: top;\n",
       "    }\n",
       "\n",
       "    .dataframe thead th {\n",
       "        text-align: right;\n",
       "    }\n",
       "</style>\n",
       "<table border=\"1\" class=\"dataframe\">\n",
       "  <thead>\n",
       "    <tr style=\"text-align: right;\">\n",
       "      <th></th>\n",
       "      <th>codigo_ibge</th>\n",
       "      <th>nome</th>\n",
       "      <th>latitude</th>\n",
       "      <th>longitude</th>\n",
       "      <th>capital</th>\n",
       "      <th>codigo_uf</th>\n",
       "    </tr>\n",
       "  </thead>\n",
       "  <tbody>\n",
       "    <tr>\n",
       "      <th>312</th>\n",
       "      <td>1702000</td>\n",
       "      <td>Araguaçu</td>\n",
       "      <td>-12.9289</td>\n",
       "      <td>-49.8231</td>\n",
       "      <td>0</td>\n",
       "      <td>17</td>\n",
       "    </tr>\n",
       "    <tr>\n",
       "      <th>1786</th>\n",
       "      <td>1707652</td>\n",
       "      <td>Figueirópolis</td>\n",
       "      <td>-12.1312</td>\n",
       "      <td>-49.1748</td>\n",
       "      <td>0</td>\n",
       "      <td>17</td>\n",
       "    </tr>\n",
       "    <tr>\n",
       "      <th>1827</th>\n",
       "      <td>1708205</td>\n",
       "      <td>Formoso do Araguaia</td>\n",
       "      <td>-11.7976</td>\n",
       "      <td>-49.5316</td>\n",
       "      <td>0</td>\n",
       "      <td>17</td>\n",
       "    </tr>\n",
       "    <tr>\n",
       "      <th>4839</th>\n",
       "      <td>5220207</td>\n",
       "      <td>São Miguel do Araguaia</td>\n",
       "      <td>-13.2731</td>\n",
       "      <td>-50.1634</td>\n",
       "      <td>0</td>\n",
       "      <td>52</td>\n",
       "    </tr>\n",
       "  </tbody>\n",
       "</table>\n",
       "</div>"
      ],
      "text/plain": [
       "      codigo_ibge                    nome  latitude  longitude  capital  \\\n",
       "312       1702000                Araguaçu  -12.9289   -49.8231        0   \n",
       "1786      1707652           Figueirópolis  -12.1312   -49.1748        0   \n",
       "1827      1708205     Formoso do Araguaia  -11.7976   -49.5316        0   \n",
       "4839      5220207  São Miguel do Araguaia  -13.2731   -50.1634        0   \n",
       "\n",
       "      codigo_uf  \n",
       "312          17  \n",
       "1786         17  \n",
       "1827         17  \n",
       "4839         52  "
      ]
     },
     "execution_count": 89,
     "metadata": {},
     "output_type": "execute_result"
    }
   ],
   "source": [
    "df_lim_sand"
   ]
  },
  {
   "cell_type": "code",
   "execution_count": 90,
   "metadata": {},
   "outputs": [
    {
     "data": {
      "text/html": [
       "<div style=\"width:100%;\"><div style=\"position:relative;width:100%;height:0;padding-bottom:60%;\"><span style=\"color:#565656\">Make this Notebook Trusted to load map: File -> Trust Notebook</span><iframe src=\"about:blank\" style=\"position:absolute;width:100%;height:100%;left:0;top:0;border:none !important;\" data-html=%3C%21DOCTYPE%20html%3E%0A%3Chead%3E%20%20%20%20%0A%20%20%20%20%3Cmeta%20http-equiv%3D%22content-type%22%20content%3D%22text/html%3B%20charset%3DUTF-8%22%20/%3E%0A%20%20%20%20%0A%20%20%20%20%20%20%20%20%3Cscript%3E%0A%20%20%20%20%20%20%20%20%20%20%20%20L_NO_TOUCH%20%3D%20false%3B%0A%20%20%20%20%20%20%20%20%20%20%20%20L_DISABLE_3D%20%3D%20false%3B%0A%20%20%20%20%20%20%20%20%3C/script%3E%0A%20%20%20%20%0A%20%20%20%20%3Cstyle%3Ehtml%2C%20body%20%7Bwidth%3A%20100%25%3Bheight%3A%20100%25%3Bmargin%3A%200%3Bpadding%3A%200%3B%7D%3C/style%3E%0A%20%20%20%20%3Cstyle%3E%23map%20%7Bposition%3Aabsolute%3Btop%3A0%3Bbottom%3A0%3Bright%3A0%3Bleft%3A0%3B%7D%3C/style%3E%0A%20%20%20%20%3Cscript%20src%3D%22https%3A//cdn.jsdelivr.net/npm/leaflet%401.6.0/dist/leaflet.js%22%3E%3C/script%3E%0A%20%20%20%20%3Cscript%20src%3D%22https%3A//code.jquery.com/jquery-1.12.4.min.js%22%3E%3C/script%3E%0A%20%20%20%20%3Cscript%20src%3D%22https%3A//maxcdn.bootstrapcdn.com/bootstrap/3.2.0/js/bootstrap.min.js%22%3E%3C/script%3E%0A%20%20%20%20%3Cscript%20src%3D%22https%3A//cdnjs.cloudflare.com/ajax/libs/Leaflet.awesome-markers/2.0.2/leaflet.awesome-markers.js%22%3E%3C/script%3E%0A%20%20%20%20%3Clink%20rel%3D%22stylesheet%22%20href%3D%22https%3A//cdn.jsdelivr.net/npm/leaflet%401.6.0/dist/leaflet.css%22/%3E%0A%20%20%20%20%3Clink%20rel%3D%22stylesheet%22%20href%3D%22https%3A//maxcdn.bootstrapcdn.com/bootstrap/3.2.0/css/bootstrap.min.css%22/%3E%0A%20%20%20%20%3Clink%20rel%3D%22stylesheet%22%20href%3D%22https%3A//maxcdn.bootstrapcdn.com/bootstrap/3.2.0/css/bootstrap-theme.min.css%22/%3E%0A%20%20%20%20%3Clink%20rel%3D%22stylesheet%22%20href%3D%22https%3A//maxcdn.bootstrapcdn.com/font-awesome/4.6.3/css/font-awesome.min.css%22/%3E%0A%20%20%20%20%3Clink%20rel%3D%22stylesheet%22%20href%3D%22https%3A//cdnjs.cloudflare.com/ajax/libs/Leaflet.awesome-markers/2.0.2/leaflet.awesome-markers.css%22/%3E%0A%20%20%20%20%3Clink%20rel%3D%22stylesheet%22%20href%3D%22https%3A//cdn.jsdelivr.net/gh/python-visualization/folium/folium/templates/leaflet.awesome.rotate.min.css%22/%3E%0A%20%20%20%20%0A%20%20%20%20%20%20%20%20%20%20%20%20%3Cmeta%20name%3D%22viewport%22%20content%3D%22width%3Ddevice-width%2C%0A%20%20%20%20%20%20%20%20%20%20%20%20%20%20%20%20initial-scale%3D1.0%2C%20maximum-scale%3D1.0%2C%20user-scalable%3Dno%22%20/%3E%0A%20%20%20%20%20%20%20%20%20%20%20%20%3Cstyle%3E%0A%20%20%20%20%20%20%20%20%20%20%20%20%20%20%20%20%23map_84ff570a97b44aa39a818a071914d80a%20%7B%0A%20%20%20%20%20%20%20%20%20%20%20%20%20%20%20%20%20%20%20%20position%3A%20relative%3B%0A%20%20%20%20%20%20%20%20%20%20%20%20%20%20%20%20%20%20%20%20width%3A%20100.0%25%3B%0A%20%20%20%20%20%20%20%20%20%20%20%20%20%20%20%20%20%20%20%20height%3A%20100.0%25%3B%0A%20%20%20%20%20%20%20%20%20%20%20%20%20%20%20%20%20%20%20%20left%3A%200.0%25%3B%0A%20%20%20%20%20%20%20%20%20%20%20%20%20%20%20%20%20%20%20%20top%3A%200.0%25%3B%0A%20%20%20%20%20%20%20%20%20%20%20%20%20%20%20%20%7D%0A%20%20%20%20%20%20%20%20%20%20%20%20%3C/style%3E%0A%20%20%20%20%20%20%20%20%0A%3C/head%3E%0A%3Cbody%3E%20%20%20%20%0A%20%20%20%20%0A%20%20%20%20%20%20%20%20%20%20%20%20%3Cdiv%20class%3D%22folium-map%22%20id%3D%22map_84ff570a97b44aa39a818a071914d80a%22%20%3E%3C/div%3E%0A%20%20%20%20%20%20%20%20%0A%3C/body%3E%0A%3Cscript%3E%20%20%20%20%0A%20%20%20%20%0A%20%20%20%20%20%20%20%20%20%20%20%20var%20map_84ff570a97b44aa39a818a071914d80a%20%3D%20L.map%28%0A%20%20%20%20%20%20%20%20%20%20%20%20%20%20%20%20%22map_84ff570a97b44aa39a818a071914d80a%22%2C%0A%20%20%20%20%20%20%20%20%20%20%20%20%20%20%20%20%7B%0A%20%20%20%20%20%20%20%20%20%20%20%20%20%20%20%20%20%20%20%20center%3A%20%5B-15.788497%2C%20-47.879873%5D%2C%0A%20%20%20%20%20%20%20%20%20%20%20%20%20%20%20%20%20%20%20%20crs%3A%20L.CRS.EPSG3857%2C%0A%20%20%20%20%20%20%20%20%20%20%20%20%20%20%20%20%20%20%20%20zoom%3A%20%2204%22%2C%0A%20%20%20%20%20%20%20%20%20%20%20%20%20%20%20%20%20%20%20%20zoomControl%3A%20true%2C%0A%20%20%20%20%20%20%20%20%20%20%20%20%20%20%20%20%20%20%20%20preferCanvas%3A%20false%2C%0A%20%20%20%20%20%20%20%20%20%20%20%20%20%20%20%20%7D%0A%20%20%20%20%20%20%20%20%20%20%20%20%29%3B%0A%0A%20%20%20%20%20%20%20%20%20%20%20%20%0A%0A%20%20%20%20%20%20%20%20%0A%20%20%20%20%0A%20%20%20%20%20%20%20%20%20%20%20%20var%20tile_layer_b36a3321e6a34c23bf32f7ec73a75e95%20%3D%20L.tileLayer%28%0A%20%20%20%20%20%20%20%20%20%20%20%20%20%20%20%20%22https%3A//%7Bs%7D.tile.openstreetmap.org/%7Bz%7D/%7Bx%7D/%7By%7D.png%22%2C%0A%20%20%20%20%20%20%20%20%20%20%20%20%20%20%20%20%7B%22attribution%22%3A%20%22Data%20by%20%5Cu0026copy%3B%20%5Cu003ca%20href%3D%5C%22http%3A//openstreetmap.org%5C%22%5Cu003eOpenStreetMap%5Cu003c/a%5Cu003e%2C%20under%20%5Cu003ca%20href%3D%5C%22http%3A//www.openstreetmap.org/copyright%5C%22%5Cu003eODbL%5Cu003c/a%5Cu003e.%22%2C%20%22detectRetina%22%3A%20false%2C%20%22maxNativeZoom%22%3A%2018%2C%20%22maxZoom%22%3A%2018%2C%20%22minZoom%22%3A%200%2C%20%22noWrap%22%3A%20false%2C%20%22opacity%22%3A%201%2C%20%22subdomains%22%3A%20%22abc%22%2C%20%22tms%22%3A%20false%7D%0A%20%20%20%20%20%20%20%20%20%20%20%20%29.addTo%28map_84ff570a97b44aa39a818a071914d80a%29%3B%0A%20%20%20%20%20%20%20%20%0A%20%20%20%20%0A%20%20%20%20%20%20%20%20%20%20%20%20var%20marker_ec6f9851d3df4a62b1068c06669df7fd%20%3D%20L.marker%28%0A%20%20%20%20%20%20%20%20%20%20%20%20%20%20%20%20%5B-12.538%2C%20-49.9242%5D%2C%0A%20%20%20%20%20%20%20%20%20%20%20%20%20%20%20%20%7B%7D%0A%20%20%20%20%20%20%20%20%20%20%20%20%29.addTo%28map_84ff570a97b44aa39a818a071914d80a%29%3B%0A%20%20%20%20%20%20%20%20%0A%20%20%20%20%0A%20%20%20%20%20%20%20%20%20%20%20%20var%20icon_0f494bc7b1c34e3aa227709f8b662218%20%3D%20L.AwesomeMarkers.icon%28%0A%20%20%20%20%20%20%20%20%20%20%20%20%20%20%20%20%7B%22extraClasses%22%3A%20%22fa-rotate-0%22%2C%20%22icon%22%3A%20%22info-sign%22%2C%20%22iconColor%22%3A%20%22white%22%2C%20%22markerColor%22%3A%20%22green%22%2C%20%22prefix%22%3A%20%22glyphicon%22%7D%0A%20%20%20%20%20%20%20%20%20%20%20%20%29%3B%0A%20%20%20%20%20%20%20%20%20%20%20%20marker_ec6f9851d3df4a62b1068c06669df7fd.setIcon%28icon_0f494bc7b1c34e3aa227709f8b662218%29%3B%0A%20%20%20%20%20%20%20%20%0A%20%20%20%20%0A%20%20%20%20%20%20%20%20var%20popup_3647c3dc60ba4014b16a36ad9a3d6415%20%3D%20L.popup%28%7B%22maxWidth%22%3A%20%22100%25%22%7D%29%3B%0A%0A%20%20%20%20%20%20%20%20%0A%20%20%20%20%20%20%20%20%20%20%20%20var%20html_eb9d1a2c52fe42abbfb84da435cce062%20%3D%20%24%28%60%3Cdiv%20id%3D%22html_eb9d1a2c52fe42abbfb84da435cce062%22%20style%3D%22width%3A%20100.0%25%3B%20height%3A%20100.0%25%3B%22%3E%3Ci%3EMenor%20indice%20de%20Vacina%C3%A7%C3%A3o%3C/i%3E%3C/div%3E%60%29%5B0%5D%3B%0A%20%20%20%20%20%20%20%20%20%20%20%20popup_3647c3dc60ba4014b16a36ad9a3d6415.setContent%28html_eb9d1a2c52fe42abbfb84da435cce062%29%3B%0A%20%20%20%20%20%20%20%20%0A%0A%20%20%20%20%20%20%20%20marker_ec6f9851d3df4a62b1068c06669df7fd.bindPopup%28popup_3647c3dc60ba4014b16a36ad9a3d6415%29%0A%20%20%20%20%20%20%20%20%3B%0A%0A%20%20%20%20%20%20%20%20%0A%20%20%20%20%0A%3C/script%3E onload=\"this.contentDocument.open();this.contentDocument.write(    decodeURIComponent(this.getAttribute('data-html')));this.contentDocument.close();\" allowfullscreen webkitallowfullscreen mozallowfullscreen></iframe></div></div>"
      ],
      "text/plain": [
       "<folium.folium.Map at 0x7fe58145e4a8>"
      ]
     },
     "execution_count": 90,
     "metadata": {},
     "output_type": "execute_result"
    }
   ],
   "source": [
    "#Brasil\n",
    "mapa = folium.Map(location=[-15.788497,-47.879873],zoom_start=\"04\")\n",
    "\n",
    "#Marcador em Sandolândia \n",
    "folium.Marker(\n",
    "    [-12.538,-49.9242],\n",
    "    popup='<i>Menor indice de Vacinação</i>', \n",
    "    icon=folium.Icon(color='green')\n",
    "    ).add_to(mapa)\n",
    "mapa"
   ]
  },
  {
   "cell_type": "code",
   "execution_count": 91,
   "metadata": {},
   "outputs": [],
   "source": [
    "# Extraindo as coordenadas\n",
    "for lat,lng in zip(df_lim_sand.latitude.values,df_lim_sand.longitude.values):\n",
    "     folium.Marker([lat, lng]).add_to(mapa)"
   ]
  },
  {
   "cell_type": "code",
   "execution_count": 92,
   "metadata": {},
   "outputs": [
    {
     "data": {
      "text/html": [
       "<div style=\"width:100%;\"><div style=\"position:relative;width:100%;height:0;padding-bottom:60%;\"><span style=\"color:#565656\">Make this Notebook Trusted to load map: File -> Trust Notebook</span><iframe src=\"about:blank\" style=\"position:absolute;width:100%;height:100%;left:0;top:0;border:none !important;\" data-html=%3C%21DOCTYPE%20html%3E%0A%3Chead%3E%20%20%20%20%0A%20%20%20%20%3Cmeta%20http-equiv%3D%22content-type%22%20content%3D%22text/html%3B%20charset%3DUTF-8%22%20/%3E%0A%20%20%20%20%0A%20%20%20%20%20%20%20%20%3Cscript%3E%0A%20%20%20%20%20%20%20%20%20%20%20%20L_NO_TOUCH%20%3D%20false%3B%0A%20%20%20%20%20%20%20%20%20%20%20%20L_DISABLE_3D%20%3D%20false%3B%0A%20%20%20%20%20%20%20%20%3C/script%3E%0A%20%20%20%20%0A%20%20%20%20%3Cstyle%3Ehtml%2C%20body%20%7Bwidth%3A%20100%25%3Bheight%3A%20100%25%3Bmargin%3A%200%3Bpadding%3A%200%3B%7D%3C/style%3E%0A%20%20%20%20%3Cstyle%3E%23map%20%7Bposition%3Aabsolute%3Btop%3A0%3Bbottom%3A0%3Bright%3A0%3Bleft%3A0%3B%7D%3C/style%3E%0A%20%20%20%20%3Cscript%20src%3D%22https%3A//cdn.jsdelivr.net/npm/leaflet%401.6.0/dist/leaflet.js%22%3E%3C/script%3E%0A%20%20%20%20%3Cscript%20src%3D%22https%3A//code.jquery.com/jquery-1.12.4.min.js%22%3E%3C/script%3E%0A%20%20%20%20%3Cscript%20src%3D%22https%3A//maxcdn.bootstrapcdn.com/bootstrap/3.2.0/js/bootstrap.min.js%22%3E%3C/script%3E%0A%20%20%20%20%3Cscript%20src%3D%22https%3A//cdnjs.cloudflare.com/ajax/libs/Leaflet.awesome-markers/2.0.2/leaflet.awesome-markers.js%22%3E%3C/script%3E%0A%20%20%20%20%3Clink%20rel%3D%22stylesheet%22%20href%3D%22https%3A//cdn.jsdelivr.net/npm/leaflet%401.6.0/dist/leaflet.css%22/%3E%0A%20%20%20%20%3Clink%20rel%3D%22stylesheet%22%20href%3D%22https%3A//maxcdn.bootstrapcdn.com/bootstrap/3.2.0/css/bootstrap.min.css%22/%3E%0A%20%20%20%20%3Clink%20rel%3D%22stylesheet%22%20href%3D%22https%3A//maxcdn.bootstrapcdn.com/bootstrap/3.2.0/css/bootstrap-theme.min.css%22/%3E%0A%20%20%20%20%3Clink%20rel%3D%22stylesheet%22%20href%3D%22https%3A//maxcdn.bootstrapcdn.com/font-awesome/4.6.3/css/font-awesome.min.css%22/%3E%0A%20%20%20%20%3Clink%20rel%3D%22stylesheet%22%20href%3D%22https%3A//cdnjs.cloudflare.com/ajax/libs/Leaflet.awesome-markers/2.0.2/leaflet.awesome-markers.css%22/%3E%0A%20%20%20%20%3Clink%20rel%3D%22stylesheet%22%20href%3D%22https%3A//cdn.jsdelivr.net/gh/python-visualization/folium/folium/templates/leaflet.awesome.rotate.min.css%22/%3E%0A%20%20%20%20%0A%20%20%20%20%20%20%20%20%20%20%20%20%3Cmeta%20name%3D%22viewport%22%20content%3D%22width%3Ddevice-width%2C%0A%20%20%20%20%20%20%20%20%20%20%20%20%20%20%20%20initial-scale%3D1.0%2C%20maximum-scale%3D1.0%2C%20user-scalable%3Dno%22%20/%3E%0A%20%20%20%20%20%20%20%20%20%20%20%20%3Cstyle%3E%0A%20%20%20%20%20%20%20%20%20%20%20%20%20%20%20%20%23map_84ff570a97b44aa39a818a071914d80a%20%7B%0A%20%20%20%20%20%20%20%20%20%20%20%20%20%20%20%20%20%20%20%20position%3A%20relative%3B%0A%20%20%20%20%20%20%20%20%20%20%20%20%20%20%20%20%20%20%20%20width%3A%20100.0%25%3B%0A%20%20%20%20%20%20%20%20%20%20%20%20%20%20%20%20%20%20%20%20height%3A%20100.0%25%3B%0A%20%20%20%20%20%20%20%20%20%20%20%20%20%20%20%20%20%20%20%20left%3A%200.0%25%3B%0A%20%20%20%20%20%20%20%20%20%20%20%20%20%20%20%20%20%20%20%20top%3A%200.0%25%3B%0A%20%20%20%20%20%20%20%20%20%20%20%20%20%20%20%20%7D%0A%20%20%20%20%20%20%20%20%20%20%20%20%3C/style%3E%0A%20%20%20%20%20%20%20%20%0A%3C/head%3E%0A%3Cbody%3E%20%20%20%20%0A%20%20%20%20%0A%20%20%20%20%20%20%20%20%20%20%20%20%3Cdiv%20class%3D%22folium-map%22%20id%3D%22map_84ff570a97b44aa39a818a071914d80a%22%20%3E%3C/div%3E%0A%20%20%20%20%20%20%20%20%0A%3C/body%3E%0A%3Cscript%3E%20%20%20%20%0A%20%20%20%20%0A%20%20%20%20%20%20%20%20%20%20%20%20var%20map_84ff570a97b44aa39a818a071914d80a%20%3D%20L.map%28%0A%20%20%20%20%20%20%20%20%20%20%20%20%20%20%20%20%22map_84ff570a97b44aa39a818a071914d80a%22%2C%0A%20%20%20%20%20%20%20%20%20%20%20%20%20%20%20%20%7B%0A%20%20%20%20%20%20%20%20%20%20%20%20%20%20%20%20%20%20%20%20center%3A%20%5B-15.788497%2C%20-47.879873%5D%2C%0A%20%20%20%20%20%20%20%20%20%20%20%20%20%20%20%20%20%20%20%20crs%3A%20L.CRS.EPSG3857%2C%0A%20%20%20%20%20%20%20%20%20%20%20%20%20%20%20%20%20%20%20%20zoom%3A%20%2204%22%2C%0A%20%20%20%20%20%20%20%20%20%20%20%20%20%20%20%20%20%20%20%20zoomControl%3A%20true%2C%0A%20%20%20%20%20%20%20%20%20%20%20%20%20%20%20%20%20%20%20%20preferCanvas%3A%20false%2C%0A%20%20%20%20%20%20%20%20%20%20%20%20%20%20%20%20%7D%0A%20%20%20%20%20%20%20%20%20%20%20%20%29%3B%0A%0A%20%20%20%20%20%20%20%20%20%20%20%20%0A%0A%20%20%20%20%20%20%20%20%0A%20%20%20%20%0A%20%20%20%20%20%20%20%20%20%20%20%20var%20tile_layer_b36a3321e6a34c23bf32f7ec73a75e95%20%3D%20L.tileLayer%28%0A%20%20%20%20%20%20%20%20%20%20%20%20%20%20%20%20%22https%3A//%7Bs%7D.tile.openstreetmap.org/%7Bz%7D/%7Bx%7D/%7By%7D.png%22%2C%0A%20%20%20%20%20%20%20%20%20%20%20%20%20%20%20%20%7B%22attribution%22%3A%20%22Data%20by%20%5Cu0026copy%3B%20%5Cu003ca%20href%3D%5C%22http%3A//openstreetmap.org%5C%22%5Cu003eOpenStreetMap%5Cu003c/a%5Cu003e%2C%20under%20%5Cu003ca%20href%3D%5C%22http%3A//www.openstreetmap.org/copyright%5C%22%5Cu003eODbL%5Cu003c/a%5Cu003e.%22%2C%20%22detectRetina%22%3A%20false%2C%20%22maxNativeZoom%22%3A%2018%2C%20%22maxZoom%22%3A%2018%2C%20%22minZoom%22%3A%200%2C%20%22noWrap%22%3A%20false%2C%20%22opacity%22%3A%201%2C%20%22subdomains%22%3A%20%22abc%22%2C%20%22tms%22%3A%20false%7D%0A%20%20%20%20%20%20%20%20%20%20%20%20%29.addTo%28map_84ff570a97b44aa39a818a071914d80a%29%3B%0A%20%20%20%20%20%20%20%20%0A%20%20%20%20%0A%20%20%20%20%20%20%20%20%20%20%20%20var%20marker_ec6f9851d3df4a62b1068c06669df7fd%20%3D%20L.marker%28%0A%20%20%20%20%20%20%20%20%20%20%20%20%20%20%20%20%5B-12.538%2C%20-49.9242%5D%2C%0A%20%20%20%20%20%20%20%20%20%20%20%20%20%20%20%20%7B%7D%0A%20%20%20%20%20%20%20%20%20%20%20%20%29.addTo%28map_84ff570a97b44aa39a818a071914d80a%29%3B%0A%20%20%20%20%20%20%20%20%0A%20%20%20%20%0A%20%20%20%20%20%20%20%20%20%20%20%20var%20icon_0f494bc7b1c34e3aa227709f8b662218%20%3D%20L.AwesomeMarkers.icon%28%0A%20%20%20%20%20%20%20%20%20%20%20%20%20%20%20%20%7B%22extraClasses%22%3A%20%22fa-rotate-0%22%2C%20%22icon%22%3A%20%22info-sign%22%2C%20%22iconColor%22%3A%20%22white%22%2C%20%22markerColor%22%3A%20%22green%22%2C%20%22prefix%22%3A%20%22glyphicon%22%7D%0A%20%20%20%20%20%20%20%20%20%20%20%20%29%3B%0A%20%20%20%20%20%20%20%20%20%20%20%20marker_ec6f9851d3df4a62b1068c06669df7fd.setIcon%28icon_0f494bc7b1c34e3aa227709f8b662218%29%3B%0A%20%20%20%20%20%20%20%20%0A%20%20%20%20%0A%20%20%20%20%20%20%20%20var%20popup_3647c3dc60ba4014b16a36ad9a3d6415%20%3D%20L.popup%28%7B%22maxWidth%22%3A%20%22100%25%22%7D%29%3B%0A%0A%20%20%20%20%20%20%20%20%0A%20%20%20%20%20%20%20%20%20%20%20%20var%20html_eb9d1a2c52fe42abbfb84da435cce062%20%3D%20%24%28%60%3Cdiv%20id%3D%22html_eb9d1a2c52fe42abbfb84da435cce062%22%20style%3D%22width%3A%20100.0%25%3B%20height%3A%20100.0%25%3B%22%3E%3Ci%3EMenor%20indice%20de%20Vacina%C3%A7%C3%A3o%3C/i%3E%3C/div%3E%60%29%5B0%5D%3B%0A%20%20%20%20%20%20%20%20%20%20%20%20popup_3647c3dc60ba4014b16a36ad9a3d6415.setContent%28html_eb9d1a2c52fe42abbfb84da435cce062%29%3B%0A%20%20%20%20%20%20%20%20%0A%0A%20%20%20%20%20%20%20%20marker_ec6f9851d3df4a62b1068c06669df7fd.bindPopup%28popup_3647c3dc60ba4014b16a36ad9a3d6415%29%0A%20%20%20%20%20%20%20%20%3B%0A%0A%20%20%20%20%20%20%20%20%0A%20%20%20%20%0A%20%20%20%20%0A%20%20%20%20%20%20%20%20%20%20%20%20var%20marker_9199c69ef88445239eed30cdf3b9b9d8%20%3D%20L.marker%28%0A%20%20%20%20%20%20%20%20%20%20%20%20%20%20%20%20%5B-12.9289%2C%20-49.8231%5D%2C%0A%20%20%20%20%20%20%20%20%20%20%20%20%20%20%20%20%7B%7D%0A%20%20%20%20%20%20%20%20%20%20%20%20%29.addTo%28map_84ff570a97b44aa39a818a071914d80a%29%3B%0A%20%20%20%20%20%20%20%20%0A%20%20%20%20%0A%20%20%20%20%20%20%20%20%20%20%20%20var%20marker_e418dedd4e5d4272aa038858eee2935f%20%3D%20L.marker%28%0A%20%20%20%20%20%20%20%20%20%20%20%20%20%20%20%20%5B-12.1312%2C%20-49.1748%5D%2C%0A%20%20%20%20%20%20%20%20%20%20%20%20%20%20%20%20%7B%7D%0A%20%20%20%20%20%20%20%20%20%20%20%20%29.addTo%28map_84ff570a97b44aa39a818a071914d80a%29%3B%0A%20%20%20%20%20%20%20%20%0A%20%20%20%20%0A%20%20%20%20%20%20%20%20%20%20%20%20var%20marker_a6b09f7a528d47aeade48787452065fa%20%3D%20L.marker%28%0A%20%20%20%20%20%20%20%20%20%20%20%20%20%20%20%20%5B-11.7976%2C%20-49.5316%5D%2C%0A%20%20%20%20%20%20%20%20%20%20%20%20%20%20%20%20%7B%7D%0A%20%20%20%20%20%20%20%20%20%20%20%20%29.addTo%28map_84ff570a97b44aa39a818a071914d80a%29%3B%0A%20%20%20%20%20%20%20%20%0A%20%20%20%20%0A%20%20%20%20%20%20%20%20%20%20%20%20var%20marker_278a0ee826fb4609ac1b84d6e31d5646%20%3D%20L.marker%28%0A%20%20%20%20%20%20%20%20%20%20%20%20%20%20%20%20%5B-13.2731%2C%20-50.1634%5D%2C%0A%20%20%20%20%20%20%20%20%20%20%20%20%20%20%20%20%7B%7D%0A%20%20%20%20%20%20%20%20%20%20%20%20%29.addTo%28map_84ff570a97b44aa39a818a071914d80a%29%3B%0A%20%20%20%20%20%20%20%20%0A%3C/script%3E onload=\"this.contentDocument.open();this.contentDocument.write(    decodeURIComponent(this.getAttribute('data-html')));this.contentDocument.close();\" allowfullscreen webkitallowfullscreen mozallowfullscreen></iframe></div></div>"
      ],
      "text/plain": [
       "<folium.folium.Map at 0x7fe58145e4a8>"
      ]
     },
     "execution_count": 92,
     "metadata": {},
     "output_type": "execute_result"
    }
   ],
   "source": [
    "mapa"
   ]
  },
  {
   "cell_type": "markdown",
   "metadata": {},
   "source": [
    "### Melhores Indices de Vacinação ( Primeira Dose ) "
   ]
  },
  {
   "cell_type": "code",
   "execution_count": 93,
   "metadata": {},
   "outputs": [],
   "source": [
    "# Melhor indice de vacinação de primeira dose \n",
    "index2 = np.where(df_municipios_1d_ideal[\"CV_SCR1 (1 ano)\"] == max(df_municipios_1d_ideal[\"CV_SCR1 (1 ano)\"]) )"
   ]
  },
  {
   "cell_type": "code",
   "execution_count": 94,
   "metadata": {},
   "outputs": [
    {
     "data": {
      "text/html": [
       "<div>\n",
       "<style scoped>\n",
       "    .dataframe tbody tr th:only-of-type {\n",
       "        vertical-align: middle;\n",
       "    }\n",
       "\n",
       "    .dataframe tbody tr th {\n",
       "        vertical-align: top;\n",
       "    }\n",
       "\n",
       "    .dataframe thead th {\n",
       "        text-align: right;\n",
       "    }\n",
       "</style>\n",
       "<table border=\"1\" class=\"dataframe\">\n",
       "  <thead>\n",
       "    <tr style=\"text-align: right;\">\n",
       "      <th></th>\n",
       "      <th>COD</th>\n",
       "      <th>CODMUN7</th>\n",
       "      <th>Estado</th>\n",
       "      <th>ano</th>\n",
       "      <th>Nome</th>\n",
       "      <th>CV_SCR1 (1 ano)</th>\n",
       "      <th>CV_SCR2 (15 meses)</th>\n",
       "      <th>Poprural</th>\n",
       "      <th>PopUrb</th>\n",
       "      <th>RDPC</th>\n",
       "      <th>...</th>\n",
       "      <th>POPDOMCHEFMULHERES</th>\n",
       "      <th>DENSDEMOG2010</th>\n",
       "      <th>PERC_NV_7CPN</th>\n",
       "      <th>CoberturaAB</th>\n",
       "      <th>codigo_ibge</th>\n",
       "      <th>nome</th>\n",
       "      <th>latitude</th>\n",
       "      <th>longitude</th>\n",
       "      <th>capital</th>\n",
       "      <th>codigo_uf</th>\n",
       "    </tr>\n",
       "  </thead>\n",
       "  <tbody>\n",
       "    <tr>\n",
       "      <th>29</th>\n",
       "      <td>130014</td>\n",
       "      <td>1300144</td>\n",
       "      <td>Amazonas</td>\n",
       "      <td>2016</td>\n",
       "      <td>Apu¡</td>\n",
       "      <td>120.0</td>\n",
       "      <td>115.500000</td>\n",
       "      <td>41.160000</td>\n",
       "      <td>58.840000</td>\n",
       "      <td>380.619995</td>\n",
       "      <td>...</td>\n",
       "      <td>26.139999</td>\n",
       "      <td>0.33</td>\n",
       "      <td>76.779999</td>\n",
       "      <td>100.00</td>\n",
       "      <td>1300144</td>\n",
       "      <td>Apuí</td>\n",
       "      <td>-7.194090</td>\n",
       "      <td>-59.8960</td>\n",
       "      <td>0</td>\n",
       "      <td>13</td>\n",
       "    </tr>\n",
       "    <tr>\n",
       "      <th>45</th>\n",
       "      <td>140023</td>\n",
       "      <td>1400233</td>\n",
       "      <td>Roraima</td>\n",
       "      <td>2016</td>\n",
       "      <td>Caroebe</td>\n",
       "      <td>120.0</td>\n",
       "      <td>122.959999</td>\n",
       "      <td>59.029999</td>\n",
       "      <td>40.970001</td>\n",
       "      <td>334.970001</td>\n",
       "      <td>...</td>\n",
       "      <td>24.270000</td>\n",
       "      <td>0.67</td>\n",
       "      <td>51.029999</td>\n",
       "      <td>100.00</td>\n",
       "      <td>1400233</td>\n",
       "      <td>Caroebe</td>\n",
       "      <td>0.884203</td>\n",
       "      <td>-59.6959</td>\n",
       "      <td>0</td>\n",
       "      <td>14</td>\n",
       "    </tr>\n",
       "    <tr>\n",
       "      <th>84</th>\n",
       "      <td>170388</td>\n",
       "      <td>1703883</td>\n",
       "      <td>Tocantins</td>\n",
       "      <td>2016</td>\n",
       "      <td>Carmolƒndia</td>\n",
       "      <td>120.0</td>\n",
       "      <td>153.330002</td>\n",
       "      <td>21.240000</td>\n",
       "      <td>78.760002</td>\n",
       "      <td>382.309998</td>\n",
       "      <td>...</td>\n",
       "      <td>45.049999</td>\n",
       "      <td>6.82</td>\n",
       "      <td>78.129997</td>\n",
       "      <td>100.00</td>\n",
       "      <td>1703883</td>\n",
       "      <td>Carmolândia</td>\n",
       "      <td>-7.032620</td>\n",
       "      <td>-48.3978</td>\n",
       "      <td>0</td>\n",
       "      <td>17</td>\n",
       "    </tr>\n",
       "    <tr>\n",
       "      <th>136</th>\n",
       "      <td>110050</td>\n",
       "      <td>1100502</td>\n",
       "      <td>Rondônia</td>\n",
       "      <td>2017</td>\n",
       "      <td>Novo Horizonte do Oeste</td>\n",
       "      <td>120.0</td>\n",
       "      <td>96.842102</td>\n",
       "      <td>83.080002</td>\n",
       "      <td>16.920000</td>\n",
       "      <td>346.380005</td>\n",
       "      <td>...</td>\n",
       "      <td>17.889999</td>\n",
       "      <td>12.14</td>\n",
       "      <td>67.032967</td>\n",
       "      <td>100.00</td>\n",
       "      <td>1100502</td>\n",
       "      <td>Novo Horizonte do Oeste</td>\n",
       "      <td>-11.696100</td>\n",
       "      <td>-61.9951</td>\n",
       "      <td>0</td>\n",
       "      <td>11</td>\n",
       "    </tr>\n",
       "    <tr>\n",
       "      <th>141</th>\n",
       "      <td>110145</td>\n",
       "      <td>1101450</td>\n",
       "      <td>Rondônia</td>\n",
       "      <td>2017</td>\n",
       "      <td>Parecis</td>\n",
       "      <td>120.0</td>\n",
       "      <td>132.000000</td>\n",
       "      <td>63.119999</td>\n",
       "      <td>36.880001</td>\n",
       "      <td>343.730011</td>\n",
       "      <td>...</td>\n",
       "      <td>15.250000</td>\n",
       "      <td>1.89</td>\n",
       "      <td>72.549019</td>\n",
       "      <td>100.00</td>\n",
       "      <td>1101450</td>\n",
       "      <td>Parecis</td>\n",
       "      <td>-12.175400</td>\n",
       "      <td>-61.6032</td>\n",
       "      <td>0</td>\n",
       "      <td>11</td>\n",
       "    </tr>\n",
       "    <tr>\n",
       "      <th>246</th>\n",
       "      <td>171200</td>\n",
       "      <td>1712009</td>\n",
       "      <td>Tocantins</td>\n",
       "      <td>2017</td>\n",
       "      <td>Lajeado</td>\n",
       "      <td>120.0</td>\n",
       "      <td>110.909088</td>\n",
       "      <td>21.889999</td>\n",
       "      <td>78.110001</td>\n",
       "      <td>527.210022</td>\n",
       "      <td>...</td>\n",
       "      <td>18.830000</td>\n",
       "      <td>8.60</td>\n",
       "      <td>80.327866</td>\n",
       "      <td>100.00</td>\n",
       "      <td>1712009</td>\n",
       "      <td>Lajeado</td>\n",
       "      <td>-9.749960</td>\n",
       "      <td>-48.3565</td>\n",
       "      <td>0</td>\n",
       "      <td>17</td>\n",
       "    </tr>\n",
       "    <tr>\n",
       "      <th>296</th>\n",
       "      <td>110120</td>\n",
       "      <td>1101203</td>\n",
       "      <td>Rondônia</td>\n",
       "      <td>2018</td>\n",
       "      <td>Ministro Andreazza</td>\n",
       "      <td>120.0</td>\n",
       "      <td>117.000000</td>\n",
       "      <td>70.309998</td>\n",
       "      <td>29.690001</td>\n",
       "      <td>448.380005</td>\n",
       "      <td>...</td>\n",
       "      <td>20.290001</td>\n",
       "      <td>12.97</td>\n",
       "      <td>73.913040</td>\n",
       "      <td>64.18</td>\n",
       "      <td>1101203</td>\n",
       "      <td>Ministro Andreazza</td>\n",
       "      <td>-11.196000</td>\n",
       "      <td>-61.5174</td>\n",
       "      <td>0</td>\n",
       "      <td>11</td>\n",
       "    </tr>\n",
       "  </tbody>\n",
       "</table>\n",
       "<p>7 rows × 35 columns</p>\n",
       "</div>"
      ],
      "text/plain": [
       "        COD  CODMUN7     Estado   ano                     Nome  \\\n",
       "29   130014  1300144   Amazonas  2016                     Apu¡   \n",
       "45   140023  1400233    Roraima  2016                  Caroebe   \n",
       "84   170388  1703883  Tocantins  2016              Carmolƒndia   \n",
       "136  110050  1100502   Rondônia  2017  Novo Horizonte do Oeste   \n",
       "141  110145  1101450   Rondônia  2017                  Parecis   \n",
       "246  171200  1712009  Tocantins  2017                  Lajeado   \n",
       "296  110120  1101203   Rondônia  2018       Ministro Andreazza   \n",
       "\n",
       "     CV_SCR1 (1 ano)  CV_SCR2 (15 meses)   Poprural     PopUrb        RDPC  \\\n",
       "29             120.0          115.500000  41.160000  58.840000  380.619995   \n",
       "45             120.0          122.959999  59.029999  40.970001  334.970001   \n",
       "84             120.0          153.330002  21.240000  78.760002  382.309998   \n",
       "136            120.0           96.842102  83.080002  16.920000  346.380005   \n",
       "141            120.0          132.000000  63.119999  36.880001  343.730011   \n",
       "246            120.0          110.909088  21.889999  78.110001  527.210022   \n",
       "296            120.0          117.000000  70.309998  29.690001  448.380005   \n",
       "\n",
       "       ...      POPDOMCHEFMULHERES  DENSDEMOG2010  PERC_NV_7CPN  CoberturaAB  \\\n",
       "29     ...               26.139999           0.33     76.779999       100.00   \n",
       "45     ...               24.270000           0.67     51.029999       100.00   \n",
       "84     ...               45.049999           6.82     78.129997       100.00   \n",
       "136    ...               17.889999          12.14     67.032967       100.00   \n",
       "141    ...               15.250000           1.89     72.549019       100.00   \n",
       "246    ...               18.830000           8.60     80.327866       100.00   \n",
       "296    ...               20.290001          12.97     73.913040        64.18   \n",
       "\n",
       "     codigo_ibge                     nome   latitude  longitude  capital  \\\n",
       "29       1300144                     Apuí  -7.194090   -59.8960        0   \n",
       "45       1400233                  Caroebe   0.884203   -59.6959        0   \n",
       "84       1703883              Carmolândia  -7.032620   -48.3978        0   \n",
       "136      1100502  Novo Horizonte do Oeste -11.696100   -61.9951        0   \n",
       "141      1101450                  Parecis -12.175400   -61.6032        0   \n",
       "246      1712009                  Lajeado  -9.749960   -48.3565        0   \n",
       "296      1101203       Ministro Andreazza -11.196000   -61.5174        0   \n",
       "\n",
       "     codigo_uf  \n",
       "29          13  \n",
       "45          14  \n",
       "84          17  \n",
       "136         11  \n",
       "141         11  \n",
       "246         17  \n",
       "296         11  \n",
       "\n",
       "[7 rows x 35 columns]"
      ]
     },
     "execution_count": 94,
     "metadata": {},
     "output_type": "execute_result"
    }
   ],
   "source": [
    "df_maior_vacinacao = df_municipios_1d_ideal.iloc[index2]\n",
    "df_maior_vacinacao\n",
    "#df_maior_vacinacao[\"Nome\"] "
   ]
  },
  {
   "cell_type": "code",
   "execution_count": 95,
   "metadata": {},
   "outputs": [],
   "source": [
    "df_maiores = df_municipios[df_municipios[\"codigo_ibge\"].isin(df_maior_vacinacao[\"CODMUN7\"])]"
   ]
  },
  {
   "cell_type": "code",
   "execution_count": 96,
   "metadata": {},
   "outputs": [
    {
     "data": {
      "text/html": [
       "<div>\n",
       "<style scoped>\n",
       "    .dataframe tbody tr th:only-of-type {\n",
       "        vertical-align: middle;\n",
       "    }\n",
       "\n",
       "    .dataframe tbody tr th {\n",
       "        vertical-align: top;\n",
       "    }\n",
       "\n",
       "    .dataframe thead th {\n",
       "        text-align: right;\n",
       "    }\n",
       "</style>\n",
       "<table border=\"1\" class=\"dataframe\">\n",
       "  <thead>\n",
       "    <tr style=\"text-align: right;\">\n",
       "      <th></th>\n",
       "      <th>codigo_ibge</th>\n",
       "      <th>nome</th>\n",
       "      <th>latitude</th>\n",
       "      <th>longitude</th>\n",
       "      <th>capital</th>\n",
       "      <th>codigo_uf</th>\n",
       "    </tr>\n",
       "  </thead>\n",
       "  <tbody>\n",
       "    <tr>\n",
       "      <th>286</th>\n",
       "      <td>1300144</td>\n",
       "      <td>Apuí</td>\n",
       "      <td>-7.194090</td>\n",
       "      <td>-59.8960</td>\n",
       "      <td>0</td>\n",
       "      <td>13</td>\n",
       "    </tr>\n",
       "    <tr>\n",
       "      <th>1135</th>\n",
       "      <td>1703883</td>\n",
       "      <td>Carmolândia</td>\n",
       "      <td>-7.032620</td>\n",
       "      <td>-48.3978</td>\n",
       "      <td>0</td>\n",
       "      <td>17</td>\n",
       "    </tr>\n",
       "    <tr>\n",
       "      <th>1145</th>\n",
       "      <td>1400233</td>\n",
       "      <td>Caroebe</td>\n",
       "      <td>0.884203</td>\n",
       "      <td>-59.6959</td>\n",
       "      <td>0</td>\n",
       "      <td>14</td>\n",
       "    </tr>\n",
       "    <tr>\n",
       "      <th>2721</th>\n",
       "      <td>1712009</td>\n",
       "      <td>Lajeado</td>\n",
       "      <td>-9.749960</td>\n",
       "      <td>-48.3565</td>\n",
       "      <td>0</td>\n",
       "      <td>17</td>\n",
       "    </tr>\n",
       "    <tr>\n",
       "      <th>3073</th>\n",
       "      <td>1101203</td>\n",
       "      <td>Ministro Andreazza</td>\n",
       "      <td>-11.196000</td>\n",
       "      <td>-61.5174</td>\n",
       "      <td>0</td>\n",
       "      <td>11</td>\n",
       "    </tr>\n",
       "    <tr>\n",
       "      <th>3406</th>\n",
       "      <td>1100502</td>\n",
       "      <td>Novo Horizonte do Oeste</td>\n",
       "      <td>-11.696100</td>\n",
       "      <td>-61.9951</td>\n",
       "      <td>0</td>\n",
       "      <td>11</td>\n",
       "    </tr>\n",
       "    <tr>\n",
       "      <th>3612</th>\n",
       "      <td>1101450</td>\n",
       "      <td>Parecis</td>\n",
       "      <td>-12.175400</td>\n",
       "      <td>-61.6032</td>\n",
       "      <td>0</td>\n",
       "      <td>11</td>\n",
       "    </tr>\n",
       "  </tbody>\n",
       "</table>\n",
       "</div>"
      ],
      "text/plain": [
       "      codigo_ibge                     nome   latitude  longitude  capital  \\\n",
       "286       1300144                     Apuí  -7.194090   -59.8960        0   \n",
       "1135      1703883              Carmolândia  -7.032620   -48.3978        0   \n",
       "1145      1400233                  Caroebe   0.884203   -59.6959        0   \n",
       "2721      1712009                  Lajeado  -9.749960   -48.3565        0   \n",
       "3073      1101203       Ministro Andreazza -11.196000   -61.5174        0   \n",
       "3406      1100502  Novo Horizonte do Oeste -11.696100   -61.9951        0   \n",
       "3612      1101450                  Parecis -12.175400   -61.6032        0   \n",
       "\n",
       "      codigo_uf  \n",
       "286          13  \n",
       "1135         17  \n",
       "1145         14  \n",
       "2721         17  \n",
       "3073         11  \n",
       "3406         11  \n",
       "3612         11  "
      ]
     },
     "execution_count": 96,
     "metadata": {},
     "output_type": "execute_result"
    }
   ],
   "source": [
    "df_maiores"
   ]
  },
  {
   "cell_type": "code",
   "execution_count": 97,
   "metadata": {},
   "outputs": [],
   "source": [
    "#Reinicia o Mapa\n",
    "mapa = folium.Map(location=[-15.788497,-47.879873],zoom_start=\"04\")"
   ]
  },
  {
   "cell_type": "code",
   "execution_count": 98,
   "metadata": {},
   "outputs": [
    {
     "data": {
      "text/html": [
       "<div style=\"width:100%;\"><div style=\"position:relative;width:100%;height:0;padding-bottom:60%;\"><span style=\"color:#565656\">Make this Notebook Trusted to load map: File -> Trust Notebook</span><iframe src=\"about:blank\" style=\"position:absolute;width:100%;height:100%;left:0;top:0;border:none !important;\" data-html=%3C%21DOCTYPE%20html%3E%0A%3Chead%3E%20%20%20%20%0A%20%20%20%20%3Cmeta%20http-equiv%3D%22content-type%22%20content%3D%22text/html%3B%20charset%3DUTF-8%22%20/%3E%0A%20%20%20%20%0A%20%20%20%20%20%20%20%20%3Cscript%3E%0A%20%20%20%20%20%20%20%20%20%20%20%20L_NO_TOUCH%20%3D%20false%3B%0A%20%20%20%20%20%20%20%20%20%20%20%20L_DISABLE_3D%20%3D%20false%3B%0A%20%20%20%20%20%20%20%20%3C/script%3E%0A%20%20%20%20%0A%20%20%20%20%3Cstyle%3Ehtml%2C%20body%20%7Bwidth%3A%20100%25%3Bheight%3A%20100%25%3Bmargin%3A%200%3Bpadding%3A%200%3B%7D%3C/style%3E%0A%20%20%20%20%3Cstyle%3E%23map%20%7Bposition%3Aabsolute%3Btop%3A0%3Bbottom%3A0%3Bright%3A0%3Bleft%3A0%3B%7D%3C/style%3E%0A%20%20%20%20%3Cscript%20src%3D%22https%3A//cdn.jsdelivr.net/npm/leaflet%401.6.0/dist/leaflet.js%22%3E%3C/script%3E%0A%20%20%20%20%3Cscript%20src%3D%22https%3A//code.jquery.com/jquery-1.12.4.min.js%22%3E%3C/script%3E%0A%20%20%20%20%3Cscript%20src%3D%22https%3A//maxcdn.bootstrapcdn.com/bootstrap/3.2.0/js/bootstrap.min.js%22%3E%3C/script%3E%0A%20%20%20%20%3Cscript%20src%3D%22https%3A//cdnjs.cloudflare.com/ajax/libs/Leaflet.awesome-markers/2.0.2/leaflet.awesome-markers.js%22%3E%3C/script%3E%0A%20%20%20%20%3Clink%20rel%3D%22stylesheet%22%20href%3D%22https%3A//cdn.jsdelivr.net/npm/leaflet%401.6.0/dist/leaflet.css%22/%3E%0A%20%20%20%20%3Clink%20rel%3D%22stylesheet%22%20href%3D%22https%3A//maxcdn.bootstrapcdn.com/bootstrap/3.2.0/css/bootstrap.min.css%22/%3E%0A%20%20%20%20%3Clink%20rel%3D%22stylesheet%22%20href%3D%22https%3A//maxcdn.bootstrapcdn.com/bootstrap/3.2.0/css/bootstrap-theme.min.css%22/%3E%0A%20%20%20%20%3Clink%20rel%3D%22stylesheet%22%20href%3D%22https%3A//maxcdn.bootstrapcdn.com/font-awesome/4.6.3/css/font-awesome.min.css%22/%3E%0A%20%20%20%20%3Clink%20rel%3D%22stylesheet%22%20href%3D%22https%3A//cdnjs.cloudflare.com/ajax/libs/Leaflet.awesome-markers/2.0.2/leaflet.awesome-markers.css%22/%3E%0A%20%20%20%20%3Clink%20rel%3D%22stylesheet%22%20href%3D%22https%3A//cdn.jsdelivr.net/gh/python-visualization/folium/folium/templates/leaflet.awesome.rotate.min.css%22/%3E%0A%20%20%20%20%0A%20%20%20%20%20%20%20%20%20%20%20%20%3Cmeta%20name%3D%22viewport%22%20content%3D%22width%3Ddevice-width%2C%0A%20%20%20%20%20%20%20%20%20%20%20%20%20%20%20%20initial-scale%3D1.0%2C%20maximum-scale%3D1.0%2C%20user-scalable%3Dno%22%20/%3E%0A%20%20%20%20%20%20%20%20%20%20%20%20%3Cstyle%3E%0A%20%20%20%20%20%20%20%20%20%20%20%20%20%20%20%20%23map_f9ff7610cf4841088cb63c0fcb6a9043%20%7B%0A%20%20%20%20%20%20%20%20%20%20%20%20%20%20%20%20%20%20%20%20position%3A%20relative%3B%0A%20%20%20%20%20%20%20%20%20%20%20%20%20%20%20%20%20%20%20%20width%3A%20100.0%25%3B%0A%20%20%20%20%20%20%20%20%20%20%20%20%20%20%20%20%20%20%20%20height%3A%20100.0%25%3B%0A%20%20%20%20%20%20%20%20%20%20%20%20%20%20%20%20%20%20%20%20left%3A%200.0%25%3B%0A%20%20%20%20%20%20%20%20%20%20%20%20%20%20%20%20%20%20%20%20top%3A%200.0%25%3B%0A%20%20%20%20%20%20%20%20%20%20%20%20%20%20%20%20%7D%0A%20%20%20%20%20%20%20%20%20%20%20%20%3C/style%3E%0A%20%20%20%20%20%20%20%20%0A%3C/head%3E%0A%3Cbody%3E%20%20%20%20%0A%20%20%20%20%0A%20%20%20%20%20%20%20%20%20%20%20%20%3Cdiv%20class%3D%22folium-map%22%20id%3D%22map_f9ff7610cf4841088cb63c0fcb6a9043%22%20%3E%3C/div%3E%0A%20%20%20%20%20%20%20%20%0A%3C/body%3E%0A%3Cscript%3E%20%20%20%20%0A%20%20%20%20%0A%20%20%20%20%20%20%20%20%20%20%20%20var%20map_f9ff7610cf4841088cb63c0fcb6a9043%20%3D%20L.map%28%0A%20%20%20%20%20%20%20%20%20%20%20%20%20%20%20%20%22map_f9ff7610cf4841088cb63c0fcb6a9043%22%2C%0A%20%20%20%20%20%20%20%20%20%20%20%20%20%20%20%20%7B%0A%20%20%20%20%20%20%20%20%20%20%20%20%20%20%20%20%20%20%20%20center%3A%20%5B-15.788497%2C%20-47.879873%5D%2C%0A%20%20%20%20%20%20%20%20%20%20%20%20%20%20%20%20%20%20%20%20crs%3A%20L.CRS.EPSG3857%2C%0A%20%20%20%20%20%20%20%20%20%20%20%20%20%20%20%20%20%20%20%20zoom%3A%20%2204%22%2C%0A%20%20%20%20%20%20%20%20%20%20%20%20%20%20%20%20%20%20%20%20zoomControl%3A%20true%2C%0A%20%20%20%20%20%20%20%20%20%20%20%20%20%20%20%20%20%20%20%20preferCanvas%3A%20false%2C%0A%20%20%20%20%20%20%20%20%20%20%20%20%20%20%20%20%7D%0A%20%20%20%20%20%20%20%20%20%20%20%20%29%3B%0A%0A%20%20%20%20%20%20%20%20%20%20%20%20%0A%0A%20%20%20%20%20%20%20%20%0A%20%20%20%20%0A%20%20%20%20%20%20%20%20%20%20%20%20var%20tile_layer_a8bc0001745d45c9859f15228c337cd3%20%3D%20L.tileLayer%28%0A%20%20%20%20%20%20%20%20%20%20%20%20%20%20%20%20%22https%3A//%7Bs%7D.tile.openstreetmap.org/%7Bz%7D/%7Bx%7D/%7By%7D.png%22%2C%0A%20%20%20%20%20%20%20%20%20%20%20%20%20%20%20%20%7B%22attribution%22%3A%20%22Data%20by%20%5Cu0026copy%3B%20%5Cu003ca%20href%3D%5C%22http%3A//openstreetmap.org%5C%22%5Cu003eOpenStreetMap%5Cu003c/a%5Cu003e%2C%20under%20%5Cu003ca%20href%3D%5C%22http%3A//www.openstreetmap.org/copyright%5C%22%5Cu003eODbL%5Cu003c/a%5Cu003e.%22%2C%20%22detectRetina%22%3A%20false%2C%20%22maxNativeZoom%22%3A%2018%2C%20%22maxZoom%22%3A%2018%2C%20%22minZoom%22%3A%200%2C%20%22noWrap%22%3A%20false%2C%20%22opacity%22%3A%201%2C%20%22subdomains%22%3A%20%22abc%22%2C%20%22tms%22%3A%20false%7D%0A%20%20%20%20%20%20%20%20%20%20%20%20%29.addTo%28map_f9ff7610cf4841088cb63c0fcb6a9043%29%3B%0A%20%20%20%20%20%20%20%20%0A%20%20%20%20%0A%20%20%20%20%20%20%20%20%20%20%20%20var%20marker_854bd4f7f8584167be2df1970c5cb2b2%20%3D%20L.marker%28%0A%20%20%20%20%20%20%20%20%20%20%20%20%20%20%20%20%5B-7.194089999999999%2C%20-59.896%5D%2C%0A%20%20%20%20%20%20%20%20%20%20%20%20%20%20%20%20%7B%7D%0A%20%20%20%20%20%20%20%20%20%20%20%20%29.addTo%28map_f9ff7610cf4841088cb63c0fcb6a9043%29%3B%0A%20%20%20%20%20%20%20%20%0A%20%20%20%20%0A%20%20%20%20%20%20%20%20%20%20%20%20var%20marker_f1c10340d8734a1490012f77deb2b41b%20%3D%20L.marker%28%0A%20%20%20%20%20%20%20%20%20%20%20%20%20%20%20%20%5B-7.03262%2C%20-48.3978%5D%2C%0A%20%20%20%20%20%20%20%20%20%20%20%20%20%20%20%20%7B%7D%0A%20%20%20%20%20%20%20%20%20%20%20%20%29.addTo%28map_f9ff7610cf4841088cb63c0fcb6a9043%29%3B%0A%20%20%20%20%20%20%20%20%0A%20%20%20%20%0A%20%20%20%20%20%20%20%20%20%20%20%20var%20marker_c74069834d654e98bccf3b177f47a7b1%20%3D%20L.marker%28%0A%20%20%20%20%20%20%20%20%20%20%20%20%20%20%20%20%5B0.8842030000000001%2C%20-59.6959%5D%2C%0A%20%20%20%20%20%20%20%20%20%20%20%20%20%20%20%20%7B%7D%0A%20%20%20%20%20%20%20%20%20%20%20%20%29.addTo%28map_f9ff7610cf4841088cb63c0fcb6a9043%29%3B%0A%20%20%20%20%20%20%20%20%0A%20%20%20%20%0A%20%20%20%20%20%20%20%20%20%20%20%20var%20marker_700f2bfc9f0e4d7ba3bce4dd4190c240%20%3D%20L.marker%28%0A%20%20%20%20%20%20%20%20%20%20%20%20%20%20%20%20%5B-9.74996%2C%20-48.3565%5D%2C%0A%20%20%20%20%20%20%20%20%20%20%20%20%20%20%20%20%7B%7D%0A%20%20%20%20%20%20%20%20%20%20%20%20%29.addTo%28map_f9ff7610cf4841088cb63c0fcb6a9043%29%3B%0A%20%20%20%20%20%20%20%20%0A%20%20%20%20%0A%20%20%20%20%20%20%20%20%20%20%20%20var%20marker_8f30e1ef646c4e96a5e1d7ef99b1704c%20%3D%20L.marker%28%0A%20%20%20%20%20%20%20%20%20%20%20%20%20%20%20%20%5B-11.196%2C%20-61.5174%5D%2C%0A%20%20%20%20%20%20%20%20%20%20%20%20%20%20%20%20%7B%7D%0A%20%20%20%20%20%20%20%20%20%20%20%20%29.addTo%28map_f9ff7610cf4841088cb63c0fcb6a9043%29%3B%0A%20%20%20%20%20%20%20%20%0A%20%20%20%20%0A%20%20%20%20%20%20%20%20%20%20%20%20var%20marker_d29fc6bafb564253b5a84230b58940b0%20%3D%20L.marker%28%0A%20%20%20%20%20%20%20%20%20%20%20%20%20%20%20%20%5B-11.6961%2C%20-61.9951%5D%2C%0A%20%20%20%20%20%20%20%20%20%20%20%20%20%20%20%20%7B%7D%0A%20%20%20%20%20%20%20%20%20%20%20%20%29.addTo%28map_f9ff7610cf4841088cb63c0fcb6a9043%29%3B%0A%20%20%20%20%20%20%20%20%0A%20%20%20%20%0A%20%20%20%20%20%20%20%20%20%20%20%20var%20marker_1651a242ec714ac4a53de65ca22c977f%20%3D%20L.marker%28%0A%20%20%20%20%20%20%20%20%20%20%20%20%20%20%20%20%5B-12.1754%2C%20-61.6032%5D%2C%0A%20%20%20%20%20%20%20%20%20%20%20%20%20%20%20%20%7B%7D%0A%20%20%20%20%20%20%20%20%20%20%20%20%29.addTo%28map_f9ff7610cf4841088cb63c0fcb6a9043%29%3B%0A%20%20%20%20%20%20%20%20%0A%3C/script%3E onload=\"this.contentDocument.open();this.contentDocument.write(    decodeURIComponent(this.getAttribute('data-html')));this.contentDocument.close();\" allowfullscreen webkitallowfullscreen mozallowfullscreen></iframe></div></div>"
      ],
      "text/plain": [
       "<folium.folium.Map at 0x7fe581408ac8>"
      ]
     },
     "execution_count": 98,
     "metadata": {},
     "output_type": "execute_result"
    }
   ],
   "source": [
    "# Extraindo as coordenadas\n",
    "for lat,lng in zip(df_maiores.latitude.values,df_maiores.longitude.values):\n",
    "     folium.Marker([lat, lng]).add_to(mapa)\n",
    "mapa"
   ]
  }
 ],
 "metadata": {
  "kernelspec": {
   "display_name": "Python 3",
   "language": "python",
   "name": "python3"
  },
  "language_info": {
   "codemirror_mode": {
    "name": "ipython",
    "version": 3
   },
   "file_extension": ".py",
   "mimetype": "text/x-python",
   "name": "python",
   "nbconvert_exporter": "python",
   "pygments_lexer": "ipython3",
   "version": "3.7.1"
  }
 },
 "nbformat": 4,
 "nbformat_minor": 2
}
