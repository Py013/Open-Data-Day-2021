{
 "cells": [
  {
   "cell_type": "code",
   "execution_count": 9,
   "metadata": {},
   "outputs": [
    {
     "name": "stdout",
     "output_type": "stream",
     "text": [
      "Olá\n"
     ]
    }
   ],
   "source": [
    "print(\"Olá\")"
   ]
  },
  {
   "cell_type": "markdown",
   "metadata": {},
   "source": [
    "![](py013.png)\n",
    "# <font>Modelo para a análise do DataSet de Vacinas</font>\n",
    "### <font>Observatório das Vacinas</font>\n",
    "![](logo_observatorio.png)\n",
    "<hr>"
   ]
  },
  {
   "cell_type": "markdown",
   "metadata": {},
   "source": [
    "### 1 - Carregando as bibliotecas para uso"
   ]
  },
  {
   "cell_type": "code",
   "execution_count": 10,
   "metadata": {},
   "outputs": [],
   "source": [
    "#Import de bibliotecas\n",
    "\n",
    "#Pandas (Analise de Dados)\n",
    "import pandas as pd \n",
    "\n",
    "#Numpy (Computação Científica)\n",
    "import numpy as np\n",
    "pd.set_option('display.float_format', lambda x: '%.2f' % x)\n",
    "\n",
    "#Matplotlib (Data Visualization)\n",
    "import matplotlib as mpl\n",
    "import matplotlib.pyplot as plt\n",
    "%matplotlib inline"
   ]
  },
  {
   "cell_type": "markdown",
   "metadata": {},
   "source": [
    "### 2 - Informar a pasta (diretório) corrente"
   ]
  },
  {
   "cell_type": "code",
   "execution_count": 3,
   "metadata": {},
   "outputs": [
    {
     "data": {
      "text/plain": [
       "'C:\\\\Users\\\\f07784494831\\\\Altair_Py013\\\\workshop_jupyter\\\\Agora_Estou_Aqui'"
      ]
     },
     "execution_count": 3,
     "metadata": {},
     "output_type": "execute_result"
    }
   ],
   "source": [
    "# Informa qual o diretório corrente\n",
    "%pwd"
   ]
  },
  {
   "cell_type": "markdown",
   "metadata": {},
   "source": [
    "### 3 - \"Setar' a pasta (diretório) de trabalho"
   ]
  },
  {
   "cell_type": "code",
   "execution_count": 75,
   "metadata": {},
   "outputs": [
    {
     "name": "stdout",
     "output_type": "stream",
     "text": [
      "C:\\Users\\f07784494831\\Altair_Py013\\workshop_jupyter\\Agora_Estou_Aqui\n"
     ]
    }
   ],
   "source": [
    "# \"Seta\" o diretório alvo para trabalhar ou buscar dados\n",
    "# Inclua aqui qual a pasta que sua base de dados estará\n",
    "%cd C:\\\\Users\\\\f07784494831\\\\Altair_Py013\\\\workshop_jupyter\\Agora_Estou_Aqui \n"
   ]
  },
  {
   "cell_type": "markdown",
   "metadata": {},
   "source": [
    "### 4 - Carregando os dados para os nossos exemplos"
   ]
  },
  {
   "cell_type": "code",
   "execution_count": 85,
   "metadata": {},
   "outputs": [],
   "source": [
    "#Carrega dados no dataset inicial \n",
    "df_vacinas = pd.read_csv('Vacinas_banco.csv', sep = ';', encoding = 'latin-1', low_memory=False)\n"
   ]
  },
  {
   "cell_type": "code",
   "execution_count": 77,
   "metadata": {},
   "outputs": [
    {
     "data": {
      "text/plain": [
       "(1350, 29)"
      ]
     },
     "execution_count": 77,
     "metadata": {},
     "output_type": "execute_result"
    }
   ],
   "source": [
    "#Tamanho do dataset\n",
    "df_vacinas.shape"
   ]
  },
  {
   "cell_type": "code",
   "execution_count": 78,
   "metadata": {},
   "outputs": [
    {
     "data": {
      "text/plain": [
       "COD                    int64\n",
       "CODMUN7               object\n",
       "Estado                object\n",
       "ano                    int64\n",
       "Nome                  object\n",
       "CV_SCR1 (1 ano)       object\n",
       "CV_SCR2 (15 meses)    object\n",
       "Poprural              object\n",
       "PopUrb                object\n",
       "RDPC                  object\n",
       "PEA                   object\n",
       "PEA_A                 object\n",
       "IDHM                  object\n",
       "IDHM_E                object\n",
       "IDHM_L                object\n",
       "IDHM_R                object\n",
       "T_ANALF18M            object\n",
       "T_MED18M              object\n",
       "T_SUPER25M            object\n",
       "T_AGUA                object\n",
       "T_BANAGUA             object\n",
       "T_DENS                object\n",
       "T_LIXO                object\n",
       "T_LUZ                 object\n",
       "AGUA_ESGOTO           object\n",
       "POPDOMCHEFMULHERES    object\n",
       "DENSDEMOG2010         object\n",
       "PERC_NV_7CPN          object\n",
       "CoberturaAB           object\n",
       "dtype: object"
      ]
     },
     "execution_count": 78,
     "metadata": {},
     "output_type": "execute_result"
    }
   ],
   "source": [
    "#Verifica a tipo das colunas do dataframe\n",
    "df_vacinas.dtypes"
   ]
  },
  {
   "cell_type": "code",
   "execution_count": 62,
   "metadata": {},
   "outputs": [
    {
     "data": {
      "text/html": [
       "<div>\n",
       "<style scoped>\n",
       "    .dataframe tbody tr th:only-of-type {\n",
       "        vertical-align: middle;\n",
       "    }\n",
       "\n",
       "    .dataframe tbody tr th {\n",
       "        vertical-align: top;\n",
       "    }\n",
       "\n",
       "    .dataframe thead th {\n",
       "        text-align: right;\n",
       "    }\n",
       "</style>\n",
       "<table border=\"1\" class=\"dataframe\">\n",
       "  <thead>\n",
       "    <tr style=\"text-align: right;\">\n",
       "      <th></th>\n",
       "      <th>COD</th>\n",
       "      <th>CODMUN7</th>\n",
       "      <th>Estado</th>\n",
       "      <th>ano</th>\n",
       "      <th>Nome</th>\n",
       "      <th>CV_SCR1 (1 ano)</th>\n",
       "      <th>CV_SCR2 (15 meses)</th>\n",
       "      <th>Poprural</th>\n",
       "      <th>PopUrb</th>\n",
       "      <th>RDPC</th>\n",
       "      <th>...</th>\n",
       "      <th>T_AGUA</th>\n",
       "      <th>T_BANAGUA</th>\n",
       "      <th>T_DENS</th>\n",
       "      <th>T_LIXO</th>\n",
       "      <th>T_LUZ</th>\n",
       "      <th>AGUA_ESGOTO</th>\n",
       "      <th>POPDOMCHEFMULHERES</th>\n",
       "      <th>DENSDEMOG2010</th>\n",
       "      <th>PERC_NV_7CPN</th>\n",
       "      <th>CoberturaAB</th>\n",
       "    </tr>\n",
       "  </thead>\n",
       "  <tbody>\n",
       "    <tr>\n",
       "      <th>0</th>\n",
       "      <td>110001</td>\n",
       "      <td>1100015</td>\n",
       "      <td>Rondonia</td>\n",
       "      <td>2016</td>\n",
       "      <td>Alta Floresta D'Oeste</td>\n",
       "      <td>96,45</td>\n",
       "      <td>92,08</td>\n",
       "      <td>42,73</td>\n",
       "      <td>57,27</td>\n",
       "      <td>476,99</td>\n",
       "      <td>...</td>\n",
       "      <td>93,69</td>\n",
       "      <td>80,2</td>\n",
       "      <td>22,58</td>\n",
       "      <td>94,05</td>\n",
       "      <td>93,98</td>\n",
       "      <td>9,31</td>\n",
       "      <td>26,92</td>\n",
       "      <td>3,45</td>\n",
       "      <td>67,18</td>\n",
       "      <td>80,93</td>\n",
       "    </tr>\n",
       "    <tr>\n",
       "      <th>1</th>\n",
       "      <td>110002</td>\n",
       "      <td>1100023</td>\n",
       "      <td>Rondonia</td>\n",
       "      <td>2016</td>\n",
       "      <td>Ariquemes</td>\n",
       "      <td>98,92</td>\n",
       "      <td>89,52</td>\n",
       "      <td>15,3</td>\n",
       "      <td>84,7</td>\n",
       "      <td>689,95</td>\n",
       "      <td>...</td>\n",
       "      <td>98,54</td>\n",
       "      <td>85,35</td>\n",
       "      <td>27,15</td>\n",
       "      <td>96,72</td>\n",
       "      <td>98,58</td>\n",
       "      <td>11,4</td>\n",
       "      <td>32,63</td>\n",
       "      <td>20,41</td>\n",
       "      <td>72,62</td>\n",
       "      <td>61,92</td>\n",
       "    </tr>\n",
       "    <tr>\n",
       "      <th>2</th>\n",
       "      <td>110003</td>\n",
       "      <td>1100031</td>\n",
       "      <td>Rondonia</td>\n",
       "      <td>2016</td>\n",
       "      <td>Cabixi</td>\n",
       "      <td>109,64</td>\n",
       "      <td>77,11</td>\n",
       "      <td>57,34</td>\n",
       "      <td>42,66</td>\n",
       "      <td>457,17</td>\n",
       "      <td>...</td>\n",
       "      <td>95,49</td>\n",
       "      <td>91,63</td>\n",
       "      <td>19,93</td>\n",
       "      <td>99,14</td>\n",
       "      <td>96,36</td>\n",
       "      <td>3,31</td>\n",
       "      <td>16,42</td>\n",
       "      <td>4,8</td>\n",
       "      <td>65,75</td>\n",
       "      <td>100</td>\n",
       "    </tr>\n",
       "    <tr>\n",
       "      <th>3</th>\n",
       "      <td>110004</td>\n",
       "      <td>1100049</td>\n",
       "      <td>Rondonia</td>\n",
       "      <td>2016</td>\n",
       "      <td>Cacoal</td>\n",
       "      <td>99,18</td>\n",
       "      <td>82,32</td>\n",
       "      <td>21,19</td>\n",
       "      <td>78,81</td>\n",
       "      <td>738,06</td>\n",
       "      <td>...</td>\n",
       "      <td>97,96</td>\n",
       "      <td>93,44</td>\n",
       "      <td>20,5</td>\n",
       "      <td>98,17</td>\n",
       "      <td>98,89</td>\n",
       "      <td>1,85</td>\n",
       "      <td>31,73</td>\n",
       "      <td>20,72</td>\n",
       "      <td>74,59</td>\n",
       "      <td>71,19</td>\n",
       "    </tr>\n",
       "    <tr>\n",
       "      <th>4</th>\n",
       "      <td>110005</td>\n",
       "      <td>1100056</td>\n",
       "      <td>Rondonia</td>\n",
       "      <td>2016</td>\n",
       "      <td>Cerejeiras</td>\n",
       "      <td>99,28</td>\n",
       "      <td>85,51</td>\n",
       "      <td>15,33</td>\n",
       "      <td>84,67</td>\n",
       "      <td>577,18</td>\n",
       "      <td>...</td>\n",
       "      <td>97,53</td>\n",
       "      <td>86,87</td>\n",
       "      <td>16,66</td>\n",
       "      <td>91,89</td>\n",
       "      <td>98,85</td>\n",
       "      <td>5,34</td>\n",
       "      <td>39,97</td>\n",
       "      <td>6,12</td>\n",
       "      <td>76,81</td>\n",
       "      <td>95,91</td>\n",
       "    </tr>\n",
       "    <tr>\n",
       "      <th>5</th>\n",
       "      <td>110006</td>\n",
       "      <td>1100064</td>\n",
       "      <td>Rondonia</td>\n",
       "      <td>2016</td>\n",
       "      <td>Colorado do Oeste</td>\n",
       "      <td>134,94</td>\n",
       "      <td>100,8</td>\n",
       "      <td>26,54</td>\n",
       "      <td>73,46</td>\n",
       "      <td>535,41</td>\n",
       "      <td>...</td>\n",
       "      <td>95,54</td>\n",
       "      <td>93,89</td>\n",
       "      <td>14,73</td>\n",
       "      <td>92,79</td>\n",
       "      <td>97,76</td>\n",
       "      <td>2,99</td>\n",
       "      <td>31,36</td>\n",
       "      <td>12,81</td>\n",
       "      <td>81,17</td>\n",
       "      <td>91,67</td>\n",
       "    </tr>\n",
       "    <tr>\n",
       "      <th>6</th>\n",
       "      <td>110007</td>\n",
       "      <td>1100072</td>\n",
       "      <td>Rondonia</td>\n",
       "      <td>2016</td>\n",
       "      <td>Corumbiara</td>\n",
       "      <td>119,82</td>\n",
       "      <td>110,81</td>\n",
       "      <td>70,51</td>\n",
       "      <td>29,49</td>\n",
       "      <td>402,15</td>\n",
       "      <td>...</td>\n",
       "      <td>93,24</td>\n",
       "      <td>86,43</td>\n",
       "      <td>14,46</td>\n",
       "      <td>90,19</td>\n",
       "      <td>97,81</td>\n",
       "      <td>6,31</td>\n",
       "      <td>16,46</td>\n",
       "      <td>2,87</td>\n",
       "      <td>69,06</td>\n",
       "      <td>100</td>\n",
       "    </tr>\n",
       "    <tr>\n",
       "      <th>7</th>\n",
       "      <td>110008</td>\n",
       "      <td>1100080</td>\n",
       "      <td>Rondonia</td>\n",
       "      <td>2016</td>\n",
       "      <td>Costa Marques</td>\n",
       "      <td>122,69</td>\n",
       "      <td>113,03</td>\n",
       "      <td>45,19</td>\n",
       "      <td>54,81</td>\n",
       "      <td>370,77</td>\n",
       "      <td>...</td>\n",
       "      <td>95,67</td>\n",
       "      <td>54,32</td>\n",
       "      <td>36,18</td>\n",
       "      <td>79,35</td>\n",
       "      <td>90,13</td>\n",
       "      <td>36,41</td>\n",
       "      <td>31,36</td>\n",
       "      <td>2,74</td>\n",
       "      <td>62,44</td>\n",
       "      <td>65,4</td>\n",
       "    </tr>\n",
       "    <tr>\n",
       "      <th>8</th>\n",
       "      <td>110009</td>\n",
       "      <td>1100098</td>\n",
       "      <td>Rondonia</td>\n",
       "      <td>2016</td>\n",
       "      <td>Espigao D'Oeste</td>\n",
       "      <td>89,07</td>\n",
       "      <td>92,59</td>\n",
       "      <td>28,26</td>\n",
       "      <td>71,74</td>\n",
       "      <td>590,8</td>\n",
       "      <td>...</td>\n",
       "      <td>93,7</td>\n",
       "      <td>84,71</td>\n",
       "      <td>19,97</td>\n",
       "      <td>91,07</td>\n",
       "      <td>96,7</td>\n",
       "      <td>7,66</td>\n",
       "      <td>33,4</td>\n",
       "      <td>6,36</td>\n",
       "      <td>63,58</td>\n",
       "      <td>74,57</td>\n",
       "    </tr>\n",
       "    <tr>\n",
       "      <th>9</th>\n",
       "      <td>110010</td>\n",
       "      <td>1100106</td>\n",
       "      <td>Rondonia</td>\n",
       "      <td>2016</td>\n",
       "      <td>Guajara Mirim</td>\n",
       "      <td>119,02</td>\n",
       "      <td>70,31</td>\n",
       "      <td>15,48</td>\n",
       "      <td>84,52</td>\n",
       "      <td>494,69</td>\n",
       "      <td>...</td>\n",
       "      <td>93,26</td>\n",
       "      <td>49,32</td>\n",
       "      <td>43,4</td>\n",
       "      <td>90,41</td>\n",
       "      <td>97,71</td>\n",
       "      <td>36,84</td>\n",
       "      <td>38,35</td>\n",
       "      <td>1,68</td>\n",
       "      <td>35,29</td>\n",
       "      <td>81,38</td>\n",
       "    </tr>\n",
       "  </tbody>\n",
       "</table>\n",
       "<p>10 rows × 29 columns</p>\n",
       "</div>"
      ],
      "text/plain": [
       "      COD  CODMUN7    Estado   ano                   Nome CV_SCR1 (1 ano)  \\\n",
       "0  110001  1100015  Rondonia  2016  Alta Floresta D'Oeste           96,45   \n",
       "1  110002  1100023  Rondonia  2016              Ariquemes           98,92   \n",
       "2  110003  1100031  Rondonia  2016                 Cabixi          109,64   \n",
       "3  110004  1100049  Rondonia  2016                 Cacoal           99,18   \n",
       "4  110005  1100056  Rondonia  2016             Cerejeiras           99,28   \n",
       "5  110006  1100064  Rondonia  2016      Colorado do Oeste          134,94   \n",
       "6  110007  1100072  Rondonia  2016             Corumbiara          119,82   \n",
       "7  110008  1100080  Rondonia  2016          Costa Marques          122,69   \n",
       "8  110009  1100098  Rondonia  2016        Espigao D'Oeste           89,07   \n",
       "9  110010  1100106  Rondonia  2016          Guajara Mirim          119,02   \n",
       "\n",
       "  CV_SCR2 (15 meses) Poprural PopUrb    RDPC     ...     T_AGUA T_BANAGUA  \\\n",
       "0              92,08    42,73  57,27  476,99     ...      93,69      80,2   \n",
       "1              89,52     15,3   84,7  689,95     ...      98,54     85,35   \n",
       "2              77,11    57,34  42,66  457,17     ...      95,49     91,63   \n",
       "3              82,32    21,19  78,81  738,06     ...      97,96     93,44   \n",
       "4              85,51    15,33  84,67  577,18     ...      97,53     86,87   \n",
       "5              100,8    26,54  73,46  535,41     ...      95,54     93,89   \n",
       "6             110,81    70,51  29,49  402,15     ...      93,24     86,43   \n",
       "7             113,03    45,19  54,81  370,77     ...      95,67     54,32   \n",
       "8              92,59    28,26  71,74   590,8     ...       93,7     84,71   \n",
       "9              70,31    15,48  84,52  494,69     ...      93,26     49,32   \n",
       "\n",
       "  T_DENS T_LIXO  T_LUZ AGUA_ESGOTO POPDOMCHEFMULHERES DENSDEMOG2010  \\\n",
       "0  22,58  94,05  93,98        9,31              26,92          3,45   \n",
       "1  27,15  96,72  98,58        11,4              32,63         20,41   \n",
       "2  19,93  99,14  96,36        3,31              16,42           4,8   \n",
       "3   20,5  98,17  98,89        1,85              31,73         20,72   \n",
       "4  16,66  91,89  98,85        5,34              39,97          6,12   \n",
       "5  14,73  92,79  97,76        2,99              31,36         12,81   \n",
       "6  14,46  90,19  97,81        6,31              16,46          2,87   \n",
       "7  36,18  79,35  90,13       36,41              31,36          2,74   \n",
       "8  19,97  91,07   96,7        7,66               33,4          6,36   \n",
       "9   43,4  90,41  97,71       36,84              38,35          1,68   \n",
       "\n",
       "  PERC_NV_7CPN CoberturaAB  \n",
       "0        67,18       80,93  \n",
       "1        72,62       61,92  \n",
       "2        65,75         100  \n",
       "3        74,59       71,19  \n",
       "4        76,81       95,91  \n",
       "5        81,17       91,67  \n",
       "6        69,06         100  \n",
       "7        62,44        65,4  \n",
       "8        63,58       74,57  \n",
       "9        35,29       81,38  \n",
       "\n",
       "[10 rows x 29 columns]"
      ]
     },
     "execution_count": 62,
     "metadata": {},
     "output_type": "execute_result"
    }
   ],
   "source": [
    "df_vacinas.head(10)"
   ]
  },
  {
   "cell_type": "code",
   "execution_count": 63,
   "metadata": {
    "collapsed": true,
    "jupyter": {
     "outputs_hidden": true
    }
   },
   "outputs": [
    {
     "data": {
      "text/html": [
       "<div>\n",
       "<style scoped>\n",
       "    .dataframe tbody tr th:only-of-type {\n",
       "        vertical-align: middle;\n",
       "    }\n",
       "\n",
       "    .dataframe tbody tr th {\n",
       "        vertical-align: top;\n",
       "    }\n",
       "\n",
       "    .dataframe thead th {\n",
       "        text-align: right;\n",
       "    }\n",
       "</style>\n",
       "<table border=\"1\" class=\"dataframe\">\n",
       "  <thead>\n",
       "    <tr style=\"text-align: right;\">\n",
       "      <th></th>\n",
       "      <th>COD</th>\n",
       "      <th>CODMUN7</th>\n",
       "      <th>Estado</th>\n",
       "      <th>ano</th>\n",
       "      <th>Nome</th>\n",
       "      <th>CV_SCR1 (1 ano)</th>\n",
       "      <th>CV_SCR2 (15 meses)</th>\n",
       "      <th>Poprural</th>\n",
       "      <th>PopUrb</th>\n",
       "      <th>RDPC</th>\n",
       "      <th>...</th>\n",
       "      <th>T_AGUA</th>\n",
       "      <th>T_BANAGUA</th>\n",
       "      <th>T_DENS</th>\n",
       "      <th>T_LIXO</th>\n",
       "      <th>T_LUZ</th>\n",
       "      <th>AGUA_ESGOTO</th>\n",
       "      <th>POPDOMCHEFMULHERES</th>\n",
       "      <th>DENSDEMOG2010</th>\n",
       "      <th>PERC_NV_7CPN</th>\n",
       "      <th>CoberturaAB</th>\n",
       "    </tr>\n",
       "  </thead>\n",
       "  <tbody>\n",
       "    <tr>\n",
       "      <th>0</th>\n",
       "      <td>110001</td>\n",
       "      <td>1100015</td>\n",
       "      <td>Rondonia</td>\n",
       "      <td>2016</td>\n",
       "      <td>Alta Floresta D'Oeste</td>\n",
       "      <td>96,45</td>\n",
       "      <td>92,08</td>\n",
       "      <td>42,73</td>\n",
       "      <td>57,27</td>\n",
       "      <td>476,99</td>\n",
       "      <td>...</td>\n",
       "      <td>93,69</td>\n",
       "      <td>80,2</td>\n",
       "      <td>22,58</td>\n",
       "      <td>94,05</td>\n",
       "      <td>93,98</td>\n",
       "      <td>9,31</td>\n",
       "      <td>26,92</td>\n",
       "      <td>3,45</td>\n",
       "      <td>67,18</td>\n",
       "      <td>80,93</td>\n",
       "    </tr>\n",
       "    <tr>\n",
       "      <th>1</th>\n",
       "      <td>110002</td>\n",
       "      <td>1100023</td>\n",
       "      <td>Rondonia</td>\n",
       "      <td>2016</td>\n",
       "      <td>Ariquemes</td>\n",
       "      <td>98,92</td>\n",
       "      <td>89,52</td>\n",
       "      <td>15,3</td>\n",
       "      <td>84,7</td>\n",
       "      <td>689,95</td>\n",
       "      <td>...</td>\n",
       "      <td>98,54</td>\n",
       "      <td>85,35</td>\n",
       "      <td>27,15</td>\n",
       "      <td>96,72</td>\n",
       "      <td>98,58</td>\n",
       "      <td>11,4</td>\n",
       "      <td>32,63</td>\n",
       "      <td>20,41</td>\n",
       "      <td>72,62</td>\n",
       "      <td>61,92</td>\n",
       "    </tr>\n",
       "    <tr>\n",
       "      <th>2</th>\n",
       "      <td>110003</td>\n",
       "      <td>1100031</td>\n",
       "      <td>Rondonia</td>\n",
       "      <td>2016</td>\n",
       "      <td>Cabixi</td>\n",
       "      <td>109,64</td>\n",
       "      <td>77,11</td>\n",
       "      <td>57,34</td>\n",
       "      <td>42,66</td>\n",
       "      <td>457,17</td>\n",
       "      <td>...</td>\n",
       "      <td>95,49</td>\n",
       "      <td>91,63</td>\n",
       "      <td>19,93</td>\n",
       "      <td>99,14</td>\n",
       "      <td>96,36</td>\n",
       "      <td>3,31</td>\n",
       "      <td>16,42</td>\n",
       "      <td>4,8</td>\n",
       "      <td>65,75</td>\n",
       "      <td>100</td>\n",
       "    </tr>\n",
       "    <tr>\n",
       "      <th>3</th>\n",
       "      <td>110004</td>\n",
       "      <td>1100049</td>\n",
       "      <td>Rondonia</td>\n",
       "      <td>2016</td>\n",
       "      <td>Cacoal</td>\n",
       "      <td>99,18</td>\n",
       "      <td>82,32</td>\n",
       "      <td>21,19</td>\n",
       "      <td>78,81</td>\n",
       "      <td>738,06</td>\n",
       "      <td>...</td>\n",
       "      <td>97,96</td>\n",
       "      <td>93,44</td>\n",
       "      <td>20,5</td>\n",
       "      <td>98,17</td>\n",
       "      <td>98,89</td>\n",
       "      <td>1,85</td>\n",
       "      <td>31,73</td>\n",
       "      <td>20,72</td>\n",
       "      <td>74,59</td>\n",
       "      <td>71,19</td>\n",
       "    </tr>\n",
       "    <tr>\n",
       "      <th>4</th>\n",
       "      <td>110005</td>\n",
       "      <td>1100056</td>\n",
       "      <td>Rondonia</td>\n",
       "      <td>2016</td>\n",
       "      <td>Cerejeiras</td>\n",
       "      <td>99,28</td>\n",
       "      <td>85,51</td>\n",
       "      <td>15,33</td>\n",
       "      <td>84,67</td>\n",
       "      <td>577,18</td>\n",
       "      <td>...</td>\n",
       "      <td>97,53</td>\n",
       "      <td>86,87</td>\n",
       "      <td>16,66</td>\n",
       "      <td>91,89</td>\n",
       "      <td>98,85</td>\n",
       "      <td>5,34</td>\n",
       "      <td>39,97</td>\n",
       "      <td>6,12</td>\n",
       "      <td>76,81</td>\n",
       "      <td>95,91</td>\n",
       "    </tr>\n",
       "  </tbody>\n",
       "</table>\n",
       "<p>5 rows × 29 columns</p>\n",
       "</div>"
      ],
      "text/plain": [
       "      COD  CODMUN7    Estado   ano                   Nome CV_SCR1 (1 ano)  \\\n",
       "0  110001  1100015  Rondonia  2016  Alta Floresta D'Oeste           96,45   \n",
       "1  110002  1100023  Rondonia  2016              Ariquemes           98,92   \n",
       "2  110003  1100031  Rondonia  2016                 Cabixi          109,64   \n",
       "3  110004  1100049  Rondonia  2016                 Cacoal           99,18   \n",
       "4  110005  1100056  Rondonia  2016             Cerejeiras           99,28   \n",
       "\n",
       "  CV_SCR2 (15 meses) Poprural PopUrb    RDPC     ...     T_AGUA T_BANAGUA  \\\n",
       "0              92,08    42,73  57,27  476,99     ...      93,69      80,2   \n",
       "1              89,52     15,3   84,7  689,95     ...      98,54     85,35   \n",
       "2              77,11    57,34  42,66  457,17     ...      95,49     91,63   \n",
       "3              82,32    21,19  78,81  738,06     ...      97,96     93,44   \n",
       "4              85,51    15,33  84,67  577,18     ...      97,53     86,87   \n",
       "\n",
       "  T_DENS T_LIXO  T_LUZ AGUA_ESGOTO POPDOMCHEFMULHERES DENSDEMOG2010  \\\n",
       "0  22,58  94,05  93,98        9,31              26,92          3,45   \n",
       "1  27,15  96,72  98,58        11,4              32,63         20,41   \n",
       "2  19,93  99,14  96,36        3,31              16,42           4,8   \n",
       "3   20,5  98,17  98,89        1,85              31,73         20,72   \n",
       "4  16,66  91,89  98,85        5,34              39,97          6,12   \n",
       "\n",
       "  PERC_NV_7CPN CoberturaAB  \n",
       "0        67,18       80,93  \n",
       "1        72,62       61,92  \n",
       "2        65,75         100  \n",
       "3        74,59       71,19  \n",
       "4        76,81       95,91  \n",
       "\n",
       "[5 rows x 29 columns]"
      ]
     },
     "execution_count": 63,
     "metadata": {},
     "output_type": "execute_result"
    }
   ],
   "source": [
    "df_vacinas.head()"
   ]
  },
  {
   "cell_type": "markdown",
   "metadata": {},
   "source": [
    "### 5 - Conhecendo os dados"
   ]
  },
  {
   "cell_type": "code",
   "execution_count": 64,
   "metadata": {},
   "outputs": [
    {
     "data": {
      "text/plain": [
       "COD                   1350\n",
       "CODMUN7               1350\n",
       "Estado                1350\n",
       "ano                   1350\n",
       "Nome                  1350\n",
       "CV_SCR1 (1 ano)       1350\n",
       "CV_SCR2 (15 meses)    1350\n",
       "Poprural              1350\n",
       "PopUrb                1350\n",
       "RDPC                  1350\n",
       "PEA                   1350\n",
       "PEA_A                 1350\n",
       "IDHM                  1350\n",
       "IDHM_E                1350\n",
       "IDHM_L                1350\n",
       "IDHM_R                1350\n",
       "T_ANALF18M            1350\n",
       "T_MED18M              1350\n",
       "T_SUPER25M            1350\n",
       "T_AGUA                1350\n",
       "T_BANAGUA             1350\n",
       "T_DENS                1350\n",
       "T_LIXO                1350\n",
       "T_LUZ                 1350\n",
       "AGUA_ESGOTO           1350\n",
       "POPDOMCHEFMULHERES    1350\n",
       "DENSDEMOG2010         1350\n",
       "PERC_NV_7CPN          1349\n",
       "CoberturaAB           1350\n",
       "dtype: int64"
      ]
     },
     "execution_count": 64,
     "metadata": {},
     "output_type": "execute_result"
    }
   ],
   "source": [
    "#Número de ocorrências por coluna\n",
    "df_vacinas.count()"
   ]
  },
  {
   "cell_type": "code",
   "execution_count": 65,
   "metadata": {},
   "outputs": [
    {
     "data": {
      "text/plain": [
       "True"
      ]
     },
     "execution_count": 65,
     "metadata": {},
     "output_type": "execute_result"
    }
   ],
   "source": [
    "#Verificar se há valores nulos em uma coluna \n",
    "df_vacinas.PERC_NV_7CPN.isnull().values.any()"
   ]
  },
  {
   "cell_type": "code",
   "execution_count": 66,
   "metadata": {},
   "outputs": [
    {
     "data": {
      "text/plain": [
       "1"
      ]
     },
     "execution_count": 66,
     "metadata": {},
     "output_type": "execute_result"
    }
   ],
   "source": [
    "#Quantidade de valores nulos\n",
    "df_vacinas.PERC_NV_7CPN.isnull().sum()"
   ]
  },
  {
   "cell_type": "code",
   "execution_count": 67,
   "metadata": {},
   "outputs": [],
   "source": [
    "#Remover as colunas que não serão usadas para análises.\n",
    "df_vacinas_novo = df_vacinas\n",
    "# df_vacinas_novo = df_vacinas.drop([\"T_ANALF18M\", \"CoberturaAB\"], axis=1)\n"
   ]
  },
  {
   "cell_type": "code",
   "execution_count": 68,
   "metadata": {},
   "outputs": [
    {
     "data": {
      "text/plain": [
       "COD                    int64\n",
       "CODMUN7               object\n",
       "Estado                object\n",
       "ano                    int64\n",
       "Nome                  object\n",
       "CV_SCR1 (1 ano)       object\n",
       "CV_SCR2 (15 meses)    object\n",
       "Poprural              object\n",
       "PopUrb                object\n",
       "RDPC                  object\n",
       "PEA                   object\n",
       "PEA_A                 object\n",
       "IDHM                  object\n",
       "IDHM_E                object\n",
       "IDHM_L                object\n",
       "IDHM_R                object\n",
       "T_ANALF18M            object\n",
       "T_MED18M              object\n",
       "T_SUPER25M            object\n",
       "T_AGUA                object\n",
       "T_BANAGUA             object\n",
       "T_DENS                object\n",
       "T_LIXO                object\n",
       "T_LUZ                 object\n",
       "AGUA_ESGOTO           object\n",
       "POPDOMCHEFMULHERES    object\n",
       "DENSDEMOG2010         object\n",
       "PERC_NV_7CPN          object\n",
       "CoberturaAB           object\n",
       "dtype: object"
      ]
     },
     "execution_count": 68,
     "metadata": {},
     "output_type": "execute_result"
    }
   ],
   "source": [
    "#Verifica a tipo das colunas do dataframe\n",
    "df_vacinas_novo.dtypes"
   ]
  },
  {
   "cell_type": "code",
   "execution_count": 69,
   "metadata": {},
   "outputs": [
    {
     "data": {
      "text/plain": [
       "(1350, 29)"
      ]
     },
     "execution_count": 69,
     "metadata": {},
     "output_type": "execute_result"
    }
   ],
   "source": [
    "df_vacinas_novo.shape"
   ]
  },
  {
   "cell_type": "code",
   "execution_count": 70,
   "metadata": {},
   "outputs": [
    {
     "data": {
      "text/plain": [
       "COD                   float64\n",
       "CODMUN7                object\n",
       "Estado                 object\n",
       "ano                     int64\n",
       "Nome                   object\n",
       "CV_SCR1 (1 ano)        object\n",
       "CV_SCR2 (15 meses)     object\n",
       "Poprural               object\n",
       "PopUrb                 object\n",
       "RDPC                   object\n",
       "PEA                    object\n",
       "PEA_A                  object\n",
       "IDHM                   object\n",
       "IDHM_E                 object\n",
       "IDHM_L                 object\n",
       "IDHM_R                 object\n",
       "T_ANALF18M             object\n",
       "T_MED18M               object\n",
       "T_SUPER25M             object\n",
       "T_AGUA                 object\n",
       "T_BANAGUA              object\n",
       "T_DENS                 object\n",
       "T_LIXO                 object\n",
       "T_LUZ                  object\n",
       "AGUA_ESGOTO            object\n",
       "POPDOMCHEFMULHERES     object\n",
       "DENSDEMOG2010          object\n",
       "PERC_NV_7CPN           object\n",
       "CoberturaAB            object\n",
       "dtype: object"
      ]
     },
     "execution_count": 70,
     "metadata": {},
     "output_type": "execute_result"
    }
   ],
   "source": [
    "#Converter a coluna para o tipo object\n",
    "# df_vacinas_novo['ano'] = df_vacinas_novo['ano'].astype(int)\n",
    "# df_vacinas_novo['COD'] = df_vacinas_novo['COD'].astype('object')\n",
    "\n",
    "df_vacinas_novo['COD'] = df_vacinas_novo['COD'].astype(float)\n",
    "df_vacinas_novo.dtypes"
   ]
  },
  {
   "cell_type": "code",
   "execution_count": 71,
   "metadata": {},
   "outputs": [
    {
     "data": {
      "text/html": [
       "<div>\n",
       "<style scoped>\n",
       "    .dataframe tbody tr th:only-of-type {\n",
       "        vertical-align: middle;\n",
       "    }\n",
       "\n",
       "    .dataframe tbody tr th {\n",
       "        vertical-align: top;\n",
       "    }\n",
       "\n",
       "    .dataframe thead th {\n",
       "        text-align: right;\n",
       "    }\n",
       "</style>\n",
       "<table border=\"1\" class=\"dataframe\">\n",
       "  <thead>\n",
       "    <tr style=\"text-align: right;\">\n",
       "      <th></th>\n",
       "      <th>COD</th>\n",
       "      <th>CODMUN7</th>\n",
       "      <th>Estado</th>\n",
       "      <th>ano</th>\n",
       "      <th>Nome</th>\n",
       "      <th>CV_SCR1 (1 ano)</th>\n",
       "      <th>CV_SCR2 (15 meses)</th>\n",
       "      <th>Poprural</th>\n",
       "      <th>PopUrb</th>\n",
       "      <th>RDPC</th>\n",
       "      <th>...</th>\n",
       "      <th>T_AGUA</th>\n",
       "      <th>T_BANAGUA</th>\n",
       "      <th>T_DENS</th>\n",
       "      <th>T_LIXO</th>\n",
       "      <th>T_LUZ</th>\n",
       "      <th>AGUA_ESGOTO</th>\n",
       "      <th>POPDOMCHEFMULHERES</th>\n",
       "      <th>DENSDEMOG2010</th>\n",
       "      <th>PERC_NV_7CPN</th>\n",
       "      <th>CoberturaAB</th>\n",
       "    </tr>\n",
       "  </thead>\n",
       "  <tbody>\n",
       "    <tr>\n",
       "      <th>0</th>\n",
       "      <td>110001.00</td>\n",
       "      <td>1100015</td>\n",
       "      <td>Rondonia</td>\n",
       "      <td>2016</td>\n",
       "      <td>Alta Floresta D'Oeste</td>\n",
       "      <td>96,45</td>\n",
       "      <td>92,08</td>\n",
       "      <td>42,73</td>\n",
       "      <td>57,27</td>\n",
       "      <td>476,99</td>\n",
       "      <td>...</td>\n",
       "      <td>93,69</td>\n",
       "      <td>80,2</td>\n",
       "      <td>22,58</td>\n",
       "      <td>94,05</td>\n",
       "      <td>93,98</td>\n",
       "      <td>9,31</td>\n",
       "      <td>26,92</td>\n",
       "      <td>3,45</td>\n",
       "      <td>67,18</td>\n",
       "      <td>80,93</td>\n",
       "    </tr>\n",
       "    <tr>\n",
       "      <th>1</th>\n",
       "      <td>110002.00</td>\n",
       "      <td>1100023</td>\n",
       "      <td>Rondonia</td>\n",
       "      <td>2016</td>\n",
       "      <td>Ariquemes</td>\n",
       "      <td>98,92</td>\n",
       "      <td>89,52</td>\n",
       "      <td>15,3</td>\n",
       "      <td>84,7</td>\n",
       "      <td>689,95</td>\n",
       "      <td>...</td>\n",
       "      <td>98,54</td>\n",
       "      <td>85,35</td>\n",
       "      <td>27,15</td>\n",
       "      <td>96,72</td>\n",
       "      <td>98,58</td>\n",
       "      <td>11,4</td>\n",
       "      <td>32,63</td>\n",
       "      <td>20,41</td>\n",
       "      <td>72,62</td>\n",
       "      <td>61,92</td>\n",
       "    </tr>\n",
       "    <tr>\n",
       "      <th>2</th>\n",
       "      <td>110003.00</td>\n",
       "      <td>1100031</td>\n",
       "      <td>Rondonia</td>\n",
       "      <td>2016</td>\n",
       "      <td>Cabixi</td>\n",
       "      <td>109,64</td>\n",
       "      <td>77,11</td>\n",
       "      <td>57,34</td>\n",
       "      <td>42,66</td>\n",
       "      <td>457,17</td>\n",
       "      <td>...</td>\n",
       "      <td>95,49</td>\n",
       "      <td>91,63</td>\n",
       "      <td>19,93</td>\n",
       "      <td>99,14</td>\n",
       "      <td>96,36</td>\n",
       "      <td>3,31</td>\n",
       "      <td>16,42</td>\n",
       "      <td>4,8</td>\n",
       "      <td>65,75</td>\n",
       "      <td>100</td>\n",
       "    </tr>\n",
       "  </tbody>\n",
       "</table>\n",
       "<p>3 rows × 29 columns</p>\n",
       "</div>"
      ],
      "text/plain": [
       "        COD  CODMUN7    Estado   ano                   Nome CV_SCR1 (1 ano)  \\\n",
       "0 110001.00  1100015  Rondonia  2016  Alta Floresta D'Oeste           96,45   \n",
       "1 110002.00  1100023  Rondonia  2016              Ariquemes           98,92   \n",
       "2 110003.00  1100031  Rondonia  2016                 Cabixi          109,64   \n",
       "\n",
       "  CV_SCR2 (15 meses) Poprural PopUrb    RDPC     ...     T_AGUA T_BANAGUA  \\\n",
       "0              92,08    42,73  57,27  476,99     ...      93,69      80,2   \n",
       "1              89,52     15,3   84,7  689,95     ...      98,54     85,35   \n",
       "2              77,11    57,34  42,66  457,17     ...      95,49     91,63   \n",
       "\n",
       "  T_DENS T_LIXO  T_LUZ AGUA_ESGOTO POPDOMCHEFMULHERES DENSDEMOG2010  \\\n",
       "0  22,58  94,05  93,98        9,31              26,92          3,45   \n",
       "1  27,15  96,72  98,58        11,4              32,63         20,41   \n",
       "2  19,93  99,14  96,36        3,31              16,42           4,8   \n",
       "\n",
       "  PERC_NV_7CPN CoberturaAB  \n",
       "0        67,18       80,93  \n",
       "1        72,62       61,92  \n",
       "2        65,75         100  \n",
       "\n",
       "[3 rows x 29 columns]"
      ]
     },
     "execution_count": 71,
     "metadata": {},
     "output_type": "execute_result"
    }
   ],
   "source": [
    "df_vacinas_novo.head(3)"
   ]
  },
  {
   "cell_type": "markdown",
   "metadata": {},
   "source": [
    "### 6 - Análises dos dados"
   ]
  },
  {
   "cell_type": "code",
   "execution_count": 83,
   "metadata": {},
   "outputs": [
    {
     "data": {
      "text/plain": [
       "Estado\n",
       "Para         432\n",
       "Tocantins    417\n",
       "amazonas     186\n",
       "Rondonia     156\n",
       "acre          66\n",
       "Amapa         48\n",
       "Roraima       45\n",
       "dtype: int64"
      ]
     },
     "execution_count": 83,
     "metadata": {},
     "output_type": "execute_result"
    }
   ],
   "source": [
    "# Quantidade de dados por estado\n",
    "df_vacinas_UF = df_vacinas_novo.groupby(['Estado'])\n",
    "total_UF = df_vacinas_UF.size()\n",
    "total_UF.sort_values(ascending = False)"
   ]
  },
  {
   "cell_type": "code",
   "execution_count": 11,
   "metadata": {},
   "outputs": [
    {
     "ename": "NameError",
     "evalue": "name 'df_vacinas_novo' is not defined",
     "output_type": "error",
     "traceback": [
      "\u001b[1;31m---------------------------------------------------------------------------\u001b[0m",
      "\u001b[1;31mNameError\u001b[0m                                 Traceback (most recent call last)",
      "\u001b[1;32m<ipython-input-11-0319c9167d24>\u001b[0m in \u001b[0;36m<module>\u001b[1;34m()\u001b[0m\n\u001b[0;32m      1\u001b[0m \u001b[1;31m# Quantidade de dados por estado\u001b[0m\u001b[1;33m\u001b[0m\u001b[1;33m\u001b[0m\u001b[0m\n\u001b[1;32m----> 2\u001b[1;33m \u001b[0mdf_vacinas_cidade\u001b[0m \u001b[1;33m=\u001b[0m \u001b[0mdf_vacinas_novo\u001b[0m\u001b[1;33m.\u001b[0m\u001b[0mgroupby\u001b[0m\u001b[1;33m(\u001b[0m\u001b[1;33m[\u001b[0m\u001b[1;34m'Nome'\u001b[0m\u001b[1;33m]\u001b[0m\u001b[1;33m)\u001b[0m\u001b[1;33m\u001b[0m\u001b[0m\n\u001b[0m\u001b[0;32m      3\u001b[0m \u001b[0mtotal_cidade\u001b[0m \u001b[1;33m=\u001b[0m \u001b[0mdf_vacinas_cidade\u001b[0m\u001b[1;33m.\u001b[0m\u001b[0msize\u001b[0m\u001b[1;33m(\u001b[0m\u001b[1;33m)\u001b[0m\u001b[1;33m\u001b[0m\u001b[0m\n\u001b[0;32m      4\u001b[0m \u001b[0mdf_vacinas_novo\u001b[0m\u001b[1;33m,\u001b[0m \u001b[0mtotal_cidade\u001b[0m\u001b[1;33m.\u001b[0m\u001b[0msort_values\u001b[0m\u001b[1;33m(\u001b[0m\u001b[0mascending\u001b[0m \u001b[1;33m=\u001b[0m \u001b[1;32mFalse\u001b[0m\u001b[1;33m)\u001b[0m\u001b[1;33m\u001b[0m\u001b[0m\n",
      "\u001b[1;31mNameError\u001b[0m: name 'df_vacinas_novo' is not defined"
     ]
    }
   ],
   "source": [
    "# Quantidade de dados por estado\n",
    "df_vacinas_cidade = df_vacinas_novo.groupby(['Nome'])\n",
    "total_cidade = df_vacinas_cidade.size()\n",
    "df_vacinas_novo, total_cidade.sort_values(ascending = False)"
   ]
  },
  {
   "cell_type": "code",
   "execution_count": 87,
   "metadata": {},
   "outputs": [
    {
     "data": {
      "text/plain": [
       "(7, 'estados')"
      ]
     },
     "execution_count": 87,
     "metadata": {},
     "output_type": "execute_result"
    }
   ],
   "source": [
    "# Quantidade de estados na base de dados\n",
    "len(df_vacinas_UF.groups), \"estados\"\n"
   ]
  }
 ],
 "metadata": {
  "kernelspec": {
   "display_name": "Python 3",
   "language": "python",
   "name": "python3"
  },
  "language_info": {
   "codemirror_mode": {
    "name": "ipython",
    "version": 3
   },
   "file_extension": ".py",
   "mimetype": "text/x-python",
   "name": "python",
   "nbconvert_exporter": "python",
   "pygments_lexer": "ipython3",
   "version": "3.7.0"
  }
 },
 "nbformat": 4,
 "nbformat_minor": 4
}
